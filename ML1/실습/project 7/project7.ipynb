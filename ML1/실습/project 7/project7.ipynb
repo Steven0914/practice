{
 "cells": [
  {
   "cell_type": "code",
   "execution_count": 28,
   "id": "initial_id",
   "metadata": {
    "collapsed": true,
    "ExecuteTime": {
     "end_time": "2024-02-01T09:50:19.645418Z",
     "start_time": "2024-02-01T09:50:19.634874Z"
    }
   },
   "outputs": [],
   "source": [
    "import numpy as np\n",
    "import pandas as pd\n",
    "import matplotlib.pyplot as plt\n",
    "import seaborn as sns"
   ]
  },
  {
   "cell_type": "code",
   "outputs": [
    {
     "data": {
      "text/plain": "                 business_id        date               review_id  stars  \\\n0     9yKzy9PApeiPPOUJEtnvkg  2011-01-26  fWKvX83p0-ka4JS3dc6E5A      5   \n1     ZRJwVLyzEJq1VAihDhYiow  2011-07-27  IjZ33sJrzXqU-0X6U8NwyA      5   \n2     6oRAC4uyJCsJl1X0WZpVSA  2012-06-14  IESLBzqUCLdSzSqm0eCSxQ      4   \n3     _1QQZuf4zZOyFCvXc0o6Vg  2010-05-27  G-WvGaISbqqaMHlNnByodA      5   \n4     6ozycU1RpktNG2-1BroVtw  2012-01-05  1uJFq2r5QfJG_6ExMRCaGw      5   \n...                      ...         ...                     ...    ...   \n9995  VY_tvNUCCXGXQeSvJl757Q  2012-07-28  Ubyfp2RSDYW0g7Mbr8N3iA      3   \n9996  EKzMHI1tip8rC1-ZAy64yg  2012-01-18  2XyIOQKbVFb6uXQdJ0RzlQ      4   \n9997  53YGfwmbW73JhFiemNeyzQ  2010-11-16  jyznYkIbpqVmlsZxSDSypA      4   \n9998  9SKdOoDHcFoxK5ZtsgHJoA  2012-12-02  5UKq9WQE1qQbJ0DJbc-B6Q      2   \n9999  pF7uRzygyZsltbmVpjIyvw  2010-10-16  vWSmOhg2ID1MNZHaWapGbA      5   \n\n                                                   text    type  \\\n0     My wife took me here on my birthday for breakf...  review   \n1     I have no idea why some people give bad review...  review   \n2     love the gyro plate. Rice is so good and I als...  review   \n3     Rosie, Dakota, and I LOVE Chaparral Dog Park!!...  review   \n4     General Manager Scott Petello is a good egg!!!...  review   \n...                                                 ...     ...   \n9995  First visit...Had lunch here today - used my G...  review   \n9996  Should be called house of deliciousness!\\n\\nI ...  review   \n9997  I recently visited Olive and Ivy for business ...  review   \n9998  My nephew just moved to Scottsdale recently so...  review   \n9999  4-5 locations.. all 4.5 star average.. I think...  review   \n\n                     user_id  cool  useful  funny  \n0     rLtl8ZkDX5vH5nAx9C3q5Q     2       5      0  \n1     0a2KyEL0d3Yb1V6aivbIuQ     0       0      0  \n2     0hT2KtfLiobPvh6cDC8JQg     0       1      0  \n3     uZetl9T0NcROGOyFfughhg     1       2      0  \n4     vYmM4KTsC8ZfQBg-j5MWkw     0       0      0  \n...                      ...   ...     ...    ...  \n9995  _eqQoPtQ3e3UxLE4faT6ow     1       2      0  \n9996  ROru4uk5SaYc3rg8IU7SQw     0       0      0  \n9997  gGbN1aKQHMgfQZkqlsuwzg     0       0      0  \n9998  0lyVoNazXa20WzUyZPLaQQ     0       0      0  \n9999  KSBFytcdjPKZgXKQnYQdkA     0       0      0  \n\n[10000 rows x 10 columns]",
      "text/html": "<div>\n<style scoped>\n    .dataframe tbody tr th:only-of-type {\n        vertical-align: middle;\n    }\n\n    .dataframe tbody tr th {\n        vertical-align: top;\n    }\n\n    .dataframe thead th {\n        text-align: right;\n    }\n</style>\n<table border=\"1\" class=\"dataframe\">\n  <thead>\n    <tr style=\"text-align: right;\">\n      <th></th>\n      <th>business_id</th>\n      <th>date</th>\n      <th>review_id</th>\n      <th>stars</th>\n      <th>text</th>\n      <th>type</th>\n      <th>user_id</th>\n      <th>cool</th>\n      <th>useful</th>\n      <th>funny</th>\n    </tr>\n  </thead>\n  <tbody>\n    <tr>\n      <th>0</th>\n      <td>9yKzy9PApeiPPOUJEtnvkg</td>\n      <td>2011-01-26</td>\n      <td>fWKvX83p0-ka4JS3dc6E5A</td>\n      <td>5</td>\n      <td>My wife took me here on my birthday for breakf...</td>\n      <td>review</td>\n      <td>rLtl8ZkDX5vH5nAx9C3q5Q</td>\n      <td>2</td>\n      <td>5</td>\n      <td>0</td>\n    </tr>\n    <tr>\n      <th>1</th>\n      <td>ZRJwVLyzEJq1VAihDhYiow</td>\n      <td>2011-07-27</td>\n      <td>IjZ33sJrzXqU-0X6U8NwyA</td>\n      <td>5</td>\n      <td>I have no idea why some people give bad review...</td>\n      <td>review</td>\n      <td>0a2KyEL0d3Yb1V6aivbIuQ</td>\n      <td>0</td>\n      <td>0</td>\n      <td>0</td>\n    </tr>\n    <tr>\n      <th>2</th>\n      <td>6oRAC4uyJCsJl1X0WZpVSA</td>\n      <td>2012-06-14</td>\n      <td>IESLBzqUCLdSzSqm0eCSxQ</td>\n      <td>4</td>\n      <td>love the gyro plate. Rice is so good and I als...</td>\n      <td>review</td>\n      <td>0hT2KtfLiobPvh6cDC8JQg</td>\n      <td>0</td>\n      <td>1</td>\n      <td>0</td>\n    </tr>\n    <tr>\n      <th>3</th>\n      <td>_1QQZuf4zZOyFCvXc0o6Vg</td>\n      <td>2010-05-27</td>\n      <td>G-WvGaISbqqaMHlNnByodA</td>\n      <td>5</td>\n      <td>Rosie, Dakota, and I LOVE Chaparral Dog Park!!...</td>\n      <td>review</td>\n      <td>uZetl9T0NcROGOyFfughhg</td>\n      <td>1</td>\n      <td>2</td>\n      <td>0</td>\n    </tr>\n    <tr>\n      <th>4</th>\n      <td>6ozycU1RpktNG2-1BroVtw</td>\n      <td>2012-01-05</td>\n      <td>1uJFq2r5QfJG_6ExMRCaGw</td>\n      <td>5</td>\n      <td>General Manager Scott Petello is a good egg!!!...</td>\n      <td>review</td>\n      <td>vYmM4KTsC8ZfQBg-j5MWkw</td>\n      <td>0</td>\n      <td>0</td>\n      <td>0</td>\n    </tr>\n    <tr>\n      <th>...</th>\n      <td>...</td>\n      <td>...</td>\n      <td>...</td>\n      <td>...</td>\n      <td>...</td>\n      <td>...</td>\n      <td>...</td>\n      <td>...</td>\n      <td>...</td>\n      <td>...</td>\n    </tr>\n    <tr>\n      <th>9995</th>\n      <td>VY_tvNUCCXGXQeSvJl757Q</td>\n      <td>2012-07-28</td>\n      <td>Ubyfp2RSDYW0g7Mbr8N3iA</td>\n      <td>3</td>\n      <td>First visit...Had lunch here today - used my G...</td>\n      <td>review</td>\n      <td>_eqQoPtQ3e3UxLE4faT6ow</td>\n      <td>1</td>\n      <td>2</td>\n      <td>0</td>\n    </tr>\n    <tr>\n      <th>9996</th>\n      <td>EKzMHI1tip8rC1-ZAy64yg</td>\n      <td>2012-01-18</td>\n      <td>2XyIOQKbVFb6uXQdJ0RzlQ</td>\n      <td>4</td>\n      <td>Should be called house of deliciousness!\\n\\nI ...</td>\n      <td>review</td>\n      <td>ROru4uk5SaYc3rg8IU7SQw</td>\n      <td>0</td>\n      <td>0</td>\n      <td>0</td>\n    </tr>\n    <tr>\n      <th>9997</th>\n      <td>53YGfwmbW73JhFiemNeyzQ</td>\n      <td>2010-11-16</td>\n      <td>jyznYkIbpqVmlsZxSDSypA</td>\n      <td>4</td>\n      <td>I recently visited Olive and Ivy for business ...</td>\n      <td>review</td>\n      <td>gGbN1aKQHMgfQZkqlsuwzg</td>\n      <td>0</td>\n      <td>0</td>\n      <td>0</td>\n    </tr>\n    <tr>\n      <th>9998</th>\n      <td>9SKdOoDHcFoxK5ZtsgHJoA</td>\n      <td>2012-12-02</td>\n      <td>5UKq9WQE1qQbJ0DJbc-B6Q</td>\n      <td>2</td>\n      <td>My nephew just moved to Scottsdale recently so...</td>\n      <td>review</td>\n      <td>0lyVoNazXa20WzUyZPLaQQ</td>\n      <td>0</td>\n      <td>0</td>\n      <td>0</td>\n    </tr>\n    <tr>\n      <th>9999</th>\n      <td>pF7uRzygyZsltbmVpjIyvw</td>\n      <td>2010-10-16</td>\n      <td>vWSmOhg2ID1MNZHaWapGbA</td>\n      <td>5</td>\n      <td>4-5 locations.. all 4.5 star average.. I think...</td>\n      <td>review</td>\n      <td>KSBFytcdjPKZgXKQnYQdkA</td>\n      <td>0</td>\n      <td>0</td>\n      <td>0</td>\n    </tr>\n  </tbody>\n</table>\n<p>10000 rows × 10 columns</p>\n</div>"
     },
     "execution_count": 29,
     "metadata": {},
     "output_type": "execute_result"
    }
   ],
   "source": [
    "yelp_df = pd.read_csv('yelp.csv')\n",
    "yelp_df"
   ],
   "metadata": {
    "collapsed": false,
    "ExecuteTime": {
     "end_time": "2024-02-01T09:50:19.739678Z",
     "start_time": "2024-02-01T09:50:19.639877Z"
    }
   },
   "id": "3351497cbbe98e45",
   "execution_count": 29
  },
  {
   "cell_type": "code",
   "outputs": [
    {
     "data": {
      "text/plain": "              stars          cool        useful         funny\ncount  10000.000000  10000.000000  10000.000000  10000.000000\nmean       3.777500      0.876800      1.409300      0.701300\nstd        1.214636      2.067861      2.336647      1.907942\nmin        1.000000      0.000000      0.000000      0.000000\n25%        3.000000      0.000000      0.000000      0.000000\n50%        4.000000      0.000000      1.000000      0.000000\n75%        5.000000      1.000000      2.000000      1.000000\nmax        5.000000     77.000000     76.000000     57.000000",
      "text/html": "<div>\n<style scoped>\n    .dataframe tbody tr th:only-of-type {\n        vertical-align: middle;\n    }\n\n    .dataframe tbody tr th {\n        vertical-align: top;\n    }\n\n    .dataframe thead th {\n        text-align: right;\n    }\n</style>\n<table border=\"1\" class=\"dataframe\">\n  <thead>\n    <tr style=\"text-align: right;\">\n      <th></th>\n      <th>stars</th>\n      <th>cool</th>\n      <th>useful</th>\n      <th>funny</th>\n    </tr>\n  </thead>\n  <tbody>\n    <tr>\n      <th>count</th>\n      <td>10000.000000</td>\n      <td>10000.000000</td>\n      <td>10000.000000</td>\n      <td>10000.000000</td>\n    </tr>\n    <tr>\n      <th>mean</th>\n      <td>3.777500</td>\n      <td>0.876800</td>\n      <td>1.409300</td>\n      <td>0.701300</td>\n    </tr>\n    <tr>\n      <th>std</th>\n      <td>1.214636</td>\n      <td>2.067861</td>\n      <td>2.336647</td>\n      <td>1.907942</td>\n    </tr>\n    <tr>\n      <th>min</th>\n      <td>1.000000</td>\n      <td>0.000000</td>\n      <td>0.000000</td>\n      <td>0.000000</td>\n    </tr>\n    <tr>\n      <th>25%</th>\n      <td>3.000000</td>\n      <td>0.000000</td>\n      <td>0.000000</td>\n      <td>0.000000</td>\n    </tr>\n    <tr>\n      <th>50%</th>\n      <td>4.000000</td>\n      <td>0.000000</td>\n      <td>1.000000</td>\n      <td>0.000000</td>\n    </tr>\n    <tr>\n      <th>75%</th>\n      <td>5.000000</td>\n      <td>1.000000</td>\n      <td>2.000000</td>\n      <td>1.000000</td>\n    </tr>\n    <tr>\n      <th>max</th>\n      <td>5.000000</td>\n      <td>77.000000</td>\n      <td>76.000000</td>\n      <td>57.000000</td>\n    </tr>\n  </tbody>\n</table>\n</div>"
     },
     "execution_count": 30,
     "metadata": {},
     "output_type": "execute_result"
    }
   ],
   "source": [
    "yelp_df.describe()"
   ],
   "metadata": {
    "collapsed": false,
    "ExecuteTime": {
     "end_time": "2024-02-01T09:50:19.773777Z",
     "start_time": "2024-02-01T09:50:19.743331Z"
    }
   },
   "id": "40be2fa11e44bfd",
   "execution_count": 30
  },
  {
   "cell_type": "code",
   "outputs": [
    {
     "name": "stdout",
     "output_type": "stream",
     "text": [
      "<class 'pandas.core.frame.DataFrame'>\n",
      "RangeIndex: 10000 entries, 0 to 9999\n",
      "Data columns (total 10 columns):\n",
      " #   Column       Non-Null Count  Dtype \n",
      "---  ------       --------------  ----- \n",
      " 0   business_id  10000 non-null  object\n",
      " 1   date         10000 non-null  object\n",
      " 2   review_id    10000 non-null  object\n",
      " 3   stars        10000 non-null  int64 \n",
      " 4   text         10000 non-null  object\n",
      " 5   type         10000 non-null  object\n",
      " 6   user_id      10000 non-null  object\n",
      " 7   cool         10000 non-null  int64 \n",
      " 8   useful       10000 non-null  int64 \n",
      " 9   funny        10000 non-null  int64 \n",
      "dtypes: int64(4), object(6)\n",
      "memory usage: 781.4+ KB\n"
     ]
    }
   ],
   "source": [
    "yelp_df.info() # null 값이 없음"
   ],
   "metadata": {
    "collapsed": false,
    "ExecuteTime": {
     "end_time": "2024-02-01T09:50:19.817015Z",
     "start_time": "2024-02-01T09:50:19.759031Z"
    }
   },
   "id": "743ffd21eb3c8502",
   "execution_count": 31
  },
  {
   "cell_type": "code",
   "outputs": [
    {
     "data": {
      "text/plain": "'My wife took me here on my birthday for breakfast and it was excellent.  The weather was perfect which made sitting outside overlooking their grounds an absolute pleasure.  Our waitress was excellent and our food arrived quickly on the semi-busy Saturday morning.  It looked like the place fills up pretty quickly so the earlier you get here the better.\\n\\nDo yourself a favor and get their Bloody Mary.  It was phenomenal and simply the best I\\'ve ever had.  I\\'m pretty sure they only use ingredients from their garden and blend them fresh when you order it.  It was amazing.\\n\\nWhile EVERYTHING on the menu looks excellent, I had the white truffle scrambled eggs vegetable skillet and it was tasty and delicious.  It came with 2 pieces of their griddled bread with was amazing and it absolutely made the meal complete.  It was the best \"toast\" I\\'ve ever had.\\n\\nAnyway, I can\\'t wait to go back!'"
     },
     "execution_count": 32,
     "metadata": {},
     "output_type": "execute_result"
    }
   ],
   "source": [
    "# 후기 1개 조회\n",
    "yelp_df['text'][0]"
   ],
   "metadata": {
    "collapsed": false,
    "ExecuteTime": {
     "end_time": "2024-02-01T09:50:19.818194Z",
     "start_time": "2024-02-01T09:50:19.772381Z"
    }
   },
   "id": "5236ade73b0bd748",
   "execution_count": 32
  },
  {
   "cell_type": "code",
   "outputs": [
    {
     "data": {
      "text/plain": "                 business_id        date               review_id  stars  \\\n0     9yKzy9PApeiPPOUJEtnvkg  2011-01-26  fWKvX83p0-ka4JS3dc6E5A      5   \n1     ZRJwVLyzEJq1VAihDhYiow  2011-07-27  IjZ33sJrzXqU-0X6U8NwyA      5   \n2     6oRAC4uyJCsJl1X0WZpVSA  2012-06-14  IESLBzqUCLdSzSqm0eCSxQ      4   \n3     _1QQZuf4zZOyFCvXc0o6Vg  2010-05-27  G-WvGaISbqqaMHlNnByodA      5   \n4     6ozycU1RpktNG2-1BroVtw  2012-01-05  1uJFq2r5QfJG_6ExMRCaGw      5   \n...                      ...         ...                     ...    ...   \n9995  VY_tvNUCCXGXQeSvJl757Q  2012-07-28  Ubyfp2RSDYW0g7Mbr8N3iA      3   \n9996  EKzMHI1tip8rC1-ZAy64yg  2012-01-18  2XyIOQKbVFb6uXQdJ0RzlQ      4   \n9997  53YGfwmbW73JhFiemNeyzQ  2010-11-16  jyznYkIbpqVmlsZxSDSypA      4   \n9998  9SKdOoDHcFoxK5ZtsgHJoA  2012-12-02  5UKq9WQE1qQbJ0DJbc-B6Q      2   \n9999  pF7uRzygyZsltbmVpjIyvw  2010-10-16  vWSmOhg2ID1MNZHaWapGbA      5   \n\n                                                   text    type  \\\n0     My wife took me here on my birthday for breakf...  review   \n1     I have no idea why some people give bad review...  review   \n2     love the gyro plate. Rice is so good and I als...  review   \n3     Rosie, Dakota, and I LOVE Chaparral Dog Park!!...  review   \n4     General Manager Scott Petello is a good egg!!!...  review   \n...                                                 ...     ...   \n9995  First visit...Had lunch here today - used my G...  review   \n9996  Should be called house of deliciousness!\\n\\nI ...  review   \n9997  I recently visited Olive and Ivy for business ...  review   \n9998  My nephew just moved to Scottsdale recently so...  review   \n9999  4-5 locations.. all 4.5 star average.. I think...  review   \n\n                     user_id  cool  useful  funny  length  \n0     rLtl8ZkDX5vH5nAx9C3q5Q     2       5      0     889  \n1     0a2KyEL0d3Yb1V6aivbIuQ     0       0      0    1345  \n2     0hT2KtfLiobPvh6cDC8JQg     0       1      0      76  \n3     uZetl9T0NcROGOyFfughhg     1       2      0     419  \n4     vYmM4KTsC8ZfQBg-j5MWkw     0       0      0     469  \n...                      ...   ...     ...    ...     ...  \n9995  _eqQoPtQ3e3UxLE4faT6ow     1       2      0     668  \n9996  ROru4uk5SaYc3rg8IU7SQw     0       0      0     881  \n9997  gGbN1aKQHMgfQZkqlsuwzg     0       0      0    1425  \n9998  0lyVoNazXa20WzUyZPLaQQ     0       0      0     880  \n9999  KSBFytcdjPKZgXKQnYQdkA     0       0      0     461  \n\n[10000 rows x 11 columns]",
      "text/html": "<div>\n<style scoped>\n    .dataframe tbody tr th:only-of-type {\n        vertical-align: middle;\n    }\n\n    .dataframe tbody tr th {\n        vertical-align: top;\n    }\n\n    .dataframe thead th {\n        text-align: right;\n    }\n</style>\n<table border=\"1\" class=\"dataframe\">\n  <thead>\n    <tr style=\"text-align: right;\">\n      <th></th>\n      <th>business_id</th>\n      <th>date</th>\n      <th>review_id</th>\n      <th>stars</th>\n      <th>text</th>\n      <th>type</th>\n      <th>user_id</th>\n      <th>cool</th>\n      <th>useful</th>\n      <th>funny</th>\n      <th>length</th>\n    </tr>\n  </thead>\n  <tbody>\n    <tr>\n      <th>0</th>\n      <td>9yKzy9PApeiPPOUJEtnvkg</td>\n      <td>2011-01-26</td>\n      <td>fWKvX83p0-ka4JS3dc6E5A</td>\n      <td>5</td>\n      <td>My wife took me here on my birthday for breakf...</td>\n      <td>review</td>\n      <td>rLtl8ZkDX5vH5nAx9C3q5Q</td>\n      <td>2</td>\n      <td>5</td>\n      <td>0</td>\n      <td>889</td>\n    </tr>\n    <tr>\n      <th>1</th>\n      <td>ZRJwVLyzEJq1VAihDhYiow</td>\n      <td>2011-07-27</td>\n      <td>IjZ33sJrzXqU-0X6U8NwyA</td>\n      <td>5</td>\n      <td>I have no idea why some people give bad review...</td>\n      <td>review</td>\n      <td>0a2KyEL0d3Yb1V6aivbIuQ</td>\n      <td>0</td>\n      <td>0</td>\n      <td>0</td>\n      <td>1345</td>\n    </tr>\n    <tr>\n      <th>2</th>\n      <td>6oRAC4uyJCsJl1X0WZpVSA</td>\n      <td>2012-06-14</td>\n      <td>IESLBzqUCLdSzSqm0eCSxQ</td>\n      <td>4</td>\n      <td>love the gyro plate. Rice is so good and I als...</td>\n      <td>review</td>\n      <td>0hT2KtfLiobPvh6cDC8JQg</td>\n      <td>0</td>\n      <td>1</td>\n      <td>0</td>\n      <td>76</td>\n    </tr>\n    <tr>\n      <th>3</th>\n      <td>_1QQZuf4zZOyFCvXc0o6Vg</td>\n      <td>2010-05-27</td>\n      <td>G-WvGaISbqqaMHlNnByodA</td>\n      <td>5</td>\n      <td>Rosie, Dakota, and I LOVE Chaparral Dog Park!!...</td>\n      <td>review</td>\n      <td>uZetl9T0NcROGOyFfughhg</td>\n      <td>1</td>\n      <td>2</td>\n      <td>0</td>\n      <td>419</td>\n    </tr>\n    <tr>\n      <th>4</th>\n      <td>6ozycU1RpktNG2-1BroVtw</td>\n      <td>2012-01-05</td>\n      <td>1uJFq2r5QfJG_6ExMRCaGw</td>\n      <td>5</td>\n      <td>General Manager Scott Petello is a good egg!!!...</td>\n      <td>review</td>\n      <td>vYmM4KTsC8ZfQBg-j5MWkw</td>\n      <td>0</td>\n      <td>0</td>\n      <td>0</td>\n      <td>469</td>\n    </tr>\n    <tr>\n      <th>...</th>\n      <td>...</td>\n      <td>...</td>\n      <td>...</td>\n      <td>...</td>\n      <td>...</td>\n      <td>...</td>\n      <td>...</td>\n      <td>...</td>\n      <td>...</td>\n      <td>...</td>\n      <td>...</td>\n    </tr>\n    <tr>\n      <th>9995</th>\n      <td>VY_tvNUCCXGXQeSvJl757Q</td>\n      <td>2012-07-28</td>\n      <td>Ubyfp2RSDYW0g7Mbr8N3iA</td>\n      <td>3</td>\n      <td>First visit...Had lunch here today - used my G...</td>\n      <td>review</td>\n      <td>_eqQoPtQ3e3UxLE4faT6ow</td>\n      <td>1</td>\n      <td>2</td>\n      <td>0</td>\n      <td>668</td>\n    </tr>\n    <tr>\n      <th>9996</th>\n      <td>EKzMHI1tip8rC1-ZAy64yg</td>\n      <td>2012-01-18</td>\n      <td>2XyIOQKbVFb6uXQdJ0RzlQ</td>\n      <td>4</td>\n      <td>Should be called house of deliciousness!\\n\\nI ...</td>\n      <td>review</td>\n      <td>ROru4uk5SaYc3rg8IU7SQw</td>\n      <td>0</td>\n      <td>0</td>\n      <td>0</td>\n      <td>881</td>\n    </tr>\n    <tr>\n      <th>9997</th>\n      <td>53YGfwmbW73JhFiemNeyzQ</td>\n      <td>2010-11-16</td>\n      <td>jyznYkIbpqVmlsZxSDSypA</td>\n      <td>4</td>\n      <td>I recently visited Olive and Ivy for business ...</td>\n      <td>review</td>\n      <td>gGbN1aKQHMgfQZkqlsuwzg</td>\n      <td>0</td>\n      <td>0</td>\n      <td>0</td>\n      <td>1425</td>\n    </tr>\n    <tr>\n      <th>9998</th>\n      <td>9SKdOoDHcFoxK5ZtsgHJoA</td>\n      <td>2012-12-02</td>\n      <td>5UKq9WQE1qQbJ0DJbc-B6Q</td>\n      <td>2</td>\n      <td>My nephew just moved to Scottsdale recently so...</td>\n      <td>review</td>\n      <td>0lyVoNazXa20WzUyZPLaQQ</td>\n      <td>0</td>\n      <td>0</td>\n      <td>0</td>\n      <td>880</td>\n    </tr>\n    <tr>\n      <th>9999</th>\n      <td>pF7uRzygyZsltbmVpjIyvw</td>\n      <td>2010-10-16</td>\n      <td>vWSmOhg2ID1MNZHaWapGbA</td>\n      <td>5</td>\n      <td>4-5 locations.. all 4.5 star average.. I think...</td>\n      <td>review</td>\n      <td>KSBFytcdjPKZgXKQnYQdkA</td>\n      <td>0</td>\n      <td>0</td>\n      <td>0</td>\n      <td>461</td>\n    </tr>\n  </tbody>\n</table>\n<p>10000 rows × 11 columns</p>\n</div>"
     },
     "execution_count": 33,
     "metadata": {},
     "output_type": "execute_result"
    }
   ],
   "source": [
    "yelp_df['length'] = yelp_df['text'].apply(len)\n",
    "yelp_df\n",
    "# text 길이를 column으로 만듬"
   ],
   "metadata": {
    "collapsed": false,
    "ExecuteTime": {
     "end_time": "2024-02-01T09:50:19.943664Z",
     "start_time": "2024-02-01T09:50:19.786878Z"
    }
   },
   "id": "aec6ae97e3c8b688",
   "execution_count": 33
  },
  {
   "cell_type": "code",
   "outputs": [
    {
     "data": {
      "text/plain": "<Axes: ylabel='Frequency'>"
     },
     "execution_count": 34,
     "metadata": {},
     "output_type": "execute_result"
    },
    {
     "data": {
      "text/plain": "<Figure size 640x480 with 1 Axes>",
      "image/png": "[encoded data removed]"
     },
     "metadata": {},
     "output_type": "display_data"
    }
   ],
   "source": [
    "yelp_df['length'].plot(bins= 100, kind='hist') \n",
    "# 100 개의 바를 만듬 \n",
    "# 평균 500자의 글을씀을 알 수 있음"
   ],
   "metadata": {
    "collapsed": false,
    "ExecuteTime": {
     "end_time": "2024-02-01T09:50:19.984587Z",
     "start_time": "2024-02-01T09:50:19.798472Z"
    }
   },
   "id": "bdf5a0e5510cb46",
   "execution_count": 34
  },
  {
   "cell_type": "code",
   "outputs": [
    {
     "data": {
      "text/plain": "count    10000.000000\nmean       710.738700\nstd        617.399827\nmin          1.000000\n25%        294.000000\n50%        541.500000\n75%        930.000000\nmax       4997.000000\nName: length, dtype: float64"
     },
     "execution_count": 35,
     "metadata": {},
     "output_type": "execute_result"
    }
   ],
   "source": [
    "yelp_df.length.describe()"
   ],
   "metadata": {
    "collapsed": false,
    "ExecuteTime": {
     "end_time": "2024-02-01T09:50:19.984816Z",
     "start_time": "2024-02-01T09:50:19.955948Z"
    }
   },
   "id": "27839dc834ccad8",
   "execution_count": 35
  },
  {
   "cell_type": "code",
   "outputs": [
    {
     "data": {
      "text/plain": "<Axes: xlabel='stars', ylabel='count'>"
     },
     "execution_count": 36,
     "metadata": {},
     "output_type": "execute_result"
    },
    {
     "data": {
      "text/plain": "<Figure size 640x480 with 1 Axes>",
      "image/png": "[encoded data removed]"
     },
     "metadata": {},
     "output_type": "display_data"
    }
   ],
   "source": [
    "sns.countplot(x = 'stars', data = yelp_df)"
   ],
   "metadata": {
    "collapsed": false,
    "ExecuteTime": {
     "end_time": "2024-02-01T09:50:20.192252Z",
     "start_time": "2024-02-01T09:50:19.967179Z"
    }
   },
   "id": "c357aeca7dfe93b1",
   "execution_count": 36
  },
  {
   "cell_type": "code",
   "outputs": [
    {
     "data": {
      "text/plain": "<Figure size 1500x300 with 5 Axes>",
      "image/png": "[encoded data removed]"
     },
     "metadata": {},
     "output_type": "display_data"
    }
   ],
   "source": [
    "g = sns.FacetGrid(data = yelp_df,col = 'stars',col_wrap=5)\n",
    "# col_wrap => 한줄에 5개를 나타내겠다는 것"
   ],
   "metadata": {
    "collapsed": false,
    "ExecuteTime": {
     "end_time": "2024-02-01T09:50:20.921082Z",
     "start_time": "2024-02-01T09:50:20.189344Z"
    }
   },
   "id": "6cb1a49efec8fd61",
   "execution_count": 37
  },
  {
   "cell_type": "code",
   "outputs": [
    {
     "name": "stderr",
     "output_type": "stream",
     "text": [
      "/Users/hyun-uk/anaconda3/lib/python3.11/site-packages/seaborn/axisgrid.py:118: UserWarning: The figure layout has changed to tight\n",
      "  self._figure.tight_layout(*args, **kwargs)\n"
     ]
    },
    {
     "data": {
      "text/plain": "<seaborn.axisgrid.FacetGrid at 0x2834fa450>"
     },
     "execution_count": 38,
     "metadata": {},
     "output_type": "execute_result"
    },
    {
     "data": {
      "text/plain": "<Figure size 1500x300 with 5 Axes>",
      "image/png": "[encoded data removed]"
     },
     "metadata": {},
     "output_type": "display_data"
    }
   ],
   "source": [
    "g = sns.FacetGrid(data = yelp_df,col = 'stars',col_wrap=5)\n",
    "g.map(plt.hist, 'length',bins = 20, color='r')"
   ],
   "metadata": {
    "collapsed": false,
    "ExecuteTime": {
     "end_time": "2024-02-01T09:50:21.779727Z",
     "start_time": "2024-02-01T09:50:20.914732Z"
    }
   },
   "id": "2edca2d4d06dd204",
   "execution_count": 38
  },
  {
   "cell_type": "code",
   "outputs": [
    {
     "data": {
      "text/plain": "                 business_id        date               review_id  stars  \\\n23    IJ0o6b8bJFAbG6MjGfBebQ  2010-09-05  Dx9sfFU6Zn0GYOckijom-g      1   \n31    vvA3fbps4F9nGlAEYKk_sA  2012-05-04  S9OVpXat8k5YwWCn6FAgXg      1   \n35    o1GIYYZJjM6nM03fQs_uEQ  2011-11-30  ApKbwpYJdnhhgP4NbjQw2Q      1   \n61    l4vBbCL9QbGiwLuLKwD_bA  2011-11-22  DJVxOfj2Rw9zklC9tU3i1w      1   \n64    CEswyP-9SsXRNLR9fFGKKw  2012-05-19  GXj4PNAi095-q9ynPYH3kg      1   \n...                      ...         ...                     ...    ...   \n9924  mhQCxOiqp03qnhGRTtPduw  2012-07-07  PCjnn__E8AzNa2kXFXxTHQ      1   \n9931  C_eWAEOvkHZ_IZYGwjtpmg  2011-04-25  QfdoE-XqEeCsttJH8g0ugQ      1   \n9953  QCxXYA13PtkD3wec47_r8Q  2012-03-14  V2N2TCqnaqMYfg7zXGG-Rg      1   \n9984  wepFVY82q_tuDzG6lQjHWw  2012-02-12  spusZYROtBKw_5tv3gYm4Q      1   \n9987  r-a-Cn9hxdEnYTtVTB5bMQ  2012-04-07  j9HwZZoBBmJgOlqDSuJcxg      1   \n\n                                                   text    type  \\\n23    U can go there n check the car out. If u wanna...  review   \n31    Disgusting!  Had a Groupon so my daughter and ...  review   \n35    I've eaten here many times, but none as bad as...  review   \n61    I have always been a fan of Burlington's deals...  review   \n64    Another night meeting friends here.  I have to...  review   \n...                                                 ...     ...   \n9924                                  Horrible service.  review   \n9931  I love Saddle Ranch for its casual night time ...  review   \n9953  \"Hipster,Trendy\" ????-I think NOT !!!! Very di...  review   \n9984  Went last night to Whore Foods to get basics t...  review   \n9987  The food is delicious.  The service:  discrimi...  review   \n\n                     user_id  cool  useful  funny  length  \n23    zRlQEDYd_HKp0VS3hnAffA     0       1      1     594  \n31    8AMn6644NmBf96xGO3w6OA     0       1      0     361  \n35    iwUN95LIaEr75TZE_JC6bg     0       4      3    1198  \n61    EPROVap0M19Y6_4uf3eCmQ     0       0      0     569  \n64    MjLAe48XNfYlTeFYca5gMw     0       1      2     498  \n...                      ...   ...     ...    ...     ...  \n9924  rvaJcf5OIY2So_pkoqDHLQ     0       1      0      17  \n9931  yhGfcKunPjcy-v-1ppr6oQ     0       2      0     995  \n9953  JEQ6el2-tLtKJU6k_SpE-w     0       2      0     296  \n9984  W7zmm1uzlyUkEqpSG7PlBw     0       1      2    1673  \n9987  toPtsUtYoRB-5-ThrOy2Fg     0       0      0     200  \n\n[749 rows x 11 columns]",
      "text/html": "<div>\n<style scoped>\n    .dataframe tbody tr th:only-of-type {\n        vertical-align: middle;\n    }\n\n    .dataframe tbody tr th {\n        vertical-align: top;\n    }\n\n    .dataframe thead th {\n        text-align: right;\n    }\n</style>\n<table border=\"1\" class=\"dataframe\">\n  <thead>\n    <tr style=\"text-align: right;\">\n      <th></th>\n      <th>business_id</th>\n      <th>date</th>\n      <th>review_id</th>\n      <th>stars</th>\n      <th>text</th>\n      <th>type</th>\n      <th>user_id</th>\n      <th>cool</th>\n      <th>useful</th>\n      <th>funny</th>\n      <th>length</th>\n    </tr>\n  </thead>\n  <tbody>\n    <tr>\n      <th>23</th>\n      <td>IJ0o6b8bJFAbG6MjGfBebQ</td>\n      <td>2010-09-05</td>\n      <td>Dx9sfFU6Zn0GYOckijom-g</td>\n      <td>1</td>\n      <td>U can go there n check the car out. If u wanna...</td>\n      <td>review</td>\n      <td>zRlQEDYd_HKp0VS3hnAffA</td>\n      <td>0</td>\n      <td>1</td>\n      <td>1</td>\n      <td>594</td>\n    </tr>\n    <tr>\n      <th>31</th>\n      <td>vvA3fbps4F9nGlAEYKk_sA</td>\n      <td>2012-05-04</td>\n      <td>S9OVpXat8k5YwWCn6FAgXg</td>\n      <td>1</td>\n      <td>Disgusting!  Had a Groupon so my daughter and ...</td>\n      <td>review</td>\n      <td>8AMn6644NmBf96xGO3w6OA</td>\n      <td>0</td>\n      <td>1</td>\n      <td>0</td>\n      <td>361</td>\n    </tr>\n    <tr>\n      <th>35</th>\n      <td>o1GIYYZJjM6nM03fQs_uEQ</td>\n      <td>2011-11-30</td>\n      <td>ApKbwpYJdnhhgP4NbjQw2Q</td>\n      <td>1</td>\n      <td>I've eaten here many times, but none as bad as...</td>\n      <td>review</td>\n      <td>iwUN95LIaEr75TZE_JC6bg</td>\n      <td>0</td>\n      <td>4</td>\n      <td>3</td>\n      <td>1198</td>\n    </tr>\n    <tr>\n      <th>61</th>\n      <td>l4vBbCL9QbGiwLuLKwD_bA</td>\n      <td>2011-11-22</td>\n      <td>DJVxOfj2Rw9zklC9tU3i1w</td>\n      <td>1</td>\n      <td>I have always been a fan of Burlington's deals...</td>\n      <td>review</td>\n      <td>EPROVap0M19Y6_4uf3eCmQ</td>\n      <td>0</td>\n      <td>0</td>\n      <td>0</td>\n      <td>569</td>\n    </tr>\n    <tr>\n      <th>64</th>\n      <td>CEswyP-9SsXRNLR9fFGKKw</td>\n      <td>2012-05-19</td>\n      <td>GXj4PNAi095-q9ynPYH3kg</td>\n      <td>1</td>\n      <td>Another night meeting friends here.  I have to...</td>\n      <td>review</td>\n      <td>MjLAe48XNfYlTeFYca5gMw</td>\n      <td>0</td>\n      <td>1</td>\n      <td>2</td>\n      <td>498</td>\n    </tr>\n    <tr>\n      <th>...</th>\n      <td>...</td>\n      <td>...</td>\n      <td>...</td>\n      <td>...</td>\n      <td>...</td>\n      <td>...</td>\n      <td>...</td>\n      <td>...</td>\n      <td>...</td>\n      <td>...</td>\n      <td>...</td>\n    </tr>\n    <tr>\n      <th>9924</th>\n      <td>mhQCxOiqp03qnhGRTtPduw</td>\n      <td>2012-07-07</td>\n      <td>PCjnn__E8AzNa2kXFXxTHQ</td>\n      <td>1</td>\n      <td>Horrible service.</td>\n      <td>review</td>\n      <td>rvaJcf5OIY2So_pkoqDHLQ</td>\n      <td>0</td>\n      <td>1</td>\n      <td>0</td>\n      <td>17</td>\n    </tr>\n    <tr>\n      <th>9931</th>\n      <td>C_eWAEOvkHZ_IZYGwjtpmg</td>\n      <td>2011-04-25</td>\n      <td>QfdoE-XqEeCsttJH8g0ugQ</td>\n      <td>1</td>\n      <td>I love Saddle Ranch for its casual night time ...</td>\n      <td>review</td>\n      <td>yhGfcKunPjcy-v-1ppr6oQ</td>\n      <td>0</td>\n      <td>2</td>\n      <td>0</td>\n      <td>995</td>\n    </tr>\n    <tr>\n      <th>9953</th>\n      <td>QCxXYA13PtkD3wec47_r8Q</td>\n      <td>2012-03-14</td>\n      <td>V2N2TCqnaqMYfg7zXGG-Rg</td>\n      <td>1</td>\n      <td>\"Hipster,Trendy\" ????-I think NOT !!!! Very di...</td>\n      <td>review</td>\n      <td>JEQ6el2-tLtKJU6k_SpE-w</td>\n      <td>0</td>\n      <td>2</td>\n      <td>0</td>\n      <td>296</td>\n    </tr>\n    <tr>\n      <th>9984</th>\n      <td>wepFVY82q_tuDzG6lQjHWw</td>\n      <td>2012-02-12</td>\n      <td>spusZYROtBKw_5tv3gYm4Q</td>\n      <td>1</td>\n      <td>Went last night to Whore Foods to get basics t...</td>\n      <td>review</td>\n      <td>W7zmm1uzlyUkEqpSG7PlBw</td>\n      <td>0</td>\n      <td>1</td>\n      <td>2</td>\n      <td>1673</td>\n    </tr>\n    <tr>\n      <th>9987</th>\n      <td>r-a-Cn9hxdEnYTtVTB5bMQ</td>\n      <td>2012-04-07</td>\n      <td>j9HwZZoBBmJgOlqDSuJcxg</td>\n      <td>1</td>\n      <td>The food is delicious.  The service:  discrimi...</td>\n      <td>review</td>\n      <td>toPtsUtYoRB-5-ThrOy2Fg</td>\n      <td>0</td>\n      <td>0</td>\n      <td>0</td>\n      <td>200</td>\n    </tr>\n  </tbody>\n</table>\n<p>749 rows × 11 columns</p>\n</div>"
     },
     "execution_count": 39,
     "metadata": {},
     "output_type": "execute_result"
    }
   ],
   "source": [
    "yelp_df_1 = yelp_df[yelp_df['stars']==1]\n",
    "yelp_df_1"
   ],
   "metadata": {
    "collapsed": false,
    "ExecuteTime": {
     "end_time": "2024-02-01T09:50:21.789242Z",
     "start_time": "2024-02-01T09:50:21.772057Z"
    }
   },
   "id": "d2ec0978b588cf3d",
   "execution_count": 39
  },
  {
   "cell_type": "code",
   "outputs": [
    {
     "data": {
      "text/plain": "                 business_id        date               review_id  stars  \\\n0     9yKzy9PApeiPPOUJEtnvkg  2011-01-26  fWKvX83p0-ka4JS3dc6E5A      5   \n1     ZRJwVLyzEJq1VAihDhYiow  2011-07-27  IjZ33sJrzXqU-0X6U8NwyA      5   \n3     _1QQZuf4zZOyFCvXc0o6Vg  2010-05-27  G-WvGaISbqqaMHlNnByodA      5   \n4     6ozycU1RpktNG2-1BroVtw  2012-01-05  1uJFq2r5QfJG_6ExMRCaGw      5   \n6     zp713qNhx8d9KCJJnrw1xA  2010-02-12  riFQ3vxNpP4rWLk_CSri2A      5   \n...                      ...         ...                     ...    ...   \n9990  R8VwdLyvsp9iybNqRvm94g  2011-10-03  pcEeHdAJPoFNF23es0kKWg      5   \n9991  WJ5mq4EiWYAA4Vif0xDfdg  2011-12-05  EuHX-39FR7tyyG1ElvN1Jw      5   \n9992  f96lWMIAUhYIYy9gOktivQ  2009-03-10  YF17z7HWlMj6aezZc-pVEw      5   \n9994  L3BSpFvxcNf3T_teitgt6A  2012-03-19  0nxb1gIGFgk3WbC5zwhKZg      5   \n9999  pF7uRzygyZsltbmVpjIyvw  2010-10-16  vWSmOhg2ID1MNZHaWapGbA      5   \n\n                                                   text    type  \\\n0     My wife took me here on my birthday for breakf...  review   \n1     I have no idea why some people give bad review...  review   \n3     Rosie, Dakota, and I LOVE Chaparral Dog Park!!...  review   \n4     General Manager Scott Petello is a good egg!!!...  review   \n6     Drop what you're doing and drive here. After I...  review   \n...                                                 ...     ...   \n9990  Yes I do rock the hipster joints.  I dig this ...  review   \n9991  Only 4 stars? \\n\\n(A few notes: The folks that...  review   \n9992  I'm not normally one to jump at reviewing a ch...  review   \n9994  Let's see...what is there NOT to like about Su...  review   \n9999  4-5 locations.. all 4.5 star average.. I think...  review   \n\n                     user_id  cool  useful  funny  length  \n0     rLtl8ZkDX5vH5nAx9C3q5Q     2       5      0     889  \n1     0a2KyEL0d3Yb1V6aivbIuQ     0       0      0    1345  \n3     uZetl9T0NcROGOyFfughhg     1       2      0     419  \n4     vYmM4KTsC8ZfQBg-j5MWkw     0       0      0     469  \n6     wFweIWhv2fREZV_dYkz_1g     7       7      4    1565  \n...                      ...   ...     ...    ...     ...  \n9990  b92Y3tyWTQQZ5FLifex62Q     1       1      1     263  \n9991  hTau-iNZFwoNsPCaiIUTEA     1       1      0     908  \n9992  W_QXYA7A0IhMrvbckz7eVg     2       3      2    1326  \n9994  OzOZv-Knlw3oz9K5Kh5S6A     1       2      1    1968  \n9999  KSBFytcdjPKZgXKQnYQdkA     0       0      0     461  \n\n[3337 rows x 11 columns]",
      "text/html": "<div>\n<style scoped>\n    .dataframe tbody tr th:only-of-type {\n        vertical-align: middle;\n    }\n\n    .dataframe tbody tr th {\n        vertical-align: top;\n    }\n\n    .dataframe thead th {\n        text-align: right;\n    }\n</style>\n<table border=\"1\" class=\"dataframe\">\n  <thead>\n    <tr style=\"text-align: right;\">\n      <th></th>\n      <th>business_id</th>\n      <th>date</th>\n      <th>review_id</th>\n      <th>stars</th>\n      <th>text</th>\n      <th>type</th>\n      <th>user_id</th>\n      <th>cool</th>\n      <th>useful</th>\n      <th>funny</th>\n      <th>length</th>\n    </tr>\n  </thead>\n  <tbody>\n    <tr>\n      <th>0</th>\n      <td>9yKzy9PApeiPPOUJEtnvkg</td>\n      <td>2011-01-26</td>\n      <td>fWKvX83p0-ka4JS3dc6E5A</td>\n      <td>5</td>\n      <td>My wife took me here on my birthday for breakf...</td>\n      <td>review</td>\n      <td>rLtl8ZkDX5vH5nAx9C3q5Q</td>\n      <td>2</td>\n      <td>5</td>\n      <td>0</td>\n      <td>889</td>\n    </tr>\n    <tr>\n      <th>1</th>\n      <td>ZRJwVLyzEJq1VAihDhYiow</td>\n      <td>2011-07-27</td>\n      <td>IjZ33sJrzXqU-0X6U8NwyA</td>\n      <td>5</td>\n      <td>I have no idea why some people give bad review...</td>\n      <td>review</td>\n      <td>0a2KyEL0d3Yb1V6aivbIuQ</td>\n      <td>0</td>\n      <td>0</td>\n      <td>0</td>\n      <td>1345</td>\n    </tr>\n    <tr>\n      <th>3</th>\n      <td>_1QQZuf4zZOyFCvXc0o6Vg</td>\n      <td>2010-05-27</td>\n      <td>G-WvGaISbqqaMHlNnByodA</td>\n      <td>5</td>\n      <td>Rosie, Dakota, and I LOVE Chaparral Dog Park!!...</td>\n      <td>review</td>\n      <td>uZetl9T0NcROGOyFfughhg</td>\n      <td>1</td>\n      <td>2</td>\n      <td>0</td>\n      <td>419</td>\n    </tr>\n    <tr>\n      <th>4</th>\n      <td>6ozycU1RpktNG2-1BroVtw</td>\n      <td>2012-01-05</td>\n      <td>1uJFq2r5QfJG_6ExMRCaGw</td>\n      <td>5</td>\n      <td>General Manager Scott Petello is a good egg!!!...</td>\n      <td>review</td>\n      <td>vYmM4KTsC8ZfQBg-j5MWkw</td>\n      <td>0</td>\n      <td>0</td>\n      <td>0</td>\n      <td>469</td>\n    </tr>\n    <tr>\n      <th>6</th>\n      <td>zp713qNhx8d9KCJJnrw1xA</td>\n      <td>2010-02-12</td>\n      <td>riFQ3vxNpP4rWLk_CSri2A</td>\n      <td>5</td>\n      <td>Drop what you're doing and drive here. After I...</td>\n      <td>review</td>\n      <td>wFweIWhv2fREZV_dYkz_1g</td>\n      <td>7</td>\n      <td>7</td>\n      <td>4</td>\n      <td>1565</td>\n    </tr>\n    <tr>\n      <th>...</th>\n      <td>...</td>\n      <td>...</td>\n      <td>...</td>\n      <td>...</td>\n      <td>...</td>\n      <td>...</td>\n      <td>...</td>\n      <td>...</td>\n      <td>...</td>\n      <td>...</td>\n      <td>...</td>\n    </tr>\n    <tr>\n      <th>9990</th>\n      <td>R8VwdLyvsp9iybNqRvm94g</td>\n      <td>2011-10-03</td>\n      <td>pcEeHdAJPoFNF23es0kKWg</td>\n      <td>5</td>\n      <td>Yes I do rock the hipster joints.  I dig this ...</td>\n      <td>review</td>\n      <td>b92Y3tyWTQQZ5FLifex62Q</td>\n      <td>1</td>\n      <td>1</td>\n      <td>1</td>\n      <td>263</td>\n    </tr>\n    <tr>\n      <th>9991</th>\n      <td>WJ5mq4EiWYAA4Vif0xDfdg</td>\n      <td>2011-12-05</td>\n      <td>EuHX-39FR7tyyG1ElvN1Jw</td>\n      <td>5</td>\n      <td>Only 4 stars? \\n\\n(A few notes: The folks that...</td>\n      <td>review</td>\n      <td>hTau-iNZFwoNsPCaiIUTEA</td>\n      <td>1</td>\n      <td>1</td>\n      <td>0</td>\n      <td>908</td>\n    </tr>\n    <tr>\n      <th>9992</th>\n      <td>f96lWMIAUhYIYy9gOktivQ</td>\n      <td>2009-03-10</td>\n      <td>YF17z7HWlMj6aezZc-pVEw</td>\n      <td>5</td>\n      <td>I'm not normally one to jump at reviewing a ch...</td>\n      <td>review</td>\n      <td>W_QXYA7A0IhMrvbckz7eVg</td>\n      <td>2</td>\n      <td>3</td>\n      <td>2</td>\n      <td>1326</td>\n    </tr>\n    <tr>\n      <th>9994</th>\n      <td>L3BSpFvxcNf3T_teitgt6A</td>\n      <td>2012-03-19</td>\n      <td>0nxb1gIGFgk3WbC5zwhKZg</td>\n      <td>5</td>\n      <td>Let's see...what is there NOT to like about Su...</td>\n      <td>review</td>\n      <td>OzOZv-Knlw3oz9K5Kh5S6A</td>\n      <td>1</td>\n      <td>2</td>\n      <td>1</td>\n      <td>1968</td>\n    </tr>\n    <tr>\n      <th>9999</th>\n      <td>pF7uRzygyZsltbmVpjIyvw</td>\n      <td>2010-10-16</td>\n      <td>vWSmOhg2ID1MNZHaWapGbA</td>\n      <td>5</td>\n      <td>4-5 locations.. all 4.5 star average.. I think...</td>\n      <td>review</td>\n      <td>KSBFytcdjPKZgXKQnYQdkA</td>\n      <td>0</td>\n      <td>0</td>\n      <td>0</td>\n      <td>461</td>\n    </tr>\n  </tbody>\n</table>\n<p>3337 rows × 11 columns</p>\n</div>"
     },
     "execution_count": 40,
     "metadata": {},
     "output_type": "execute_result"
    }
   ],
   "source": [
    "yelp_df_5 = yelp_df[yelp_df['stars']==5]\n",
    "yelp_df_5"
   ],
   "metadata": {
    "collapsed": false,
    "ExecuteTime": {
     "end_time": "2024-02-01T09:50:21.864700Z",
     "start_time": "2024-02-01T09:50:21.785103Z"
    }
   },
   "id": "95edf5a50ebbf6de",
   "execution_count": 40
  },
  {
   "cell_type": "code",
   "outputs": [
    {
     "data": {
      "text/plain": "                 business_id        date               review_id  stars  \\\n23    IJ0o6b8bJFAbG6MjGfBebQ  2010-09-05  Dx9sfFU6Zn0GYOckijom-g      1   \n31    vvA3fbps4F9nGlAEYKk_sA  2012-05-04  S9OVpXat8k5YwWCn6FAgXg      1   \n35    o1GIYYZJjM6nM03fQs_uEQ  2011-11-30  ApKbwpYJdnhhgP4NbjQw2Q      1   \n61    l4vBbCL9QbGiwLuLKwD_bA  2011-11-22  DJVxOfj2Rw9zklC9tU3i1w      1   \n64    CEswyP-9SsXRNLR9fFGKKw  2012-05-19  GXj4PNAi095-q9ynPYH3kg      1   \n...                      ...         ...                     ...    ...   \n9990  R8VwdLyvsp9iybNqRvm94g  2011-10-03  pcEeHdAJPoFNF23es0kKWg      5   \n9991  WJ5mq4EiWYAA4Vif0xDfdg  2011-12-05  EuHX-39FR7tyyG1ElvN1Jw      5   \n9992  f96lWMIAUhYIYy9gOktivQ  2009-03-10  YF17z7HWlMj6aezZc-pVEw      5   \n9994  L3BSpFvxcNf3T_teitgt6A  2012-03-19  0nxb1gIGFgk3WbC5zwhKZg      5   \n9999  pF7uRzygyZsltbmVpjIyvw  2010-10-16  vWSmOhg2ID1MNZHaWapGbA      5   \n\n                                                   text    type  \\\n23    U can go there n check the car out. If u wanna...  review   \n31    Disgusting!  Had a Groupon so my daughter and ...  review   \n35    I've eaten here many times, but none as bad as...  review   \n61    I have always been a fan of Burlington's deals...  review   \n64    Another night meeting friends here.  I have to...  review   \n...                                                 ...     ...   \n9990  Yes I do rock the hipster joints.  I dig this ...  review   \n9991  Only 4 stars? \\n\\n(A few notes: The folks that...  review   \n9992  I'm not normally one to jump at reviewing a ch...  review   \n9994  Let's see...what is there NOT to like about Su...  review   \n9999  4-5 locations.. all 4.5 star average.. I think...  review   \n\n                     user_id  cool  useful  funny  length  \n23    zRlQEDYd_HKp0VS3hnAffA     0       1      1     594  \n31    8AMn6644NmBf96xGO3w6OA     0       1      0     361  \n35    iwUN95LIaEr75TZE_JC6bg     0       4      3    1198  \n61    EPROVap0M19Y6_4uf3eCmQ     0       0      0     569  \n64    MjLAe48XNfYlTeFYca5gMw     0       1      2     498  \n...                      ...   ...     ...    ...     ...  \n9990  b92Y3tyWTQQZ5FLifex62Q     1       1      1     263  \n9991  hTau-iNZFwoNsPCaiIUTEA     1       1      0     908  \n9992  W_QXYA7A0IhMrvbckz7eVg     2       3      2    1326  \n9994  OzOZv-Knlw3oz9K5Kh5S6A     1       2      1    1968  \n9999  KSBFytcdjPKZgXKQnYQdkA     0       0      0     461  \n\n[4086 rows x 11 columns]",
      "text/html": "<div>\n<style scoped>\n    .dataframe tbody tr th:only-of-type {\n        vertical-align: middle;\n    }\n\n    .dataframe tbody tr th {\n        vertical-align: top;\n    }\n\n    .dataframe thead th {\n        text-align: right;\n    }\n</style>\n<table border=\"1\" class=\"dataframe\">\n  <thead>\n    <tr style=\"text-align: right;\">\n      <th></th>\n      <th>business_id</th>\n      <th>date</th>\n      <th>review_id</th>\n      <th>stars</th>\n      <th>text</th>\n      <th>type</th>\n      <th>user_id</th>\n      <th>cool</th>\n      <th>useful</th>\n      <th>funny</th>\n      <th>length</th>\n    </tr>\n  </thead>\n  <tbody>\n    <tr>\n      <th>23</th>\n      <td>IJ0o6b8bJFAbG6MjGfBebQ</td>\n      <td>2010-09-05</td>\n      <td>Dx9sfFU6Zn0GYOckijom-g</td>\n      <td>1</td>\n      <td>U can go there n check the car out. If u wanna...</td>\n      <td>review</td>\n      <td>zRlQEDYd_HKp0VS3hnAffA</td>\n      <td>0</td>\n      <td>1</td>\n      <td>1</td>\n      <td>594</td>\n    </tr>\n    <tr>\n      <th>31</th>\n      <td>vvA3fbps4F9nGlAEYKk_sA</td>\n      <td>2012-05-04</td>\n      <td>S9OVpXat8k5YwWCn6FAgXg</td>\n      <td>1</td>\n      <td>Disgusting!  Had a Groupon so my daughter and ...</td>\n      <td>review</td>\n      <td>8AMn6644NmBf96xGO3w6OA</td>\n      <td>0</td>\n      <td>1</td>\n      <td>0</td>\n      <td>361</td>\n    </tr>\n    <tr>\n      <th>35</th>\n      <td>o1GIYYZJjM6nM03fQs_uEQ</td>\n      <td>2011-11-30</td>\n      <td>ApKbwpYJdnhhgP4NbjQw2Q</td>\n      <td>1</td>\n      <td>I've eaten here many times, but none as bad as...</td>\n      <td>review</td>\n      <td>iwUN95LIaEr75TZE_JC6bg</td>\n      <td>0</td>\n      <td>4</td>\n      <td>3</td>\n      <td>1198</td>\n    </tr>\n    <tr>\n      <th>61</th>\n      <td>l4vBbCL9QbGiwLuLKwD_bA</td>\n      <td>2011-11-22</td>\n      <td>DJVxOfj2Rw9zklC9tU3i1w</td>\n      <td>1</td>\n      <td>I have always been a fan of Burlington's deals...</td>\n      <td>review</td>\n      <td>EPROVap0M19Y6_4uf3eCmQ</td>\n      <td>0</td>\n      <td>0</td>\n      <td>0</td>\n      <td>569</td>\n    </tr>\n    <tr>\n      <th>64</th>\n      <td>CEswyP-9SsXRNLR9fFGKKw</td>\n      <td>2012-05-19</td>\n      <td>GXj4PNAi095-q9ynPYH3kg</td>\n      <td>1</td>\n      <td>Another night meeting friends here.  I have to...</td>\n      <td>review</td>\n      <td>MjLAe48XNfYlTeFYca5gMw</td>\n      <td>0</td>\n      <td>1</td>\n      <td>2</td>\n      <td>498</td>\n    </tr>\n    <tr>\n      <th>...</th>\n      <td>...</td>\n      <td>...</td>\n      <td>...</td>\n      <td>...</td>\n      <td>...</td>\n      <td>...</td>\n      <td>...</td>\n      <td>...</td>\n      <td>...</td>\n      <td>...</td>\n      <td>...</td>\n    </tr>\n    <tr>\n      <th>9990</th>\n      <td>R8VwdLyvsp9iybNqRvm94g</td>\n      <td>2011-10-03</td>\n      <td>pcEeHdAJPoFNF23es0kKWg</td>\n      <td>5</td>\n      <td>Yes I do rock the hipster joints.  I dig this ...</td>\n      <td>review</td>\n      <td>b92Y3tyWTQQZ5FLifex62Q</td>\n      <td>1</td>\n      <td>1</td>\n      <td>1</td>\n      <td>263</td>\n    </tr>\n    <tr>\n      <th>9991</th>\n      <td>WJ5mq4EiWYAA4Vif0xDfdg</td>\n      <td>2011-12-05</td>\n      <td>EuHX-39FR7tyyG1ElvN1Jw</td>\n      <td>5</td>\n      <td>Only 4 stars? \\n\\n(A few notes: The folks that...</td>\n      <td>review</td>\n      <td>hTau-iNZFwoNsPCaiIUTEA</td>\n      <td>1</td>\n      <td>1</td>\n      <td>0</td>\n      <td>908</td>\n    </tr>\n    <tr>\n      <th>9992</th>\n      <td>f96lWMIAUhYIYy9gOktivQ</td>\n      <td>2009-03-10</td>\n      <td>YF17z7HWlMj6aezZc-pVEw</td>\n      <td>5</td>\n      <td>I'm not normally one to jump at reviewing a ch...</td>\n      <td>review</td>\n      <td>W_QXYA7A0IhMrvbckz7eVg</td>\n      <td>2</td>\n      <td>3</td>\n      <td>2</td>\n      <td>1326</td>\n    </tr>\n    <tr>\n      <th>9994</th>\n      <td>L3BSpFvxcNf3T_teitgt6A</td>\n      <td>2012-03-19</td>\n      <td>0nxb1gIGFgk3WbC5zwhKZg</td>\n      <td>5</td>\n      <td>Let's see...what is there NOT to like about Su...</td>\n      <td>review</td>\n      <td>OzOZv-Knlw3oz9K5Kh5S6A</td>\n      <td>1</td>\n      <td>2</td>\n      <td>1</td>\n      <td>1968</td>\n    </tr>\n    <tr>\n      <th>9999</th>\n      <td>pF7uRzygyZsltbmVpjIyvw</td>\n      <td>2010-10-16</td>\n      <td>vWSmOhg2ID1MNZHaWapGbA</td>\n      <td>5</td>\n      <td>4-5 locations.. all 4.5 star average.. I think...</td>\n      <td>review</td>\n      <td>KSBFytcdjPKZgXKQnYQdkA</td>\n      <td>0</td>\n      <td>0</td>\n      <td>0</td>\n      <td>461</td>\n    </tr>\n  </tbody>\n</table>\n<p>4086 rows × 11 columns</p>\n</div>"
     },
     "execution_count": 41,
     "metadata": {},
     "output_type": "execute_result"
    }
   ],
   "source": [
    "yelp_df_1_5 = pd.concat([yelp_df_1,yelp_df_5])\n",
    "yelp_df_1_5"
   ],
   "metadata": {
    "collapsed": false,
    "ExecuteTime": {
     "end_time": "2024-02-01T09:50:21.866452Z",
     "start_time": "2024-02-01T09:50:21.801532Z"
    }
   },
   "id": "e49a3b252b6ff9e3",
   "execution_count": 41
  },
  {
   "cell_type": "code",
   "outputs": [
    {
     "name": "stdout",
     "output_type": "stream",
     "text": [
      "1-star review percentage =  18.330885952031327 %\n"
     ]
    }
   ],
   "source": [
    "print('1-star review percentage = ',len(yelp_df_1)/len(yelp_df_1_5)*100,'%')"
   ],
   "metadata": {
    "collapsed": false,
    "ExecuteTime": {
     "end_time": "2024-02-01T09:50:21.867200Z",
     "start_time": "2024-02-01T09:50:21.808917Z"
    }
   },
   "id": "295d3826a3a4b5e7",
   "execution_count": 42
  },
  {
   "cell_type": "code",
   "outputs": [
    {
     "data": {
      "text/plain": "<Axes: xlabel='stars', ylabel='count'>"
     },
     "execution_count": 43,
     "metadata": {},
     "output_type": "execute_result"
    },
    {
     "data": {
      "text/plain": "<Figure size 640x480 with 1 Axes>",
      "image/png": "[encoded data removed]"
     },
     "metadata": {},
     "output_type": "display_data"
    }
   ],
   "source": [
    "sns.countplot(x= yelp_df_1_5['stars'], label = 'Count')"
   ],
   "metadata": {
    "collapsed": false,
    "ExecuteTime": {
     "end_time": "2024-02-01T09:50:21.949286Z",
     "start_time": "2024-02-01T09:50:21.812667Z"
    }
   },
   "id": "3db806a52b24ce3a",
   "execution_count": 43
  },
  {
   "cell_type": "markdown",
   "source": [
    "## 자연어 처리 연습"
   ],
   "metadata": {
    "collapsed": false
   },
   "id": "f30c17d5ee3d372d"
  },
  {
   "cell_type": "code",
   "outputs": [
    {
     "data": {
      "text/plain": "'!\"#$%&\\'()*+,-./:;<=>?@[\\\\]^_`{|}~'"
     },
     "execution_count": 44,
     "metadata": {},
     "output_type": "execute_result"
    }
   ],
   "source": [
    "import string\n",
    "string.punctuation # 특수기호 => 자연어 처리할때 제거해줄거임"
   ],
   "metadata": {
    "collapsed": false,
    "ExecuteTime": {
     "end_time": "2024-02-01T09:50:21.949837Z",
     "start_time": "2024-02-01T09:50:21.886882Z"
    }
   },
   "id": "131773361324727f",
   "execution_count": 44
  },
  {
   "cell_type": "code",
   "outputs": [
    {
     "data": {
      "text/plain": "['H',\n 'e',\n 'l',\n 'l',\n 'o',\n ' ',\n 'M',\n 'r',\n ' ',\n 'F',\n 'u',\n 't',\n 'u',\n 'r',\n 'e',\n ' ',\n 'I',\n ' ',\n 'a',\n 'm',\n ' ',\n 's',\n 'o',\n ' ',\n 'h',\n 'a',\n 'p',\n 'p',\n 'y',\n ' ',\n 't',\n 'o',\n ' ',\n 'b',\n 'e',\n ' ',\n 'l',\n 'e',\n 'a',\n 'r',\n 'n',\n 'i',\n 'n',\n 'g',\n ' ',\n 'A',\n 'I',\n ' ',\n 'n',\n 'o',\n 'w']"
     },
     "execution_count": 45,
     "metadata": {},
     "output_type": "execute_result"
    }
   ],
   "source": [
    "Test = 'Hello Mr. Future, I am so happy to be learning AI now!!'\n",
    "Test_punc_removed = [  char for char in Test if char not in string.punctuation ]\n",
    "Test_punc_removed"
   ],
   "metadata": {
    "collapsed": false,
    "ExecuteTime": {
     "end_time": "2024-02-01T09:50:21.968923Z",
     "start_time": "2024-02-01T09:50:21.897223Z"
    }
   },
   "id": "6f31b58fa0dc7f5f",
   "execution_count": 45
  },
  {
   "cell_type": "code",
   "outputs": [
    {
     "data": {
      "text/plain": "'Hello Mr Future I am so happy to be learning AI now'"
     },
     "execution_count": 46,
     "metadata": {},
     "output_type": "execute_result"
    }
   ],
   "source": [
    "Test_punc_removed_join = ''.join(Test_punc_removed)\n",
    "Test_punc_removed_join"
   ],
   "metadata": {
    "collapsed": false,
    "ExecuteTime": {
     "end_time": "2024-02-01T09:50:22.065402Z",
     "start_time": "2024-02-01T09:50:21.904924Z"
    }
   },
   "id": "944beaa434c9d29",
   "execution_count": 46
  },
  {
   "cell_type": "code",
   "outputs": [
    {
     "data": {
      "text/plain": "'H@e@l@l@o@ @M@r@ @F@u@t@u@r@e@ @I@ @a@m@ @s@o@ @h@a@p@p@y@ @t@o@ @b@e@ @l@e@a@r@n@i@n@g@ @A@I@ @n@o@w'"
     },
     "execution_count": 47,
     "metadata": {},
     "output_type": "execute_result"
    }
   ],
   "source": [
    "Test_punc_removed_join2 = '@'.join(Test_punc_removed)\n",
    "Test_punc_removed_join2"
   ],
   "metadata": {
    "collapsed": false,
    "ExecuteTime": {
     "end_time": "2024-02-01T09:50:22.066191Z",
     "start_time": "2024-02-01T09:50:21.914331Z"
    }
   },
   "id": "d6ee8daa32b3b5dd",
   "execution_count": 47
  },
  {
   "cell_type": "code",
   "outputs": [
    {
     "name": "stderr",
     "output_type": "stream",
     "text": [
      "[nltk_data] Downloading package stopwords to /Users/hyun-\n",
      "[nltk_data]     uk/nltk_data...\n",
      "[nltk_data]   Package stopwords is already up-to-date!\n"
     ]
    },
    {
     "data": {
      "text/plain": "['i',\n 'me',\n 'my',\n 'myself',\n 'we',\n 'our',\n 'ours',\n 'ourselves',\n 'you',\n \"you're\",\n \"you've\",\n \"you'll\",\n \"you'd\",\n 'your',\n 'yours',\n 'yourself',\n 'yourselves',\n 'he',\n 'him',\n 'his',\n 'himself',\n 'she',\n \"she's\",\n 'her',\n 'hers',\n 'herself',\n 'it',\n \"it's\",\n 'its',\n 'itself',\n 'they',\n 'them',\n 'their',\n 'theirs',\n 'themselves',\n 'what',\n 'which',\n 'who',\n 'whom',\n 'this',\n 'that',\n \"that'll\",\n 'these',\n 'those',\n 'am',\n 'is',\n 'are',\n 'was',\n 'were',\n 'be',\n 'been',\n 'being',\n 'have',\n 'has',\n 'had',\n 'having',\n 'do',\n 'does',\n 'did',\n 'doing',\n 'a',\n 'an',\n 'the',\n 'and',\n 'but',\n 'if',\n 'or',\n 'because',\n 'as',\n 'until',\n 'while',\n 'of',\n 'at',\n 'by',\n 'for',\n 'with',\n 'about',\n 'against',\n 'between',\n 'into',\n 'through',\n 'during',\n 'before',\n 'after',\n 'above',\n 'below',\n 'to',\n 'from',\n 'up',\n 'down',\n 'in',\n 'out',\n 'on',\n 'off',\n 'over',\n 'under',\n 'again',\n 'further',\n 'then',\n 'once',\n 'here',\n 'there',\n 'when',\n 'where',\n 'why',\n 'how',\n 'all',\n 'any',\n 'both',\n 'each',\n 'few',\n 'more',\n 'most',\n 'other',\n 'some',\n 'such',\n 'no',\n 'nor',\n 'not',\n 'only',\n 'own',\n 'same',\n 'so',\n 'than',\n 'too',\n 'very',\n 's',\n 't',\n 'can',\n 'will',\n 'just',\n 'don',\n \"don't\",\n 'should',\n \"should've\",\n 'now',\n 'd',\n 'll',\n 'm',\n 'o',\n 're',\n 've',\n 'y',\n 'ain',\n 'aren',\n \"aren't\",\n 'couldn',\n \"couldn't\",\n 'didn',\n \"didn't\",\n 'doesn',\n \"doesn't\",\n 'hadn',\n \"hadn't\",\n 'hasn',\n \"hasn't\",\n 'haven',\n \"haven't\",\n 'isn',\n \"isn't\",\n 'ma',\n 'mightn',\n \"mightn't\",\n 'mustn',\n \"mustn't\",\n 'needn',\n \"needn't\",\n 'shan',\n \"shan't\",\n 'shouldn',\n \"shouldn't\",\n 'wasn',\n \"wasn't\",\n 'weren',\n \"weren't\",\n 'won',\n \"won't\",\n 'wouldn',\n \"wouldn't\"]"
     },
     "execution_count": 48,
     "metadata": {},
     "output_type": "execute_result"
    }
   ],
   "source": [
    "# stopword(불용어)를 제거하기\n",
    "import nltk\n",
    "nltk.download('stopwords')\n",
    "\n",
    "from nltk.corpus import stopwords\n",
    "stopwords.words('english')"
   ],
   "metadata": {
    "collapsed": false,
    "ExecuteTime": {
     "end_time": "2024-02-01T09:50:22.161712Z",
     "start_time": "2024-02-01T09:50:21.924245Z"
    }
   },
   "id": "d65d3334f11470a2",
   "execution_count": 48
  },
  {
   "cell_type": "code",
   "outputs": [
    {
     "data": {
      "text/plain": "['Hello', 'Mr', 'Future', 'happy', 'learning', 'AI']"
     },
     "execution_count": 49,
     "metadata": {},
     "output_type": "execute_result"
    }
   ],
   "source": [
    "Test_punc_removed_join_clean = [text for text in Test_punc_removed_join.split() if text.lower() not in stopwords.words('english')]\n",
    "Test_punc_removed_join_clean"
   ],
   "metadata": {
    "collapsed": false,
    "ExecuteTime": {
     "end_time": "2024-02-01T09:50:22.163127Z",
     "start_time": "2024-02-01T09:50:22.069835Z"
    }
   },
   "id": "38c716756fbe2633",
   "execution_count": 49
  },
  {
   "cell_type": "code",
   "outputs": [],
   "source": [
    "# 이것도 해야하지만 6에서 했으므로 생략\n",
    "from sklearn.feature_extraction.text import CountVectorizer\n",
    "\n",
    "# vectorizer = CountVectorizer()"
   ],
   "metadata": {
    "collapsed": false,
    "ExecuteTime": {
     "end_time": "2024-02-01T09:50:22.170298Z",
     "start_time": "2024-02-01T09:50:22.076099Z"
    }
   },
   "id": "794aba6a1acc9b71",
   "execution_count": 50
  },
  {
   "cell_type": "code",
   "outputs": [],
   "source": [
    "# 이제 이걸 데이터에 적용\n",
    "# 함수로 파이프 라인 만들기\n",
    "def message_cleaning(message):\n",
    "    Test_punc_removed = [ char for char in message if char not in string.punctuation]\n",
    "    Test_punc_removed_join = ''.join(Test_punc_removed)\n",
    "    Test_punc_removed_join_clean = [ word for word in Test_punc_removed_join.split() if word.lower() not in stopwords.words('english')]\n",
    "    return Test_punc_removed_join_clean\n"
   ],
   "metadata": {
    "collapsed": false,
    "ExecuteTime": {
     "end_time": "2024-02-01T09:50:22.170722Z",
     "start_time": "2024-02-01T09:50:22.078680Z"
    }
   },
   "id": "f9a06898816aab8",
   "execution_count": 51
  },
  {
   "cell_type": "code",
   "outputs": [
    {
     "data": {
      "text/plain": "23    [U, go, n, check, car, u, wanna, buy, 1, Thats...\n31    [Disgusting, Groupon, daughter, tried, outdate...\n35    [Ive, eaten, many, times, none, bad, last, nig...\n61    [always, fan, Burlingtons, deals, however, sho...\n64    [Another, night, meeting, friends, laugh, Wait...\nName: text, dtype: object"
     },
     "execution_count": 52,
     "metadata": {},
     "output_type": "execute_result"
    }
   ],
   "source": [
    "yelp_df_clean = yelp_df_1_5['text'].apply(message_cleaning)\n",
    "yelp_df_clean.head()"
   ],
   "metadata": {
    "collapsed": false,
    "ExecuteTime": {
     "end_time": "2024-02-01T09:50:50.348014Z",
     "start_time": "2024-02-01T09:50:22.081160Z"
    }
   },
   "id": "868f9b0010acaff0",
   "execution_count": 52
  },
  {
   "cell_type": "code",
   "outputs": [
    {
     "name": "stdout",
     "output_type": "stream",
     "text": [
      "['wife', 'took', 'birthday', 'breakfast', 'excellent', 'weather', 'perfect', 'made', 'sitting', 'outside', 'overlooking', 'grounds', 'absolute', 'pleasure', 'waitress', 'excellent', 'food', 'arrived', 'quickly', 'semibusy', 'Saturday', 'morning', 'looked', 'like', 'place', 'fills', 'pretty', 'quickly', 'earlier', 'get', 'better', 'favor', 'get', 'Bloody', 'Mary', 'phenomenal', 'simply', 'best', 'Ive', 'ever', 'Im', 'pretty', 'sure', 'use', 'ingredients', 'garden', 'blend', 'fresh', 'order', 'amazing', 'EVERYTHING', 'menu', 'looks', 'excellent', 'white', 'truffle', 'scrambled', 'eggs', 'vegetable', 'skillet', 'tasty', 'delicious', 'came', '2', 'pieces', 'griddled', 'bread', 'amazing', 'absolutely', 'made', 'meal', 'complete', 'best', 'toast', 'Ive', 'ever', 'Anyway', 'cant', 'wait', 'go', 'back']\n"
     ]
    }
   ],
   "source": [
    "print(yelp_df_clean[0]) # clean 된거"
   ],
   "metadata": {
    "collapsed": false,
    "ExecuteTime": {
     "end_time": "2024-02-01T10:01:52.929465Z",
     "start_time": "2024-02-01T10:01:52.917131Z"
    }
   },
   "id": "20ea757a43d84099",
   "execution_count": 53
  },
  {
   "cell_type": "code",
   "outputs": [
    {
     "name": "stdout",
     "output_type": "stream",
     "text": [
      "My wife took me here on my birthday for breakfast and it was excellent.  The weather was perfect which made sitting outside overlooking their grounds an absolute pleasure.  Our waitress was excellent and our food arrived quickly on the semi-busy Saturday morning.  It looked like the place fills up pretty quickly so the earlier you get here the better.\n",
      "\n",
      "Do yourself a favor and get their Bloody Mary.  It was phenomenal and simply the best I've ever had.  I'm pretty sure they only use ingredients from their garden and blend them fresh when you order it.  It was amazing.\n",
      "\n",
      "While EVERYTHING on the menu looks excellent, I had the white truffle scrambled eggs vegetable skillet and it was tasty and delicious.  It came with 2 pieces of their griddled bread with was amazing and it absolutely made the meal complete.  It was the best \"toast\" I've ever had.\n",
      "\n",
      "Anyway, I can't wait to go back!\n"
     ]
    }
   ],
   "source": [
    "print(yelp_df_1_5['text'][0]) # 클린 안된거"
   ],
   "metadata": {
    "collapsed": false,
    "ExecuteTime": {
     "end_time": "2024-02-01T10:02:24.843586Z",
     "start_time": "2024-02-01T10:02:24.774465Z"
    }
   },
   "id": "fae2a581e3b1677",
   "execution_count": 54
  },
  {
   "cell_type": "code",
   "outputs": [],
   "source": [
    "from sklearn.feature_extraction.text import CountVectorizer\n",
    "\n",
    "vectorizer = CountVectorizer(analyzer=message_cleaning)\n",
    "yelp_countvectorizer = vectorizer.fit_transform(yelp_df_1_5['text'])"
   ],
   "metadata": {
    "collapsed": false,
    "ExecuteTime": {
     "end_time": "2024-02-01T10:19:55.051311Z",
     "start_time": "2024-02-01T10:19:29.713397Z"
    }
   },
   "id": "a6baad2f1db21d6d",
   "execution_count": 55
  },
  {
   "cell_type": "code",
   "outputs": [
    {
     "data": {
      "text/plain": "array(['0', '00s', '01042012', ..., 'École', 'éclairs', 'ém'],\n      dtype=object)"
     },
     "execution_count": 61,
     "metadata": {},
     "output_type": "execute_result"
    }
   ],
   "source": [
    "vectorizer.get_feature_names_out()"
   ],
   "metadata": {
    "collapsed": false,
    "ExecuteTime": {
     "end_time": "2024-02-01T10:23:11.860130Z",
     "start_time": "2024-02-01T10:23:11.812849Z"
    }
   },
   "id": "1ecda21125cdfc7f",
   "execution_count": 61
  },
  {
   "cell_type": "code",
   "outputs": [
    {
     "name": "stdout",
     "output_type": "stream",
     "text": [
      "[[0 0 0 ... 0 0 0]\n",
      " [0 0 0 ... 0 0 0]\n",
      " [0 0 0 ... 0 0 0]\n",
      " ...\n",
      " [0 0 0 ... 0 0 0]\n",
      " [0 0 0 ... 0 0 0]\n",
      " [0 0 0 ... 0 0 0]]\n"
     ]
    }
   ],
   "source": [
    "print(yelp_countvectorizer.toarray())"
   ],
   "metadata": {
    "collapsed": false,
    "ExecuteTime": {
     "end_time": "2024-02-01T10:21:11.802865Z",
     "start_time": "2024-02-01T10:21:11.627268Z"
    }
   },
   "id": "4cb681e9bbb49029",
   "execution_count": 58
  },
  {
   "cell_type": "code",
   "outputs": [
    {
     "data": {
      "text/plain": "(4086, 26435)"
     },
     "execution_count": 59,
     "metadata": {},
     "output_type": "execute_result"
    }
   ],
   "source": [
    "yelp_countvectorizer.shape\n",
    "# 4086 : 별점 1과5의 데이터\n",
    "# 26000 : 개수"
   ],
   "metadata": {
    "collapsed": false,
    "ExecuteTime": {
     "end_time": "2024-02-01T10:21:18.611807Z",
     "start_time": "2024-02-01T10:21:18.599967Z"
    }
   },
   "id": "fc4da009424e36ac",
   "execution_count": 59
  },
  {
   "cell_type": "markdown",
   "source": [
    "## 모델 훈련"
   ],
   "metadata": {
    "collapsed": false
   },
   "id": "f1efd6736602b28f"
  },
  {
   "cell_type": "code",
   "outputs": [],
   "source": [
    "from sklearn.naive_bayes import MultinomialNB\n",
    "NB_classifier = MultinomialNB()\n",
    "label = yelp_df_1_5['stars'].values\n",
    "# values로 줘야지 넘파이 array로 들어감"
   ],
   "metadata": {
    "collapsed": false,
    "ExecuteTime": {
     "end_time": "2024-02-01T12:01:59.456894Z",
     "start_time": "2024-02-01T12:01:59.427047Z"
    }
   },
   "id": "7888708f4db2f2fe",
   "execution_count": 62
  },
  {
   "cell_type": "code",
   "outputs": [
    {
     "data": {
      "text/plain": "array([1, 1, 1, ..., 5, 5, 5])"
     },
     "execution_count": 63,
     "metadata": {},
     "output_type": "execute_result"
    }
   ],
   "source": [
    "label"
   ],
   "metadata": {
    "collapsed": false,
    "ExecuteTime": {
     "end_time": "2024-02-01T12:02:08.404534Z",
     "start_time": "2024-02-01T12:02:08.385955Z"
    }
   },
   "id": "c9b89e1263bc4ba0",
   "execution_count": 63
  },
  {
   "cell_type": "code",
   "outputs": [
    {
     "data": {
      "text/plain": "MultinomialNB()",
      "text/html": "<style>#sk-container-id-1 {color: black;}#sk-container-id-1 pre{padding: 0;}#sk-container-id-1 div.sk-toggleable {background-color: white;}#sk-container-id-1 label.sk-toggleable__label {cursor: pointer;display: block;width: 100%;margin-bottom: 0;padding: 0.3em;box-sizing: border-box;text-align: center;}#sk-container-id-1 label.sk-toggleable__label-arrow:before {content: \"▸\";float: left;margin-right: 0.25em;color: #696969;}#sk-container-id-1 label.sk-toggleable__label-arrow:hover:before {color: black;}#sk-container-id-1 div.sk-estimator:hover label.sk-toggleable__label-arrow:before {color: black;}#sk-container-id-1 div.sk-toggleable__content {max-height: 0;max-width: 0;overflow: hidden;text-align: left;background-color: #f0f8ff;}#sk-container-id-1 div.sk-toggleable__content pre {margin: 0.2em;color: black;border-radius: 0.25em;background-color: #f0f8ff;}#sk-container-id-1 input.sk-toggleable__control:checked~div.sk-toggleable__content {max-height: 200px;max-width: 100%;overflow: auto;}#sk-container-id-1 input.sk-toggleable__control:checked~label.sk-toggleable__label-arrow:before {content: \"▾\";}#sk-container-id-1 div.sk-estimator input.sk-toggleable__control:checked~label.sk-toggleable__label {background-color: #d4ebff;}#sk-container-id-1 div.sk-label input.sk-toggleable__control:checked~label.sk-toggleable__label {background-color: #d4ebff;}#sk-container-id-1 input.sk-hidden--visually {border: 0;clip: rect(1px 1px 1px 1px);clip: rect(1px, 1px, 1px, 1px);height: 1px;margin: -1px;overflow: hidden;padding: 0;position: absolute;width: 1px;}#sk-container-id-1 div.sk-estimator {font-family: monospace;background-color: #f0f8ff;border: 1px dotted black;border-radius: 0.25em;box-sizing: border-box;margin-bottom: 0.5em;}#sk-container-id-1 div.sk-estimator:hover {background-color: #d4ebff;}#sk-container-id-1 div.sk-parallel-item::after {content: \"\";width: 100%;border-bottom: 1px solid gray;flex-grow: 1;}#sk-container-id-1 div.sk-label:hover label.sk-toggleable__label {background-color: #d4ebff;}#sk-container-id-1 div.sk-serial::before {content: \"\";position: absolute;border-left: 1px solid gray;box-sizing: border-box;top: 0;bottom: 0;left: 50%;z-index: 0;}#sk-container-id-1 div.sk-serial {display: flex;flex-direction: column;align-items: center;background-color: white;padding-right: 0.2em;padding-left: 0.2em;position: relative;}#sk-container-id-1 div.sk-item {position: relative;z-index: 1;}#sk-container-id-1 div.sk-parallel {display: flex;align-items: stretch;justify-content: center;background-color: white;position: relative;}#sk-container-id-1 div.sk-item::before, #sk-container-id-1 div.sk-parallel-item::before {content: \"\";position: absolute;border-left: 1px solid gray;box-sizing: border-box;top: 0;bottom: 0;left: 50%;z-index: -1;}#sk-container-id-1 div.sk-parallel-item {display: flex;flex-direction: column;z-index: 1;position: relative;background-color: white;}#sk-container-id-1 div.sk-parallel-item:first-child::after {align-self: flex-end;width: 50%;}#sk-container-id-1 div.sk-parallel-item:last-child::after {align-self: flex-start;width: 50%;}#sk-container-id-1 div.sk-parallel-item:only-child::after {width: 0;}#sk-container-id-1 div.sk-dashed-wrapped {border: 1px dashed gray;margin: 0 0.4em 0.5em 0.4em;box-sizing: border-box;padding-bottom: 0.4em;background-color: white;}#sk-container-id-1 div.sk-label label {font-family: monospace;font-weight: bold;display: inline-block;line-height: 1.2em;}#sk-container-id-1 div.sk-label-container {text-align: center;}#sk-container-id-1 div.sk-container {/* jupyter's `normalize.less` sets `[hidden] { display: none; }` but bootstrap.min.css set `[hidden] { display: none !important; }` so we also need the `!important` here to be able to override the default hidden behavior on the sphinx rendered scikit-learn.org. See: https://github.com/scikit-learn/scikit-learn/issues/21755 */display: inline-block !important;position: relative;}#sk-container-id-1 div.sk-text-repr-fallback {display: none;}</style><div id=\"sk-container-id-1\" class=\"sk-top-container\"><div class=\"sk-text-repr-fallback\"><pre>MultinomialNB()</pre><b>In a Jupyter environment, please rerun this cell to show the HTML representation or trust the notebook. <br />On GitHub, the HTML representation is unable to render, please try loading this page with nbviewer.org.</b></div><div class=\"sk-container\" hidden><div class=\"sk-item\"><div class=\"sk-estimator sk-toggleable\"><input class=\"sk-toggleable__control sk-hidden--visually\" id=\"sk-estimator-id-1\" type=\"checkbox\" checked><label for=\"sk-estimator-id-1\" class=\"sk-toggleable__label sk-toggleable__label-arrow\">MultinomialNB</label><div class=\"sk-toggleable__content\"><pre>MultinomialNB()</pre></div></div></div></div></div>"
     },
     "execution_count": 65,
     "metadata": {},
     "output_type": "execute_result"
    }
   ],
   "source": [
    "NB_classifier.fit(yelp_countvectorizer, label)"
   ],
   "metadata": {
    "collapsed": false,
    "ExecuteTime": {
     "end_time": "2024-02-01T12:03:00.723859Z",
     "start_time": "2024-02-01T12:03:00.705812Z"
    }
   },
   "id": "3f4cb353723c7614",
   "execution_count": 65
  },
  {
   "cell_type": "code",
   "outputs": [],
   "source": [
    "test_sample = ['amazing food! highly recommended']\n",
    "test_sample1 = ['disgusting food! made me shit!']\n",
    "\n",
    "test_sample_countvectorizer = vectorizer.transform(test_sample)\n",
    "test_predict = NB_classifier.predict(test_sample_countvectorizer)\n",
    "\n",
    "test_sample_countvectorizer1 = vectorizer.transform(test_sample1)\n",
    "test_predict1 = NB_classifier.predict(test_sample_countvectorizer1)"
   ],
   "metadata": {
    "collapsed": false,
    "ExecuteTime": {
     "end_time": "2024-02-01T12:06:54.869151Z",
     "start_time": "2024-02-01T12:06:54.855143Z"
    }
   },
   "id": "2f8476a3c5f72549",
   "execution_count": 82
  },
  {
   "cell_type": "code",
   "outputs": [
    {
     "data": {
      "text/plain": "array([5])"
     },
     "execution_count": 83,
     "metadata": {},
     "output_type": "execute_result"
    }
   ],
   "source": [
    "test_predict"
   ],
   "metadata": {
    "collapsed": false,
    "ExecuteTime": {
     "end_time": "2024-02-01T12:06:57.041282Z",
     "start_time": "2024-02-01T12:06:57.027873Z"
    }
   },
   "id": "46a01fbd62cb7a4b",
   "execution_count": 83
  },
  {
   "cell_type": "code",
   "outputs": [
    {
     "data": {
      "text/plain": "array([1])"
     },
     "execution_count": 84,
     "metadata": {},
     "output_type": "execute_result"
    }
   ],
   "source": [
    "test_predict1"
   ],
   "metadata": {
    "collapsed": false,
    "ExecuteTime": {
     "end_time": "2024-02-01T12:06:57.203840Z",
     "start_time": "2024-02-01T12:06:57.191192Z"
    }
   },
   "id": "1320512485ebbbe6",
   "execution_count": 84
  },
  {
   "cell_type": "markdown",
   "source": [
    "## 트레이닝과 테스트셋으로 나눠서 해보기"
   ],
   "metadata": {
    "collapsed": false
   },
   "id": "a06d20e36233e557"
  },
  {
   "cell_type": "code",
   "outputs": [],
   "source": [
    "\n",
    "from sklearn.model_selection import train_test_split\n",
    "X = yelp_countvectorizer\n",
    "y = label\n",
    "X_train, X_test, y_train, y_test = train_test_split(X,y,test_size = 0.2)"
   ],
   "metadata": {
    "collapsed": false,
    "ExecuteTime": {
     "end_time": "2024-02-01T12:11:10.734392Z",
     "start_time": "2024-02-01T12:11:10.725114Z"
    }
   },
   "id": "748d0a1669af927a",
   "execution_count": 86
  },
  {
   "cell_type": "code",
   "outputs": [
    {
     "data": {
      "text/plain": "MultinomialNB()",
      "text/html": "<style>#sk-container-id-2 {color: black;}#sk-container-id-2 pre{padding: 0;}#sk-container-id-2 div.sk-toggleable {background-color: white;}#sk-container-id-2 label.sk-toggleable__label {cursor: pointer;display: block;width: 100%;margin-bottom: 0;padding: 0.3em;box-sizing: border-box;text-align: center;}#sk-container-id-2 label.sk-toggleable__label-arrow:before {content: \"▸\";float: left;margin-right: 0.25em;color: #696969;}#sk-container-id-2 label.sk-toggleable__label-arrow:hover:before {color: black;}#sk-container-id-2 div.sk-estimator:hover label.sk-toggleable__label-arrow:before {color: black;}#sk-container-id-2 div.sk-toggleable__content {max-height: 0;max-width: 0;overflow: hidden;text-align: left;background-color: #f0f8ff;}#sk-container-id-2 div.sk-toggleable__content pre {margin: 0.2em;color: black;border-radius: 0.25em;background-color: #f0f8ff;}#sk-container-id-2 input.sk-toggleable__control:checked~div.sk-toggleable__content {max-height: 200px;max-width: 100%;overflow: auto;}#sk-container-id-2 input.sk-toggleable__control:checked~label.sk-toggleable__label-arrow:before {content: \"▾\";}#sk-container-id-2 div.sk-estimator input.sk-toggleable__control:checked~label.sk-toggleable__label {background-color: #d4ebff;}#sk-container-id-2 div.sk-label input.sk-toggleable__control:checked~label.sk-toggleable__label {background-color: #d4ebff;}#sk-container-id-2 input.sk-hidden--visually {border: 0;clip: rect(1px 1px 1px 1px);clip: rect(1px, 1px, 1px, 1px);height: 1px;margin: -1px;overflow: hidden;padding: 0;position: absolute;width: 1px;}#sk-container-id-2 div.sk-estimator {font-family: monospace;background-color: #f0f8ff;border: 1px dotted black;border-radius: 0.25em;box-sizing: border-box;margin-bottom: 0.5em;}#sk-container-id-2 div.sk-estimator:hover {background-color: #d4ebff;}#sk-container-id-2 div.sk-parallel-item::after {content: \"\";width: 100%;border-bottom: 1px solid gray;flex-grow: 1;}#sk-container-id-2 div.sk-label:hover label.sk-toggleable__label {background-color: #d4ebff;}#sk-container-id-2 div.sk-serial::before {content: \"\";position: absolute;border-left: 1px solid gray;box-sizing: border-box;top: 0;bottom: 0;left: 50%;z-index: 0;}#sk-container-id-2 div.sk-serial {display: flex;flex-direction: column;align-items: center;background-color: white;padding-right: 0.2em;padding-left: 0.2em;position: relative;}#sk-container-id-2 div.sk-item {position: relative;z-index: 1;}#sk-container-id-2 div.sk-parallel {display: flex;align-items: stretch;justify-content: center;background-color: white;position: relative;}#sk-container-id-2 div.sk-item::before, #sk-container-id-2 div.sk-parallel-item::before {content: \"\";position: absolute;border-left: 1px solid gray;box-sizing: border-box;top: 0;bottom: 0;left: 50%;z-index: -1;}#sk-container-id-2 div.sk-parallel-item {display: flex;flex-direction: column;z-index: 1;position: relative;background-color: white;}#sk-container-id-2 div.sk-parallel-item:first-child::after {align-self: flex-end;width: 50%;}#sk-container-id-2 div.sk-parallel-item:last-child::after {align-self: flex-start;width: 50%;}#sk-container-id-2 div.sk-parallel-item:only-child::after {width: 0;}#sk-container-id-2 div.sk-dashed-wrapped {border: 1px dashed gray;margin: 0 0.4em 0.5em 0.4em;box-sizing: border-box;padding-bottom: 0.4em;background-color: white;}#sk-container-id-2 div.sk-label label {font-family: monospace;font-weight: bold;display: inline-block;line-height: 1.2em;}#sk-container-id-2 div.sk-label-container {text-align: center;}#sk-container-id-2 div.sk-container {/* jupyter's `normalize.less` sets `[hidden] { display: none; }` but bootstrap.min.css set `[hidden] { display: none !important; }` so we also need the `!important` here to be able to override the default hidden behavior on the sphinx rendered scikit-learn.org. See: https://github.com/scikit-learn/scikit-learn/issues/21755 */display: inline-block !important;position: relative;}#sk-container-id-2 div.sk-text-repr-fallback {display: none;}</style><div id=\"sk-container-id-2\" class=\"sk-top-container\"><div class=\"sk-text-repr-fallback\"><pre>MultinomialNB()</pre><b>In a Jupyter environment, please rerun this cell to show the HTML representation or trust the notebook. <br />On GitHub, the HTML representation is unable to render, please try loading this page with nbviewer.org.</b></div><div class=\"sk-container\" hidden><div class=\"sk-item\"><div class=\"sk-estimator sk-toggleable\"><input class=\"sk-toggleable__control sk-hidden--visually\" id=\"sk-estimator-id-2\" type=\"checkbox\" checked><label for=\"sk-estimator-id-2\" class=\"sk-toggleable__label sk-toggleable__label-arrow\">MultinomialNB</label><div class=\"sk-toggleable__content\"><pre>MultinomialNB()</pre></div></div></div></div></div>"
     },
     "execution_count": 89,
     "metadata": {},
     "output_type": "execute_result"
    }
   ],
   "source": [
    "from sklearn.naive_bayes import MultinomialNB\n",
    "NB_classifier = MultinomialNB()\n",
    "NB_classifier.fit(X_train, y_train)"
   ],
   "metadata": {
    "collapsed": false,
    "ExecuteTime": {
     "end_time": "2024-02-01T12:12:05.511497Z",
     "start_time": "2024-02-01T12:12:05.490513Z"
    }
   },
   "id": "6dd59f98da03d119",
   "execution_count": 89
  },
  {
   "cell_type": "code",
   "outputs": [
    {
     "data": {
      "text/plain": "array([5, 5, 5, ..., 5, 5, 1])"
     },
     "execution_count": 90,
     "metadata": {},
     "output_type": "execute_result"
    }
   ],
   "source": [
    "from sklearn.metrics import confusion_matrix, classification_report\n",
    "\n",
    "y_predict_train = NB_classifier.predict(X_train)\n",
    "y_predict_train"
   ],
   "metadata": {
    "collapsed": false,
    "ExecuteTime": {
     "end_time": "2024-02-01T12:14:06.333180Z",
     "start_time": "2024-02-01T12:14:06.324208Z"
    }
   },
   "id": "9e1c514a596534be",
   "execution_count": 90
  },
  {
   "cell_type": "code",
   "outputs": [
    {
     "data": {
      "text/plain": "<Axes: >"
     },
     "execution_count": 91,
     "metadata": {},
     "output_type": "execute_result"
    },
    {
     "data": {
      "text/plain": "<Figure size 640x480 with 2 Axes>",
      "image/png": "[encoded data removed]"
     },
     "metadata": {},
     "output_type": "display_data"
    }
   ],
   "source": [
    "cm = confusion_matrix(y_train, y_predict_train)\n",
    "sns.heatmap(data = cm, annot=True)"
   ],
   "metadata": {
    "collapsed": false,
    "ExecuteTime": {
     "end_time": "2024-02-01T12:14:41.128651Z",
     "start_time": "2024-02-01T12:14:40.972974Z"
    }
   },
   "id": "ae2f2a20b5214711",
   "execution_count": 91
  },
  {
   "cell_type": "code",
   "outputs": [
    {
     "data": {
      "text/plain": "<Axes: >"
     },
     "execution_count": 92,
     "metadata": {},
     "output_type": "execute_result"
    },
    {
     "data": {
      "text/plain": "<Figure size 640x480 with 2 Axes>",
      "image/png": "[encoded data removed]"
     },
     "metadata": {},
     "output_type": "display_data"
    }
   ],
   "source": [
    "y_predict_test = NB_classifier.predict(X_test)\n",
    "cm = confusion_matrix(y_test, y_predict_test)\n",
    "sns.heatmap(data = cm, annot=True)"
   ],
   "metadata": {
    "collapsed": false,
    "ExecuteTime": {
     "end_time": "2024-02-01T12:15:27.845909Z",
     "start_time": "2024-02-01T12:15:27.695222Z"
    }
   },
   "id": "7211b6be7fbe8114",
   "execution_count": 92
  },
  {
   "cell_type": "code",
   "outputs": [
    {
     "name": "stdout",
     "output_type": "stream",
     "text": [
      "              precision    recall  f1-score   support\n",
      "\n",
      "           1       0.78      0.68      0.73       149\n",
      "           5       0.93      0.96      0.94       669\n",
      "\n",
      "    accuracy                           0.91       818\n",
      "   macro avg       0.86      0.82      0.84       818\n",
      "weighted avg       0.90      0.91      0.90       818\n"
     ]
    }
   ],
   "source": [
    "print(classification_report(y_test, y_predict_test))"
   ],
   "metadata": {
    "collapsed": false,
    "ExecuteTime": {
     "end_time": "2024-02-01T12:15:55.514047Z",
     "start_time": "2024-02-01T12:15:55.494423Z"
    }
   },
   "id": "21fd1d62adc7841e",
   "execution_count": 93
  },
  {
   "cell_type": "code",
   "outputs": [],
   "source": [
    "# Tf-idf feature를 추가하는 법\n",
    "# 텍스트마이닝이나 자연어 처리에서 사용할 수 있는 기술이지만\n",
    "# 여기서는 크게 개선되진 않을거임\n",
    "# 아이디어, 한개의 문서에서 같은 단어가 여러번 나오면 중요한 단어라고 생각하는 것"
   ],
   "metadata": {
    "collapsed": false
   },
   "id": "32fdf039701c004e"
  }
 ],
 "metadata": {
  "kernelspec": {
   "display_name": "Python 3",
   "language": "python",
   "name": "python3"
  },
  "language_info": {
   "codemirror_mode": {
    "name": "ipython",
    "version": 2
   },
   "file_extension": ".py",
   "mimetype": "text/x-python",
   "name": "python",
   "nbconvert_exporter": "python",
   "pygments_lexer": "ipython2",
   "version": "2.7.6"
  }
 },
 "nbformat": 4,
 "nbformat_minor": 5
}
