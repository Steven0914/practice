{
 "cells": [
  {
   "cell_type": "code",
   "execution_count": 1,
   "id": "initial_id",
   "metadata": {
    "collapsed": true,
    "ExecuteTime": {
     "end_time": "2024-02-02T12:54:23.680599Z",
     "start_time": "2024-02-02T12:54:23.673515Z"
    }
   },
   "outputs": [],
   "source": [
    "# 라이브러리 가져오기\n",
    "import numpy as np\n",
    "import pandas as pd\n",
    "import matplotlib.pyplot as plt\n",
    "import seaborn as sns"
   ]
  },
  {
   "cell_type": "code",
   "outputs": [],
   "source": [
    "movie_titles_df = pd.read_csv('Movie_Id_Titles.csv')"
   ],
   "metadata": {
    "collapsed": false,
    "ExecuteTime": {
     "end_time": "2024-02-02T12:54:23.688362Z",
     "start_time": "2024-02-02T12:54:23.678230Z"
    }
   },
   "id": "cc12e7ac20f443c4",
   "execution_count": 2
  },
  {
   "cell_type": "code",
   "outputs": [
    {
     "data": {
      "text/plain": "      item_id                                      title\n0           1                           Toy Story (1995)\n1           2                           GoldenEye (1995)\n2           3                          Four Rooms (1995)\n3           4                          Get Shorty (1995)\n4           5                             Copycat (1995)\n...       ...                                        ...\n1677     1678                          Mat' i syn (1997)\n1678     1679                           B. Monkey (1998)\n1679     1680                       Sliding Doors (1998)\n1680     1681                        You So Crazy (1994)\n1681     1682  Scream of Stone (Schrei aus Stein) (1991)\n\n[1682 rows x 2 columns]",
      "text/html": "<div>\n<style scoped>\n    .dataframe tbody tr th:only-of-type {\n        vertical-align: middle;\n    }\n\n    .dataframe tbody tr th {\n        vertical-align: top;\n    }\n\n    .dataframe thead th {\n        text-align: right;\n    }\n</style>\n<table border=\"1\" class=\"dataframe\">\n  <thead>\n    <tr style=\"text-align: right;\">\n      <th></th>\n      <th>item_id</th>\n      <th>title</th>\n    </tr>\n  </thead>\n  <tbody>\n    <tr>\n      <th>0</th>\n      <td>1</td>\n      <td>Toy Story (1995)</td>\n    </tr>\n    <tr>\n      <th>1</th>\n      <td>2</td>\n      <td>GoldenEye (1995)</td>\n    </tr>\n    <tr>\n      <th>2</th>\n      <td>3</td>\n      <td>Four Rooms (1995)</td>\n    </tr>\n    <tr>\n      <th>3</th>\n      <td>4</td>\n      <td>Get Shorty (1995)</td>\n    </tr>\n    <tr>\n      <th>4</th>\n      <td>5</td>\n      <td>Copycat (1995)</td>\n    </tr>\n    <tr>\n      <th>...</th>\n      <td>...</td>\n      <td>...</td>\n    </tr>\n    <tr>\n      <th>1677</th>\n      <td>1678</td>\n      <td>Mat' i syn (1997)</td>\n    </tr>\n    <tr>\n      <th>1678</th>\n      <td>1679</td>\n      <td>B. Monkey (1998)</td>\n    </tr>\n    <tr>\n      <th>1679</th>\n      <td>1680</td>\n      <td>Sliding Doors (1998)</td>\n    </tr>\n    <tr>\n      <th>1680</th>\n      <td>1681</td>\n      <td>You So Crazy (1994)</td>\n    </tr>\n    <tr>\n      <th>1681</th>\n      <td>1682</td>\n      <td>Scream of Stone (Schrei aus Stein) (1991)</td>\n    </tr>\n  </tbody>\n</table>\n<p>1682 rows × 2 columns</p>\n</div>"
     },
     "execution_count": 3,
     "metadata": {},
     "output_type": "execute_result"
    }
   ],
   "source": [
    "movie_titles_df"
   ],
   "metadata": {
    "collapsed": false,
    "ExecuteTime": {
     "end_time": "2024-02-02T12:54:23.715083Z",
     "start_time": "2024-02-02T12:54:23.690431Z"
    }
   },
   "id": "b3f70590fd6c8da8",
   "execution_count": 3
  },
  {
   "cell_type": "code",
   "outputs": [],
   "source": [
    "movie_ratings_df = pd.read_csv('u.data',sep='\\t', names = ['user_id','item_id','rating','timestamp'])\n",
    "# sep='\\t': sep 파라미터는 파일의 구분자를 지정합니다. \n",
    "# 기본적으로 read_csv는 쉼표(,)를 구분자로 가정하지만, \n",
    "# sep='\\t'로 설정함으로써 탭(tab) 문자를 구분자로 사용하도록 지정합니다. \n",
    "# 'u.data' 파일이 탭으로 구분된 데이터를 포함하고 있다는 것을 의미합니다.\n",
    "\n",
    "# names = ['user_id', 'item_id', 'rating', 'timestamp']: \n",
    "# names 파라미터는 데이터프레임의 열(column) 이름을 지정합니다. \n",
    "# 여기서는 파일의 각 열에 해당하는 이름을 'user_id', 'item_id', 'rating', 'timestamp'로 지정하고 있습니다.\n",
    "# 이는 파일에 헤더가 없다는 것을 가정하고 있으며, 각 열에 이러한 이름을 부여함으로써 데이터를 더 쉽게 이해하고 다룰 수 있게 합니다."
   ],
   "metadata": {
    "collapsed": false,
    "ExecuteTime": {
     "end_time": "2024-02-02T12:54:23.717610Z",
     "start_time": "2024-02-02T12:54:23.697792Z"
    }
   },
   "id": "e56e41c1644f1dfd",
   "execution_count": 4
  },
  {
   "cell_type": "code",
   "outputs": [
    {
     "data": {
      "text/plain": "        user_id  item_id  rating  timestamp\n0             0       50       5  881250949\n1             0      172       5  881250949\n2             0      133       1  881250949\n3           196      242       3  881250949\n4           186      302       3  891717742\n...         ...      ...     ...        ...\n99998       880      476       3  880175444\n99999       716      204       5  879795543\n100000      276     1090       1  874795795\n100001       13      225       2  882399156\n100002       12      203       3  879959583\n\n[100003 rows x 4 columns]",
      "text/html": "<div>\n<style scoped>\n    .dataframe tbody tr th:only-of-type {\n        vertical-align: middle;\n    }\n\n    .dataframe tbody tr th {\n        vertical-align: top;\n    }\n\n    .dataframe thead th {\n        text-align: right;\n    }\n</style>\n<table border=\"1\" class=\"dataframe\">\n  <thead>\n    <tr style=\"text-align: right;\">\n      <th></th>\n      <th>user_id</th>\n      <th>item_id</th>\n      <th>rating</th>\n      <th>timestamp</th>\n    </tr>\n  </thead>\n  <tbody>\n    <tr>\n      <th>0</th>\n      <td>0</td>\n      <td>50</td>\n      <td>5</td>\n      <td>881250949</td>\n    </tr>\n    <tr>\n      <th>1</th>\n      <td>0</td>\n      <td>172</td>\n      <td>5</td>\n      <td>881250949</td>\n    </tr>\n    <tr>\n      <th>2</th>\n      <td>0</td>\n      <td>133</td>\n      <td>1</td>\n      <td>881250949</td>\n    </tr>\n    <tr>\n      <th>3</th>\n      <td>196</td>\n      <td>242</td>\n      <td>3</td>\n      <td>881250949</td>\n    </tr>\n    <tr>\n      <th>4</th>\n      <td>186</td>\n      <td>302</td>\n      <td>3</td>\n      <td>891717742</td>\n    </tr>\n    <tr>\n      <th>...</th>\n      <td>...</td>\n      <td>...</td>\n      <td>...</td>\n      <td>...</td>\n    </tr>\n    <tr>\n      <th>99998</th>\n      <td>880</td>\n      <td>476</td>\n      <td>3</td>\n      <td>880175444</td>\n    </tr>\n    <tr>\n      <th>99999</th>\n      <td>716</td>\n      <td>204</td>\n      <td>5</td>\n      <td>879795543</td>\n    </tr>\n    <tr>\n      <th>100000</th>\n      <td>276</td>\n      <td>1090</td>\n      <td>1</td>\n      <td>874795795</td>\n    </tr>\n    <tr>\n      <th>100001</th>\n      <td>13</td>\n      <td>225</td>\n      <td>2</td>\n      <td>882399156</td>\n    </tr>\n    <tr>\n      <th>100002</th>\n      <td>12</td>\n      <td>203</td>\n      <td>3</td>\n      <td>879959583</td>\n    </tr>\n  </tbody>\n</table>\n<p>100003 rows × 4 columns</p>\n</div>"
     },
     "execution_count": 5,
     "metadata": {},
     "output_type": "execute_result"
    }
   ],
   "source": [
    "movie_ratings_df"
   ],
   "metadata": {
    "collapsed": false,
    "ExecuteTime": {
     "end_time": "2024-02-02T12:54:23.734245Z",
     "start_time": "2024-02-02T12:54:23.717102Z"
    }
   },
   "id": "734ff741cc12a6d1",
   "execution_count": 5
  },
  {
   "cell_type": "code",
   "outputs": [
    {
     "data": {
      "text/plain": "        user_id  item_id  rating\n0             0       50       5\n1             0      172       5\n2             0      133       1\n3           196      242       3\n4           186      302       3\n...         ...      ...     ...\n99998       880      476       3\n99999       716      204       5\n100000      276     1090       1\n100001       13      225       2\n100002       12      203       3\n\n[100003 rows x 3 columns]",
      "text/html": "<div>\n<style scoped>\n    .dataframe tbody tr th:only-of-type {\n        vertical-align: middle;\n    }\n\n    .dataframe tbody tr th {\n        vertical-align: top;\n    }\n\n    .dataframe thead th {\n        text-align: right;\n    }\n</style>\n<table border=\"1\" class=\"dataframe\">\n  <thead>\n    <tr style=\"text-align: right;\">\n      <th></th>\n      <th>user_id</th>\n      <th>item_id</th>\n      <th>rating</th>\n    </tr>\n  </thead>\n  <tbody>\n    <tr>\n      <th>0</th>\n      <td>0</td>\n      <td>50</td>\n      <td>5</td>\n    </tr>\n    <tr>\n      <th>1</th>\n      <td>0</td>\n      <td>172</td>\n      <td>5</td>\n    </tr>\n    <tr>\n      <th>2</th>\n      <td>0</td>\n      <td>133</td>\n      <td>1</td>\n    </tr>\n    <tr>\n      <th>3</th>\n      <td>196</td>\n      <td>242</td>\n      <td>3</td>\n    </tr>\n    <tr>\n      <th>4</th>\n      <td>186</td>\n      <td>302</td>\n      <td>3</td>\n    </tr>\n    <tr>\n      <th>...</th>\n      <td>...</td>\n      <td>...</td>\n      <td>...</td>\n    </tr>\n    <tr>\n      <th>99998</th>\n      <td>880</td>\n      <td>476</td>\n      <td>3</td>\n    </tr>\n    <tr>\n      <th>99999</th>\n      <td>716</td>\n      <td>204</td>\n      <td>5</td>\n    </tr>\n    <tr>\n      <th>100000</th>\n      <td>276</td>\n      <td>1090</td>\n      <td>1</td>\n    </tr>\n    <tr>\n      <th>100001</th>\n      <td>13</td>\n      <td>225</td>\n      <td>2</td>\n    </tr>\n    <tr>\n      <th>100002</th>\n      <td>12</td>\n      <td>203</td>\n      <td>3</td>\n    </tr>\n  </tbody>\n</table>\n<p>100003 rows × 3 columns</p>\n</div>"
     },
     "execution_count": 6,
     "metadata": {},
     "output_type": "execute_result"
    }
   ],
   "source": [
    "movie_ratings_df.drop(['timestamp'],axis=1,inplace=True)\n",
    "movie_ratings_df"
   ],
   "metadata": {
    "collapsed": false,
    "ExecuteTime": {
     "end_time": "2024-02-02T12:54:23.734875Z",
     "start_time": "2024-02-02T12:54:23.723735Z"
    }
   },
   "id": "94ce32350c9d89c5",
   "execution_count": 6
  },
  {
   "cell_type": "code",
   "outputs": [
    {
     "data": {
      "text/plain": "             user_id        item_id         rating\ncount  100003.000000  100003.000000  100003.000000\nmean      462.470876     425.520914       3.529864\nstd       266.622454     330.797791       1.125704\nmin         0.000000       1.000000       1.000000\n25%       254.000000     175.000000       3.000000\n50%       447.000000     322.000000       4.000000\n75%       682.000000     631.000000       4.000000\nmax       943.000000    1682.000000       5.000000",
      "text/html": "<div>\n<style scoped>\n    .dataframe tbody tr th:only-of-type {\n        vertical-align: middle;\n    }\n\n    .dataframe tbody tr th {\n        vertical-align: top;\n    }\n\n    .dataframe thead th {\n        text-align: right;\n    }\n</style>\n<table border=\"1\" class=\"dataframe\">\n  <thead>\n    <tr style=\"text-align: right;\">\n      <th></th>\n      <th>user_id</th>\n      <th>item_id</th>\n      <th>rating</th>\n    </tr>\n  </thead>\n  <tbody>\n    <tr>\n      <th>count</th>\n      <td>100003.000000</td>\n      <td>100003.000000</td>\n      <td>100003.000000</td>\n    </tr>\n    <tr>\n      <th>mean</th>\n      <td>462.470876</td>\n      <td>425.520914</td>\n      <td>3.529864</td>\n    </tr>\n    <tr>\n      <th>std</th>\n      <td>266.622454</td>\n      <td>330.797791</td>\n      <td>1.125704</td>\n    </tr>\n    <tr>\n      <th>min</th>\n      <td>0.000000</td>\n      <td>1.000000</td>\n      <td>1.000000</td>\n    </tr>\n    <tr>\n      <th>25%</th>\n      <td>254.000000</td>\n      <td>175.000000</td>\n      <td>3.000000</td>\n    </tr>\n    <tr>\n      <th>50%</th>\n      <td>447.000000</td>\n      <td>322.000000</td>\n      <td>4.000000</td>\n    </tr>\n    <tr>\n      <th>75%</th>\n      <td>682.000000</td>\n      <td>631.000000</td>\n      <td>4.000000</td>\n    </tr>\n    <tr>\n      <th>max</th>\n      <td>943.000000</td>\n      <td>1682.000000</td>\n      <td>5.000000</td>\n    </tr>\n  </tbody>\n</table>\n</div>"
     },
     "execution_count": 7,
     "metadata": {},
     "output_type": "execute_result"
    }
   ],
   "source": [
    "movie_ratings_df.describe()"
   ],
   "metadata": {
    "collapsed": false,
    "ExecuteTime": {
     "end_time": "2024-02-02T12:54:23.747151Z",
     "start_time": "2024-02-02T12:54:23.726847Z"
    }
   },
   "id": "d62ca98e8aecc970",
   "execution_count": 7
  },
  {
   "cell_type": "code",
   "outputs": [
    {
     "name": "stdout",
     "output_type": "stream",
     "text": [
      "<class 'pandas.core.frame.DataFrame'>\n",
      "RangeIndex: 100003 entries, 0 to 100002\n",
      "Data columns (total 3 columns):\n",
      " #   Column   Non-Null Count   Dtype\n",
      "---  ------   --------------   -----\n",
      " 0   user_id  100003 non-null  int64\n",
      " 1   item_id  100003 non-null  int64\n",
      " 2   rating   100003 non-null  int64\n",
      "dtypes: int64(3)\n",
      "memory usage: 2.3 MB\n"
     ]
    }
   ],
   "source": [
    "movie_ratings_df.info()"
   ],
   "metadata": {
    "collapsed": false,
    "ExecuteTime": {
     "end_time": "2024-02-02T12:54:23.766463Z",
     "start_time": "2024-02-02T12:54:23.738695Z"
    }
   },
   "id": "9c98046601b2bbe9",
   "execution_count": 8
  },
  {
   "cell_type": "code",
   "outputs": [],
   "source": [
    "movie_ratings_df = pd.merge(movie_ratings_df,movie_titles_df, on = 'item_id')\n",
    "# item_id를 기준으로 결합하라는 뜻"
   ],
   "metadata": {
    "collapsed": false,
    "ExecuteTime": {
     "end_time": "2024-02-02T12:54:23.817844Z",
     "start_time": "2024-02-02T12:54:23.745816Z"
    }
   },
   "id": "47006a6e15084c5e",
   "execution_count": 9
  },
  {
   "cell_type": "code",
   "outputs": [
    {
     "data": {
      "text/plain": "        user_id  item_id  rating  \\\n0             0       50       5   \n1           290       50       5   \n2            79       50       4   \n3             2       50       5   \n4             8       50       5   \n...         ...      ...     ...   \n99998       840     1674       4   \n99999       655     1640       3   \n100000      655     1637       3   \n100001      655     1630       3   \n100002      655     1641       3   \n\n                                                    title  \n0                                        Star Wars (1977)  \n1                                        Star Wars (1977)  \n2                                        Star Wars (1977)  \n3                                        Star Wars (1977)  \n4                                        Star Wars (1977)  \n...                                                   ...  \n99998                                   Mamma Roma (1962)  \n99999                              Eighth Day, The (1996)  \n100000                                  Girls Town (1996)  \n100001  Silence of the Palace, The (Saimt el Qusur) (1...  \n100002                                    Dadetown (1995)  \n\n[100003 rows x 4 columns]",
      "text/html": "<div>\n<style scoped>\n    .dataframe tbody tr th:only-of-type {\n        vertical-align: middle;\n    }\n\n    .dataframe tbody tr th {\n        vertical-align: top;\n    }\n\n    .dataframe thead th {\n        text-align: right;\n    }\n</style>\n<table border=\"1\" class=\"dataframe\">\n  <thead>\n    <tr style=\"text-align: right;\">\n      <th></th>\n      <th>user_id</th>\n      <th>item_id</th>\n      <th>rating</th>\n      <th>title</th>\n    </tr>\n  </thead>\n  <tbody>\n    <tr>\n      <th>0</th>\n      <td>0</td>\n      <td>50</td>\n      <td>5</td>\n      <td>Star Wars (1977)</td>\n    </tr>\n    <tr>\n      <th>1</th>\n      <td>290</td>\n      <td>50</td>\n      <td>5</td>\n      <td>Star Wars (1977)</td>\n    </tr>\n    <tr>\n      <th>2</th>\n      <td>79</td>\n      <td>50</td>\n      <td>4</td>\n      <td>Star Wars (1977)</td>\n    </tr>\n    <tr>\n      <th>3</th>\n      <td>2</td>\n      <td>50</td>\n      <td>5</td>\n      <td>Star Wars (1977)</td>\n    </tr>\n    <tr>\n      <th>4</th>\n      <td>8</td>\n      <td>50</td>\n      <td>5</td>\n      <td>Star Wars (1977)</td>\n    </tr>\n    <tr>\n      <th>...</th>\n      <td>...</td>\n      <td>...</td>\n      <td>...</td>\n      <td>...</td>\n    </tr>\n    <tr>\n      <th>99998</th>\n      <td>840</td>\n      <td>1674</td>\n      <td>4</td>\n      <td>Mamma Roma (1962)</td>\n    </tr>\n    <tr>\n      <th>99999</th>\n      <td>655</td>\n      <td>1640</td>\n      <td>3</td>\n      <td>Eighth Day, The (1996)</td>\n    </tr>\n    <tr>\n      <th>100000</th>\n      <td>655</td>\n      <td>1637</td>\n      <td>3</td>\n      <td>Girls Town (1996)</td>\n    </tr>\n    <tr>\n      <th>100001</th>\n      <td>655</td>\n      <td>1630</td>\n      <td>3</td>\n      <td>Silence of the Palace, The (Saimt el Qusur) (1...</td>\n    </tr>\n    <tr>\n      <th>100002</th>\n      <td>655</td>\n      <td>1641</td>\n      <td>3</td>\n      <td>Dadetown (1995)</td>\n    </tr>\n  </tbody>\n</table>\n<p>100003 rows × 4 columns</p>\n</div>"
     },
     "execution_count": 10,
     "metadata": {},
     "output_type": "execute_result"
    }
   ],
   "source": [
    "movie_ratings_df"
   ],
   "metadata": {
    "collapsed": false,
    "ExecuteTime": {
     "end_time": "2024-02-02T12:54:23.818788Z",
     "start_time": "2024-02-02T12:54:23.753671Z"
    }
   },
   "id": "7596b298a9374f2e",
   "execution_count": 10
  },
  {
   "cell_type": "code",
   "outputs": [
    {
     "data": {
      "text/plain": "                                      user_id                                 \\\n                                        count        mean         std    min   \ntitle                                                                          \n'Til There Was You (1997)                 9.0  383.777778  204.272354  152.0   \n1-900 (1994)                              5.0  477.000000  244.344020  181.0   \n101 Dalmatians (1996)                   109.0  450.330275  295.142779    1.0   \n12 Angry Men (1957)                     125.0  453.552000  255.588677    1.0   \n187 (1997)                               41.0  517.097561  241.098300    3.0   \n...                                       ...         ...         ...    ...   \nYoung Guns II (1990)                     44.0  504.068182  254.101371   87.0   \nYoung Poisoner's Handbook, The (1995)    41.0  452.487805  286.352241    7.0   \nZeus and Roxanne (1997)                   6.0  532.833333  343.690219   82.0   \nunknown                                   9.0  311.888889  264.160200    1.0   \nÁ köldum klaka (Cold Fever) (1994)        1.0  655.000000         NaN  655.0   \n\n                                                                  item_id  \\\n                                         25%    50%    75%    max   count   \ntitle                                                                       \n'Til There Was You (1997)              223.0  342.0  530.0  782.0     9.0   \n1-900 (1994)                           385.0  405.0  581.0  833.0     5.0   \n101 Dalmatians (1996)                  183.0  435.0  699.0  938.0   109.0   \n12 Angry Men (1957)                    268.0  429.0  661.0  932.0   125.0   \n187 (1997)                             416.0  532.0  698.0  894.0    41.0   \n...                                      ...    ...    ...    ...     ...   \nYoung Guns II (1990)                   301.0  459.0  732.5  943.0    44.0   \nYoung Poisoner's Handbook, The (1995)  246.0  473.0  634.0  936.0    41.0   \nZeus and Roxanne (1997)                251.5  627.5  796.5  881.0     6.0   \nunknown                                130.0  297.0  422.0  833.0     9.0   \nÁ köldum klaka (Cold Fever) (1994)     655.0  655.0  655.0  655.0     1.0   \n\n                                               ...                 rating  \\\n                                         mean  ...     75%     max  count   \ntitle                                          ...                          \n'Til There Was You (1997)              1300.0  ...  1300.0  1300.0    9.0   \n1-900 (1994)                           1353.0  ...  1353.0  1353.0    5.0   \n101 Dalmatians (1996)                   225.0  ...   225.0   225.0  109.0   \n12 Angry Men (1957)                     178.0  ...   178.0   178.0  125.0   \n187 (1997)                              330.0  ...   330.0   330.0   41.0   \n...                                       ...  ...     ...     ...    ...   \nYoung Guns II (1990)                   1188.0  ...  1188.0  1188.0   44.0   \nYoung Poisoner's Handbook, The (1995)   547.0  ...   547.0   547.0   41.0   \nZeus and Roxanne (1997)                1164.0  ...  1164.0  1164.0    6.0   \nunknown                                 267.0  ...   267.0   267.0    9.0   \nÁ köldum klaka (Cold Fever) (1994)     1633.0  ...  1633.0  1633.0    1.0   \n\n                                                                           \\\n                                           mean       std  min   25%  50%   \ntitle                                                                       \n'Til There Was You (1997)              2.333333  1.000000  1.0  2.00  2.0   \n1-900 (1994)                           2.600000  1.516575  1.0  1.00  3.0   \n101 Dalmatians (1996)                  2.908257  1.076184  1.0  2.00  3.0   \n12 Angry Men (1957)                    4.344000  0.719588  2.0  4.00  4.0   \n187 (1997)                             3.024390  1.172344  1.0  2.00  3.0   \n...                                         ...       ...  ...   ...  ...   \nYoung Guns II (1990)                   2.772727  1.008421  1.0  2.00  3.0   \nYoung Poisoner's Handbook, The (1995)  3.341463  1.237129  1.0  3.00  4.0   \nZeus and Roxanne (1997)                2.166667  0.983192  1.0  1.25  2.5   \nunknown                                3.444444  1.130388  1.0  3.00  4.0   \nÁ köldum klaka (Cold Fever) (1994)     3.000000       NaN  3.0  3.00  3.0   \n\n                                                 \n                                       75%  max  \ntitle                                            \n'Til There Was You (1997)              3.0  4.0  \n1-900 (1994)                           4.0  4.0  \n101 Dalmatians (1996)                  4.0  5.0  \n12 Angry Men (1957)                    5.0  5.0  \n187 (1997)                             4.0  5.0  \n...                                    ...  ...  \nYoung Guns II (1990)                   3.0  5.0  \nYoung Poisoner's Handbook, The (1995)  4.0  5.0  \nZeus and Roxanne (1997)                3.0  3.0  \nunknown                                4.0  5.0  \nÁ köldum klaka (Cold Fever) (1994)     3.0  3.0  \n\n[1664 rows x 24 columns]",
      "text/html": "<div>\n<style scoped>\n    .dataframe tbody tr th:only-of-type {\n        vertical-align: middle;\n    }\n\n    .dataframe tbody tr th {\n        vertical-align: top;\n    }\n\n    .dataframe thead tr th {\n        text-align: left;\n    }\n\n    .dataframe thead tr:last-of-type th {\n        text-align: right;\n    }\n</style>\n<table border=\"1\" class=\"dataframe\">\n  <thead>\n    <tr>\n      <th></th>\n      <th colspan=\"8\" halign=\"left\">user_id</th>\n      <th colspan=\"5\" halign=\"left\">item_id</th>\n      <th colspan=\"8\" halign=\"left\">rating</th>\n    </tr>\n    <tr>\n      <th></th>\n      <th>count</th>\n      <th>mean</th>\n      <th>std</th>\n      <th>min</th>\n      <th>25%</th>\n      <th>50%</th>\n      <th>75%</th>\n      <th>max</th>\n      <th>count</th>\n      <th>mean</th>\n      <th>...</th>\n      <th>75%</th>\n      <th>max</th>\n      <th>count</th>\n      <th>mean</th>\n      <th>std</th>\n      <th>min</th>\n      <th>25%</th>\n      <th>50%</th>\n      <th>75%</th>\n      <th>max</th>\n    </tr>\n    <tr>\n      <th>title</th>\n      <th></th>\n      <th></th>\n      <th></th>\n      <th></th>\n      <th></th>\n      <th></th>\n      <th></th>\n      <th></th>\n      <th></th>\n      <th></th>\n      <th></th>\n      <th></th>\n      <th></th>\n      <th></th>\n      <th></th>\n      <th></th>\n      <th></th>\n      <th></th>\n      <th></th>\n      <th></th>\n      <th></th>\n    </tr>\n  </thead>\n  <tbody>\n    <tr>\n      <th>'Til There Was You (1997)</th>\n      <td>9.0</td>\n      <td>383.777778</td>\n      <td>204.272354</td>\n      <td>152.0</td>\n      <td>223.0</td>\n      <td>342.0</td>\n      <td>530.0</td>\n      <td>782.0</td>\n      <td>9.0</td>\n      <td>1300.0</td>\n      <td>...</td>\n      <td>1300.0</td>\n      <td>1300.0</td>\n      <td>9.0</td>\n      <td>2.333333</td>\n      <td>1.000000</td>\n      <td>1.0</td>\n      <td>2.00</td>\n      <td>2.0</td>\n      <td>3.0</td>\n      <td>4.0</td>\n    </tr>\n    <tr>\n      <th>1-900 (1994)</th>\n      <td>5.0</td>\n      <td>477.000000</td>\n      <td>244.344020</td>\n      <td>181.0</td>\n      <td>385.0</td>\n      <td>405.0</td>\n      <td>581.0</td>\n      <td>833.0</td>\n      <td>5.0</td>\n      <td>1353.0</td>\n      <td>...</td>\n      <td>1353.0</td>\n      <td>1353.0</td>\n      <td>5.0</td>\n      <td>2.600000</td>\n      <td>1.516575</td>\n      <td>1.0</td>\n      <td>1.00</td>\n      <td>3.0</td>\n      <td>4.0</td>\n      <td>4.0</td>\n    </tr>\n    <tr>\n      <th>101 Dalmatians (1996)</th>\n      <td>109.0</td>\n      <td>450.330275</td>\n      <td>295.142779</td>\n      <td>1.0</td>\n      <td>183.0</td>\n      <td>435.0</td>\n      <td>699.0</td>\n      <td>938.0</td>\n      <td>109.0</td>\n      <td>225.0</td>\n      <td>...</td>\n      <td>225.0</td>\n      <td>225.0</td>\n      <td>109.0</td>\n      <td>2.908257</td>\n      <td>1.076184</td>\n      <td>1.0</td>\n      <td>2.00</td>\n      <td>3.0</td>\n      <td>4.0</td>\n      <td>5.0</td>\n    </tr>\n    <tr>\n      <th>12 Angry Men (1957)</th>\n      <td>125.0</td>\n      <td>453.552000</td>\n      <td>255.588677</td>\n      <td>1.0</td>\n      <td>268.0</td>\n      <td>429.0</td>\n      <td>661.0</td>\n      <td>932.0</td>\n      <td>125.0</td>\n      <td>178.0</td>\n      <td>...</td>\n      <td>178.0</td>\n      <td>178.0</td>\n      <td>125.0</td>\n      <td>4.344000</td>\n      <td>0.719588</td>\n      <td>2.0</td>\n      <td>4.00</td>\n      <td>4.0</td>\n      <td>5.0</td>\n      <td>5.0</td>\n    </tr>\n    <tr>\n      <th>187 (1997)</th>\n      <td>41.0</td>\n      <td>517.097561</td>\n      <td>241.098300</td>\n      <td>3.0</td>\n      <td>416.0</td>\n      <td>532.0</td>\n      <td>698.0</td>\n      <td>894.0</td>\n      <td>41.0</td>\n      <td>330.0</td>\n      <td>...</td>\n      <td>330.0</td>\n      <td>330.0</td>\n      <td>41.0</td>\n      <td>3.024390</td>\n      <td>1.172344</td>\n      <td>1.0</td>\n      <td>2.00</td>\n      <td>3.0</td>\n      <td>4.0</td>\n      <td>5.0</td>\n    </tr>\n    <tr>\n      <th>...</th>\n      <td>...</td>\n      <td>...</td>\n      <td>...</td>\n      <td>...</td>\n      <td>...</td>\n      <td>...</td>\n      <td>...</td>\n      <td>...</td>\n      <td>...</td>\n      <td>...</td>\n      <td>...</td>\n      <td>...</td>\n      <td>...</td>\n      <td>...</td>\n      <td>...</td>\n      <td>...</td>\n      <td>...</td>\n      <td>...</td>\n      <td>...</td>\n      <td>...</td>\n      <td>...</td>\n    </tr>\n    <tr>\n      <th>Young Guns II (1990)</th>\n      <td>44.0</td>\n      <td>504.068182</td>\n      <td>254.101371</td>\n      <td>87.0</td>\n      <td>301.0</td>\n      <td>459.0</td>\n      <td>732.5</td>\n      <td>943.0</td>\n      <td>44.0</td>\n      <td>1188.0</td>\n      <td>...</td>\n      <td>1188.0</td>\n      <td>1188.0</td>\n      <td>44.0</td>\n      <td>2.772727</td>\n      <td>1.008421</td>\n      <td>1.0</td>\n      <td>2.00</td>\n      <td>3.0</td>\n      <td>3.0</td>\n      <td>5.0</td>\n    </tr>\n    <tr>\n      <th>Young Poisoner's Handbook, The (1995)</th>\n      <td>41.0</td>\n      <td>452.487805</td>\n      <td>286.352241</td>\n      <td>7.0</td>\n      <td>246.0</td>\n      <td>473.0</td>\n      <td>634.0</td>\n      <td>936.0</td>\n      <td>41.0</td>\n      <td>547.0</td>\n      <td>...</td>\n      <td>547.0</td>\n      <td>547.0</td>\n      <td>41.0</td>\n      <td>3.341463</td>\n      <td>1.237129</td>\n      <td>1.0</td>\n      <td>3.00</td>\n      <td>4.0</td>\n      <td>4.0</td>\n      <td>5.0</td>\n    </tr>\n    <tr>\n      <th>Zeus and Roxanne (1997)</th>\n      <td>6.0</td>\n      <td>532.833333</td>\n      <td>343.690219</td>\n      <td>82.0</td>\n      <td>251.5</td>\n      <td>627.5</td>\n      <td>796.5</td>\n      <td>881.0</td>\n      <td>6.0</td>\n      <td>1164.0</td>\n      <td>...</td>\n      <td>1164.0</td>\n      <td>1164.0</td>\n      <td>6.0</td>\n      <td>2.166667</td>\n      <td>0.983192</td>\n      <td>1.0</td>\n      <td>1.25</td>\n      <td>2.5</td>\n      <td>3.0</td>\n      <td>3.0</td>\n    </tr>\n    <tr>\n      <th>unknown</th>\n      <td>9.0</td>\n      <td>311.888889</td>\n      <td>264.160200</td>\n      <td>1.0</td>\n      <td>130.0</td>\n      <td>297.0</td>\n      <td>422.0</td>\n      <td>833.0</td>\n      <td>9.0</td>\n      <td>267.0</td>\n      <td>...</td>\n      <td>267.0</td>\n      <td>267.0</td>\n      <td>9.0</td>\n      <td>3.444444</td>\n      <td>1.130388</td>\n      <td>1.0</td>\n      <td>3.00</td>\n      <td>4.0</td>\n      <td>4.0</td>\n      <td>5.0</td>\n    </tr>\n    <tr>\n      <th>Á köldum klaka (Cold Fever) (1994)</th>\n      <td>1.0</td>\n      <td>655.000000</td>\n      <td>NaN</td>\n      <td>655.0</td>\n      <td>655.0</td>\n      <td>655.0</td>\n      <td>655.0</td>\n      <td>655.0</td>\n      <td>1.0</td>\n      <td>1633.0</td>\n      <td>...</td>\n      <td>1633.0</td>\n      <td>1633.0</td>\n      <td>1.0</td>\n      <td>3.000000</td>\n      <td>NaN</td>\n      <td>3.0</td>\n      <td>3.00</td>\n      <td>3.0</td>\n      <td>3.0</td>\n      <td>3.0</td>\n    </tr>\n  </tbody>\n</table>\n<p>1664 rows × 24 columns</p>\n</div>"
     },
     "execution_count": 11,
     "metadata": {},
     "output_type": "execute_result"
    }
   ],
   "source": [
    "movie_ratings_df.groupby('title').describe()"
   ],
   "metadata": {
    "collapsed": false,
    "ExecuteTime": {
     "end_time": "2024-02-02T12:54:26.787816Z",
     "start_time": "2024-02-02T12:54:23.761355Z"
    }
   },
   "id": "6c9c5d91c921934d",
   "execution_count": 11
  },
  {
   "cell_type": "code",
   "outputs": [
    {
     "data": {
      "text/plain": "                                       count      mean       std  min   25%  \\\ntitle                                                                         \n'Til There Was You (1997)                9.0  2.333333  1.000000  1.0  2.00   \n1-900 (1994)                             5.0  2.600000  1.516575  1.0  1.00   \n101 Dalmatians (1996)                  109.0  2.908257  1.076184  1.0  2.00   \n12 Angry Men (1957)                    125.0  4.344000  0.719588  2.0  4.00   \n187 (1997)                              41.0  3.024390  1.172344  1.0  2.00   \n...                                      ...       ...       ...  ...   ...   \nYoung Guns II (1990)                    44.0  2.772727  1.008421  1.0  2.00   \nYoung Poisoner's Handbook, The (1995)   41.0  3.341463  1.237129  1.0  3.00   \nZeus and Roxanne (1997)                  6.0  2.166667  0.983192  1.0  1.25   \nunknown                                  9.0  3.444444  1.130388  1.0  3.00   \nÁ köldum klaka (Cold Fever) (1994)       1.0  3.000000       NaN  3.0  3.00   \n\n                                       50%  75%  max  \ntitle                                                 \n'Til There Was You (1997)              2.0  3.0  4.0  \n1-900 (1994)                           3.0  4.0  4.0  \n101 Dalmatians (1996)                  3.0  4.0  5.0  \n12 Angry Men (1957)                    4.0  5.0  5.0  \n187 (1997)                             3.0  4.0  5.0  \n...                                    ...  ...  ...  \nYoung Guns II (1990)                   3.0  3.0  5.0  \nYoung Poisoner's Handbook, The (1995)  4.0  4.0  5.0  \nZeus and Roxanne (1997)                2.5  3.0  3.0  \nunknown                                4.0  4.0  5.0  \nÁ köldum klaka (Cold Fever) (1994)     3.0  3.0  3.0  \n\n[1664 rows x 8 columns]",
      "text/html": "<div>\n<style scoped>\n    .dataframe tbody tr th:only-of-type {\n        vertical-align: middle;\n    }\n\n    .dataframe tbody tr th {\n        vertical-align: top;\n    }\n\n    .dataframe thead th {\n        text-align: right;\n    }\n</style>\n<table border=\"1\" class=\"dataframe\">\n  <thead>\n    <tr style=\"text-align: right;\">\n      <th></th>\n      <th>count</th>\n      <th>mean</th>\n      <th>std</th>\n      <th>min</th>\n      <th>25%</th>\n      <th>50%</th>\n      <th>75%</th>\n      <th>max</th>\n    </tr>\n    <tr>\n      <th>title</th>\n      <th></th>\n      <th></th>\n      <th></th>\n      <th></th>\n      <th></th>\n      <th></th>\n      <th></th>\n      <th></th>\n    </tr>\n  </thead>\n  <tbody>\n    <tr>\n      <th>'Til There Was You (1997)</th>\n      <td>9.0</td>\n      <td>2.333333</td>\n      <td>1.000000</td>\n      <td>1.0</td>\n      <td>2.00</td>\n      <td>2.0</td>\n      <td>3.0</td>\n      <td>4.0</td>\n    </tr>\n    <tr>\n      <th>1-900 (1994)</th>\n      <td>5.0</td>\n      <td>2.600000</td>\n      <td>1.516575</td>\n      <td>1.0</td>\n      <td>1.00</td>\n      <td>3.0</td>\n      <td>4.0</td>\n      <td>4.0</td>\n    </tr>\n    <tr>\n      <th>101 Dalmatians (1996)</th>\n      <td>109.0</td>\n      <td>2.908257</td>\n      <td>1.076184</td>\n      <td>1.0</td>\n      <td>2.00</td>\n      <td>3.0</td>\n      <td>4.0</td>\n      <td>5.0</td>\n    </tr>\n    <tr>\n      <th>12 Angry Men (1957)</th>\n      <td>125.0</td>\n      <td>4.344000</td>\n      <td>0.719588</td>\n      <td>2.0</td>\n      <td>4.00</td>\n      <td>4.0</td>\n      <td>5.0</td>\n      <td>5.0</td>\n    </tr>\n    <tr>\n      <th>187 (1997)</th>\n      <td>41.0</td>\n      <td>3.024390</td>\n      <td>1.172344</td>\n      <td>1.0</td>\n      <td>2.00</td>\n      <td>3.0</td>\n      <td>4.0</td>\n      <td>5.0</td>\n    </tr>\n    <tr>\n      <th>...</th>\n      <td>...</td>\n      <td>...</td>\n      <td>...</td>\n      <td>...</td>\n      <td>...</td>\n      <td>...</td>\n      <td>...</td>\n      <td>...</td>\n    </tr>\n    <tr>\n      <th>Young Guns II (1990)</th>\n      <td>44.0</td>\n      <td>2.772727</td>\n      <td>1.008421</td>\n      <td>1.0</td>\n      <td>2.00</td>\n      <td>3.0</td>\n      <td>3.0</td>\n      <td>5.0</td>\n    </tr>\n    <tr>\n      <th>Young Poisoner's Handbook, The (1995)</th>\n      <td>41.0</td>\n      <td>3.341463</td>\n      <td>1.237129</td>\n      <td>1.0</td>\n      <td>3.00</td>\n      <td>4.0</td>\n      <td>4.0</td>\n      <td>5.0</td>\n    </tr>\n    <tr>\n      <th>Zeus and Roxanne (1997)</th>\n      <td>6.0</td>\n      <td>2.166667</td>\n      <td>0.983192</td>\n      <td>1.0</td>\n      <td>1.25</td>\n      <td>2.5</td>\n      <td>3.0</td>\n      <td>3.0</td>\n    </tr>\n    <tr>\n      <th>unknown</th>\n      <td>9.0</td>\n      <td>3.444444</td>\n      <td>1.130388</td>\n      <td>1.0</td>\n      <td>3.00</td>\n      <td>4.0</td>\n      <td>4.0</td>\n      <td>5.0</td>\n    </tr>\n    <tr>\n      <th>Á köldum klaka (Cold Fever) (1994)</th>\n      <td>1.0</td>\n      <td>3.000000</td>\n      <td>NaN</td>\n      <td>3.0</td>\n      <td>3.00</td>\n      <td>3.0</td>\n      <td>3.0</td>\n      <td>3.0</td>\n    </tr>\n  </tbody>\n</table>\n<p>1664 rows × 8 columns</p>\n</div>"
     },
     "execution_count": 12,
     "metadata": {},
     "output_type": "execute_result"
    }
   ],
   "source": [
    "movie_ratings_df.groupby('title')['rating'].describe()"
   ],
   "metadata": {
    "collapsed": false,
    "ExecuteTime": {
     "end_time": "2024-02-02T12:54:27.620721Z",
     "start_time": "2024-02-02T12:54:26.792800Z"
    }
   },
   "id": "69a67e1336922bf5",
   "execution_count": 12
  },
  {
   "cell_type": "code",
   "outputs": [
    {
     "data": {
      "text/plain": "title\n'Til There Was You (1997)                2.333333\n1-900 (1994)                             2.600000\n101 Dalmatians (1996)                    2.908257\n12 Angry Men (1957)                      4.344000\n187 (1997)                               3.024390\n                                           ...   \nYoung Guns II (1990)                     2.772727\nYoung Poisoner's Handbook, The (1995)    3.341463\nZeus and Roxanne (1997)                  2.166667\nunknown                                  3.444444\nÁ köldum klaka (Cold Fever) (1994)       3.000000\nName: mean, Length: 1664, dtype: float64"
     },
     "execution_count": 13,
     "metadata": {},
     "output_type": "execute_result"
    }
   ],
   "source": [
    "# 영화 rating의 평균치를 가져올거임\n",
    "rating_df_mean = movie_ratings_df.groupby('title')['rating'].describe()['mean']\n",
    "rating_df_mean"
   ],
   "metadata": {
    "collapsed": false,
    "ExecuteTime": {
     "end_time": "2024-02-02T12:54:28.355689Z",
     "start_time": "2024-02-02T12:54:27.619594Z"
    }
   },
   "id": "af7f40fd8830004b",
   "execution_count": 13
  },
  {
   "cell_type": "code",
   "outputs": [
    {
     "data": {
      "text/plain": "title\n'Til There Was You (1997)                  9.0\n1-900 (1994)                               5.0\n101 Dalmatians (1996)                    109.0\n12 Angry Men (1957)                      125.0\n187 (1997)                                41.0\n                                         ...  \nYoung Guns II (1990)                      44.0\nYoung Poisoner's Handbook, The (1995)     41.0\nZeus and Roxanne (1997)                    6.0\nunknown                                    9.0\nÁ köldum klaka (Cold Fever) (1994)         1.0\nName: count, Length: 1664, dtype: float64"
     },
     "execution_count": 14,
     "metadata": {},
     "output_type": "execute_result"
    }
   ],
   "source": [
    "rating_df_count = movie_ratings_df.groupby('title')['rating'].describe()['count']\n",
    "rating_df_count"
   ],
   "metadata": {
    "collapsed": false,
    "ExecuteTime": {
     "end_time": "2024-02-02T12:54:29.091812Z",
     "start_time": "2024-02-02T12:54:28.359197Z"
    }
   },
   "id": "f0462ecaf3391205",
   "execution_count": 14
  },
  {
   "cell_type": "code",
   "outputs": [],
   "source": [
    "rating_df_mean_count = pd.concat([rating_df_mean,rating_df_count],axis=1)"
   ],
   "metadata": {
    "collapsed": false,
    "ExecuteTime": {
     "end_time": "2024-02-02T12:54:29.096442Z",
     "start_time": "2024-02-02T12:54:29.090558Z"
    }
   },
   "id": "3e59fff6723db56b",
   "execution_count": 15
  },
  {
   "cell_type": "code",
   "outputs": [
    {
     "data": {
      "text/plain": "                                           mean  count\ntitle                                                 \n'Til There Was You (1997)              2.333333    9.0\n1-900 (1994)                           2.600000    5.0\n101 Dalmatians (1996)                  2.908257  109.0\n12 Angry Men (1957)                    4.344000  125.0\n187 (1997)                             3.024390   41.0\n...                                         ...    ...\nYoung Guns II (1990)                   2.772727   44.0\nYoung Poisoner's Handbook, The (1995)  3.341463   41.0\nZeus and Roxanne (1997)                2.166667    6.0\nunknown                                3.444444    9.0\nÁ köldum klaka (Cold Fever) (1994)     3.000000    1.0\n\n[1664 rows x 2 columns]",
      "text/html": "<div>\n<style scoped>\n    .dataframe tbody tr th:only-of-type {\n        vertical-align: middle;\n    }\n\n    .dataframe tbody tr th {\n        vertical-align: top;\n    }\n\n    .dataframe thead th {\n        text-align: right;\n    }\n</style>\n<table border=\"1\" class=\"dataframe\">\n  <thead>\n    <tr style=\"text-align: right;\">\n      <th></th>\n      <th>mean</th>\n      <th>count</th>\n    </tr>\n    <tr>\n      <th>title</th>\n      <th></th>\n      <th></th>\n    </tr>\n  </thead>\n  <tbody>\n    <tr>\n      <th>'Til There Was You (1997)</th>\n      <td>2.333333</td>\n      <td>9.0</td>\n    </tr>\n    <tr>\n      <th>1-900 (1994)</th>\n      <td>2.600000</td>\n      <td>5.0</td>\n    </tr>\n    <tr>\n      <th>101 Dalmatians (1996)</th>\n      <td>2.908257</td>\n      <td>109.0</td>\n    </tr>\n    <tr>\n      <th>12 Angry Men (1957)</th>\n      <td>4.344000</td>\n      <td>125.0</td>\n    </tr>\n    <tr>\n      <th>187 (1997)</th>\n      <td>3.024390</td>\n      <td>41.0</td>\n    </tr>\n    <tr>\n      <th>...</th>\n      <td>...</td>\n      <td>...</td>\n    </tr>\n    <tr>\n      <th>Young Guns II (1990)</th>\n      <td>2.772727</td>\n      <td>44.0</td>\n    </tr>\n    <tr>\n      <th>Young Poisoner's Handbook, The (1995)</th>\n      <td>3.341463</td>\n      <td>41.0</td>\n    </tr>\n    <tr>\n      <th>Zeus and Roxanne (1997)</th>\n      <td>2.166667</td>\n      <td>6.0</td>\n    </tr>\n    <tr>\n      <th>unknown</th>\n      <td>3.444444</td>\n      <td>9.0</td>\n    </tr>\n    <tr>\n      <th>Á köldum klaka (Cold Fever) (1994)</th>\n      <td>3.000000</td>\n      <td>1.0</td>\n    </tr>\n  </tbody>\n</table>\n<p>1664 rows × 2 columns</p>\n</div>"
     },
     "execution_count": 16,
     "metadata": {},
     "output_type": "execute_result"
    }
   ],
   "source": [
    "rating_df_mean_count"
   ],
   "metadata": {
    "collapsed": false,
    "ExecuteTime": {
     "end_time": "2024-02-02T12:54:29.106632Z",
     "start_time": "2024-02-02T12:54:29.102973Z"
    }
   },
   "id": "2958fb6302c37778",
   "execution_count": 16
  },
  {
   "cell_type": "code",
   "outputs": [
    {
     "data": {
      "text/plain": "                                      title      mean  count\n0                 'Til There Was You (1997)  2.333333    9.0\n1                              1-900 (1994)  2.600000    5.0\n2                     101 Dalmatians (1996)  2.908257  109.0\n3                       12 Angry Men (1957)  4.344000  125.0\n4                                187 (1997)  3.024390   41.0\n...                                     ...       ...    ...\n1659                   Young Guns II (1990)  2.772727   44.0\n1660  Young Poisoner's Handbook, The (1995)  3.341463   41.0\n1661                Zeus and Roxanne (1997)  2.166667    6.0\n1662                                unknown  3.444444    9.0\n1663     Á köldum klaka (Cold Fever) (1994)  3.000000    1.0\n\n[1664 rows x 3 columns]",
      "text/html": "<div>\n<style scoped>\n    .dataframe tbody tr th:only-of-type {\n        vertical-align: middle;\n    }\n\n    .dataframe tbody tr th {\n        vertical-align: top;\n    }\n\n    .dataframe thead th {\n        text-align: right;\n    }\n</style>\n<table border=\"1\" class=\"dataframe\">\n  <thead>\n    <tr style=\"text-align: right;\">\n      <th></th>\n      <th>title</th>\n      <th>mean</th>\n      <th>count</th>\n    </tr>\n  </thead>\n  <tbody>\n    <tr>\n      <th>0</th>\n      <td>'Til There Was You (1997)</td>\n      <td>2.333333</td>\n      <td>9.0</td>\n    </tr>\n    <tr>\n      <th>1</th>\n      <td>1-900 (1994)</td>\n      <td>2.600000</td>\n      <td>5.0</td>\n    </tr>\n    <tr>\n      <th>2</th>\n      <td>101 Dalmatians (1996)</td>\n      <td>2.908257</td>\n      <td>109.0</td>\n    </tr>\n    <tr>\n      <th>3</th>\n      <td>12 Angry Men (1957)</td>\n      <td>4.344000</td>\n      <td>125.0</td>\n    </tr>\n    <tr>\n      <th>4</th>\n      <td>187 (1997)</td>\n      <td>3.024390</td>\n      <td>41.0</td>\n    </tr>\n    <tr>\n      <th>...</th>\n      <td>...</td>\n      <td>...</td>\n      <td>...</td>\n    </tr>\n    <tr>\n      <th>1659</th>\n      <td>Young Guns II (1990)</td>\n      <td>2.772727</td>\n      <td>44.0</td>\n    </tr>\n    <tr>\n      <th>1660</th>\n      <td>Young Poisoner's Handbook, The (1995)</td>\n      <td>3.341463</td>\n      <td>41.0</td>\n    </tr>\n    <tr>\n      <th>1661</th>\n      <td>Zeus and Roxanne (1997)</td>\n      <td>2.166667</td>\n      <td>6.0</td>\n    </tr>\n    <tr>\n      <th>1662</th>\n      <td>unknown</td>\n      <td>3.444444</td>\n      <td>9.0</td>\n    </tr>\n    <tr>\n      <th>1663</th>\n      <td>Á köldum klaka (Cold Fever) (1994)</td>\n      <td>3.000000</td>\n      <td>1.0</td>\n    </tr>\n  </tbody>\n</table>\n<p>1664 rows × 3 columns</p>\n</div>"
     },
     "execution_count": 17,
     "metadata": {},
     "output_type": "execute_result"
    }
   ],
   "source": [
    "# title이 지금 인덱스 이므로 이걸 컬럼으로 바꿔주기\n",
    "rating_df_mean_count.reset_index(inplace=True)\n",
    "rating_df_mean_count"
   ],
   "metadata": {
    "collapsed": false,
    "ExecuteTime": {
     "end_time": "2024-02-02T12:54:29.125312Z",
     "start_time": "2024-02-02T12:54:29.113296Z"
    }
   },
   "id": "9e8c05bf6784901d",
   "execution_count": 17
  },
  {
   "cell_type": "code",
   "outputs": [
    {
     "data": {
      "text/plain": "<Axes: ylabel='Frequency'>"
     },
     "execution_count": 18,
     "metadata": {},
     "output_type": "execute_result"
    },
    {
     "data": {
      "text/plain": "<Figure size 640x480 with 1 Axes>",
      "image/png": "[encoded data removed]"
     },
     "metadata": {},
     "output_type": "display_data"
    }
   ],
   "source": [
    "# 그래프로 표현해보기\n",
    "rating_df_mean_count['mean'].plot(bins = 100, kind = 'hist',color = 'r')"
   ],
   "metadata": {
    "collapsed": false,
    "ExecuteTime": {
     "end_time": "2024-02-02T12:54:29.314448Z",
     "start_time": "2024-02-02T12:54:29.119224Z"
    }
   },
   "id": "1afda91eb731ec5f",
   "execution_count": 18
  },
  {
   "cell_type": "code",
   "outputs": [
    {
     "data": {
      "text/plain": "<Axes: ylabel='Frequency'>"
     },
     "execution_count": 19,
     "metadata": {},
     "output_type": "execute_result"
    },
    {
     "data": {
      "text/plain": "<Figure size 640x480 with 1 Axes>",
      "image/png": "[encoded data removed]"
     },
     "metadata": {},
     "output_type": "display_data"
    }
   ],
   "source": [
    "rating_df_mean_count['count'].plot(bins = 100, kind = 'hist',color = 'b')\n"
   ],
   "metadata": {
    "collapsed": false,
    "ExecuteTime": {
     "end_time": "2024-02-02T12:54:29.489157Z",
     "start_time": "2024-02-02T12:54:29.313710Z"
    }
   },
   "id": "daafdf8e209b175b",
   "execution_count": 19
  },
  {
   "cell_type": "code",
   "outputs": [
    {
     "data": {
      "text/plain": "                                                  title  mean  count\n30                                 Aiqing wansui (1994)   5.0    1.0\n462   Entertaining Angels: The Dorothy Day Story (1996)   5.0    1.0\n633                       Great Day in Harlem, A (1994)   5.0    1.0\n944          Marlene Dietrich: Shadow and Light (1996)    5.0    1.0\n1172                                 Prefontaine (1997)   5.0    3.0\n1273               Saint of Fort Washington, The (1993)   5.0    2.0\n1277                          Santa with Muscles (1996)   5.0    2.0\n1359                      Someone Else's America (1995)   5.0    1.0\n1387                                    Star Kid (1997)   5.0    3.0\n1472                     They Made Me a Criminal (1939)   5.0    1.0",
      "text/html": "<div>\n<style scoped>\n    .dataframe tbody tr th:only-of-type {\n        vertical-align: middle;\n    }\n\n    .dataframe tbody tr th {\n        vertical-align: top;\n    }\n\n    .dataframe thead th {\n        text-align: right;\n    }\n</style>\n<table border=\"1\" class=\"dataframe\">\n  <thead>\n    <tr style=\"text-align: right;\">\n      <th></th>\n      <th>title</th>\n      <th>mean</th>\n      <th>count</th>\n    </tr>\n  </thead>\n  <tbody>\n    <tr>\n      <th>30</th>\n      <td>Aiqing wansui (1994)</td>\n      <td>5.0</td>\n      <td>1.0</td>\n    </tr>\n    <tr>\n      <th>462</th>\n      <td>Entertaining Angels: The Dorothy Day Story (1996)</td>\n      <td>5.0</td>\n      <td>1.0</td>\n    </tr>\n    <tr>\n      <th>633</th>\n      <td>Great Day in Harlem, A (1994)</td>\n      <td>5.0</td>\n      <td>1.0</td>\n    </tr>\n    <tr>\n      <th>944</th>\n      <td>Marlene Dietrich: Shadow and Light (1996)</td>\n      <td>5.0</td>\n      <td>1.0</td>\n    </tr>\n    <tr>\n      <th>1172</th>\n      <td>Prefontaine (1997)</td>\n      <td>5.0</td>\n      <td>3.0</td>\n    </tr>\n    <tr>\n      <th>1273</th>\n      <td>Saint of Fort Washington, The (1993)</td>\n      <td>5.0</td>\n      <td>2.0</td>\n    </tr>\n    <tr>\n      <th>1277</th>\n      <td>Santa with Muscles (1996)</td>\n      <td>5.0</td>\n      <td>2.0</td>\n    </tr>\n    <tr>\n      <th>1359</th>\n      <td>Someone Else's America (1995)</td>\n      <td>5.0</td>\n      <td>1.0</td>\n    </tr>\n    <tr>\n      <th>1387</th>\n      <td>Star Kid (1997)</td>\n      <td>5.0</td>\n      <td>3.0</td>\n    </tr>\n    <tr>\n      <th>1472</th>\n      <td>They Made Me a Criminal (1939)</td>\n      <td>5.0</td>\n      <td>1.0</td>\n    </tr>\n  </tbody>\n</table>\n</div>"
     },
     "execution_count": 20,
     "metadata": {},
     "output_type": "execute_result"
    }
   ],
   "source": [
    "# 별점 5점 받은 영화확인해보기\n",
    "rating_df_mean_count[rating_df_mean_count['mean']==5]\n",
    "# 별점을 5점 받은 건 count가 적은걸 확인할 수 있음"
   ],
   "metadata": {
    "collapsed": false,
    "ExecuteTime": {
     "end_time": "2024-02-02T12:54:29.509392Z",
     "start_time": "2024-02-02T12:54:29.487432Z"
    }
   },
   "id": "31968e4efa8e49e9",
   "execution_count": 20
  },
  {
   "cell_type": "code",
   "outputs": [
    {
     "data": {
      "text/plain": "                              title      mean  count\n1398               Star Wars (1977)  4.359589  584.0\n333                  Contact (1997)  3.803536  509.0\n498                    Fargo (1996)  4.155512  508.0\n1234      Return of the Jedi (1983)  4.007890  507.0\n860                Liar Liar (1997)  3.156701  485.0\n460     English Patient, The (1996)  3.656965  481.0\n1284                  Scream (1996)  3.441423  478.0\n1523               Toy Story (1995)  3.878319  452.0\n32             Air Force One (1997)  3.631090  431.0\n744   Independence Day (ID4) (1996)  3.438228  429.0",
      "text/html": "<div>\n<style scoped>\n    .dataframe tbody tr th:only-of-type {\n        vertical-align: middle;\n    }\n\n    .dataframe tbody tr th {\n        vertical-align: top;\n    }\n\n    .dataframe thead th {\n        text-align: right;\n    }\n</style>\n<table border=\"1\" class=\"dataframe\">\n  <thead>\n    <tr style=\"text-align: right;\">\n      <th></th>\n      <th>title</th>\n      <th>mean</th>\n      <th>count</th>\n    </tr>\n  </thead>\n  <tbody>\n    <tr>\n      <th>1398</th>\n      <td>Star Wars (1977)</td>\n      <td>4.359589</td>\n      <td>584.0</td>\n    </tr>\n    <tr>\n      <th>333</th>\n      <td>Contact (1997)</td>\n      <td>3.803536</td>\n      <td>509.0</td>\n    </tr>\n    <tr>\n      <th>498</th>\n      <td>Fargo (1996)</td>\n      <td>4.155512</td>\n      <td>508.0</td>\n    </tr>\n    <tr>\n      <th>1234</th>\n      <td>Return of the Jedi (1983)</td>\n      <td>4.007890</td>\n      <td>507.0</td>\n    </tr>\n    <tr>\n      <th>860</th>\n      <td>Liar Liar (1997)</td>\n      <td>3.156701</td>\n      <td>485.0</td>\n    </tr>\n    <tr>\n      <th>460</th>\n      <td>English Patient, The (1996)</td>\n      <td>3.656965</td>\n      <td>481.0</td>\n    </tr>\n    <tr>\n      <th>1284</th>\n      <td>Scream (1996)</td>\n      <td>3.441423</td>\n      <td>478.0</td>\n    </tr>\n    <tr>\n      <th>1523</th>\n      <td>Toy Story (1995)</td>\n      <td>3.878319</td>\n      <td>452.0</td>\n    </tr>\n    <tr>\n      <th>32</th>\n      <td>Air Force One (1997)</td>\n      <td>3.631090</td>\n      <td>431.0</td>\n    </tr>\n    <tr>\n      <th>744</th>\n      <td>Independence Day (ID4) (1996)</td>\n      <td>3.438228</td>\n      <td>429.0</td>\n    </tr>\n  </tbody>\n</table>\n</div>"
     },
     "execution_count": 21,
     "metadata": {},
     "output_type": "execute_result"
    }
   ],
   "source": [
    "rating_df_mean_count.sort_values('count',ascending=False).head(10) # 내림차순으로 정렬"
   ],
   "metadata": {
    "collapsed": false,
    "ExecuteTime": {
     "end_time": "2024-02-02T12:54:29.549146Z",
     "start_time": "2024-02-02T12:54:29.504607Z"
    }
   },
   "id": "3ccb0caf73ffaab5",
   "execution_count": 21
  },
  {
   "cell_type": "code",
   "outputs": [
    {
     "data": {
      "text/plain": "                                           title  mean  count\n1663          Á köldum klaka (Cold Fever) (1994)   3.0    1.0\n980                       Mille bolle blu (1993)   1.0    1.0\n951                            Mat' i syn (1997)   1.0    1.0\n944   Marlene Dietrich: Shadow and Light (1996)    5.0    1.0\n931              Man from Down Under, The (1943)   1.0    1.0\n927                            Mamma Roma (1962)   4.0    1.0\n915                          Mad Dog Time (1996)   3.0    1.0\n166                  Big Bang Theory, The (1994)   4.0    1.0\n911                     MURDER and murder (1996)   2.0    1.0\n322                           Coldblooded (1995)   2.0    1.0",
      "text/html": "<div>\n<style scoped>\n    .dataframe tbody tr th:only-of-type {\n        vertical-align: middle;\n    }\n\n    .dataframe tbody tr th {\n        vertical-align: top;\n    }\n\n    .dataframe thead th {\n        text-align: right;\n    }\n</style>\n<table border=\"1\" class=\"dataframe\">\n  <thead>\n    <tr style=\"text-align: right;\">\n      <th></th>\n      <th>title</th>\n      <th>mean</th>\n      <th>count</th>\n    </tr>\n  </thead>\n  <tbody>\n    <tr>\n      <th>1663</th>\n      <td>Á köldum klaka (Cold Fever) (1994)</td>\n      <td>3.0</td>\n      <td>1.0</td>\n    </tr>\n    <tr>\n      <th>980</th>\n      <td>Mille bolle blu (1993)</td>\n      <td>1.0</td>\n      <td>1.0</td>\n    </tr>\n    <tr>\n      <th>951</th>\n      <td>Mat' i syn (1997)</td>\n      <td>1.0</td>\n      <td>1.0</td>\n    </tr>\n    <tr>\n      <th>944</th>\n      <td>Marlene Dietrich: Shadow and Light (1996)</td>\n      <td>5.0</td>\n      <td>1.0</td>\n    </tr>\n    <tr>\n      <th>931</th>\n      <td>Man from Down Under, The (1943)</td>\n      <td>1.0</td>\n      <td>1.0</td>\n    </tr>\n    <tr>\n      <th>927</th>\n      <td>Mamma Roma (1962)</td>\n      <td>4.0</td>\n      <td>1.0</td>\n    </tr>\n    <tr>\n      <th>915</th>\n      <td>Mad Dog Time (1996)</td>\n      <td>3.0</td>\n      <td>1.0</td>\n    </tr>\n    <tr>\n      <th>166</th>\n      <td>Big Bang Theory, The (1994)</td>\n      <td>4.0</td>\n      <td>1.0</td>\n    </tr>\n    <tr>\n      <th>911</th>\n      <td>MURDER and murder (1996)</td>\n      <td>2.0</td>\n      <td>1.0</td>\n    </tr>\n    <tr>\n      <th>322</th>\n      <td>Coldblooded (1995)</td>\n      <td>2.0</td>\n      <td>1.0</td>\n    </tr>\n  </tbody>\n</table>\n</div>"
     },
     "execution_count": 22,
     "metadata": {},
     "output_type": "execute_result"
    }
   ],
   "source": [
    "rating_df_mean_count.sort_values('count',ascending=True).head(10) # 오름차순으로 정렬"
   ],
   "metadata": {
    "collapsed": false,
    "ExecuteTime": {
     "end_time": "2024-02-02T12:54:29.549360Z",
     "start_time": "2024-02-02T12:54:29.519458Z"
    }
   },
   "id": "aa33776badc73923",
   "execution_count": 22
  },
  {
   "cell_type": "markdown",
   "source": [
    "## 아이템 기반 협업 필터링을 영화 샘플에 적용하기\n"
   ],
   "metadata": {
    "collapsed": false
   },
   "id": "abbb0b3d2abd719b"
  },
  {
   "cell_type": "code",
   "outputs": [
    {
     "data": {
      "text/plain": "        user_id  item_id  rating  \\\n0             0       50       5   \n1           290       50       5   \n2            79       50       4   \n3             2       50       5   \n4             8       50       5   \n...         ...      ...     ...   \n99998       840     1674       4   \n99999       655     1640       3   \n100000      655     1637       3   \n100001      655     1630       3   \n100002      655     1641       3   \n\n                                                    title  \n0                                        Star Wars (1977)  \n1                                        Star Wars (1977)  \n2                                        Star Wars (1977)  \n3                                        Star Wars (1977)  \n4                                        Star Wars (1977)  \n...                                                   ...  \n99998                                   Mamma Roma (1962)  \n99999                              Eighth Day, The (1996)  \n100000                                  Girls Town (1996)  \n100001  Silence of the Palace, The (Saimt el Qusur) (1...  \n100002                                    Dadetown (1995)  \n\n[100003 rows x 4 columns]",
      "text/html": "<div>\n<style scoped>\n    .dataframe tbody tr th:only-of-type {\n        vertical-align: middle;\n    }\n\n    .dataframe tbody tr th {\n        vertical-align: top;\n    }\n\n    .dataframe thead th {\n        text-align: right;\n    }\n</style>\n<table border=\"1\" class=\"dataframe\">\n  <thead>\n    <tr style=\"text-align: right;\">\n      <th></th>\n      <th>user_id</th>\n      <th>item_id</th>\n      <th>rating</th>\n      <th>title</th>\n    </tr>\n  </thead>\n  <tbody>\n    <tr>\n      <th>0</th>\n      <td>0</td>\n      <td>50</td>\n      <td>5</td>\n      <td>Star Wars (1977)</td>\n    </tr>\n    <tr>\n      <th>1</th>\n      <td>290</td>\n      <td>50</td>\n      <td>5</td>\n      <td>Star Wars (1977)</td>\n    </tr>\n    <tr>\n      <th>2</th>\n      <td>79</td>\n      <td>50</td>\n      <td>4</td>\n      <td>Star Wars (1977)</td>\n    </tr>\n    <tr>\n      <th>3</th>\n      <td>2</td>\n      <td>50</td>\n      <td>5</td>\n      <td>Star Wars (1977)</td>\n    </tr>\n    <tr>\n      <th>4</th>\n      <td>8</td>\n      <td>50</td>\n      <td>5</td>\n      <td>Star Wars (1977)</td>\n    </tr>\n    <tr>\n      <th>...</th>\n      <td>...</td>\n      <td>...</td>\n      <td>...</td>\n      <td>...</td>\n    </tr>\n    <tr>\n      <th>99998</th>\n      <td>840</td>\n      <td>1674</td>\n      <td>4</td>\n      <td>Mamma Roma (1962)</td>\n    </tr>\n    <tr>\n      <th>99999</th>\n      <td>655</td>\n      <td>1640</td>\n      <td>3</td>\n      <td>Eighth Day, The (1996)</td>\n    </tr>\n    <tr>\n      <th>100000</th>\n      <td>655</td>\n      <td>1637</td>\n      <td>3</td>\n      <td>Girls Town (1996)</td>\n    </tr>\n    <tr>\n      <th>100001</th>\n      <td>655</td>\n      <td>1630</td>\n      <td>3</td>\n      <td>Silence of the Palace, The (Saimt el Qusur) (1...</td>\n    </tr>\n    <tr>\n      <th>100002</th>\n      <td>655</td>\n      <td>1641</td>\n      <td>3</td>\n      <td>Dadetown (1995)</td>\n    </tr>\n  </tbody>\n</table>\n<p>100003 rows × 4 columns</p>\n</div>"
     },
     "execution_count": 23,
     "metadata": {},
     "output_type": "execute_result"
    }
   ],
   "source": [
    "movie_ratings_df"
   ],
   "metadata": {
    "collapsed": false,
    "ExecuteTime": {
     "end_time": "2024-02-02T12:54:29.677409Z",
     "start_time": "2024-02-02T12:54:29.536731Z"
    }
   },
   "id": "fbd2e566ed89743e",
   "execution_count": 23
  },
  {
   "cell_type": "code",
   "outputs": [
    {
     "data": {
      "text/plain": "title    'Til There Was You (1997)  1-900 (1994)  101 Dalmatians (1996)  \\\nuser_id                                                                   \n0                              NaN           NaN                    NaN   \n1                              NaN           NaN                    2.0   \n2                              NaN           NaN                    NaN   \n3                              NaN           NaN                    NaN   \n4                              NaN           NaN                    NaN   \n\ntitle    12 Angry Men (1957)  187 (1997)  2 Days in the Valley (1996)  \\\nuser_id                                                                 \n0                        NaN         NaN                          NaN   \n1                        5.0         NaN                          NaN   \n2                        NaN         NaN                          NaN   \n3                        NaN         2.0                          NaN   \n4                        NaN         NaN                          NaN   \n\ntitle    20,000 Leagues Under the Sea (1954)  2001: A Space Odyssey (1968)  \\\nuser_id                                                                      \n0                                        NaN                           NaN   \n1                                        3.0                           4.0   \n2                                        NaN                           NaN   \n3                                        NaN                           NaN   \n4                                        NaN                           NaN   \n\ntitle    3 Ninjas: High Noon At Mega Mountain (1998)  39 Steps, The (1935)  \\\nuser_id                                                                      \n0                                                NaN                   NaN   \n1                                                NaN                   NaN   \n2                                                1.0                   NaN   \n3                                                NaN                   NaN   \n4                                                NaN                   NaN   \n\ntitle    ...  Yankee Zulu (1994)  Year of the Horse (1997)  \\\nuser_id  ...                                                 \n0        ...                 NaN                       NaN   \n1        ...                 NaN                       NaN   \n2        ...                 NaN                       NaN   \n3        ...                 NaN                       NaN   \n4        ...                 NaN                       NaN   \n\ntitle    You So Crazy (1994)  Young Frankenstein (1974)  Young Guns (1988)  \\\nuser_id                                                                      \n0                        NaN                        NaN                NaN   \n1                        NaN                        5.0                3.0   \n2                        NaN                        NaN                NaN   \n3                        NaN                        NaN                NaN   \n4                        NaN                        NaN                NaN   \n\ntitle    Young Guns II (1990)  Young Poisoner's Handbook, The (1995)  \\\nuser_id                                                                \n0                         NaN                                    NaN   \n1                         NaN                                    NaN   \n2                         NaN                                    NaN   \n3                         NaN                                    NaN   \n4                         NaN                                    NaN   \n\ntitle    Zeus and Roxanne (1997)  unknown  Á köldum klaka (Cold Fever) (1994)  \nuser_id                                                                        \n0                            NaN      NaN                                 NaN  \n1                            NaN      4.0                                 NaN  \n2                            NaN      NaN                                 NaN  \n3                            NaN      NaN                                 NaN  \n4                            NaN      NaN                                 NaN  \n\n[5 rows x 1664 columns]",
      "text/html": "<div>\n<style scoped>\n    .dataframe tbody tr th:only-of-type {\n        vertical-align: middle;\n    }\n\n    .dataframe tbody tr th {\n        vertical-align: top;\n    }\n\n    .dataframe thead th {\n        text-align: right;\n    }\n</style>\n<table border=\"1\" class=\"dataframe\">\n  <thead>\n    <tr style=\"text-align: right;\">\n      <th>title</th>\n      <th>'Til There Was You (1997)</th>\n      <th>1-900 (1994)</th>\n      <th>101 Dalmatians (1996)</th>\n      <th>12 Angry Men (1957)</th>\n      <th>187 (1997)</th>\n      <th>2 Days in the Valley (1996)</th>\n      <th>20,000 Leagues Under the Sea (1954)</th>\n      <th>2001: A Space Odyssey (1968)</th>\n      <th>3 Ninjas: High Noon At Mega Mountain (1998)</th>\n      <th>39 Steps, The (1935)</th>\n      <th>...</th>\n      <th>Yankee Zulu (1994)</th>\n      <th>Year of the Horse (1997)</th>\n      <th>You So Crazy (1994)</th>\n      <th>Young Frankenstein (1974)</th>\n      <th>Young Guns (1988)</th>\n      <th>Young Guns II (1990)</th>\n      <th>Young Poisoner's Handbook, The (1995)</th>\n      <th>Zeus and Roxanne (1997)</th>\n      <th>unknown</th>\n      <th>Á köldum klaka (Cold Fever) (1994)</th>\n    </tr>\n    <tr>\n      <th>user_id</th>\n      <th></th>\n      <th></th>\n      <th></th>\n      <th></th>\n      <th></th>\n      <th></th>\n      <th></th>\n      <th></th>\n      <th></th>\n      <th></th>\n      <th></th>\n      <th></th>\n      <th></th>\n      <th></th>\n      <th></th>\n      <th></th>\n      <th></th>\n      <th></th>\n      <th></th>\n      <th></th>\n      <th></th>\n    </tr>\n  </thead>\n  <tbody>\n    <tr>\n      <th>0</th>\n      <td>NaN</td>\n      <td>NaN</td>\n      <td>NaN</td>\n      <td>NaN</td>\n      <td>NaN</td>\n      <td>NaN</td>\n      <td>NaN</td>\n      <td>NaN</td>\n      <td>NaN</td>\n      <td>NaN</td>\n      <td>...</td>\n      <td>NaN</td>\n      <td>NaN</td>\n      <td>NaN</td>\n      <td>NaN</td>\n      <td>NaN</td>\n      <td>NaN</td>\n      <td>NaN</td>\n      <td>NaN</td>\n      <td>NaN</td>\n      <td>NaN</td>\n    </tr>\n    <tr>\n      <th>1</th>\n      <td>NaN</td>\n      <td>NaN</td>\n      <td>2.0</td>\n      <td>5.0</td>\n      <td>NaN</td>\n      <td>NaN</td>\n      <td>3.0</td>\n      <td>4.0</td>\n      <td>NaN</td>\n      <td>NaN</td>\n      <td>...</td>\n      <td>NaN</td>\n      <td>NaN</td>\n      <td>NaN</td>\n      <td>5.0</td>\n      <td>3.0</td>\n      <td>NaN</td>\n      <td>NaN</td>\n      <td>NaN</td>\n      <td>4.0</td>\n      <td>NaN</td>\n    </tr>\n    <tr>\n      <th>2</th>\n      <td>NaN</td>\n      <td>NaN</td>\n      <td>NaN</td>\n      <td>NaN</td>\n      <td>NaN</td>\n      <td>NaN</td>\n      <td>NaN</td>\n      <td>NaN</td>\n      <td>1.0</td>\n      <td>NaN</td>\n      <td>...</td>\n      <td>NaN</td>\n      <td>NaN</td>\n      <td>NaN</td>\n      <td>NaN</td>\n      <td>NaN</td>\n      <td>NaN</td>\n      <td>NaN</td>\n      <td>NaN</td>\n      <td>NaN</td>\n      <td>NaN</td>\n    </tr>\n    <tr>\n      <th>3</th>\n      <td>NaN</td>\n      <td>NaN</td>\n      <td>NaN</td>\n      <td>NaN</td>\n      <td>2.0</td>\n      <td>NaN</td>\n      <td>NaN</td>\n      <td>NaN</td>\n      <td>NaN</td>\n      <td>NaN</td>\n      <td>...</td>\n      <td>NaN</td>\n      <td>NaN</td>\n      <td>NaN</td>\n      <td>NaN</td>\n      <td>NaN</td>\n      <td>NaN</td>\n      <td>NaN</td>\n      <td>NaN</td>\n      <td>NaN</td>\n      <td>NaN</td>\n    </tr>\n    <tr>\n      <th>4</th>\n      <td>NaN</td>\n      <td>NaN</td>\n      <td>NaN</td>\n      <td>NaN</td>\n      <td>NaN</td>\n      <td>NaN</td>\n      <td>NaN</td>\n      <td>NaN</td>\n      <td>NaN</td>\n      <td>NaN</td>\n      <td>...</td>\n      <td>NaN</td>\n      <td>NaN</td>\n      <td>NaN</td>\n      <td>NaN</td>\n      <td>NaN</td>\n      <td>NaN</td>\n      <td>NaN</td>\n      <td>NaN</td>\n      <td>NaN</td>\n      <td>NaN</td>\n    </tr>\n  </tbody>\n</table>\n<p>5 rows × 1664 columns</p>\n</div>"
     },
     "execution_count": 24,
     "metadata": {},
     "output_type": "execute_result"
    }
   ],
   "source": [
    "user_id_movietitle_matrix = movie_ratings_df.pivot_table(index='user_id', columns='title', values='rating')\n",
    "user_id_movietitle_matrix.head()"
   ],
   "metadata": {
    "collapsed": false,
    "ExecuteTime": {
     "end_time": "2024-02-02T12:54:29.826186Z",
     "start_time": "2024-02-02T12:54:29.543067Z"
    }
   },
   "id": "fa5a8629c21a7f63",
   "execution_count": 24
  },
  {
   "cell_type": "code",
   "outputs": [
    {
     "data": {
      "text/plain": "user_id\n0      NaN\n1      NaN\n2      5.0\n3      NaN\n4      NaN\n      ... \n939    NaN\n940    5.0\n941    NaN\n942    3.0\n943    NaN\nName: Titanic (1997), Length: 944, dtype: float64"
     },
     "execution_count": 25,
     "metadata": {},
     "output_type": "execute_result"
    }
   ],
   "source": [
    "titanic = user_id_movietitle_matrix['Titanic (1997)']\n",
    "titanic\n",
    "# 타이타닉에 사람들이 어떤 점수를 줬는지 볼 수 있음 "
   ],
   "metadata": {
    "collapsed": false,
    "ExecuteTime": {
     "end_time": "2024-02-02T12:54:29.826833Z",
     "start_time": "2024-02-02T12:54:29.656207Z"
    }
   },
   "id": "799167c59e165b4d",
   "execution_count": 25
  },
  {
   "cell_type": "code",
   "outputs": [
    {
     "data": {
      "text/plain": "<Axes: ylabel='Frequency'>"
     },
     "execution_count": 26,
     "metadata": {},
     "output_type": "execute_result"
    },
    {
     "data": {
      "text/plain": "<Figure size 640x480 with 1 Axes>",
      "image/png": "[encoded data removed]"
     },
     "metadata": {},
     "output_type": "display_data"
    }
   ],
   "source": [
    "titanic.plot(kind = 'hist',color = 'r')"
   ],
   "metadata": {
    "collapsed": false,
    "ExecuteTime": {
     "end_time": "2024-02-02T12:54:29.986415Z",
     "start_time": "2024-02-02T12:54:29.660766Z"
    }
   },
   "id": "65c5e79f29de418c",
   "execution_count": 26
  },
  {
   "cell_type": "code",
   "outputs": [
    {
     "name": "stderr",
     "output_type": "stream",
     "text": [
      "/Users/hyun-uk/anaconda3/lib/python3.11/site-packages/numpy/lib/function_base.py:2846: RuntimeWarning: Degrees of freedom <= 0 for slice\n",
      "  c = cov(x, y, rowvar, dtype=dtype)\n",
      "/Users/hyun-uk/anaconda3/lib/python3.11/site-packages/numpy/lib/function_base.py:2705: RuntimeWarning: divide by zero encountered in divide\n",
      "  c *= np.true_divide(1, fact)\n"
     ]
    },
    {
     "data": {
      "text/plain": "                                       Correlation\ntitle                                             \n'Til There Was You (1997)                -0.062017\n1-900 (1994)                                   NaN\n101 Dalmatians (1996)                     0.120113\n12 Angry Men (1957)                       0.077700\n187 (1997)                                0.315654\n...                                            ...\nYoung Guns II (1990)                      0.317274\nYoung Poisoner's Handbook, The (1995)     0.356783\nZeus and Roxanne (1997)                        NaN\nunknown                                        NaN\nÁ köldum klaka (Cold Fever) (1994)             NaN\n\n[1664 rows x 1 columns]",
      "text/html": "<div>\n<style scoped>\n    .dataframe tbody tr th:only-of-type {\n        vertical-align: middle;\n    }\n\n    .dataframe tbody tr th {\n        vertical-align: top;\n    }\n\n    .dataframe thead th {\n        text-align: right;\n    }\n</style>\n<table border=\"1\" class=\"dataframe\">\n  <thead>\n    <tr style=\"text-align: right;\">\n      <th></th>\n      <th>Correlation</th>\n    </tr>\n    <tr>\n      <th>title</th>\n      <th></th>\n    </tr>\n  </thead>\n  <tbody>\n    <tr>\n      <th>'Til There Was You (1997)</th>\n      <td>-0.062017</td>\n    </tr>\n    <tr>\n      <th>1-900 (1994)</th>\n      <td>NaN</td>\n    </tr>\n    <tr>\n      <th>101 Dalmatians (1996)</th>\n      <td>0.120113</td>\n    </tr>\n    <tr>\n      <th>12 Angry Men (1957)</th>\n      <td>0.077700</td>\n    </tr>\n    <tr>\n      <th>187 (1997)</th>\n      <td>0.315654</td>\n    </tr>\n    <tr>\n      <th>...</th>\n      <td>...</td>\n    </tr>\n    <tr>\n      <th>Young Guns II (1990)</th>\n      <td>0.317274</td>\n    </tr>\n    <tr>\n      <th>Young Poisoner's Handbook, The (1995)</th>\n      <td>0.356783</td>\n    </tr>\n    <tr>\n      <th>Zeus and Roxanne (1997)</th>\n      <td>NaN</td>\n    </tr>\n    <tr>\n      <th>unknown</th>\n      <td>NaN</td>\n    </tr>\n    <tr>\n      <th>Á köldum klaka (Cold Fever) (1994)</th>\n      <td>NaN</td>\n    </tr>\n  </tbody>\n</table>\n<p>1664 rows × 1 columns</p>\n</div>"
     },
     "execution_count": 27,
     "metadata": {},
     "output_type": "execute_result"
    }
   ],
   "source": [
    "titanic_correlation = pd.DataFrame(user_id_movietitle_matrix.corrwith(titanic),columns=['Correlation'])\n",
    "titanic_correlation"
   ],
   "metadata": {
    "collapsed": false,
    "ExecuteTime": {
     "end_time": "2024-02-02T12:54:30.037599Z",
     "start_time": "2024-02-02T12:54:29.844308Z"
    }
   },
   "id": "b6181b5dac5b37dc",
   "execution_count": 27
  },
  {
   "cell_type": "code",
   "outputs": [
    {
     "data": {
      "text/plain": "                                       Correlation\ntitle                                             \n'Til There Was You (1997)                -0.062017\n101 Dalmatians (1996)                     0.120113\n12 Angry Men (1957)                       0.077700\n187 (1997)                                0.315654\n2 Days in the Valley (1996)               0.017295\n...                                            ...\nYear of the Horse (1997)                  1.000000\nYoung Frankenstein (1974)                 0.107666\nYoung Guns (1988)                         0.199931\nYoung Guns II (1990)                      0.317274\nYoung Poisoner's Handbook, The (1995)     0.356783\n\n[1356 rows x 1 columns]",
      "text/html": "<div>\n<style scoped>\n    .dataframe tbody tr th:only-of-type {\n        vertical-align: middle;\n    }\n\n    .dataframe tbody tr th {\n        vertical-align: top;\n    }\n\n    .dataframe thead th {\n        text-align: right;\n    }\n</style>\n<table border=\"1\" class=\"dataframe\">\n  <thead>\n    <tr style=\"text-align: right;\">\n      <th></th>\n      <th>Correlation</th>\n    </tr>\n    <tr>\n      <th>title</th>\n      <th></th>\n    </tr>\n  </thead>\n  <tbody>\n    <tr>\n      <th>'Til There Was You (1997)</th>\n      <td>-0.062017</td>\n    </tr>\n    <tr>\n      <th>101 Dalmatians (1996)</th>\n      <td>0.120113</td>\n    </tr>\n    <tr>\n      <th>12 Angry Men (1957)</th>\n      <td>0.077700</td>\n    </tr>\n    <tr>\n      <th>187 (1997)</th>\n      <td>0.315654</td>\n    </tr>\n    <tr>\n      <th>2 Days in the Valley (1996)</th>\n      <td>0.017295</td>\n    </tr>\n    <tr>\n      <th>...</th>\n      <td>...</td>\n    </tr>\n    <tr>\n      <th>Year of the Horse (1997)</th>\n      <td>1.000000</td>\n    </tr>\n    <tr>\n      <th>Young Frankenstein (1974)</th>\n      <td>0.107666</td>\n    </tr>\n    <tr>\n      <th>Young Guns (1988)</th>\n      <td>0.199931</td>\n    </tr>\n    <tr>\n      <th>Young Guns II (1990)</th>\n      <td>0.317274</td>\n    </tr>\n    <tr>\n      <th>Young Poisoner's Handbook, The (1995)</th>\n      <td>0.356783</td>\n    </tr>\n  </tbody>\n</table>\n<p>1356 rows × 1 columns</p>\n</div>"
     },
     "execution_count": 28,
     "metadata": {},
     "output_type": "execute_result"
    }
   ],
   "source": [
    "# 결측치 제거\n",
    "titanic_correlation.dropna(inplace=True)\n",
    "titanic_correlation"
   ],
   "metadata": {
    "collapsed": false,
    "ExecuteTime": {
     "end_time": "2024-02-02T12:54:30.041754Z",
     "start_time": "2024-02-02T12:54:29.979253Z"
    }
   },
   "id": "8d80d2658cb608c8",
   "execution_count": 28
  },
  {
   "cell_type": "code",
   "outputs": [
    {
     "data": {
      "text/plain": "                                          Correlation\ntitle                                                \nNadja (1994)                                      1.0\nPest, The (1997)                                  1.0\nSavage Nights (Nuits fauves, Les) (1992)          1.0\nFor Ever Mozart (1996)                            1.0\nJerky Boys, The (1994)                            1.0\nNewton Boys, The (1998)                           1.0\nHearts and Minds (1996)                           1.0\nSimple Wish, A (1997)                             1.0\nPurple Noon (1960)                                1.0\nYear of the Horse (1997)                          1.0",
      "text/html": "<div>\n<style scoped>\n    .dataframe tbody tr th:only-of-type {\n        vertical-align: middle;\n    }\n\n    .dataframe tbody tr th {\n        vertical-align: top;\n    }\n\n    .dataframe thead th {\n        text-align: right;\n    }\n</style>\n<table border=\"1\" class=\"dataframe\">\n  <thead>\n    <tr style=\"text-align: right;\">\n      <th></th>\n      <th>Correlation</th>\n    </tr>\n    <tr>\n      <th>title</th>\n      <th></th>\n    </tr>\n  </thead>\n  <tbody>\n    <tr>\n      <th>Nadja (1994)</th>\n      <td>1.0</td>\n    </tr>\n    <tr>\n      <th>Pest, The (1997)</th>\n      <td>1.0</td>\n    </tr>\n    <tr>\n      <th>Savage Nights (Nuits fauves, Les) (1992)</th>\n      <td>1.0</td>\n    </tr>\n    <tr>\n      <th>For Ever Mozart (1996)</th>\n      <td>1.0</td>\n    </tr>\n    <tr>\n      <th>Jerky Boys, The (1994)</th>\n      <td>1.0</td>\n    </tr>\n    <tr>\n      <th>Newton Boys, The (1998)</th>\n      <td>1.0</td>\n    </tr>\n    <tr>\n      <th>Hearts and Minds (1996)</th>\n      <td>1.0</td>\n    </tr>\n    <tr>\n      <th>Simple Wish, A (1997)</th>\n      <td>1.0</td>\n    </tr>\n    <tr>\n      <th>Purple Noon (1960)</th>\n      <td>1.0</td>\n    </tr>\n    <tr>\n      <th>Year of the Horse (1997)</th>\n      <td>1.0</td>\n    </tr>\n  </tbody>\n</table>\n</div>"
     },
     "execution_count": 29,
     "metadata": {},
     "output_type": "execute_result"
    }
   ],
   "source": [
    "titanic_correlation.sort_values('Correlation',ascending=False).head(10)"
   ],
   "metadata": {
    "collapsed": false,
    "ExecuteTime": {
     "end_time": "2024-02-02T12:54:30.061788Z",
     "start_time": "2024-02-02T12:54:29.984550Z"
    }
   },
   "id": "c09f0c4daa710cf5",
   "execution_count": 29
  },
  {
   "cell_type": "code",
   "outputs": [],
   "source": [
    "# 이유모를 카운트가 안되는 관계로 여기까지"
   ],
   "metadata": {
    "collapsed": false,
    "ExecuteTime": {
     "end_time": "2024-02-02T12:54:30.063366Z",
     "start_time": "2024-02-02T12:54:29.990477Z"
    }
   },
   "id": "607fb7154b0028cf",
   "execution_count": 30
  }
 ],
 "metadata": {
  "kernelspec": {
   "display_name": "Python 3",
   "language": "python",
   "name": "python3"
  },
  "language_info": {
   "codemirror_mode": {
    "name": "ipython",
    "version": 2
   },
   "file_extension": ".py",
   "mimetype": "text/x-python",
   "name": "python",
   "nbconvert_exporter": "python",
   "pygments_lexer": "ipython2",
   "version": "2.7.6"
  }
 },
 "nbformat": 4,
 "nbformat_minor": 5
}
