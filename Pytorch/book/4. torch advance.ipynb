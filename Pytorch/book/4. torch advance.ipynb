{
 "cells": [
  {
   "metadata": {},
   "cell_type": "markdown",
   "source": [
    "## 파이토치 심화\n",
    "\n",
    "### 배치정규화 \n",
    "내부 공변량 변화를 줄이기 위해 사용함. 4가지 정규화 방식이 있음\n",
    "- 배치 정규화 : CNN, MLP 같은 순방향 신경망에 쓰임\n",
    "- 계층 정규화 : RNN, 트랜스포머에 쓰임\n",
    "- 인스턴스 정규화 : 스타일 변환, GAN에 쓰임\n",
    "- 그룹정규화 : CNN 배치 사이즈가 작을 때"
   ],
   "id": "e1eef7275597d94"
  },
  {
   "cell_type": "code",
   "id": "initial_id",
   "metadata": {
    "collapsed": true,
    "ExecuteTime": {
     "end_time": "2024-08-26T02:42:58.309067Z",
     "start_time": "2024-08-26T02:42:58.302402Z"
    }
   },
   "source": [
    "# 정규화 예시\n",
    "import torch\n",
    "from torch import nn\n",
    "x = torch.FloatTensor(\n",
    "    [\n",
    "        [-0.65,-0.57,0.63],\n",
    "        [0.73,0.21,1.52],\n",
    "        [0.24,0.56,0.32]\n",
    "    ]\n",
    ")\n",
    "\n",
    "print(\"정규화 안했을 때 :\", x)\n",
    "print(\"정규화 했을 때 :\", nn.BatchNorm1d(3)(x))"
   ],
   "outputs": [
    {
     "name": "stdout",
     "output_type": "stream",
     "text": [
      "정규화 안했을 때 : tensor([[-0.6500, -0.5700,  0.6300],\n",
      "        [ 0.7300,  0.2100,  1.5200],\n",
      "        [ 0.2400,  0.5600,  0.3200]])\n",
      "정규화 했을 때 : tensor([[-1.3246, -1.3479, -0.3801],\n",
      "        [ 1.0912,  0.3035,  1.3697],\n",
      "        [ 0.2334,  1.0445, -0.9896]], grad_fn=<NativeBatchNormBackward0>)\n"
     ]
    }
   ],
   "execution_count": 2
  },
  {
   "metadata": {},
   "cell_type": "markdown",
   "source": [
    "## 가중치 초기화\n",
    "모델의 초기 가중치를 설정하는 것\n",
    "gradient vanishing, gradient exposive를 방지 가능\n",
    "- 상수 초기화\n",
    "- 무작위 초기화\n",
    "- 제르비어 초기화 : 활성화 함수가 시그모이드 형식일때 좋음\n",
    "- 카이밍(허) 초기화 : ReLU에서 죽은 뉴런 문제 해결 가능, 활성화 함수가 ReLU일때 좋음\n",
    "- 직교 초기화 : 특이값분해(SVD)를 이용함, LSTM, GRU같은 RNN에 주로 사용"
   ],
   "id": "15da44f528e9dd7b"
  },
  {
   "metadata": {
    "ExecuteTime": {
     "end_time": "2024-08-26T03:19:57.037333Z",
     "start_time": "2024-08-26T03:19:57.030718Z"
    }
   },
   "cell_type": "code",
   "source": [
    "# 제르비어 초기화 예시 1\n",
    "\n",
    "from torch import nn\n",
    "\n",
    "class net(nn.Module):\n",
    "    def __init__(self):\n",
    "        super().__init__()\n",
    "        self.layer = nn.Sequential(\n",
    "            nn.Linear(1,2),\n",
    "            nn.Sigmoid()\n",
    "        )\n",
    "        self.fc = nn.Linear(2,1)\n",
    "\n",
    "    def _init_weights(self):\n",
    "        nn.init.xavier_uniform_(self.layer[0].weight)\n",
    "        self.layer[0].bias.data.fiil_(0.01)\n",
    "        \n",
    "        nn.init.xavier_uniform_(self.fc.weight)\n",
    "        self.fc.bias.data.fiil_(0.01)"
   ],
   "id": "76544079a9bbcfa7",
   "outputs": [],
   "execution_count": 3
  },
  {
   "metadata": {
    "ExecuteTime": {
     "end_time": "2024-08-26T03:27:54.750359Z",
     "start_time": "2024-08-26T03:27:54.745812Z"
    }
   },
   "cell_type": "code",
   "source": [
    "# 복잡한 모델에서는 모듈화해서 가중치를 초기화함\n",
    "\n",
    "class Net(nn.Module):\n",
    "    def __init__(self):\n",
    "        super().__init__()\n",
    "        self.layer = nn.Sequential(\n",
    "            nn.Linear(1,2),\n",
    "            nn.Sigmoid()\n",
    "        )\n",
    "        self.fc = nn.Linear(2,1)\n",
    "        self.apply(self._init_weights)\n",
    "    \n",
    "    def _init_weights(self, module):\n",
    "        if isinstance(module, nn.Linear):    \n",
    "            nn.init.xavier_uniform_(module.weight)\n",
    "            nn.init.constant_(module.bias,0.01)\n",
    "        print(f\"apply {module}\")\n",
    "        \n",
    "model = Net()"
   ],
   "id": "f7374a12e7c0c0ed",
   "outputs": [
    {
     "name": "stdout",
     "output_type": "stream",
     "text": [
      "apply Linear(in_features=1, out_features=2, bias=True)\n",
      "apply Sigmoid()\n",
      "apply Sequential(\n",
      "  (0): Linear(in_features=1, out_features=2, bias=True)\n",
      "  (1): Sigmoid()\n",
      ")\n",
      "apply Linear(in_features=2, out_features=1, bias=True)\n",
      "apply Net(\n",
      "  (layer): Sequential(\n",
      "    (0): Linear(in_features=1, out_features=2, bias=True)\n",
      "    (1): Sigmoid()\n",
      "  )\n",
      "  (fc): Linear(in_features=2, out_features=1, bias=True)\n",
      ")\n"
     ]
    }
   ],
   "execution_count": 5
  },
  {
   "metadata": {},
   "cell_type": "markdown",
   "source": [
    "### 정칙화\n",
    "L1 정칙화 Lasso \n",
    "L2 정칙화 Ridge \n",
    "가 있음\n",
    "릿지는 optimizer에서 weight_decay를 통해서도 구현가능"
   ],
   "id": "26aea05aaa9b2b34"
  },
  {
   "metadata": {},
   "cell_type": "code",
   "outputs": [],
   "execution_count": null,
   "source": "",
   "id": "e11f13b51bf792d7"
  }
 ],
 "metadata": {
  "kernelspec": {
   "display_name": "Python 3",
   "language": "python",
   "name": "python3"
  },
  "language_info": {
   "codemirror_mode": {
    "name": "ipython",
    "version": 2
   },
   "file_extension": ".py",
   "mimetype": "text/x-python",
   "name": "python",
   "nbconvert_exporter": "python",
   "pygments_lexer": "ipython2",
   "version": "2.7.6"
  }
 },
 "nbformat": 4,
 "nbformat_minor": 5
}
