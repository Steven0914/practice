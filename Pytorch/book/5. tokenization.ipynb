{
 "cells": [
  {
   "metadata": {},
   "cell_type": "markdown",
   "source": "## 5. 토큰화",
   "id": "ee39c1a6e06364e7"
  },
  {
   "cell_type": "code",
   "id": "initial_id",
   "metadata": {
    "collapsed": true,
    "ExecuteTime": {
     "end_time": "2024-08-26T04:48:57.610571Z",
     "start_time": "2024-08-26T04:48:57.608727Z"
    }
   },
   "source": [
    "# 단어 토큰화\n",
    "review = \"어떤 인사가 괜찮을까? 천번쯤 상상해봤어\"\n",
    "tokenized = review.split()\n",
    "print(tokenized)"
   ],
   "outputs": [
    {
     "name": "stdout",
     "output_type": "stream",
     "text": [
      "['어떤', '인사가', '괜찮을까?', '천번쯤', '상상해봤어']\n"
     ]
    }
   ],
   "execution_count": 1
  },
  {
   "metadata": {
    "ExecuteTime": {
     "end_time": "2024-08-26T04:49:29.842488Z",
     "start_time": "2024-08-26T04:49:29.838843Z"
    }
   },
   "cell_type": "code",
   "source": [
    "# 글자 토큰화\n",
    "review = \"어떤 인사가 괜찮을까? 천번쯤 상상해봤어\"\n",
    "tokenized = list(review)\n",
    "print(tokenized)"
   ],
   "id": "f00661063a6da0cb",
   "outputs": [
    {
     "name": "stdout",
     "output_type": "stream",
     "text": [
      "['어', '떤', ' ', '인', '사', '가', ' ', '괜', '찮', '을', '까', '?', ' ', '천', '번', '쯤', ' ', '상', '상', '해', '봤', '어']\n"
     ]
    }
   ],
   "execution_count": 2
  },
  {
   "metadata": {
    "ExecuteTime": {
     "end_time": "2024-08-26T04:54:02.334619Z",
     "start_time": "2024-08-26T04:54:02.328054Z"
    }
   },
   "cell_type": "code",
   "source": [
    "# 자모 라이브러리를 통한 토큰화\n",
    "from jamo import h2j, j2hcj\n",
    "\n",
    "review = \"어떤 인사가 괜찮을까? 천번쯤 상상해봤어\"\n",
    "decomposed = j2hcj(h2j(review))\n",
    "tokenized = list(decomposed)\n",
    "print(tokenized)"
   ],
   "id": "13930fdf9b1ec5b9",
   "outputs": [
    {
     "name": "stdout",
     "output_type": "stream",
     "text": [
      "['ㅇ', 'ㅓ', 'ㄸ', 'ㅓ', 'ㄴ', ' ', 'ㅇ', 'ㅣ', 'ㄴ', 'ㅅ', 'ㅏ', 'ㄱ', 'ㅏ', ' ', 'ㄱ', 'ㅙ', 'ㄴ', 'ㅊ', 'ㅏ', 'ㄶ', 'ㅇ', 'ㅡ', 'ㄹ', 'ㄲ', 'ㅏ', '?', ' ', 'ㅊ', 'ㅓ', 'ㄴ', 'ㅂ', 'ㅓ', 'ㄴ', 'ㅉ', 'ㅡ', 'ㅁ', ' ', 'ㅅ', 'ㅏ', 'ㅇ', 'ㅅ', 'ㅏ', 'ㅇ', 'ㅎ', 'ㅐ', 'ㅂ', 'ㅘ', 'ㅆ', 'ㅇ', 'ㅓ']\n"
     ]
    }
   ],
   "execution_count": 3
  },
  {
   "metadata": {},
   "cell_type": "markdown",
   "source": [
    "### 형태소 토큰화\n",
    "KoNLPy : 한국어 자연어 처리를 위하 라이브러리\n",
    "자바 기반이므로, JDK가 설치되어있어야함\n",
    "Okt, 꼬꼬마, 코모란, 한나눔, 메캅 등의 형태소 분석기를 지원\n",
    "\n",
    "여기선 SNS 텍스트 데이터 기반으로 개발된 'OKt'와 \n",
    "국립국어원에서 배포한 세종말뭉치로 개발된 '꼬꼬마'를 사용해볼 예정"
   ],
   "id": "63a2bbef7308700c"
  },
  {
   "metadata": {
    "ExecuteTime": {
     "end_time": "2024-08-26T05:53:29.784223Z",
     "start_time": "2024-08-26T05:53:26.645911Z"
    }
   },
   "cell_type": "code",
   "source": [
    "#okt 사용\n",
    "from konlpy.tag import Okt\n",
    "\n",
    "kkma = Okt()\n",
    "\n",
    "sentence = \"무엇이든 상상할 수 있는 사람은 무엇이든 만들어 낼 수 있다.\"\n",
    "\n",
    "nouns = kkma.nouns(sentence)\n",
    "phrase = kkma.phrases(sentence)\n",
    "morphs = kkma.morphs(sentence)\n",
    "pos = kkma.pos(sentence)\n",
    "\n",
    "print(\"명사 추출 :\", nouns)\n",
    "print(\"구 추출 :\", phrase)\n",
    "print(\"형태소 추출 :\", morphs)\n",
    "print(\"명사 추출 :\", pos)"
   ],
   "id": "8569b763c4897ac0",
   "outputs": [
    {
     "name": "stdout",
     "output_type": "stream",
     "text": [
      "명사 추출 : ['무엇', '상상', '수', '사람', '무엇', '낼', '수']\n",
      "구 추출 : ['무엇', '상상', '상상할 수', '상상할 수 있는 사람', '사람']\n",
      "형태소 추출 : ['무엇', '이든', '상상', '할', '수', '있는', '사람', '은', '무엇', '이든', '만들어', '낼', '수', '있다', '.']\n",
      "명사 추출 : [('무엇', 'Noun'), ('이든', 'Josa'), ('상상', 'Noun'), ('할', 'Verb'), ('수', 'Noun'), ('있는', 'Adjective'), ('사람', 'Noun'), ('은', 'Josa'), ('무엇', 'Noun'), ('이든', 'Josa'), ('만들어', 'Verb'), ('낼', 'Noun'), ('수', 'Noun'), ('있다', 'Adjective'), ('.', 'Punctuation')]\n"
     ]
    }
   ],
   "execution_count": 4
  },
  {
   "metadata": {
    "ExecuteTime": {
     "end_time": "2024-08-26T05:55:46.194706Z",
     "start_time": "2024-08-26T05:55:46.153047Z"
    }
   },
   "cell_type": "code",
   "source": [
    "# 꼬꼬마 사용\n",
    "from konlpy.tag import Kkma\n",
    "\n",
    "kkma = Kkma()\n",
    "\n",
    "sentence = \"무엇이든 상상할 수 있는 사람은 무엇이든 만들어 낼 수 있다.\"\n",
    "\n",
    "nouns = kkma.nouns(sentence)\n",
    "sentences = kkma.sentences(sentence)\n",
    "morphs = kkma.morphs(sentence)\n",
    "pos = kkma.pos(sentence)\n",
    "\n",
    "print(\"명사 추출 :\", nouns)\n",
    "print(\"문장 추출 :\", sentences)\n",
    "print(\"형태소 추출 :\", morphs)\n",
    "print(\"명사 추출 :\", pos)"
   ],
   "id": "376338e36e49f364",
   "outputs": [
    {
     "name": "stdout",
     "output_type": "stream",
     "text": [
      "명사 추출 : ['무엇', '상상', '수', '사람', '무엇']\n",
      "문장 추출 : ['무엇이든 상상할 수 있는 사람은 무엇이든 만들어 낼 수 있다.']\n",
      "형태소 추출 : ['무엇', '이', '든', '상상', '하', 'ㄹ', '수', '있', '는', '사람', '은', '무엇', '이', '든', '만들', '어', '내', 'ㄹ', '수', '있', '다', '.']\n",
      "명사 추출 : [('무엇', 'NNG'), ('이', 'VCP'), ('든', 'ECE'), ('상상', 'NNG'), ('하', 'XSV'), ('ㄹ', 'ETD'), ('수', 'NNB'), ('있', 'VV'), ('는', 'ETD'), ('사람', 'NNG'), ('은', 'JX'), ('무엇', 'NP'), ('이', 'VCP'), ('든', 'ECE'), ('만들', 'VV'), ('어', 'ECD'), ('내', 'VXV'), ('ㄹ', 'ETD'), ('수', 'NNB'), ('있', 'VV'), ('다', 'EFN'), ('.', 'SF')]\n"
     ]
    }
   ],
   "execution_count": 7
  },
  {
   "metadata": {},
   "cell_type": "markdown",
   "source": [
    "### NLTK\n",
    "Natrual Language TookKit, 자연어 처리를위한 라이브러리\n",
    "\n",
    "토큰화 및 품사태깅을 위해 'Punct'(통계기반)와 'averaged perceptron tagger'(퍼셉트론 기반)를 사용함"
   ],
   "id": "aeaa23fdd102e8cb"
  },
  {
   "metadata": {
    "ExecuteTime": {
     "end_time": "2024-08-26T06:06:41.178817Z",
     "start_time": "2024-08-26T06:06:41.174815Z"
    }
   },
   "cell_type": "code",
   "source": [
    "# 모델 다운로드\n",
    "import nltk\n",
    "\n",
    "nltk.download(\"punkt\")\n",
    "nltk.download(\"averaged_perceptron_tagger\")"
   ],
   "id": "1a1193281ba548da",
   "outputs": [
    {
     "name": "stderr",
     "output_type": "stream",
     "text": [
      "[nltk_data] Downloading package punkt to /Users/hyun-uk/nltk_data...\n",
      "[nltk_data]   Package punkt is already up-to-date!\n",
      "[nltk_data] Downloading package averaged_perceptron_tagger to\n",
      "[nltk_data]     /Users/hyun-uk/nltk_data...\n",
      "[nltk_data]   Package averaged_perceptron_tagger is already up-to-\n",
      "[nltk_data]       date!\n"
     ]
    },
    {
     "data": {
      "text/plain": [
       "True"
      ]
     },
     "execution_count": 9,
     "metadata": {},
     "output_type": "execute_result"
    }
   ],
   "execution_count": 9
  },
  {
   "metadata": {
    "ExecuteTime": {
     "end_time": "2024-08-26T06:22:33.379236Z",
     "start_time": "2024-08-26T06:22:33.366707Z"
    }
   },
   "cell_type": "code",
   "source": [
    "# punct 모델을 기준으로 토큰화\n",
    "from nltk import tokenize\n",
    "\n",
    "sentence = \"thoes who can imagine anything, can create the impossible\"\n",
    "\n",
    "word_token = tokenize.word_tokenize(sentence)\n",
    "sentence_token = tokenize.sent_tokenize(sentence)\n",
    "\n",
    "print(word_token)\n",
    "print(sentence_token)"
   ],
   "id": "638f5228edc595c0",
   "outputs": [
    {
     "name": "stdout",
     "output_type": "stream",
     "text": [
      "['thoes', 'who', 'can', 'imagine', 'anything', ',', 'can', 'create', 'the', 'impossible']\n",
      "['thoes who can imagine anything, can create the impossible']\n"
     ]
    }
   ],
   "execution_count": 10
  },
  {
   "metadata": {
    "ExecuteTime": {
     "end_time": "2024-08-26T06:28:49.973386Z",
     "start_time": "2024-08-26T06:28:49.927084Z"
    }
   },
   "cell_type": "code",
   "source": [
    "# average perceptron tagger를 통한 품사태깅\n",
    "from nltk import tag\n",
    "from nltk import tokenize\n",
    "\n",
    "sentence = \"thoes who can imagine anything, can create the impossible\"\n",
    "word_token = tokenize.word_tokenize(sentence)\n",
    "pos = tag.pos_tag(word_token)\n",
    "\n",
    "print(pos)"
   ],
   "id": "201d1f20fc8eab4e",
   "outputs": [
    {
     "name": "stdout",
     "output_type": "stream",
     "text": [
      "[('thoes', 'NNS'), ('who', 'WP'), ('can', 'MD'), ('imagine', 'VB'), ('anything', 'NN'), (',', ','), ('can', 'MD'), ('create', 'VB'), ('the', 'DT'), ('impossible', 'JJ')]\n"
     ]
    }
   ],
   "execution_count": 11
  },
  {
   "metadata": {},
   "cell_type": "markdown",
   "source": [
    "### spaCy\n",
    "Cython을 기반으로 빠르고 정확한 머신러닝 자연어처리 라이브러리"
   ],
   "id": "ac5fde5e1f86c579"
  },
  {
   "metadata": {
    "ExecuteTime": {
     "end_time": "2024-08-26T07:20:16.399528Z",
     "start_time": "2024-08-26T07:20:16.075739Z"
    }
   },
   "cell_type": "code",
   "source": [
    "# spacy를 활용한 품사 태깅 예시\n",
    "import spacy\n",
    "\n",
    "nlp = spacy.load(\"en_core_web_sm\")\n",
    "sentence = \"thoes who can imagine anything, can create the impossible\"\n",
    "doc = nlp(sentence)\n",
    "\n",
    "for token in doc:\n",
    "    print(f\"[{token.pos_:5} - {token.tag_:3}] : {token.text}\")"
   ],
   "id": "c915a6de9fe7cd7e",
   "outputs": [
    {
     "name": "stdout",
     "output_type": "stream",
     "text": [
      "[NOUN  - NNS] : thoes\n",
      "[PRON  - WP ] : who\n",
      "[AUX   - MD ] : can\n",
      "[VERB  - VB ] : imagine\n",
      "[PRON  - NN ] : anything\n",
      "[PUNCT - ,  ] : ,\n",
      "[AUX   - MD ] : can\n",
      "[VERB  - VB ] : create\n",
      "[DET   - DT ] : the\n",
      "[ADJ   - JJ ] : impossible\n"
     ]
    }
   ],
   "execution_count": 13
  },
  {
   "metadata": {},
   "cell_type": "markdown",
   "source": [
    "## 하위 단어 토큰화\n",
    "현대 자연어 처리에 있어, 길이가 긴 단어를 나눠서 처리하는 것. 속도가 빨라지고 OOV문제나 신조어, 고유어 문제 완화 가능\n",
    "\n",
    "대표적인 모델\n",
    "- 바이트 페어 인코딩\n",
    "- 워드피스\n",
    "- 유니그램\n"
   ],
   "id": "ac2d9469bc074321"
  },
  {
   "metadata": {},
   "cell_type": "code",
   "outputs": [],
   "execution_count": null,
   "source": "",
   "id": "5062a38502f4804e"
  }
 ],
 "metadata": {
  "kernelspec": {
   "display_name": "Python 3",
   "language": "python",
   "name": "python3"
  },
  "language_info": {
   "codemirror_mode": {
    "name": "ipython",
    "version": 2
   },
   "file_extension": ".py",
   "mimetype": "text/x-python",
   "name": "python",
   "nbconvert_exporter": "python",
   "pygments_lexer": "ipython2",
   "version": "2.7.6"
  }
 },
 "nbformat": 4,
 "nbformat_minor": 5
}
