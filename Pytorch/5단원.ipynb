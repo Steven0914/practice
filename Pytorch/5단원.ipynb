{
 "cells": [
  {
   "cell_type": "markdown",
   "source": [
    "# 소프트맥스 회귀\n",
    "3개 이상의 선택지에서 1개를 선택하는 다중 클래스 분류를 풀기 위한 소프트맥스 회귀"
   ],
   "metadata": {
    "collapsed": false
   },
   "id": "6bf47d8140c8416a"
  },
  {
   "cell_type": "markdown",
   "source": [
    "## 5-1 원핫 인코딩\n",
    "정수인코딩보다 원핫인코딩이 클래스의 성질을 잘 표현한 것\n",
    "그 이유 MSE를 적용했을때 오차가 균등함"
   ],
   "metadata": {
    "collapsed": false
   },
   "id": "548c54c145902c58"
  },
  {
   "cell_type": "markdown",
   "source": [
    "## 5-2 소프트맥스 회귀\n",
    "\n",
    "원핫 인코딩을 통해 결과값이랑 비교해서 오차를 구함\n",
    "여기서 오차는 크로스엔트로피 에러를 이용함\n",
    "로지스틱 회귀에서 사용한 함수식과 같은 함수식임"
   ],
   "metadata": {
    "collapsed": false
   },
   "id": "9e7b22d32f08d86e"
  },
  {
   "cell_type": "markdown",
   "source": [
    "## 5-3 소프트맥스 회귀 손실함수 구현하기"
   ],
   "metadata": {
    "collapsed": false
   },
   "id": "ab3b324418029de7"
  },
  {
   "cell_type": "code",
   "outputs": [
    {
     "data": {
      "text/plain": "<torch._C.Generator at 0x10cfe43b0>"
     },
     "execution_count": 2,
     "metadata": {},
     "output_type": "execute_result"
    }
   ],
   "source": [
    "import torch\n",
    "import torch.nn.functional as F\n",
    "torch.manual_seed(1)"
   ],
   "metadata": {
    "collapsed": false,
    "ExecuteTime": {
     "end_time": "2024-02-14T15:10:39.634413Z",
     "start_time": "2024-02-14T15:10:38.125440Z"
    }
   },
   "id": "c892ca45fa306b3d",
   "execution_count": 2
  },
  {
   "cell_type": "code",
   "outputs": [
    {
     "name": "stdout",
     "output_type": "stream",
     "text": [
      "tensor([0.0900, 0.2447, 0.6652])\n"
     ]
    }
   ],
   "source": [
    "# dim = 0 을 통해 0차원에서 소프트맥스을 적용함 \n",
    "z = torch.FloatTensor([1, 2, 3])\n",
    "hypothesis = F.softmax(z,dim=0)\n",
    "print(hypothesis)"
   ],
   "metadata": {
    "collapsed": false,
    "ExecuteTime": {
     "end_time": "2024-02-14T15:14:59.107543Z",
     "start_time": "2024-02-14T15:14:59.101332Z"
    }
   },
   "id": "9ad79a5363474103",
   "execution_count": 5
  },
  {
   "cell_type": "code",
   "outputs": [
    {
     "data": {
      "text/plain": "tensor(1.)"
     },
     "execution_count": 6,
     "metadata": {},
     "output_type": "execute_result"
    }
   ],
   "source": [
    "hypothesis.sum()"
   ],
   "metadata": {
    "collapsed": false,
    "ExecuteTime": {
     "end_time": "2024-02-14T15:15:04.162442Z",
     "start_time": "2024-02-14T15:15:04.155061Z"
    }
   },
   "id": "7ef3d0acb605003c",
   "execution_count": 6
  },
  {
   "cell_type": "code",
   "outputs": [
    {
     "name": "stdout",
     "output_type": "stream",
     "text": [
      "tensor([[0.2645, 0.1639, 0.1855, 0.2585, 0.1277],\n",
      "        [0.2430, 0.1624, 0.2322, 0.1930, 0.1694],\n",
      "        [0.2226, 0.1986, 0.2326, 0.1594, 0.1868]], grad_fn=<SoftmaxBackward0>)\n"
     ]
    }
   ],
   "source": [
    "# 손실함수를 직접 구현해보기\n",
    "\n",
    "# 3X5 텐서 만들기\n",
    "z = torch.rand(3, 5, requires_grad=True)\n",
    "\n",
    "# 두번째 차원에서 소프트맥스를 적용시켜야한다는 의미\n",
    "hypothesis = F.softmax(z, dim=1)\n",
    "print(hypothesis)"
   ],
   "metadata": {
    "collapsed": false,
    "ExecuteTime": {
     "end_time": "2024-02-14T15:19:30.650767Z",
     "start_time": "2024-02-14T15:19:30.642419Z"
    }
   },
   "id": "70891f2437ddd8b8",
   "execution_count": 7
  },
  {
   "cell_type": "code",
   "outputs": [
    {
     "name": "stdout",
     "output_type": "stream",
     "text": [
      "tensor([2, 1, 0])\n"
     ]
    }
   ],
   "source": [
    "# 임의의 레이블을 만듬\n",
    "# 0부터 4사이의 값에서 길이가 3인 텐서를 만듬, 그리고 정수형으로 변경\n",
    "y = torch.randint(5, (3,)).long()\n",
    "print(y)"
   ],
   "metadata": {
    "collapsed": false,
    "ExecuteTime": {
     "end_time": "2024-02-15T13:08:14.795588Z",
     "start_time": "2024-02-15T13:08:14.792258Z"
    }
   },
   "id": "a9cc8e9c98db105e",
   "execution_count": 11
  },
  {
   "cell_type": "code",
   "outputs": [
    {
     "name": "stdout",
     "output_type": "stream",
     "text": [
      "tensor([[0., 0., 1., 0., 0.],\n",
      "        [0., 1., 0., 0., 0.],\n",
      "        [1., 0., 0., 0., 0.]])\n"
     ]
    }
   ],
   "source": [
    "# 모든 원소가 0의 값을 가진 3 × 5 텐서 생성\n",
    "# hypothesis와 같은 크기의 모든 원소가 0이도록 만듬\n",
    "y_one_hot = torch.zeros_like(hypothesis)\n",
    "\n",
    "# scatter은 원핫 인코딩을 수행하기 위해 사용됨\n",
    "# 첫번째 인자 1은 scatter할 차원을 나타냄\n",
    "# y.unsqueeze는 y텐서에 차원을 추가해 3X1로 만들어줌\n",
    "# 세번째 인자 1은 scatter될 값으로 hot 부분, 해당 인덱스 위치를 1로 만드는 것\n",
    "y_one_hot.scatter_(1, y.unsqueeze(1), 1)\n",
    "print(y_one_hot)"
   ],
   "metadata": {
    "collapsed": false,
    "ExecuteTime": {
     "end_time": "2024-02-15T13:08:15.342526Z",
     "start_time": "2024-02-15T13:08:15.334200Z"
    }
   },
   "id": "a7242db806e10a91",
   "execution_count": 12
  },
  {
   "cell_type": "code",
   "outputs": [
    {
     "data": {
      "text/plain": "tensor([[2],\n        [1],\n        [0]])"
     },
     "execution_count": 13,
     "metadata": {},
     "output_type": "execute_result"
    }
   ],
   "source": [
    "# 위에코드 간단한 해석\n",
    "y.unsqueeze(1) # (3,) 크기가 (3X1)이 됨"
   ],
   "metadata": {
    "collapsed": false,
    "ExecuteTime": {
     "end_time": "2024-02-15T13:10:14.767255Z",
     "start_time": "2024-02-15T13:10:14.763355Z"
    }
   },
   "id": "f9b5bd6f75d8cf34",
   "execution_count": 13
  },
  {
   "cell_type": "code",
   "outputs": [
    {
     "name": "stdout",
     "output_type": "stream",
     "text": [
      "tensor(1.6682, grad_fn=<MeanBackward0>)\n"
     ]
    }
   ],
   "source": [
    "# 크로스 엔트로피 에러 구현 \n",
    "cost = (y_one_hot * -torch.log(hypothesis)).sum(dim=1).mean()\n",
    "print(cost)"
   ],
   "metadata": {
    "collapsed": false,
    "ExecuteTime": {
     "end_time": "2024-02-15T13:11:32.042152Z",
     "start_time": "2024-02-15T13:11:32.026446Z"
    }
   },
   "id": "eb401252585060f3",
   "execution_count": 14
  },
  {
   "cell_type": "markdown",
   "source": [
    "### 파이토치 소프트맥스 비용함수 구현(하이레벨)\n",
    "- F.softmax() + torch.log() = F.log_softmax()\n",
    "- F.log_softmax() + F.nll_loss() = F.cross_entropy()"
   ],
   "metadata": {
    "collapsed": false
   },
   "id": "c8666714f5da6317"
  },
  {
   "cell_type": "code",
   "outputs": [
    {
     "data": {
      "text/plain": "tensor([[-1.3301, -1.8084, -1.6846, -1.3530, -2.0584],\n        [-1.4147, -1.8174, -1.4602, -1.6450, -1.7758],\n        [-1.5025, -1.6165, -1.4586, -1.8360, -1.6776]], grad_fn=<LogBackward0>)"
     },
     "execution_count": 15,
     "metadata": {},
     "output_type": "execute_result"
    }
   ],
   "source": [
    "# 기존에 사용한 방법\n",
    "torch.log(F.softmax(z,dim=1))"
   ],
   "metadata": {
    "collapsed": false,
    "ExecuteTime": {
     "end_time": "2024-02-15T13:21:28.885516Z",
     "start_time": "2024-02-15T13:21:28.872441Z"
    }
   },
   "id": "b33286acaaa95c18",
   "execution_count": 15
  },
  {
   "cell_type": "code",
   "outputs": [
    {
     "data": {
      "text/plain": "tensor([[-1.3301, -1.8084, -1.6846, -1.3530, -2.0584],\n        [-1.4147, -1.8174, -1.4602, -1.6450, -1.7758],\n        [-1.5025, -1.6165, -1.4586, -1.8360, -1.6776]],\n       grad_fn=<LogSoftmaxBackward0>)"
     },
     "execution_count": 16,
     "metadata": {},
     "output_type": "execute_result"
    }
   ],
   "source": [
    "# 파이토치에서는 두개를 결합한 F.log_softmax()를 제공함 \n",
    "F.log_softmax(z,dim=1)"
   ],
   "metadata": {
    "collapsed": false,
    "ExecuteTime": {
     "end_time": "2024-02-15T13:29:23.353043Z",
     "start_time": "2024-02-15T13:29:23.341560Z"
    }
   },
   "id": "a77fdf76942ad5e",
   "execution_count": 16
  },
  {
   "cell_type": "code",
   "outputs": [
    {
     "data": {
      "text/plain": "tensor(1.6682, grad_fn=<MeanBackward0>)"
     },
     "execution_count": 18,
     "metadata": {},
     "output_type": "execute_result"
    }
   ],
   "source": [
    "# 위에서 구현한 비용함수\n",
    "(y_one_hot * -torch.log(F.softmax(z, dim=1))).sum(dim=1).mean()"
   ],
   "metadata": {
    "collapsed": false,
    "ExecuteTime": {
     "end_time": "2024-02-15T13:56:19.834152Z",
     "start_time": "2024-02-15T13:56:19.824829Z"
    }
   },
   "id": "3f0c4f667a4fc9ca",
   "execution_count": 18
  },
  {
   "cell_type": "code",
   "outputs": [
    {
     "data": {
      "text/plain": "tensor(1.6682, grad_fn=<MeanBackward0>)"
     },
     "execution_count": 20,
     "metadata": {},
     "output_type": "execute_result"
    }
   ],
   "source": [
    "# 여기서 위에서 배운 log softmax를 적용하면\n",
    "(y_one_hot * -torch.log_softmax(z, dim=1)).sum(dim=1).mean()"
   ],
   "metadata": {
    "collapsed": false,
    "ExecuteTime": {
     "end_time": "2024-02-15T14:10:36.056531Z",
     "start_time": "2024-02-15T14:10:36.050759Z"
    }
   },
   "id": "de447d4ce9e5f5c0",
   "execution_count": 20
  },
  {
   "cell_type": "code",
   "outputs": [
    {
     "data": {
      "text/plain": "tensor(1.6682, grad_fn=<NllLossBackward0>)"
     },
     "execution_count": 21,
     "metadata": {},
     "output_type": "execute_result"
    }
   ],
   "source": [
    "# 여기서 nll_loss를 사용하면 원핫벡터를 넣을 필요없이 실제 값을 인자로 사용 됨\n",
    "F.nll_loss(F.log_softmax(z, dim=1), y)\n",
    "\n",
    "# 여기서 nll 이란 Negative Log Likelihood의 약자로 \n",
    "# nll losssms log softmax를 수행한 후 남은 수식을 의미"
   ],
   "metadata": {
    "collapsed": false,
    "ExecuteTime": {
     "end_time": "2024-02-15T14:12:22.040413Z",
     "start_time": "2024-02-15T14:12:22.017771Z"
    }
   },
   "id": "13b036fac555142a",
   "execution_count": 21
  },
  {
   "cell_type": "code",
   "outputs": [
    {
     "data": {
      "text/plain": "tensor(1.6682, grad_fn=<NllLossBackward0>)"
     },
     "execution_count": 22,
     "metadata": {},
     "output_type": "execute_result"
    }
   ],
   "source": [
    "# 두개를 합쳐놓은거\n",
    "F.cross_entropy(z,y)"
   ],
   "metadata": {
    "collapsed": false,
    "ExecuteTime": {
     "end_time": "2024-02-15T14:30:41.340493Z",
     "start_time": "2024-02-15T14:30:41.309570Z"
    }
   },
   "id": "c0053e98efe493c9",
   "execution_count": 22
  },
  {
   "cell_type": "markdown",
   "source": [
    "## 5-4 소프트맥스 회귀 구현하기"
   ],
   "metadata": {
    "collapsed": false
   },
   "id": "9ba1fb698cf3e0d3"
  },
  {
   "cell_type": "code",
   "outputs": [],
   "source": [
    "import torch.optim as optim\n",
    "import torch\n",
    "import torch.nn as nn\n",
    "import torch.nn.functional as F"
   ],
   "metadata": {
    "collapsed": false,
    "ExecuteTime": {
     "end_time": "2024-02-15T14:44:53.684439Z",
     "start_time": "2024-02-15T14:44:53.679913Z"
    }
   },
   "id": "7f53416a01ff23d",
   "execution_count": 28
  },
  {
   "cell_type": "code",
   "outputs": [],
   "source": [
    "# 훈련데이터\n",
    "x_train = [[1, 2, 1, 1],\n",
    "           [2, 1, 3, 2],\n",
    "           [3, 1, 3, 4],\n",
    "           [4, 1, 5, 5],\n",
    "           [1, 7, 5, 5],\n",
    "           [1, 2, 5, 6],\n",
    "           [1, 6, 6, 6],\n",
    "           [1, 7, 7, 7]]\n",
    "y_train = [2, 2, 2, 1, 1, 1, 0, 0]\n",
    "x_train = torch.FloatTensor(x_train)\n",
    "y_train = torch.LongTensor(y_train)"
   ],
   "metadata": {
    "collapsed": false,
    "ExecuteTime": {
     "end_time": "2024-02-15T14:44:54.640317Z",
     "start_time": "2024-02-15T14:44:54.638167Z"
    }
   },
   "id": "e22973d436f95376",
   "execution_count": 29
  },
  {
   "cell_type": "code",
   "outputs": [
    {
     "name": "stdout",
     "output_type": "stream",
     "text": [
      "torch.Size([8, 3])\n"
     ]
    }
   ],
   "source": [
    "# 원핫 인코딩\n",
    "y_one_hot = torch.zeros(8, 3)\n",
    "y_one_hot.scatter_(1, y_train.unsqueeze(1), 1)\n",
    "print(y_one_hot.shape) # 3개의 클래스가 있고 8개의 데이터가 있음"
   ],
   "metadata": {
    "collapsed": false,
    "ExecuteTime": {
     "end_time": "2024-02-15T14:44:54.849531Z",
     "start_time": "2024-02-15T14:44:54.843494Z"
    }
   },
   "id": "e7e2c35a48a55b7e",
   "execution_count": 30
  },
  {
   "cell_type": "code",
   "outputs": [],
   "source": [
    "# 모델 초기화\n",
    "\n",
    "W = torch.zeros((4, 3), requires_grad=True)\n",
    "b = torch.zeros((1, 3), requires_grad=True)\n",
    "# optimizer 설정\n",
    "optimizer = optim.SGD([W, b], lr=0.1)"
   ],
   "metadata": {
    "collapsed": false,
    "ExecuteTime": {
     "end_time": "2024-02-15T14:44:55.024859Z",
     "start_time": "2024-02-15T14:44:55.017423Z"
    }
   },
   "id": "3d35f9838b0297a6",
   "execution_count": 31
  },
  {
   "cell_type": "code",
   "outputs": [
    {
     "name": "stdout",
     "output_type": "stream",
     "text": [
      "Epoch    0/1000 Cost: 1.098612\n",
      "Epoch  100/1000 Cost: 0.704200\n",
      "Epoch  200/1000 Cost: 0.623000\n",
      "Epoch  300/1000 Cost: 0.565717\n",
      "Epoch  400/1000 Cost: 0.515291\n",
      "Epoch  500/1000 Cost: 0.467662\n",
      "Epoch  600/1000 Cost: 0.421278\n",
      "Epoch  700/1000 Cost: 0.375402\n",
      "Epoch  800/1000 Cost: 0.329766\n",
      "Epoch  900/1000 Cost: 0.285072\n",
      "Epoch 1000/1000 Cost: 0.248155\n"
     ]
    }
   ],
   "source": [
    "nb_epochs = 1000\n",
    "for epoch in range(nb_epochs + 1):\n",
    "\n",
    "    # 가설\n",
    "    hypothesis = F.softmax(x_train.matmul(W) + b, dim=1)\n",
    "\n",
    "    # 비용 함수\n",
    "    cost = (y_one_hot * -torch.log(hypothesis)).sum(dim=1).mean()\n",
    "\n",
    "    # cost로 H(x) 개선\n",
    "    optimizer.zero_grad()\n",
    "    cost.backward()\n",
    "    optimizer.step()\n",
    "\n",
    "    # 100번마다 로그 출력\n",
    "    if epoch % 100 == 0:\n",
    "        print('Epoch {:4d}/{} Cost: {:.6f}'.format(\n",
    "            epoch, nb_epochs, cost.item()\n",
    "        ))\n"
   ],
   "metadata": {
    "collapsed": false,
    "ExecuteTime": {
     "end_time": "2024-02-15T14:44:55.330183Z",
     "start_time": "2024-02-15T14:44:55.204736Z"
    }
   },
   "id": "cc188d39315c299a",
   "execution_count": 32
  },
  {
   "cell_type": "markdown",
   "source": [
    "### 하이레벨로 구현"
   ],
   "metadata": {
    "collapsed": false
   },
   "id": "bc16bf5ef421716"
  },
  {
   "cell_type": "code",
   "outputs": [
    {
     "name": "stdout",
     "output_type": "stream",
     "text": [
      "Epoch    0/1000 Cost: 1.098612\n",
      "Epoch  100/1000 Cost: 0.704200\n",
      "Epoch  200/1000 Cost: 0.623000\n",
      "Epoch  300/1000 Cost: 0.565717\n",
      "Epoch  400/1000 Cost: 0.515291\n",
      "Epoch  500/1000 Cost: 0.467662\n",
      "Epoch  600/1000 Cost: 0.421278\n",
      "Epoch  700/1000 Cost: 0.375402\n",
      "Epoch  800/1000 Cost: 0.329766\n",
      "Epoch  900/1000 Cost: 0.285073\n",
      "Epoch 1000/1000 Cost: 0.248155\n"
     ]
    }
   ],
   "source": [
    "# 모델 초기화\n",
    "W = torch.zeros((4, 3), requires_grad=True)\n",
    "b = torch.zeros((1, 3), requires_grad=True)\n",
    "# optimizer 설정\n",
    "optimizer = optim.SGD([W, b], lr=0.1)\n",
    "\n",
    "nb_epochs = 1000\n",
    "for epoch in range(nb_epochs + 1):\n",
    "\n",
    "    # Cost 계산\n",
    "    z = x_train.matmul(W) + b\n",
    "    cost = F.cross_entropy(z, y_train) # 이 부분만 달라진거\n",
    "\n",
    "    # cost로 H(x) 개선\n",
    "    optimizer.zero_grad()\n",
    "    cost.backward()\n",
    "    optimizer.step()\n",
    "\n",
    "    # 100번마다 로그 출력\n",
    "    if epoch % 100 == 0:\n",
    "        print('Epoch {:4d}/{} Cost: {:.6f}'.format(\n",
    "            epoch, nb_epochs, cost.item()\n",
    "        ))\n"
   ],
   "metadata": {
    "collapsed": false,
    "ExecuteTime": {
     "end_time": "2024-02-15T14:44:55.780900Z",
     "start_time": "2024-02-15T14:44:55.558003Z"
    }
   },
   "id": "77a054e35f9790d6",
   "execution_count": 33
  },
  {
   "cell_type": "markdown",
   "source": [
    "### nn.Module로 구현"
   ],
   "metadata": {
    "collapsed": false
   },
   "id": "7b61261bfa44d4ea"
  },
  {
   "cell_type": "code",
   "outputs": [],
   "source": [
    "# 모델을 선언 및 초기화. 4개의 특성을 가지고 3개의 클래스로 분류. input_dim=4, output_dim=3.\n",
    "model = nn.Linear(4, 3)"
   ],
   "metadata": {
    "collapsed": false,
    "ExecuteTime": {
     "end_time": "2024-02-15T14:44:57.060858Z",
     "start_time": "2024-02-15T14:44:57.057126Z"
    }
   },
   "id": "6c7b436034065e0b",
   "execution_count": 34
  },
  {
   "cell_type": "code",
   "outputs": [],
   "source": [
    "# optimizer 설정\n",
    "optimizer = optim.SGD(model.parameters(), lr=0.1) # 이부분이 다른것\n",
    "\n",
    "nb_epochs = 1000\n",
    "for epoch in range(nb_epochs + 1):\n",
    "\n",
    "    # H(x) 계산\n",
    "    prediction = model(x_train)\n",
    "\n",
    "    # cost 계산\n",
    "    cost = F.cross_entropy(prediction, y_train)\n",
    "    # 이걸 사용하므로 따로 소프트맥스 함수를 가설에 설정하지 않음\n",
    "\n",
    "    # cost로 H(x) 개선\n",
    "    optimizer.zero_grad()\n",
    "    cost.backward()\n",
    "    optimizer.step()\n",
    "\n",
    "    # 20번마다 로그 출력\n",
    "    if epoch % 100 == 0:\n",
    "        print('Epoch {:4d}/{} Cost: {:.6f}'.format(\n",
    "            epoch, nb_epochs, cost.item()\n",
    "        ))\n"
   ],
   "metadata": {
    "collapsed": false
   },
   "id": "6b1321b9c5605e7c"
  },
  {
   "cell_type": "markdown",
   "source": [
    "### 클래스로 구현하기"
   ],
   "metadata": {
    "collapsed": false
   },
   "id": "fc0471a16e98f9fa"
  },
  {
   "cell_type": "code",
   "outputs": [],
   "source": [
    "class SoftmaxClassifierModel(nn.Module):\n",
    "    def __init__(self):\n",
    "        super().__init__()\n",
    "        self.linear = nn.Linear(4, 3) # Output이 3!\n",
    "\n",
    "    def forward(self, x):\n",
    "        return self.linear(x)"
   ],
   "metadata": {
    "collapsed": false,
    "ExecuteTime": {
     "end_time": "2024-02-15T14:46:55.005746Z",
     "start_time": "2024-02-15T14:46:55.001958Z"
    }
   },
   "id": "9f1d570b419964f1",
   "execution_count": 35
  },
  {
   "cell_type": "code",
   "outputs": [],
   "source": [
    "model = SoftmaxClassifierModel()"
   ],
   "metadata": {
    "collapsed": false,
    "ExecuteTime": {
     "end_time": "2024-02-15T14:47:03.696113Z",
     "start_time": "2024-02-15T14:47:03.688660Z"
    }
   },
   "id": "d507eff761425896",
   "execution_count": 36
  },
  {
   "cell_type": "code",
   "outputs": [
    {
     "name": "stdout",
     "output_type": "stream",
     "text": [
      "Epoch    0/1000 Cost: 1.777960\n",
      "Epoch  100/1000 Cost: 0.654127\n",
      "Epoch  200/1000 Cost: 0.561501\n",
      "Epoch  300/1000 Cost: 0.505037\n",
      "Epoch  400/1000 Cost: 0.460010\n",
      "Epoch  500/1000 Cost: 0.420253\n",
      "Epoch  600/1000 Cost: 0.383131\n",
      "Epoch  700/1000 Cost: 0.347032\n",
      "Epoch  800/1000 Cost: 0.310780\n",
      "Epoch  900/1000 Cost: 0.274060\n",
      "Epoch 1000/1000 Cost: 0.244281\n"
     ]
    }
   ],
   "source": [
    "# optimizer 설정\n",
    "optimizer = optim.SGD(model.parameters(), lr=0.1)\n",
    "\n",
    "nb_epochs = 1000\n",
    "for epoch in range(nb_epochs + 1):\n",
    "\n",
    "    # H(x) 계산\n",
    "    prediction = model(x_train)\n",
    "\n",
    "    # cost 계산\n",
    "    cost = F.cross_entropy(prediction, y_train)\n",
    "\n",
    "    # cost로 H(x) 개선\n",
    "    optimizer.zero_grad()\n",
    "    cost.backward()\n",
    "    optimizer.step()\n",
    "\n",
    "    # 20번마다 로그 출력\n",
    "    if epoch % 100 == 0:\n",
    "        print('Epoch {:4d}/{} Cost: {:.6f}'.format(\n",
    "            epoch, nb_epochs, cost.item()\n",
    "        ))\n"
   ],
   "metadata": {
    "collapsed": false,
    "ExecuteTime": {
     "end_time": "2024-02-15T14:47:18.443952Z",
     "start_time": "2024-02-15T14:47:18.271828Z"
    }
   },
   "id": "5484143e18c28f43",
   "execution_count": 37
  },
  {
   "cell_type": "code",
   "outputs": [
    {
     "data": {
      "text/plain": "tensor([[-4.2938, -0.2427,  4.6913],\n        [-2.3290,  0.9101,  2.8455],\n        [-6.6588,  3.7306,  4.8623],\n        [-5.0665,  4.6850,  3.5495],\n        [ 1.1661,  1.5396, -1.7634],\n        [ 2.2749,  3.6155, -4.8383],\n        [ 3.3692,  2.4313, -4.5762],\n        [ 4.8273,  2.9265, -6.3231]], grad_fn=<AddmmBackward0>)"
     },
     "execution_count": 39,
     "metadata": {},
     "output_type": "execute_result"
    }
   ],
   "source": [
    "prediction = model(x_train)\n",
    "prediction"
   ],
   "metadata": {
    "collapsed": false,
    "ExecuteTime": {
     "end_time": "2024-02-16T12:18:04.968523Z",
     "start_time": "2024-02-16T12:18:04.959044Z"
    }
   },
   "id": "bfd9667067ed48a4",
   "execution_count": 39
  },
  {
   "cell_type": "markdown",
   "source": [
    "## 5-5 소프트맥스 회귀로 MNIST 데이터 분류하기"
   ],
   "metadata": {
    "collapsed": false
   },
   "id": "dec8ca0b0b51fd11"
  },
  {
   "cell_type": "code",
   "outputs": [],
   "source": [],
   "metadata": {
    "collapsed": false
   },
   "id": "6d4458a700f2cb88"
  }
 ],
 "metadata": {
  "kernelspec": {
   "display_name": "Python 3",
   "language": "python",
   "name": "python3"
  },
  "language_info": {
   "codemirror_mode": {
    "name": "ipython",
    "version": 2
   },
   "file_extension": ".py",
   "mimetype": "text/x-python",
   "name": "python",
   "nbconvert_exporter": "python",
   "pygments_lexer": "ipython2",
   "version": "2.7.6"
  }
 },
 "nbformat": 4,
 "nbformat_minor": 5
}
