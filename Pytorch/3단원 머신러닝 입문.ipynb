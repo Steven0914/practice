{
 "cells": [
  {
   "cell_type": "markdown",
   "source": [
    "# 3-1 선형 회귀"
   ],
   "metadata": {
    "collapsed": false
   },
   "id": "45dc5cf2592c3adc"
  },
  {
   "cell_type": "code",
   "execution_count": 1,
   "id": "initial_id",
   "metadata": {
    "collapsed": true,
    "ExecuteTime": {
     "end_time": "2024-02-14T14:03:05.586383Z",
     "start_time": "2024-02-14T14:03:03.724404Z"
    }
   },
   "outputs": [],
   "source": [
    "# 파이토치 기본 셋팅\n",
    "import torch\n",
    "import torch.nn as nn\n",
    "# torch.nn : 신경망을 구축하는 데 필요한 모든 구성 요소를 제공. 이 모듈에는 레이어, 활성화 함수, 손실 함수를 포함\n",
    "\n",
    "import torch.nn.functional as F\n",
    "# torch.nn.functional : torch.nn과 마찬가지로 신경망을 구축할 때 사용되는 함수들을 포함하지만, 이 모듈에 있는 함수들은 상태가 없는(stateless) 함수입니다. 즉, 함수들이 내부적으로 학습 파라미터를 가지지 않고, 입력 데이터와 함수에 지정된 파라미터에만 의존하여 결과를 반환\n",
    "\n",
    "import torch.optim as optim\n",
    "\n",
    "# torch.optim : 최적화 알고리즘들을 제공합니다. 가중치(weights)와 편향(biases)을 업데이트하는 데 사용되는 다양한 최적화 알고리즘들, 예를 들어 SGD(확률적 경사 하강법), Adam, RMSprop 등이 이 모듈에 포함"
   ]
  },
  {
   "cell_type": "code",
   "outputs": [
    {
     "data": {
      "text/plain": "<torch._C.Generator at 0x1085e7810>"
     },
     "execution_count": 2,
     "metadata": {},
     "output_type": "execute_result"
    }
   ],
   "source": [
    "# 다음에도 같은 결과가 나오도록 시드를 준다\n",
    "torch.manual_seed(1)"
   ],
   "metadata": {
    "collapsed": false,
    "ExecuteTime": {
     "end_time": "2024-02-14T14:03:05.596168Z",
     "start_time": "2024-02-14T14:03:05.586559Z"
    }
   },
   "id": "94331bdd36750644",
   "execution_count": 2
  },
  {
   "cell_type": "code",
   "outputs": [],
   "source": [
    "# 변수 선언 \n",
    "x_train = torch.FloatTensor([[1],[2],[3]])\n",
    "y_train = torch.FloatTensor([[2],[4],[6]])"
   ],
   "metadata": {
    "collapsed": false,
    "ExecuteTime": {
     "end_time": "2024-02-14T14:03:05.597125Z",
     "start_time": "2024-02-14T14:03:05.593863Z"
    }
   },
   "id": "a2059c8deca513cf",
   "execution_count": 3
  },
  {
   "cell_type": "code",
   "outputs": [
    {
     "name": "stdout",
     "output_type": "stream",
     "text": [
      "tensor([[1.],\n",
      "        [2.],\n",
      "        [3.]])\n",
      "torch.Size([3, 1])\n"
     ]
    }
   ],
   "source": [
    "print(x_train)\n",
    "print(x_train.shape)"
   ],
   "metadata": {
    "collapsed": false,
    "ExecuteTime": {
     "end_time": "2024-02-14T14:03:05.610424Z",
     "start_time": "2024-02-14T14:03:05.596853Z"
    }
   },
   "id": "75c28b2dcabadbaa",
   "execution_count": 4
  },
  {
   "cell_type": "code",
   "outputs": [
    {
     "name": "stdout",
     "output_type": "stream",
     "text": [
      "tensor([[2.],\n",
      "        [4.],\n",
      "        [6.]])\n",
      "torch.Size([3, 1])\n"
     ]
    }
   ],
   "source": [
    "print(y_train)\n",
    "print(y_train.shape)"
   ],
   "metadata": {
    "collapsed": false,
    "ExecuteTime": {
     "end_time": "2024-02-14T14:03:05.613856Z",
     "start_time": "2024-02-14T14:03:05.604890Z"
    }
   },
   "id": "235ac3dfe56aea72",
   "execution_count": 5
  },
  {
   "cell_type": "code",
   "outputs": [
    {
     "name": "stdout",
     "output_type": "stream",
     "text": [
      "tensor([0.], requires_grad=True)\n"
     ]
    }
   ],
   "source": [
    "# 가중치 W와 편향 b를 설정할 거임\n",
    "# requires_grad => 학습을 통해 값이 변경되는 변수임을 명시\n",
    "W  = torch.zeros(1,requires_grad=True)\n",
    "print(W)"
   ],
   "metadata": {
    "collapsed": false,
    "ExecuteTime": {
     "end_time": "2024-02-14T14:03:05.657528Z",
     "start_time": "2024-02-14T14:03:05.607442Z"
    }
   },
   "id": "8f72cab7e485943c",
   "execution_count": 6
  },
  {
   "cell_type": "code",
   "outputs": [
    {
     "name": "stdout",
     "output_type": "stream",
     "text": [
      "tensor([0.], requires_grad=True)\n"
     ]
    }
   ],
   "source": [
    "b = torch.zeros(1, requires_grad=True)\n",
    "print(b)"
   ],
   "metadata": {
    "collapsed": false,
    "ExecuteTime": {
     "end_time": "2024-02-14T14:03:05.659023Z",
     "start_time": "2024-02-14T14:03:05.612830Z"
    }
   },
   "id": "dfdab24a7adcdd61",
   "execution_count": 7
  },
  {
   "cell_type": "code",
   "outputs": [
    {
     "name": "stdout",
     "output_type": "stream",
     "text": [
      "tensor([[0.],\n",
      "        [0.],\n",
      "        [0.]], grad_fn=<AddBackward0>)\n"
     ]
    }
   ],
   "source": [
    "# 가설 세우기\n",
    "hypothesis = x_train * W + b\n",
    "print(hypothesis)"
   ],
   "metadata": {
    "collapsed": false,
    "ExecuteTime": {
     "end_time": "2024-02-14T14:03:05.666564Z",
     "start_time": "2024-02-14T14:03:05.616307Z"
    }
   },
   "id": "bd97480b8e5bd996",
   "execution_count": 8
  },
  {
   "cell_type": "code",
   "outputs": [
    {
     "name": "stdout",
     "output_type": "stream",
     "text": [
      "tensor(18.6667, grad_fn=<MeanBackward0>)\n"
     ]
    }
   ],
   "source": [
    "# 손실 함수 정의\n",
    "loss = torch.mean((hypothesis - y_train) ** 2)\n",
    "print(loss)"
   ],
   "metadata": {
    "collapsed": false,
    "ExecuteTime": {
     "end_time": "2024-02-14T14:03:05.667681Z",
     "start_time": "2024-02-14T14:03:05.623216Z"
    }
   },
   "id": "718584aab7bc9f82",
   "execution_count": 9
  },
  {
   "cell_type": "code",
   "outputs": [],
   "source": [
    "# 경사 하강법 구현\n",
    "# 확률적 경사하강법으로 학습률은 0.01로 학습을 할거임\n",
    "# [W,b] : 최적화 할 파라미터\n",
    "optimizer = optim.SGD([W,b],lr=0.01)\n"
   ],
   "metadata": {
    "collapsed": false,
    "ExecuteTime": {
     "end_time": "2024-02-14T14:03:06.049984Z",
     "start_time": "2024-02-14T14:03:05.627043Z"
    }
   },
   "id": "efb4f83dfe080281",
   "execution_count": 10
  },
  {
   "cell_type": "code",
   "outputs": [],
   "source": [
    "# gradient를 0으로 초기화\n",
    "# 옵티마이저가 관리하는 모델 파라미터에 대한 gradient를 0으로 초기화\n",
    "# 파이토치에서는 그래디언트가 누적되는 방식으로 계산되기때문에 초기화 해줘야함\n",
    "optimizer.zero_grad()\n",
    "\n",
    "# 손실함수를 미분해 gradient를 계산\n",
    "# 각 가중치에 대해 손실함수를 얼마나 변경해야하는지 gradient를 구함\n",
    "loss.backward()\n",
    "\n",
    "# W와 b를 실제로 업데이트하는 단계\n",
    "optimizer.step()\n",
    "\n",
    "# requires_grad=True와 backward()에 대한 정리는 \n",
    "# 자동 미분(Autograd) 챕터에 별도 정리 (5-2)"
   ],
   "metadata": {
    "collapsed": false,
    "ExecuteTime": {
     "end_time": "2024-02-14T14:03:06.075501Z",
     "start_time": "2024-02-14T14:03:06.052216Z"
    }
   },
   "id": "55189959ec942dea",
   "execution_count": 11
  },
  {
   "cell_type": "code",
   "outputs": [
    {
     "name": "stdout",
     "output_type": "stream",
     "text": [
      "Epoch    0/1999 W: 0.353, b: 0.151 Cost: 14.770963\n",
      "Epoch  100/1999 W: 1.746, b: 0.577 Cost: 0.047939\n",
      "Epoch  200/1999 W: 1.801, b: 0.453 Cost: 0.029624\n",
      "Epoch  300/1999 W: 1.843, b: 0.356 Cost: 0.018306\n",
      "Epoch  400/1999 W: 1.877, b: 0.280 Cost: 0.011312\n",
      "Epoch  500/1999 W: 1.903, b: 0.220 Cost: 0.006990\n",
      "Epoch  600/1999 W: 1.924, b: 0.173 Cost: 0.004319\n",
      "Epoch  700/1999 W: 1.940, b: 0.136 Cost: 0.002669\n",
      "Epoch  800/1999 W: 1.953, b: 0.107 Cost: 0.001649\n",
      "Epoch  900/1999 W: 1.963, b: 0.084 Cost: 0.001019\n",
      "Epoch 1000/1999 W: 1.971, b: 0.066 Cost: 0.000630\n",
      "Epoch 1100/1999 W: 1.977, b: 0.052 Cost: 0.000389\n",
      "Epoch 1200/1999 W: 1.982, b: 0.041 Cost: 0.000240\n",
      "Epoch 1300/1999 W: 1.986, b: 0.032 Cost: 0.000149\n",
      "Epoch 1400/1999 W: 1.989, b: 0.025 Cost: 0.000092\n",
      "Epoch 1500/1999 W: 1.991, b: 0.020 Cost: 0.000057\n",
      "Epoch 1600/1999 W: 1.993, b: 0.016 Cost: 0.000035\n",
      "Epoch 1700/1999 W: 1.995, b: 0.012 Cost: 0.000022\n",
      "Epoch 1800/1999 W: 1.996, b: 0.010 Cost: 0.000013\n",
      "Epoch 1900/1999 W: 1.997, b: 0.008 Cost: 0.000008\n"
     ]
    }
   ],
   "source": [
    "# 전체 코드\n",
    "\n",
    "nb_epochs = 1999 # 원하는만큼 경사 하강법을 반복\n",
    "for epoch in range(nb_epochs + 1):\n",
    "\n",
    "    # H(x) 계산\n",
    "    hypothesis = x_train * W + b\n",
    "\n",
    "    # cost 계산\n",
    "    cost = torch.mean((hypothesis - y_train) ** 2)\n",
    "\n",
    "    # cost로 H(x) 개선\n",
    "    optimizer.zero_grad()\n",
    "    cost.backward()\n",
    "    optimizer.step()\n",
    "\n",
    "    # 100번마다 로그 출력\n",
    "    if epoch % 100 == 0:\n",
    "        print('Epoch {:4d}/{} W: {:.3f}, b: {:.3f} Cost: {:.6f}'.format(\n",
    "            epoch, nb_epochs, W.item(), b.item(), cost.item()\n",
    "        ))"
   ],
   "metadata": {
    "collapsed": false,
    "ExecuteTime": {
     "end_time": "2024-02-14T14:03:06.295294Z",
     "start_time": "2024-02-14T14:03:06.076598Z"
    }
   },
   "id": "9235ba09c14c09a9",
   "execution_count": 12
  },
  {
   "cell_type": "code",
   "outputs": [
    {
     "name": "stdout",
     "output_type": "stream",
     "text": [
      "수식을 w로 미분한 값 : 2.0\n",
      "수식을 w로 미분한 값 : 4.0\n",
      "수식을 w로 미분한 값 : 6.0\n",
      "수식을 w로 미분한 값 : 8.0\n",
      "수식을 w로 미분한 값 : 10.0\n",
      "수식을 w로 미분한 값 : 12.0\n",
      "수식을 w로 미분한 값 : 14.0\n",
      "수식을 w로 미분한 값 : 16.0\n",
      "수식을 w로 미분한 값 : 18.0\n",
      "수식을 w로 미분한 값 : 20.0\n",
      "수식을 w로 미분한 값 : 22.0\n",
      "수식을 w로 미분한 값 : 24.0\n",
      "수식을 w로 미분한 값 : 26.0\n",
      "수식을 w로 미분한 값 : 28.0\n",
      "수식을 w로 미분한 값 : 30.0\n",
      "수식을 w로 미분한 값 : 32.0\n",
      "수식을 w로 미분한 값 : 34.0\n",
      "수식을 w로 미분한 값 : 36.0\n",
      "수식을 w로 미분한 값 : 38.0\n",
      "수식을 w로 미분한 값 : 40.0\n",
      "수식을 w로 미분한 값 : 42.0\n"
     ]
    }
   ],
   "source": [
    "# optimizer.zero_grad()가 필요한 이유\n",
    "w = torch.tensor(2.0, requires_grad=True)\n",
    "\n",
    "nb_epochs = 20\n",
    "for epoch in range(nb_epochs + 1):\n",
    "\n",
    "    z = 2*w\n",
    "\n",
    "    z.backward()\n",
    "    print('수식을 w로 미분한 값 : {}'.format(w.grad))\n",
    "    \n",
    "# 아래와 같이 이전에 계산된 기울기값에 gradient를 누적시키기 때문"
   ],
   "metadata": {
    "collapsed": false,
    "ExecuteTime": {
     "end_time": "2024-02-14T14:03:06.332577Z",
     "start_time": "2024-02-14T14:03:06.297020Z"
    }
   },
   "id": "fc29987ac6c582b0",
   "execution_count": 13
  },
  {
   "cell_type": "markdown",
   "source": [
    "## 5-2 자동 미분 실습"
   ],
   "metadata": {
    "collapsed": false
   },
   "id": "c1ff831ef5bdf04c"
  },
  {
   "cell_type": "code",
   "outputs": [],
   "source": [
    "w = torch.tensor(2.0, requires_grad=True)\n",
    "# 여기서 requires_grad를 True로 두변 w.grad에 대한 미분값이 저장됨\n",
    "\n",
    "# 함수를 아래와 같이 정의\n",
    "y = w**2\n",
    "z = 2*y + 5\n",
    "# 즉 우리가 미분할 함수는 2 x W^2 +5를 w에 대해 미분할 거임"
   ],
   "metadata": {
    "collapsed": false,
    "ExecuteTime": {
     "end_time": "2024-02-14T14:03:06.334614Z",
     "start_time": "2024-02-14T14:03:06.311964Z"
    }
   },
   "id": "dc724e0639937d6e",
   "execution_count": 14
  },
  {
   "cell_type": "code",
   "outputs": [],
   "source": [
    "z.backward()\n",
    "# 이를 호출하면 해당 수식에서 w에 대한 기울기를 계산함"
   ],
   "metadata": {
    "collapsed": false,
    "ExecuteTime": {
     "end_time": "2024-02-14T14:03:06.336104Z",
     "start_time": "2024-02-14T14:03:06.316039Z"
    }
   },
   "id": "34a2b463e8746657",
   "execution_count": 15
  },
  {
   "cell_type": "code",
   "outputs": [
    {
     "name": "stdout",
     "output_type": "stream",
     "text": [
      "수식을 w로 미분한 값 : 8.0\n"
     ]
    }
   ],
   "source": [
    "print('수식을 w로 미분한 값 : {}'.format(w.grad))"
   ],
   "metadata": {
    "collapsed": false,
    "ExecuteTime": {
     "end_time": "2024-02-14T14:03:06.337120Z",
     "start_time": "2024-02-14T14:03:06.324135Z"
    }
   },
   "id": "293f764a8c7763d0",
   "execution_count": 16
  },
  {
   "cell_type": "markdown",
   "source": [
    "## 3-3 다중 선형 회귀\n",
    "x가 하나가 아닌, 여러개의 x로 부터 y를 예측하는걸 다중 선형회귀라함\n"
   ],
   "metadata": {
    "collapsed": false
   },
   "id": "cab2ca5c8e680b8f"
  },
  {
   "cell_type": "code",
   "outputs": [
    {
     "name": "stdout",
     "output_type": "stream",
     "text": [
      "Epoch    0/1000 w1: 0.294 w2: 0.294 w3: 0.297 b: 0.003 Cost: 29661.800781\n",
      "Epoch  100/1000 w1: 0.674 w2: 0.661 w3: 0.676 b: 0.008 Cost: 1.563634\n",
      "Epoch  200/1000 w1: 0.679 w2: 0.655 w3: 0.677 b: 0.008 Cost: 1.497607\n",
      "Epoch  300/1000 w1: 0.684 w2: 0.649 w3: 0.677 b: 0.008 Cost: 1.435026\n",
      "Epoch  400/1000 w1: 0.689 w2: 0.643 w3: 0.678 b: 0.008 Cost: 1.375730\n",
      "Epoch  500/1000 w1: 0.694 w2: 0.638 w3: 0.678 b: 0.009 Cost: 1.319511\n",
      "Epoch  600/1000 w1: 0.699 w2: 0.633 w3: 0.679 b: 0.009 Cost: 1.266222\n",
      "Epoch  700/1000 w1: 0.704 w2: 0.627 w3: 0.679 b: 0.009 Cost: 1.215696\n",
      "Epoch  800/1000 w1: 0.709 w2: 0.622 w3: 0.679 b: 0.009 Cost: 1.167818\n",
      "Epoch  900/1000 w1: 0.713 w2: 0.617 w3: 0.680 b: 0.009 Cost: 1.122429\n",
      "Epoch 1000/1000 w1: 0.718 w2: 0.613 w3: 0.680 b: 0.009 Cost: 1.079378\n"
     ]
    }
   ],
   "source": [
    "# 훈련 데이터\n",
    "x1_train = torch.FloatTensor([[73], [93], [89], [96], [73]])\n",
    "x2_train = torch.FloatTensor([[80], [88], [91], [98], [66]])\n",
    "x3_train = torch.FloatTensor([[75], [93], [90], [100], [70]])\n",
    "y_train = torch.FloatTensor([[152], [185], [180], [196], [142]])\n",
    "\n",
    "# 가중치 w와 편향 b 초기화\n",
    "w1 = torch.zeros(1, requires_grad=True)\n",
    "w2 = torch.zeros(1, requires_grad=True)\n",
    "w3 = torch.zeros(1, requires_grad=True)\n",
    "b = torch.zeros(1, requires_grad=True)\n",
    "\n",
    "# optimizer 설정\n",
    "optimizer = optim.SGD([w1, w2, w3, b], lr=1e-5)\n",
    "\n",
    "nb_epochs = 1000\n",
    "for epoch in range(nb_epochs + 1):\n",
    "\n",
    "    # H(x) 계산\n",
    "    hypothesis = x1_train * w1 + x2_train * w2 + x3_train * w3 + b\n",
    "\n",
    "    # cost 계산\n",
    "    cost = torch.mean((hypothesis - y_train) ** 2)\n",
    "\n",
    "    # cost로 H(x) 개선\n",
    "    optimizer.zero_grad()\n",
    "    cost.backward()\n",
    "    optimizer.step()\n",
    "\n",
    "    # 100번마다 로그 출력\n",
    "    if epoch % 100 == 0:\n",
    "        print('Epoch {:4d}/{} w1: {:.3f} w2: {:.3f} w3: {:.3f} b: {:.3f} Cost: {:.6f}'.format(\n",
    "            epoch, nb_epochs, w1.item(), w2.item(), w3.item(), b.item(), cost.item()\n",
    "        ))\n"
   ],
   "metadata": {
    "collapsed": false,
    "ExecuteTime": {
     "end_time": "2024-02-14T14:03:06.490240Z",
     "start_time": "2024-02-14T14:03:06.330699Z"
    }
   },
   "id": "86d1ef422f73b281",
   "execution_count": 17
  },
  {
   "cell_type": "code",
   "outputs": [
    {
     "name": "stdout",
     "output_type": "stream",
     "text": [
      "Epoch    0/20 hypothesis: tensor([0., 0., 0., 0., 0.]) Cost: 29661.800781\n",
      "Epoch    1/20 hypothesis: tensor([66.7178, 80.1701, 76.1025, 86.0194, 61.1565]) Cost: 9537.694336\n",
      "Epoch    2/20 hypothesis: tensor([104.5421, 125.6208, 119.2478, 134.7862,  95.8280]) Cost: 3069.590088\n",
      "Epoch    3/20 hypothesis: tensor([125.9858, 151.3882, 143.7087, 162.4333, 115.4844]) Cost: 990.670898\n",
      "Epoch    4/20 hypothesis: tensor([138.1429, 165.9963, 157.5768, 178.1071, 126.6283]) Cost: 322.482086\n",
      "Epoch    5/20 hypothesis: tensor([145.0350, 174.2780, 165.4395, 186.9928, 132.9461]) Cost: 107.717064\n",
      "Epoch    6/20 hypothesis: tensor([148.9423, 178.9730, 169.8976, 192.0301, 136.5279]) Cost: 38.687496\n",
      "Epoch    7/20 hypothesis: tensor([151.1574, 181.6346, 172.4254, 194.8856, 138.5585]) Cost: 16.499043\n",
      "Epoch    8/20 hypothesis: tensor([152.4131, 183.1435, 173.8590, 196.5043, 139.7097]) Cost: 9.365656\n",
      "Epoch    9/20 hypothesis: tensor([153.1250, 183.9988, 174.6723, 197.4217, 140.3625]) Cost: 7.071114\n",
      "Epoch   10/20 hypothesis: tensor([153.5285, 184.4835, 175.1338, 197.9415, 140.7325]) Cost: 6.331847\n",
      "Epoch   11/20 hypothesis: tensor([153.7572, 184.7582, 175.3958, 198.2360, 140.9424]) Cost: 6.092532\n",
      "Epoch   12/20 hypothesis: tensor([153.8868, 184.9138, 175.5449, 198.4026, 141.0613]) Cost: 6.013817\n",
      "Epoch   13/20 hypothesis: tensor([153.9602, 185.0019, 175.6299, 198.4969, 141.1288]) Cost: 5.986785\n",
      "Epoch   14/20 hypothesis: tensor([154.0017, 185.0517, 175.6785, 198.5500, 141.1671]) Cost: 5.976325\n",
      "Epoch   15/20 hypothesis: tensor([154.0252, 185.0798, 175.7065, 198.5800, 141.1888]) Cost: 5.971208\n",
      "Epoch   16/20 hypothesis: tensor([154.0385, 185.0956, 175.7229, 198.5966, 141.2012]) Cost: 5.967835\n",
      "Epoch   17/20 hypothesis: tensor([154.0459, 185.1045, 175.7326, 198.6059, 141.2082]) Cost: 5.964969\n",
      "Epoch   18/20 hypothesis: tensor([154.0501, 185.1094, 175.7386, 198.6108, 141.2122]) Cost: 5.962291\n",
      "Epoch   19/20 hypothesis: tensor([154.0524, 185.1120, 175.7424, 198.6134, 141.2145]) Cost: 5.959664\n",
      "Epoch   20/20 hypothesis: tensor([154.0536, 185.1134, 175.7451, 198.6145, 141.2158]) Cost: 5.957089\n"
     ]
    }
   ],
   "source": [
    "# 행렬연산으로 변환한 다중 선형 회귀\n",
    "\n",
    "x_train  =  torch.FloatTensor([[73,  80,  75],\n",
    "                               [93,  88,  93],\n",
    "                               [89,  91,  80],\n",
    "                               [96,  98,  100],\n",
    "                               [73,  66,  70]])\n",
    "y_train  =  torch.FloatTensor([[152],  [185],  [180],  [196],  [142]])\n",
    "\n",
    "# 모델 초기화\n",
    "W = torch.zeros((3, 1), requires_grad=True)\n",
    "b = torch.zeros(1, requires_grad=True)\n",
    "# optimizer 설정\n",
    "optimizer = optim.SGD([W, b], lr=1e-5)\n",
    "\n",
    "nb_epochs = 20\n",
    "for epoch in range(nb_epochs + 1):\n",
    "\n",
    "    # H(x) 계산\n",
    "    # 편향 b는 브로드 캐스팅되어 각 샘플에 더해집니다.\n",
    "    hypothesis = x_train.matmul(W) + b\n",
    "\n",
    "    # cost 계산\n",
    "    cost = torch.mean((hypothesis - y_train) ** 2)\n",
    "\n",
    "    # cost로 H(x) 개선\n",
    "    optimizer.zero_grad()\n",
    "    cost.backward()\n",
    "    optimizer.step()\n",
    "\n",
    "    print('Epoch {:4d}/{} hypothesis: {} Cost: {:.6f}'.format(\n",
    "        epoch, nb_epochs, hypothesis.squeeze().detach(), cost.item()\n",
    "    ))\n"
   ],
   "metadata": {
    "collapsed": false,
    "ExecuteTime": {
     "end_time": "2024-02-14T14:03:06.531938Z",
     "start_time": "2024-02-14T14:03:06.494986Z"
    }
   },
   "id": "fd81f84ceecdc782",
   "execution_count": 18
  },
  {
   "cell_type": "markdown",
   "source": [
    "## 3-4 nn.Module로 구현하는 선형 회귀\n",
    "위에선 직접 가설함수와 비용함수를 정의했지만,\n",
    "이미 구현된 함수로 선형회귀 모델을 구현하기\n",
    "\n",
    "위에서 사용한 모델\n",
    "nn.Linear() => 선형 회귀 모델\n",
    "nn.functional.mse_loss()  => 평균 제곱 오차\n",
    "\n",
    "구현 예시\n",
    "import torch.nn as nn\n",
    "model = nn.Linear(input_dim, output_dim)\n",
    "\n",
    "import torch.nn.functional as F\n",
    "cost = F.mse_loss(prediction, y_train)\n"
   ],
   "metadata": {
    "collapsed": false
   },
   "id": "cdbc19430fe60f25"
  },
  {
   "cell_type": "code",
   "outputs": [],
   "source": [
    " # y = 2 * x 즉 W = 2, b = 0 이라는 정답을 아는 상태에서 W와 b 찾기\n",
    "# 데이터\n",
    "x_train = torch.FloatTensor([[1], [2], [3]])\n",
    "y_train = torch.FloatTensor([[2], [4], [6]])\n",
    "\n",
    "model = nn.Linear(1,1)"
   ],
   "metadata": {
    "collapsed": false,
    "ExecuteTime": {
     "end_time": "2024-02-14T14:03:06.533447Z",
     "start_time": "2024-02-14T14:03:06.514439Z"
    }
   },
   "id": "d8994a22812ff33f",
   "execution_count": 19
  },
  {
   "cell_type": "code",
   "outputs": [
    {
     "data": {
      "text/plain": "[Parameter containing:\n tensor([[0.5153]], requires_grad=True),\n Parameter containing:\n tensor([-0.4414], requires_grad=True)]"
     },
     "execution_count": 20,
     "metadata": {},
     "output_type": "execute_result"
    }
   ],
   "source": [
    "list(model.parameters())\n",
    "# 랜덤으로 구해진 파라밑 값"
   ],
   "metadata": {
    "collapsed": false,
    "ExecuteTime": {
     "end_time": "2024-02-14T14:03:06.575151Z",
     "start_time": "2024-02-14T14:03:06.520672Z"
    }
   },
   "id": "a96e45c09d718b2b",
   "execution_count": 20
  },
  {
   "cell_type": "code",
   "outputs": [],
   "source": [
    "optimizer = optim.SGD(model.parameters(),lr=0.01)"
   ],
   "metadata": {
    "collapsed": false,
    "ExecuteTime": {
     "end_time": "2024-02-14T14:03:06.577413Z",
     "start_time": "2024-02-14T14:03:06.527479Z"
    }
   },
   "id": "3c8b076eeb703d4",
   "execution_count": 21
  },
  {
   "cell_type": "code",
   "outputs": [
    {
     "name": "stdout",
     "output_type": "stream",
     "text": [
      "Epoch    0/2000 Cost: 13.103541\n",
      "Epoch  100/2000 Cost: 0.002791\n",
      "Epoch  200/2000 Cost: 0.001724\n",
      "Epoch  300/2000 Cost: 0.001066\n",
      "Epoch  400/2000 Cost: 0.000658\n",
      "Epoch  500/2000 Cost: 0.000407\n",
      "Epoch  600/2000 Cost: 0.000251\n",
      "Epoch  700/2000 Cost: 0.000155\n",
      "Epoch  800/2000 Cost: 0.000096\n",
      "Epoch  900/2000 Cost: 0.000059\n",
      "Epoch 1000/2000 Cost: 0.000037\n",
      "Epoch 1100/2000 Cost: 0.000023\n",
      "Epoch 1200/2000 Cost: 0.000014\n",
      "Epoch 1300/2000 Cost: 0.000009\n",
      "Epoch 1400/2000 Cost: 0.000005\n",
      "Epoch 1500/2000 Cost: 0.000003\n",
      "Epoch 1600/2000 Cost: 0.000002\n",
      "Epoch 1700/2000 Cost: 0.000001\n",
      "Epoch 1800/2000 Cost: 0.000001\n",
      "Epoch 1900/2000 Cost: 0.000000\n",
      "Epoch 2000/2000 Cost: 0.000000\n"
     ]
    }
   ],
   "source": [
    "# 전체 훈련 데이터에 대해 경사 하강법을 2,000회 반복\n",
    "nb_epochs = 2000\n",
    "for epoch in range(nb_epochs+1):\n",
    "\n",
    "    # H(x) 계산\n",
    "    prediction = model(x_train)\n",
    "\n",
    "    # cost 계산\n",
    "    cost = F.mse_loss(prediction, y_train) # <== 파이토치에서 제공하는 평균 제곱 오차 함수\n",
    "\n",
    "    # cost로 H(x) 개선하는 부분\n",
    "    # gradient를 0으로 초기화\n",
    "    optimizer.zero_grad()\n",
    "    # 비용 함수를 미분하여 gradient 계산\n",
    "    cost.backward() # backward 연산\n",
    "    # W와 b를 업데이트\n",
    "    optimizer.step()\n",
    "\n",
    "    if epoch % 100 == 0:\n",
    "        # 100번마다 로그 출력\n",
    "        print('Epoch {:4d}/{} Cost: {:.6f}'.format(\n",
    "            epoch, nb_epochs, cost.item()\n",
    "        ))\n"
   ],
   "metadata": {
    "collapsed": false,
    "ExecuteTime": {
     "end_time": "2024-02-14T14:03:06.778253Z",
     "start_time": "2024-02-14T14:03:06.530893Z"
    }
   },
   "id": "33e82eabc34cb556",
   "execution_count": 22
  },
  {
   "cell_type": "code",
   "outputs": [
    {
     "name": "stdout",
     "output_type": "stream",
     "text": [
      "tensor([7.9989], grad_fn=<ViewBackward0>)\n"
     ]
    }
   ],
   "source": [
    "new_var = torch.FloatTensor([4.0])\n",
    "pred_y = model(new_var)\n",
    "print(pred_y)"
   ],
   "metadata": {
    "collapsed": false,
    "ExecuteTime": {
     "end_time": "2024-02-14T14:03:06.780861Z",
     "start_time": "2024-02-14T14:03:06.775181Z"
    }
   },
   "id": "813475b40f9e0cb",
   "execution_count": 23
  },
  {
   "cell_type": "code",
   "outputs": [
    {
     "name": "stdout",
     "output_type": "stream",
     "text": [
      "[Parameter containing:\n",
      "tensor([[1.9994]], requires_grad=True), Parameter containing:\n",
      "tensor([0.0014], requires_grad=True)]\n"
     ]
    }
   ],
   "source": [
    "print(list(model.parameters()))"
   ],
   "metadata": {
    "collapsed": false,
    "ExecuteTime": {
     "end_time": "2024-02-14T14:03:06.787889Z",
     "start_time": "2024-02-14T14:03:06.781530Z"
    }
   },
   "id": "4fbc4b2f6eb0f19",
   "execution_count": 24
  },
  {
   "cell_type": "code",
   "outputs": [],
   "source": [
    "# 다중 회귀 구현하기\n",
    "# 데이터\n",
    "x_train = torch.FloatTensor([[73, 80, 75],\n",
    "                             [93, 88, 93],\n",
    "                             [89, 91, 90],\n",
    "                             [96, 98, 100],\n",
    "                             [73, 66, 70]])\n",
    "y_train = torch.FloatTensor([[152], [185], [180], [196], [142]])\n",
    "\n",
    "# 모델을 선언 및 초기화. 다중 선형 회귀이므로 input_dim=3, output_dim=1.\n",
    "model = nn.Linear(3,1)"
   ],
   "metadata": {
    "collapsed": false,
    "ExecuteTime": {
     "end_time": "2024-02-14T14:03:06.793437Z",
     "start_time": "2024-02-14T14:03:06.788832Z"
    }
   },
   "id": "36c6e8777c67335d",
   "execution_count": 25
  },
  {
   "cell_type": "code",
   "outputs": [
    {
     "name": "stdout",
     "output_type": "stream",
     "text": [
      "[Parameter containing:\n",
      "tensor([[-0.1119,  0.2710, -0.5435]], requires_grad=True), Parameter containing:\n",
      "tensor([0.3462], requires_grad=True)]\n"
     ]
    }
   ],
   "source": [
    "print(list(model.parameters()))"
   ],
   "metadata": {
    "collapsed": false,
    "ExecuteTime": {
     "end_time": "2024-02-14T14:03:06.796172Z",
     "start_time": "2024-02-14T14:03:06.792185Z"
    }
   },
   "id": "8f10797cbc824a3b",
   "execution_count": 26
  },
  {
   "cell_type": "code",
   "outputs": [
    {
     "name": "stdout",
     "output_type": "stream",
     "text": [
      "Epoch    0/2000 Cost: 42134.707031\n",
      "Epoch  100/2000 Cost: 5.960053\n",
      "Epoch  200/2000 Cost: 5.654707\n",
      "Epoch  300/2000 Cost: 5.365413\n",
      "Epoch  400/2000 Cost: 5.091429\n",
      "Epoch  500/2000 Cost: 4.831839\n",
      "Epoch  600/2000 Cost: 4.585955\n",
      "Epoch  700/2000 Cost: 4.353065\n",
      "Epoch  800/2000 Cost: 4.132465\n",
      "Epoch  900/2000 Cost: 3.923480\n",
      "Epoch 1000/2000 Cost: 3.725513\n",
      "Epoch 1100/2000 Cost: 3.537985\n",
      "Epoch 1200/2000 Cost: 3.360339\n",
      "Epoch 1300/2000 Cost: 3.192060\n",
      "Epoch 1400/2000 Cost: 3.032671\n",
      "Epoch 1500/2000 Cost: 2.881697\n",
      "Epoch 1600/2000 Cost: 2.738672\n",
      "Epoch 1700/2000 Cost: 2.603198\n",
      "Epoch 1800/2000 Cost: 2.474846\n",
      "Epoch 1900/2000 Cost: 2.353288\n",
      "Epoch 2000/2000 Cost: 2.238106\n"
     ]
    }
   ],
   "source": [
    "optimizer = torch.optim.SGD(model.parameters(), lr=1e-5)\n",
    "\n",
    "nb_epochs = 2000\n",
    "for epoch in range(nb_epochs+1):\n",
    "\n",
    "    # H(x) 계산\n",
    "    prediction = model(x_train)\n",
    "    # model(x_train)은 model.forward(x_train)와 동일함.\n",
    "\n",
    "    # cost 계산\n",
    "    cost = F.mse_loss(prediction, y_train) # <== 파이토치에서 제공하는 평균 제곱 오차 함수\n",
    "\n",
    "    # cost로 H(x) 개선하는 부분\n",
    "    # gradient를 0으로 초기화\n",
    "    optimizer.zero_grad()\n",
    "    # 비용 함수를 미분하여 gradient 계산\n",
    "    cost.backward()\n",
    "    # W와 b를 업데이트\n",
    "    optimizer.step()\n",
    "\n",
    "    if epoch % 100 == 0:\n",
    "        # 100번마다 로그 출력\n",
    "        print('Epoch {:4d}/{} Cost: {:.6f}'.format(\n",
    "            epoch, nb_epochs, cost.item()\n",
    "        ))\n"
   ],
   "metadata": {
    "collapsed": false,
    "ExecuteTime": {
     "end_time": "2024-02-14T14:03:07.035851Z",
     "start_time": "2024-02-14T14:03:06.796368Z"
    }
   },
   "id": "2aed1102ed5ada7d",
   "execution_count": 27
  },
  {
   "cell_type": "code",
   "outputs": [
    {
     "name": "stdout",
     "output_type": "stream",
     "text": [
      "훈련 후 입력이 73, 80, 75일 때의 예측값 : tensor([[153.7184]], grad_fn=<AddmmBackward0>)\n"
     ]
    }
   ],
   "source": [
    "# 임의의 입력 [73, 80, 75]를 선언\n",
    "new_var =  torch.FloatTensor([[73, 80, 75]])\n",
    "# 입력한 값 [73, 80, 75]에 대해서 예측값 y를 리턴받아서 pred_y에 저장\n",
    "pred_y = model(new_var)\n",
    "print(\"훈련 후 입력이 73, 80, 75일 때의 예측값 :\", pred_y) \n"
   ],
   "metadata": {
    "collapsed": false,
    "ExecuteTime": {
     "end_time": "2024-02-14T14:03:07.036758Z",
     "start_time": "2024-02-14T14:03:07.029321Z"
    }
   },
   "id": "ba4d22aa68391b6b",
   "execution_count": 28
  },
  {
   "cell_type": "code",
   "outputs": [
    {
     "name": "stdout",
     "output_type": "stream",
     "text": [
      "[Parameter containing:\n",
      "tensor([[0.8541, 0.8475, 0.3096]], requires_grad=True), Parameter containing:\n",
      "tensor([0.3568], requires_grad=True)]\n"
     ]
    }
   ],
   "source": [
    "print(list(model.parameters()))"
   ],
   "metadata": {
    "collapsed": false,
    "ExecuteTime": {
     "end_time": "2024-02-14T14:03:07.044392Z",
     "start_time": "2024-02-14T14:03:07.035125Z"
    }
   },
   "id": "d5bb407890df7e6a",
   "execution_count": 29
  },
  {
   "cell_type": "markdown",
   "source": [
    "## 3-5 클래스로 파이토치 모델 구현하기"
   ],
   "metadata": {
    "collapsed": false
   },
   "id": "1d1be635dc3866fd"
  },
  {
   "cell_type": "code",
   "outputs": [],
   "source": [
    "# 위의 모델을 클래스로  그대로 구현하기\n",
    "# 단순 선형 회귀\n",
    "class LinearRegressionModel(nn.Module): \n",
    "    # torch.nn.Module을 상속받는 파이썬 클래스\n",
    "    def __init__(self): #\n",
    "        super().__init__()\n",
    "        # 상위 클래스의 생성자를 호출해 초기화 작업 진행\n",
    "        self.linear = nn.Linear(1, 1) \n",
    "        # 단순 선형 회귀이므로 input_dim=1, output_dim=1.\n",
    "\n",
    "    def forward(self, x):\n",
    "        return self.linear(x)"
   ],
   "metadata": {
    "collapsed": false,
    "ExecuteTime": {
     "end_time": "2024-02-14T14:03:07.045614Z",
     "start_time": "2024-02-14T14:03:07.041581Z"
    }
   },
   "id": "afd099c2cb112d3e",
   "execution_count": 30
  },
  {
   "cell_type": "code",
   "outputs": [],
   "source": [
    "# 다중 선형 회귀\n",
    "class MultivariateLinearRegressionModel(nn.Module):\n",
    "    def __init__(self):\n",
    "        super().__init__()\n",
    "        self.linear = nn.Linear(3, 1) # 다중 선형 회귀이므로 input_dim=3, output_dim=1.\n",
    "\n",
    "    def forward(self, x):\n",
    "        return self.linear(x)\n"
   ],
   "metadata": {
    "collapsed": false,
    "ExecuteTime": {
     "end_time": "2024-02-14T14:03:07.047970Z",
     "start_time": "2024-02-14T14:03:07.044767Z"
    }
   },
   "id": "182489e18255cb50",
   "execution_count": 31
  },
  {
   "cell_type": "code",
   "outputs": [
    {
     "name": "stdout",
     "output_type": "stream",
     "text": [
      "Epoch    0/2000 Cost: 18.474602\n",
      "Epoch  100/2000 Cost: 0.136136\n",
      "Epoch  200/2000 Cost: 0.084124\n",
      "Epoch  300/2000 Cost: 0.051984\n",
      "Epoch  400/2000 Cost: 0.032123\n",
      "Epoch  500/2000 Cost: 0.019850\n",
      "Epoch  600/2000 Cost: 0.012266\n",
      "Epoch  700/2000 Cost: 0.007580\n",
      "Epoch  800/2000 Cost: 0.004684\n",
      "Epoch  900/2000 Cost: 0.002894\n",
      "Epoch 1000/2000 Cost: 0.001788\n",
      "Epoch 1100/2000 Cost: 0.001105\n",
      "Epoch 1200/2000 Cost: 0.000683\n",
      "Epoch 1300/2000 Cost: 0.000422\n",
      "Epoch 1400/2000 Cost: 0.000261\n",
      "Epoch 1500/2000 Cost: 0.000161\n",
      "Epoch 1600/2000 Cost: 0.000100\n",
      "Epoch 1700/2000 Cost: 0.000062\n",
      "Epoch 1800/2000 Cost: 0.000038\n",
      "Epoch 1900/2000 Cost: 0.000023\n",
      "Epoch 2000/2000 Cost: 0.000015\n"
     ]
    }
   ],
   "source": [
    "# 단순 선형회귀 클래스로 구현\n",
    "\n",
    "# 데이터\n",
    "x_train = torch.FloatTensor([[1], [2], [3]])\n",
    "y_train = torch.FloatTensor([[2], [4], [6]])\n",
    "\n",
    "\n",
    "model = LinearRegressionModel()\n",
    "optimizer = torch.optim.SGD(model.parameters(), lr=0.01)\n",
    "\n",
    "# 전체 훈련 데이터에 대해 경사 하강법을 2,000회 반복\n",
    "nb_epochs = 2000\n",
    "for epoch in range(nb_epochs+1):\n",
    "\n",
    "    # H(x) 계산\n",
    "    prediction = model(x_train)\n",
    "\n",
    "    # cost 계산\n",
    "    cost = F.mse_loss(prediction, y_train) # <== 파이토치에서 제공하는 평균 제곱 오차 함수\n",
    "\n",
    "    # cost로 H(x) 개선하는 부분\n",
    "    # gradient를 0으로 초기화\n",
    "    optimizer.zero_grad()\n",
    "    # 비용 함수를 미분하여 gradient 계산\n",
    "    cost.backward() # backward 연산\n",
    "    # W와 b를 업데이트\n",
    "    optimizer.step()\n",
    "\n",
    "    if epoch % 100 == 0:\n",
    "        # 100번마다 로그 출력\n",
    "        print('Epoch {:4d}/{} Cost: {:.6f}'.format(\n",
    "            epoch, nb_epochs, cost.item()\n",
    "        ))\n"
   ],
   "metadata": {
    "collapsed": false,
    "ExecuteTime": {
     "end_time": "2024-02-14T14:03:07.296229Z",
     "start_time": "2024-02-14T14:03:07.048282Z"
    }
   },
   "id": "ea2c13df46c371d9",
   "execution_count": 32
  },
  {
   "cell_type": "code",
   "outputs": [
    {
     "data": {
      "text/plain": "tensor([9.9880], grad_fn=<ViewBackward0>)"
     },
     "execution_count": 33,
     "metadata": {},
     "output_type": "execute_result"
    }
   ],
   "source": [
    "var2 = torch.FloatTensor([5])\n",
    "y_pred = model.forward(var2)\n",
    "y_pred"
   ],
   "metadata": {
    "collapsed": false,
    "ExecuteTime": {
     "end_time": "2024-02-14T14:03:07.308681Z",
     "start_time": "2024-02-14T14:03:07.297909Z"
    }
   },
   "id": "c17c64934d43ed07",
   "execution_count": 33
  },
  {
   "cell_type": "markdown",
   "source": [
    "## 3-6 미니 배치와 배치 크기\n",
    "\n",
    "전체 데이터 크기 = 미니 배치 크기 X 이터레이션(매개변수 업데이트 횟수)"
   ],
   "metadata": {
    "collapsed": false
   },
   "id": "ecd882ef9ecc33e5"
  },
  {
   "cell_type": "code",
   "outputs": [],
   "source": [
    "# 파이토치엔 데이터셋, 데이터로더가 존재\n",
    "# 미니배치 학습, 데이터 셔플, 병렬 처리까지 수행 가능\n",
    "\n",
    "from torch.utils.data import TensorDataset # 텐서데이터셋\n",
    "from torch.utils.data import DataLoader # 데이터로더"
   ],
   "metadata": {
    "collapsed": false,
    "ExecuteTime": {
     "end_time": "2024-02-14T14:03:07.315056Z",
     "start_time": "2024-02-14T14:03:07.306684Z"
    }
   },
   "id": "c0bd281ca9199f9",
   "execution_count": 34
  },
  {
   "cell_type": "code",
   "outputs": [],
   "source": [
    "x_train  =  torch.FloatTensor([[73,  80,  75],\n",
    "                               [93,  88,  93],\n",
    "                               [89,  91,  90],\n",
    "                               [96,  98,  100],\n",
    "                               [73,  66,  70]])\n",
    "y_train  =  torch.FloatTensor([[152],  [185],  [180],  [196],  [142]])\n",
    "\n",
    "dataset = TensorDataset(x_train, y_train)\n"
   ],
   "metadata": {
    "collapsed": false,
    "ExecuteTime": {
     "end_time": "2024-02-14T14:03:07.338851Z",
     "start_time": "2024-02-14T14:03:07.314091Z"
    }
   },
   "id": "8972637fac51c320",
   "execution_count": 35
  },
  {
   "cell_type": "code",
   "outputs": [],
   "source": [
    "# 미니 배치의 크기는 통상적으로2의 배수를 사용\n",
    "# shuffle은 에폭마다 데이터셋을 섞어서 학습 순서를 바꿈\n",
    "dataloader = DataLoader(dataset, batch_size=2, shuffle=True)"
   ],
   "metadata": {
    "collapsed": false,
    "ExecuteTime": {
     "end_time": "2024-02-14T14:03:07.340114Z",
     "start_time": "2024-02-14T14:03:07.319486Z"
    }
   },
   "id": "ff58114e7bbfc2e1",
   "execution_count": 36
  },
  {
   "cell_type": "code",
   "outputs": [],
   "source": [
    "model = nn.Linear(3,1)\n",
    "optimizer = torch.optim.SGD(model.parameters(), lr=1e-5) "
   ],
   "metadata": {
    "collapsed": false,
    "ExecuteTime": {
     "end_time": "2024-02-14T14:03:07.341180Z",
     "start_time": "2024-02-14T14:03:07.323740Z"
    }
   },
   "id": "41765f42d5aeb1de",
   "execution_count": 37
  },
  {
   "cell_type": "code",
   "outputs": [
    {
     "name": "stdout",
     "output_type": "stream",
     "text": [
      "Epoch    0/20 Batch 1/3 Cost: 21981.667969\n",
      "Epoch    0/20 Batch 2/3 Cost: 9587.075195\n",
      "Epoch    0/20 Batch 3/3 Cost: 3180.415527\n",
      "Epoch    1/20 Batch 1/3 Cost: 656.754761\n",
      "Epoch    1/20 Batch 2/3 Cost: 208.265625\n",
      "Epoch    1/20 Batch 3/3 Cost: 60.448395\n",
      "Epoch    2/20 Batch 1/3 Cost: 20.464521\n",
      "Epoch    2/20 Batch 2/3 Cost: 4.721592\n",
      "Epoch    2/20 Batch 3/3 Cost: 7.182279\n",
      "Epoch    3/20 Batch 1/3 Cost: 1.647293\n",
      "Epoch    3/20 Batch 2/3 Cost: 0.378696\n",
      "Epoch    3/20 Batch 3/3 Cost: 1.522853\n",
      "Epoch    4/20 Batch 1/3 Cost: 1.254019\n",
      "Epoch    4/20 Batch 2/3 Cost: 2.134096\n",
      "Epoch    4/20 Batch 3/3 Cost: 0.052373\n",
      "Epoch    5/20 Batch 1/3 Cost: 0.230397\n",
      "Epoch    5/20 Batch 2/3 Cost: 1.461857\n",
      "Epoch    5/20 Batch 3/3 Cost: 2.749334\n",
      "Epoch    6/20 Batch 1/3 Cost: 1.041578\n",
      "Epoch    6/20 Batch 2/3 Cost: 1.587193\n",
      "Epoch    6/20 Batch 3/3 Cost: 1.168151\n",
      "Epoch    7/20 Batch 1/3 Cost: 0.446066\n",
      "Epoch    7/20 Batch 2/3 Cost: 2.133462\n",
      "Epoch    7/20 Batch 3/3 Cost: 0.879393\n",
      "Epoch    8/20 Batch 1/3 Cost: 0.129109\n",
      "Epoch    8/20 Batch 2/3 Cost: 1.629957\n",
      "Epoch    8/20 Batch 3/3 Cost: 1.018610\n",
      "Epoch    9/20 Batch 1/3 Cost: 1.180956\n",
      "Epoch    9/20 Batch 2/3 Cost: 1.115691\n",
      "Epoch    9/20 Batch 3/3 Cost: 0.002779\n",
      "Epoch   10/20 Batch 1/3 Cost: 1.581377\n",
      "Epoch   10/20 Batch 2/3 Cost: 0.573204\n",
      "Epoch   10/20 Batch 3/3 Cost: 0.001429\n",
      "Epoch   11/20 Batch 1/3 Cost: 0.606302\n",
      "Epoch   11/20 Batch 2/3 Cost: 0.692019\n",
      "Epoch   11/20 Batch 3/3 Cost: 2.220071\n",
      "Epoch   12/20 Batch 1/3 Cost: 1.800148\n",
      "Epoch   12/20 Batch 2/3 Cost: 0.189872\n",
      "Epoch   12/20 Batch 3/3 Cost: 1.045114\n",
      "Epoch   13/20 Batch 1/3 Cost: 1.179914\n",
      "Epoch   13/20 Batch 2/3 Cost: 0.999486\n",
      "Epoch   13/20 Batch 3/3 Cost: 0.452195\n",
      "Epoch   14/20 Batch 1/3 Cost: 0.930230\n",
      "Epoch   14/20 Batch 2/3 Cost: 1.366714\n",
      "Epoch   14/20 Batch 3/3 Cost: 0.001216\n",
      "Epoch   15/20 Batch 1/3 Cost: 1.391162\n",
      "Epoch   15/20 Batch 2/3 Cost: 0.711748\n",
      "Epoch   15/20 Batch 3/3 Cost: 1.394616\n",
      "Epoch   16/20 Batch 1/3 Cost: 2.574685\n",
      "Epoch   16/20 Batch 2/3 Cost: 1.108939\n",
      "Epoch   16/20 Batch 3/3 Cost: 0.102219\n",
      "Epoch   17/20 Batch 1/3 Cost: 0.114788\n",
      "Epoch   17/20 Batch 2/3 Cost: 1.629926\n",
      "Epoch   17/20 Batch 3/3 Cost: 1.041934\n",
      "Epoch   18/20 Batch 1/3 Cost: 1.028188\n",
      "Epoch   18/20 Batch 2/3 Cost: 0.601386\n",
      "Epoch   18/20 Batch 3/3 Cost: 2.028243\n",
      "Epoch   19/20 Batch 1/3 Cost: 0.602376\n",
      "Epoch   19/20 Batch 2/3 Cost: 2.355952\n",
      "Epoch   19/20 Batch 3/3 Cost: 0.969685\n",
      "Epoch   20/20 Batch 1/3 Cost: 0.786748\n",
      "Epoch   20/20 Batch 2/3 Cost: 2.512206\n",
      "Epoch   20/20 Batch 3/3 Cost: 0.014202\n"
     ]
    }
   ],
   "source": [
    "nb_epochs = 20\n",
    "for epoch in range(nb_epochs + 1):\n",
    "    for batch_idx, samples in enumerate(dataloader):\n",
    "        # print(batch_idx)\n",
    "        # print(samples)\n",
    "        x_train, y_train = samples\n",
    "        # H(x) 계산\n",
    "        prediction = model(x_train)\n",
    "\n",
    "        # cost 계산\n",
    "        cost = F.mse_loss(prediction, y_train)\n",
    "\n",
    "        # cost로 H(x) 계산\n",
    "        optimizer.zero_grad()\n",
    "        cost.backward()\n",
    "        optimizer.step()\n",
    "\n",
    "        print('Epoch {:4d}/{} Batch {}/{} Cost: {:.6f}'.format(\n",
    "            epoch, nb_epochs, batch_idx+1, len(dataloader),\n",
    "            cost.item()\n",
    "        ))\n"
   ],
   "metadata": {
    "collapsed": false,
    "ExecuteTime": {
     "end_time": "2024-02-14T14:03:07.368135Z",
     "start_time": "2024-02-14T14:03:07.328605Z"
    }
   },
   "id": "3c51eee8fa8fdb79",
   "execution_count": 38
  },
  {
   "cell_type": "code",
   "outputs": [
    {
     "name": "stdout",
     "output_type": "stream",
     "text": [
      "훈련 후 입력이 73, 80, 75일 때의 예측값 : tensor([[151.9222]], grad_fn=<AddmmBackward0>)\n"
     ]
    }
   ],
   "source": [
    "# 임의의 입력 [73, 80, 75]를 선언\n",
    "new_var =  torch.FloatTensor([[73, 80, 75]])\n",
    "# 입력한 값 [73, 80, 75]에 대해서 예측값 y를 리턴받아서 pred_y에 저장\n",
    "pred_y = model(new_var)\n",
    "print(\"훈련 후 입력이 73, 80, 75일 때의 예측값 :\", pred_y) "
   ],
   "metadata": {
    "collapsed": false,
    "ExecuteTime": {
     "end_time": "2024-02-14T14:03:07.370148Z",
     "start_time": "2024-02-14T14:03:07.342614Z"
    }
   },
   "id": "54402093a801b4ea",
   "execution_count": 39
  },
  {
   "cell_type": "markdown",
   "source": [
    "## 커스텀 데이터 셋\n",
    "\n",
    "데이터셋은 추상클래스여서 상속받아 클래스를 만듬\n",
    "\n",
    "class CustomDataset(torch.utils.data.Dataset): \n",
    "  def __init__(self):\n",
    "  데이터셋의 전처리를 해주는 부분\n",
    "\n",
    "  def __len__(self):\n",
    "  데이터셋의 길이. 즉, 총 샘플의 수를 적어주는 부분\n",
    "\n",
    "  def __getitem__(self, idx): \n",
    "  데이터셋에서 특정 1개의 샘플을 가져오는 함수\n"
   ],
   "metadata": {
    "collapsed": false
   },
   "id": "79f92d6c1ed93dc4"
  },
  {
   "cell_type": "code",
   "outputs": [],
   "source": [
    "# Dataset 상속\n",
    "from torch.utils.data import Dataset\n",
    "\n",
    "class CustomDataset(Dataset):\n",
    "    def __init__(self):\n",
    "        self.x_data = [[73, 80, 75],\n",
    "                       [93, 88, 93],\n",
    "                       [89, 91, 90],\n",
    "                       [96, 98, 100],\n",
    "                       [73, 66, 70]]\n",
    "        self.y_data = [[152], [185], [180], [196], [142]]\n",
    "\n",
    "    # 총 데이터의 개수를 리턴\n",
    "    def __len__(self):\n",
    "        return len(self.x_data)\n",
    "\n",
    "    # 인덱스를 입력받아 그에 맵핑되는 입출력 데이터를 파이토치의 Tensor 형태로 리턴\n",
    "    def __getitem__(self, idx):\n",
    "        x = torch.FloatTensor(self.x_data[idx])\n",
    "        y = torch.FloatTensor(self.y_data[idx])\n",
    "        return x, y"
   ],
   "metadata": {
    "collapsed": false,
    "ExecuteTime": {
     "end_time": "2024-02-14T14:03:07.371561Z",
     "start_time": "2024-02-14T14:03:07.347072Z"
    }
   },
   "id": "faa12da23cd8a141",
   "execution_count": 40
  },
  {
   "cell_type": "code",
   "outputs": [
    {
     "name": "stdout",
     "output_type": "stream",
     "text": [
      "Epoch    0/20 Batch 1/3 Cost: 29319.011719\n",
      "Epoch    0/20 Batch 2/3 Cost: 7682.496094\n",
      "Epoch    0/20 Batch 3/3 Cost: 3114.666504\n",
      "Epoch    1/20 Batch 1/3 Cost: 809.166870\n",
      "Epoch    1/20 Batch 2/3 Cost: 300.709198\n",
      "Epoch    1/20 Batch 3/3 Cost: 37.518616\n",
      "Epoch    2/20 Batch 1/3 Cost: 37.871822\n",
      "Epoch    2/20 Batch 2/3 Cost: 3.583100\n",
      "Epoch    2/20 Batch 3/3 Cost: 15.499701\n",
      "Epoch    3/20 Batch 1/3 Cost: 3.772459\n",
      "Epoch    3/20 Batch 2/3 Cost: 2.178463\n",
      "Epoch    3/20 Batch 3/3 Cost: 0.037612\n",
      "Epoch    4/20 Batch 1/3 Cost: 0.297060\n",
      "Epoch    4/20 Batch 2/3 Cost: 2.369325\n",
      "Epoch    4/20 Batch 3/3 Cost: 2.928090\n",
      "Epoch    5/20 Batch 1/3 Cost: 1.220521\n",
      "Epoch    5/20 Batch 2/3 Cost: 1.797108\n",
      "Epoch    5/20 Batch 3/3 Cost: 1.805746\n",
      "Epoch    6/20 Batch 1/3 Cost: 0.409884\n",
      "Epoch    6/20 Batch 2/3 Cost: 2.198062\n",
      "Epoch    6/20 Batch 3/3 Cost: 2.823555\n",
      "Epoch    7/20 Batch 1/3 Cost: 1.618690\n",
      "Epoch    7/20 Batch 2/3 Cost: 1.817710\n",
      "Epoch    7/20 Batch 3/3 Cost: 2.327748\n",
      "Epoch    8/20 Batch 1/3 Cost: 2.224390\n",
      "Epoch    8/20 Batch 2/3 Cost: 1.843488\n",
      "Epoch    8/20 Batch 3/3 Cost: 2.264948\n",
      "Epoch    9/20 Batch 1/3 Cost: 2.276021\n",
      "Epoch    9/20 Batch 2/3 Cost: 2.213155\n",
      "Epoch    9/20 Batch 3/3 Cost: 3.342989\n",
      "Epoch   10/20 Batch 1/3 Cost: 1.883434\n",
      "Epoch   10/20 Batch 2/3 Cost: 0.687209\n",
      "Epoch   10/20 Batch 3/3 Cost: 3.354494\n",
      "Epoch   11/20 Batch 1/3 Cost: 1.752063\n",
      "Epoch   11/20 Batch 2/3 Cost: 1.138905\n",
      "Epoch   11/20 Batch 3/3 Cost: 2.948282\n",
      "Epoch   12/20 Batch 1/3 Cost: 1.979387\n",
      "Epoch   12/20 Batch 2/3 Cost: 1.044294\n",
      "Epoch   12/20 Batch 3/3 Cost: 1.921423\n",
      "Epoch   13/20 Batch 1/3 Cost: 0.476988\n",
      "Epoch   13/20 Batch 2/3 Cost: 3.877415\n",
      "Epoch   13/20 Batch 3/3 Cost: 1.891296\n",
      "Epoch   14/20 Batch 1/3 Cost: 0.836993\n",
      "Epoch   14/20 Batch 2/3 Cost: 2.073200\n",
      "Epoch   14/20 Batch 3/3 Cost: 2.821248\n",
      "Epoch   15/20 Batch 1/3 Cost: 2.286551\n",
      "Epoch   15/20 Batch 2/3 Cost: 2.601768\n",
      "Epoch   15/20 Batch 3/3 Cost: 2.472979\n",
      "Epoch   16/20 Batch 1/3 Cost: 1.277975\n",
      "Epoch   16/20 Batch 2/3 Cost: 1.695015\n",
      "Epoch   16/20 Batch 3/3 Cost: 3.361428\n",
      "Epoch   17/20 Batch 1/3 Cost: 1.242968\n",
      "Epoch   17/20 Batch 2/3 Cost: 1.847646\n",
      "Epoch   17/20 Batch 3/3 Cost: 2.384521\n",
      "Epoch   18/20 Batch 1/3 Cost: 2.074594\n",
      "Epoch   18/20 Batch 2/3 Cost: 1.565224\n",
      "Epoch   18/20 Batch 3/3 Cost: 0.774785\n",
      "Epoch   19/20 Batch 1/3 Cost: 1.008427\n",
      "Epoch   19/20 Batch 2/3 Cost: 4.044935\n",
      "Epoch   19/20 Batch 3/3 Cost: 0.698664\n",
      "Epoch   20/20 Batch 1/3 Cost: 1.753432\n",
      "Epoch   20/20 Batch 2/3 Cost: 1.260357\n",
      "Epoch   20/20 Batch 3/3 Cost: 1.796940\n"
     ]
    }
   ],
   "source": [
    "dataset = CustomDataset()\n",
    "dataloader = DataLoader(dataset, batch_size=2, shuffle=True)\n",
    "\n",
    "model = torch.nn.Linear(3,1)\n",
    "optimizer = torch.optim.SGD(model.parameters(), lr=1e-5)\n",
    "\n",
    "nb_epochs = 20\n",
    "for epoch in range(nb_epochs + 1):\n",
    "    for batch_idx, samples in enumerate(dataloader):\n",
    "        # print(batch_idx)\n",
    "        # print(samples)\n",
    "        x_train, y_train = samples\n",
    "        # H(x) 계산\n",
    "        prediction = model(x_train)\n",
    "\n",
    "        # cost 계산\n",
    "        cost = F.mse_loss(prediction, y_train)\n",
    "\n",
    "        # cost로 H(x) 계산\n",
    "        optimizer.zero_grad()\n",
    "        cost.backward()\n",
    "        optimizer.step()\n",
    "\n",
    "        print('Epoch {:4d}/{} Batch {}/{} Cost: {:.6f}'.format(\n",
    "            epoch, nb_epochs, batch_idx+1, len(dataloader),\n",
    "            cost.item()\n",
    "        ))\n"
   ],
   "metadata": {
    "collapsed": false,
    "ExecuteTime": {
     "end_time": "2024-02-14T14:03:07.412346Z",
     "start_time": "2024-02-14T14:03:07.373888Z"
    }
   },
   "id": "6971663eb3370e4c",
   "execution_count": 41
  },
  {
   "cell_type": "code",
   "outputs": [
    {
     "name": "stdout",
     "output_type": "stream",
     "text": [
      "훈련 후 입력이 73, 80, 75일 때의 예측값 : tensor([[152.6855]], grad_fn=<AddmmBackward0>)\n"
     ]
    }
   ],
   "source": [
    "# 임의의 입력 [73, 80, 75]를 선언\n",
    "new_var =  torch.FloatTensor([[73, 80, 75]])\n",
    "# 입력한 값 [73, 80, 75]에 대해서 예측값 y를 리턴받아서 pred_y에 저장\n",
    "pred_y = model(new_var)\n",
    "print(\"훈련 후 입력이 73, 80, 75일 때의 예측값 :\", pred_y) \n"
   ],
   "metadata": {
    "collapsed": false,
    "ExecuteTime": {
     "end_time": "2024-02-14T14:03:07.412618Z",
     "start_time": "2024-02-14T14:03:07.396267Z"
    }
   },
   "id": "5f806ae50fda3b32",
   "execution_count": 42
  }
 ],
 "metadata": {
  "kernelspec": {
   "display_name": "Python 3",
   "language": "python",
   "name": "python3"
  },
  "language_info": {
   "codemirror_mode": {
    "name": "ipython",
    "version": 2
   },
   "file_extension": ".py",
   "mimetype": "text/x-python",
   "name": "python",
   "nbconvert_exporter": "python",
   "pygments_lexer": "ipython2",
   "version": "2.7.6"
  }
 },
 "nbformat": 4,
 "nbformat_minor": 5
}
