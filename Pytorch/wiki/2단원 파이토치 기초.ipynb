{
 "cells": [
  {
   "cell_type": "markdown",
   "source": [
    "## 2-1 파이토치 패키지의 기본구성\n",
    "torch : \n",
    "메인 네임스페이스\n",
    "\n",
    "torch.autograd : \n",
    "자동미분을 위한 함수를 포함하고 있음\n",
    "자동 미분의 on/off를 제어하는 콘텍스트 매니저(enable_grad/no_grad)와\n",
    "자체 미분을 정의할때 사용하는 Function이 포함됨\n",
    "\n",
    "torch.nn : \n",
    "신경망을 구축하기 위한 다양한 데이터 구조, 레이어가 정의되어 있음\n",
    "ex) RNN, LSTM 레이어/ ReLU 활성화함수/ MSELoss 손실함수\n",
    "\n",
    "torch.optim : \n",
    "확률적 경사하강법(SGD)을 중심으로한 파라미터 최적화 알고리즘이 구현\n",
    "\n",
    "torch.utils.data : \n",
    "SGD 반복연산 실행시 사용되는 미니배치용 유틸리티 함수가 포함\n",
    "\n",
    "torch.onnx :\n",
    "모델을 ONNX 포맷으로 모델을 export할 때 사용\n",
    "ONNX는 서로 다른 딥러닝 프레임워크 간에 모델을 공유할때 사용\n"
   ],
   "metadata": {
    "collapsed": false
   },
   "id": "8c8818abe76972a"
  },
  {
   "cell_type": "markdown",
   "source": [
    "## 2-2 텐서 조작하기"
   ],
   "metadata": {
    "collapsed": false
   },
   "id": "c6c6e3f96e7359e"
  },
  {
   "cell_type": "markdown",
   "source": [
    "### 1. 벡터 행렬 템서\n",
    "\n",
    "1차원으로 구성된 값 : 벡터\n",
    "2차원으로 구성된 값 : 행렬\n",
    "3차원으로 구성된 값 : 텐서\n",
    "n차원으로 구성된 값 : n차원 텐서\n",
    "\n",
    "하지만 데이터 사이언스에서는 1차원부터 그냥 1차원 텐서라 함\n",
    "\n",
    "### 2. 파이토치 텐서 shape 컨벤션\n",
    "행렬과 텐션을 앞으로 다음과 같은 표현으로 할 것임\n",
    "2D Tensor : |t| = (batch size, dim)\n",
    "2차원 텐서에서 행이 batch size고 열이 dim임\n",
    "즉 batch size X dim 행렬이라 생각하면 됨\n",
    "\n",
    "ex) 훈련 데이터 1개 크기 : 256 \n",
    "3000개의 훈련 데이터가 있다고 하면 \n",
    "전체 데이터 크기 : 3000 x 256\n",
    "컴퓨터는 한번에 여러개의 데이터를 처리하므로 \n",
    "3000개에서 64개씩 꺼내서 처리한다고 하면\n",
    "2D 텐서의 크기는 64 X 256가 됨\n",
    "\n",
    "### 3D 텐서 \n",
    "비전 분야에서의 3D 텐서\n",
    "|t| = (batch size, width, height)\n",
    "여기서 width와 height => 사진 1개 가로세로라 생각하면 됨\n",
    "\n",
    "NLP에서의 3D 텐서\n",
    "|t| = (batch size, length, dim)\n",
    "(batch size, 문장길이, 단어 벡터의 차원)으로 사용됨"
   ],
   "metadata": {
    "collapsed": false
   },
   "id": "abfbf83fc16b2d72"
  },
  {
   "cell_type": "markdown",
   "source": [
    "### NLP분야에서 3D 텐서 예제로 이해 하기\n",
    "[[나는 사과를 좋아해], [나는 바나나를 좋아해], [나는 사과를 싫어해], [나는 바나나를 싫어해]]\n",
    "라는 전체 훈련데이터가 있다고 가정하자\n",
    "\n",
    "이때 컴퓨터는 단어가 몇개인지 인식을 못하므로 단어별로 나눠줘야함\n",
    "[['나는', '사과를', '좋아해'], ['나는', '바나나를', '좋아해'],\n",
    " ['나는', '사과를', '싫어해'], ['나는', '바나나를', '싫어해']]\n",
    "\n",
    "이렇게되면 훈련데이터는 4 X 3 크기를 갖는 2차원 텐서가 됨\n",
    "\n",
    "컴퓨터는 텍스트보다 숫자를 잘 처리하므로 각 단어를 벡터로 변환함\n",
    "'나는' = [0.1, 0.2, 0.9]\n",
    "'사과를' = [0.3, 0.5, 0.1]\n",
    "'바나나를' = [0.3, 0.5, 0.2]\n",
    "'좋아해' = [0.7, 0.6, 0.5]\n",
    "'싫어해' = [0.5, 0.6, 0.7]\n",
    "\n",
    "이를 바탕으로 훈련데이터를 재구성하면\n",
    "\n",
    "[[[0.1, 0.2, 0.9], [0.3, 0.5, 0.1], [0.7, 0.6, 0.5]],\n",
    " [[0.1, 0.2, 0.9], [0.3, 0.5, 0.2], [0.7, 0.6, 0.5]],\n",
    " [[0.1, 0.2, 0.9], [0.3, 0.5, 0.1], [0.5, 0.6, 0.7]],\n",
    " [[0.1, 0.2, 0.9], [0.3, 0.5, 0.2], [0.5, 0.6, 0.7]]]\n",
    "\n",
    "이렇게 되면 4X3X3 크기를 갖는 3D 텐서가됨\n",
    "\n",
    "여기서 배치 크기를 2로 하면\n",
    "첫번째 배치 #1\n",
    "[[[0.1, 0.2, 0.9], [0.3, 0.5, 0.1], [0.7, 0.6, 0.5]],\n",
    " [[0.1, 0.2, 0.9], [0.3, 0.5, 0.2], [0.7, 0.6, 0.5]]]\n",
    "\n",
    "두번째 배치 #2\n",
    "[[[0.1, 0.2, 0.9], [0.3, 0.5, 0.1], [0.5, 0.6, 0.7]],\n",
    " [[0.1, 0.2, 0.9], [0.3, 0.5, 0.2], [0.5, 0.6, 0.7]]]\n",
    " \n",
    "이고 각 텐서의 크기는 2X3X3이 됨"
   ],
   "metadata": {
    "collapsed": false
   },
   "id": "6a4911ee2991da2d"
  },
  {
   "cell_type": "markdown",
   "source": [
    "## 2. 넘파이로 텐서 만들기"
   ],
   "metadata": {
    "collapsed": false
   },
   "id": "b351204de053f83f"
  },
  {
   "cell_type": "code",
   "outputs": [
    {
     "name": "stdout",
     "output_type": "stream",
     "text": [
      "[1. 2. 3. 4. 5. 6.]\n"
     ]
    }
   ],
   "source": [
    "# 1D 텐서 만들기\n",
    "import numpy as np\n",
    "\n",
    "t = np.array([1.,2,3,4,5,6])\n",
    "print(t)"
   ],
   "metadata": {
    "collapsed": false,
    "ExecuteTime": {
     "end_time": "2024-02-02T18:40:49.550646Z",
     "start_time": "2024-02-02T18:40:49.334652Z"
    }
   },
   "id": "96a4fbf569ba3b0c",
   "execution_count": 1
  },
  {
   "cell_type": "code",
   "outputs": [
    {
     "name": "stdout",
     "output_type": "stream",
     "text": [
      "rank of t : 1\n",
      "shape of t : (6,)\n"
     ]
    }
   ],
   "source": [
    "print('rank of t :', t.ndim)\n",
    "print('shape of t :', t.shape)"
   ],
   "metadata": {
    "collapsed": false,
    "ExecuteTime": {
     "end_time": "2024-02-02T18:40:49.596906Z",
     "start_time": "2024-02-02T18:40:49.508015Z"
    }
   },
   "id": "a06842c4428ab405",
   "execution_count": 2
  },
  {
   "cell_type": "code",
   "outputs": [
    {
     "name": "stdout",
     "output_type": "stream",
     "text": [
      "t[0] t[1] t[-1] =  1.0 2.0 6.0\n"
     ]
    }
   ],
   "source": [
    "# 넘파이에서 각 벡터의 원소에 접근하는 방법\n",
    "print('t[0] t[1] t[-1] = ',t[0] ,t[1], t[-1])"
   ],
   "metadata": {
    "collapsed": false,
    "ExecuteTime": {
     "end_time": "2024-02-02T18:40:49.622142Z",
     "start_time": "2024-02-02T18:40:49.517987Z"
    }
   },
   "id": "ed1643be0e7fe923",
   "execution_count": 3
  },
  {
   "cell_type": "code",
   "outputs": [
    {
     "name": "stdout",
     "output_type": "stream",
     "text": [
      "t[2:5] t[4:-1]  =  [3. 4. 5.] [5.]\n"
     ]
    }
   ],
   "source": [
    "print('t[2:5] t[4:-1]  = ', t[2:5], t[4:-1]) \n",
    "# [시작 번호 : 끝 번호]로 범위 지정을 통해 가져온다."
   ],
   "metadata": {
    "collapsed": false,
    "ExecuteTime": {
     "end_time": "2024-02-02T18:40:49.739315Z",
     "start_time": "2024-02-02T18:40:49.528175Z"
    }
   },
   "id": "7e0e634c72c969d8",
   "execution_count": 4
  },
  {
   "cell_type": "code",
   "outputs": [
    {
     "name": "stdout",
     "output_type": "stream",
     "text": [
      "[[ 1.  2.  3.]\n",
      " [ 4.  5.  6.]\n",
      " [ 7.  8.  9.]\n",
      " [10. 11. 12.]]\n"
     ]
    }
   ],
   "source": [
    "# 넘파이로 2D 만들기\n",
    "t = np.array([[1., 2., 3.], [4., 5., 6.], [7., 8., 9.], [10., 11., 12.]])\n",
    "print(t)\n"
   ],
   "metadata": {
    "collapsed": false,
    "ExecuteTime": {
     "end_time": "2024-02-02T18:40:49.779175Z",
     "start_time": "2024-02-02T18:40:49.543340Z"
    }
   },
   "id": "91824ad98b777944",
   "execution_count": 5
  },
  {
   "cell_type": "code",
   "outputs": [
    {
     "name": "stdout",
     "output_type": "stream",
     "text": [
      "Rank  of t:  2\n",
      "Shape of t:  (4, 3)\n"
     ]
    }
   ],
   "source": [
    "print('Rank  of t: ', t.ndim)\n",
    "print('Shape of t: ', t.shape)"
   ],
   "metadata": {
    "collapsed": false,
    "ExecuteTime": {
     "end_time": "2024-02-02T18:40:49.871662Z",
     "start_time": "2024-02-02T18:40:49.627485Z"
    }
   },
   "id": "e1b23a4ac44f115b",
   "execution_count": 6
  },
  {
   "cell_type": "markdown",
   "source": [
    "## 3. 파이토치 텐서 선언하기"
   ],
   "metadata": {
    "collapsed": false
   },
   "id": "a549969c9dbe6df9"
  },
  {
   "cell_type": "code",
   "outputs": [],
   "source": [
    "# 파이토치 import 하기\n",
    "import torch"
   ],
   "metadata": {
    "collapsed": false,
    "ExecuteTime": {
     "end_time": "2024-02-02T18:40:51.505233Z",
     "start_time": "2024-02-02T18:40:49.868540Z"
    }
   },
   "id": "6443c879cbeca69f",
   "execution_count": 7
  },
  {
   "cell_type": "code",
   "outputs": [
    {
     "name": "stdout",
     "output_type": "stream",
     "text": [
      "tensor([1., 2., 3., 4., 5., 6., 7.])\n"
     ]
    }
   ],
   "source": [
    "# 파이토치로 1차원 텐서 만들기\n",
    "t = torch.FloatTensor([1,2,3,4,5,6,7])\n",
    "print(t)"
   ],
   "metadata": {
    "collapsed": false,
    "ExecuteTime": {
     "end_time": "2024-02-02T18:40:51.508607Z",
     "start_time": "2024-02-02T18:40:51.503775Z"
    }
   },
   "id": "32b95236d0ad33bf",
   "execution_count": 8
  },
  {
   "cell_type": "code",
   "outputs": [
    {
     "name": "stdout",
     "output_type": "stream",
     "text": [
      "1\n",
      "torch.Size([7])\n",
      "torch.Size([7])\n",
      "<class 'torch.Tensor'>\n"
     ]
    }
   ],
   "source": [
    "print(t.dim())  # rank. 즉, 차원\n",
    "print(t.shape)  # shape\n",
    "print(t.size()) # shape\n",
    "print(type(t))"
   ],
   "metadata": {
    "collapsed": false,
    "ExecuteTime": {
     "end_time": "2024-02-02T18:40:51.511969Z",
     "start_time": "2024-02-02T18:40:51.507738Z"
    }
   },
   "id": "81a77fc91ec385c",
   "execution_count": 9
  },
  {
   "cell_type": "code",
   "outputs": [
    {
     "name": "stdout",
     "output_type": "stream",
     "text": [
      "tensor(1.) tensor(2.) tensor(3.)\n",
      "t[2:5] t[4:-1]  =  tensor([3., 4., 5.]) tensor([5., 6.])\n"
     ]
    }
   ],
   "source": [
    "# 넘파이랑 마찬가지로 슬라이싱 하기\n",
    "print(t[0], t[1], t[2])\n",
    "print('t[2:5] t[4:-1]  = ', t[2:5], t[4:-1]) "
   ],
   "metadata": {
    "collapsed": false,
    "ExecuteTime": {
     "end_time": "2024-02-02T18:40:51.519267Z",
     "start_time": "2024-02-02T18:40:51.512357Z"
    }
   },
   "id": "91bb1117ce506021",
   "execution_count": 10
  },
  {
   "cell_type": "code",
   "outputs": [
    {
     "name": "stdout",
     "output_type": "stream",
     "text": [
      "tensor([[1., 2., 3.],\n",
      "        [4., 5., 6.]])\n"
     ]
    }
   ],
   "source": [
    "# 파이토치로 2차원 텐서\n",
    "t = torch.FloatTensor([[1., 2., 3.], [4,5,6]])\n",
    "print(t)"
   ],
   "metadata": {
    "collapsed": false,
    "ExecuteTime": {
     "end_time": "2024-02-02T18:40:51.530798Z",
     "start_time": "2024-02-02T18:40:51.521504Z"
    }
   },
   "id": "109ef3e00f80816d",
   "execution_count": 11
  },
  {
   "cell_type": "code",
   "outputs": [
    {
     "name": "stdout",
     "output_type": "stream",
     "text": [
      "2\n",
      "torch.Size([2, 3])\n",
      "<class 'torch.Tensor'>\n"
     ]
    }
   ],
   "source": [
    "print(t.dim())  # rank. 즉, 차원\n",
    "print(t.size()) # shape\n",
    "print(type(t))"
   ],
   "metadata": {
    "collapsed": false,
    "ExecuteTime": {
     "end_time": "2024-02-02T18:40:51.639535Z",
     "start_time": "2024-02-02T18:40:51.528697Z"
    }
   },
   "id": "4797e1a1a7275642",
   "execution_count": 12
  },
  {
   "cell_type": "code",
   "outputs": [
    {
     "name": "stdout",
     "output_type": "stream",
     "text": [
      "tensor([2., 5.])\n",
      "torch.Size([2])\n"
     ]
    }
   ],
   "source": [
    "print(t[:, 1]) # 첫번째 차원을 전체 선택한 상황에서 두번째 차원의 첫번째 것만 가져온다.\n",
    "print(t[:, 1].size()) # ↑ 위의 경우의 크기"
   ],
   "metadata": {
    "collapsed": false,
    "ExecuteTime": {
     "end_time": "2024-02-02T18:40:51.640069Z",
     "start_time": "2024-02-02T18:40:51.533345Z"
    }
   },
   "id": "41725f35c963772",
   "execution_count": 13
  },
  {
   "cell_type": "code",
   "outputs": [
    {
     "name": "stdout",
     "output_type": "stream",
     "text": [
      "tensor([[5., 5.]])\n"
     ]
    }
   ],
   "source": [
    "# 브로드 캐스팅\n",
    "# 크기가 다른 행렬 또는 텐서에서 사칙연산해야할 경우\n",
    "# 자동으로 크기를 맞춰서 연산을 수행하게 만드는 것\n",
    "\n",
    "# 같은 크기일 때 연산을 하는 경우\n",
    "m1 = torch.FloatTensor([[3, 3]])\n",
    "m2 = torch.FloatTensor([[2, 2]])\n",
    "print(m1 + m2)\n"
   ],
   "metadata": {
    "collapsed": false,
    "ExecuteTime": {
     "end_time": "2024-02-02T18:40:51.654004Z",
     "start_time": "2024-02-02T18:40:51.543127Z"
    }
   },
   "id": "17643d47921e2eb5",
   "execution_count": 14
  },
  {
   "cell_type": "code",
   "outputs": [
    {
     "name": "stdout",
     "output_type": "stream",
     "text": [
      "tensor([[4., 5.]])\n"
     ]
    }
   ],
   "source": [
    "# Vector + scalar\n",
    "m1 = torch.FloatTensor([[1, 2]])\n",
    "m2 = torch.FloatTensor([3]) # [3] -> [3, 3]\n",
    "print(m1 + m2)"
   ],
   "metadata": {
    "collapsed": false,
    "ExecuteTime": {
     "end_time": "2024-02-02T18:40:51.660292Z",
     "start_time": "2024-02-02T18:40:51.547082Z"
    }
   },
   "id": "22d9b870c49bdf90",
   "execution_count": 15
  },
  {
   "cell_type": "code",
   "outputs": [
    {
     "name": "stdout",
     "output_type": "stream",
     "text": [
      "tensor([[4., 5.],\n",
      "        [5., 6.]])\n"
     ]
    }
   ],
   "source": [
    "# 2 x 1 Vector + 1 x 2 Vector\n",
    "m1 = torch.FloatTensor([[1, 2]])\n",
    "# [1 2]\n",
    "# [1 2]\n",
    "\n",
    "m2 = torch.FloatTensor([[3], [4]])\n",
    "# [3 3]\n",
    "# [4 4]\n",
    "\n",
    "print(m1 + m2)"
   ],
   "metadata": {
    "collapsed": false,
    "ExecuteTime": {
     "end_time": "2024-02-02T18:40:51.661959Z",
     "start_time": "2024-02-02T18:40:51.555248Z"
    }
   },
   "id": "d0bba7be6fbb13c3",
   "execution_count": 16
  },
  {
   "cell_type": "markdown",
   "source": [
    "## 4. 자주 사용되는 기능\n",
    "### 1. 행렬 곱셈과 곱셈의 차이\n",
    "행렬곱셉(.matmul)과 원소별 곱셈(.mul)의 차이에 대해 알아야함"
   ],
   "metadata": {
    "collapsed": false
   },
   "id": "d7493ea2c1e53ede"
  },
  {
   "cell_type": "code",
   "outputs": [
    {
     "name": "stdout",
     "output_type": "stream",
     "text": [
      "Shape of Matrix 1:  torch.Size([2, 2])\n",
      "Shape of Matrix 2:  torch.Size([2, 1])\n",
      "tensor([[ 5.],\n",
      "        [11.]])\n"
     ]
    }
   ],
   "source": [
    "# 텐서의 행렬 곱셈\n",
    "m1 = torch.FloatTensor([[1, 2], [3, 4]])\n",
    "m2 = torch.FloatTensor([[1], [2]])\n",
    "print('Shape of Matrix 1: ', m1.shape) # 2 x 2\n",
    "print('Shape of Matrix 2: ', m2.shape) # 2 x 1\n",
    "print(m1.matmul(m2)) # 2 x 1"
   ],
   "metadata": {
    "collapsed": false,
    "ExecuteTime": {
     "end_time": "2024-02-02T18:40:51.663860Z",
     "start_time": "2024-02-02T18:40:51.559407Z"
    }
   },
   "id": "9d109c659fc3fd3e",
   "execution_count": 17
  },
  {
   "cell_type": "code",
   "outputs": [
    {
     "name": "stdout",
     "output_type": "stream",
     "text": [
      "Shape of Matrix 1:  torch.Size([2, 2])\n",
      "Shape of Matrix 2:  torch.Size([2, 1])\n",
      "tensor([[1., 2.],\n",
      "        [6., 8.]])\n",
      "tensor([[1., 2.],\n",
      "        [6., 8.]])\n"
     ]
    }
   ],
   "source": [
    "# 원소별 곱셈\n",
    "# 원소별 곱셈은 *를 이용하거나 .mul 함수를 사용하면 됨\n",
    "m1 = torch.FloatTensor([[1, 2], [3, 4]])\n",
    "m2 = torch.FloatTensor([[1], [2]])\n",
    "print('Shape of Matrix 1: ', m1.shape) # 2 x 2\n",
    "print('Shape of Matrix 2: ', m2.shape) # 2 x 1\n",
    "print(m1 * m2) # 2 x 2\n",
    "print(m1.mul(m2))\n"
   ],
   "metadata": {
    "collapsed": false,
    "ExecuteTime": {
     "end_time": "2024-02-02T18:40:51.806739Z",
     "start_time": "2024-02-02T18:40:51.562662Z"
    }
   },
   "id": "40a1ddb5db9c2347",
   "execution_count": 18
  },
  {
   "cell_type": "markdown",
   "source": [
    "### 2. mean() 함수"
   ],
   "metadata": {
    "collapsed": false
   },
   "id": "9ddcf27e014d9958"
  },
  {
   "cell_type": "code",
   "outputs": [
    {
     "data": {
      "text/plain": "tensor(1.5000)"
     },
     "execution_count": 19,
     "metadata": {},
     "output_type": "execute_result"
    }
   ],
   "source": [
    "# 1차원 벡터의 원소의 평균 구하기\n",
    "t = torch.FloatTensor([1, 2])\n",
    "t.mean()"
   ],
   "metadata": {
    "collapsed": false,
    "ExecuteTime": {
     "end_time": "2024-02-02T18:40:51.839545Z",
     "start_time": "2024-02-02T18:40:51.570628Z"
    }
   },
   "id": "929d404b41068b77",
   "execution_count": 19
  },
  {
   "cell_type": "code",
   "outputs": [
    {
     "name": "stdout",
     "output_type": "stream",
     "text": [
      "tensor([[1., 2.],\n",
      "        [3., 4.]])\n",
      "tensor(2.5000)\n"
     ]
    }
   ],
   "source": [
    "t = torch.FloatTensor([[1, 2], [3, 4]])\n",
    "print(t)\n",
    "print(t.mean())"
   ],
   "metadata": {
    "collapsed": false,
    "ExecuteTime": {
     "end_time": "2024-02-02T18:40:51.841129Z",
     "start_time": "2024-02-02T18:40:51.574761Z"
    }
   },
   "id": "96d63ef9b11ef0ff",
   "execution_count": 20
  },
  {
   "cell_type": "code",
   "outputs": [
    {
     "name": "stdout",
     "output_type": "stream",
     "text": [
      "tensor([2., 3.])\n"
     ]
    }
   ],
   "source": [
    "# 차원을 기준으로 평균 구하기 \n",
    "# 여기서 0은 첫번째 차원을 의미하고, 첫번째 차원은 행을 의미함\n",
    "# 따라서 첫번째 차원을 제거하면서 계산을 함\n",
    "# (2,2) 에서 첫번째 차원을 1로 만들어 (1,2)가 됨\n",
    "\n",
    "# 1과 3의 평균을 구하고 2와 4의 평균을 구함\n",
    "\n",
    "print(t.mean(dim = 0))"
   ],
   "metadata": {
    "collapsed": false,
    "ExecuteTime": {
     "end_time": "2024-02-02T18:40:51.842614Z",
     "start_time": "2024-02-02T18:40:51.579117Z"
    }
   },
   "id": "b3605554bcbd6099",
   "execution_count": 21
  },
  {
   "cell_type": "markdown",
   "source": [
    "## 3. sum() 함수"
   ],
   "metadata": {
    "collapsed": false
   },
   "id": "a09ee9af64f6ff77"
  },
  {
   "cell_type": "code",
   "outputs": [
    {
     "name": "stdout",
     "output_type": "stream",
     "text": [
      "tensor([[1., 2.],\n",
      "        [3., 4.]])\n"
     ]
    }
   ],
   "source": [
    "t = torch.FloatTensor([[1, 2], [3, 4]])\n",
    "print(t)"
   ],
   "metadata": {
    "collapsed": false,
    "ExecuteTime": {
     "end_time": "2024-02-02T18:40:51.843929Z",
     "start_time": "2024-02-02T18:40:51.585922Z"
    }
   },
   "id": "950591aa34bdba9d",
   "execution_count": 22
  },
  {
   "cell_type": "code",
   "outputs": [
    {
     "name": "stdout",
     "output_type": "stream",
     "text": [
      "tensor(10.)\n",
      "tensor([4., 6.])\n",
      "tensor([3., 7.])\n",
      "tensor([3., 7.])\n"
     ]
    }
   ],
   "source": [
    "print(t.sum()) # 단순히 원소 전체의 덧셈을 수행\n",
    "print(t.sum(dim=0)) # 행을 제거\n",
    "print(t.sum(dim=1)) # 열을 제거\n",
    "print(t.sum(dim=-1)) # 열을 제거"
   ],
   "metadata": {
    "collapsed": false,
    "ExecuteTime": {
     "end_time": "2024-02-02T18:40:51.855662Z",
     "start_time": "2024-02-02T18:40:51.589916Z"
    }
   },
   "id": "921ebffaaaf8ff27",
   "execution_count": 23
  },
  {
   "cell_type": "markdown",
   "source": [
    "4. max와 argmax\n",
    "max는 원소의 최대값을, argmax는 최대값을 가진 인덱스를 반환함"
   ],
   "metadata": {
    "collapsed": false
   },
   "id": "b26bb19d8b6839da"
  },
  {
   "cell_type": "code",
   "outputs": [
    {
     "name": "stdout",
     "output_type": "stream",
     "text": [
      "tensor([[1., 2.],\n",
      "        [3., 4.]])\n"
     ]
    }
   ],
   "source": [
    "t = torch.FloatTensor([[1, 2], [3, 4]])\n",
    "print(t)"
   ],
   "metadata": {
    "collapsed": false,
    "ExecuteTime": {
     "end_time": "2024-02-02T18:40:51.857662Z",
     "start_time": "2024-02-02T18:40:51.594811Z"
    }
   },
   "id": "5b7073e7b191831f",
   "execution_count": 24
  },
  {
   "cell_type": "code",
   "outputs": [
    {
     "data": {
      "text/plain": "tensor(4.)"
     },
     "execution_count": 25,
     "metadata": {},
     "output_type": "execute_result"
    }
   ],
   "source": [
    "t.max()"
   ],
   "metadata": {
    "collapsed": false,
    "ExecuteTime": {
     "end_time": "2024-02-02T18:40:51.859330Z",
     "start_time": "2024-02-02T18:40:51.600389Z"
    }
   },
   "id": "f85498a13f6cecb",
   "execution_count": 25
  },
  {
   "cell_type": "code",
   "outputs": [
    {
     "data": {
      "text/plain": "torch.return_types.max(\nvalues=tensor([3., 4.]),\nindices=tensor([1, 1]))"
     },
     "execution_count": 26,
     "metadata": {},
     "output_type": "execute_result"
    }
   ],
   "source": [
    "t.max(dim=0)\n",
    "# 첫번째 차원을 제거한다는 의미\n",
    "# 최대값은 [3 4]\n",
    "# 이때 max에 dim 인자를 주면 argmax도 함께 return 하기때문"
   ],
   "metadata": {
    "collapsed": false,
    "ExecuteTime": {
     "end_time": "2024-02-02T18:40:51.869974Z",
     "start_time": "2024-02-02T18:40:51.604098Z"
    }
   },
   "id": "e7251af03f8c069a",
   "execution_count": 26
  },
  {
   "cell_type": "code",
   "outputs": [
    {
     "name": "stdout",
     "output_type": "stream",
     "text": [
      "Max:  tensor([3., 4.])\n",
      "Argmax:  tensor([1, 1])\n"
     ]
    }
   ],
   "source": [
    "print('Max: ', t.max(dim=0)[0])\n",
    "print('Argmax: ', t.max(dim=0)[1])"
   ],
   "metadata": {
    "collapsed": false,
    "ExecuteTime": {
     "end_time": "2024-02-02T18:40:51.874232Z",
     "start_time": "2024-02-02T18:40:51.609471Z"
    }
   },
   "id": "dbbad4c96bb7225c",
   "execution_count": 27
  },
  {
   "cell_type": "code",
   "outputs": [
    {
     "name": "stdout",
     "output_type": "stream",
     "text": [
      "torch.return_types.max(\n",
      "values=tensor([2., 4.]),\n",
      "indices=tensor([1, 1]))\n",
      "torch.return_types.max(\n",
      "values=tensor([2., 4.]),\n",
      "indices=tensor([1, 1]))\n"
     ]
    }
   ],
   "source": [
    "print(t.max(dim=1))\n",
    "print(t.max(dim=-1))\n"
   ],
   "metadata": {
    "collapsed": false,
    "ExecuteTime": {
     "end_time": "2024-02-02T18:40:51.874449Z",
     "start_time": "2024-02-02T18:40:51.612698Z"
    }
   },
   "id": "9baccf2c0114eca7",
   "execution_count": 28
  },
  {
   "cell_type": "markdown",
   "source": [
    "## 4. 뷰 - 원소의 수 유지하면서 크기 변경 (중요함)\n",
    "파이토치의 뷰는 넘파이에서 reshape와 같은 역할을 함"
   ],
   "metadata": {
    "collapsed": false
   },
   "id": "4633a72de0d69a44"
  },
  {
   "cell_type": "code",
   "outputs": [
    {
     "name": "stdout",
     "output_type": "stream",
     "text": [
      "torch.Size([2, 2, 3])\n"
     ]
    }
   ],
   "source": [
    "t = np.array([[[0, 1, 2],\n",
    "               [3, 4, 5]],\n",
    "              [[6, 7, 8],\n",
    "               [9, 10, 11]]])\n",
    "ft = torch.FloatTensor(t)\n",
    "print(ft.shape)"
   ],
   "metadata": {
    "collapsed": false,
    "ExecuteTime": {
     "end_time": "2024-02-02T18:40:51.875715Z",
     "start_time": "2024-02-02T18:40:51.619575Z"
    }
   },
   "id": "fae8dafa6af3e94c",
   "execution_count": 29
  },
  {
   "cell_type": "code",
   "outputs": [
    {
     "name": "stdout",
     "output_type": "stream",
     "text": [
      "tensor([[ 0.,  1.,  2.],\n",
      "        [ 3.,  4.,  5.],\n",
      "        [ 6.,  7.,  8.],\n",
      "        [ 9., 10., 11.]])\n",
      "torch.Size([4, 3])\n"
     ]
    }
   ],
   "source": [
    "# 3차원 텐서에서 2차원 텐서로 변환\n",
    "\n",
    "print(ft.view([-1, 3])) # ft라는 텐서를 (?, 3)의 크기로 변경\n",
    "print(ft.view([-1, 3]).shape)\n",
    "\n",
    "# -1은 첫번째 차원은 파이토치에게 맡기겠다는 것 \n",
    "# (2, 2, 3) -> (2 × 2, 3) -> (4, 3)\n",
    "\n",
    "# 규칙\n",
    "# view는 기본적으로 변경 전과 변경 후의 텐서 안의 원소의 개수가 유지되어야 합니다.\n",
    "# 파이토치의 view는 사이즈가 -1로 설정되면 다른 차원으로부터 해당 값을 유추합니다."
   ],
   "metadata": {
    "collapsed": false,
    "ExecuteTime": {
     "end_time": "2024-02-02T18:40:51.878030Z",
     "start_time": "2024-02-02T18:40:51.622702Z"
    }
   },
   "id": "d103ddc6a8e758a4",
   "execution_count": 30
  },
  {
   "cell_type": "code",
   "outputs": [
    {
     "name": "stdout",
     "output_type": "stream",
     "text": [
      "tensor([[[ 0.,  1.,  2.]],\n",
      "\n",
      "        [[ 3.,  4.,  5.]],\n",
      "\n",
      "        [[ 6.,  7.,  8.]],\n",
      "\n",
      "        [[ 9., 10., 11.]]])\n",
      "torch.Size([4, 1, 3])\n"
     ]
    }
   ],
   "source": [
    "# 3차원에서 3차원으로 변경\n",
    "# (2x2x3) = (? x 1 x 3) = 12 를 만족하게 하려면 ?는 4가 됨\n",
    "print(ft.view([-1, 1, 3]))\n",
    "print(ft.view([-1, 1, 3]).shape)\n"
   ],
   "metadata": {
    "collapsed": false,
    "ExecuteTime": {
     "end_time": "2024-02-02T18:40:51.879232Z",
     "start_time": "2024-02-02T18:40:51.627425Z"
    }
   },
   "id": "3493f8fd951b9e13",
   "execution_count": 31
  },
  {
   "cell_type": "markdown",
   "source": [
    "### 5. squeeze - 1인 차원을 제거한다."
   ],
   "metadata": {
    "collapsed": false
   },
   "id": "354c5a233a58166f"
  },
  {
   "cell_type": "code",
   "outputs": [
    {
     "name": "stdout",
     "output_type": "stream",
     "text": [
      "tensor([[0.],\n",
      "        [1.],\n",
      "        [2.]])\n",
      "torch.Size([3, 1])\n"
     ]
    }
   ],
   "source": [
    "ft = torch.FloatTensor([[0], [1], [2]])\n",
    "print(ft)\n",
    "print(ft.shape)"
   ],
   "metadata": {
    "collapsed": false,
    "ExecuteTime": {
     "end_time": "2024-02-02T18:40:51.892922Z",
     "start_time": "2024-02-02T18:40:51.633094Z"
    }
   },
   "id": "39840be288ff994d",
   "execution_count": 32
  },
  {
   "cell_type": "code",
   "outputs": [
    {
     "name": "stdout",
     "output_type": "stream",
     "text": [
      "tensor([0., 1., 2.])\n",
      "torch.Size([3])\n"
     ]
    }
   ],
   "source": [
    "print(ft.squeeze())\n",
    "print(ft.squeeze().shape)"
   ],
   "metadata": {
    "collapsed": false,
    "ExecuteTime": {
     "end_time": "2024-02-02T18:40:51.907092Z",
     "start_time": "2024-02-02T18:40:51.639094Z"
    }
   },
   "id": "3ab2ebd9addb044d",
   "execution_count": 33
  },
  {
   "cell_type": "markdown",
   "source": [
    "## unsqueeze - 특정 위치에 1인 차원을 추가한다.\n"
   ],
   "metadata": {
    "collapsed": false
   },
   "id": "33ea3f19be13ff61"
  },
  {
   "cell_type": "code",
   "outputs": [
    {
     "name": "stdout",
     "output_type": "stream",
     "text": [
      "torch.Size([3])\n"
     ]
    }
   ],
   "source": [
    "ft = torch.Tensor([0, 1, 2])\n",
    "print(ft.shape)"
   ],
   "metadata": {
    "collapsed": false,
    "ExecuteTime": {
     "end_time": "2024-02-02T18:40:51.921450Z",
     "start_time": "2024-02-02T18:40:51.655603Z"
    }
   },
   "id": "b47a45dfafc462e5",
   "execution_count": 34
  },
  {
   "cell_type": "code",
   "outputs": [
    {
     "name": "stdout",
     "output_type": "stream",
     "text": [
      "tensor([[0., 1., 2.]])\n",
      "torch.Size([1, 3])\n"
     ]
    }
   ],
   "source": [
    "print(ft.unsqueeze(0))\n",
    "print(ft.unsqueeze(0).shape)"
   ],
   "metadata": {
    "collapsed": false,
    "ExecuteTime": {
     "end_time": "2024-02-02T18:40:51.956533Z",
     "start_time": "2024-02-02T18:40:51.660850Z"
    }
   },
   "id": "d6d281f8d9168984",
   "execution_count": 35
  },
  {
   "cell_type": "code",
   "outputs": [
    {
     "name": "stdout",
     "output_type": "stream",
     "text": [
      "tensor([[0., 1., 2.]])\n",
      "torch.Size([1, 3])\n"
     ]
    }
   ],
   "source": [
    "# view 에서도 똑같이 구현 가능\n",
    "print(ft.view(1,-1))\n",
    "print(ft.view(1,-1).shape)"
   ],
   "metadata": {
    "collapsed": false,
    "ExecuteTime": {
     "end_time": "2024-02-02T18:40:51.958892Z",
     "start_time": "2024-02-02T18:40:51.668056Z"
    }
   },
   "id": "ecfe10731a2f73ce",
   "execution_count": 36
  },
  {
   "cell_type": "code",
   "outputs": [
    {
     "name": "stdout",
     "output_type": "stream",
     "text": [
      "tensor([[0.],\n",
      "        [1.],\n",
      "        [2.]])\n",
      "torch.Size([3, 1])\n"
     ]
    }
   ],
   "source": [
    "# -1은 인덱스상에서 마지막 차원을 의미함.\n",
    "print(ft.unsqueeze(-1))\n",
    "print(ft.unsqueeze(-1).shape)"
   ],
   "metadata": {
    "collapsed": false,
    "ExecuteTime": {
     "end_time": "2024-02-02T18:40:51.960208Z",
     "start_time": "2024-02-02T18:40:51.672588Z"
    }
   },
   "id": "d8c9ec82188462e",
   "execution_count": 37
  },
  {
   "cell_type": "markdown",
   "source": [
    "### 7. 타입 캐스팅\n",
    "텐서에는 자료형이 있음\n",
    "예를 들면 64비트 부호가 있는 정수는 torch.LongTensor 가 있고\n",
    "GPU 연산을 위한 자료형도 있는데 예를 들면 corch.cuda.FloatTensor가 있음\n",
    "\n",
    "이때 타입을 변환하는걸 타입 캐스팅이라고 함\n"
   ],
   "metadata": {
    "collapsed": false
   },
   "id": "8075793a2e18882c"
  },
  {
   "cell_type": "code",
   "outputs": [
    {
     "name": "stdout",
     "output_type": "stream",
     "text": [
      "tensor([1, 2, 3, 4])\n"
     ]
    }
   ],
   "source": [
    "lt = torch.LongTensor([1, 2, 3, 4])\n",
    "print(lt)\n"
   ],
   "metadata": {
    "collapsed": false,
    "ExecuteTime": {
     "end_time": "2024-02-02T18:40:51.961217Z",
     "start_time": "2024-02-02T18:40:51.676381Z"
    }
   },
   "id": "8df1b8a6cef1c33a",
   "execution_count": 38
  },
  {
   "cell_type": "code",
   "outputs": [
    {
     "name": "stdout",
     "output_type": "stream",
     "text": [
      "tensor([1., 2., 3., 4.])\n"
     ]
    }
   ],
   "source": [
    "# 텐서 뒤에 .float()를 붙이면 타입이 변경됨\n",
    "print(lt.float())"
   ],
   "metadata": {
    "collapsed": false,
    "ExecuteTime": {
     "end_time": "2024-02-02T18:40:51.962327Z",
     "start_time": "2024-02-02T18:40:51.681077Z"
    }
   },
   "id": "16ff54702f2439c0",
   "execution_count": 39
  },
  {
   "cell_type": "code",
   "outputs": [
    {
     "data": {
      "text/plain": "tensor([1, 1, 0, 1], dtype=torch.uint8)"
     },
     "execution_count": 40,
     "metadata": {},
     "output_type": "execute_result"
    }
   ],
   "source": [
    "# 바이트 타입 텐서 선언\n",
    "bt = torch.ByteTensor([True,True,False,True])\n",
    "bt"
   ],
   "metadata": {
    "collapsed": false,
    "ExecuteTime": {
     "end_time": "2024-02-02T18:40:52.586345Z",
     "start_time": "2024-02-02T18:40:51.684982Z"
    }
   },
   "id": "8f664e714a4ccae",
   "execution_count": 40
  },
  {
   "cell_type": "code",
   "outputs": [
    {
     "name": "stdout",
     "output_type": "stream",
     "text": [
      "tensor([1, 1, 0, 1])\n",
      "tensor([1., 1., 0., 1.])\n"
     ]
    }
   ],
   "source": [
    "# 타입 변환해보기\n",
    "print(bt.long())\n",
    "print(bt.float())"
   ],
   "metadata": {
    "collapsed": false,
    "ExecuteTime": {
     "end_time": "2024-02-02T18:40:52.590307Z",
     "start_time": "2024-02-02T18:40:51.699380Z"
    }
   },
   "id": "e2978fd5ea88784f",
   "execution_count": 41
  },
  {
   "cell_type": "markdown",
   "source": [
    "### 8. 연결하기(concatenate)\n",
    "두 텐서를 연결하기 "
   ],
   "metadata": {
    "collapsed": false
   },
   "id": "bf904e7ac859344b"
  },
  {
   "cell_type": "code",
   "outputs": [],
   "source": [
    "# 2X2 텐서를 2개 만듬\n",
    "x = torch.FloatTensor([[1, 2], [3, 4]])\n",
    "y = torch.FloatTensor([[5, 6], [7, 8]])"
   ],
   "metadata": {
    "collapsed": false,
    "ExecuteTime": {
     "end_time": "2024-02-02T18:40:52.637518Z",
     "start_time": "2024-02-02T18:40:51.706831Z"
    }
   },
   "id": "2956c7054be4eddd",
   "execution_count": 42
  },
  {
   "cell_type": "code",
   "outputs": [
    {
     "name": "stdout",
     "output_type": "stream",
     "text": [
      "tensor([[1., 2.],\n",
      "        [3., 4.],\n",
      "        [5., 6.],\n",
      "        [7., 8.]])\n"
     ]
    }
   ],
   "source": [
    "# torch.cat 함수를 이용해 연결하기\n",
    "# 이때 어느 차원을 늘린것인지 인자로 줄 수 있음\n",
    "print(torch.cat([x,y],dim=0))"
   ],
   "metadata": {
    "collapsed": false,
    "ExecuteTime": {
     "end_time": "2024-02-02T18:40:52.639581Z",
     "start_time": "2024-02-02T18:40:51.710613Z"
    }
   },
   "id": "a45e3ed9be39ddb0",
   "execution_count": 43
  },
  {
   "cell_type": "code",
   "outputs": [
    {
     "name": "stdout",
     "output_type": "stream",
     "text": [
      "tensor([[1., 2., 5., 6.],\n",
      "        [3., 4., 7., 8.]])\n"
     ]
    }
   ],
   "source": [
    "print(torch.cat([x,y],dim=1))"
   ],
   "metadata": {
    "collapsed": false,
    "ExecuteTime": {
     "end_time": "2024-02-02T18:40:52.666106Z",
     "start_time": "2024-02-02T18:40:51.721037Z"
    }
   },
   "id": "52044f8b51e2764c",
   "execution_count": 44
  },
  {
   "cell_type": "markdown",
   "source": [
    "### 9. 스태킹(stacking)\n",
    "연결을 하는 또다른 방법으로 스택킹이 있음\n",
    "연결보다 스태킹이 더편할 때가 있음"
   ],
   "metadata": {
    "collapsed": false
   },
   "id": "90f6b8c746a8b22d"
  },
  {
   "cell_type": "code",
   "outputs": [],
   "source": [
    "# 크기가 (2,)로 동일한 3개의 벡터를 만듬\n",
    "x = torch.FloatTensor([1, 4])\n",
    "y = torch.FloatTensor([2, 5])\n",
    "z = torch.FloatTensor([3, 6])"
   ],
   "metadata": {
    "collapsed": false,
    "ExecuteTime": {
     "end_time": "2024-02-02T18:40:52.668935Z",
     "start_time": "2024-02-02T18:40:51.727816Z"
    }
   },
   "id": "fd3c01d9469b78f1",
   "execution_count": 45
  },
  {
   "cell_type": "code",
   "outputs": [
    {
     "name": "stdout",
     "output_type": "stream",
     "text": [
      "tensor([[1., 4.],\n",
      "        [2., 5.],\n",
      "        [3., 6.]])\n"
     ]
    }
   ],
   "source": [
    "print(torch.stack([x,y,z]))"
   ],
   "metadata": {
    "collapsed": false,
    "ExecuteTime": {
     "end_time": "2024-02-02T18:40:52.670780Z",
     "start_time": "2024-02-02T18:40:51.733216Z"
    }
   },
   "id": "7e9f2898cb0e5743",
   "execution_count": 46
  },
  {
   "cell_type": "code",
   "outputs": [
    {
     "name": "stdout",
     "output_type": "stream",
     "text": [
      "tensor([[1., 4.],\n",
      "        [2., 5.],\n",
      "        [3., 6.]])\n"
     ]
    }
   ],
   "source": [
    "# 벡터가 순차적으로 쌓여서 3X2 텐서가 된걸 볼 수 있음\n",
    "# 스태킹은 아래의 연산을 축약하고 있음\n",
    "\n",
    "print(torch.cat([x.unsqueeze(0), y.unsqueeze(0), z.unsqueeze(0)], dim=0))\n",
    "# x,y,z는 (2,)크기를 갖는데 unsqueeze(0)으로 전부 (1,2)로 바꾸고\n",
    "# cat로 연결해준것"
   ],
   "metadata": {
    "collapsed": false,
    "ExecuteTime": {
     "end_time": "2024-02-02T18:40:52.684829Z",
     "start_time": "2024-02-02T18:40:51.742202Z"
    }
   },
   "id": "bcba1a37b6c65fc1",
   "execution_count": 47
  },
  {
   "cell_type": "code",
   "outputs": [
    {
     "name": "stdout",
     "output_type": "stream",
     "text": [
      "tensor([[1., 2., 3.],\n",
      "        [4., 5., 6.]])\n"
     ]
    }
   ],
   "source": [
    "# 두번째 차원이 증가하도록 쌓으라는 의미로 사용도 가능\n",
    "print(torch.stack([x, y, z], dim=1))"
   ],
   "metadata": {
    "collapsed": false,
    "ExecuteTime": {
     "end_time": "2024-02-02T18:40:52.690284Z",
     "start_time": "2024-02-02T18:40:51.746345Z"
    }
   },
   "id": "a32965a96cce4515",
   "execution_count": 48
  },
  {
   "cell_type": "markdown",
   "source": [
    "### 10. ones_like 와 zeros_like\n",
    " 0으로 채워진 텐서, 1로 채워진 텐서\n"
   ],
   "metadata": {
    "collapsed": false
   },
   "id": "5c1549719c2e8c26"
  },
  {
   "cell_type": "code",
   "outputs": [
    {
     "name": "stdout",
     "output_type": "stream",
     "text": [
      "tensor([[0., 1., 2.],\n",
      "        [2., 1., 0.]])\n"
     ]
    }
   ],
   "source": [
    "x = torch.FloatTensor([[0, 1, 2], [2, 1, 0]])\n",
    "print(x)"
   ],
   "metadata": {
    "collapsed": false,
    "ExecuteTime": {
     "end_time": "2024-02-02T18:40:52.708551Z",
     "start_time": "2024-02-02T18:40:51.756236Z"
    }
   },
   "id": "eded90317e5e2536",
   "execution_count": 49
  },
  {
   "cell_type": "code",
   "outputs": [
    {
     "name": "stdout",
     "output_type": "stream",
     "text": [
      "tensor([[1., 1., 1.],\n",
      "        [1., 1., 1.]])\n"
     ]
    }
   ],
   "source": [
    "# 이 텐서에서 입력 크기는 동일하게 가면서 값을 1로 채우기\n",
    "print(torch.ones_like(x))"
   ],
   "metadata": {
    "collapsed": false,
    "ExecuteTime": {
     "end_time": "2024-02-02T18:40:52.711120Z",
     "start_time": "2024-02-02T18:40:51.770959Z"
    }
   },
   "id": "1012e604268cfac9",
   "execution_count": 50
  },
  {
   "cell_type": "code",
   "outputs": [
    {
     "name": "stdout",
     "output_type": "stream",
     "text": [
      "tensor([[0., 0., 0.],\n",
      "        [0., 0., 0.]])\n"
     ]
    }
   ],
   "source": [
    "# 마찬가지로 0으로 채우기\n",
    "print(torch.zeros_like(x))"
   ],
   "metadata": {
    "collapsed": false,
    "ExecuteTime": {
     "end_time": "2024-02-02T18:40:52.718476Z",
     "start_time": "2024-02-02T18:40:51.774784Z"
    }
   },
   "id": "e1e7c7fa5b4e193f",
   "execution_count": 51
  },
  {
   "cell_type": "markdown",
   "source": [
    "### 11. in-place 연산(덮어쓰기 연산)"
   ],
   "metadata": {
    "collapsed": false
   },
   "id": "a0bccfd1bb2c0b53"
  },
  {
   "cell_type": "code",
   "outputs": [],
   "source": [
    "x = torch.FloatTensor([[1, 2], [3, 4]])"
   ],
   "metadata": {
    "collapsed": false,
    "ExecuteTime": {
     "end_time": "2024-02-02T18:40:52.722109Z",
     "start_time": "2024-02-02T18:40:51.778409Z"
    }
   },
   "id": "fcf7889e59de0260",
   "execution_count": 52
  },
  {
   "cell_type": "code",
   "outputs": [
    {
     "name": "stdout",
     "output_type": "stream",
     "text": [
      "tensor([[2., 4.],\n",
      "        [6., 8.]])\n",
      "tensor([[1., 2.],\n",
      "        [3., 4.]])\n"
     ]
    }
   ],
   "source": [
    "# 이렇게 하면 기존의 값은 바뀌지 않음\n",
    "print(x.mul(2.)) # 곱하기 2를 수행한 결과를 출력\n",
    "print(x) # 기존의 값 출력"
   ],
   "metadata": {
    "collapsed": false,
    "ExecuteTime": {
     "end_time": "2024-02-02T18:40:52.731024Z",
     "start_time": "2024-02-02T18:40:51.782104Z"
    }
   },
   "id": "f0bcd0127547dc19",
   "execution_count": 53
  },
  {
   "cell_type": "code",
   "outputs": [
    {
     "name": "stdout",
     "output_type": "stream",
     "text": [
      "tensor([[2., 4.],\n",
      "        [6., 8.]])\n",
      "tensor([[2., 4.],\n",
      "        [6., 8.]])\n"
     ]
    }
   ],
   "source": [
    "# 덮어쓰기를 하려면 연산 뒤에 _를 붙이면 기존 값에 덮어쓰기를 함\n",
    "print(x.mul_(2.))  # 곱하기 2를 수행한 결과를 변수 x에 값을 저장하면서 결과를 출력\n",
    "print(x) # 기존의 값 출력"
   ],
   "metadata": {
    "collapsed": false,
    "ExecuteTime": {
     "end_time": "2024-02-02T18:40:52.735124Z",
     "start_time": "2024-02-02T18:40:51.788313Z"
    }
   },
   "id": "21c4a1cef2776fe2",
   "execution_count": 54
  }
 ],
 "metadata": {
  "kernelspec": {
   "display_name": "Python 3",
   "language": "python",
   "name": "python3"
  },
  "language_info": {
   "codemirror_mode": {
    "name": "ipython",
    "version": 2
   },
   "file_extension": ".py",
   "mimetype": "text/x-python",
   "name": "python",
   "nbconvert_exporter": "python",
   "pygments_lexer": "ipython2",
   "version": "2.7.6"
  }
 },
 "nbformat": 4,
 "nbformat_minor": 5
}
