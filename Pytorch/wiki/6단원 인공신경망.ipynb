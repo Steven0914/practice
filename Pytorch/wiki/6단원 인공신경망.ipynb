{
 "cells": [
  {
   "cell_type": "markdown",
   "source": [
    "## 6-7 다층 퍼셉트론으로 손글씨 분류하기\n",
    "mnist와 다른 데이터 셋임"
   ],
   "metadata": {
    "collapsed": false
   },
   "id": "a996cab623aae6c6"
  },
  {
   "cell_type": "code",
   "outputs": [],
   "source": [
    "%matplotlib inline\n",
    "import matplotlib.pyplot as plt\n",
    "from sklearn.datasets import load_digits\n",
    "digits = load_digits() # 1979개의 이미지 데이터 로드"
   ],
   "metadata": {
    "collapsed": false,
    "ExecuteTime": {
     "end_time": "2024-02-17T14:42:44.183138Z",
     "start_time": "2024-02-17T14:42:43.124704Z"
    }
   },
   "id": "425f703d07699423",
   "execution_count": 1
  },
  {
   "cell_type": "code",
   "outputs": [
    {
     "name": "stdout",
     "output_type": "stream",
     "text": [
      "[[ 0.  0.  5. 13.  9.  1.  0.  0.]\n",
      " [ 0.  0. 13. 15. 10. 15.  5.  0.]\n",
      " [ 0.  3. 15.  2.  0. 11.  8.  0.]\n",
      " [ 0.  4. 12.  0.  0.  8.  8.  0.]\n",
      " [ 0.  5.  8.  0.  0.  9.  8.  0.]\n",
      " [ 0.  4. 11.  0.  1. 12.  7.  0.]\n",
      " [ 0.  2. 14.  5. 10. 12.  0.  0.]\n",
      " [ 0.  0.  6. 13. 10.  0.  0.  0.]]\n"
     ]
    }
   ],
   "source": [
    "print(digits.images[0])\n",
    "# .images[인덱스]로 이미지 데이터를 확인할 수 있음"
   ],
   "metadata": {
    "collapsed": false,
    "ExecuteTime": {
     "end_time": "2024-02-17T14:42:44.188576Z",
     "start_time": "2024-02-17T14:42:44.184205Z"
    }
   },
   "id": "6ff3fad3d529c6e7",
   "execution_count": 2
  },
  {
   "cell_type": "code",
   "execution_count": 3,
   "id": "initial_id",
   "metadata": {
    "collapsed": true,
    "ExecuteTime": {
     "end_time": "2024-02-17T14:42:44.190005Z",
     "start_time": "2024-02-17T14:42:44.187085Z"
    }
   },
   "outputs": [
    {
     "name": "stdout",
     "output_type": "stream",
     "text": [
      "전체 샘플의 수 : 1797\n"
     ]
    }
   ],
   "source": [
    "print('전체 샘플의 수 : {}'.format(len(digits.images)))\n"
   ]
  },
  {
   "cell_type": "code",
   "outputs": [
    {
     "data": {
      "text/plain": "<Figure size 640x480 with 5 Axes>",
      "image/png": "[encoded data removed]"
     },
     "metadata": {},
     "output_type": "display_data"
    }
   ],
   "source": [
    "images_and_labels = list(zip(digits.images, digits.target))\n",
    "for index, (image, label) in enumerate(images_and_labels[:5]): # 5개의 샘플만 출력\n",
    "    plt.subplot(2, 5, index + 1)\n",
    "    plt.axis('off')\n",
    "    plt.imshow(image, cmap=plt.cm.gray_r, interpolation='nearest')\n",
    "    plt.title('sample: %i' % label)\n"
   ],
   "metadata": {
    "collapsed": false,
    "ExecuteTime": {
     "end_time": "2024-02-17T14:42:44.351505Z",
     "start_time": "2024-02-17T14:42:44.193829Z"
    }
   },
   "id": "19c8b358a0c48f7d",
   "execution_count": 4
  },
  {
   "cell_type": "code",
   "outputs": [
    {
     "name": "stdout",
     "output_type": "stream",
     "text": [
      "0 번 인덱스 샘플의 레이블 :  0\n",
      "1 번 인덱스 샘플의 레이블 :  1\n",
      "2 번 인덱스 샘플의 레이블 :  2\n",
      "3 번 인덱스 샘플의 레이블 :  3\n",
      "4 번 인덱스 샘플의 레이블 :  4\n"
     ]
    }
   ],
   "source": [
    "for i in range(5):\n",
    "    print(i,'번 인덱스 샘플의 레이블 : ',digits.target[i])"
   ],
   "metadata": {
    "collapsed": false,
    "ExecuteTime": {
     "end_time": "2024-02-17T14:42:44.360155Z",
     "start_time": "2024-02-17T14:42:44.350821Z"
    }
   },
   "id": "77e0fa1dcfd5c7a",
   "execution_count": 5
  },
  {
   "cell_type": "code",
   "outputs": [
    {
     "name": "stdout",
     "output_type": "stream",
     "text": [
      "[ 0.  0.  5. 13.  9.  1.  0.  0.  0.  0. 13. 15. 10. 15.  5.  0.  0.  3.\n",
      " 15.  2.  0. 11.  8.  0.  0.  4. 12.  0.  0.  8.  8.  0.  0.  5.  8.  0.\n",
      "  0.  9.  8.  0.  0.  4. 11.  0.  1. 12.  7.  0.  0.  2. 14.  5. 10. 12.\n",
      "  0.  0.  0.  0.  6. 13. 10.  0.  0.  0.]\n"
     ]
    }
   ],
   "source": [
    "# 8 x 8 행렬을 64차원의 벡터로 변환\n",
    "print(digits.data[0])"
   ],
   "metadata": {
    "collapsed": false,
    "ExecuteTime": {
     "end_time": "2024-02-17T14:42:44.392632Z",
     "start_time": "2024-02-17T14:42:44.362268Z"
    }
   },
   "id": "6675ac6800a900ca",
   "execution_count": 6
  },
  {
   "cell_type": "code",
   "outputs": [],
   "source": [
    "X = digits.data # 이미지. 즉, 특성 행렬\n",
    "Y = digits.target # 각 이미지에 대한 레이블"
   ],
   "metadata": {
    "collapsed": false,
    "ExecuteTime": {
     "end_time": "2024-02-17T14:42:44.398109Z",
     "start_time": "2024-02-17T14:42:44.370997Z"
    }
   },
   "id": "141832f78ef238e8",
   "execution_count": 7
  },
  {
   "cell_type": "code",
   "outputs": [],
   "source": [
    "# 다층 퍼셉트론 분류기 만들기\n",
    "import torch\n",
    "import torch.nn as nn\n",
    "import torch.optim as optim\n",
    "\n",
    "model = nn.Sequential(\n",
    "    nn.Linear(64, 32), # input_layer = 64, hidden_layer1 = 32\n",
    "    nn.ReLU(),\n",
    "    nn.Linear(32, 16), # hidden_layer2 = 32, hidden_layer3 = 16\n",
    "    nn.ReLU(),\n",
    "    nn.Linear(16, 10) # hidden_layer3 = 16, output_layer = 10\n",
    ")\n"
   ],
   "metadata": {
    "collapsed": false,
    "ExecuteTime": {
     "end_time": "2024-02-17T14:42:45.508763Z",
     "start_time": "2024-02-17T14:42:44.377012Z"
    }
   },
   "id": "5b3d5f4bce5377ff",
   "execution_count": 8
  },
  {
   "cell_type": "code",
   "outputs": [],
   "source": [
    "X = torch.tensor(X, dtype=torch.float32) # 실수형 데이터\n",
    "Y = torch.tensor(Y, dtype=torch.int64) # 정수형 데이터"
   ],
   "metadata": {
    "collapsed": false,
    "ExecuteTime": {
     "end_time": "2024-02-17T14:42:45.513202Z",
     "start_time": "2024-02-17T14:42:45.508943Z"
    }
   },
   "id": "787f4118f7e93ad8",
   "execution_count": 9
  },
  {
   "cell_type": "code",
   "outputs": [],
   "source": [
    "loss_fn = nn.CrossEntropyLoss() # 소프트맥스 함수 포함이며, 크로스 엔트로피 함수"
   ],
   "metadata": {
    "collapsed": false,
    "ExecuteTime": {
     "end_time": "2024-02-17T14:42:45.519741Z",
     "start_time": "2024-02-17T14:42:45.515301Z"
    }
   },
   "id": "ea749ec900acbdaf",
   "execution_count": 10
  },
  {
   "cell_type": "code",
   "outputs": [],
   "source": [
    "losses = []"
   ],
   "metadata": {
    "collapsed": false,
    "ExecuteTime": {
     "end_time": "2024-02-17T14:42:45.521336Z",
     "start_time": "2024-02-17T14:42:45.517982Z"
    }
   },
   "id": "c670c24e31f3f5d",
   "execution_count": 11
  },
  {
   "cell_type": "code",
   "outputs": [],
   "source": [
    "optimizer = optim.Adam(model.parameters())"
   ],
   "metadata": {
    "collapsed": false,
    "ExecuteTime": {
     "end_time": "2024-02-17T14:42:45.908585Z",
     "start_time": "2024-02-17T14:42:45.520884Z"
    }
   },
   "id": "de3f3080cb9c413a",
   "execution_count": 12
  },
  {
   "cell_type": "code",
   "outputs": [
    {
     "name": "stdout",
     "output_type": "stream",
     "text": [
      "Epoch    0/100 Cost: 2.650373\n",
      "Epoch   10/100 Cost: 2.096846\n",
      "Epoch   20/100 Cost: 1.820615\n",
      "Epoch   30/100 Cost: 1.488883\n",
      "Epoch   40/100 Cost: 1.130555\n",
      "Epoch   50/100 Cost: 0.828065\n",
      "Epoch   60/100 Cost: 0.609720\n",
      "Epoch   70/100 Cost: 0.466021\n",
      "Epoch   80/100 Cost: 0.369604\n",
      "Epoch   90/100 Cost: 0.302673\n"
     ]
    }
   ],
   "source": [
    "for epoch in range(100):\n",
    "    optimizer.zero_grad()\n",
    "    y_pred = model(X) # forwar 연산\n",
    "    loss = loss_fn(y_pred, Y)\n",
    "    loss.backward()\n",
    "    optimizer.step()\n",
    "\n",
    "    if epoch % 10 == 0:\n",
    "        print('Epoch {:4d}/{} Cost: {:.6f}'.format(\n",
    "            epoch, 100, loss.item()\n",
    "        ))\n",
    "\n",
    "    losses.append(loss.item())\n"
   ],
   "metadata": {
    "collapsed": false,
    "ExecuteTime": {
     "end_time": "2024-02-17T14:42:46.127545Z",
     "start_time": "2024-02-17T14:42:45.909568Z"
    }
   },
   "id": "1bfe777358d0502d",
   "execution_count": 13
  },
  {
   "cell_type": "code",
   "outputs": [
    {
     "data": {
      "text/plain": "[<matplotlib.lines.Line2D at 0x16cd7bb50>]"
     },
     "execution_count": 14,
     "metadata": {},
     "output_type": "execute_result"
    },
    {
     "data": {
      "text/plain": "<Figure size 640x480 with 1 Axes>",
      "image/png": "[encoded data removed]"
     },
     "metadata": {},
     "output_type": "display_data"
    }
   ],
   "source": [
    "plt.plot(losses)"
   ],
   "metadata": {
    "collapsed": false,
    "ExecuteTime": {
     "end_time": "2024-02-17T14:42:46.230973Z",
     "start_time": "2024-02-17T14:42:46.142976Z"
    }
   },
   "id": "167c9bb3038ae8a9",
   "execution_count": 14
  },
  {
   "cell_type": "code",
   "outputs": [
    {
     "name": "stdout",
     "output_type": "stream",
     "text": [
      "Accuracy: 0.9398998618125916\n"
     ]
    }
   ],
   "source": [
    "# 성능 확인\n",
    "# 예측값 y_pred는 소프트맥스 함수를 거쳐서 확률로 반환되므로 argmax 함수를 사용하여 가장 확률이 높은 클래스를 예측값으로 한다.\n",
    "with torch.no_grad(): # torch.no_grad()를 하면 gradient 계산을 수행하지 않는다.\n",
    "    y_pred = model(X)\n",
    "    correct_prediction = torch.argmax(y_pred, 1) == Y\n",
    "    accuracy = correct_prediction.float().mean()\n",
    "    print('Accuracy:', accuracy.item())"
   ],
   "metadata": {
    "collapsed": false,
    "ExecuteTime": {
     "end_time": "2024-02-17T14:42:46.247942Z",
     "start_time": "2024-02-17T14:42:46.232735Z"
    }
   },
   "id": "d668bb29559e9d04",
   "execution_count": 15
  },
  {
   "cell_type": "markdown",
   "source": [
    "## 6-8 다층 퍼셉트론으로 MNIST 분류하기"
   ],
   "metadata": {
    "collapsed": false
   },
   "id": "64bcbf3b9f52f7de"
  },
  {
   "cell_type": "code",
   "outputs": [],
   "source": [
    "import torch\n",
    "import matplotlib.pyplot as plt\n",
    "%matplotlib inline\n",
    "from sklearn.datasets import fetch_openml # 사이킷런에서 제공하는 데이터셋을 받아옴"
   ],
   "metadata": {
    "collapsed": false,
    "ExecuteTime": {
     "end_time": "2024-02-17T14:42:46.311611Z",
     "start_time": "2024-02-17T14:42:46.247976Z"
    }
   },
   "id": "741b5bcc734658ee",
   "execution_count": 16
  },
  {
   "cell_type": "code",
   "outputs": [
    {
     "name": "stderr",
     "output_type": "stream",
     "text": [
      "/Users/hyun-uk/anaconda3/lib/python3.11/site-packages/sklearn/datasets/_openml.py:1002: FutureWarning: The default value of `parser` will change from `'liac-arff'` to `'auto'` in 1.4. You can set `parser='auto'` to silence this warning. Therefore, an `ImportError` will be raised from 1.4 if the dataset is dense and pandas is not installed. Note that the pandas parser may return different data types. See the Notes Section in fetch_openml's API doc for details.\n",
      "  warn(\n"
     ]
    }
   ],
   "source": [
    "mnist = fetch_openml('mnist_784', version=1, as_frame=False)\n",
    "# fetch_openml 함수를 사용하여 MNIST 데이터셋을 다운로드\n",
    "# as_frame=False로 지정하여 데이터프레임 형태가 아닌 넘파이 배열 형태로 데이터를 받아옴\n",
    "# version=1로 지정하여 데이터의 첫 번째 버전을 다운로드\n",
    "# mnist 784는 28 x 28 픽셀 이미지를 일렬로 펴놓은 784차원의 벡터 형태로 되어있음"
   ],
   "metadata": {
    "collapsed": false,
    "ExecuteTime": {
     "end_time": "2024-02-17T14:43:00.682899Z",
     "start_time": "2024-02-17T14:42:46.258759Z"
    }
   },
   "id": "62ac1f886b7f5396",
   "execution_count": 17
  },
  {
   "cell_type": "code",
   "outputs": [
    {
     "name": "stdout",
     "output_type": "stream",
     "text": [
      "(70000, 784)\n"
     ]
    }
   ],
   "source": [
    "print(mnist.data.shape) # 70000개의 샘플과 784개의 특성"
   ],
   "metadata": {
    "collapsed": false,
    "ExecuteTime": {
     "end_time": "2024-02-17T14:43:00.689436Z",
     "start_time": "2024-02-17T14:43:00.681579Z"
    }
   },
   "id": "595917c03f18176",
   "execution_count": 18
  },
  {
   "cell_type": "code",
   "outputs": [
    {
     "data": {
      "text/plain": "array(['5', '0', '4', ..., '4', '5', '6'], dtype=object)"
     },
     "execution_count": 19,
     "metadata": {},
     "output_type": "execute_result"
    }
   ],
   "source": [
    "mnist.target # mnist 데이터셋의 레이블"
   ],
   "metadata": {
    "collapsed": false,
    "ExecuteTime": {
     "end_time": "2024-02-17T14:43:00.691251Z",
     "start_time": "2024-02-17T14:43:00.686932Z"
    }
   },
   "id": "94d7627b660082ad",
   "execution_count": 19
  },
  {
   "cell_type": "code",
   "outputs": [
    {
     "data": {
      "text/plain": "array([5, 0, 4, ..., 4, 5, 6])"
     },
     "execution_count": 20,
     "metadata": {},
     "output_type": "execute_result"
    }
   ],
   "source": [
    "mnist.target = mnist.target.astype(int) # 타깃을 정수로 변환\n",
    "mnist.target"
   ],
   "metadata": {
    "collapsed": false,
    "ExecuteTime": {
     "end_time": "2024-02-17T14:43:00.701128Z",
     "start_time": "2024-02-17T14:43:00.694749Z"
    }
   },
   "id": "9b2aa78596d34026",
   "execution_count": 20
  },
  {
   "cell_type": "code",
   "outputs": [
    {
     "data": {
      "text/plain": "array([[0., 0., 0., ..., 0., 0., 0.],\n       [0., 0., 0., ..., 0., 0., 0.],\n       [0., 0., 0., ..., 0., 0., 0.],\n       ...,\n       [0., 0., 0., ..., 0., 0., 0.],\n       [0., 0., 0., ..., 0., 0., 0.],\n       [0., 0., 0., ..., 0., 0., 0.]])"
     },
     "execution_count": 21,
     "metadata": {},
     "output_type": "execute_result"
    }
   ],
   "source": [
    "mnist.data"
   ],
   "metadata": {
    "collapsed": false,
    "ExecuteTime": {
     "end_time": "2024-02-17T14:43:00.706523Z",
     "start_time": "2024-02-17T14:43:00.698286Z"
    }
   },
   "id": "6b1428a0b39fd0ce",
   "execution_count": 21
  },
  {
   "cell_type": "code",
   "outputs": [],
   "source": [
    "X = mnist.data / 255  # 0-255값을 [0,1] 구간으로 정규화\n",
    "y = mnist.target"
   ],
   "metadata": {
    "collapsed": false,
    "ExecuteTime": {
     "end_time": "2024-02-17T14:43:00.793742Z",
     "start_time": "2024-02-17T14:43:00.701559Z"
    }
   },
   "id": "ebb920b51f46e6bb",
   "execution_count": 22
  },
  {
   "cell_type": "code",
   "outputs": [
    {
     "data": {
      "text/plain": "array([0.        , 0.        , 0.        , 0.        , 0.        ,\n       0.        , 0.        , 0.        , 0.        , 0.        ,\n       0.        , 0.        , 0.        , 0.        , 0.        ,\n       0.        , 0.        , 0.        , 0.        , 0.        ,\n       0.        , 0.        , 0.        , 0.        , 0.        ,\n       0.        , 0.        , 0.        , 0.        , 0.        ,\n       0.        , 0.        , 0.        , 0.        , 0.        ,\n       0.        , 0.        , 0.        , 0.        , 0.        ,\n       0.        , 0.        , 0.        , 0.        , 0.        ,\n       0.        , 0.        , 0.        , 0.        , 0.        ,\n       0.        , 0.        , 0.        , 0.        , 0.        ,\n       0.        , 0.        , 0.        , 0.        , 0.        ,\n       0.        , 0.        , 0.        , 0.        , 0.        ,\n       0.        , 0.        , 0.        , 0.        , 0.        ,\n       0.        , 0.        , 0.        , 0.        , 0.        ,\n       0.        , 0.        , 0.        , 0.        , 0.        ,\n       0.        , 0.        , 0.        , 0.        , 0.        ,\n       0.        , 0.        , 0.        , 0.        , 0.        ,\n       0.        , 0.        , 0.        , 0.        , 0.        ,\n       0.        , 0.        , 0.        , 0.        , 0.        ,\n       0.        , 0.        , 0.        , 0.        , 0.        ,\n       0.        , 0.        , 0.        , 0.        , 0.        ,\n       0.        , 0.        , 0.        , 0.        , 0.        ,\n       0.        , 0.        , 0.        , 0.        , 0.        ,\n       0.        , 0.        , 0.        , 0.        , 0.        ,\n       0.        , 0.        , 0.        , 0.        , 0.        ,\n       0.        , 0.        , 0.        , 0.        , 0.        ,\n       0.        , 0.        , 0.        , 0.        , 0.        ,\n       0.        , 0.        , 0.        , 0.        , 0.        ,\n       0.        , 0.        , 0.        , 0.        , 0.        ,\n       0.        , 0.        , 0.01176471, 0.07058824, 0.07058824,\n       0.07058824, 0.49411765, 0.53333333, 0.68627451, 0.10196078,\n       0.65098039, 1.        , 0.96862745, 0.49803922, 0.        ,\n       0.        , 0.        , 0.        , 0.        , 0.        ,\n       0.        , 0.        , 0.        , 0.        , 0.        ,\n       0.        , 0.11764706, 0.14117647, 0.36862745, 0.60392157,\n       0.66666667, 0.99215686, 0.99215686, 0.99215686, 0.99215686,\n       0.99215686, 0.88235294, 0.6745098 , 0.99215686, 0.94901961,\n       0.76470588, 0.25098039, 0.        , 0.        , 0.        ,\n       0.        , 0.        , 0.        , 0.        , 0.        ,\n       0.        , 0.        , 0.        , 0.19215686, 0.93333333,\n       0.99215686, 0.99215686, 0.99215686, 0.99215686, 0.99215686,\n       0.99215686, 0.99215686, 0.99215686, 0.98431373, 0.36470588,\n       0.32156863, 0.32156863, 0.21960784, 0.15294118, 0.        ,\n       0.        , 0.        , 0.        , 0.        , 0.        ,\n       0.        , 0.        , 0.        , 0.        , 0.        ,\n       0.        , 0.07058824, 0.85882353, 0.99215686, 0.99215686,\n       0.99215686, 0.99215686, 0.99215686, 0.77647059, 0.71372549,\n       0.96862745, 0.94509804, 0.        , 0.        , 0.        ,\n       0.        , 0.        , 0.        , 0.        , 0.        ,\n       0.        , 0.        , 0.        , 0.        , 0.        ,\n       0.        , 0.        , 0.        , 0.        , 0.        ,\n       0.31372549, 0.61176471, 0.41960784, 0.99215686, 0.99215686,\n       0.80392157, 0.04313725, 0.        , 0.16862745, 0.60392157,\n       0.        , 0.        , 0.        , 0.        , 0.        ,\n       0.        , 0.        , 0.        , 0.        , 0.        ,\n       0.        , 0.        , 0.        , 0.        , 0.        ,\n       0.        , 0.        , 0.        , 0.        , 0.05490196,\n       0.00392157, 0.60392157, 0.99215686, 0.35294118, 0.        ,\n       0.        , 0.        , 0.        , 0.        , 0.        ,\n       0.        , 0.        , 0.        , 0.        , 0.        ,\n       0.        , 0.        , 0.        , 0.        , 0.        ,\n       0.        , 0.        , 0.        , 0.        , 0.        ,\n       0.        , 0.        , 0.        , 0.        , 0.54509804,\n       0.99215686, 0.74509804, 0.00784314, 0.        , 0.        ,\n       0.        , 0.        , 0.        , 0.        , 0.        ,\n       0.        , 0.        , 0.        , 0.        , 0.        ,\n       0.        , 0.        , 0.        , 0.        , 0.        ,\n       0.        , 0.        , 0.        , 0.        , 0.        ,\n       0.        , 0.        , 0.04313725, 0.74509804, 0.99215686,\n       0.2745098 , 0.        , 0.        , 0.        , 0.        ,\n       0.        , 0.        , 0.        , 0.        , 0.        ,\n       0.        , 0.        , 0.        , 0.        , 0.        ,\n       0.        , 0.        , 0.        , 0.        , 0.        ,\n       0.        , 0.        , 0.        , 0.        , 0.        ,\n       0.        , 0.1372549 , 0.94509804, 0.88235294, 0.62745098,\n       0.42352941, 0.00392157, 0.        , 0.        , 0.        ,\n       0.        , 0.        , 0.        , 0.        , 0.        ,\n       0.        , 0.        , 0.        , 0.        , 0.        ,\n       0.        , 0.        , 0.        , 0.        , 0.        ,\n       0.        , 0.        , 0.        , 0.        , 0.        ,\n       0.31764706, 0.94117647, 0.99215686, 0.99215686, 0.46666667,\n       0.09803922, 0.        , 0.        , 0.        , 0.        ,\n       0.        , 0.        , 0.        , 0.        , 0.        ,\n       0.        , 0.        , 0.        , 0.        , 0.        ,\n       0.        , 0.        , 0.        , 0.        , 0.        ,\n       0.        , 0.        , 0.        , 0.        , 0.17647059,\n       0.72941176, 0.99215686, 0.99215686, 0.58823529, 0.10588235,\n       0.        , 0.        , 0.        , 0.        , 0.        ,\n       0.        , 0.        , 0.        , 0.        , 0.        ,\n       0.        , 0.        , 0.        , 0.        , 0.        ,\n       0.        , 0.        , 0.        , 0.        , 0.        ,\n       0.        , 0.        , 0.        , 0.0627451 , 0.36470588,\n       0.98823529, 0.99215686, 0.73333333, 0.        , 0.        ,\n       0.        , 0.        , 0.        , 0.        , 0.        ,\n       0.        , 0.        , 0.        , 0.        , 0.        ,\n       0.        , 0.        , 0.        , 0.        , 0.        ,\n       0.        , 0.        , 0.        , 0.        , 0.        ,\n       0.        , 0.        , 0.        , 0.97647059, 0.99215686,\n       0.97647059, 0.25098039, 0.        , 0.        , 0.        ,\n       0.        , 0.        , 0.        , 0.        , 0.        ,\n       0.        , 0.        , 0.        , 0.        , 0.        ,\n       0.        , 0.        , 0.        , 0.        , 0.        ,\n       0.        , 0.        , 0.        , 0.18039216, 0.50980392,\n       0.71764706, 0.99215686, 0.99215686, 0.81176471, 0.00784314,\n       0.        , 0.        , 0.        , 0.        , 0.        ,\n       0.        , 0.        , 0.        , 0.        , 0.        ,\n       0.        , 0.        , 0.        , 0.        , 0.        ,\n       0.        , 0.        , 0.        , 0.        , 0.15294118,\n       0.58039216, 0.89803922, 0.99215686, 0.99215686, 0.99215686,\n       0.98039216, 0.71372549, 0.        , 0.        , 0.        ,\n       0.        , 0.        , 0.        , 0.        , 0.        ,\n       0.        , 0.        , 0.        , 0.        , 0.        ,\n       0.        , 0.        , 0.        , 0.        , 0.        ,\n       0.09411765, 0.44705882, 0.86666667, 0.99215686, 0.99215686,\n       0.99215686, 0.99215686, 0.78823529, 0.30588235, 0.        ,\n       0.        , 0.        , 0.        , 0.        , 0.        ,\n       0.        , 0.        , 0.        , 0.        , 0.        ,\n       0.        , 0.        , 0.        , 0.        , 0.        ,\n       0.        , 0.09019608, 0.25882353, 0.83529412, 0.99215686,\n       0.99215686, 0.99215686, 0.99215686, 0.77647059, 0.31764706,\n       0.00784314, 0.        , 0.        , 0.        , 0.        ,\n       0.        , 0.        , 0.        , 0.        , 0.        ,\n       0.        , 0.        , 0.        , 0.        , 0.        ,\n       0.        , 0.        , 0.07058824, 0.67058824, 0.85882353,\n       0.99215686, 0.99215686, 0.99215686, 0.99215686, 0.76470588,\n       0.31372549, 0.03529412, 0.        , 0.        , 0.        ,\n       0.        , 0.        , 0.        , 0.        , 0.        ,\n       0.        , 0.        , 0.        , 0.        , 0.        ,\n       0.        , 0.        , 0.        , 0.21568627, 0.6745098 ,\n       0.88627451, 0.99215686, 0.99215686, 0.99215686, 0.99215686,\n       0.95686275, 0.52156863, 0.04313725, 0.        , 0.        ,\n       0.        , 0.        , 0.        , 0.        , 0.        ,\n       0.        , 0.        , 0.        , 0.        , 0.        ,\n       0.        , 0.        , 0.        , 0.        , 0.        ,\n       0.        , 0.53333333, 0.99215686, 0.99215686, 0.99215686,\n       0.83137255, 0.52941176, 0.51764706, 0.0627451 , 0.        ,\n       0.        , 0.        , 0.        , 0.        , 0.        ,\n       0.        , 0.        , 0.        , 0.        , 0.        ,\n       0.        , 0.        , 0.        , 0.        , 0.        ,\n       0.        , 0.        , 0.        , 0.        , 0.        ,\n       0.        , 0.        , 0.        , 0.        , 0.        ,\n       0.        , 0.        , 0.        , 0.        , 0.        ,\n       0.        , 0.        , 0.        , 0.        , 0.        ,\n       0.        , 0.        , 0.        , 0.        , 0.        ,\n       0.        , 0.        , 0.        , 0.        , 0.        ,\n       0.        , 0.        , 0.        , 0.        , 0.        ,\n       0.        , 0.        , 0.        , 0.        , 0.        ,\n       0.        , 0.        , 0.        , 0.        , 0.        ,\n       0.        , 0.        , 0.        , 0.        , 0.        ,\n       0.        , 0.        , 0.        , 0.        , 0.        ,\n       0.        , 0.        , 0.        , 0.        , 0.        ,\n       0.        , 0.        , 0.        , 0.        , 0.        ,\n       0.        , 0.        , 0.        , 0.        , 0.        ,\n       0.        , 0.        , 0.        , 0.        , 0.        ,\n       0.        , 0.        , 0.        , 0.        , 0.        ,\n       0.        , 0.        , 0.        , 0.        ])"
     },
     "execution_count": 23,
     "metadata": {},
     "output_type": "execute_result"
    }
   ],
   "source": [
    "X[0]"
   ],
   "metadata": {
    "collapsed": false,
    "ExecuteTime": {
     "end_time": "2024-02-17T14:43:00.808964Z",
     "start_time": "2024-02-17T14:43:00.795645Z"
    }
   },
   "id": "c5d2396bfe4835a5",
   "execution_count": 23
  },
  {
   "cell_type": "code",
   "outputs": [
    {
     "data": {
      "text/plain": "5"
     },
     "execution_count": 24,
     "metadata": {},
     "output_type": "execute_result"
    }
   ],
   "source": [
    "y[0]"
   ],
   "metadata": {
    "collapsed": false,
    "ExecuteTime": {
     "end_time": "2024-02-17T14:43:00.830586Z",
     "start_time": "2024-02-17T14:43:00.808963Z"
    }
   },
   "id": "60b95d1c4c888f1f",
   "execution_count": 24
  },
  {
   "cell_type": "code",
   "outputs": [
    {
     "name": "stdout",
     "output_type": "stream",
     "text": [
      "이 이미지 데이터의 레이블은 5이다\n"
     ]
    },
    {
     "data": {
      "text/plain": "<Figure size 640x480 with 1 Axes>",
      "image/png": "[encoded data removed]"
     },
     "metadata": {},
     "output_type": "display_data"
    }
   ],
   "source": [
    "plt.imshow(X[0].reshape(28, 28), cmap='gray')\n",
    "print('이 이미지 데이터의 레이블은 {:.0f}이다'.format(y[0]))"
   ],
   "metadata": {
    "collapsed": false,
    "ExecuteTime": {
     "end_time": "2024-02-17T14:43:00.891071Z",
     "start_time": "2024-02-17T14:43:00.823361Z"
    }
   },
   "id": "216398b48a961e4",
   "execution_count": 25
  },
  {
   "cell_type": "code",
   "outputs": [],
   "source": [
    "# 훈련 데이터와 테스트 데이터로 분리\n",
    "import torch\n",
    "from sklearn.model_selection import train_test_split\n",
    "from torch.utils.data import TensorDataset, DataLoader"
   ],
   "metadata": {
    "collapsed": false,
    "ExecuteTime": {
     "end_time": "2024-02-17T14:43:00.948047Z",
     "start_time": "2024-02-17T14:43:00.892141Z"
    }
   },
   "id": "dc70c52c55314453",
   "execution_count": 26
  },
  {
   "cell_type": "code",
   "outputs": [],
   "source": [
    "X_train, X_test, y_train, y_test = train_test_split(X, y, test_size=1/7, random_state=0)\n",
    "# 훈련 데이터와 테스트 데이터로 분리\n",
    "# 훈련 데이터 60000개, 테스트 데이터 10000개\n",
    "# test_size=1/7로 지정하여 전체 데이터의 1/7만 테스트 데이터로 지정\n",
    "# random_state=0으로 지정하여 매번 실행시 동일한 학습/테스트 데이터를 얻음\n",
    "\n",
    "# 텐서로 변환\n",
    "X_train = torch.tensor(X_train, dtype=torch.float32)\n",
    "X_test = torch.tensor(X_test, dtype=torch.float32)\n",
    "y_train = torch.tensor(y_train)\n",
    "y_test = torch.tensor(y_test)\n",
    "\n",
    "# 데이터셋 생성\n",
    "ds_train = TensorDataset(X_train, y_train)\n",
    "ds_test = TensorDataset(X_test, y_test)\n",
    "\n",
    "# 미니배치로 분할\n",
    "loader_train = DataLoader(ds_train, batch_size=64, shuffle=True)\n",
    "loader_test = DataLoader(ds_test, batch_size=64, shuffle=False)\n",
    "# DataLoader는 데이터셋을 미니배치로 분할하여 지정한 배치 크기에 맞게 데이터를 반환\n",
    "# shuffle=True로 지정하여 매 에포크마다 미니배치로 데이터를 셔플\n",
    "# shuffle=False로 지정하여 테스트 데이터는 셔플하지 않음"
   ],
   "metadata": {
    "collapsed": false,
    "ExecuteTime": {
     "end_time": "2024-02-17T14:43:01.575715Z",
     "start_time": "2024-02-17T14:43:00.949672Z"
    }
   },
   "id": "ef8ae47499682e20",
   "execution_count": 27
  },
  {
   "cell_type": "code",
   "outputs": [
    {
     "name": "stdout",
     "output_type": "stream",
     "text": [
      "Sequential(\n",
      "  (fc1): Linear(in_features=784, out_features=100, bias=True)\n",
      "  (relu1): ReLU()\n",
      "  (fc2): Linear(in_features=100, out_features=100, bias=True)\n",
      "  (relu2): ReLU()\n",
      "  (fc3): Linear(in_features=100, out_features=10, bias=True)\n",
      ")\n"
     ]
    }
   ],
   "source": [
    "from torch import nn\n",
    "\n",
    "model = nn.Sequential() # nn.Sequential()은 nn.Module 층을 차례로 쌓을 수 있도록 한다.\n",
    "model.add_module('fc1', nn.Linear(28*28*1, 100))\n",
    "model.add_module('relu1', nn.ReLU())\n",
    "model.add_module('fc2', nn.Linear(100, 100))\n",
    "model.add_module('relu2', nn.ReLU())\n",
    "model.add_module('fc3', nn.Linear(100, 10))\n",
    "\n",
    "print(model)"
   ],
   "metadata": {
    "collapsed": false,
    "ExecuteTime": {
     "end_time": "2024-02-17T14:43:01.614275Z",
     "start_time": "2024-02-17T14:43:01.588749Z"
    }
   },
   "id": "8483d188344edbf6",
   "execution_count": 28
  },
  {
   "cell_type": "code",
   "outputs": [],
   "source": [
    "from torch import optim\n",
    "\n",
    "# 오차함수 선택\n",
    "loss_fn = nn.CrossEntropyLoss()\n",
    "\n",
    "# 가중치를 학습하기 위한 최적화 기법 선택\n",
    "optimizer = optim.Adam(model.parameters(), lr=0.01)\n",
    "# lr=0.01로 학습률을 0.01로 지정\n",
    "# 최적화 기법은 Adam을 사용\n",
    "# model.parameters()로 모델의 파라미터를 전달"
   ],
   "metadata": {
    "collapsed": false,
    "ExecuteTime": {
     "end_time": "2024-02-17T14:43:01.635776Z",
     "start_time": "2024-02-17T14:43:01.613727Z"
    }
   },
   "id": "3a0393d805138f52",
   "execution_count": 29
  },
  {
   "cell_type": "code",
   "outputs": [],
   "source": [
    "def train(epoch):\n",
    "    model.train()  # 신경망을 학습 모드로 전환\n",
    "\n",
    "    # 데이터로더에서 미니배치를 하나씩 꺼내 학습을 수행\n",
    "    for data, targets in loader_train:\n",
    "\n",
    "        optimizer.zero_grad()  # 경사를 0으로 초기화\n",
    "        outputs = model(data)  # 데이터를 입력하고 출력을 계산\n",
    "        loss = loss_fn(outputs, targets)  # 출력과 훈련 데이터 정답 간의 오차를 계산\n",
    "        loss.backward()  # 오차를 역전파 계산\n",
    "        optimizer.step()  # 역전파 계산한 값으로 가중치를 수정\n",
    "\n",
    "    print(\"epoch{}：완료\\n\".format(epoch))"
   ],
   "metadata": {
    "collapsed": false,
    "ExecuteTime": {
     "end_time": "2024-02-17T14:43:01.636581Z",
     "start_time": "2024-02-17T14:43:01.618218Z"
    }
   },
   "id": "a5964d20da25275",
   "execution_count": 30
  },
  {
   "cell_type": "code",
   "outputs": [],
   "source": [
    "def test():\n",
    "    model.eval()  # 신경망을 추론 모드로 전환\n",
    "    correct = 0\n",
    "\n",
    "    # 데이터로더에서 미니배치를 하나씩 꺼내 추론을 수행\n",
    "    with torch.no_grad():  # 추론 과정에는 미분이 필요없음\n",
    "        for data, targets in loader_test:\n",
    "\n",
    "            outputs = model(data)  # 데이터를 입력하고 출력을 계산\n",
    "\n",
    "            # 추론 계산\n",
    "            _, predicted = torch.max(outputs.data, 1)  # 확률이 가장 높은 레이블이 무엇인지 계산\n",
    "            correct += predicted.eq(targets.data.view_as(predicted)).sum()  # 정답과 일치한 경우 정답 카운트를 증가\n",
    "\n",
    "    # 정확도 출력\n",
    "    data_num = len(loader_test.dataset)  # 데이터 총 건수\n",
    "    print('\\n테스트 데이터에서 예측 정확도: {}/{} ({:.0f}%)\\n'.format(correct,\n",
    "                                                         data_num, 100. * correct / data_num))\n"
   ],
   "metadata": {
    "collapsed": false,
    "ExecuteTime": {
     "end_time": "2024-02-17T14:43:01.637550Z",
     "start_time": "2024-02-17T14:43:01.623490Z"
    }
   },
   "id": "e43a9dd84f90a97c",
   "execution_count": 31
  },
  {
   "cell_type": "code",
   "outputs": [
    {
     "name": "stdout",
     "output_type": "stream",
     "text": [
      "\n",
      "테스트 데이터에서 예측 정확도: 828/10000 (8%)\n"
     ]
    }
   ],
   "source": [
    "test()"
   ],
   "metadata": {
    "collapsed": false,
    "ExecuteTime": {
     "end_time": "2024-02-17T14:43:01.785149Z",
     "start_time": "2024-02-17T14:43:01.626529Z"
    }
   },
   "id": "56272696d3c091b",
   "execution_count": 32
  },
  {
   "cell_type": "code",
   "outputs": [
    {
     "name": "stdout",
     "output_type": "stream",
     "text": [
      "epoch0：완료\n",
      "epoch1：완료\n",
      "epoch2：완료\n",
      "\n",
      "\n",
      "테스트 데이터에서 예측 정확도: 9577/10000 (96%)\n"
     ]
    }
   ],
   "source": [
    "for epoch in range(3):\n",
    "    train(epoch)\n",
    "\n",
    "test()\n"
   ],
   "metadata": {
    "collapsed": false,
    "ExecuteTime": {
     "end_time": "2024-02-17T14:43:09.279302Z",
     "start_time": "2024-02-17T14:43:01.935375Z"
    }
   },
   "id": "6c2d8ef61efdaf3a",
   "execution_count": 34
  },
  {
   "cell_type": "code",
   "outputs": [
    {
     "name": "stdout",
     "output_type": "stream",
     "text": [
      "예측 결과 : 2\n",
      "이 이미지 데이터의 정답 레이블은 2입니다\n"
     ]
    },
    {
     "data": {
      "text/plain": "<Figure size 640x480 with 1 Axes>",
      "image/png": "[encoded data removed]"
     },
     "metadata": {},
     "output_type": "display_data"
    }
   ],
   "source": [
    "index = 2018\n",
    "\n",
    "model.eval()  # 신경망을 추론 모드로 전환\n",
    "data = X_test[index]\n",
    "output = model(data)  # 데이터를 입력하고 출력을 계산\n",
    "_, predicted = torch.max(output.data, 0)  # 확률이 가장 높은 레이블이 무엇인지 계산\n",
    "\n",
    "print(\"예측 결과 : {}\".format(predicted))\n",
    "\n",
    "X_test_show = (X_test[index]).numpy()\n",
    "plt.imshow(X_test_show.reshape(28, 28), cmap='gray')\n",
    "print(\"이 이미지 데이터의 정답 레이블은 {:.0f}입니다\".format(y_test[index]))\n"
   ],
   "metadata": {
    "collapsed": false,
    "ExecuteTime": {
     "end_time": "2024-02-17T14:43:14.472472Z",
     "start_time": "2024-02-17T14:43:14.346260Z"
    }
   },
   "id": "306316870bb203d4",
   "execution_count": 35
  },
  {
   "cell_type": "markdown",
   "source": [
    "## 6-9 과적합을 막는 방법\n",
    "\n",
    "1. 데이터의 양을 늘린다.\n",
    "2. 모델의 복잡도를 줄인다.\n",
    "3. 가중치 규제를 추가한다.\n",
    "4. 드롭아웃을 추가한다.\n",
    "\n",
    "### 1. 데이터의 양을 늘린다.\n",
    "- 데이터의 양이 적을 경우, 모델은 데이터에 존재하는 노이즈까지 학습하여 과적합이 발생할 가능성이 높아진다.\n",
    "- 데이터의 양을 늘릴수록 모델은 데이터에 존재하는 일반적인 패턴을 학습하게 되어 과적합을 방지할 수 있다.\n",
    "\n",
    "### 2. 모델의 복잡도를 줄인다.\n",
    "- 과적합이 보일때 인공신경망의 복잡도를 줄이는 조치를 할 수 있다.\n",
    "\n",
    "### 3. 가중치 규제를 추가한다.\n",
    "- 복잡한 모델이 간단한 모델보다 과적합될 가능성이 높다.\n",
    "- 복잡한 모델을 좀 더 간단하게 만들어주는 가중치 규제가 필요하다.\n",
    "- L1 규제 : 가중치 w들의 절대값 합계를 비용 함수에 추가한다. L1 노름이라고도 한다.\n",
    "- L2 규제 : 모든 가중치 w들의 제곱합을 비용 함수에 추가한다. L2 노름이라고도 한다.\n",
    "- L1는 람다 * |W|를 더하는 것이므로 람다가 커질수록 가중치의 값이 작아지게 된다.\n",
    "- L2는 1/2 * 람다 * W^2를 더하는 것이므로 람다가 커질수록 가중치의 값이 작아지게 된다.\n",
    "- 람다는 규제의 강도를 조절하는 하이퍼파라미터이다.\n",
    "- L1 규제에서 가중치 w의 값이 0또는 0에 가까이 작아져야해 어떤 특성들은 모델에 영향을 미치지 않게 된다.\n",
    "- L1은 어떤 특성이 모델에 영향을 미치는지 판단하는데 유용, 이렇지 않을때는 L2 규제를 사용한다.\n",
    "- L2 규제를 가중치 감쇠(weight decay)라고도 한다.\n",
    "- 파이토치에서는 옵티마이저의 weight_decay 매개변수를 설정하여 L2 규제를 적용한다."
   ],
   "metadata": {
    "collapsed": false
   },
   "id": "4fa4a5d6a823c04f"
  },
  {
   "cell_type": "code",
   "outputs": [],
   "source": [
    "model = nn.Linear(10, 20)\n",
    "optimizer = torch.optim.Adam(model.parameters(), lr=1e-4, weight_decay=1e-5)\n",
    "# weight_decay 매개변수를 설정하여 L2 규제를 적용한다.\n",
    "# weight_decay의 기본값은 0이다."
   ],
   "metadata": {
    "collapsed": false,
    "ExecuteTime": {
     "end_time": "2024-02-17T15:25:11.031312Z",
     "start_time": "2024-02-17T15:25:11.021489Z"
    }
   },
   "id": "ddbf424c6c01afe8",
   "execution_count": 36
  },
  {
   "cell_type": "markdown",
   "source": [
    "### 4. 드롭아웃을 추가한다.\n",
    "- 드롭아웃은 학습 과정에서 신경망의 일부를 사용하지 않는 방법이다.\n",
    "- 드롭아웃은 신경망 학습시에만 사용하고 예측에는 사용하지 않는다. \n",
    "- 드롭아웃은 학습시에 신경망이 특정 뉴런에 과도하게 의존하는 것을 막아 가중치의 균형을 맞춰 과적합을 방지한다."
   ],
   "metadata": {
    "collapsed": false
   },
   "id": "6247190e2697a399"
  },
  {
   "cell_type": "markdown",
   "source": [
    "## 6-10 기울기 소실\n",
    "- 역전파 과정에서 입력층으로 갈수록 기울기가 점점 작아지는 현상\n",
    "- 반대의 경우로 기울기가 점점 커지는 현상을 기울기 폭주(gradinet exploding)라고 한다.\n",
    "- 이는 RNN에서 주로 발생하는 문제이다.\n",
    "- 여기서 기울기 소실과 기울기 폭주를 막는 방법에 대해 배운다\n",
    "\n",
    "### 1. ReLU와 ReLU 변형 함수\n",
    "- 시그모이드와 하이퍼볼릭 탄젠트 대신 ReLU와 ReLU 변형 함수를 사용한다.\n",
    "- 은닉층에서는 ReLU나 ReLU 변형 함수를 사용한다.\n",
    "\n",
    "### 2. 가중치 초기화\n",
    "- 처음에 가중치 초기화를 잘해야 한다.\n",
    "- 가중치 초기화를 잘하면 기울기 소실과 기울기 폭주를 막을 수 있다.\n",
    "- 가중치 초기화 방법으로 Xavier 초기화와 He 초기화가 있다.\n",
    "- Xavier 초기화 : 시그모이드 함수나 하이퍼볼릭 탄젠트 함수를 사용할 때에는 세이비어 초기화를 사용한다.\n",
    "- He 초기화 : ReLU 함수를 사용할 때에는 He 초기화를 사용한다.\n",
    "- 파이토치에서는 기본적으로 He 초기화 방법을 사용한다.\n",
    "- ReLU 계열 함수를 사용할 때는 He 초기화를 사용하고, \n",
    "- 시그모이드 함수나 하이퍼볼릭 탄젠트 함수를 사용할 때는 Xavier 초기화를 사용한다.\n",
    "\n",
    "### 3. 배치 정규화(Batch Normalization)\n",
    "- 배치 정규화는 각 층에서 활성화 함수를 통과하기 전에 정규화를 한다.\n",
    "\n",
    "1. 내부 공변량 변화(Internal Covariate Shift)\n",
    "- 학습 과정에서 각 층마다 입력 데이터 분포가 달라지는 현상\n",
    "- 공변량 변화 : 훈련데이터와 테스트 데이터의 분포가 다른 경우\n",
    "- 내부 공변량 변화 : 학습 과정에서 각 층마다 입력 데이터 분포가 달라지는 현상\n",
    "\n",
    "2. 배치 정규화\n",
    "- 한번에 들어오는 배치 단위로 정규화를 진행한다.\n",
    "- 활성화 함수를 통과하기 전에 수행\n",
    "- 입력에 대해 평균을 0으로 만들고, 정규화를 한다.\n",
    "- 정규화된 데이터에 대해 스케일과 시프트를 수행한다.\n",
    "\n",
    "3. 배치 정규화의 한계\n",
    "- 배치 정규화는 미니배치 크기에 의존적이다.\n",
    "- RNN에 적용하기 어렵다.\n",
    "\n",
    "### 4. 층 정규화(Layer Normalization)\n",
    "- 배치 정규화의 단점을 보완하기 위해 층 정규화가 제안되었다.\n",
    "- 배치 정규화가 배치 차원에 대해 정규화를 수행하는 것과 달리 층 정규화는 특성 차원에 대해 정규화를 수행한다."
   ],
   "metadata": {
    "collapsed": false
   },
   "id": "419884c4830ab6f5"
  },
  {
   "cell_type": "code",
   "outputs": [],
   "source": [],
   "metadata": {
    "collapsed": false
   },
   "id": "f98e4588fc5eef2c"
  }
 ],
 "metadata": {
  "kernelspec": {
   "display_name": "Python 3",
   "language": "python",
   "name": "python3"
  },
  "language_info": {
   "codemirror_mode": {
    "name": "ipython",
    "version": 2
   },
   "file_extension": ".py",
   "mimetype": "text/x-python",
   "name": "python",
   "nbconvert_exporter": "python",
   "pygments_lexer": "ipython2",
   "version": "2.7.6"
  }
 },
 "nbformat": 4,
 "nbformat_minor": 5
}
