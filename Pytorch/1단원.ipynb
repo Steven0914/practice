{
 "cells": [
  {
   "cell_type": "code",
   "execution_count": 1,
   "id": "initial_id",
   "metadata": {
    "collapsed": true,
    "ExecuteTime": {
     "end_time": "2024-02-02T13:01:55.254599Z",
     "start_time": "2024-02-02T13:01:52.331281Z"
    }
   },
   "outputs": [
    {
     "name": "stdout",
     "output_type": "stream",
     "text": [
      "Requirement already satisfied: nltk in /Users/hyun-uk/anaconda3/lib/python3.11/site-packages (3.8.1)\r\n",
      "Requirement already satisfied: click in /Users/hyun-uk/anaconda3/lib/python3.11/site-packages (from nltk) (8.0.4)\r\n",
      "Requirement already satisfied: joblib in /Users/hyun-uk/anaconda3/lib/python3.11/site-packages (from nltk) (1.2.0)\r\n",
      "Requirement already satisfied: regex>=2021.8.3 in /Users/hyun-uk/anaconda3/lib/python3.11/site-packages (from nltk) (2022.7.9)\r\n",
      "Requirement already satisfied: tqdm in /Users/hyun-uk/anaconda3/lib/python3.11/site-packages (from nltk) (4.65.0)\r\n"
     ]
    }
   ],
   "source": [
    "# 자연어 처리를 위한 NLTK 패키지 설치\n",
    "!pip install nltk"
   ]
  },
  {
   "cell_type": "code",
   "outputs": [
    {
     "data": {
      "text/plain": "'3.8.1'"
     },
     "execution_count": 2,
     "metadata": {},
     "output_type": "execute_result"
    }
   ],
   "source": [
    "import nltk\n",
    "nltk.__version__\n",
    "\n",
    "# 특별한 메소드를 사용할때 __를 붙여서 나타냄 \n",
    "# 이를 스페셜 메소드 또는 매직 메소드라 함\n",
    "\n",
    "# 다양한 스페셜 메소드\n",
    "# __init__: 클래스의 인스턴스가 생성될 때 호출되는 생성자 메소드입니다.\n",
    "# __str__: 객체를 문자열로 표현할 때 사용되며, print() 함수가 호출될 때 자동으로 사용됩니다.\n",
    "# __repr__: 객체의 공식적인 문자열 표현으로, 주로 개발자가 이해하는 형태로 표현됩니다. \n",
    "#            인터프리터에서 그 객체를 단독으로 평가했을 때 나타나는 형태입니다.\n",
    "# __add__: 두 객체의 덧셈 연산자(+)가 사용될 때 호출됩니다.\n",
    "# __iter__와 __next__: 객체가 이터레이터로 동작할 때 사용되는 메소드입니다.\n",
    "# __getitem__, __setitem__, __delitem__: 객체가 리스트처럼 동작하게 하여, 객체에 대한 인덱싱과 슬라이싱을 가능하게 합니다."
   ],
   "metadata": {
    "collapsed": false,
    "ExecuteTime": {
     "end_time": "2024-02-02T13:03:05.499968Z",
     "start_time": "2024-02-02T13:03:04.448075Z"
    }
   },
   "id": "20211162f5a123e8",
   "execution_count": 2
  },
  {
   "cell_type": "code",
   "outputs": [
    {
     "name": "stdout",
     "output_type": "stream",
     "text": [
      "showing info https://raw.githubusercontent.com/nltk/nltk_data/gh-pages/index.xml\n"
     ]
    },
    {
     "data": {
      "text/plain": "True"
     },
     "execution_count": 3,
     "metadata": {},
     "output_type": "execute_result"
    }
   ],
   "source": [
    "# NLTK의 기능을 재대로 사용하기 위해선 NLTK Data를 추가적으로 설치해야함\n",
    "nltk.download()"
   ],
   "metadata": {
    "collapsed": false,
    "ExecuteTime": {
     "end_time": "2024-02-02T13:29:56.028618Z",
     "start_time": "2024-02-02T13:07:45.534169Z"
    }
   },
   "id": "fdf14b335599fc8a",
   "execution_count": 3
  },
  {
   "cell_type": "code",
   "outputs": [
    {
     "name": "stdout",
     "output_type": "stream",
     "text": [
      "Collecting konlpy\r\n",
      "  Downloading konlpy-0.6.0-py2.py3-none-any.whl (19.4 MB)\r\n",
      "\u001B[2K     \u001B[90m━━━━━━━━━━━━━━━━━━━━━━━━━━━━━━━━━━━━━━━\u001B[0m \u001B[32m19.4/19.4 MB\u001B[0m \u001B[31m589.1 kB/s\u001B[0m eta \u001B[36m0:00:00\u001B[0m00:01\u001B[0m00:01\u001B[0m\r\n",
      "\u001B[?25hCollecting JPype1>=0.7.0 (from konlpy)\r\n",
      "  Obtaining dependency information for JPype1>=0.7.0 from https://files.pythonhosted.org/packages/98/37/0049866cbfecb879b46d8e9f9b70944624ab17152a282ad5cf60909054ec/JPype1-1.5.0-cp311-cp311-macosx_10_9_universal2.whl.metadata\r\n",
      "  Downloading JPype1-1.5.0-cp311-cp311-macosx_10_9_universal2.whl.metadata (4.9 kB)\r\n",
      "Requirement already satisfied: lxml>=4.1.0 in /Users/hyun-uk/anaconda3/lib/python3.11/site-packages (from konlpy) (4.9.3)\r\n",
      "Requirement already satisfied: numpy>=1.6 in /Users/hyun-uk/anaconda3/lib/python3.11/site-packages (from konlpy) (1.24.3)\r\n",
      "Requirement already satisfied: packaging in /Users/hyun-uk/anaconda3/lib/python3.11/site-packages (from JPype1>=0.7.0->konlpy) (23.1)\r\n",
      "Downloading JPype1-1.5.0-cp311-cp311-macosx_10_9_universal2.whl (587 kB)\r\n",
      "\u001B[2K   \u001B[90m━━━━━━━━━━━━━━━━━━━━━━━━━━━━━━━━━━━━━━━\u001B[0m \u001B[32m587.4/587.4 kB\u001B[0m \u001B[31m549.1 kB/s\u001B[0m eta \u001B[36m0:00:00\u001B[0ma \u001B[36m0:00:01\u001B[0m\r\n",
      "\u001B[?25hInstalling collected packages: JPype1, konlpy\r\n",
      "Successfully installed JPype1-1.5.0 konlpy-0.6.0\r\n"
     ]
    }
   ],
   "source": [
    "# 한국어 자연어 처리를 위한 KoNLPy 설치\n",
    "!pip install konlpy"
   ],
   "metadata": {
    "collapsed": false,
    "ExecuteTime": {
     "end_time": "2024-02-02T13:31:15.615841Z",
     "start_time": "2024-02-02T13:30:38.625897Z"
    }
   },
   "id": "d5c9776d01779d44",
   "execution_count": 4
  },
  {
   "cell_type": "code",
   "outputs": [
    {
     "data": {
      "text/plain": "'0.6.0'"
     },
     "execution_count": 1,
     "metadata": {},
     "output_type": "execute_result"
    }
   ],
   "source": [
    "import konlpy\n",
    "konlpy.__version__"
   ],
   "metadata": {
    "collapsed": false,
    "ExecuteTime": {
     "end_time": "2024-02-02T14:30:11.167856Z",
     "start_time": "2024-02-02T14:30:11.142482Z"
    }
   },
   "id": "5f1e2f81e4cb1078",
   "execution_count": 1
  },
  {
   "cell_type": "code",
   "outputs": [
    {
     "data": {
      "text/plain": "'1.24.3'"
     },
     "execution_count": 2,
     "metadata": {},
     "output_type": "execute_result"
    }
   ],
   "source": [
    "# 넘파이 확인\n",
    "# !pip install numpy\n",
    "import numpy as np\n",
    "np.__version__"
   ],
   "metadata": {
    "collapsed": false,
    "ExecuteTime": {
     "end_time": "2024-02-02T14:33:57.355763Z",
     "start_time": "2024-02-02T14:33:57.168017Z"
    }
   },
   "id": "41d365ef140559b8",
   "execution_count": 2
  },
  {
   "cell_type": "markdown",
   "source": [
    "## 데이터 분리"
   ],
   "metadata": {
    "collapsed": false
   },
   "id": "77cb773d7021843c"
  },
  {
   "cell_type": "code",
   "outputs": [],
   "source": [
    "import pandas as pd\n",
    "from sklearn.model_selection import train_test_split"
   ],
   "metadata": {
    "collapsed": false,
    "ExecuteTime": {
     "end_time": "2024-02-02T14:43:29.629905Z",
     "start_time": "2024-02-02T14:43:28.636729Z"
    }
   },
   "id": "84dbb746bf40b403",
   "execution_count": 4
  },
  {
   "cell_type": "code",
   "outputs": [
    {
     "name": "stdout",
     "output_type": "stream",
     "text": [
      "X 데이터 :  ('a', 'b', 'c')\n",
      "y 데이터 :  (1, 2, 3)\n"
     ]
    }
   ],
   "source": [
    "# x와 y 분리하기 => zip 함수 사용\n",
    "X, y  = zip(['a',1],['b',2],['c',3])\n",
    "print('X 데이터 : ',X)\n",
    "print('y 데이터 : ', y)"
   ],
   "metadata": {
    "collapsed": false,
    "ExecuteTime": {
     "end_time": "2024-02-02T14:46:03.052474Z",
     "start_time": "2024-02-02T14:46:03.042794Z"
    }
   },
   "id": "f6bdae40d99680e0",
   "execution_count": 5
  },
  {
   "cell_type": "code",
   "outputs": [
    {
     "data": {
      "text/plain": "                    메일 본문  스팸 메일 유무\n0        당신에게 드리는 마지막 혜택!         1\n1    내일 뵐 수 있을지 확인 부탁드...         0\n2    도연씨. 잘 지내시죠? 오랜만입...         0\n3  (광고) AI로 주가를 예측할 수 있다!         1",
      "text/html": "<div>\n<style scoped>\n    .dataframe tbody tr th:only-of-type {\n        vertical-align: middle;\n    }\n\n    .dataframe tbody tr th {\n        vertical-align: top;\n    }\n\n    .dataframe thead th {\n        text-align: right;\n    }\n</style>\n<table border=\"1\" class=\"dataframe\">\n  <thead>\n    <tr style=\"text-align: right;\">\n      <th></th>\n      <th>메일 본문</th>\n      <th>스팸 메일 유무</th>\n    </tr>\n  </thead>\n  <tbody>\n    <tr>\n      <th>0</th>\n      <td>당신에게 드리는 마지막 혜택!</td>\n      <td>1</td>\n    </tr>\n    <tr>\n      <th>1</th>\n      <td>내일 뵐 수 있을지 확인 부탁드...</td>\n      <td>0</td>\n    </tr>\n    <tr>\n      <th>2</th>\n      <td>도연씨. 잘 지내시죠? 오랜만입...</td>\n      <td>0</td>\n    </tr>\n    <tr>\n      <th>3</th>\n      <td>(광고) AI로 주가를 예측할 수 있다!</td>\n      <td>1</td>\n    </tr>\n  </tbody>\n</table>\n</div>"
     },
     "execution_count": 6,
     "metadata": {},
     "output_type": "execute_result"
    }
   ],
   "source": [
    "values = [['당신에게 드리는 마지막 혜택!', 1],\n",
    "['내일 뵐 수 있을지 확인 부탁드...', 0],\n",
    "['도연씨. 잘 지내시죠? 오랜만입...', 0],\n",
    "['(광고) AI로 주가를 예측할 수 있다!', 1]]\n",
    "columns = ['메일 본문', '스팸 메일 유무']\n",
    "\n",
    "df = pd.DataFrame(values, columns=columns)\n",
    "df\n"
   ],
   "metadata": {
    "collapsed": false,
    "ExecuteTime": {
     "end_time": "2024-02-02T14:46:17.303219Z",
     "start_time": "2024-02-02T14:46:17.284032Z"
    }
   },
   "id": "79e7b63967bd379d",
   "execution_count": 6
  },
  {
   "cell_type": "code",
   "outputs": [],
   "source": [
    "# 테스트 데이터 분리하기\n",
    "X_train, X_test, y_train, y_test = train_test_split(X, y, test_size= 0.2, random_state=1234)\n",
    "# random_state => 랜덤 시드"
   ],
   "metadata": {
    "collapsed": false,
    "ExecuteTime": {
     "end_time": "2024-02-02T14:47:33.514011Z",
     "start_time": "2024-02-02T14:47:33.510283Z"
    }
   },
   "id": "56b13f4958a1d3c6",
   "execution_count": 7
  },
  {
   "cell_type": "code",
   "outputs": [],
   "source": [],
   "metadata": {
    "collapsed": false
   },
   "id": "2d171887e7af9546"
  }
 ],
 "metadata": {
  "kernelspec": {
   "display_name": "Python 3",
   "language": "python",
   "name": "python3"
  },
  "language_info": {
   "codemirror_mode": {
    "name": "ipython",
    "version": 2
   },
   "file_extension": ".py",
   "mimetype": "text/x-python",
   "name": "python",
   "nbconvert_exporter": "python",
   "pygments_lexer": "ipython2",
   "version": "2.7.6"
  }
 },
 "nbformat": 4,
 "nbformat_minor": 5
}
