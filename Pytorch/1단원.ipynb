{
 "cells": [
  {
   "cell_type": "code",
   "execution_count": 1,
   "id": "initial_id",
   "metadata": {
    "collapsed": true,
    "ExecuteTime": {
     "end_time": "2024-02-02T18:43:14.028390Z",
     "start_time": "2024-02-02T18:43:10.567242Z"
    }
   },
   "outputs": [
    {
     "name": "stdout",
     "output_type": "stream",
     "text": [
      "Requirement already satisfied: nltk in /Users/hyun-uk/anaconda3/lib/python3.11/site-packages (3.8.1)\r\n",
      "Requirement already satisfied: click in /Users/hyun-uk/anaconda3/lib/python3.11/site-packages (from nltk) (8.0.4)\r\n",
      "Requirement already satisfied: joblib in /Users/hyun-uk/anaconda3/lib/python3.11/site-packages (from nltk) (1.2.0)\r\n",
      "Requirement already satisfied: regex>=2021.8.3 in /Users/hyun-uk/anaconda3/lib/python3.11/site-packages (from nltk) (2022.7.9)\r\n",
      "Requirement already satisfied: tqdm in /Users/hyun-uk/anaconda3/lib/python3.11/site-packages (from nltk) (4.65.0)\r\n"
     ]
    }
   ],
   "source": [
    "# 자연어 처리를 위한 NLTK 패키지 설치\n",
    "!pip install nltk"
   ]
  },
  {
   "cell_type": "code",
   "outputs": [
    {
     "data": {
      "text/plain": "'3.8.1'"
     },
     "execution_count": 2,
     "metadata": {},
     "output_type": "execute_result"
    }
   ],
   "source": [
    "import nltk\n",
    "nltk.__version__\n",
    "\n",
    "# 특별한 메소드를 사용할때 __를 붙여서 나타냄 \n",
    "# 이를 스페셜 메소드 또는 매직 메소드라 함\n",
    "\n",
    "# 다양한 스페셜 메소드\n",
    "# __init__: 클래스의 인스턴스가 생성될 때 호출되는 생성자 메소드입니다.\n",
    "# __str__: 객체를 문자열로 표현할 때 사용되며, print() 함수가 호출될 때 자동으로 사용됩니다.\n",
    "# __repr__: 객체의 공식적인 문자열 표현으로, 주로 개발자가 이해하는 형태로 표현됩니다. \n",
    "#            인터프리터에서 그 객체를 단독으로 평가했을 때 나타나는 형태입니다.\n",
    "# __add__: 두 객체의 덧셈 연산자(+)가 사용될 때 호출됩니다.\n",
    "# __iter__와 __next__: 객체가 이터레이터로 동작할 때 사용되는 메소드입니다.\n",
    "# __getitem__, __setitem__, __delitem__: 객체가 리스트처럼 동작하게 하여, 객체에 대한 인덱싱과 슬라이싱을 가능하게 합니다."
   ],
   "metadata": {
    "collapsed": false,
    "ExecuteTime": {
     "end_time": "2024-02-02T18:43:14.862327Z",
     "start_time": "2024-02-02T18:43:14.035977Z"
    }
   },
   "id": "20211162f5a123e8",
   "execution_count": 2
  },
  {
   "cell_type": "code",
   "outputs": [
    {
     "name": "stdout",
     "output_type": "stream",
     "text": [
      "showing info https://raw.githubusercontent.com/nltk/nltk_data/gh-pages/index.xml\n"
     ]
    },
    {
     "data": {
      "text/plain": "True"
     },
     "execution_count": 3,
     "metadata": {},
     "output_type": "execute_result"
    }
   ],
   "source": [
    "# NLTK의 기능을 재대로 사용하기 위해선 NLTK Data를 추가적으로 설치해야함\n",
    "nltk.download()"
   ],
   "metadata": {
    "collapsed": false,
    "ExecuteTime": {
     "end_time": "2024-02-02T18:43:20.159123Z",
     "start_time": "2024-02-02T18:43:15.069629Z"
    }
   },
   "id": "fdf14b335599fc8a",
   "execution_count": 3
  },
  {
   "cell_type": "code",
   "outputs": [
    {
     "name": "stdout",
     "output_type": "stream",
     "text": [
      "Requirement already satisfied: konlpy in /Users/hyun-uk/anaconda3/lib/python3.11/site-packages (0.6.0)\r\n",
      "Requirement already satisfied: JPype1>=0.7.0 in /Users/hyun-uk/anaconda3/lib/python3.11/site-packages (from konlpy) (1.5.0)\r\n",
      "Requirement already satisfied: lxml>=4.1.0 in /Users/hyun-uk/anaconda3/lib/python3.11/site-packages (from konlpy) (4.9.3)\r\n",
      "Requirement already satisfied: numpy>=1.6 in /Users/hyun-uk/anaconda3/lib/python3.11/site-packages (from konlpy) (1.24.3)\r\n",
      "Requirement already satisfied: packaging in /Users/hyun-uk/anaconda3/lib/python3.11/site-packages (from JPype1>=0.7.0->konlpy) (23.1)\r\n"
     ]
    }
   ],
   "source": [
    "# 한국어 자연어 처리를 위한 KoNLPy 설치\n",
    "!pip install konlpy"
   ],
   "metadata": {
    "collapsed": false,
    "ExecuteTime": {
     "end_time": "2024-02-02T18:43:23.196969Z",
     "start_time": "2024-02-02T18:43:20.152576Z"
    }
   },
   "id": "d5c9776d01779d44",
   "execution_count": 4
  },
  {
   "cell_type": "code",
   "outputs": [
    {
     "data": {
      "text/plain": "'0.6.0'"
     },
     "execution_count": 5,
     "metadata": {},
     "output_type": "execute_result"
    }
   ],
   "source": [
    "import konlpy\n",
    "konlpy.__version__"
   ],
   "metadata": {
    "collapsed": false,
    "ExecuteTime": {
     "end_time": "2024-02-02T18:43:23.217894Z",
     "start_time": "2024-02-02T18:43:23.199138Z"
    }
   },
   "id": "5f1e2f81e4cb1078",
   "execution_count": 5
  },
  {
   "cell_type": "code",
   "outputs": [
    {
     "data": {
      "text/plain": "'1.24.3'"
     },
     "execution_count": 6,
     "metadata": {},
     "output_type": "execute_result"
    }
   ],
   "source": [
    "# 넘파이 확인\n",
    "# !pip install numpy\n",
    "import numpy as np\n",
    "np.__version__"
   ],
   "metadata": {
    "collapsed": false,
    "ExecuteTime": {
     "end_time": "2024-02-02T18:43:23.221529Z",
     "start_time": "2024-02-02T18:43:23.216011Z"
    }
   },
   "id": "41d365ef140559b8",
   "execution_count": 6
  },
  {
   "cell_type": "markdown",
   "source": [
    "## 데이터 분리"
   ],
   "metadata": {
    "collapsed": false
   },
   "id": "77cb773d7021843c"
  },
  {
   "cell_type": "code",
   "outputs": [],
   "source": [
    "import pandas as pd\n",
    "from sklearn.model_selection import train_test_split"
   ],
   "metadata": {
    "collapsed": false,
    "ExecuteTime": {
     "end_time": "2024-02-02T18:43:23.487327Z",
     "start_time": "2024-02-02T18:43:23.219444Z"
    }
   },
   "id": "84dbb746bf40b403",
   "execution_count": 7
  },
  {
   "cell_type": "code",
   "outputs": [
    {
     "name": "stdout",
     "output_type": "stream",
     "text": [
      "X 데이터 :  ('a', 'b', 'c')\n",
      "y 데이터 :  (1, 2, 3)\n"
     ]
    }
   ],
   "source": [
    "# x와 y 분리하기 => zip 함수 사용\n",
    "X, y  = zip(['a',1],['b',2],['c',3])\n",
    "print('X 데이터 : ',X)\n",
    "print('y 데이터 : ', y)"
   ],
   "metadata": {
    "collapsed": false,
    "ExecuteTime": {
     "end_time": "2024-02-02T18:43:23.490846Z",
     "start_time": "2024-02-02T18:43:23.487687Z"
    }
   },
   "id": "f6bdae40d99680e0",
   "execution_count": 8
  },
  {
   "cell_type": "code",
   "outputs": [
    {
     "data": {
      "text/plain": "                    메일 본문  스팸 메일 유무\n0        당신에게 드리는 마지막 혜택!         1\n1    내일 뵐 수 있을지 확인 부탁드...         0\n2    도연씨. 잘 지내시죠? 오랜만입...         0\n3  (광고) AI로 주가를 예측할 수 있다!         1",
      "text/html": "<div>\n<style scoped>\n    .dataframe tbody tr th:only-of-type {\n        vertical-align: middle;\n    }\n\n    .dataframe tbody tr th {\n        vertical-align: top;\n    }\n\n    .dataframe thead th {\n        text-align: right;\n    }\n</style>\n<table border=\"1\" class=\"dataframe\">\n  <thead>\n    <tr style=\"text-align: right;\">\n      <th></th>\n      <th>메일 본문</th>\n      <th>스팸 메일 유무</th>\n    </tr>\n  </thead>\n  <tbody>\n    <tr>\n      <th>0</th>\n      <td>당신에게 드리는 마지막 혜택!</td>\n      <td>1</td>\n    </tr>\n    <tr>\n      <th>1</th>\n      <td>내일 뵐 수 있을지 확인 부탁드...</td>\n      <td>0</td>\n    </tr>\n    <tr>\n      <th>2</th>\n      <td>도연씨. 잘 지내시죠? 오랜만입...</td>\n      <td>0</td>\n    </tr>\n    <tr>\n      <th>3</th>\n      <td>(광고) AI로 주가를 예측할 수 있다!</td>\n      <td>1</td>\n    </tr>\n  </tbody>\n</table>\n</div>"
     },
     "execution_count": 9,
     "metadata": {},
     "output_type": "execute_result"
    }
   ],
   "source": [
    "values = [['당신에게 드리는 마지막 혜택!', 1],\n",
    "['내일 뵐 수 있을지 확인 부탁드...', 0],\n",
    "['도연씨. 잘 지내시죠? 오랜만입...', 0],\n",
    "['(광고) AI로 주가를 예측할 수 있다!', 1]]\n",
    "columns = ['메일 본문', '스팸 메일 유무']\n",
    "\n",
    "df = pd.DataFrame(values, columns=columns)\n",
    "df\n"
   ],
   "metadata": {
    "collapsed": false,
    "ExecuteTime": {
     "end_time": "2024-02-02T18:43:23.499371Z",
     "start_time": "2024-02-02T18:43:23.491774Z"
    }
   },
   "id": "79e7b63967bd379d",
   "execution_count": 9
  },
  {
   "cell_type": "code",
   "outputs": [],
   "source": [
    "# 테스트 데이터 분리하기\n",
    "X_train, X_test, y_train, y_test = train_test_split(X, y, test_size= 0.2, random_state=1234)\n",
    "# random_state => 랜덤 시드"
   ],
   "metadata": {
    "collapsed": false,
    "ExecuteTime": {
     "end_time": "2024-02-02T18:43:23.499896Z",
     "start_time": "2024-02-02T18:43:23.497077Z"
    }
   },
   "id": "56b13f4958a1d3c6",
   "execution_count": 10
  },
  {
   "cell_type": "code",
   "outputs": [],
   "source": [],
   "metadata": {
    "collapsed": false,
    "ExecuteTime": {
     "end_time": "2024-02-02T18:43:23.503077Z",
     "start_time": "2024-02-02T18:43:23.499395Z"
    }
   },
   "id": "2d171887e7af9546",
   "execution_count": 10
  }
 ],
 "metadata": {
  "kernelspec": {
   "display_name": "Python 3",
   "language": "python",
   "name": "python3"
  },
  "language_info": {
   "codemirror_mode": {
    "name": "ipython",
    "version": 2
   },
   "file_extension": ".py",
   "mimetype": "text/x-python",
   "name": "python",
   "nbconvert_exporter": "python",
   "pygments_lexer": "ipython2",
   "version": "2.7.6"
  }
 },
 "nbformat": 4,
 "nbformat_minor": 5
}
