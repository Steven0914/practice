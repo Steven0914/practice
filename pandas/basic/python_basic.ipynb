{
 "cells": [
  {
   "cell_type": "markdown",
   "source": [
    "# 파이썬 기초 공부\n",
    "\n",
    " "
   ],
   "metadata": {
    "collapsed": false
   },
   "id": "fde3fdea3211f2f0"
  },
  {
   "cell_type": "markdown",
   "source": [
    "## 입출력"
   ],
   "metadata": {
    "collapsed": false
   },
   "id": "634922bca1ebdb0e"
  },
  {
   "cell_type": "code",
   "execution_count": 2,
   "outputs": [
    {
     "name": "stdout",
     "output_type": "stream",
     "text": [
      "당신이 입력한 x 값은  3, y 값은 4 입니다.\n",
      "당신이 입력한 x 값은  3 y 값은 4입니다.\n"
     ]
    }
   ],
   "source": [
    "x = input(\"x 값을 입력하세요. : \")\n",
    "y = input(\"y 값을 입력하세요\")\n",
    "\n",
    "# 출력 방식 2가지 \n",
    "print(\"당신이 입력한 x 값은  {}, y 값은 {} 입니다.\".format(x, y))\n",
    "print(\"당신이 입력한 x 값은  \" + x + \" y 값은 \" + y + \"입니다.\")\n"
   ],
   "metadata": {
    "collapsed": false,
    "ExecuteTime": {
     "end_time": "2024-01-01T09:02:01.094730Z",
     "start_time": "2024-01-01T09:01:58.518156Z"
    }
   },
   "id": "84405f70379ae8dc"
  },
  {
   "cell_type": "code",
   "execution_count": 2,
   "outputs": [
    {
     "data": {
      "text/plain": "[1, 4, 9, 16]"
     },
     "execution_count": 2,
     "metadata": {},
     "output_type": "execute_result"
    }
   ],
   "source": [
    "# list comprehension\n",
    "lists = [1, 2, 3, 4]\n",
    "[element ** 2 for element in lists]\n"
   ],
   "metadata": {
    "collapsed": false,
    "ExecuteTime": {
     "end_time": "2024-01-04T10:25:01.116377Z",
     "start_time": "2024-01-04T10:25:01.103220Z"
    }
   },
   "id": "5b2f3f7ca0205ec"
  },
  {
   "cell_type": "markdown",
   "source": [
    "## 파이썬 기본 함수"
   ],
   "metadata": {
    "collapsed": false
   },
   "id": "d97334967672e37f"
  },
  {
   "cell_type": "code",
   "execution_count": 5,
   "outputs": [
    {
     "ename": "TypeError",
     "evalue": "'list' object is not callable",
     "output_type": "error",
     "traceback": [
      "\u001B[0;31m---------------------------------------------------------------------------\u001B[0m",
      "\u001B[0;31mTypeError\u001B[0m                                 Traceback (most recent call last)",
      "Cell \u001B[0;32mIn[5], line 2\u001B[0m\n\u001B[1;32m      1\u001B[0m x \u001B[38;5;241m=\u001B[39m [\u001B[38;5;241m4\u001B[39m,\u001B[38;5;241m5\u001B[39m,\u001B[38;5;241m1\u001B[39m,\u001B[38;5;241m2\u001B[39m,\u001B[38;5;241m8\u001B[39m,\u001B[38;5;241m5\u001B[39m]\n\u001B[0;32m----> 2\u001B[0m y \u001B[38;5;241m=\u001B[39m \u001B[38;5;28mlist\u001B[39m(\u001B[38;5;28mrange\u001B[39m(\u001B[38;5;241m1\u001B[39m,\u001B[38;5;241m7\u001B[39m))\n\u001B[1;32m      3\u001B[0m \u001B[38;5;28mprint\u001B[39m(x)\n\u001B[1;32m      4\u001B[0m \u001B[38;5;28mprint\u001B[39m(y)\n",
      "\u001B[0;31mTypeError\u001B[0m: 'list' object is not callable"
     ]
    }
   ],
   "source": [
    "x = [4, 5, 1, 2, 8, 5]\n",
    "y = list(range(1, 7))\n",
    "print(x)\n",
    "print(y)"
   ],
   "metadata": {
    "collapsed": false,
    "ExecuteTime": {
     "end_time": "2024-01-04T10:51:17.867301Z",
     "start_time": "2024-01-04T10:51:17.865205Z"
    }
   },
   "id": "c9c63da5c3d52252"
  },
  {
   "cell_type": "code",
   "execution_count": 6,
   "outputs": [
    {
     "data": {
      "text/plain": "(4, 5, 1, 2, 8, 5)"
     },
     "execution_count": 6,
     "metadata": {},
     "output_type": "execute_result"
    }
   ],
   "source": [
    "z = tuple(x)\n",
    "z"
   ],
   "metadata": {
    "collapsed": false,
    "ExecuteTime": {
     "end_time": "2024-01-04T10:52:00.499670Z",
     "start_time": "2024-01-04T10:52:00.488145Z"
    }
   },
   "id": "ea05dca86a6fcf42"
  },
  {
   "cell_type": "code",
   "execution_count": 7,
   "outputs": [
    {
     "data": {
      "text/plain": "tuple"
     },
     "execution_count": 7,
     "metadata": {},
     "output_type": "execute_result"
    }
   ],
   "source": [
    "type(z)"
   ],
   "metadata": {
    "collapsed": false,
    "ExecuteTime": {
     "end_time": "2024-01-04T10:52:07.628690Z",
     "start_time": "2024-01-04T10:52:07.618967Z"
    }
   },
   "id": "a4fbe5ac1ee15541"
  },
  {
   "cell_type": "code",
   "execution_count": 8,
   "outputs": [
    {
     "data": {
      "text/plain": "25"
     },
     "execution_count": 8,
     "metadata": {},
     "output_type": "execute_result"
    }
   ],
   "source": [
    "sum(x)"
   ],
   "metadata": {
    "collapsed": false,
    "ExecuteTime": {
     "end_time": "2024-01-04T10:52:14.221572Z",
     "start_time": "2024-01-04T10:52:14.213841Z"
    }
   },
   "id": "fa21569ba9218c4d"
  },
  {
   "cell_type": "code",
   "execution_count": 10,
   "outputs": [
    {
     "data": {
      "text/plain": "100"
     },
     "execution_count": 10,
     "metadata": {},
     "output_type": "execute_result"
    }
   ],
   "source": [
    "# 람다식\n",
    "y = lambda x: x ** 2\n",
    "y(10)"
   ],
   "metadata": {
    "collapsed": false,
    "ExecuteTime": {
     "end_time": "2024-01-04T10:57:56.230282Z",
     "start_time": "2024-01-04T10:57:56.221143Z"
    }
   },
   "id": "d10d1d27950f5e9"
  },
  {
   "cell_type": "code",
   "execution_count": 11,
   "outputs": [
    {
     "data": {
      "text/plain": "6"
     },
     "execution_count": 11,
     "metadata": {},
     "output_type": "execute_result"
    }
   ],
   "source": [
    "result = lambda x,y,z:x+y+z\n",
    "result(1,2,3)\n"
   ],
   "metadata": {
    "collapsed": false,
    "ExecuteTime": {
     "end_time": "2024-01-04T10:58:43.450792Z",
     "start_time": "2024-01-04T10:58:43.441498Z"
    }
   },
   "id": "39a060a6a82dfeef"
  },
  {
   "cell_type": "code",
   "execution_count": 1,
   "outputs": [
    {
     "data": {
      "text/plain": "[2, 11, 14, 18, 16]"
     },
     "execution_count": 1,
     "metadata": {},
     "output_type": "execute_result"
    }
   ],
   "source": [
    "#map\n",
    "a = [1,4,5,6,9]\n",
    "b = [1,7,9,12,7]\n",
    "\n",
    "def sum(a,b):\n",
    "   return a+b\n",
    "c = list(map(sum,a,b))\n",
    "c"
   ],
   "metadata": {
    "collapsed": false,
    "ExecuteTime": {
     "end_time": "2024-01-04T11:12:02.444780Z",
     "start_time": "2024-01-04T11:12:02.418891Z"
    }
   },
   "id": "c34b0174d3320b44"
  },
  {
   "cell_type": "code",
   "execution_count": 3,
   "outputs": [
    {
     "data": {
      "text/plain": "[1, 4, 9, 16]"
     },
     "execution_count": 3,
     "metadata": {},
     "output_type": "execute_result"
    }
   ],
   "source": [
    "input_list = [1,2,3,4]\n",
    "out_list = list(map(lambda x:x**2,input_list))\n",
    "out_list"
   ],
   "metadata": {
    "collapsed": false,
    "ExecuteTime": {
     "end_time": "2024-01-04T11:13:08.530152Z",
     "start_time": "2024-01-04T11:13:08.519891Z"
    }
   },
   "id": "56fa02a84d30f207"
  },
  {
   "cell_type": "code",
   "execution_count": 7,
   "outputs": [
    {
     "name": "stdout",
     "output_type": "stream",
     "text": [
      "[2, 4, 6, 8]\n"
     ]
    }
   ],
   "source": [
    "prices = [1,2,3,4,5,6,7,8,9]\n",
    "out = list(filter( lambda x:x%2==0, prices ))\n",
    "print(out)"
   ],
   "metadata": {
    "collapsed": false,
    "ExecuteTime": {
     "end_time": "2024-01-04T11:50:24.392481Z",
     "start_time": "2024-01-04T11:50:24.387606Z"
    }
   },
   "id": "6b0135b8c18a6381"
  },
  {
   "cell_type": "code",
   "execution_count": null,
   "outputs": [],
   "source": [],
   "metadata": {
    "collapsed": false
   },
   "id": "eebab8aa9e3e36a3"
  }
 ],
 "metadata": {
  "kernelspec": {
   "display_name": "Python 3",
   "language": "python",
   "name": "python3"
  },
  "language_info": {
   "codemirror_mode": {
    "name": "ipython",
    "version": 2
   },
   "file_extension": ".py",
   "mimetype": "text/x-python",
   "name": "python",
   "nbconvert_exporter": "python",
   "pygments_lexer": "ipython2",
   "version": "2.7.6"
  }
 },
 "nbformat": 4,
 "nbformat_minor": 5
}
