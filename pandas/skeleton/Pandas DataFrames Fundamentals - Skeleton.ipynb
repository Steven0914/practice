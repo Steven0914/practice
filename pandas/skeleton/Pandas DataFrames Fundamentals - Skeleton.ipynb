{
 "nbformat": 4,
 "nbformat_minor": 0,
 "metadata": {
  "colab": {
   "name": "Pandas DataFrames Fundamentals - Skeleton backup.ipynb",
   "provenance": [],
   "collapsed_sections": [],
   "authorship_tag": "ABX9TyPrUWtBsKeUClIGnjE/3a0N"
  },
  "kernelspec": {
   "name": "python3",
   "language": "python",
   "display_name": "Python 3 (ipykernel)"
  }
 },
 "cells": [
  {
   "cell_type": "markdown",
   "metadata": {
    "id": "zrncFdJwNpL3"
   },
   "source": [
    "# 1. DEFINE A PANDAS DATAFRAME"
   ]
  },
  {
   "cell_type": "code",
   "metadata": {
    "id": "OQxUokJiXSHh",
    "ExecuteTime": {
     "end_time": "2024-01-08T11:51:09.855039Z",
     "start_time": "2024-01-08T11:51:05.559102Z"
    }
   },
   "source": [
    "import pandas as pd"
   ],
   "execution_count": 2,
   "outputs": []
  },
  {
   "cell_type": "code",
   "metadata": {
    "id": "YnV7pFX0q3_C",
    "ExecuteTime": {
     "end_time": "2024-01-08T11:51:09.925453Z",
     "start_time": "2024-01-08T11:51:09.834656Z"
    }
   },
   "source": [
    "# Let's define a two-dimensional Pandas DataFrame\n",
    "# Note that you can create a pandas dataframe from a python dictionary\n",
    "bank_client_df = pd.DataFrame({'Bank Client Id': [111, 222, 333],\n",
    "                               'Bank Client Name': ['A', 'B', 'C'],\n",
    "                               'Net Worth [$]': [100, 200, 300],\n",
    "                               'Years with Bank': [2, 4, 5]})\n",
    "bank_client_df"
   ],
   "execution_count": 3,
   "outputs": [
    {
     "data": {
      "text/plain": "   Bank Client Id Bank Client Name  Net Worth [$]  Years with Bank\n0             111                A            100                2\n1             222                B            200                4\n2             333                C            300                5",
      "text/html": "<div>\n<style scoped>\n    .dataframe tbody tr th:only-of-type {\n        vertical-align: middle;\n    }\n\n    .dataframe tbody tr th {\n        vertical-align: top;\n    }\n\n    .dataframe thead th {\n        text-align: right;\n    }\n</style>\n<table border=\"1\" class=\"dataframe\">\n  <thead>\n    <tr style=\"text-align: right;\">\n      <th></th>\n      <th>Bank Client Id</th>\n      <th>Bank Client Name</th>\n      <th>Net Worth [$]</th>\n      <th>Years with Bank</th>\n    </tr>\n  </thead>\n  <tbody>\n    <tr>\n      <th>0</th>\n      <td>111</td>\n      <td>A</td>\n      <td>100</td>\n      <td>2</td>\n    </tr>\n    <tr>\n      <th>1</th>\n      <td>222</td>\n      <td>B</td>\n      <td>200</td>\n      <td>4</td>\n    </tr>\n    <tr>\n      <th>2</th>\n      <td>333</td>\n      <td>C</td>\n      <td>300</td>\n      <td>5</td>\n    </tr>\n  </tbody>\n</table>\n</div>"
     },
     "execution_count": 3,
     "metadata": {},
     "output_type": "execute_result"
    }
   ]
  },
  {
   "cell_type": "code",
   "metadata": {
    "id": "9LXSKDSTq4Fb",
    "ExecuteTime": {
     "end_time": "2024-01-08T11:51:10.076879Z",
     "start_time": "2024-01-08T11:51:09.900003Z"
    }
   },
   "source": [
    "# Let's obtain the data type \n",
    "type(bank_client_df)"
   ],
   "execution_count": 4,
   "outputs": [
    {
     "data": {
      "text/plain": "pandas.core.frame.DataFrame"
     },
     "execution_count": 4,
     "metadata": {},
     "output_type": "execute_result"
    }
   ]
  },
  {
   "cell_type": "code",
   "metadata": {
    "id": "h93nb1trtwhu",
    "ExecuteTime": {
     "end_time": "2024-01-08T11:51:10.215352Z",
     "start_time": "2024-01-08T11:51:10.077321Z"
    }
   },
   "source": [
    "# you can only view the first couple of rows using .head()\n",
    "bank_client_df.head(2)"
   ],
   "execution_count": 5,
   "outputs": [
    {
     "data": {
      "text/plain": "   Bank Client Id Bank Client Name  Net Worth [$]  Years with Bank\n0             111                A            100                2\n1             222                B            200                4",
      "text/html": "<div>\n<style scoped>\n    .dataframe tbody tr th:only-of-type {\n        vertical-align: middle;\n    }\n\n    .dataframe tbody tr th {\n        vertical-align: top;\n    }\n\n    .dataframe thead th {\n        text-align: right;\n    }\n</style>\n<table border=\"1\" class=\"dataframe\">\n  <thead>\n    <tr style=\"text-align: right;\">\n      <th></th>\n      <th>Bank Client Id</th>\n      <th>Bank Client Name</th>\n      <th>Net Worth [$]</th>\n      <th>Years with Bank</th>\n    </tr>\n  </thead>\n  <tbody>\n    <tr>\n      <th>0</th>\n      <td>111</td>\n      <td>A</td>\n      <td>100</td>\n      <td>2</td>\n    </tr>\n    <tr>\n      <th>1</th>\n      <td>222</td>\n      <td>B</td>\n      <td>200</td>\n      <td>4</td>\n    </tr>\n  </tbody>\n</table>\n</div>"
     },
     "execution_count": 5,
     "metadata": {},
     "output_type": "execute_result"
    }
   ]
  },
  {
   "cell_type": "code",
   "metadata": {
    "id": "7kkAAG0Ft2Q1",
    "ExecuteTime": {
     "end_time": "2024-01-08T11:51:10.445975Z",
     "start_time": "2024-01-08T11:51:10.185209Z"
    }
   },
   "source": [
    "# you can only view the last couple of rows using .tail()\n",
    "bank_client_df.tail(1)"
   ],
   "execution_count": 6,
   "outputs": [
    {
     "data": {
      "text/plain": "   Bank Client Id Bank Client Name  Net Worth [$]  Years with Bank\n2             333                C            300                5",
      "text/html": "<div>\n<style scoped>\n    .dataframe tbody tr th:only-of-type {\n        vertical-align: middle;\n    }\n\n    .dataframe tbody tr th {\n        vertical-align: top;\n    }\n\n    .dataframe thead th {\n        text-align: right;\n    }\n</style>\n<table border=\"1\" class=\"dataframe\">\n  <thead>\n    <tr style=\"text-align: right;\">\n      <th></th>\n      <th>Bank Client Id</th>\n      <th>Bank Client Name</th>\n      <th>Net Worth [$]</th>\n      <th>Years with Bank</th>\n    </tr>\n  </thead>\n  <tbody>\n    <tr>\n      <th>2</th>\n      <td>333</td>\n      <td>C</td>\n      <td>300</td>\n      <td>5</td>\n    </tr>\n  </tbody>\n</table>\n</div>"
     },
     "execution_count": 6,
     "metadata": {},
     "output_type": "execute_result"
    }
   ]
  },
  {
   "cell_type": "code",
   "metadata": {
    "id": "cLPBbSvYhvG1",
    "ExecuteTime": {
     "end_time": "2024-01-08T11:51:10.601536Z",
     "start_time": "2024-01-08T11:51:10.432754Z"
    }
   },
   "source": [
    "# You can obtain the shape of the DataFrame (#rows, #columns)\n",
    "bank_client_df.shape"
   ],
   "execution_count": 7,
   "outputs": [
    {
     "data": {
      "text/plain": "(3, 4)"
     },
     "execution_count": 7,
     "metadata": {},
     "output_type": "execute_result"
    }
   ]
  },
  {
   "cell_type": "code",
   "metadata": {
    "id": "PuQCeozVh3mZ",
    "ExecuteTime": {
     "end_time": "2024-01-08T11:51:10.814195Z",
     "start_time": "2024-01-08T11:51:10.592271Z"
    }
   },
   "source": [
    "# Obtain DataFrame information \n",
    "bank_client_df.info()"
   ],
   "execution_count": 8,
   "outputs": [
    {
     "name": "stdout",
     "output_type": "stream",
     "text": [
      "<class 'pandas.core.frame.DataFrame'>\n",
      "RangeIndex: 3 entries, 0 to 2\n",
      "Data columns (total 4 columns):\n",
      " #   Column            Non-Null Count  Dtype \n",
      "---  ------            --------------  ----- \n",
      " 0   Bank Client Id    3 non-null      int64 \n",
      " 1   Bank Client Name  3 non-null      object\n",
      " 2   Net Worth [$]     3 non-null      int64 \n",
      " 3   Years with Bank   3 non-null      int64 \n",
      "dtypes: int64(3), object(1)\n",
      "memory usage: 228.0+ bytes\n"
     ]
    }
   ]
  },
  {
   "cell_type": "markdown",
   "metadata": {
    "id": "Ro-OAYbsy_EA"
   },
   "source": [
    "**MINI CHALLENGE #1:**\n",
    "- **A porfolio contains a collection of securities such as stocks, bonds and ETFs. Define a dataframe named 'portfolio_df' that holds 3 different stock ticker symbols, number of shares, and price per share (feel free to choose any stocks)**\n",
    "- **Calculate the total value of the porfolio including all stocks**"
   ]
  },
  {
   "cell_type": "code",
   "metadata": {
    "id": "zgAFS4N-1cDg",
    "ExecuteTime": {
     "end_time": "2024-01-08T11:51:10.962940Z",
     "start_time": "2024-01-08T11:51:10.808442Z"
    }
   },
   "source": [],
   "execution_count": 8,
   "outputs": []
  },
  {
   "cell_type": "markdown",
   "metadata": {
    "id": "d06IyHT9uffC"
   },
   "source": [
    "# 2. INPUTS (READ CSV AND HTML DATA)"
   ]
  },
  {
   "cell_type": "code",
   "metadata": {
    "id": "lHB4RP5luJwF",
    "ExecuteTime": {
     "end_time": "2024-01-08T11:51:11.228866Z",
     "start_time": "2024-01-08T11:51:10.952865Z"
    }
   },
   "source": [
    "# Pandas is used to read a csv file and store data in a DataFrame\n",
    "bank_df = pd.read_csv('../datasets/bank_client_information.csv')"
   ],
   "execution_count": 9,
   "outputs": []
  },
  {
   "cell_type": "code",
   "metadata": {
    "id": "OqdhTgIfuoTy",
    "ExecuteTime": {
     "end_time": "2024-01-08T11:51:11.310426Z",
     "start_time": "2024-01-08T11:51:11.224271Z"
    }
   },
   "source": [
    "bank_df"
   ],
   "execution_count": 10,
   "outputs": [
    {
     "data": {
      "text/plain": "  First Name Last Name                    Email Postal Code  Net Worth  \\\n0      Bird      Steve           bird@gmail.com     N94 3M0    5000.00   \n1       Noah     Small       nsmall@hotmail.com     N8S 14K   10000.00   \n2       Nina    Keller          azikez@gahew.mr     S1T 4E6    9072.02   \n3    Chanel      Steve         chanel@gmail.com     N7T 3E6   11072.02   \n4       Kate      Noor         kate@hotmail.com     K8N 5H6    5000.00   \n5      Samer        Mo          samer@gmail.com     J7H 3HY  100000.00   \n6       Heba    Ismail  heba.ismail@hotmail.com     K8Y 3M8   50000.00   \n7      Laila     Ahmed      Laila.a@hotmail.com     J8Y 3M0   20000.00   \n8     Joseph    Patton           daafeja@boh.jm     M6U 5U7    2629.13   \n9       Noah     Moran        guutodi@bigwoc.kw     K2D 4M9    8626.96   \n\n   Years with Bank  \n0                5  \n1                6  \n2                7  \n3               10  \n4               22  \n5               26  \n6               11  \n7                3  \n8                1  \n9               13  ",
      "text/html": "<div>\n<style scoped>\n    .dataframe tbody tr th:only-of-type {\n        vertical-align: middle;\n    }\n\n    .dataframe tbody tr th {\n        vertical-align: top;\n    }\n\n    .dataframe thead th {\n        text-align: right;\n    }\n</style>\n<table border=\"1\" class=\"dataframe\">\n  <thead>\n    <tr style=\"text-align: right;\">\n      <th></th>\n      <th>First Name</th>\n      <th>Last Name</th>\n      <th>Email</th>\n      <th>Postal Code</th>\n      <th>Net Worth</th>\n      <th>Years with Bank</th>\n    </tr>\n  </thead>\n  <tbody>\n    <tr>\n      <th>0</th>\n      <td>Bird</td>\n      <td>Steve</td>\n      <td>bird@gmail.com</td>\n      <td>N94 3M0</td>\n      <td>5000.00</td>\n      <td>5</td>\n    </tr>\n    <tr>\n      <th>1</th>\n      <td>Noah</td>\n      <td>Small</td>\n      <td>nsmall@hotmail.com</td>\n      <td>N8S 14K</td>\n      <td>10000.00</td>\n      <td>6</td>\n    </tr>\n    <tr>\n      <th>2</th>\n      <td>Nina</td>\n      <td>Keller</td>\n      <td>azikez@gahew.mr</td>\n      <td>S1T 4E6</td>\n      <td>9072.02</td>\n      <td>7</td>\n    </tr>\n    <tr>\n      <th>3</th>\n      <td>Chanel</td>\n      <td>Steve</td>\n      <td>chanel@gmail.com</td>\n      <td>N7T 3E6</td>\n      <td>11072.02</td>\n      <td>10</td>\n    </tr>\n    <tr>\n      <th>4</th>\n      <td>Kate</td>\n      <td>Noor</td>\n      <td>kate@hotmail.com</td>\n      <td>K8N 5H6</td>\n      <td>5000.00</td>\n      <td>22</td>\n    </tr>\n    <tr>\n      <th>5</th>\n      <td>Samer</td>\n      <td>Mo</td>\n      <td>samer@gmail.com</td>\n      <td>J7H 3HY</td>\n      <td>100000.00</td>\n      <td>26</td>\n    </tr>\n    <tr>\n      <th>6</th>\n      <td>Heba</td>\n      <td>Ismail</td>\n      <td>heba.ismail@hotmail.com</td>\n      <td>K8Y 3M8</td>\n      <td>50000.00</td>\n      <td>11</td>\n    </tr>\n    <tr>\n      <th>7</th>\n      <td>Laila</td>\n      <td>Ahmed</td>\n      <td>Laila.a@hotmail.com</td>\n      <td>J8Y 3M0</td>\n      <td>20000.00</td>\n      <td>3</td>\n    </tr>\n    <tr>\n      <th>8</th>\n      <td>Joseph</td>\n      <td>Patton</td>\n      <td>daafeja@boh.jm</td>\n      <td>M6U 5U7</td>\n      <td>2629.13</td>\n      <td>1</td>\n    </tr>\n    <tr>\n      <th>9</th>\n      <td>Noah</td>\n      <td>Moran</td>\n      <td>guutodi@bigwoc.kw</td>\n      <td>K2D 4M9</td>\n      <td>8626.96</td>\n      <td>13</td>\n    </tr>\n  </tbody>\n</table>\n</div>"
     },
     "execution_count": 10,
     "metadata": {},
     "output_type": "execute_result"
    }
   ]
  },
  {
   "cell_type": "code",
   "metadata": {
    "id": "tAJRGqF-uobr",
    "ExecuteTime": {
     "end_time": "2024-01-08T11:51:13.264132Z",
     "start_time": "2024-01-08T11:51:11.307905Z"
    }
   },
   "source": [
    "# Read tabular data using read_html\n",
    "house_prices_df = pd.read_html('https://www.livingin-canada.com/house-prices-canada.html')"
   ],
   "execution_count": 11,
   "outputs": []
  },
  {
   "cell_type": "code",
   "metadata": {
    "id": "Al8bvyYEuods",
    "ExecuteTime": {
     "end_time": "2024-01-08T11:51:13.274188Z",
     "start_time": "2024-01-08T11:51:13.214832Z"
    }
   },
   "source": [
    "house_prices_df[0]"
   ],
   "execution_count": 12,
   "outputs": [
    {
     "data": {
      "text/plain": "                                                City  \\\n0                                      Vancouver, BC   \n1                                       Toronto, Ont   \n2                                        Ottawa, Ont   \n3                                       Calgary, Alb   \n4                                      Montreal, Que   \n5                                        Halifax, NS   \n6                                       Regina, Sask   \n7                                    Fredericton, NB   \n8  (adsbygoogle = window.adsbygoogle || []).push(...   \n\n                                 Average House Price  \\\n0                                         $1,036,000   \n1                                           $870,000   \n2                                           $479,000   \n3                                           $410,000   \n4                                           $435,000   \n5                                           $331,000   \n6                                           $254,000   \n7                                           $198,000   \n8  (adsbygoogle = window.adsbygoogle || []).push(...   \n\n                                     12 Month Change  \n0                                           + 2.63 %  \n1                                            +10.2 %  \n2                                           + 15.4 %  \n3                                            – 1.5 %  \n4                                            + 9.3 %  \n5                                            + 3.6 %  \n6                                            – 3.9 %  \n7                                            – 4.3 %  \n8  (adsbygoogle = window.adsbygoogle || []).push(...  ",
      "text/html": "<div>\n<style scoped>\n    .dataframe tbody tr th:only-of-type {\n        vertical-align: middle;\n    }\n\n    .dataframe tbody tr th {\n        vertical-align: top;\n    }\n\n    .dataframe thead th {\n        text-align: right;\n    }\n</style>\n<table border=\"1\" class=\"dataframe\">\n  <thead>\n    <tr style=\"text-align: right;\">\n      <th></th>\n      <th>City</th>\n      <th>Average House Price</th>\n      <th>12 Month Change</th>\n    </tr>\n  </thead>\n  <tbody>\n    <tr>\n      <th>0</th>\n      <td>Vancouver, BC</td>\n      <td>$1,036,000</td>\n      <td>+ 2.63 %</td>\n    </tr>\n    <tr>\n      <th>1</th>\n      <td>Toronto, Ont</td>\n      <td>$870,000</td>\n      <td>+10.2 %</td>\n    </tr>\n    <tr>\n      <th>2</th>\n      <td>Ottawa, Ont</td>\n      <td>$479,000</td>\n      <td>+ 15.4 %</td>\n    </tr>\n    <tr>\n      <th>3</th>\n      <td>Calgary, Alb</td>\n      <td>$410,000</td>\n      <td>– 1.5 %</td>\n    </tr>\n    <tr>\n      <th>4</th>\n      <td>Montreal, Que</td>\n      <td>$435,000</td>\n      <td>+ 9.3 %</td>\n    </tr>\n    <tr>\n      <th>5</th>\n      <td>Halifax, NS</td>\n      <td>$331,000</td>\n      <td>+ 3.6 %</td>\n    </tr>\n    <tr>\n      <th>6</th>\n      <td>Regina, Sask</td>\n      <td>$254,000</td>\n      <td>– 3.9 %</td>\n    </tr>\n    <tr>\n      <th>7</th>\n      <td>Fredericton, NB</td>\n      <td>$198,000</td>\n      <td>– 4.3 %</td>\n    </tr>\n    <tr>\n      <th>8</th>\n      <td>(adsbygoogle = window.adsbygoogle || []).push(...</td>\n      <td>(adsbygoogle = window.adsbygoogle || []).push(...</td>\n      <td>(adsbygoogle = window.adsbygoogle || []).push(...</td>\n    </tr>\n  </tbody>\n</table>\n</div>"
     },
     "execution_count": 12,
     "metadata": {},
     "output_type": "execute_result"
    }
   ]
  },
  {
   "cell_type": "code",
   "metadata": {
    "id": "K-abffkEuoZs",
    "ExecuteTime": {
     "end_time": "2024-01-08T11:51:13.302402Z",
     "start_time": "2024-01-08T11:51:13.225958Z"
    }
   },
   "source": [
    "house_prices_df[1]"
   ],
   "execution_count": 13,
   "outputs": [
    {
     "data": {
      "text/plain": "                                             Province  \\\n0                                    British Columbia   \n1                                             Ontario   \n2                                             Alberta   \n3                                              Quebec   \n4                                            Manitoba   \n5                                        Saskatchewan   \n6                                         Nova Scotia   \n7                                Prince Edward Island   \n8                             Newfoundland / Labrador   \n9                                       New Brunswick   \n10                                   Canadian Average   \n11  (adsbygoogle = window.adsbygoogle || []).push(...   \n\n                                  Average House Price  \\\n0                                            $736,000   \n1                                            $594,000   \n2                                            $353,000   \n3                                            $340,000   \n4                                            $295,000   \n5                                            $271,000   \n6                                            $266,000   \n7                                            $243,000   \n8                                            $236,000   \n9                                            $183,000   \n10                                           $488,000   \n11  (adsbygoogle = window.adsbygoogle || []).push(...   \n\n                                      12 Month Change  \n0                                             + 7.6 %  \n1                                             – 3.2 %  \n2                                             – 7.5 %  \n3                                             + 7.6 %  \n4                                             – 1.4 %  \n5                                             – 3.8 %  \n6                                             + 3.5 %  \n7                                             + 3.0 %  \n8                                             – 1.6 %  \n9                                             – 2.2 %  \n10                                            – 1.3 %  \n11  (adsbygoogle = window.adsbygoogle || []).push(...  ",
      "text/html": "<div>\n<style scoped>\n    .dataframe tbody tr th:only-of-type {\n        vertical-align: middle;\n    }\n\n    .dataframe tbody tr th {\n        vertical-align: top;\n    }\n\n    .dataframe thead th {\n        text-align: right;\n    }\n</style>\n<table border=\"1\" class=\"dataframe\">\n  <thead>\n    <tr style=\"text-align: right;\">\n      <th></th>\n      <th>Province</th>\n      <th>Average House Price</th>\n      <th>12 Month Change</th>\n    </tr>\n  </thead>\n  <tbody>\n    <tr>\n      <th>0</th>\n      <td>British Columbia</td>\n      <td>$736,000</td>\n      <td>+ 7.6 %</td>\n    </tr>\n    <tr>\n      <th>1</th>\n      <td>Ontario</td>\n      <td>$594,000</td>\n      <td>– 3.2 %</td>\n    </tr>\n    <tr>\n      <th>2</th>\n      <td>Alberta</td>\n      <td>$353,000</td>\n      <td>– 7.5 %</td>\n    </tr>\n    <tr>\n      <th>3</th>\n      <td>Quebec</td>\n      <td>$340,000</td>\n      <td>+ 7.6 %</td>\n    </tr>\n    <tr>\n      <th>4</th>\n      <td>Manitoba</td>\n      <td>$295,000</td>\n      <td>– 1.4 %</td>\n    </tr>\n    <tr>\n      <th>5</th>\n      <td>Saskatchewan</td>\n      <td>$271,000</td>\n      <td>– 3.8 %</td>\n    </tr>\n    <tr>\n      <th>6</th>\n      <td>Nova Scotia</td>\n      <td>$266,000</td>\n      <td>+ 3.5 %</td>\n    </tr>\n    <tr>\n      <th>7</th>\n      <td>Prince Edward Island</td>\n      <td>$243,000</td>\n      <td>+ 3.0 %</td>\n    </tr>\n    <tr>\n      <th>8</th>\n      <td>Newfoundland / Labrador</td>\n      <td>$236,000</td>\n      <td>– 1.6 %</td>\n    </tr>\n    <tr>\n      <th>9</th>\n      <td>New Brunswick</td>\n      <td>$183,000</td>\n      <td>– 2.2 %</td>\n    </tr>\n    <tr>\n      <th>10</th>\n      <td>Canadian Average</td>\n      <td>$488,000</td>\n      <td>– 1.3 %</td>\n    </tr>\n    <tr>\n      <th>11</th>\n      <td>(adsbygoogle = window.adsbygoogle || []).push(...</td>\n      <td>(adsbygoogle = window.adsbygoogle || []).push(...</td>\n      <td>(adsbygoogle = window.adsbygoogle || []).push(...</td>\n    </tr>\n  </tbody>\n</table>\n</div>"
     },
     "execution_count": 13,
     "metadata": {},
     "output_type": "execute_result"
    }
   ]
  },
  {
   "cell_type": "markdown",
   "metadata": {
    "id": "jRtr2lpr2NHr"
   },
   "source": [
    "**MINI CHALLENGE #2:**\n",
    "- **Write a code that uses Pandas to read tabular US retirement data**\n",
    "- **You can use data from here: https://www.ssa.gov/oact/progdata/nra.html** "
   ]
  },
  {
   "cell_type": "code",
   "metadata": {
    "id": "N-yqdeq1ZBc3",
    "ExecuteTime": {
     "end_time": "2024-01-08T11:51:17.722714Z",
     "start_time": "2024-01-08T11:51:13.229495Z"
    }
   },
   "source": [
    "retirement_df = pd.read_html('https://www.ssa.gov/oact/progdata/nra.html')"
   ],
   "execution_count": 14,
   "outputs": []
  },
  {
   "cell_type": "code",
   "execution_count": 15,
   "outputs": [
    {
     "data": {
      "text/plain": "list"
     },
     "execution_count": 15,
     "metadata": {},
     "output_type": "execute_result"
    }
   ],
   "source": [
    "type(retirement_df)"
   ],
   "metadata": {
    "collapsed": false,
    "ExecuteTime": {
     "end_time": "2024-01-08T11:51:17.723098Z",
     "start_time": "2024-01-08T11:51:17.689802Z"
    }
   }
  },
  {
   "cell_type": "code",
   "execution_count": 16,
   "outputs": [
    {
     "data": {
      "text/plain": "                                        Year of birth  \\\n0                                      1937 and prior   \n1                                                1938   \n2                                                1939   \n3                                                1940   \n4                                                1941   \n5                                                1942   \n6                                             1943-54   \n7                                                1955   \n8                                                1956   \n9                                                1957   \n10                                               1958   \n11                                               1959   \n12                                     1960 and later   \n13  Notes: 1. Persons born on January 1 of any yea...   \n\n                                                  Age  \n0                                                  65  \n1                                     65 and 2 months  \n2                                     65 and 4 months  \n3                                     65 and 6 months  \n4                                     65 and 8 months  \n5                                    65 and 10 months  \n6                                                  66  \n7                                     66 and 2 months  \n8                                     66 and 4 months  \n9                                     66 and 6 months  \n10                                    66 and 8 months  \n11                                   66 and 10 months  \n12                                                 67  \n13  Notes: 1. Persons born on January 1 of any yea...  ",
      "text/html": "<div>\n<style scoped>\n    .dataframe tbody tr th:only-of-type {\n        vertical-align: middle;\n    }\n\n    .dataframe tbody tr th {\n        vertical-align: top;\n    }\n\n    .dataframe thead th {\n        text-align: right;\n    }\n</style>\n<table border=\"1\" class=\"dataframe\">\n  <thead>\n    <tr style=\"text-align: right;\">\n      <th></th>\n      <th>Year of birth</th>\n      <th>Age</th>\n    </tr>\n  </thead>\n  <tbody>\n    <tr>\n      <th>0</th>\n      <td>1937 and prior</td>\n      <td>65</td>\n    </tr>\n    <tr>\n      <th>1</th>\n      <td>1938</td>\n      <td>65 and 2 months</td>\n    </tr>\n    <tr>\n      <th>2</th>\n      <td>1939</td>\n      <td>65 and 4 months</td>\n    </tr>\n    <tr>\n      <th>3</th>\n      <td>1940</td>\n      <td>65 and 6 months</td>\n    </tr>\n    <tr>\n      <th>4</th>\n      <td>1941</td>\n      <td>65 and 8 months</td>\n    </tr>\n    <tr>\n      <th>5</th>\n      <td>1942</td>\n      <td>65 and 10 months</td>\n    </tr>\n    <tr>\n      <th>6</th>\n      <td>1943-54</td>\n      <td>66</td>\n    </tr>\n    <tr>\n      <th>7</th>\n      <td>1955</td>\n      <td>66 and 2 months</td>\n    </tr>\n    <tr>\n      <th>8</th>\n      <td>1956</td>\n      <td>66 and 4 months</td>\n    </tr>\n    <tr>\n      <th>9</th>\n      <td>1957</td>\n      <td>66 and 6 months</td>\n    </tr>\n    <tr>\n      <th>10</th>\n      <td>1958</td>\n      <td>66 and 8 months</td>\n    </tr>\n    <tr>\n      <th>11</th>\n      <td>1959</td>\n      <td>66 and 10 months</td>\n    </tr>\n    <tr>\n      <th>12</th>\n      <td>1960 and later</td>\n      <td>67</td>\n    </tr>\n    <tr>\n      <th>13</th>\n      <td>Notes: 1. Persons born on January 1 of any yea...</td>\n      <td>Notes: 1. Persons born on January 1 of any yea...</td>\n    </tr>\n  </tbody>\n</table>\n</div>"
     },
     "execution_count": 16,
     "metadata": {},
     "output_type": "execute_result"
    }
   ],
   "source": [
    "retirement_df[0]"
   ],
   "metadata": {
    "collapsed": false,
    "ExecuteTime": {
     "end_time": "2024-01-08T11:51:17.729720Z",
     "start_time": "2024-01-08T11:51:17.698344Z"
    }
   }
  },
  {
   "cell_type": "markdown",
   "metadata": {
    "id": "Y6cqkuf3YmNE"
   },
   "source": [
    "# 3. OUTPUTS (WRITE DATAFRAME INTO CSV)"
   ]
  },
  {
   "cell_type": "code",
   "metadata": {
    "id": "qF-eEa5h27rh",
    "ExecuteTime": {
     "end_time": "2024-01-08T11:51:17.910560Z",
     "start_time": "2024-01-08T11:51:17.706826Z"
    }
   },
   "source": [
    "# Let's define a two-dimensional Pandas DataFrame\n",
    "# Note that you can create a pandas dataframe from a python dictionary\n",
    "bank_df = pd.read_csv('../datasets/bank_client_information.csv')\n",
    "bank_df"
   ],
   "execution_count": 17,
   "outputs": [
    {
     "data": {
      "text/plain": "  First Name Last Name                    Email Postal Code  Net Worth  \\\n0      Bird      Steve           bird@gmail.com     N94 3M0    5000.00   \n1       Noah     Small       nsmall@hotmail.com     N8S 14K   10000.00   \n2       Nina    Keller          azikez@gahew.mr     S1T 4E6    9072.02   \n3    Chanel      Steve         chanel@gmail.com     N7T 3E6   11072.02   \n4       Kate      Noor         kate@hotmail.com     K8N 5H6    5000.00   \n5      Samer        Mo          samer@gmail.com     J7H 3HY  100000.00   \n6       Heba    Ismail  heba.ismail@hotmail.com     K8Y 3M8   50000.00   \n7      Laila     Ahmed      Laila.a@hotmail.com     J8Y 3M0   20000.00   \n8     Joseph    Patton           daafeja@boh.jm     M6U 5U7    2629.13   \n9       Noah     Moran        guutodi@bigwoc.kw     K2D 4M9    8626.96   \n\n   Years with Bank  \n0                5  \n1                6  \n2                7  \n3               10  \n4               22  \n5               26  \n6               11  \n7                3  \n8                1  \n9               13  ",
      "text/html": "<div>\n<style scoped>\n    .dataframe tbody tr th:only-of-type {\n        vertical-align: middle;\n    }\n\n    .dataframe tbody tr th {\n        vertical-align: top;\n    }\n\n    .dataframe thead th {\n        text-align: right;\n    }\n</style>\n<table border=\"1\" class=\"dataframe\">\n  <thead>\n    <tr style=\"text-align: right;\">\n      <th></th>\n      <th>First Name</th>\n      <th>Last Name</th>\n      <th>Email</th>\n      <th>Postal Code</th>\n      <th>Net Worth</th>\n      <th>Years with Bank</th>\n    </tr>\n  </thead>\n  <tbody>\n    <tr>\n      <th>0</th>\n      <td>Bird</td>\n      <td>Steve</td>\n      <td>bird@gmail.com</td>\n      <td>N94 3M0</td>\n      <td>5000.00</td>\n      <td>5</td>\n    </tr>\n    <tr>\n      <th>1</th>\n      <td>Noah</td>\n      <td>Small</td>\n      <td>nsmall@hotmail.com</td>\n      <td>N8S 14K</td>\n      <td>10000.00</td>\n      <td>6</td>\n    </tr>\n    <tr>\n      <th>2</th>\n      <td>Nina</td>\n      <td>Keller</td>\n      <td>azikez@gahew.mr</td>\n      <td>S1T 4E6</td>\n      <td>9072.02</td>\n      <td>7</td>\n    </tr>\n    <tr>\n      <th>3</th>\n      <td>Chanel</td>\n      <td>Steve</td>\n      <td>chanel@gmail.com</td>\n      <td>N7T 3E6</td>\n      <td>11072.02</td>\n      <td>10</td>\n    </tr>\n    <tr>\n      <th>4</th>\n      <td>Kate</td>\n      <td>Noor</td>\n      <td>kate@hotmail.com</td>\n      <td>K8N 5H6</td>\n      <td>5000.00</td>\n      <td>22</td>\n    </tr>\n    <tr>\n      <th>5</th>\n      <td>Samer</td>\n      <td>Mo</td>\n      <td>samer@gmail.com</td>\n      <td>J7H 3HY</td>\n      <td>100000.00</td>\n      <td>26</td>\n    </tr>\n    <tr>\n      <th>6</th>\n      <td>Heba</td>\n      <td>Ismail</td>\n      <td>heba.ismail@hotmail.com</td>\n      <td>K8Y 3M8</td>\n      <td>50000.00</td>\n      <td>11</td>\n    </tr>\n    <tr>\n      <th>7</th>\n      <td>Laila</td>\n      <td>Ahmed</td>\n      <td>Laila.a@hotmail.com</td>\n      <td>J8Y 3M0</td>\n      <td>20000.00</td>\n      <td>3</td>\n    </tr>\n    <tr>\n      <th>8</th>\n      <td>Joseph</td>\n      <td>Patton</td>\n      <td>daafeja@boh.jm</td>\n      <td>M6U 5U7</td>\n      <td>2629.13</td>\n      <td>1</td>\n    </tr>\n    <tr>\n      <th>9</th>\n      <td>Noah</td>\n      <td>Moran</td>\n      <td>guutodi@bigwoc.kw</td>\n      <td>K2D 4M9</td>\n      <td>8626.96</td>\n      <td>13</td>\n    </tr>\n  </tbody>\n</table>\n</div>"
     },
     "execution_count": 17,
     "metadata": {},
     "output_type": "execute_result"
    }
   ]
  },
  {
   "cell_type": "code",
   "metadata": {
    "id": "lhwAwJ7BuoXn",
    "ExecuteTime": {
     "end_time": "2024-01-08T11:51:17.952988Z",
     "start_time": "2024-01-08T11:51:17.713549Z"
    }
   },
   "source": [
    "# write to a csv file without an index\n",
    "bank_df.to_csv('sample.csv', index=True)"
   ],
   "execution_count": 18,
   "outputs": []
  },
  {
   "cell_type": "code",
   "execution_count": 18,
   "outputs": [],
   "source": [],
   "metadata": {
    "collapsed": false,
    "ExecuteTime": {
     "end_time": "2024-01-08T11:51:17.970981Z",
     "start_time": "2024-01-08T11:51:17.717106Z"
    }
   }
  },
  {
   "cell_type": "markdown",
   "metadata": {
    "id": "6zAIsDgosGp9"
   },
   "source": [
    "**MINI CHALLENGE #3:**\n",
    "- **Use set index = False and rerun the cell. Comment on the output CSV.**\n",
    "- **Try to leverage the attribute compression and rerun the cell**"
   ]
  },
  {
   "cell_type": "code",
   "metadata": {
    "id": "zkakcLRgsIEf",
    "ExecuteTime": {
     "end_time": "2024-01-08T11:51:18.047841Z",
     "start_time": "2024-01-08T11:51:17.722988Z"
    }
   },
   "source": [
    "bank_df.to_csv('sample_noindex.csv', index=False)"
   ],
   "execution_count": 19,
   "outputs": []
  },
  {
   "cell_type": "code",
   "execution_count": 20,
   "outputs": [],
   "source": [
    "bank_df.to_csv('sample_noindex.csv.gz', index=False, compression='gzip')"
   ],
   "metadata": {
    "collapsed": false,
    "ExecuteTime": {
     "end_time": "2024-01-08T11:51:18.079273Z",
     "start_time": "2024-01-08T11:51:17.727360Z"
    }
   }
  },
  {
   "cell_type": "markdown",
   "metadata": {
    "id": "UAYWMvHpR7eI"
   },
   "source": [
    "# 4. SETTING/RESETTING INDEX"
   ]
  },
  {
   "cell_type": "code",
   "metadata": {
    "id": "7EPZ4Oj3SAgo",
    "ExecuteTime": {
     "end_time": "2024-01-08T11:51:18.108545Z",
     "start_time": "2024-01-08T11:51:17.730422Z"
    }
   },
   "source": [
    "# Pandas is used to read a csv file and store data in a DataFrame\n",
    "# Note that a numeric index is being set by default\n",
    "bank_df = pd.read_csv('../datasets/bank_client_information.csv')\n",
    "bank_df"
   ],
   "execution_count": 21,
   "outputs": [
    {
     "data": {
      "text/plain": "  First Name Last Name                    Email Postal Code  Net Worth  \\\n0      Bird      Steve           bird@gmail.com     N94 3M0    5000.00   \n1       Noah     Small       nsmall@hotmail.com     N8S 14K   10000.00   \n2       Nina    Keller          azikez@gahew.mr     S1T 4E6    9072.02   \n3    Chanel      Steve         chanel@gmail.com     N7T 3E6   11072.02   \n4       Kate      Noor         kate@hotmail.com     K8N 5H6    5000.00   \n5      Samer        Mo          samer@gmail.com     J7H 3HY  100000.00   \n6       Heba    Ismail  heba.ismail@hotmail.com     K8Y 3M8   50000.00   \n7      Laila     Ahmed      Laila.a@hotmail.com     J8Y 3M0   20000.00   \n8     Joseph    Patton           daafeja@boh.jm     M6U 5U7    2629.13   \n9       Noah     Moran        guutodi@bigwoc.kw     K2D 4M9    8626.96   \n\n   Years with Bank  \n0                5  \n1                6  \n2                7  \n3               10  \n4               22  \n5               26  \n6               11  \n7                3  \n8                1  \n9               13  ",
      "text/html": "<div>\n<style scoped>\n    .dataframe tbody tr th:only-of-type {\n        vertical-align: middle;\n    }\n\n    .dataframe tbody tr th {\n        vertical-align: top;\n    }\n\n    .dataframe thead th {\n        text-align: right;\n    }\n</style>\n<table border=\"1\" class=\"dataframe\">\n  <thead>\n    <tr style=\"text-align: right;\">\n      <th></th>\n      <th>First Name</th>\n      <th>Last Name</th>\n      <th>Email</th>\n      <th>Postal Code</th>\n      <th>Net Worth</th>\n      <th>Years with Bank</th>\n    </tr>\n  </thead>\n  <tbody>\n    <tr>\n      <th>0</th>\n      <td>Bird</td>\n      <td>Steve</td>\n      <td>bird@gmail.com</td>\n      <td>N94 3M0</td>\n      <td>5000.00</td>\n      <td>5</td>\n    </tr>\n    <tr>\n      <th>1</th>\n      <td>Noah</td>\n      <td>Small</td>\n      <td>nsmall@hotmail.com</td>\n      <td>N8S 14K</td>\n      <td>10000.00</td>\n      <td>6</td>\n    </tr>\n    <tr>\n      <th>2</th>\n      <td>Nina</td>\n      <td>Keller</td>\n      <td>azikez@gahew.mr</td>\n      <td>S1T 4E6</td>\n      <td>9072.02</td>\n      <td>7</td>\n    </tr>\n    <tr>\n      <th>3</th>\n      <td>Chanel</td>\n      <td>Steve</td>\n      <td>chanel@gmail.com</td>\n      <td>N7T 3E6</td>\n      <td>11072.02</td>\n      <td>10</td>\n    </tr>\n    <tr>\n      <th>4</th>\n      <td>Kate</td>\n      <td>Noor</td>\n      <td>kate@hotmail.com</td>\n      <td>K8N 5H6</td>\n      <td>5000.00</td>\n      <td>22</td>\n    </tr>\n    <tr>\n      <th>5</th>\n      <td>Samer</td>\n      <td>Mo</td>\n      <td>samer@gmail.com</td>\n      <td>J7H 3HY</td>\n      <td>100000.00</td>\n      <td>26</td>\n    </tr>\n    <tr>\n      <th>6</th>\n      <td>Heba</td>\n      <td>Ismail</td>\n      <td>heba.ismail@hotmail.com</td>\n      <td>K8Y 3M8</td>\n      <td>50000.00</td>\n      <td>11</td>\n    </tr>\n    <tr>\n      <th>7</th>\n      <td>Laila</td>\n      <td>Ahmed</td>\n      <td>Laila.a@hotmail.com</td>\n      <td>J8Y 3M0</td>\n      <td>20000.00</td>\n      <td>3</td>\n    </tr>\n    <tr>\n      <th>8</th>\n      <td>Joseph</td>\n      <td>Patton</td>\n      <td>daafeja@boh.jm</td>\n      <td>M6U 5U7</td>\n      <td>2629.13</td>\n      <td>1</td>\n    </tr>\n    <tr>\n      <th>9</th>\n      <td>Noah</td>\n      <td>Moran</td>\n      <td>guutodi@bigwoc.kw</td>\n      <td>K2D 4M9</td>\n      <td>8626.96</td>\n      <td>13</td>\n    </tr>\n  </tbody>\n</table>\n</div>"
     },
     "execution_count": 21,
     "metadata": {},
     "output_type": "execute_result"
    }
   ]
  },
  {
   "cell_type": "code",
   "metadata": {
    "id": "xCTDeFjjSAjW",
    "ExecuteTime": {
     "end_time": "2024-01-08T11:51:18.128341Z",
     "start_time": "2024-01-08T11:51:17.740965Z"
    }
   },
   "source": [
    "# You can assign a specific column to be the index as follows\n",
    "bank_df.set_index('First Name', inplace=True)\n",
    "bank_df"
   ],
   "execution_count": 22,
   "outputs": [
    {
     "data": {
      "text/plain": "           Last Name                    Email Postal Code  Net Worth  \\\nFirst Name                                                             \nBird           Steve           bird@gmail.com     N94 3M0    5000.00   \nNoah           Small       nsmall@hotmail.com     N8S 14K   10000.00   \nNina          Keller          azikez@gahew.mr     S1T 4E6    9072.02   \nChanel         Steve         chanel@gmail.com     N7T 3E6   11072.02   \nKate            Noor         kate@hotmail.com     K8N 5H6    5000.00   \nSamer             Mo          samer@gmail.com     J7H 3HY  100000.00   \nHeba          Ismail  heba.ismail@hotmail.com     K8Y 3M8   50000.00   \nLaila          Ahmed      Laila.a@hotmail.com     J8Y 3M0   20000.00   \nJoseph        Patton           daafeja@boh.jm     M6U 5U7    2629.13   \nNoah           Moran        guutodi@bigwoc.kw     K2D 4M9    8626.96   \n\n            Years with Bank  \nFirst Name                   \nBird                      5  \nNoah                      6  \nNina                      7  \nChanel                   10  \nKate                     22  \nSamer                    26  \nHeba                     11  \nLaila                     3  \nJoseph                    1  \nNoah                     13  ",
      "text/html": "<div>\n<style scoped>\n    .dataframe tbody tr th:only-of-type {\n        vertical-align: middle;\n    }\n\n    .dataframe tbody tr th {\n        vertical-align: top;\n    }\n\n    .dataframe thead th {\n        text-align: right;\n    }\n</style>\n<table border=\"1\" class=\"dataframe\">\n  <thead>\n    <tr style=\"text-align: right;\">\n      <th></th>\n      <th>Last Name</th>\n      <th>Email</th>\n      <th>Postal Code</th>\n      <th>Net Worth</th>\n      <th>Years with Bank</th>\n    </tr>\n    <tr>\n      <th>First Name</th>\n      <th></th>\n      <th></th>\n      <th></th>\n      <th></th>\n      <th></th>\n    </tr>\n  </thead>\n  <tbody>\n    <tr>\n      <th>Bird</th>\n      <td>Steve</td>\n      <td>bird@gmail.com</td>\n      <td>N94 3M0</td>\n      <td>5000.00</td>\n      <td>5</td>\n    </tr>\n    <tr>\n      <th>Noah</th>\n      <td>Small</td>\n      <td>nsmall@hotmail.com</td>\n      <td>N8S 14K</td>\n      <td>10000.00</td>\n      <td>6</td>\n    </tr>\n    <tr>\n      <th>Nina</th>\n      <td>Keller</td>\n      <td>azikez@gahew.mr</td>\n      <td>S1T 4E6</td>\n      <td>9072.02</td>\n      <td>7</td>\n    </tr>\n    <tr>\n      <th>Chanel</th>\n      <td>Steve</td>\n      <td>chanel@gmail.com</td>\n      <td>N7T 3E6</td>\n      <td>11072.02</td>\n      <td>10</td>\n    </tr>\n    <tr>\n      <th>Kate</th>\n      <td>Noor</td>\n      <td>kate@hotmail.com</td>\n      <td>K8N 5H6</td>\n      <td>5000.00</td>\n      <td>22</td>\n    </tr>\n    <tr>\n      <th>Samer</th>\n      <td>Mo</td>\n      <td>samer@gmail.com</td>\n      <td>J7H 3HY</td>\n      <td>100000.00</td>\n      <td>26</td>\n    </tr>\n    <tr>\n      <th>Heba</th>\n      <td>Ismail</td>\n      <td>heba.ismail@hotmail.com</td>\n      <td>K8Y 3M8</td>\n      <td>50000.00</td>\n      <td>11</td>\n    </tr>\n    <tr>\n      <th>Laila</th>\n      <td>Ahmed</td>\n      <td>Laila.a@hotmail.com</td>\n      <td>J8Y 3M0</td>\n      <td>20000.00</td>\n      <td>3</td>\n    </tr>\n    <tr>\n      <th>Joseph</th>\n      <td>Patton</td>\n      <td>daafeja@boh.jm</td>\n      <td>M6U 5U7</td>\n      <td>2629.13</td>\n      <td>1</td>\n    </tr>\n    <tr>\n      <th>Noah</th>\n      <td>Moran</td>\n      <td>guutodi@bigwoc.kw</td>\n      <td>K2D 4M9</td>\n      <td>8626.96</td>\n      <td>13</td>\n    </tr>\n  </tbody>\n</table>\n</div>"
     },
     "execution_count": 22,
     "metadata": {},
     "output_type": "execute_result"
    }
   ]
  },
  {
   "cell_type": "code",
   "metadata": {
    "id": "11deXy0-SAmJ",
    "ExecuteTime": {
     "end_time": "2024-01-08T11:51:18.142295Z",
     "start_time": "2024-01-08T11:51:17.745515Z"
    }
   },
   "source": [
    "# You can go back and use numeric index using reset_index\n",
    "bank_df.reset_index(inplace=True)\n",
    "bank_df"
   ],
   "execution_count": 23,
   "outputs": [
    {
     "data": {
      "text/plain": "  First Name Last Name                    Email Postal Code  Net Worth  \\\n0      Bird      Steve           bird@gmail.com     N94 3M0    5000.00   \n1       Noah     Small       nsmall@hotmail.com     N8S 14K   10000.00   \n2       Nina    Keller          azikez@gahew.mr     S1T 4E6    9072.02   \n3    Chanel      Steve         chanel@gmail.com     N7T 3E6   11072.02   \n4       Kate      Noor         kate@hotmail.com     K8N 5H6    5000.00   \n5      Samer        Mo          samer@gmail.com     J7H 3HY  100000.00   \n6       Heba    Ismail  heba.ismail@hotmail.com     K8Y 3M8   50000.00   \n7      Laila     Ahmed      Laila.a@hotmail.com     J8Y 3M0   20000.00   \n8     Joseph    Patton           daafeja@boh.jm     M6U 5U7    2629.13   \n9       Noah     Moran        guutodi@bigwoc.kw     K2D 4M9    8626.96   \n\n   Years with Bank  \n0                5  \n1                6  \n2                7  \n3               10  \n4               22  \n5               26  \n6               11  \n7                3  \n8                1  \n9               13  ",
      "text/html": "<div>\n<style scoped>\n    .dataframe tbody tr th:only-of-type {\n        vertical-align: middle;\n    }\n\n    .dataframe tbody tr th {\n        vertical-align: top;\n    }\n\n    .dataframe thead th {\n        text-align: right;\n    }\n</style>\n<table border=\"1\" class=\"dataframe\">\n  <thead>\n    <tr style=\"text-align: right;\">\n      <th></th>\n      <th>First Name</th>\n      <th>Last Name</th>\n      <th>Email</th>\n      <th>Postal Code</th>\n      <th>Net Worth</th>\n      <th>Years with Bank</th>\n    </tr>\n  </thead>\n  <tbody>\n    <tr>\n      <th>0</th>\n      <td>Bird</td>\n      <td>Steve</td>\n      <td>bird@gmail.com</td>\n      <td>N94 3M0</td>\n      <td>5000.00</td>\n      <td>5</td>\n    </tr>\n    <tr>\n      <th>1</th>\n      <td>Noah</td>\n      <td>Small</td>\n      <td>nsmall@hotmail.com</td>\n      <td>N8S 14K</td>\n      <td>10000.00</td>\n      <td>6</td>\n    </tr>\n    <tr>\n      <th>2</th>\n      <td>Nina</td>\n      <td>Keller</td>\n      <td>azikez@gahew.mr</td>\n      <td>S1T 4E6</td>\n      <td>9072.02</td>\n      <td>7</td>\n    </tr>\n    <tr>\n      <th>3</th>\n      <td>Chanel</td>\n      <td>Steve</td>\n      <td>chanel@gmail.com</td>\n      <td>N7T 3E6</td>\n      <td>11072.02</td>\n      <td>10</td>\n    </tr>\n    <tr>\n      <th>4</th>\n      <td>Kate</td>\n      <td>Noor</td>\n      <td>kate@hotmail.com</td>\n      <td>K8N 5H6</td>\n      <td>5000.00</td>\n      <td>22</td>\n    </tr>\n    <tr>\n      <th>5</th>\n      <td>Samer</td>\n      <td>Mo</td>\n      <td>samer@gmail.com</td>\n      <td>J7H 3HY</td>\n      <td>100000.00</td>\n      <td>26</td>\n    </tr>\n    <tr>\n      <th>6</th>\n      <td>Heba</td>\n      <td>Ismail</td>\n      <td>heba.ismail@hotmail.com</td>\n      <td>K8Y 3M8</td>\n      <td>50000.00</td>\n      <td>11</td>\n    </tr>\n    <tr>\n      <th>7</th>\n      <td>Laila</td>\n      <td>Ahmed</td>\n      <td>Laila.a@hotmail.com</td>\n      <td>J8Y 3M0</td>\n      <td>20000.00</td>\n      <td>3</td>\n    </tr>\n    <tr>\n      <th>8</th>\n      <td>Joseph</td>\n      <td>Patton</td>\n      <td>daafeja@boh.jm</td>\n      <td>M6U 5U7</td>\n      <td>2629.13</td>\n      <td>1</td>\n    </tr>\n    <tr>\n      <th>9</th>\n      <td>Noah</td>\n      <td>Moran</td>\n      <td>guutodi@bigwoc.kw</td>\n      <td>K2D 4M9</td>\n      <td>8626.96</td>\n      <td>13</td>\n    </tr>\n  </tbody>\n</table>\n</div>"
     },
     "execution_count": 23,
     "metadata": {},
     "output_type": "execute_result"
    }
   ]
  },
  {
   "cell_type": "code",
   "metadata": {
    "id": "BtZlbIvJSArX",
    "ExecuteTime": {
     "end_time": "2024-01-08T11:51:18.152677Z",
     "start_time": "2024-01-08T11:51:17.750695Z"
    }
   },
   "source": [
    "# Alternatively, you can set the index name when you read the csv file as follows\n",
    "bank_df = pd.read_csv('../datasets/bank_client_information.csv', index_col='First Name')\n",
    "bank_df"
   ],
   "execution_count": 24,
   "outputs": [
    {
     "data": {
      "text/plain": "           Last Name                    Email Postal Code  Net Worth  \\\nFirst Name                                                             \nBird           Steve           bird@gmail.com     N94 3M0    5000.00   \nNoah           Small       nsmall@hotmail.com     N8S 14K   10000.00   \nNina          Keller          azikez@gahew.mr     S1T 4E6    9072.02   \nChanel         Steve         chanel@gmail.com     N7T 3E6   11072.02   \nKate            Noor         kate@hotmail.com     K8N 5H6    5000.00   \nSamer             Mo          samer@gmail.com     J7H 3HY  100000.00   \nHeba          Ismail  heba.ismail@hotmail.com     K8Y 3M8   50000.00   \nLaila          Ahmed      Laila.a@hotmail.com     J8Y 3M0   20000.00   \nJoseph        Patton           daafeja@boh.jm     M6U 5U7    2629.13   \nNoah           Moran        guutodi@bigwoc.kw     K2D 4M9    8626.96   \n\n            Years with Bank  \nFirst Name                   \nBird                      5  \nNoah                      6  \nNina                      7  \nChanel                   10  \nKate                     22  \nSamer                    26  \nHeba                     11  \nLaila                     3  \nJoseph                    1  \nNoah                     13  ",
      "text/html": "<div>\n<style scoped>\n    .dataframe tbody tr th:only-of-type {\n        vertical-align: middle;\n    }\n\n    .dataframe tbody tr th {\n        vertical-align: top;\n    }\n\n    .dataframe thead th {\n        text-align: right;\n    }\n</style>\n<table border=\"1\" class=\"dataframe\">\n  <thead>\n    <tr style=\"text-align: right;\">\n      <th></th>\n      <th>Last Name</th>\n      <th>Email</th>\n      <th>Postal Code</th>\n      <th>Net Worth</th>\n      <th>Years with Bank</th>\n    </tr>\n    <tr>\n      <th>First Name</th>\n      <th></th>\n      <th></th>\n      <th></th>\n      <th></th>\n      <th></th>\n    </tr>\n  </thead>\n  <tbody>\n    <tr>\n      <th>Bird</th>\n      <td>Steve</td>\n      <td>bird@gmail.com</td>\n      <td>N94 3M0</td>\n      <td>5000.00</td>\n      <td>5</td>\n    </tr>\n    <tr>\n      <th>Noah</th>\n      <td>Small</td>\n      <td>nsmall@hotmail.com</td>\n      <td>N8S 14K</td>\n      <td>10000.00</td>\n      <td>6</td>\n    </tr>\n    <tr>\n      <th>Nina</th>\n      <td>Keller</td>\n      <td>azikez@gahew.mr</td>\n      <td>S1T 4E6</td>\n      <td>9072.02</td>\n      <td>7</td>\n    </tr>\n    <tr>\n      <th>Chanel</th>\n      <td>Steve</td>\n      <td>chanel@gmail.com</td>\n      <td>N7T 3E6</td>\n      <td>11072.02</td>\n      <td>10</td>\n    </tr>\n    <tr>\n      <th>Kate</th>\n      <td>Noor</td>\n      <td>kate@hotmail.com</td>\n      <td>K8N 5H6</td>\n      <td>5000.00</td>\n      <td>22</td>\n    </tr>\n    <tr>\n      <th>Samer</th>\n      <td>Mo</td>\n      <td>samer@gmail.com</td>\n      <td>J7H 3HY</td>\n      <td>100000.00</td>\n      <td>26</td>\n    </tr>\n    <tr>\n      <th>Heba</th>\n      <td>Ismail</td>\n      <td>heba.ismail@hotmail.com</td>\n      <td>K8Y 3M8</td>\n      <td>50000.00</td>\n      <td>11</td>\n    </tr>\n    <tr>\n      <th>Laila</th>\n      <td>Ahmed</td>\n      <td>Laila.a@hotmail.com</td>\n      <td>J8Y 3M0</td>\n      <td>20000.00</td>\n      <td>3</td>\n    </tr>\n    <tr>\n      <th>Joseph</th>\n      <td>Patton</td>\n      <td>daafeja@boh.jm</td>\n      <td>M6U 5U7</td>\n      <td>2629.13</td>\n      <td>1</td>\n    </tr>\n    <tr>\n      <th>Noah</th>\n      <td>Moran</td>\n      <td>guutodi@bigwoc.kw</td>\n      <td>K2D 4M9</td>\n      <td>8626.96</td>\n      <td>13</td>\n    </tr>\n  </tbody>\n</table>\n</div>"
     },
     "execution_count": 24,
     "metadata": {},
     "output_type": "execute_result"
    }
   ]
  },
  {
   "cell_type": "markdown",
   "metadata": {
    "id": "7PyJ3Xpgs_Bv"
   },
   "source": [
    "**MINI CHALLENGE #4:**\n",
    "- **Load the bank_client_information.csv and then set the \"Last Name\" column as the index**"
   ]
  },
  {
   "cell_type": "code",
   "metadata": {
    "id": "exF1JcLWtCMd",
    "ExecuteTime": {
     "end_time": "2024-01-08T11:51:18.184393Z",
     "start_time": "2024-01-08T11:51:17.758628Z"
    }
   },
   "source": [
    "bank_df = pd.read_csv('../datasets/bank_client_information.csv', index_col='Last Name')\n",
    "bank_df"
   ],
   "execution_count": 25,
   "outputs": [
    {
     "data": {
      "text/plain": "          First Name                    Email Postal Code  Net Worth  \\\nLast Name                                                              \nSteve          Bird            bird@gmail.com     N94 3M0    5000.00   \nSmall           Noah       nsmall@hotmail.com     N8S 14K   10000.00   \nKeller          Nina          azikez@gahew.mr     S1T 4E6    9072.02   \nSteve        Chanel          chanel@gmail.com     N7T 3E6   11072.02   \nNoor            Kate         kate@hotmail.com     K8N 5H6    5000.00   \nMo             Samer          samer@gmail.com     J7H 3HY  100000.00   \nIsmail          Heba  heba.ismail@hotmail.com     K8Y 3M8   50000.00   \nAhmed          Laila      Laila.a@hotmail.com     J8Y 3M0   20000.00   \nPatton        Joseph           daafeja@boh.jm     M6U 5U7    2629.13   \nMoran           Noah        guutodi@bigwoc.kw     K2D 4M9    8626.96   \n\n           Years with Bank  \nLast Name                   \nSteve                    5  \nSmall                    6  \nKeller                   7  \nSteve                   10  \nNoor                    22  \nMo                      26  \nIsmail                  11  \nAhmed                    3  \nPatton                   1  \nMoran                   13  ",
      "text/html": "<div>\n<style scoped>\n    .dataframe tbody tr th:only-of-type {\n        vertical-align: middle;\n    }\n\n    .dataframe tbody tr th {\n        vertical-align: top;\n    }\n\n    .dataframe thead th {\n        text-align: right;\n    }\n</style>\n<table border=\"1\" class=\"dataframe\">\n  <thead>\n    <tr style=\"text-align: right;\">\n      <th></th>\n      <th>First Name</th>\n      <th>Email</th>\n      <th>Postal Code</th>\n      <th>Net Worth</th>\n      <th>Years with Bank</th>\n    </tr>\n    <tr>\n      <th>Last Name</th>\n      <th></th>\n      <th></th>\n      <th></th>\n      <th></th>\n      <th></th>\n    </tr>\n  </thead>\n  <tbody>\n    <tr>\n      <th>Steve</th>\n      <td>Bird</td>\n      <td>bird@gmail.com</td>\n      <td>N94 3M0</td>\n      <td>5000.00</td>\n      <td>5</td>\n    </tr>\n    <tr>\n      <th>Small</th>\n      <td>Noah</td>\n      <td>nsmall@hotmail.com</td>\n      <td>N8S 14K</td>\n      <td>10000.00</td>\n      <td>6</td>\n    </tr>\n    <tr>\n      <th>Keller</th>\n      <td>Nina</td>\n      <td>azikez@gahew.mr</td>\n      <td>S1T 4E6</td>\n      <td>9072.02</td>\n      <td>7</td>\n    </tr>\n    <tr>\n      <th>Steve</th>\n      <td>Chanel</td>\n      <td>chanel@gmail.com</td>\n      <td>N7T 3E6</td>\n      <td>11072.02</td>\n      <td>10</td>\n    </tr>\n    <tr>\n      <th>Noor</th>\n      <td>Kate</td>\n      <td>kate@hotmail.com</td>\n      <td>K8N 5H6</td>\n      <td>5000.00</td>\n      <td>22</td>\n    </tr>\n    <tr>\n      <th>Mo</th>\n      <td>Samer</td>\n      <td>samer@gmail.com</td>\n      <td>J7H 3HY</td>\n      <td>100000.00</td>\n      <td>26</td>\n    </tr>\n    <tr>\n      <th>Ismail</th>\n      <td>Heba</td>\n      <td>heba.ismail@hotmail.com</td>\n      <td>K8Y 3M8</td>\n      <td>50000.00</td>\n      <td>11</td>\n    </tr>\n    <tr>\n      <th>Ahmed</th>\n      <td>Laila</td>\n      <td>Laila.a@hotmail.com</td>\n      <td>J8Y 3M0</td>\n      <td>20000.00</td>\n      <td>3</td>\n    </tr>\n    <tr>\n      <th>Patton</th>\n      <td>Joseph</td>\n      <td>daafeja@boh.jm</td>\n      <td>M6U 5U7</td>\n      <td>2629.13</td>\n      <td>1</td>\n    </tr>\n    <tr>\n      <th>Moran</th>\n      <td>Noah</td>\n      <td>guutodi@bigwoc.kw</td>\n      <td>K2D 4M9</td>\n      <td>8626.96</td>\n      <td>13</td>\n    </tr>\n  </tbody>\n</table>\n</div>"
     },
     "execution_count": 25,
     "metadata": {},
     "output_type": "execute_result"
    }
   ]
  },
  {
   "cell_type": "markdown",
   "metadata": {
    "id": "L6kMgjACej-5"
   },
   "source": [
    "# 5. SELECTING COLUMNS FROM A DATAFRAME"
   ]
  },
  {
   "cell_type": "code",
   "metadata": {
    "id": "EbwxEZDNenqq",
    "ExecuteTime": {
     "end_time": "2024-01-08T11:51:18.192915Z",
     "start_time": "2024-01-08T11:51:17.765578Z"
    }
   },
   "source": [
    "# Pandas is used to read a csv file and store data in a DataFrame\n",
    "bank_df = pd.read_csv('../datasets/bank_client_information.csv')\n",
    "bank_df"
   ],
   "execution_count": 26,
   "outputs": [
    {
     "data": {
      "text/plain": "  First Name Last Name                    Email Postal Code  Net Worth  \\\n0      Bird      Steve           bird@gmail.com     N94 3M0    5000.00   \n1       Noah     Small       nsmall@hotmail.com     N8S 14K   10000.00   \n2       Nina    Keller          azikez@gahew.mr     S1T 4E6    9072.02   \n3    Chanel      Steve         chanel@gmail.com     N7T 3E6   11072.02   \n4       Kate      Noor         kate@hotmail.com     K8N 5H6    5000.00   \n5      Samer        Mo          samer@gmail.com     J7H 3HY  100000.00   \n6       Heba    Ismail  heba.ismail@hotmail.com     K8Y 3M8   50000.00   \n7      Laila     Ahmed      Laila.a@hotmail.com     J8Y 3M0   20000.00   \n8     Joseph    Patton           daafeja@boh.jm     M6U 5U7    2629.13   \n9       Noah     Moran        guutodi@bigwoc.kw     K2D 4M9    8626.96   \n\n   Years with Bank  \n0                5  \n1                6  \n2                7  \n3               10  \n4               22  \n5               26  \n6               11  \n7                3  \n8                1  \n9               13  ",
      "text/html": "<div>\n<style scoped>\n    .dataframe tbody tr th:only-of-type {\n        vertical-align: middle;\n    }\n\n    .dataframe tbody tr th {\n        vertical-align: top;\n    }\n\n    .dataframe thead th {\n        text-align: right;\n    }\n</style>\n<table border=\"1\" class=\"dataframe\">\n  <thead>\n    <tr style=\"text-align: right;\">\n      <th></th>\n      <th>First Name</th>\n      <th>Last Name</th>\n      <th>Email</th>\n      <th>Postal Code</th>\n      <th>Net Worth</th>\n      <th>Years with Bank</th>\n    </tr>\n  </thead>\n  <tbody>\n    <tr>\n      <th>0</th>\n      <td>Bird</td>\n      <td>Steve</td>\n      <td>bird@gmail.com</td>\n      <td>N94 3M0</td>\n      <td>5000.00</td>\n      <td>5</td>\n    </tr>\n    <tr>\n      <th>1</th>\n      <td>Noah</td>\n      <td>Small</td>\n      <td>nsmall@hotmail.com</td>\n      <td>N8S 14K</td>\n      <td>10000.00</td>\n      <td>6</td>\n    </tr>\n    <tr>\n      <th>2</th>\n      <td>Nina</td>\n      <td>Keller</td>\n      <td>azikez@gahew.mr</td>\n      <td>S1T 4E6</td>\n      <td>9072.02</td>\n      <td>7</td>\n    </tr>\n    <tr>\n      <th>3</th>\n      <td>Chanel</td>\n      <td>Steve</td>\n      <td>chanel@gmail.com</td>\n      <td>N7T 3E6</td>\n      <td>11072.02</td>\n      <td>10</td>\n    </tr>\n    <tr>\n      <th>4</th>\n      <td>Kate</td>\n      <td>Noor</td>\n      <td>kate@hotmail.com</td>\n      <td>K8N 5H6</td>\n      <td>5000.00</td>\n      <td>22</td>\n    </tr>\n    <tr>\n      <th>5</th>\n      <td>Samer</td>\n      <td>Mo</td>\n      <td>samer@gmail.com</td>\n      <td>J7H 3HY</td>\n      <td>100000.00</td>\n      <td>26</td>\n    </tr>\n    <tr>\n      <th>6</th>\n      <td>Heba</td>\n      <td>Ismail</td>\n      <td>heba.ismail@hotmail.com</td>\n      <td>K8Y 3M8</td>\n      <td>50000.00</td>\n      <td>11</td>\n    </tr>\n    <tr>\n      <th>7</th>\n      <td>Laila</td>\n      <td>Ahmed</td>\n      <td>Laila.a@hotmail.com</td>\n      <td>J8Y 3M0</td>\n      <td>20000.00</td>\n      <td>3</td>\n    </tr>\n    <tr>\n      <th>8</th>\n      <td>Joseph</td>\n      <td>Patton</td>\n      <td>daafeja@boh.jm</td>\n      <td>M6U 5U7</td>\n      <td>2629.13</td>\n      <td>1</td>\n    </tr>\n    <tr>\n      <th>9</th>\n      <td>Noah</td>\n      <td>Moran</td>\n      <td>guutodi@bigwoc.kw</td>\n      <td>K2D 4M9</td>\n      <td>8626.96</td>\n      <td>13</td>\n    </tr>\n  </tbody>\n</table>\n</div>"
     },
     "execution_count": 26,
     "metadata": {},
     "output_type": "execute_result"
    }
   ]
  },
  {
   "cell_type": "code",
   "metadata": {
    "id": "AbR3ryaIent-",
    "ExecuteTime": {
     "end_time": "2024-01-08T11:51:18.229762Z",
     "start_time": "2024-01-08T11:51:17.772004Z"
    }
   },
   "source": [
    "# Return a column from the DataFrame\n",
    "# Note that the output will be a Pandas Series (you can automatically tell by the lack of formating)\n",
    "sample = bank_df['Email']\n",
    "sample\n",
    "# 판다스 시리즈임"
   ],
   "execution_count": 27,
   "outputs": [
    {
     "data": {
      "text/plain": "0             bird@gmail.com\n1         nsmall@hotmail.com\n2            azikez@gahew.mr\n3           chanel@gmail.com\n4           kate@hotmail.com\n5            samer@gmail.com\n6    heba.ismail@hotmail.com\n7        Laila.a@hotmail.com\n8             daafeja@boh.jm\n9          guutodi@bigwoc.kw\nName: Email, dtype: object"
     },
     "execution_count": 27,
     "metadata": {},
     "output_type": "execute_result"
    }
   ]
  },
  {
   "cell_type": "code",
   "metadata": {
    "id": "DRDD7km5enwQ",
    "ExecuteTime": {
     "end_time": "2024-01-08T11:51:18.264737Z",
     "start_time": "2024-01-08T11:51:17.776551Z"
    }
   },
   "source": [
    "# Confirm the datatype of sample\n",
    "type(sample)"
   ],
   "execution_count": 28,
   "outputs": [
    {
     "data": {
      "text/plain": "pandas.core.series.Series"
     },
     "execution_count": 28,
     "metadata": {},
     "output_type": "execute_result"
    }
   ]
  },
  {
   "cell_type": "code",
   "metadata": {
    "id": "9Aq47T6MffqT",
    "ExecuteTime": {
     "end_time": "2024-01-08T11:51:18.295883Z",
     "start_time": "2024-01-08T11:51:17.779733Z"
    }
   },
   "source": [
    "# Alternatively, you can use the following syntax to do the same\n",
    "# Note that this method will not work if there are spaces in the column names\n",
    "bank_df.Email"
   ],
   "execution_count": 29,
   "outputs": [
    {
     "data": {
      "text/plain": "0             bird@gmail.com\n1         nsmall@hotmail.com\n2            azikez@gahew.mr\n3           chanel@gmail.com\n4           kate@hotmail.com\n5            samer@gmail.com\n6    heba.ismail@hotmail.com\n7        Laila.a@hotmail.com\n8             daafeja@boh.jm\n9          guutodi@bigwoc.kw\nName: Email, dtype: object"
     },
     "execution_count": 29,
     "metadata": {},
     "output_type": "execute_result"
    }
   ]
  },
  {
   "cell_type": "code",
   "metadata": {
    "id": "_pJUOwyYffsW",
    "ExecuteTime": {
     "end_time": "2024-01-08T11:51:18.313528Z",
     "start_time": "2024-01-08T11:51:17.782909Z"
    }
   },
   "source": [
    "# Since the column name has spaces, this will be the only way that will work!\n",
    "bank_df['Net Worth']"
   ],
   "execution_count": 30,
   "outputs": [
    {
     "data": {
      "text/plain": "0      5000.00\n1     10000.00\n2      9072.02\n3     11072.02\n4      5000.00\n5    100000.00\n6     50000.00\n7     20000.00\n8      2629.13\n9      8626.96\nName: Net Worth, dtype: float64"
     },
     "execution_count": 30,
     "metadata": {},
     "output_type": "execute_result"
    }
   ]
  },
  {
   "cell_type": "code",
   "metadata": {
    "id": "LNlISGX2ffuX",
    "ExecuteTime": {
     "end_time": "2024-01-08T11:51:18.913266Z",
     "start_time": "2024-01-08T11:51:17.787159Z"
    }
   },
   "source": [
    "# Let's select multiple columns from the DataFrame\n",
    "# you need to define a list containing all column names that you would like to select\n",
    "# Note that since we collected more than one column, the output is a DataFrame (Notice the rich formatting)\n",
    "sample = bank_df[['First Name', 'Last Name']]\n",
    "sample"
   ],
   "execution_count": 31,
   "outputs": [
    {
     "data": {
      "text/plain": "  First Name Last Name\n0      Bird      Steve\n1       Noah     Small\n2       Nina    Keller\n3    Chanel      Steve\n4       Kate      Noor\n5      Samer        Mo\n6       Heba    Ismail\n7      Laila     Ahmed\n8     Joseph    Patton\n9       Noah     Moran",
      "text/html": "<div>\n<style scoped>\n    .dataframe tbody tr th:only-of-type {\n        vertical-align: middle;\n    }\n\n    .dataframe tbody tr th {\n        vertical-align: top;\n    }\n\n    .dataframe thead th {\n        text-align: right;\n    }\n</style>\n<table border=\"1\" class=\"dataframe\">\n  <thead>\n    <tr style=\"text-align: right;\">\n      <th></th>\n      <th>First Name</th>\n      <th>Last Name</th>\n    </tr>\n  </thead>\n  <tbody>\n    <tr>\n      <th>0</th>\n      <td>Bird</td>\n      <td>Steve</td>\n    </tr>\n    <tr>\n      <th>1</th>\n      <td>Noah</td>\n      <td>Small</td>\n    </tr>\n    <tr>\n      <th>2</th>\n      <td>Nina</td>\n      <td>Keller</td>\n    </tr>\n    <tr>\n      <th>3</th>\n      <td>Chanel</td>\n      <td>Steve</td>\n    </tr>\n    <tr>\n      <th>4</th>\n      <td>Kate</td>\n      <td>Noor</td>\n    </tr>\n    <tr>\n      <th>5</th>\n      <td>Samer</td>\n      <td>Mo</td>\n    </tr>\n    <tr>\n      <th>6</th>\n      <td>Heba</td>\n      <td>Ismail</td>\n    </tr>\n    <tr>\n      <th>7</th>\n      <td>Laila</td>\n      <td>Ahmed</td>\n    </tr>\n    <tr>\n      <th>8</th>\n      <td>Joseph</td>\n      <td>Patton</td>\n    </tr>\n    <tr>\n      <th>9</th>\n      <td>Noah</td>\n      <td>Moran</td>\n    </tr>\n  </tbody>\n</table>\n</div>"
     },
     "execution_count": 31,
     "metadata": {},
     "output_type": "execute_result"
    }
   ]
  },
  {
   "cell_type": "code",
   "metadata": {
    "id": "R0XoD6lega9a",
    "ExecuteTime": {
     "end_time": "2024-01-08T11:51:18.951374Z",
     "start_time": "2024-01-08T11:51:17.801712Z"
    }
   },
   "source": [
    "# Note that sample is now a DataFrame and not a Pandas Series (since it has multiple columns)\n",
    "# You can use type to confirm or you can tell from the rich text formating\n",
    "type(sample)"
   ],
   "execution_count": 32,
   "outputs": [
    {
     "data": {
      "text/plain": "pandas.core.frame.DataFrame"
     },
     "execution_count": 32,
     "metadata": {},
     "output_type": "execute_result"
    }
   ]
  },
  {
   "cell_type": "code",
   "metadata": {
    "id": "ggktBo-sgsRu",
    "ExecuteTime": {
     "end_time": "2024-01-08T11:51:18.979723Z",
     "start_time": "2024-01-08T11:51:17.813826Z"
    }
   },
   "source": [
    "# Alternatively, you can define a list first and then use it to select columns\n",
    "my_selected_culumn = ['First Name', 'Last Name']\n",
    "sample = bank_df[my_selected_culumn]\n",
    "sample"
   ],
   "execution_count": 33,
   "outputs": [
    {
     "data": {
      "text/plain": "  First Name Last Name\n0      Bird      Steve\n1       Noah     Small\n2       Nina    Keller\n3    Chanel      Steve\n4       Kate      Noor\n5      Samer        Mo\n6       Heba    Ismail\n7      Laila     Ahmed\n8     Joseph    Patton\n9       Noah     Moran",
      "text/html": "<div>\n<style scoped>\n    .dataframe tbody tr th:only-of-type {\n        vertical-align: middle;\n    }\n\n    .dataframe tbody tr th {\n        vertical-align: top;\n    }\n\n    .dataframe thead th {\n        text-align: right;\n    }\n</style>\n<table border=\"1\" class=\"dataframe\">\n  <thead>\n    <tr style=\"text-align: right;\">\n      <th></th>\n      <th>First Name</th>\n      <th>Last Name</th>\n    </tr>\n  </thead>\n  <tbody>\n    <tr>\n      <th>0</th>\n      <td>Bird</td>\n      <td>Steve</td>\n    </tr>\n    <tr>\n      <th>1</th>\n      <td>Noah</td>\n      <td>Small</td>\n    </tr>\n    <tr>\n      <th>2</th>\n      <td>Nina</td>\n      <td>Keller</td>\n    </tr>\n    <tr>\n      <th>3</th>\n      <td>Chanel</td>\n      <td>Steve</td>\n    </tr>\n    <tr>\n      <th>4</th>\n      <td>Kate</td>\n      <td>Noor</td>\n    </tr>\n    <tr>\n      <th>5</th>\n      <td>Samer</td>\n      <td>Mo</td>\n    </tr>\n    <tr>\n      <th>6</th>\n      <td>Heba</td>\n      <td>Ismail</td>\n    </tr>\n    <tr>\n      <th>7</th>\n      <td>Laila</td>\n      <td>Ahmed</td>\n    </tr>\n    <tr>\n      <th>8</th>\n      <td>Joseph</td>\n      <td>Patton</td>\n    </tr>\n    <tr>\n      <th>9</th>\n      <td>Noah</td>\n      <td>Moran</td>\n    </tr>\n  </tbody>\n</table>\n</div>"
     },
     "execution_count": 33,
     "metadata": {},
     "output_type": "execute_result"
    }
   ]
  },
  {
   "cell_type": "code",
   "metadata": {
    "id": "AukSNs5Yg_Ui",
    "ExecuteTime": {
     "end_time": "2024-01-08T11:51:19.007230Z",
     "start_time": "2024-01-08T11:51:17.823139Z"
    }
   },
   "source": [
    "# In order to access a given row in the dataframe\n",
    "bank_df[0:2]"
   ],
   "execution_count": 34,
   "outputs": [
    {
     "data": {
      "text/plain": "  First Name Last Name               Email Postal Code  Net Worth  \\\n0      Bird      Steve      bird@gmail.com     N94 3M0     5000.0   \n1       Noah     Small  nsmall@hotmail.com     N8S 14K    10000.0   \n\n   Years with Bank  \n0                5  \n1                6  ",
      "text/html": "<div>\n<style scoped>\n    .dataframe tbody tr th:only-of-type {\n        vertical-align: middle;\n    }\n\n    .dataframe tbody tr th {\n        vertical-align: top;\n    }\n\n    .dataframe thead th {\n        text-align: right;\n    }\n</style>\n<table border=\"1\" class=\"dataframe\">\n  <thead>\n    <tr style=\"text-align: right;\">\n      <th></th>\n      <th>First Name</th>\n      <th>Last Name</th>\n      <th>Email</th>\n      <th>Postal Code</th>\n      <th>Net Worth</th>\n      <th>Years with Bank</th>\n    </tr>\n  </thead>\n  <tbody>\n    <tr>\n      <th>0</th>\n      <td>Bird</td>\n      <td>Steve</td>\n      <td>bird@gmail.com</td>\n      <td>N94 3M0</td>\n      <td>5000.0</td>\n      <td>5</td>\n    </tr>\n    <tr>\n      <th>1</th>\n      <td>Noah</td>\n      <td>Small</td>\n      <td>nsmall@hotmail.com</td>\n      <td>N8S 14K</td>\n      <td>10000.0</td>\n      <td>6</td>\n    </tr>\n  </tbody>\n</table>\n</div>"
     },
     "execution_count": 34,
     "metadata": {},
     "output_type": "execute_result"
    }
   ]
  },
  {
   "cell_type": "markdown",
   "metadata": {
    "id": "dgnHR3iAu0Kk"
   },
   "source": [
    "**MINI CHALLENGE #5:**\n",
    "- **Select the following columns from the dataFrame Net Worth, Years with Bank, and Postal Code**"
   ]
  },
  {
   "cell_type": "code",
   "metadata": {
    "id": "VgX1J3i4u2zR",
    "ExecuteTime": {
     "end_time": "2024-01-08T11:51:19.019037Z",
     "start_time": "2024-01-08T11:51:17.827317Z"
    }
   },
   "source": [],
   "execution_count": 34,
   "outputs": []
  },
  {
   "cell_type": "markdown",
   "metadata": {
    "id": "WC1va0Jng_o_"
   },
   "source": [
    "# 6. ADDING/DELETING COLUMNS TO DATAFRAME"
   ]
  },
  {
   "cell_type": "code",
   "metadata": {
    "id": "RFcK595ZhFK2",
    "ExecuteTime": {
     "end_time": "2024-01-08T12:07:22.415698Z",
     "start_time": "2024-01-08T12:07:22.279801Z"
    }
   },
   "source": [
    "# Pandas is used to read a csv file and store data in a DataFrame\n",
    "bank_df = pd.read_csv('../datasets/bank_client_information.csv')\n",
    "bank_df"
   ],
   "execution_count": 138,
   "outputs": [
    {
     "data": {
      "text/plain": "  First Name Last Name                    Email Postal Code  Net Worth  \\\n0      Bird      Steve           bird@gmail.com     N94 3M0    5000.00   \n1       Noah     Small       nsmall@hotmail.com     N8S 14K   10000.00   \n2       Nina    Keller          azikez@gahew.mr     S1T 4E6    9072.02   \n3    Chanel      Steve         chanel@gmail.com     N7T 3E6   11072.02   \n4       Kate      Noor         kate@hotmail.com     K8N 5H6    5000.00   \n5      Samer        Mo          samer@gmail.com     J7H 3HY  100000.00   \n6       Heba    Ismail  heba.ismail@hotmail.com     K8Y 3M8   50000.00   \n7      Laila     Ahmed      Laila.a@hotmail.com     J8Y 3M0   20000.00   \n8     Joseph    Patton           daafeja@boh.jm     M6U 5U7    2629.13   \n9       Noah     Moran        guutodi@bigwoc.kw     K2D 4M9    8626.96   \n\n   Years with Bank  \n0                5  \n1                6  \n2                7  \n3               10  \n4               22  \n5               26  \n6               11  \n7                3  \n8                1  \n9               13  ",
      "text/html": "<div>\n<style scoped>\n    .dataframe tbody tr th:only-of-type {\n        vertical-align: middle;\n    }\n\n    .dataframe tbody tr th {\n        vertical-align: top;\n    }\n\n    .dataframe thead th {\n        text-align: right;\n    }\n</style>\n<table border=\"1\" class=\"dataframe\">\n  <thead>\n    <tr style=\"text-align: right;\">\n      <th></th>\n      <th>First Name</th>\n      <th>Last Name</th>\n      <th>Email</th>\n      <th>Postal Code</th>\n      <th>Net Worth</th>\n      <th>Years with Bank</th>\n    </tr>\n  </thead>\n  <tbody>\n    <tr>\n      <th>0</th>\n      <td>Bird</td>\n      <td>Steve</td>\n      <td>bird@gmail.com</td>\n      <td>N94 3M0</td>\n      <td>5000.00</td>\n      <td>5</td>\n    </tr>\n    <tr>\n      <th>1</th>\n      <td>Noah</td>\n      <td>Small</td>\n      <td>nsmall@hotmail.com</td>\n      <td>N8S 14K</td>\n      <td>10000.00</td>\n      <td>6</td>\n    </tr>\n    <tr>\n      <th>2</th>\n      <td>Nina</td>\n      <td>Keller</td>\n      <td>azikez@gahew.mr</td>\n      <td>S1T 4E6</td>\n      <td>9072.02</td>\n      <td>7</td>\n    </tr>\n    <tr>\n      <th>3</th>\n      <td>Chanel</td>\n      <td>Steve</td>\n      <td>chanel@gmail.com</td>\n      <td>N7T 3E6</td>\n      <td>11072.02</td>\n      <td>10</td>\n    </tr>\n    <tr>\n      <th>4</th>\n      <td>Kate</td>\n      <td>Noor</td>\n      <td>kate@hotmail.com</td>\n      <td>K8N 5H6</td>\n      <td>5000.00</td>\n      <td>22</td>\n    </tr>\n    <tr>\n      <th>5</th>\n      <td>Samer</td>\n      <td>Mo</td>\n      <td>samer@gmail.com</td>\n      <td>J7H 3HY</td>\n      <td>100000.00</td>\n      <td>26</td>\n    </tr>\n    <tr>\n      <th>6</th>\n      <td>Heba</td>\n      <td>Ismail</td>\n      <td>heba.ismail@hotmail.com</td>\n      <td>K8Y 3M8</td>\n      <td>50000.00</td>\n      <td>11</td>\n    </tr>\n    <tr>\n      <th>7</th>\n      <td>Laila</td>\n      <td>Ahmed</td>\n      <td>Laila.a@hotmail.com</td>\n      <td>J8Y 3M0</td>\n      <td>20000.00</td>\n      <td>3</td>\n    </tr>\n    <tr>\n      <th>8</th>\n      <td>Joseph</td>\n      <td>Patton</td>\n      <td>daafeja@boh.jm</td>\n      <td>M6U 5U7</td>\n      <td>2629.13</td>\n      <td>1</td>\n    </tr>\n    <tr>\n      <th>9</th>\n      <td>Noah</td>\n      <td>Moran</td>\n      <td>guutodi@bigwoc.kw</td>\n      <td>K2D 4M9</td>\n      <td>8626.96</td>\n      <td>13</td>\n    </tr>\n  </tbody>\n</table>\n</div>"
     },
     "execution_count": 138,
     "metadata": {},
     "output_type": "execute_result"
    }
   ]
  },
  {
   "cell_type": "code",
   "metadata": {
    "id": "bNK_8rjvhFMw",
    "ExecuteTime": {
     "end_time": "2024-01-08T12:07:23.852319Z",
     "start_time": "2024-01-08T12:07:23.708439Z"
    }
   },
   "source": [
    "# Let's assume that we want to add a new column to the dataframe\n",
    "bank_df['Age'] = [25, 26, 28, 30, 36, 22, 48, 55, 70, 69]\n"
   ],
   "execution_count": 139,
   "outputs": []
  },
  {
   "cell_type": "code",
   "metadata": {
    "id": "y1M_0HA4hFRV",
    "ExecuteTime": {
     "end_time": "2024-01-08T12:07:24.798103Z",
     "start_time": "2024-01-08T12:07:24.671218Z"
    }
   },
   "source": [
    "bank_df"
   ],
   "execution_count": 140,
   "outputs": [
    {
     "data": {
      "text/plain": "  First Name Last Name                    Email Postal Code  Net Worth  \\\n0      Bird      Steve           bird@gmail.com     N94 3M0    5000.00   \n1       Noah     Small       nsmall@hotmail.com     N8S 14K   10000.00   \n2       Nina    Keller          azikez@gahew.mr     S1T 4E6    9072.02   \n3    Chanel      Steve         chanel@gmail.com     N7T 3E6   11072.02   \n4       Kate      Noor         kate@hotmail.com     K8N 5H6    5000.00   \n5      Samer        Mo          samer@gmail.com     J7H 3HY  100000.00   \n6       Heba    Ismail  heba.ismail@hotmail.com     K8Y 3M8   50000.00   \n7      Laila     Ahmed      Laila.a@hotmail.com     J8Y 3M0   20000.00   \n8     Joseph    Patton           daafeja@boh.jm     M6U 5U7    2629.13   \n9       Noah     Moran        guutodi@bigwoc.kw     K2D 4M9    8626.96   \n\n   Years with Bank  Age  \n0                5   25  \n1                6   26  \n2                7   28  \n3               10   30  \n4               22   36  \n5               26   22  \n6               11   48  \n7                3   55  \n8                1   70  \n9               13   69  ",
      "text/html": "<div>\n<style scoped>\n    .dataframe tbody tr th:only-of-type {\n        vertical-align: middle;\n    }\n\n    .dataframe tbody tr th {\n        vertical-align: top;\n    }\n\n    .dataframe thead th {\n        text-align: right;\n    }\n</style>\n<table border=\"1\" class=\"dataframe\">\n  <thead>\n    <tr style=\"text-align: right;\">\n      <th></th>\n      <th>First Name</th>\n      <th>Last Name</th>\n      <th>Email</th>\n      <th>Postal Code</th>\n      <th>Net Worth</th>\n      <th>Years with Bank</th>\n      <th>Age</th>\n    </tr>\n  </thead>\n  <tbody>\n    <tr>\n      <th>0</th>\n      <td>Bird</td>\n      <td>Steve</td>\n      <td>bird@gmail.com</td>\n      <td>N94 3M0</td>\n      <td>5000.00</td>\n      <td>5</td>\n      <td>25</td>\n    </tr>\n    <tr>\n      <th>1</th>\n      <td>Noah</td>\n      <td>Small</td>\n      <td>nsmall@hotmail.com</td>\n      <td>N8S 14K</td>\n      <td>10000.00</td>\n      <td>6</td>\n      <td>26</td>\n    </tr>\n    <tr>\n      <th>2</th>\n      <td>Nina</td>\n      <td>Keller</td>\n      <td>azikez@gahew.mr</td>\n      <td>S1T 4E6</td>\n      <td>9072.02</td>\n      <td>7</td>\n      <td>28</td>\n    </tr>\n    <tr>\n      <th>3</th>\n      <td>Chanel</td>\n      <td>Steve</td>\n      <td>chanel@gmail.com</td>\n      <td>N7T 3E6</td>\n      <td>11072.02</td>\n      <td>10</td>\n      <td>30</td>\n    </tr>\n    <tr>\n      <th>4</th>\n      <td>Kate</td>\n      <td>Noor</td>\n      <td>kate@hotmail.com</td>\n      <td>K8N 5H6</td>\n      <td>5000.00</td>\n      <td>22</td>\n      <td>36</td>\n    </tr>\n    <tr>\n      <th>5</th>\n      <td>Samer</td>\n      <td>Mo</td>\n      <td>samer@gmail.com</td>\n      <td>J7H 3HY</td>\n      <td>100000.00</td>\n      <td>26</td>\n      <td>22</td>\n    </tr>\n    <tr>\n      <th>6</th>\n      <td>Heba</td>\n      <td>Ismail</td>\n      <td>heba.ismail@hotmail.com</td>\n      <td>K8Y 3M8</td>\n      <td>50000.00</td>\n      <td>11</td>\n      <td>48</td>\n    </tr>\n    <tr>\n      <th>7</th>\n      <td>Laila</td>\n      <td>Ahmed</td>\n      <td>Laila.a@hotmail.com</td>\n      <td>J8Y 3M0</td>\n      <td>20000.00</td>\n      <td>3</td>\n      <td>55</td>\n    </tr>\n    <tr>\n      <th>8</th>\n      <td>Joseph</td>\n      <td>Patton</td>\n      <td>daafeja@boh.jm</td>\n      <td>M6U 5U7</td>\n      <td>2629.13</td>\n      <td>1</td>\n      <td>70</td>\n    </tr>\n    <tr>\n      <th>9</th>\n      <td>Noah</td>\n      <td>Moran</td>\n      <td>guutodi@bigwoc.kw</td>\n      <td>K2D 4M9</td>\n      <td>8626.96</td>\n      <td>13</td>\n      <td>69</td>\n    </tr>\n  </tbody>\n</table>\n</div>"
     },
     "execution_count": 140,
     "metadata": {},
     "output_type": "execute_result"
    }
   ]
  },
  {
   "cell_type": "code",
   "metadata": {
    "id": "GlBj_pzohFTE",
    "ExecuteTime": {
     "end_time": "2024-01-08T12:07:25.833266Z",
     "start_time": "2024-01-08T12:07:25.639302Z"
    }
   },
   "source": [
    "# You can also insert a new column in a given position \n",
    "bank_df.insert(0, column='Credit Score', value=[680, 700, 750, 699, 550, 600, 750, 500, 520, 510])"
   ],
   "execution_count": 141,
   "outputs": []
  },
  {
   "cell_type": "code",
   "metadata": {
    "id": "JRlJsSByhFVC",
    "ExecuteTime": {
     "end_time": "2024-01-08T12:07:26.443780Z",
     "start_time": "2024-01-08T12:07:26.295700Z"
    }
   },
   "source": [
    "bank_df"
   ],
   "execution_count": 142,
   "outputs": [
    {
     "data": {
      "text/plain": "   Credit Score First Name Last Name                    Email Postal Code  \\\n0           680      Bird      Steve           bird@gmail.com     N94 3M0   \n1           700       Noah     Small       nsmall@hotmail.com     N8S 14K   \n2           750       Nina    Keller          azikez@gahew.mr     S1T 4E6   \n3           699    Chanel      Steve         chanel@gmail.com     N7T 3E6   \n4           550       Kate      Noor         kate@hotmail.com     K8N 5H6   \n5           600      Samer        Mo          samer@gmail.com     J7H 3HY   \n6           750       Heba    Ismail  heba.ismail@hotmail.com     K8Y 3M8   \n7           500      Laila     Ahmed      Laila.a@hotmail.com     J8Y 3M0   \n8           520     Joseph    Patton           daafeja@boh.jm     M6U 5U7   \n9           510       Noah     Moran        guutodi@bigwoc.kw     K2D 4M9   \n\n   Net Worth  Years with Bank  Age  \n0    5000.00                5   25  \n1   10000.00                6   26  \n2    9072.02                7   28  \n3   11072.02               10   30  \n4    5000.00               22   36  \n5  100000.00               26   22  \n6   50000.00               11   48  \n7   20000.00                3   55  \n8    2629.13                1   70  \n9    8626.96               13   69  ",
      "text/html": "<div>\n<style scoped>\n    .dataframe tbody tr th:only-of-type {\n        vertical-align: middle;\n    }\n\n    .dataframe tbody tr th {\n        vertical-align: top;\n    }\n\n    .dataframe thead th {\n        text-align: right;\n    }\n</style>\n<table border=\"1\" class=\"dataframe\">\n  <thead>\n    <tr style=\"text-align: right;\">\n      <th></th>\n      <th>Credit Score</th>\n      <th>First Name</th>\n      <th>Last Name</th>\n      <th>Email</th>\n      <th>Postal Code</th>\n      <th>Net Worth</th>\n      <th>Years with Bank</th>\n      <th>Age</th>\n    </tr>\n  </thead>\n  <tbody>\n    <tr>\n      <th>0</th>\n      <td>680</td>\n      <td>Bird</td>\n      <td>Steve</td>\n      <td>bird@gmail.com</td>\n      <td>N94 3M0</td>\n      <td>5000.00</td>\n      <td>5</td>\n      <td>25</td>\n    </tr>\n    <tr>\n      <th>1</th>\n      <td>700</td>\n      <td>Noah</td>\n      <td>Small</td>\n      <td>nsmall@hotmail.com</td>\n      <td>N8S 14K</td>\n      <td>10000.00</td>\n      <td>6</td>\n      <td>26</td>\n    </tr>\n    <tr>\n      <th>2</th>\n      <td>750</td>\n      <td>Nina</td>\n      <td>Keller</td>\n      <td>azikez@gahew.mr</td>\n      <td>S1T 4E6</td>\n      <td>9072.02</td>\n      <td>7</td>\n      <td>28</td>\n    </tr>\n    <tr>\n      <th>3</th>\n      <td>699</td>\n      <td>Chanel</td>\n      <td>Steve</td>\n      <td>chanel@gmail.com</td>\n      <td>N7T 3E6</td>\n      <td>11072.02</td>\n      <td>10</td>\n      <td>30</td>\n    </tr>\n    <tr>\n      <th>4</th>\n      <td>550</td>\n      <td>Kate</td>\n      <td>Noor</td>\n      <td>kate@hotmail.com</td>\n      <td>K8N 5H6</td>\n      <td>5000.00</td>\n      <td>22</td>\n      <td>36</td>\n    </tr>\n    <tr>\n      <th>5</th>\n      <td>600</td>\n      <td>Samer</td>\n      <td>Mo</td>\n      <td>samer@gmail.com</td>\n      <td>J7H 3HY</td>\n      <td>100000.00</td>\n      <td>26</td>\n      <td>22</td>\n    </tr>\n    <tr>\n      <th>6</th>\n      <td>750</td>\n      <td>Heba</td>\n      <td>Ismail</td>\n      <td>heba.ismail@hotmail.com</td>\n      <td>K8Y 3M8</td>\n      <td>50000.00</td>\n      <td>11</td>\n      <td>48</td>\n    </tr>\n    <tr>\n      <th>7</th>\n      <td>500</td>\n      <td>Laila</td>\n      <td>Ahmed</td>\n      <td>Laila.a@hotmail.com</td>\n      <td>J8Y 3M0</td>\n      <td>20000.00</td>\n      <td>3</td>\n      <td>55</td>\n    </tr>\n    <tr>\n      <th>8</th>\n      <td>520</td>\n      <td>Joseph</td>\n      <td>Patton</td>\n      <td>daafeja@boh.jm</td>\n      <td>M6U 5U7</td>\n      <td>2629.13</td>\n      <td>1</td>\n      <td>70</td>\n    </tr>\n    <tr>\n      <th>9</th>\n      <td>510</td>\n      <td>Noah</td>\n      <td>Moran</td>\n      <td>guutodi@bigwoc.kw</td>\n      <td>K2D 4M9</td>\n      <td>8626.96</td>\n      <td>13</td>\n      <td>69</td>\n    </tr>\n  </tbody>\n</table>\n</div>"
     },
     "execution_count": 142,
     "metadata": {},
     "output_type": "execute_result"
    }
   ]
  },
  {
   "cell_type": "code",
   "metadata": {
    "id": "bkrHWh-2bn0J",
    "ExecuteTime": {
     "end_time": "2024-01-08T12:07:27.582036Z",
     "start_time": "2024-01-08T12:07:27.404107Z"
    }
   },
   "source": [
    "# Delete a column from a DataFrame\n",
    "del bank_df['Email']"
   ],
   "execution_count": 143,
   "outputs": []
  },
  {
   "cell_type": "code",
   "metadata": {
    "id": "q-JeQolLdIMi",
    "ExecuteTime": {
     "end_time": "2024-01-08T12:07:28.375904Z",
     "start_time": "2024-01-08T12:07:28.271143Z"
    }
   },
   "source": [
    "bank_df"
   ],
   "execution_count": 144,
   "outputs": [
    {
     "data": {
      "text/plain": "   Credit Score First Name Last Name Postal Code  Net Worth  Years with Bank  \\\n0           680      Bird      Steve     N94 3M0    5000.00                5   \n1           700       Noah     Small     N8S 14K   10000.00                6   \n2           750       Nina    Keller     S1T 4E6    9072.02                7   \n3           699    Chanel      Steve     N7T 3E6   11072.02               10   \n4           550       Kate      Noor     K8N 5H6    5000.00               22   \n5           600      Samer        Mo     J7H 3HY  100000.00               26   \n6           750       Heba    Ismail     K8Y 3M8   50000.00               11   \n7           500      Laila     Ahmed     J8Y 3M0   20000.00                3   \n8           520     Joseph    Patton     M6U 5U7    2629.13                1   \n9           510       Noah     Moran     K2D 4M9    8626.96               13   \n\n   Age  \n0   25  \n1   26  \n2   28  \n3   30  \n4   36  \n5   22  \n6   48  \n7   55  \n8   70  \n9   69  ",
      "text/html": "<div>\n<style scoped>\n    .dataframe tbody tr th:only-of-type {\n        vertical-align: middle;\n    }\n\n    .dataframe tbody tr th {\n        vertical-align: top;\n    }\n\n    .dataframe thead th {\n        text-align: right;\n    }\n</style>\n<table border=\"1\" class=\"dataframe\">\n  <thead>\n    <tr style=\"text-align: right;\">\n      <th></th>\n      <th>Credit Score</th>\n      <th>First Name</th>\n      <th>Last Name</th>\n      <th>Postal Code</th>\n      <th>Net Worth</th>\n      <th>Years with Bank</th>\n      <th>Age</th>\n    </tr>\n  </thead>\n  <tbody>\n    <tr>\n      <th>0</th>\n      <td>680</td>\n      <td>Bird</td>\n      <td>Steve</td>\n      <td>N94 3M0</td>\n      <td>5000.00</td>\n      <td>5</td>\n      <td>25</td>\n    </tr>\n    <tr>\n      <th>1</th>\n      <td>700</td>\n      <td>Noah</td>\n      <td>Small</td>\n      <td>N8S 14K</td>\n      <td>10000.00</td>\n      <td>6</td>\n      <td>26</td>\n    </tr>\n    <tr>\n      <th>2</th>\n      <td>750</td>\n      <td>Nina</td>\n      <td>Keller</td>\n      <td>S1T 4E6</td>\n      <td>9072.02</td>\n      <td>7</td>\n      <td>28</td>\n    </tr>\n    <tr>\n      <th>3</th>\n      <td>699</td>\n      <td>Chanel</td>\n      <td>Steve</td>\n      <td>N7T 3E6</td>\n      <td>11072.02</td>\n      <td>10</td>\n      <td>30</td>\n    </tr>\n    <tr>\n      <th>4</th>\n      <td>550</td>\n      <td>Kate</td>\n      <td>Noor</td>\n      <td>K8N 5H6</td>\n      <td>5000.00</td>\n      <td>22</td>\n      <td>36</td>\n    </tr>\n    <tr>\n      <th>5</th>\n      <td>600</td>\n      <td>Samer</td>\n      <td>Mo</td>\n      <td>J7H 3HY</td>\n      <td>100000.00</td>\n      <td>26</td>\n      <td>22</td>\n    </tr>\n    <tr>\n      <th>6</th>\n      <td>750</td>\n      <td>Heba</td>\n      <td>Ismail</td>\n      <td>K8Y 3M8</td>\n      <td>50000.00</td>\n      <td>11</td>\n      <td>48</td>\n    </tr>\n    <tr>\n      <th>7</th>\n      <td>500</td>\n      <td>Laila</td>\n      <td>Ahmed</td>\n      <td>J8Y 3M0</td>\n      <td>20000.00</td>\n      <td>3</td>\n      <td>55</td>\n    </tr>\n    <tr>\n      <th>8</th>\n      <td>520</td>\n      <td>Joseph</td>\n      <td>Patton</td>\n      <td>M6U 5U7</td>\n      <td>2629.13</td>\n      <td>1</td>\n      <td>70</td>\n    </tr>\n    <tr>\n      <th>9</th>\n      <td>510</td>\n      <td>Noah</td>\n      <td>Moran</td>\n      <td>K2D 4M9</td>\n      <td>8626.96</td>\n      <td>13</td>\n      <td>69</td>\n    </tr>\n  </tbody>\n</table>\n</div>"
     },
     "execution_count": 144,
     "metadata": {},
     "output_type": "execute_result"
    }
   ]
  },
  {
   "cell_type": "code",
   "execution_count": 145,
   "outputs": [
    {
     "data": {
      "text/plain": "   Credit Score First Name Postal Code  Years with Bank  Age\n0           680      Bird      N94 3M0                5   25\n1           700       Noah     N8S 14K                6   26\n2           750       Nina     S1T 4E6                7   28\n3           699    Chanel      N7T 3E6               10   30\n4           550       Kate     K8N 5H6               22   36\n5           600      Samer     J7H 3HY               26   22\n6           750       Heba     K8Y 3M8               11   48\n7           500      Laila     J8Y 3M0                3   55\n8           520     Joseph     M6U 5U7                1   70\n9           510       Noah     K2D 4M9               13   69",
      "text/html": "<div>\n<style scoped>\n    .dataframe tbody tr th:only-of-type {\n        vertical-align: middle;\n    }\n\n    .dataframe tbody tr th {\n        vertical-align: top;\n    }\n\n    .dataframe thead th {\n        text-align: right;\n    }\n</style>\n<table border=\"1\" class=\"dataframe\">\n  <thead>\n    <tr style=\"text-align: right;\">\n      <th></th>\n      <th>Credit Score</th>\n      <th>First Name</th>\n      <th>Postal Code</th>\n      <th>Years with Bank</th>\n      <th>Age</th>\n    </tr>\n  </thead>\n  <tbody>\n    <tr>\n      <th>0</th>\n      <td>680</td>\n      <td>Bird</td>\n      <td>N94 3M0</td>\n      <td>5</td>\n      <td>25</td>\n    </tr>\n    <tr>\n      <th>1</th>\n      <td>700</td>\n      <td>Noah</td>\n      <td>N8S 14K</td>\n      <td>6</td>\n      <td>26</td>\n    </tr>\n    <tr>\n      <th>2</th>\n      <td>750</td>\n      <td>Nina</td>\n      <td>S1T 4E6</td>\n      <td>7</td>\n      <td>28</td>\n    </tr>\n    <tr>\n      <th>3</th>\n      <td>699</td>\n      <td>Chanel</td>\n      <td>N7T 3E6</td>\n      <td>10</td>\n      <td>30</td>\n    </tr>\n    <tr>\n      <th>4</th>\n      <td>550</td>\n      <td>Kate</td>\n      <td>K8N 5H6</td>\n      <td>22</td>\n      <td>36</td>\n    </tr>\n    <tr>\n      <th>5</th>\n      <td>600</td>\n      <td>Samer</td>\n      <td>J7H 3HY</td>\n      <td>26</td>\n      <td>22</td>\n    </tr>\n    <tr>\n      <th>6</th>\n      <td>750</td>\n      <td>Heba</td>\n      <td>K8Y 3M8</td>\n      <td>11</td>\n      <td>48</td>\n    </tr>\n    <tr>\n      <th>7</th>\n      <td>500</td>\n      <td>Laila</td>\n      <td>J8Y 3M0</td>\n      <td>3</td>\n      <td>55</td>\n    </tr>\n    <tr>\n      <th>8</th>\n      <td>520</td>\n      <td>Joseph</td>\n      <td>M6U 5U7</td>\n      <td>1</td>\n      <td>70</td>\n    </tr>\n    <tr>\n      <th>9</th>\n      <td>510</td>\n      <td>Noah</td>\n      <td>K2D 4M9</td>\n      <td>13</td>\n      <td>69</td>\n    </tr>\n  </tbody>\n</table>\n</div>"
     },
     "execution_count": 145,
     "metadata": {},
     "output_type": "execute_result"
    }
   ],
   "source": [
    "bank_df.drop(labels=['Last Name', 'Net Worth'], axis=1, inplace=True)\n",
    "# axis가 0이면 행방향, axis가 1이면 열방향\n",
    "bank_df"
   ],
   "metadata": {
    "collapsed": false,
    "ExecuteTime": {
     "end_time": "2024-01-08T12:07:29.504266Z",
     "start_time": "2024-01-08T12:07:29.302806Z"
    }
   }
  },
  {
   "cell_type": "code",
   "metadata": {
    "id": "-GKAdAWPeapp",
    "ExecuteTime": {
     "end_time": "2024-01-08T12:08:05.321182Z",
     "start_time": "2024-01-08T12:08:05.162428Z"
    }
   },
   "source": [
    "# Remove a column from a DataFrame and store it somehwere else using pop\n",
    "Years_with_bank = bank_df.pop('Years with Bank')\n",
    "Years_with_bank"
   ],
   "execution_count": 146,
   "outputs": [
    {
     "data": {
      "text/plain": "0     5\n1     6\n2     7\n3    10\n4    22\n5    26\n6    11\n7     3\n8     1\n9    13\nName: Years with Bank, dtype: int64"
     },
     "execution_count": 146,
     "metadata": {},
     "output_type": "execute_result"
    }
   ]
  },
  {
   "cell_type": "markdown",
   "metadata": {
    "id": "BqV35M4Uw4Bc"
   },
   "source": [
    "**MINI CHALLENGE #6:**\n",
    "- **load the bank_client_information.csv file and perform the following: (assume any reasonable values)** \n",
    "    - **Add a column indicating whether the client has a mortgage or not**\n",
    "    - **Add a column indicating the value of mortage in dollars**  "
   ]
  },
  {
   "cell_type": "code",
   "metadata": {
    "id": "P8XxNW_OxCMJ",
    "ExecuteTime": {
     "end_time": "2024-01-08T12:28:21.422641Z",
     "start_time": "2024-01-08T12:28:21.288229Z"
    }
   },
   "source": [
    "bank_df = pd.read_csv('../datasets/bank_client_information.csv')\n",
    "bank_df['Has Mortage'] = [1, 1, 0, 0, 0, 0, 1, 0, 0, 0]\n",
    "bank_df['Mortage Value'] = [20000, 13000, 0, 0, 0, 0, 400000, 0, 0, 0]\n",
    "bank_df"
   ],
   "execution_count": 149,
   "outputs": [
    {
     "data": {
      "text/plain": "  First Name Last Name                    Email Postal Code  Net Worth  \\\n0      Bird      Steve           bird@gmail.com     N94 3M0    5000.00   \n1       Noah     Small       nsmall@hotmail.com     N8S 14K   10000.00   \n2       Nina    Keller          azikez@gahew.mr     S1T 4E6    9072.02   \n3    Chanel      Steve         chanel@gmail.com     N7T 3E6   11072.02   \n4       Kate      Noor         kate@hotmail.com     K8N 5H6    5000.00   \n5      Samer        Mo          samer@gmail.com     J7H 3HY  100000.00   \n6       Heba    Ismail  heba.ismail@hotmail.com     K8Y 3M8   50000.00   \n7      Laila     Ahmed      Laila.a@hotmail.com     J8Y 3M0   20000.00   \n8     Joseph    Patton           daafeja@boh.jm     M6U 5U7    2629.13   \n9       Noah     Moran        guutodi@bigwoc.kw     K2D 4M9    8626.96   \n\n   Years with Bank  Has Mortage  Mortage Value  \n0                5            1          20000  \n1                6            1          13000  \n2                7            0              0  \n3               10            0              0  \n4               22            0              0  \n5               26            0              0  \n6               11            1         400000  \n7                3            0              0  \n8                1            0              0  \n9               13            0              0  ",
      "text/html": "<div>\n<style scoped>\n    .dataframe tbody tr th:only-of-type {\n        vertical-align: middle;\n    }\n\n    .dataframe tbody tr th {\n        vertical-align: top;\n    }\n\n    .dataframe thead th {\n        text-align: right;\n    }\n</style>\n<table border=\"1\" class=\"dataframe\">\n  <thead>\n    <tr style=\"text-align: right;\">\n      <th></th>\n      <th>First Name</th>\n      <th>Last Name</th>\n      <th>Email</th>\n      <th>Postal Code</th>\n      <th>Net Worth</th>\n      <th>Years with Bank</th>\n      <th>Has Mortage</th>\n      <th>Mortage Value</th>\n    </tr>\n  </thead>\n  <tbody>\n    <tr>\n      <th>0</th>\n      <td>Bird</td>\n      <td>Steve</td>\n      <td>bird@gmail.com</td>\n      <td>N94 3M0</td>\n      <td>5000.00</td>\n      <td>5</td>\n      <td>1</td>\n      <td>20000</td>\n    </tr>\n    <tr>\n      <th>1</th>\n      <td>Noah</td>\n      <td>Small</td>\n      <td>nsmall@hotmail.com</td>\n      <td>N8S 14K</td>\n      <td>10000.00</td>\n      <td>6</td>\n      <td>1</td>\n      <td>13000</td>\n    </tr>\n    <tr>\n      <th>2</th>\n      <td>Nina</td>\n      <td>Keller</td>\n      <td>azikez@gahew.mr</td>\n      <td>S1T 4E6</td>\n      <td>9072.02</td>\n      <td>7</td>\n      <td>0</td>\n      <td>0</td>\n    </tr>\n    <tr>\n      <th>3</th>\n      <td>Chanel</td>\n      <td>Steve</td>\n      <td>chanel@gmail.com</td>\n      <td>N7T 3E6</td>\n      <td>11072.02</td>\n      <td>10</td>\n      <td>0</td>\n      <td>0</td>\n    </tr>\n    <tr>\n      <th>4</th>\n      <td>Kate</td>\n      <td>Noor</td>\n      <td>kate@hotmail.com</td>\n      <td>K8N 5H6</td>\n      <td>5000.00</td>\n      <td>22</td>\n      <td>0</td>\n      <td>0</td>\n    </tr>\n    <tr>\n      <th>5</th>\n      <td>Samer</td>\n      <td>Mo</td>\n      <td>samer@gmail.com</td>\n      <td>J7H 3HY</td>\n      <td>100000.00</td>\n      <td>26</td>\n      <td>0</td>\n      <td>0</td>\n    </tr>\n    <tr>\n      <th>6</th>\n      <td>Heba</td>\n      <td>Ismail</td>\n      <td>heba.ismail@hotmail.com</td>\n      <td>K8Y 3M8</td>\n      <td>50000.00</td>\n      <td>11</td>\n      <td>1</td>\n      <td>400000</td>\n    </tr>\n    <tr>\n      <th>7</th>\n      <td>Laila</td>\n      <td>Ahmed</td>\n      <td>Laila.a@hotmail.com</td>\n      <td>J8Y 3M0</td>\n      <td>20000.00</td>\n      <td>3</td>\n      <td>0</td>\n      <td>0</td>\n    </tr>\n    <tr>\n      <th>8</th>\n      <td>Joseph</td>\n      <td>Patton</td>\n      <td>daafeja@boh.jm</td>\n      <td>M6U 5U7</td>\n      <td>2629.13</td>\n      <td>1</td>\n      <td>0</td>\n      <td>0</td>\n    </tr>\n    <tr>\n      <th>9</th>\n      <td>Noah</td>\n      <td>Moran</td>\n      <td>guutodi@bigwoc.kw</td>\n      <td>K2D 4M9</td>\n      <td>8626.96</td>\n      <td>13</td>\n      <td>0</td>\n      <td>0</td>\n    </tr>\n  </tbody>\n</table>\n</div>"
     },
     "execution_count": 149,
     "metadata": {},
     "output_type": "execute_result"
    }
   ]
  },
  {
   "cell_type": "markdown",
   "metadata": {
    "id": "WtI8x08dToq6"
   },
   "source": [
    "# 7. LABEL-BASED ELEMENTS SELECTION FROM A DATAFRAME \".LOC()\""
   ]
  },
  {
   "cell_type": "code",
   "metadata": {
    "id": "Eorr05DnToS_",
    "ExecuteTime": {
     "end_time": "2024-01-08T12:57:07.080531Z",
     "start_time": "2024-01-08T12:57:06.978686Z"
    }
   },
   "source": [
    "# Load the csv file and set the last name as the index\n",
    "bank_df = pd.read_csv('../datasets/bank_client_information.csv', index_col='Last Name')\n",
    "bank_df\n"
   ],
   "execution_count": 151,
   "outputs": [
    {
     "data": {
      "text/plain": "          First Name                    Email Postal Code  Net Worth  \\\nLast Name                                                              \nSteve          Bird            bird@gmail.com     N94 3M0    5000.00   \nSmall           Noah       nsmall@hotmail.com     N8S 14K   10000.00   \nKeller          Nina          azikez@gahew.mr     S1T 4E6    9072.02   \nSteve        Chanel          chanel@gmail.com     N7T 3E6   11072.02   \nNoor            Kate         kate@hotmail.com     K8N 5H6    5000.00   \nMo             Samer          samer@gmail.com     J7H 3HY  100000.00   \nIsmail          Heba  heba.ismail@hotmail.com     K8Y 3M8   50000.00   \nAhmed          Laila      Laila.a@hotmail.com     J8Y 3M0   20000.00   \nPatton        Joseph           daafeja@boh.jm     M6U 5U7    2629.13   \nMoran           Noah        guutodi@bigwoc.kw     K2D 4M9    8626.96   \n\n           Years with Bank  \nLast Name                   \nSteve                    5  \nSmall                    6  \nKeller                   7  \nSteve                   10  \nNoor                    22  \nMo                      26  \nIsmail                  11  \nAhmed                    3  \nPatton                   1  \nMoran                   13  ",
      "text/html": "<div>\n<style scoped>\n    .dataframe tbody tr th:only-of-type {\n        vertical-align: middle;\n    }\n\n    .dataframe tbody tr th {\n        vertical-align: top;\n    }\n\n    .dataframe thead th {\n        text-align: right;\n    }\n</style>\n<table border=\"1\" class=\"dataframe\">\n  <thead>\n    <tr style=\"text-align: right;\">\n      <th></th>\n      <th>First Name</th>\n      <th>Email</th>\n      <th>Postal Code</th>\n      <th>Net Worth</th>\n      <th>Years with Bank</th>\n    </tr>\n    <tr>\n      <th>Last Name</th>\n      <th></th>\n      <th></th>\n      <th></th>\n      <th></th>\n      <th></th>\n    </tr>\n  </thead>\n  <tbody>\n    <tr>\n      <th>Steve</th>\n      <td>Bird</td>\n      <td>bird@gmail.com</td>\n      <td>N94 3M0</td>\n      <td>5000.00</td>\n      <td>5</td>\n    </tr>\n    <tr>\n      <th>Small</th>\n      <td>Noah</td>\n      <td>nsmall@hotmail.com</td>\n      <td>N8S 14K</td>\n      <td>10000.00</td>\n      <td>6</td>\n    </tr>\n    <tr>\n      <th>Keller</th>\n      <td>Nina</td>\n      <td>azikez@gahew.mr</td>\n      <td>S1T 4E6</td>\n      <td>9072.02</td>\n      <td>7</td>\n    </tr>\n    <tr>\n      <th>Steve</th>\n      <td>Chanel</td>\n      <td>chanel@gmail.com</td>\n      <td>N7T 3E6</td>\n      <td>11072.02</td>\n      <td>10</td>\n    </tr>\n    <tr>\n      <th>Noor</th>\n      <td>Kate</td>\n      <td>kate@hotmail.com</td>\n      <td>K8N 5H6</td>\n      <td>5000.00</td>\n      <td>22</td>\n    </tr>\n    <tr>\n      <th>Mo</th>\n      <td>Samer</td>\n      <td>samer@gmail.com</td>\n      <td>J7H 3HY</td>\n      <td>100000.00</td>\n      <td>26</td>\n    </tr>\n    <tr>\n      <th>Ismail</th>\n      <td>Heba</td>\n      <td>heba.ismail@hotmail.com</td>\n      <td>K8Y 3M8</td>\n      <td>50000.00</td>\n      <td>11</td>\n    </tr>\n    <tr>\n      <th>Ahmed</th>\n      <td>Laila</td>\n      <td>Laila.a@hotmail.com</td>\n      <td>J8Y 3M0</td>\n      <td>20000.00</td>\n      <td>3</td>\n    </tr>\n    <tr>\n      <th>Patton</th>\n      <td>Joseph</td>\n      <td>daafeja@boh.jm</td>\n      <td>M6U 5U7</td>\n      <td>2629.13</td>\n      <td>1</td>\n    </tr>\n    <tr>\n      <th>Moran</th>\n      <td>Noah</td>\n      <td>guutodi@bigwoc.kw</td>\n      <td>K2D 4M9</td>\n      <td>8626.96</td>\n      <td>13</td>\n    </tr>\n  </tbody>\n</table>\n</div>"
     },
     "execution_count": 151,
     "metadata": {},
     "output_type": "execute_result"
    }
   ]
  },
  {
   "cell_type": "code",
   "metadata": {
    "id": "ivyfh2mrxMv9",
    "ExecuteTime": {
     "end_time": "2024-01-08T12:57:42.389481Z",
     "start_time": "2024-01-08T12:57:42.237169Z"
    }
   },
   "source": [
    "# Sort the dataframe in an alphabetical order\n",
    "bank_df.sort_index(inplace=True)"
   ],
   "execution_count": 152,
   "outputs": []
  },
  {
   "cell_type": "code",
   "metadata": {
    "id": "we4M97AwUR7r",
    "ExecuteTime": {
     "end_time": "2024-01-08T12:57:49.455552Z",
     "start_time": "2024-01-08T12:57:49.327325Z"
    }
   },
   "source": [
    "bank_df"
   ],
   "execution_count": 154,
   "outputs": [
    {
     "data": {
      "text/plain": "          First Name                    Email Postal Code  Net Worth  \\\nLast Name                                                              \nAhmed          Laila      Laila.a@hotmail.com     J8Y 3M0   20000.00   \nIsmail          Heba  heba.ismail@hotmail.com     K8Y 3M8   50000.00   \nKeller          Nina          azikez@gahew.mr     S1T 4E6    9072.02   \nMo             Samer          samer@gmail.com     J7H 3HY  100000.00   \nMoran           Noah        guutodi@bigwoc.kw     K2D 4M9    8626.96   \nNoor            Kate         kate@hotmail.com     K8N 5H6    5000.00   \nPatton        Joseph           daafeja@boh.jm     M6U 5U7    2629.13   \nSmall           Noah       nsmall@hotmail.com     N8S 14K   10000.00   \nSteve          Bird            bird@gmail.com     N94 3M0    5000.00   \nSteve        Chanel          chanel@gmail.com     N7T 3E6   11072.02   \n\n           Years with Bank  \nLast Name                   \nAhmed                    3  \nIsmail                  11  \nKeller                   7  \nMo                      26  \nMoran                   13  \nNoor                    22  \nPatton                   1  \nSmall                    6  \nSteve                    5  \nSteve                   10  ",
      "text/html": "<div>\n<style scoped>\n    .dataframe tbody tr th:only-of-type {\n        vertical-align: middle;\n    }\n\n    .dataframe tbody tr th {\n        vertical-align: top;\n    }\n\n    .dataframe thead th {\n        text-align: right;\n    }\n</style>\n<table border=\"1\" class=\"dataframe\">\n  <thead>\n    <tr style=\"text-align: right;\">\n      <th></th>\n      <th>First Name</th>\n      <th>Email</th>\n      <th>Postal Code</th>\n      <th>Net Worth</th>\n      <th>Years with Bank</th>\n    </tr>\n    <tr>\n      <th>Last Name</th>\n      <th></th>\n      <th></th>\n      <th></th>\n      <th></th>\n      <th></th>\n    </tr>\n  </thead>\n  <tbody>\n    <tr>\n      <th>Ahmed</th>\n      <td>Laila</td>\n      <td>Laila.a@hotmail.com</td>\n      <td>J8Y 3M0</td>\n      <td>20000.00</td>\n      <td>3</td>\n    </tr>\n    <tr>\n      <th>Ismail</th>\n      <td>Heba</td>\n      <td>heba.ismail@hotmail.com</td>\n      <td>K8Y 3M8</td>\n      <td>50000.00</td>\n      <td>11</td>\n    </tr>\n    <tr>\n      <th>Keller</th>\n      <td>Nina</td>\n      <td>azikez@gahew.mr</td>\n      <td>S1T 4E6</td>\n      <td>9072.02</td>\n      <td>7</td>\n    </tr>\n    <tr>\n      <th>Mo</th>\n      <td>Samer</td>\n      <td>samer@gmail.com</td>\n      <td>J7H 3HY</td>\n      <td>100000.00</td>\n      <td>26</td>\n    </tr>\n    <tr>\n      <th>Moran</th>\n      <td>Noah</td>\n      <td>guutodi@bigwoc.kw</td>\n      <td>K2D 4M9</td>\n      <td>8626.96</td>\n      <td>13</td>\n    </tr>\n    <tr>\n      <th>Noor</th>\n      <td>Kate</td>\n      <td>kate@hotmail.com</td>\n      <td>K8N 5H6</td>\n      <td>5000.00</td>\n      <td>22</td>\n    </tr>\n    <tr>\n      <th>Patton</th>\n      <td>Joseph</td>\n      <td>daafeja@boh.jm</td>\n      <td>M6U 5U7</td>\n      <td>2629.13</td>\n      <td>1</td>\n    </tr>\n    <tr>\n      <th>Small</th>\n      <td>Noah</td>\n      <td>nsmall@hotmail.com</td>\n      <td>N8S 14K</td>\n      <td>10000.00</td>\n      <td>6</td>\n    </tr>\n    <tr>\n      <th>Steve</th>\n      <td>Bird</td>\n      <td>bird@gmail.com</td>\n      <td>N94 3M0</td>\n      <td>5000.00</td>\n      <td>5</td>\n    </tr>\n    <tr>\n      <th>Steve</th>\n      <td>Chanel</td>\n      <td>chanel@gmail.com</td>\n      <td>N7T 3E6</td>\n      <td>11072.02</td>\n      <td>10</td>\n    </tr>\n  </tbody>\n</table>\n</div>"
     },
     "execution_count": 154,
     "metadata": {},
     "output_type": "execute_result"
    }
   ]
  },
  {
   "cell_type": "code",
   "metadata": {
    "id": "i3p0Abn2Ufdt",
    "ExecuteTime": {
     "end_time": "2024-01-08T13:01:13.371894Z",
     "start_time": "2024-01-08T13:01:13.230746Z"
    }
   },
   "source": [
    "# loc is used to filter rows and columns\n",
    "# loc is label-based meaning you need to give a name of the rows (or columns) that you are interested in selecting\n",
    "# Note that iloc is \"integer index-based\" meaning you can filter rows/columns by their integer index.\n",
    "# Note that we obtained a Series because last name \"Small\" existed only once in the dataframe\n",
    "bank_df.loc['Small']\n"
   ],
   "execution_count": 155,
   "outputs": [
    {
     "data": {
      "text/plain": "First Name                       Noah\nEmail              nsmall@hotmail.com\nPostal Code                   N8S 14K\nNet Worth                     10000.0\nYears with Bank                     6\nName: Small, dtype: object"
     },
     "execution_count": 155,
     "metadata": {},
     "output_type": "execute_result"
    }
   ]
  },
  {
   "cell_type": "code",
   "metadata": {
    "id": "o-zisDytUfgu",
    "ExecuteTime": {
     "end_time": "2024-01-08T13:05:27.952035Z",
     "start_time": "2024-01-08T13:05:27.852354Z"
    }
   },
   "source": [
    "# Note that you got a DataFrame back since Last Name 'Steve' existed more than one in the DataFrame\n",
    "bank_df.loc['Steve']"
   ],
   "execution_count": 156,
   "outputs": [
    {
     "data": {
      "text/plain": "          First Name             Email Postal Code  Net Worth  Years with Bank\nLast Name                                                                     \nSteve          Bird     bird@gmail.com     N94 3M0    5000.00                5\nSteve        Chanel   chanel@gmail.com     N7T 3E6   11072.02               10",
      "text/html": "<div>\n<style scoped>\n    .dataframe tbody tr th:only-of-type {\n        vertical-align: middle;\n    }\n\n    .dataframe tbody tr th {\n        vertical-align: top;\n    }\n\n    .dataframe thead th {\n        text-align: right;\n    }\n</style>\n<table border=\"1\" class=\"dataframe\">\n  <thead>\n    <tr style=\"text-align: right;\">\n      <th></th>\n      <th>First Name</th>\n      <th>Email</th>\n      <th>Postal Code</th>\n      <th>Net Worth</th>\n      <th>Years with Bank</th>\n    </tr>\n    <tr>\n      <th>Last Name</th>\n      <th></th>\n      <th></th>\n      <th></th>\n      <th></th>\n      <th></th>\n    </tr>\n  </thead>\n  <tbody>\n    <tr>\n      <th>Steve</th>\n      <td>Bird</td>\n      <td>bird@gmail.com</td>\n      <td>N94 3M0</td>\n      <td>5000.00</td>\n      <td>5</td>\n    </tr>\n    <tr>\n      <th>Steve</th>\n      <td>Chanel</td>\n      <td>chanel@gmail.com</td>\n      <td>N7T 3E6</td>\n      <td>11072.02</td>\n      <td>10</td>\n    </tr>\n  </tbody>\n</table>\n</div>"
     },
     "execution_count": 156,
     "metadata": {},
     "output_type": "execute_result"
    }
   ]
  },
  {
   "cell_type": "code",
   "metadata": {
    "id": "6ScVkgsDUfjg",
    "ExecuteTime": {
     "end_time": "2024-01-08T13:49:36.138928Z",
     "start_time": "2024-01-08T13:49:36.045323Z"
    }
   },
   "source": [
    "# Note that you can select multiple rows using \"colon :\"\n",
    "# Note that this is inclusive! meaning that \"Ahmed\" and \"Patton\" were selected in the output DataFrame\n",
    "# Headsup: this will be different if we use integer based index such as iloc()\n",
    "bank_df.loc['Ahmed':'Patton']\n"
   ],
   "execution_count": 157,
   "outputs": [
    {
     "data": {
      "text/plain": "          First Name                    Email Postal Code  Net Worth  \\\nLast Name                                                              \nAhmed          Laila      Laila.a@hotmail.com     J8Y 3M0   20000.00   \nIsmail          Heba  heba.ismail@hotmail.com     K8Y 3M8   50000.00   \nKeller          Nina          azikez@gahew.mr     S1T 4E6    9072.02   \nMo             Samer          samer@gmail.com     J7H 3HY  100000.00   \nMoran           Noah        guutodi@bigwoc.kw     K2D 4M9    8626.96   \nNoor            Kate         kate@hotmail.com     K8N 5H6    5000.00   \nPatton        Joseph           daafeja@boh.jm     M6U 5U7    2629.13   \n\n           Years with Bank  \nLast Name                   \nAhmed                    3  \nIsmail                  11  \nKeller                   7  \nMo                      26  \nMoran                   13  \nNoor                    22  \nPatton                   1  ",
      "text/html": "<div>\n<style scoped>\n    .dataframe tbody tr th:only-of-type {\n        vertical-align: middle;\n    }\n\n    .dataframe tbody tr th {\n        vertical-align: top;\n    }\n\n    .dataframe thead th {\n        text-align: right;\n    }\n</style>\n<table border=\"1\" class=\"dataframe\">\n  <thead>\n    <tr style=\"text-align: right;\">\n      <th></th>\n      <th>First Name</th>\n      <th>Email</th>\n      <th>Postal Code</th>\n      <th>Net Worth</th>\n      <th>Years with Bank</th>\n    </tr>\n    <tr>\n      <th>Last Name</th>\n      <th></th>\n      <th></th>\n      <th></th>\n      <th></th>\n      <th></th>\n    </tr>\n  </thead>\n  <tbody>\n    <tr>\n      <th>Ahmed</th>\n      <td>Laila</td>\n      <td>Laila.a@hotmail.com</td>\n      <td>J8Y 3M0</td>\n      <td>20000.00</td>\n      <td>3</td>\n    </tr>\n    <tr>\n      <th>Ismail</th>\n      <td>Heba</td>\n      <td>heba.ismail@hotmail.com</td>\n      <td>K8Y 3M8</td>\n      <td>50000.00</td>\n      <td>11</td>\n    </tr>\n    <tr>\n      <th>Keller</th>\n      <td>Nina</td>\n      <td>azikez@gahew.mr</td>\n      <td>S1T 4E6</td>\n      <td>9072.02</td>\n      <td>7</td>\n    </tr>\n    <tr>\n      <th>Mo</th>\n      <td>Samer</td>\n      <td>samer@gmail.com</td>\n      <td>J7H 3HY</td>\n      <td>100000.00</td>\n      <td>26</td>\n    </tr>\n    <tr>\n      <th>Moran</th>\n      <td>Noah</td>\n      <td>guutodi@bigwoc.kw</td>\n      <td>K2D 4M9</td>\n      <td>8626.96</td>\n      <td>13</td>\n    </tr>\n    <tr>\n      <th>Noor</th>\n      <td>Kate</td>\n      <td>kate@hotmail.com</td>\n      <td>K8N 5H6</td>\n      <td>5000.00</td>\n      <td>22</td>\n    </tr>\n    <tr>\n      <th>Patton</th>\n      <td>Joseph</td>\n      <td>daafeja@boh.jm</td>\n      <td>M6U 5U7</td>\n      <td>2629.13</td>\n      <td>1</td>\n    </tr>\n  </tbody>\n</table>\n</div>"
     },
     "execution_count": 157,
     "metadata": {},
     "output_type": "execute_result"
    }
   ]
  },
  {
   "cell_type": "code",
   "metadata": {
    "id": "g6SC-G7WUfpx",
    "ExecuteTime": {
     "end_time": "2024-01-08T13:53:39.600243Z",
     "start_time": "2024-01-08T13:53:39.450035Z"
    }
   },
   "source": [
    " # Select all elements up to and including 'Keller' index\n",
    "bank_df.loc[:'Keller']"
   ],
   "execution_count": 158,
   "outputs": [
    {
     "data": {
      "text/plain": "          First Name                    Email Postal Code  Net Worth  \\\nLast Name                                                              \nAhmed          Laila      Laila.a@hotmail.com     J8Y 3M0   20000.00   \nIsmail          Heba  heba.ismail@hotmail.com     K8Y 3M8   50000.00   \nKeller          Nina          azikez@gahew.mr     S1T 4E6    9072.02   \n\n           Years with Bank  \nLast Name                   \nAhmed                    3  \nIsmail                  11  \nKeller                   7  ",
      "text/html": "<div>\n<style scoped>\n    .dataframe tbody tr th:only-of-type {\n        vertical-align: middle;\n    }\n\n    .dataframe tbody tr th {\n        vertical-align: top;\n    }\n\n    .dataframe thead th {\n        text-align: right;\n    }\n</style>\n<table border=\"1\" class=\"dataframe\">\n  <thead>\n    <tr style=\"text-align: right;\">\n      <th></th>\n      <th>First Name</th>\n      <th>Email</th>\n      <th>Postal Code</th>\n      <th>Net Worth</th>\n      <th>Years with Bank</th>\n    </tr>\n    <tr>\n      <th>Last Name</th>\n      <th></th>\n      <th></th>\n      <th></th>\n      <th></th>\n      <th></th>\n    </tr>\n  </thead>\n  <tbody>\n    <tr>\n      <th>Ahmed</th>\n      <td>Laila</td>\n      <td>Laila.a@hotmail.com</td>\n      <td>J8Y 3M0</td>\n      <td>20000.00</td>\n      <td>3</td>\n    </tr>\n    <tr>\n      <th>Ismail</th>\n      <td>Heba</td>\n      <td>heba.ismail@hotmail.com</td>\n      <td>K8Y 3M8</td>\n      <td>50000.00</td>\n      <td>11</td>\n    </tr>\n    <tr>\n      <th>Keller</th>\n      <td>Nina</td>\n      <td>azikez@gahew.mr</td>\n      <td>S1T 4E6</td>\n      <td>9072.02</td>\n      <td>7</td>\n    </tr>\n  </tbody>\n</table>\n</div>"
     },
     "execution_count": 158,
     "metadata": {},
     "output_type": "execute_result"
    }
   ]
  },
  {
   "cell_type": "code",
   "metadata": {
    "id": "06IarF0bXGu3",
    "ExecuteTime": {
     "end_time": "2024-01-08T13:54:05.309915Z",
     "start_time": "2024-01-08T13:54:05.205197Z"
    }
   },
   "source": [
    "# if you want to select multiple rows, you can pass them as a list as follows\n",
    "bank_df.loc[['Keller', 'Ahmed']]"
   ],
   "execution_count": 159,
   "outputs": [
    {
     "data": {
      "text/plain": "          First Name                Email Postal Code  Net Worth  \\\nLast Name                                                          \nKeller          Nina      azikez@gahew.mr     S1T 4E6    9072.02   \nAhmed          Laila  Laila.a@hotmail.com     J8Y 3M0   20000.00   \n\n           Years with Bank  \nLast Name                   \nKeller                   7  \nAhmed                    3  ",
      "text/html": "<div>\n<style scoped>\n    .dataframe tbody tr th:only-of-type {\n        vertical-align: middle;\n    }\n\n    .dataframe tbody tr th {\n        vertical-align: top;\n    }\n\n    .dataframe thead th {\n        text-align: right;\n    }\n</style>\n<table border=\"1\" class=\"dataframe\">\n  <thead>\n    <tr style=\"text-align: right;\">\n      <th></th>\n      <th>First Name</th>\n      <th>Email</th>\n      <th>Postal Code</th>\n      <th>Net Worth</th>\n      <th>Years with Bank</th>\n    </tr>\n    <tr>\n      <th>Last Name</th>\n      <th></th>\n      <th></th>\n      <th></th>\n      <th></th>\n      <th></th>\n    </tr>\n  </thead>\n  <tbody>\n    <tr>\n      <th>Keller</th>\n      <td>Nina</td>\n      <td>azikez@gahew.mr</td>\n      <td>S1T 4E6</td>\n      <td>9072.02</td>\n      <td>7</td>\n    </tr>\n    <tr>\n      <th>Ahmed</th>\n      <td>Laila</td>\n      <td>Laila.a@hotmail.com</td>\n      <td>J8Y 3M0</td>\n      <td>20000.00</td>\n      <td>3</td>\n    </tr>\n  </tbody>\n</table>\n</div>"
     },
     "execution_count": 159,
     "metadata": {},
     "output_type": "execute_result"
    }
   ]
  },
  {
   "cell_type": "code",
   "metadata": {
    "id": "drmMn3f_XGxz",
    "ExecuteTime": {
     "end_time": "2024-01-08T13:55:11.695602Z",
     "start_time": "2024-01-08T13:55:11.551340Z"
    }
   },
   "source": [
    "# You can also randomly select a fraction of the DataFrame\n",
    "# Setting axis = 0 means rows, setting index = 1 means columns\n",
    "bank_df.sample(n=5, axis=0)"
   ],
   "execution_count": 160,
   "outputs": [
    {
     "data": {
      "text/plain": "          First Name                Email Postal Code  Net Worth  \\\nLast Name                                                          \nAhmed          Laila  Laila.a@hotmail.com     J8Y 3M0   20000.00   \nNoor            Kate     kate@hotmail.com     K8N 5H6    5000.00   \nSmall           Noah   nsmall@hotmail.com     N8S 14K   10000.00   \nKeller          Nina      azikez@gahew.mr     S1T 4E6    9072.02   \nPatton        Joseph       daafeja@boh.jm     M6U 5U7    2629.13   \n\n           Years with Bank  \nLast Name                   \nAhmed                    3  \nNoor                    22  \nSmall                    6  \nKeller                   7  \nPatton                   1  ",
      "text/html": "<div>\n<style scoped>\n    .dataframe tbody tr th:only-of-type {\n        vertical-align: middle;\n    }\n\n    .dataframe tbody tr th {\n        vertical-align: top;\n    }\n\n    .dataframe thead th {\n        text-align: right;\n    }\n</style>\n<table border=\"1\" class=\"dataframe\">\n  <thead>\n    <tr style=\"text-align: right;\">\n      <th></th>\n      <th>First Name</th>\n      <th>Email</th>\n      <th>Postal Code</th>\n      <th>Net Worth</th>\n      <th>Years with Bank</th>\n    </tr>\n    <tr>\n      <th>Last Name</th>\n      <th></th>\n      <th></th>\n      <th></th>\n      <th></th>\n      <th></th>\n    </tr>\n  </thead>\n  <tbody>\n    <tr>\n      <th>Ahmed</th>\n      <td>Laila</td>\n      <td>Laila.a@hotmail.com</td>\n      <td>J8Y 3M0</td>\n      <td>20000.00</td>\n      <td>3</td>\n    </tr>\n    <tr>\n      <th>Noor</th>\n      <td>Kate</td>\n      <td>kate@hotmail.com</td>\n      <td>K8N 5H6</td>\n      <td>5000.00</td>\n      <td>22</td>\n    </tr>\n    <tr>\n      <th>Small</th>\n      <td>Noah</td>\n      <td>nsmall@hotmail.com</td>\n      <td>N8S 14K</td>\n      <td>10000.00</td>\n      <td>6</td>\n    </tr>\n    <tr>\n      <th>Keller</th>\n      <td>Nina</td>\n      <td>azikez@gahew.mr</td>\n      <td>S1T 4E6</td>\n      <td>9072.02</td>\n      <td>7</td>\n    </tr>\n    <tr>\n      <th>Patton</th>\n      <td>Joseph</td>\n      <td>daafeja@boh.jm</td>\n      <td>M6U 5U7</td>\n      <td>2629.13</td>\n      <td>1</td>\n    </tr>\n  </tbody>\n</table>\n</div>"
     },
     "execution_count": 160,
     "metadata": {},
     "output_type": "execute_result"
    }
   ]
  },
  {
   "cell_type": "code",
   "metadata": {
    "id": "AJN9VJ_lfF0W",
    "ExecuteTime": {
     "end_time": "2024-01-08T13:58:53.689273Z",
     "start_time": "2024-01-08T13:58:53.523751Z"
    }
   },
   "source": [
    "# return a percentage (Ex: 30%) of the rows \n",
    "bank_df.sample(frac=0.3, axis=0)"
   ],
   "execution_count": 161,
   "outputs": [
    {
     "data": {
      "text/plain": "          First Name                Email Postal Code  Net Worth  \\\nLast Name                                                          \nNoor            Kate     kate@hotmail.com     K8N 5H6     5000.0   \nMo             Samer      samer@gmail.com     J7H 3HY   100000.0   \nAhmed          Laila  Laila.a@hotmail.com     J8Y 3M0    20000.0   \n\n           Years with Bank  \nLast Name                   \nNoor                    22  \nMo                      26  \nAhmed                    3  ",
      "text/html": "<div>\n<style scoped>\n    .dataframe tbody tr th:only-of-type {\n        vertical-align: middle;\n    }\n\n    .dataframe tbody tr th {\n        vertical-align: top;\n    }\n\n    .dataframe thead th {\n        text-align: right;\n    }\n</style>\n<table border=\"1\" class=\"dataframe\">\n  <thead>\n    <tr style=\"text-align: right;\">\n      <th></th>\n      <th>First Name</th>\n      <th>Email</th>\n      <th>Postal Code</th>\n      <th>Net Worth</th>\n      <th>Years with Bank</th>\n    </tr>\n    <tr>\n      <th>Last Name</th>\n      <th></th>\n      <th></th>\n      <th></th>\n      <th></th>\n      <th></th>\n    </tr>\n  </thead>\n  <tbody>\n    <tr>\n      <th>Noor</th>\n      <td>Kate</td>\n      <td>kate@hotmail.com</td>\n      <td>K8N 5H6</td>\n      <td>5000.0</td>\n      <td>22</td>\n    </tr>\n    <tr>\n      <th>Mo</th>\n      <td>Samer</td>\n      <td>samer@gmail.com</td>\n      <td>J7H 3HY</td>\n      <td>100000.0</td>\n      <td>26</td>\n    </tr>\n    <tr>\n      <th>Ahmed</th>\n      <td>Laila</td>\n      <td>Laila.a@hotmail.com</td>\n      <td>J8Y 3M0</td>\n      <td>20000.0</td>\n      <td>3</td>\n    </tr>\n  </tbody>\n</table>\n</div>"
     },
     "execution_count": 161,
     "metadata": {},
     "output_type": "execute_result"
    }
   ]
  },
  {
   "cell_type": "markdown",
   "metadata": {
    "id": "uJglOt5k4hj6"
   },
   "source": [
    "**MINI CHALLENGE #7:**\n",
    "- **Load the csv data and use the \"first name\" column as the index**\n",
    "- **Randomly select 2 rows from the DataFrame. Rerun the code and ensure that random rows are being selected**"
   ]
  },
  {
   "cell_type": "code",
   "metadata": {
    "id": "3TvaC5LP4lEM",
    "ExecuteTime": {
     "end_time": "2024-01-08T11:51:19.397574Z",
     "start_time": "2024-01-08T11:51:17.913824Z"
    }
   },
   "source": [],
   "execution_count": 48,
   "outputs": []
  },
  {
   "cell_type": "markdown",
   "metadata": {
    "id": "sjL2Y6fqXywF"
   },
   "source": [
    "# 8. INTEGER INDEX-BASED ELEMENTS SELECTION FROM A DATAFRAME \"iLOC()\""
   ]
  },
  {
   "cell_type": "code",
   "metadata": {
    "id": "Am3tIX-wXG1P",
    "ExecuteTime": {
     "end_time": "2024-01-08T14:05:18.555264Z",
     "start_time": "2024-01-08T14:05:18.375456Z"
    }
   },
   "source": [
    "# Load the CSV file with default index\n",
    "bank_df = pd.read_csv('../datasets/bank_client_information.csv')\n",
    "bank_df"
   ],
   "execution_count": 163,
   "outputs": [
    {
     "data": {
      "text/plain": "  First Name Last Name                    Email Postal Code  Net Worth  \\\n0      Bird      Steve           bird@gmail.com     N94 3M0    5000.00   \n1       Noah     Small       nsmall@hotmail.com     N8S 14K   10000.00   \n2       Nina    Keller          azikez@gahew.mr     S1T 4E6    9072.02   \n3    Chanel      Steve         chanel@gmail.com     N7T 3E6   11072.02   \n4       Kate      Noor         kate@hotmail.com     K8N 5H6    5000.00   \n5      Samer        Mo          samer@gmail.com     J7H 3HY  100000.00   \n6       Heba    Ismail  heba.ismail@hotmail.com     K8Y 3M8   50000.00   \n7      Laila     Ahmed      Laila.a@hotmail.com     J8Y 3M0   20000.00   \n8     Joseph    Patton           daafeja@boh.jm     M6U 5U7    2629.13   \n9       Noah     Moran        guutodi@bigwoc.kw     K2D 4M9    8626.96   \n\n   Years with Bank  \n0                5  \n1                6  \n2                7  \n3               10  \n4               22  \n5               26  \n6               11  \n7                3  \n8                1  \n9               13  ",
      "text/html": "<div>\n<style scoped>\n    .dataframe tbody tr th:only-of-type {\n        vertical-align: middle;\n    }\n\n    .dataframe tbody tr th {\n        vertical-align: top;\n    }\n\n    .dataframe thead th {\n        text-align: right;\n    }\n</style>\n<table border=\"1\" class=\"dataframe\">\n  <thead>\n    <tr style=\"text-align: right;\">\n      <th></th>\n      <th>First Name</th>\n      <th>Last Name</th>\n      <th>Email</th>\n      <th>Postal Code</th>\n      <th>Net Worth</th>\n      <th>Years with Bank</th>\n    </tr>\n  </thead>\n  <tbody>\n    <tr>\n      <th>0</th>\n      <td>Bird</td>\n      <td>Steve</td>\n      <td>bird@gmail.com</td>\n      <td>N94 3M0</td>\n      <td>5000.00</td>\n      <td>5</td>\n    </tr>\n    <tr>\n      <th>1</th>\n      <td>Noah</td>\n      <td>Small</td>\n      <td>nsmall@hotmail.com</td>\n      <td>N8S 14K</td>\n      <td>10000.00</td>\n      <td>6</td>\n    </tr>\n    <tr>\n      <th>2</th>\n      <td>Nina</td>\n      <td>Keller</td>\n      <td>azikez@gahew.mr</td>\n      <td>S1T 4E6</td>\n      <td>9072.02</td>\n      <td>7</td>\n    </tr>\n    <tr>\n      <th>3</th>\n      <td>Chanel</td>\n      <td>Steve</td>\n      <td>chanel@gmail.com</td>\n      <td>N7T 3E6</td>\n      <td>11072.02</td>\n      <td>10</td>\n    </tr>\n    <tr>\n      <th>4</th>\n      <td>Kate</td>\n      <td>Noor</td>\n      <td>kate@hotmail.com</td>\n      <td>K8N 5H6</td>\n      <td>5000.00</td>\n      <td>22</td>\n    </tr>\n    <tr>\n      <th>5</th>\n      <td>Samer</td>\n      <td>Mo</td>\n      <td>samer@gmail.com</td>\n      <td>J7H 3HY</td>\n      <td>100000.00</td>\n      <td>26</td>\n    </tr>\n    <tr>\n      <th>6</th>\n      <td>Heba</td>\n      <td>Ismail</td>\n      <td>heba.ismail@hotmail.com</td>\n      <td>K8Y 3M8</td>\n      <td>50000.00</td>\n      <td>11</td>\n    </tr>\n    <tr>\n      <th>7</th>\n      <td>Laila</td>\n      <td>Ahmed</td>\n      <td>Laila.a@hotmail.com</td>\n      <td>J8Y 3M0</td>\n      <td>20000.00</td>\n      <td>3</td>\n    </tr>\n    <tr>\n      <th>8</th>\n      <td>Joseph</td>\n      <td>Patton</td>\n      <td>daafeja@boh.jm</td>\n      <td>M6U 5U7</td>\n      <td>2629.13</td>\n      <td>1</td>\n    </tr>\n    <tr>\n      <th>9</th>\n      <td>Noah</td>\n      <td>Moran</td>\n      <td>guutodi@bigwoc.kw</td>\n      <td>K2D 4M9</td>\n      <td>8626.96</td>\n      <td>13</td>\n    </tr>\n  </tbody>\n</table>\n</div>"
     },
     "execution_count": 163,
     "metadata": {},
     "output_type": "execute_result"
    }
   ]
  },
  {
   "cell_type": "code",
   "metadata": {
    "id": "ymJifM0PX81n",
    "ExecuteTime": {
     "end_time": "2024-01-08T14:11:11.115545Z",
     "start_time": "2024-01-08T14:11:10.990401Z"
    }
   },
   "source": [
    "# You can access rows with their numeric index using iloc\n",
    "bank_df.iloc[9]"
   ],
   "execution_count": 164,
   "outputs": [
    {
     "data": {
      "text/plain": "First Name                      Noah\nLast Name                      Moran\nEmail              guutodi@bigwoc.kw\nPostal Code                  K2D 4M9\nNet Worth                    8626.96\nYears with Bank                   13\nName: 9, dtype: object"
     },
     "execution_count": 164,
     "metadata": {},
     "output_type": "execute_result"
    }
   ]
  },
  {
   "cell_type": "code",
   "metadata": {
    "id": "-lykVrt8X84V",
    "ExecuteTime": {
     "end_time": "2024-01-08T14:15:16.819862Z",
     "start_time": "2024-01-08T14:15:16.727248Z"
    }
   },
   "source": [
    "# You can access multiple rows with their numeric index using iloc and colon :\n",
    "# Note that using iloc is exclusive, meaning that we did not include the last element (quite confusing I know!)\n",
    "# We went from index = 2 up until and not including index 5 so index 2,3, and 4 are the one selected\n",
    "bank_df.iloc[2:5]"
   ],
   "execution_count": 165,
   "outputs": [
    {
     "data": {
      "text/plain": "  First Name Last Name             Email Postal Code  Net Worth  \\\n2       Nina    Keller   azikez@gahew.mr     S1T 4E6    9072.02   \n3    Chanel      Steve  chanel@gmail.com     N7T 3E6   11072.02   \n4       Kate      Noor  kate@hotmail.com     K8N 5H6    5000.00   \n\n   Years with Bank  \n2                7  \n3               10  \n4               22  ",
      "text/html": "<div>\n<style scoped>\n    .dataframe tbody tr th:only-of-type {\n        vertical-align: middle;\n    }\n\n    .dataframe tbody tr th {\n        vertical-align: top;\n    }\n\n    .dataframe thead th {\n        text-align: right;\n    }\n</style>\n<table border=\"1\" class=\"dataframe\">\n  <thead>\n    <tr style=\"text-align: right;\">\n      <th></th>\n      <th>First Name</th>\n      <th>Last Name</th>\n      <th>Email</th>\n      <th>Postal Code</th>\n      <th>Net Worth</th>\n      <th>Years with Bank</th>\n    </tr>\n  </thead>\n  <tbody>\n    <tr>\n      <th>2</th>\n      <td>Nina</td>\n      <td>Keller</td>\n      <td>azikez@gahew.mr</td>\n      <td>S1T 4E6</td>\n      <td>9072.02</td>\n      <td>7</td>\n    </tr>\n    <tr>\n      <th>3</th>\n      <td>Chanel</td>\n      <td>Steve</td>\n      <td>chanel@gmail.com</td>\n      <td>N7T 3E6</td>\n      <td>11072.02</td>\n      <td>10</td>\n    </tr>\n    <tr>\n      <th>4</th>\n      <td>Kate</td>\n      <td>Noor</td>\n      <td>kate@hotmail.com</td>\n      <td>K8N 5H6</td>\n      <td>5000.00</td>\n      <td>22</td>\n    </tr>\n  </tbody>\n</table>\n</div>"
     },
     "execution_count": 165,
     "metadata": {},
     "output_type": "execute_result"
    }
   ]
  },
  {
   "cell_type": "code",
   "metadata": {
    "id": "fN6Pq9duX87x",
    "ExecuteTime": {
     "end_time": "2024-01-08T14:36:26.628025Z",
     "start_time": "2024-01-08T14:36:26.487656Z"
    }
   },
   "source": [
    "# all up until and not including index 4\n",
    "bank_df.iloc[:4]"
   ],
   "execution_count": 166,
   "outputs": [
    {
     "data": {
      "text/plain": "  First Name Last Name               Email Postal Code  Net Worth  \\\n0      Bird      Steve      bird@gmail.com     N94 3M0    5000.00   \n1       Noah     Small  nsmall@hotmail.com     N8S 14K   10000.00   \n2       Nina    Keller     azikez@gahew.mr     S1T 4E6    9072.02   \n3    Chanel      Steve    chanel@gmail.com     N7T 3E6   11072.02   \n\n   Years with Bank  \n0                5  \n1                6  \n2                7  \n3               10  ",
      "text/html": "<div>\n<style scoped>\n    .dataframe tbody tr th:only-of-type {\n        vertical-align: middle;\n    }\n\n    .dataframe tbody tr th {\n        vertical-align: top;\n    }\n\n    .dataframe thead th {\n        text-align: right;\n    }\n</style>\n<table border=\"1\" class=\"dataframe\">\n  <thead>\n    <tr style=\"text-align: right;\">\n      <th></th>\n      <th>First Name</th>\n      <th>Last Name</th>\n      <th>Email</th>\n      <th>Postal Code</th>\n      <th>Net Worth</th>\n      <th>Years with Bank</th>\n    </tr>\n  </thead>\n  <tbody>\n    <tr>\n      <th>0</th>\n      <td>Bird</td>\n      <td>Steve</td>\n      <td>bird@gmail.com</td>\n      <td>N94 3M0</td>\n      <td>5000.00</td>\n      <td>5</td>\n    </tr>\n    <tr>\n      <th>1</th>\n      <td>Noah</td>\n      <td>Small</td>\n      <td>nsmall@hotmail.com</td>\n      <td>N8S 14K</td>\n      <td>10000.00</td>\n      <td>6</td>\n    </tr>\n    <tr>\n      <th>2</th>\n      <td>Nina</td>\n      <td>Keller</td>\n      <td>azikez@gahew.mr</td>\n      <td>S1T 4E6</td>\n      <td>9072.02</td>\n      <td>7</td>\n    </tr>\n    <tr>\n      <th>3</th>\n      <td>Chanel</td>\n      <td>Steve</td>\n      <td>chanel@gmail.com</td>\n      <td>N7T 3E6</td>\n      <td>11072.02</td>\n      <td>10</td>\n    </tr>\n  </tbody>\n</table>\n</div>"
     },
     "execution_count": 166,
     "metadata": {},
     "output_type": "execute_result"
    }
   ]
  },
  {
   "cell_type": "code",
   "metadata": {
    "id": "erce1sNuX8_B",
    "ExecuteTime": {
     "end_time": "2024-01-08T16:05:40.894571Z",
     "start_time": "2024-01-08T16:05:40.753492Z"
    }
   },
   "source": [
    "# Multiple elements are selected using a list of indexes \n",
    "bank_df.iloc[[2, 4, 9]]"
   ],
   "execution_count": 167,
   "outputs": [
    {
     "data": {
      "text/plain": "  First Name Last Name              Email Postal Code  Net Worth  \\\n2       Nina    Keller    azikez@gahew.mr     S1T 4E6    9072.02   \n4       Kate      Noor   kate@hotmail.com     K8N 5H6    5000.00   \n9       Noah     Moran  guutodi@bigwoc.kw     K2D 4M9    8626.96   \n\n   Years with Bank  \n2                7  \n4               22  \n9               13  ",
      "text/html": "<div>\n<style scoped>\n    .dataframe tbody tr th:only-of-type {\n        vertical-align: middle;\n    }\n\n    .dataframe tbody tr th {\n        vertical-align: top;\n    }\n\n    .dataframe thead th {\n        text-align: right;\n    }\n</style>\n<table border=\"1\" class=\"dataframe\">\n  <thead>\n    <tr style=\"text-align: right;\">\n      <th></th>\n      <th>First Name</th>\n      <th>Last Name</th>\n      <th>Email</th>\n      <th>Postal Code</th>\n      <th>Net Worth</th>\n      <th>Years with Bank</th>\n    </tr>\n  </thead>\n  <tbody>\n    <tr>\n      <th>2</th>\n      <td>Nina</td>\n      <td>Keller</td>\n      <td>azikez@gahew.mr</td>\n      <td>S1T 4E6</td>\n      <td>9072.02</td>\n      <td>7</td>\n    </tr>\n    <tr>\n      <th>4</th>\n      <td>Kate</td>\n      <td>Noor</td>\n      <td>kate@hotmail.com</td>\n      <td>K8N 5H6</td>\n      <td>5000.00</td>\n      <td>22</td>\n    </tr>\n    <tr>\n      <th>9</th>\n      <td>Noah</td>\n      <td>Moran</td>\n      <td>guutodi@bigwoc.kw</td>\n      <td>K2D 4M9</td>\n      <td>8626.96</td>\n      <td>13</td>\n    </tr>\n  </tbody>\n</table>\n</div>"
     },
     "execution_count": 167,
     "metadata": {},
     "output_type": "execute_result"
    }
   ]
  },
  {
   "cell_type": "code",
   "metadata": {
    "id": "HUmFP5YaXG4S",
    "ExecuteTime": {
     "end_time": "2024-01-08T16:06:17.018401Z",
     "start_time": "2024-01-08T16:06:16.905830Z"
    }
   },
   "source": [
    "# Slicing a piece of the dataframe by selecting which row and column you would like to select\n",
    "bank_df.iloc[4, 0:3]"
   ],
   "execution_count": 168,
   "outputs": [
    {
     "data": {
      "text/plain": "First Name                Kate\nLast Name                 Noor\nEmail         kate@hotmail.com\nName: 4, dtype: object"
     },
     "execution_count": 168,
     "metadata": {},
     "output_type": "execute_result"
    }
   ]
  },
  {
   "cell_type": "markdown",
   "metadata": {
    "id": "ahaEIS4f5zPK"
   },
   "source": [
    "**MINI CHALLENGE #8:**\n",
    "- **Write a code that selects the last two rows in the DataFrame using two different methods**"
   ]
  },
  {
   "cell_type": "code",
   "metadata": {
    "id": "VgOhAvCk52IV",
    "ExecuteTime": {
     "end_time": "2024-01-08T16:09:29.170147Z",
     "start_time": "2024-01-08T16:09:29.025751Z"
    }
   },
   "source": [
    "bank_df[-2:]"
   ],
   "execution_count": 170,
   "outputs": [
    {
     "data": {
      "text/plain": "  First Name Last Name              Email Postal Code  Net Worth  \\\n8     Joseph    Patton     daafeja@boh.jm     M6U 5U7    2629.13   \n9       Noah     Moran  guutodi@bigwoc.kw     K2D 4M9    8626.96   \n\n   Years with Bank  \n8                1  \n9               13  ",
      "text/html": "<div>\n<style scoped>\n    .dataframe tbody tr th:only-of-type {\n        vertical-align: middle;\n    }\n\n    .dataframe tbody tr th {\n        vertical-align: top;\n    }\n\n    .dataframe thead th {\n        text-align: right;\n    }\n</style>\n<table border=\"1\" class=\"dataframe\">\n  <thead>\n    <tr style=\"text-align: right;\">\n      <th></th>\n      <th>First Name</th>\n      <th>Last Name</th>\n      <th>Email</th>\n      <th>Postal Code</th>\n      <th>Net Worth</th>\n      <th>Years with Bank</th>\n    </tr>\n  </thead>\n  <tbody>\n    <tr>\n      <th>8</th>\n      <td>Joseph</td>\n      <td>Patton</td>\n      <td>daafeja@boh.jm</td>\n      <td>M6U 5U7</td>\n      <td>2629.13</td>\n      <td>1</td>\n    </tr>\n    <tr>\n      <th>9</th>\n      <td>Noah</td>\n      <td>Moran</td>\n      <td>guutodi@bigwoc.kw</td>\n      <td>K2D 4M9</td>\n      <td>8626.96</td>\n      <td>13</td>\n    </tr>\n  </tbody>\n</table>\n</div>"
     },
     "execution_count": 170,
     "metadata": {},
     "output_type": "execute_result"
    }
   ]
  },
  {
   "cell_type": "code",
   "execution_count": 171,
   "outputs": [
    {
     "data": {
      "text/plain": "  First Name Last Name              Email Postal Code  Net Worth  \\\n8     Joseph    Patton     daafeja@boh.jm     M6U 5U7    2629.13   \n9       Noah     Moran  guutodi@bigwoc.kw     K2D 4M9    8626.96   \n\n   Years with Bank  \n8                1  \n9               13  ",
      "text/html": "<div>\n<style scoped>\n    .dataframe tbody tr th:only-of-type {\n        vertical-align: middle;\n    }\n\n    .dataframe tbody tr th {\n        vertical-align: top;\n    }\n\n    .dataframe thead th {\n        text-align: right;\n    }\n</style>\n<table border=\"1\" class=\"dataframe\">\n  <thead>\n    <tr style=\"text-align: right;\">\n      <th></th>\n      <th>First Name</th>\n      <th>Last Name</th>\n      <th>Email</th>\n      <th>Postal Code</th>\n      <th>Net Worth</th>\n      <th>Years with Bank</th>\n    </tr>\n  </thead>\n  <tbody>\n    <tr>\n      <th>8</th>\n      <td>Joseph</td>\n      <td>Patton</td>\n      <td>daafeja@boh.jm</td>\n      <td>M6U 5U7</td>\n      <td>2629.13</td>\n      <td>1</td>\n    </tr>\n    <tr>\n      <th>9</th>\n      <td>Noah</td>\n      <td>Moran</td>\n      <td>guutodi@bigwoc.kw</td>\n      <td>K2D 4M9</td>\n      <td>8626.96</td>\n      <td>13</td>\n    </tr>\n  </tbody>\n</table>\n</div>"
     },
     "execution_count": 171,
     "metadata": {},
     "output_type": "execute_result"
    }
   ],
   "source": [
    "bank_df.iloc[8:]"
   ],
   "metadata": {
    "collapsed": false,
    "ExecuteTime": {
     "end_time": "2024-01-08T16:10:04.558429Z",
     "start_time": "2024-01-08T16:10:04.442765Z"
    }
   }
  },
  {
   "cell_type": "markdown",
   "metadata": {
    "id": "0vcp6-RzoxmL"
   },
   "source": [
    "# 9. BROADCASTING OPERATIONS & SETTING NEW DATAFRAME VALUES"
   ]
  },
  {
   "cell_type": "code",
   "metadata": {
    "id": "1St4UOdTo2f0",
    "ExecuteTime": {
     "end_time": "2024-01-08T16:11:33.886137Z",
     "start_time": "2024-01-08T16:11:33.776071Z"
    }
   },
   "source": [
    "# Pandas is used to read a csv file and store data in a DataFrame\n",
    "bank_df = pd.read_csv('../datasets/bank_client_information.csv')\n",
    "bank_df"
   ],
   "execution_count": 173,
   "outputs": [
    {
     "data": {
      "text/plain": "  First Name Last Name                    Email Postal Code  Net Worth  \\\n0      Bird      Steve           bird@gmail.com     N94 3M0    5000.00   \n1       Noah     Small       nsmall@hotmail.com     N8S 14K   10000.00   \n2       Nina    Keller          azikez@gahew.mr     S1T 4E6    9072.02   \n3    Chanel      Steve         chanel@gmail.com     N7T 3E6   11072.02   \n4       Kate      Noor         kate@hotmail.com     K8N 5H6    5000.00   \n5      Samer        Mo          samer@gmail.com     J7H 3HY  100000.00   \n6       Heba    Ismail  heba.ismail@hotmail.com     K8Y 3M8   50000.00   \n7      Laila     Ahmed      Laila.a@hotmail.com     J8Y 3M0   20000.00   \n8     Joseph    Patton           daafeja@boh.jm     M6U 5U7    2629.13   \n9       Noah     Moran        guutodi@bigwoc.kw     K2D 4M9    8626.96   \n\n   Years with Bank  \n0                5  \n1                6  \n2                7  \n3               10  \n4               22  \n5               26  \n6               11  \n7                3  \n8                1  \n9               13  ",
      "text/html": "<div>\n<style scoped>\n    .dataframe tbody tr th:only-of-type {\n        vertical-align: middle;\n    }\n\n    .dataframe tbody tr th {\n        vertical-align: top;\n    }\n\n    .dataframe thead th {\n        text-align: right;\n    }\n</style>\n<table border=\"1\" class=\"dataframe\">\n  <thead>\n    <tr style=\"text-align: right;\">\n      <th></th>\n      <th>First Name</th>\n      <th>Last Name</th>\n      <th>Email</th>\n      <th>Postal Code</th>\n      <th>Net Worth</th>\n      <th>Years with Bank</th>\n    </tr>\n  </thead>\n  <tbody>\n    <tr>\n      <th>0</th>\n      <td>Bird</td>\n      <td>Steve</td>\n      <td>bird@gmail.com</td>\n      <td>N94 3M0</td>\n      <td>5000.00</td>\n      <td>5</td>\n    </tr>\n    <tr>\n      <th>1</th>\n      <td>Noah</td>\n      <td>Small</td>\n      <td>nsmall@hotmail.com</td>\n      <td>N8S 14K</td>\n      <td>10000.00</td>\n      <td>6</td>\n    </tr>\n    <tr>\n      <th>2</th>\n      <td>Nina</td>\n      <td>Keller</td>\n      <td>azikez@gahew.mr</td>\n      <td>S1T 4E6</td>\n      <td>9072.02</td>\n      <td>7</td>\n    </tr>\n    <tr>\n      <th>3</th>\n      <td>Chanel</td>\n      <td>Steve</td>\n      <td>chanel@gmail.com</td>\n      <td>N7T 3E6</td>\n      <td>11072.02</td>\n      <td>10</td>\n    </tr>\n    <tr>\n      <th>4</th>\n      <td>Kate</td>\n      <td>Noor</td>\n      <td>kate@hotmail.com</td>\n      <td>K8N 5H6</td>\n      <td>5000.00</td>\n      <td>22</td>\n    </tr>\n    <tr>\n      <th>5</th>\n      <td>Samer</td>\n      <td>Mo</td>\n      <td>samer@gmail.com</td>\n      <td>J7H 3HY</td>\n      <td>100000.00</td>\n      <td>26</td>\n    </tr>\n    <tr>\n      <th>6</th>\n      <td>Heba</td>\n      <td>Ismail</td>\n      <td>heba.ismail@hotmail.com</td>\n      <td>K8Y 3M8</td>\n      <td>50000.00</td>\n      <td>11</td>\n    </tr>\n    <tr>\n      <th>7</th>\n      <td>Laila</td>\n      <td>Ahmed</td>\n      <td>Laila.a@hotmail.com</td>\n      <td>J8Y 3M0</td>\n      <td>20000.00</td>\n      <td>3</td>\n    </tr>\n    <tr>\n      <th>8</th>\n      <td>Joseph</td>\n      <td>Patton</td>\n      <td>daafeja@boh.jm</td>\n      <td>M6U 5U7</td>\n      <td>2629.13</td>\n      <td>1</td>\n    </tr>\n    <tr>\n      <th>9</th>\n      <td>Noah</td>\n      <td>Moran</td>\n      <td>guutodi@bigwoc.kw</td>\n      <td>K2D 4M9</td>\n      <td>8626.96</td>\n      <td>13</td>\n    </tr>\n  </tbody>\n</table>\n</div>"
     },
     "execution_count": 173,
     "metadata": {},
     "output_type": "execute_result"
    }
   ]
  },
  {
   "cell_type": "code",
   "metadata": {
    "id": "iIJRcZCRo2iA",
    "ExecuteTime": {
     "end_time": "2024-01-08T16:14:06.951087Z",
     "start_time": "2024-01-08T16:14:06.794485Z"
    }
   },
   "source": [
    "# Let's assume that we want to update the networth of all our customers by $1000\n",
    "bank_df['Net Worth'] = bank_df['Net Worth'] + 1000"
   ],
   "execution_count": 174,
   "outputs": []
  },
  {
   "cell_type": "code",
   "metadata": {
    "id": "_oygvwkwo2kt",
    "ExecuteTime": {
     "end_time": "2024-01-08T16:14:12.188260Z",
     "start_time": "2024-01-08T16:14:12.060256Z"
    }
   },
   "source": [
    "bank_df"
   ],
   "execution_count": 175,
   "outputs": [
    {
     "data": {
      "text/plain": "  First Name Last Name                    Email Postal Code  Net Worth  \\\n0      Bird      Steve           bird@gmail.com     N94 3M0    6000.00   \n1       Noah     Small       nsmall@hotmail.com     N8S 14K   11000.00   \n2       Nina    Keller          azikez@gahew.mr     S1T 4E6   10072.02   \n3    Chanel      Steve         chanel@gmail.com     N7T 3E6   12072.02   \n4       Kate      Noor         kate@hotmail.com     K8N 5H6    6000.00   \n5      Samer        Mo          samer@gmail.com     J7H 3HY  101000.00   \n6       Heba    Ismail  heba.ismail@hotmail.com     K8Y 3M8   51000.00   \n7      Laila     Ahmed      Laila.a@hotmail.com     J8Y 3M0   21000.00   \n8     Joseph    Patton           daafeja@boh.jm     M6U 5U7    3629.13   \n9       Noah     Moran        guutodi@bigwoc.kw     K2D 4M9    9626.96   \n\n   Years with Bank  \n0                5  \n1                6  \n2                7  \n3               10  \n4               22  \n5               26  \n6               11  \n7                3  \n8                1  \n9               13  ",
      "text/html": "<div>\n<style scoped>\n    .dataframe tbody tr th:only-of-type {\n        vertical-align: middle;\n    }\n\n    .dataframe tbody tr th {\n        vertical-align: top;\n    }\n\n    .dataframe thead th {\n        text-align: right;\n    }\n</style>\n<table border=\"1\" class=\"dataframe\">\n  <thead>\n    <tr style=\"text-align: right;\">\n      <th></th>\n      <th>First Name</th>\n      <th>Last Name</th>\n      <th>Email</th>\n      <th>Postal Code</th>\n      <th>Net Worth</th>\n      <th>Years with Bank</th>\n    </tr>\n  </thead>\n  <tbody>\n    <tr>\n      <th>0</th>\n      <td>Bird</td>\n      <td>Steve</td>\n      <td>bird@gmail.com</td>\n      <td>N94 3M0</td>\n      <td>6000.00</td>\n      <td>5</td>\n    </tr>\n    <tr>\n      <th>1</th>\n      <td>Noah</td>\n      <td>Small</td>\n      <td>nsmall@hotmail.com</td>\n      <td>N8S 14K</td>\n      <td>11000.00</td>\n      <td>6</td>\n    </tr>\n    <tr>\n      <th>2</th>\n      <td>Nina</td>\n      <td>Keller</td>\n      <td>azikez@gahew.mr</td>\n      <td>S1T 4E6</td>\n      <td>10072.02</td>\n      <td>7</td>\n    </tr>\n    <tr>\n      <th>3</th>\n      <td>Chanel</td>\n      <td>Steve</td>\n      <td>chanel@gmail.com</td>\n      <td>N7T 3E6</td>\n      <td>12072.02</td>\n      <td>10</td>\n    </tr>\n    <tr>\n      <th>4</th>\n      <td>Kate</td>\n      <td>Noor</td>\n      <td>kate@hotmail.com</td>\n      <td>K8N 5H6</td>\n      <td>6000.00</td>\n      <td>22</td>\n    </tr>\n    <tr>\n      <th>5</th>\n      <td>Samer</td>\n      <td>Mo</td>\n      <td>samer@gmail.com</td>\n      <td>J7H 3HY</td>\n      <td>101000.00</td>\n      <td>26</td>\n    </tr>\n    <tr>\n      <th>6</th>\n      <td>Heba</td>\n      <td>Ismail</td>\n      <td>heba.ismail@hotmail.com</td>\n      <td>K8Y 3M8</td>\n      <td>51000.00</td>\n      <td>11</td>\n    </tr>\n    <tr>\n      <th>7</th>\n      <td>Laila</td>\n      <td>Ahmed</td>\n      <td>Laila.a@hotmail.com</td>\n      <td>J8Y 3M0</td>\n      <td>21000.00</td>\n      <td>3</td>\n    </tr>\n    <tr>\n      <th>8</th>\n      <td>Joseph</td>\n      <td>Patton</td>\n      <td>daafeja@boh.jm</td>\n      <td>M6U 5U7</td>\n      <td>3629.13</td>\n      <td>1</td>\n    </tr>\n    <tr>\n      <th>9</th>\n      <td>Noah</td>\n      <td>Moran</td>\n      <td>guutodi@bigwoc.kw</td>\n      <td>K2D 4M9</td>\n      <td>9626.96</td>\n      <td>13</td>\n    </tr>\n  </tbody>\n</table>\n</div>"
     },
     "execution_count": 175,
     "metadata": {},
     "output_type": "execute_result"
    }
   ]
  },
  {
   "cell_type": "code",
   "metadata": {
    "id": "pzVlxLmApbEt",
    "ExecuteTime": {
     "end_time": "2024-01-08T16:15:24.798393Z",
     "start_time": "2024-01-08T16:15:24.679707Z"
    }
   },
   "source": [
    "# Alternatively, you can add or subtract as follows\n",
    "bank_df['Net Worth'] = bank_df['Net Worth'].add(1000)\n",
    "bank_df"
   ],
   "execution_count": 176,
   "outputs": [
    {
     "data": {
      "text/plain": "  First Name Last Name                    Email Postal Code  Net Worth  \\\n0      Bird      Steve           bird@gmail.com     N94 3M0    7000.00   \n1       Noah     Small       nsmall@hotmail.com     N8S 14K   12000.00   \n2       Nina    Keller          azikez@gahew.mr     S1T 4E6   11072.02   \n3    Chanel      Steve         chanel@gmail.com     N7T 3E6   13072.02   \n4       Kate      Noor         kate@hotmail.com     K8N 5H6    7000.00   \n5      Samer        Mo          samer@gmail.com     J7H 3HY  102000.00   \n6       Heba    Ismail  heba.ismail@hotmail.com     K8Y 3M8   52000.00   \n7      Laila     Ahmed      Laila.a@hotmail.com     J8Y 3M0   22000.00   \n8     Joseph    Patton           daafeja@boh.jm     M6U 5U7    4629.13   \n9       Noah     Moran        guutodi@bigwoc.kw     K2D 4M9   10626.96   \n\n   Years with Bank  \n0                5  \n1                6  \n2                7  \n3               10  \n4               22  \n5               26  \n6               11  \n7                3  \n8                1  \n9               13  ",
      "text/html": "<div>\n<style scoped>\n    .dataframe tbody tr th:only-of-type {\n        vertical-align: middle;\n    }\n\n    .dataframe tbody tr th {\n        vertical-align: top;\n    }\n\n    .dataframe thead th {\n        text-align: right;\n    }\n</style>\n<table border=\"1\" class=\"dataframe\">\n  <thead>\n    <tr style=\"text-align: right;\">\n      <th></th>\n      <th>First Name</th>\n      <th>Last Name</th>\n      <th>Email</th>\n      <th>Postal Code</th>\n      <th>Net Worth</th>\n      <th>Years with Bank</th>\n    </tr>\n  </thead>\n  <tbody>\n    <tr>\n      <th>0</th>\n      <td>Bird</td>\n      <td>Steve</td>\n      <td>bird@gmail.com</td>\n      <td>N94 3M0</td>\n      <td>7000.00</td>\n      <td>5</td>\n    </tr>\n    <tr>\n      <th>1</th>\n      <td>Noah</td>\n      <td>Small</td>\n      <td>nsmall@hotmail.com</td>\n      <td>N8S 14K</td>\n      <td>12000.00</td>\n      <td>6</td>\n    </tr>\n    <tr>\n      <th>2</th>\n      <td>Nina</td>\n      <td>Keller</td>\n      <td>azikez@gahew.mr</td>\n      <td>S1T 4E6</td>\n      <td>11072.02</td>\n      <td>7</td>\n    </tr>\n    <tr>\n      <th>3</th>\n      <td>Chanel</td>\n      <td>Steve</td>\n      <td>chanel@gmail.com</td>\n      <td>N7T 3E6</td>\n      <td>13072.02</td>\n      <td>10</td>\n    </tr>\n    <tr>\n      <th>4</th>\n      <td>Kate</td>\n      <td>Noor</td>\n      <td>kate@hotmail.com</td>\n      <td>K8N 5H6</td>\n      <td>7000.00</td>\n      <td>22</td>\n    </tr>\n    <tr>\n      <th>5</th>\n      <td>Samer</td>\n      <td>Mo</td>\n      <td>samer@gmail.com</td>\n      <td>J7H 3HY</td>\n      <td>102000.00</td>\n      <td>26</td>\n    </tr>\n    <tr>\n      <th>6</th>\n      <td>Heba</td>\n      <td>Ismail</td>\n      <td>heba.ismail@hotmail.com</td>\n      <td>K8Y 3M8</td>\n      <td>52000.00</td>\n      <td>11</td>\n    </tr>\n    <tr>\n      <th>7</th>\n      <td>Laila</td>\n      <td>Ahmed</td>\n      <td>Laila.a@hotmail.com</td>\n      <td>J8Y 3M0</td>\n      <td>22000.00</td>\n      <td>3</td>\n    </tr>\n    <tr>\n      <th>8</th>\n      <td>Joseph</td>\n      <td>Patton</td>\n      <td>daafeja@boh.jm</td>\n      <td>M6U 5U7</td>\n      <td>4629.13</td>\n      <td>1</td>\n    </tr>\n    <tr>\n      <th>9</th>\n      <td>Noah</td>\n      <td>Moran</td>\n      <td>guutodi@bigwoc.kw</td>\n      <td>K2D 4M9</td>\n      <td>10626.96</td>\n      <td>13</td>\n    </tr>\n  </tbody>\n</table>\n</div>"
     },
     "execution_count": 176,
     "metadata": {},
     "output_type": "execute_result"
    }
   ]
  },
  {
   "cell_type": "code",
   "metadata": {
    "id": "9sVuAqhlqGIn",
    "ExecuteTime": {
     "end_time": "2024-01-08T16:21:14.310304Z",
     "start_time": "2024-01-08T16:21:14.182144Z"
    }
   },
   "source": [
    "# Let's convert from USD to CAD using the exchange rate 1 USD = 1.3 CAD \n",
    "bank_df['Net Worth (CAD)'] = bank_df['Net Worth'].mul(1.3)\n",
    "bank_df"
   ],
   "execution_count": 177,
   "outputs": [
    {
     "data": {
      "text/plain": "  First Name Last Name                    Email Postal Code  Net Worth  \\\n0      Bird      Steve           bird@gmail.com     N94 3M0    7000.00   \n1       Noah     Small       nsmall@hotmail.com     N8S 14K   12000.00   \n2       Nina    Keller          azikez@gahew.mr     S1T 4E6   11072.02   \n3    Chanel      Steve         chanel@gmail.com     N7T 3E6   13072.02   \n4       Kate      Noor         kate@hotmail.com     K8N 5H6    7000.00   \n5      Samer        Mo          samer@gmail.com     J7H 3HY  102000.00   \n6       Heba    Ismail  heba.ismail@hotmail.com     K8Y 3M8   52000.00   \n7      Laila     Ahmed      Laila.a@hotmail.com     J8Y 3M0   22000.00   \n8     Joseph    Patton           daafeja@boh.jm     M6U 5U7    4629.13   \n9       Noah     Moran        guutodi@bigwoc.kw     K2D 4M9   10626.96   \n\n   Years with Bank  Net Worth (CAD)  \n0                5         9100.000  \n1                6        15600.000  \n2                7        14393.626  \n3               10        16993.626  \n4               22         9100.000  \n5               26       132600.000  \n6               11        67600.000  \n7                3        28600.000  \n8                1         6017.869  \n9               13        13815.048  ",
      "text/html": "<div>\n<style scoped>\n    .dataframe tbody tr th:only-of-type {\n        vertical-align: middle;\n    }\n\n    .dataframe tbody tr th {\n        vertical-align: top;\n    }\n\n    .dataframe thead th {\n        text-align: right;\n    }\n</style>\n<table border=\"1\" class=\"dataframe\">\n  <thead>\n    <tr style=\"text-align: right;\">\n      <th></th>\n      <th>First Name</th>\n      <th>Last Name</th>\n      <th>Email</th>\n      <th>Postal Code</th>\n      <th>Net Worth</th>\n      <th>Years with Bank</th>\n      <th>Net Worth (CAD)</th>\n    </tr>\n  </thead>\n  <tbody>\n    <tr>\n      <th>0</th>\n      <td>Bird</td>\n      <td>Steve</td>\n      <td>bird@gmail.com</td>\n      <td>N94 3M0</td>\n      <td>7000.00</td>\n      <td>5</td>\n      <td>9100.000</td>\n    </tr>\n    <tr>\n      <th>1</th>\n      <td>Noah</td>\n      <td>Small</td>\n      <td>nsmall@hotmail.com</td>\n      <td>N8S 14K</td>\n      <td>12000.00</td>\n      <td>6</td>\n      <td>15600.000</td>\n    </tr>\n    <tr>\n      <th>2</th>\n      <td>Nina</td>\n      <td>Keller</td>\n      <td>azikez@gahew.mr</td>\n      <td>S1T 4E6</td>\n      <td>11072.02</td>\n      <td>7</td>\n      <td>14393.626</td>\n    </tr>\n    <tr>\n      <th>3</th>\n      <td>Chanel</td>\n      <td>Steve</td>\n      <td>chanel@gmail.com</td>\n      <td>N7T 3E6</td>\n      <td>13072.02</td>\n      <td>10</td>\n      <td>16993.626</td>\n    </tr>\n    <tr>\n      <th>4</th>\n      <td>Kate</td>\n      <td>Noor</td>\n      <td>kate@hotmail.com</td>\n      <td>K8N 5H6</td>\n      <td>7000.00</td>\n      <td>22</td>\n      <td>9100.000</td>\n    </tr>\n    <tr>\n      <th>5</th>\n      <td>Samer</td>\n      <td>Mo</td>\n      <td>samer@gmail.com</td>\n      <td>J7H 3HY</td>\n      <td>102000.00</td>\n      <td>26</td>\n      <td>132600.000</td>\n    </tr>\n    <tr>\n      <th>6</th>\n      <td>Heba</td>\n      <td>Ismail</td>\n      <td>heba.ismail@hotmail.com</td>\n      <td>K8Y 3M8</td>\n      <td>52000.00</td>\n      <td>11</td>\n      <td>67600.000</td>\n    </tr>\n    <tr>\n      <th>7</th>\n      <td>Laila</td>\n      <td>Ahmed</td>\n      <td>Laila.a@hotmail.com</td>\n      <td>J8Y 3M0</td>\n      <td>22000.00</td>\n      <td>3</td>\n      <td>28600.000</td>\n    </tr>\n    <tr>\n      <th>8</th>\n      <td>Joseph</td>\n      <td>Patton</td>\n      <td>daafeja@boh.jm</td>\n      <td>M6U 5U7</td>\n      <td>4629.13</td>\n      <td>1</td>\n      <td>6017.869</td>\n    </tr>\n    <tr>\n      <th>9</th>\n      <td>Noah</td>\n      <td>Moran</td>\n      <td>guutodi@bigwoc.kw</td>\n      <td>K2D 4M9</td>\n      <td>10626.96</td>\n      <td>13</td>\n      <td>13815.048</td>\n    </tr>\n  </tbody>\n</table>\n</div>"
     },
     "execution_count": 177,
     "metadata": {},
     "output_type": "execute_result"
    }
   ]
  },
  {
   "cell_type": "code",
   "metadata": {
    "id": "JHn2UP_sZzqZ",
    "ExecuteTime": {
     "end_time": "2024-01-08T16:30:30.472330Z",
     "start_time": "2024-01-08T16:30:30.364596Z"
    }
   },
   "source": [
    "# Decided to update the email address of a given customer\n",
    "bank_df.iloc[4, 2] = 'kate.noor@gmail.com'\n",
    "bank_df"
   ],
   "execution_count": 178,
   "outputs": [
    {
     "data": {
      "text/plain": "  First Name Last Name                    Email Postal Code  Net Worth  \\\n0      Bird      Steve           bird@gmail.com     N94 3M0    7000.00   \n1       Noah     Small       nsmall@hotmail.com     N8S 14K   12000.00   \n2       Nina    Keller          azikez@gahew.mr     S1T 4E6   11072.02   \n3    Chanel      Steve         chanel@gmail.com     N7T 3E6   13072.02   \n4       Kate      Noor      kate.noor@gmail.com     K8N 5H6    7000.00   \n5      Samer        Mo          samer@gmail.com     J7H 3HY  102000.00   \n6       Heba    Ismail  heba.ismail@hotmail.com     K8Y 3M8   52000.00   \n7      Laila     Ahmed      Laila.a@hotmail.com     J8Y 3M0   22000.00   \n8     Joseph    Patton           daafeja@boh.jm     M6U 5U7    4629.13   \n9       Noah     Moran        guutodi@bigwoc.kw     K2D 4M9   10626.96   \n\n   Years with Bank  Net Worth (CAD)  \n0                5         9100.000  \n1                6        15600.000  \n2                7        14393.626  \n3               10        16993.626  \n4               22         9100.000  \n5               26       132600.000  \n6               11        67600.000  \n7                3        28600.000  \n8                1         6017.869  \n9               13        13815.048  ",
      "text/html": "<div>\n<style scoped>\n    .dataframe tbody tr th:only-of-type {\n        vertical-align: middle;\n    }\n\n    .dataframe tbody tr th {\n        vertical-align: top;\n    }\n\n    .dataframe thead th {\n        text-align: right;\n    }\n</style>\n<table border=\"1\" class=\"dataframe\">\n  <thead>\n    <tr style=\"text-align: right;\">\n      <th></th>\n      <th>First Name</th>\n      <th>Last Name</th>\n      <th>Email</th>\n      <th>Postal Code</th>\n      <th>Net Worth</th>\n      <th>Years with Bank</th>\n      <th>Net Worth (CAD)</th>\n    </tr>\n  </thead>\n  <tbody>\n    <tr>\n      <th>0</th>\n      <td>Bird</td>\n      <td>Steve</td>\n      <td>bird@gmail.com</td>\n      <td>N94 3M0</td>\n      <td>7000.00</td>\n      <td>5</td>\n      <td>9100.000</td>\n    </tr>\n    <tr>\n      <th>1</th>\n      <td>Noah</td>\n      <td>Small</td>\n      <td>nsmall@hotmail.com</td>\n      <td>N8S 14K</td>\n      <td>12000.00</td>\n      <td>6</td>\n      <td>15600.000</td>\n    </tr>\n    <tr>\n      <th>2</th>\n      <td>Nina</td>\n      <td>Keller</td>\n      <td>azikez@gahew.mr</td>\n      <td>S1T 4E6</td>\n      <td>11072.02</td>\n      <td>7</td>\n      <td>14393.626</td>\n    </tr>\n    <tr>\n      <th>3</th>\n      <td>Chanel</td>\n      <td>Steve</td>\n      <td>chanel@gmail.com</td>\n      <td>N7T 3E6</td>\n      <td>13072.02</td>\n      <td>10</td>\n      <td>16993.626</td>\n    </tr>\n    <tr>\n      <th>4</th>\n      <td>Kate</td>\n      <td>Noor</td>\n      <td>kate.noor@gmail.com</td>\n      <td>K8N 5H6</td>\n      <td>7000.00</td>\n      <td>22</td>\n      <td>9100.000</td>\n    </tr>\n    <tr>\n      <th>5</th>\n      <td>Samer</td>\n      <td>Mo</td>\n      <td>samer@gmail.com</td>\n      <td>J7H 3HY</td>\n      <td>102000.00</td>\n      <td>26</td>\n      <td>132600.000</td>\n    </tr>\n    <tr>\n      <th>6</th>\n      <td>Heba</td>\n      <td>Ismail</td>\n      <td>heba.ismail@hotmail.com</td>\n      <td>K8Y 3M8</td>\n      <td>52000.00</td>\n      <td>11</td>\n      <td>67600.000</td>\n    </tr>\n    <tr>\n      <th>7</th>\n      <td>Laila</td>\n      <td>Ahmed</td>\n      <td>Laila.a@hotmail.com</td>\n      <td>J8Y 3M0</td>\n      <td>22000.00</td>\n      <td>3</td>\n      <td>28600.000</td>\n    </tr>\n    <tr>\n      <th>8</th>\n      <td>Joseph</td>\n      <td>Patton</td>\n      <td>daafeja@boh.jm</td>\n      <td>M6U 5U7</td>\n      <td>4629.13</td>\n      <td>1</td>\n      <td>6017.869</td>\n    </tr>\n    <tr>\n      <th>9</th>\n      <td>Noah</td>\n      <td>Moran</td>\n      <td>guutodi@bigwoc.kw</td>\n      <td>K2D 4M9</td>\n      <td>10626.96</td>\n      <td>13</td>\n      <td>13815.048</td>\n    </tr>\n  </tbody>\n</table>\n</div>"
     },
     "execution_count": 178,
     "metadata": {},
     "output_type": "execute_result"
    }
   ]
  },
  {
   "cell_type": "code",
   "metadata": {
    "id": "3_OzDffuZzzk",
    "ExecuteTime": {
     "end_time": "2024-01-08T16:33:51.719961Z",
     "start_time": "2024-01-08T16:33:51.428146Z"
    }
   },
   "source": [
    "bank_df[[0, 3], [4]] = [6000, 15000]\n",
    "bank_df"
   ],
   "execution_count": 179,
   "outputs": [
    {
     "ename": "ValueError",
     "evalue": "Length of values (2) does not match length of index (10)",
     "output_type": "error",
     "traceback": [
      "\u001B[0;31m---------------------------------------------------------------------------\u001B[0m",
      "\u001B[0;31mValueError\u001B[0m                                Traceback (most recent call last)",
      "Cell \u001B[0;32mIn[179], line 1\u001B[0m\n\u001B[0;32m----> 1\u001B[0m bank_df[[\u001B[38;5;241m0\u001B[39m,\u001B[38;5;241m3\u001B[39m],[\u001B[38;5;241m4\u001B[39m]] \u001B[38;5;241m=\u001B[39m [\u001B[38;5;241m6000\u001B[39m,\u001B[38;5;241m15000\u001B[39m]\n\u001B[1;32m      2\u001B[0m bank_df\n",
      "File \u001B[0;32m~/anaconda3/lib/python3.11/site-packages/pandas/core/frame.py:3950\u001B[0m, in \u001B[0;36mDataFrame.__setitem__\u001B[0;34m(self, key, value)\u001B[0m\n\u001B[1;32m   3947\u001B[0m     \u001B[38;5;28mself\u001B[39m\u001B[38;5;241m.\u001B[39m_setitem_array([key], value)\n\u001B[1;32m   3948\u001B[0m \u001B[38;5;28;01melse\u001B[39;00m:\n\u001B[1;32m   3949\u001B[0m     \u001B[38;5;66;03m# set column\u001B[39;00m\n\u001B[0;32m-> 3950\u001B[0m     \u001B[38;5;28mself\u001B[39m\u001B[38;5;241m.\u001B[39m_set_item(key, value)\n",
      "File \u001B[0;32m~/anaconda3/lib/python3.11/site-packages/pandas/core/frame.py:4143\u001B[0m, in \u001B[0;36mDataFrame._set_item\u001B[0;34m(self, key, value)\u001B[0m\n\u001B[1;32m   4133\u001B[0m \u001B[38;5;28;01mdef\u001B[39;00m \u001B[38;5;21m_set_item\u001B[39m(\u001B[38;5;28mself\u001B[39m, key, value) \u001B[38;5;241m-\u001B[39m\u001B[38;5;241m>\u001B[39m \u001B[38;5;28;01mNone\u001B[39;00m:\n\u001B[1;32m   4134\u001B[0m \u001B[38;5;250m    \u001B[39m\u001B[38;5;124;03m\"\"\"\u001B[39;00m\n\u001B[1;32m   4135\u001B[0m \u001B[38;5;124;03m    Add series to DataFrame in specified column.\u001B[39;00m\n\u001B[1;32m   4136\u001B[0m \n\u001B[0;32m   (...)\u001B[0m\n\u001B[1;32m   4141\u001B[0m \u001B[38;5;124;03m    ensure homogeneity.\u001B[39;00m\n\u001B[1;32m   4142\u001B[0m \u001B[38;5;124;03m    \"\"\"\u001B[39;00m\n\u001B[0;32m-> 4143\u001B[0m     value \u001B[38;5;241m=\u001B[39m \u001B[38;5;28mself\u001B[39m\u001B[38;5;241m.\u001B[39m_sanitize_column(value)\n\u001B[1;32m   4145\u001B[0m     \u001B[38;5;28;01mif\u001B[39;00m (\n\u001B[1;32m   4146\u001B[0m         key \u001B[38;5;129;01min\u001B[39;00m \u001B[38;5;28mself\u001B[39m\u001B[38;5;241m.\u001B[39mcolumns\n\u001B[1;32m   4147\u001B[0m         \u001B[38;5;129;01mand\u001B[39;00m value\u001B[38;5;241m.\u001B[39mndim \u001B[38;5;241m==\u001B[39m \u001B[38;5;241m1\u001B[39m\n\u001B[1;32m   4148\u001B[0m         \u001B[38;5;129;01mand\u001B[39;00m \u001B[38;5;129;01mnot\u001B[39;00m is_extension_array_dtype(value)\n\u001B[1;32m   4149\u001B[0m     ):\n\u001B[1;32m   4150\u001B[0m         \u001B[38;5;66;03m# broadcast across multiple columns if necessary\u001B[39;00m\n\u001B[1;32m   4151\u001B[0m         \u001B[38;5;28;01mif\u001B[39;00m \u001B[38;5;129;01mnot\u001B[39;00m \u001B[38;5;28mself\u001B[39m\u001B[38;5;241m.\u001B[39mcolumns\u001B[38;5;241m.\u001B[39mis_unique \u001B[38;5;129;01mor\u001B[39;00m \u001B[38;5;28misinstance\u001B[39m(\u001B[38;5;28mself\u001B[39m\u001B[38;5;241m.\u001B[39mcolumns, MultiIndex):\n",
      "File \u001B[0;32m~/anaconda3/lib/python3.11/site-packages/pandas/core/frame.py:4870\u001B[0m, in \u001B[0;36mDataFrame._sanitize_column\u001B[0;34m(self, value)\u001B[0m\n\u001B[1;32m   4867\u001B[0m     \u001B[38;5;28;01mreturn\u001B[39;00m _reindex_for_setitem(Series(value), \u001B[38;5;28mself\u001B[39m\u001B[38;5;241m.\u001B[39mindex)\n\u001B[1;32m   4869\u001B[0m \u001B[38;5;28;01mif\u001B[39;00m is_list_like(value):\n\u001B[0;32m-> 4870\u001B[0m     com\u001B[38;5;241m.\u001B[39mrequire_length_match(value, \u001B[38;5;28mself\u001B[39m\u001B[38;5;241m.\u001B[39mindex)\n\u001B[1;32m   4871\u001B[0m \u001B[38;5;28;01mreturn\u001B[39;00m sanitize_array(value, \u001B[38;5;28mself\u001B[39m\u001B[38;5;241m.\u001B[39mindex, copy\u001B[38;5;241m=\u001B[39m\u001B[38;5;28;01mTrue\u001B[39;00m, allow_2d\u001B[38;5;241m=\u001B[39m\u001B[38;5;28;01mTrue\u001B[39;00m)\n",
      "File \u001B[0;32m~/anaconda3/lib/python3.11/site-packages/pandas/core/common.py:576\u001B[0m, in \u001B[0;36mrequire_length_match\u001B[0;34m(data, index)\u001B[0m\n\u001B[1;32m    572\u001B[0m \u001B[38;5;250m\u001B[39m\u001B[38;5;124;03m\"\"\"\u001B[39;00m\n\u001B[1;32m    573\u001B[0m \u001B[38;5;124;03mCheck the length of data matches the length of the index.\u001B[39;00m\n\u001B[1;32m    574\u001B[0m \u001B[38;5;124;03m\"\"\"\u001B[39;00m\n\u001B[1;32m    575\u001B[0m \u001B[38;5;28;01mif\u001B[39;00m \u001B[38;5;28mlen\u001B[39m(data) \u001B[38;5;241m!=\u001B[39m \u001B[38;5;28mlen\u001B[39m(index):\n\u001B[0;32m--> 576\u001B[0m     \u001B[38;5;28;01mraise\u001B[39;00m \u001B[38;5;167;01mValueError\u001B[39;00m(\n\u001B[1;32m    577\u001B[0m         \u001B[38;5;124m\"\u001B[39m\u001B[38;5;124mLength of values \u001B[39m\u001B[38;5;124m\"\u001B[39m\n\u001B[1;32m    578\u001B[0m         \u001B[38;5;124mf\u001B[39m\u001B[38;5;124m\"\u001B[39m\u001B[38;5;124m(\u001B[39m\u001B[38;5;132;01m{\u001B[39;00m\u001B[38;5;28mlen\u001B[39m(data)\u001B[38;5;132;01m}\u001B[39;00m\u001B[38;5;124m) \u001B[39m\u001B[38;5;124m\"\u001B[39m\n\u001B[1;32m    579\u001B[0m         \u001B[38;5;124m\"\u001B[39m\u001B[38;5;124mdoes not match length of index \u001B[39m\u001B[38;5;124m\"\u001B[39m\n\u001B[1;32m    580\u001B[0m         \u001B[38;5;124mf\u001B[39m\u001B[38;5;124m\"\u001B[39m\u001B[38;5;124m(\u001B[39m\u001B[38;5;132;01m{\u001B[39;00m\u001B[38;5;28mlen\u001B[39m(index)\u001B[38;5;132;01m}\u001B[39;00m\u001B[38;5;124m)\u001B[39m\u001B[38;5;124m\"\u001B[39m\n\u001B[1;32m    581\u001B[0m     )\n",
      "\u001B[0;31mValueError\u001B[0m: Length of values (2) does not match length of index (10)"
     ]
    }
   ]
  },
  {
   "cell_type": "code",
   "metadata": {
    "id": "xO7o4kmyZz49",
    "ExecuteTime": {
     "end_time": "2024-01-08T11:51:19.707723Z",
     "start_time": "2024-01-08T11:51:17.980089Z"
    }
   },
   "source": [
    "# Let's assume we want to update the networth of two clients\n"
   ],
   "execution_count": 60,
   "outputs": []
  },
  {
   "cell_type": "code",
   "metadata": {
    "id": "hxWfvvUga2hw",
    "ExecuteTime": {
     "end_time": "2024-01-08T11:51:19.720047Z",
     "start_time": "2024-01-08T11:51:17.984373Z"
    }
   },
   "source": [],
   "execution_count": 60,
   "outputs": []
  },
  {
   "cell_type": "markdown",
   "metadata": {
    "id": "C6IyBcLP-QzD"
   },
   "source": [
    "**MINI CHALLENGE #9:**\n",
    "- **Let's assume that all clients in the bank has been investing their assets in a broad S&P500 ETF. The market has been performing really well and clients networth has increased by 12% annualy. Calculate the sum of all client's networth.** "
   ]
  },
  {
   "cell_type": "code",
   "metadata": {
    "id": "Hji1ZOln-Uoz",
    "ExecuteTime": {
     "end_time": "2024-01-08T11:51:19.733791Z",
     "start_time": "2024-01-08T11:51:17.987906Z"
    }
   },
   "source": [],
   "execution_count": 60,
   "outputs": []
  },
  {
   "cell_type": "markdown",
   "metadata": {
    "id": "LKDuJ94RvB85"
   },
   "source": [
    "# 10. SORTING AND ORDERING"
   ]
  },
  {
   "cell_type": "code",
   "metadata": {
    "id": "f-aRTmn9u7DA",
    "ExecuteTime": {
     "end_time": "2024-01-08T16:48:43.568342Z",
     "start_time": "2024-01-08T16:48:43.345742Z"
    }
   },
   "source": [
    "# Let's read a CSV file using Pandas as follows\n",
    "bank_df = pd.read_csv('../datasets/bank_client_information.csv')\n",
    "bank_df"
   ],
   "execution_count": 180,
   "outputs": [
    {
     "data": {
      "text/plain": "  First Name Last Name                    Email Postal Code  Net Worth  \\\n0      Bird      Steve           bird@gmail.com     N94 3M0    5000.00   \n1       Noah     Small       nsmall@hotmail.com     N8S 14K   10000.00   \n2       Nina    Keller          azikez@gahew.mr     S1T 4E6    9072.02   \n3    Chanel      Steve         chanel@gmail.com     N7T 3E6   11072.02   \n4       Kate      Noor         kate@hotmail.com     K8N 5H6    5000.00   \n5      Samer        Mo          samer@gmail.com     J7H 3HY  100000.00   \n6       Heba    Ismail  heba.ismail@hotmail.com     K8Y 3M8   50000.00   \n7      Laila     Ahmed      Laila.a@hotmail.com     J8Y 3M0   20000.00   \n8     Joseph    Patton           daafeja@boh.jm     M6U 5U7    2629.13   \n9       Noah     Moran        guutodi@bigwoc.kw     K2D 4M9    8626.96   \n\n   Years with Bank  \n0                5  \n1                6  \n2                7  \n3               10  \n4               22  \n5               26  \n6               11  \n7                3  \n8                1  \n9               13  ",
      "text/html": "<div>\n<style scoped>\n    .dataframe tbody tr th:only-of-type {\n        vertical-align: middle;\n    }\n\n    .dataframe tbody tr th {\n        vertical-align: top;\n    }\n\n    .dataframe thead th {\n        text-align: right;\n    }\n</style>\n<table border=\"1\" class=\"dataframe\">\n  <thead>\n    <tr style=\"text-align: right;\">\n      <th></th>\n      <th>First Name</th>\n      <th>Last Name</th>\n      <th>Email</th>\n      <th>Postal Code</th>\n      <th>Net Worth</th>\n      <th>Years with Bank</th>\n    </tr>\n  </thead>\n  <tbody>\n    <tr>\n      <th>0</th>\n      <td>Bird</td>\n      <td>Steve</td>\n      <td>bird@gmail.com</td>\n      <td>N94 3M0</td>\n      <td>5000.00</td>\n      <td>5</td>\n    </tr>\n    <tr>\n      <th>1</th>\n      <td>Noah</td>\n      <td>Small</td>\n      <td>nsmall@hotmail.com</td>\n      <td>N8S 14K</td>\n      <td>10000.00</td>\n      <td>6</td>\n    </tr>\n    <tr>\n      <th>2</th>\n      <td>Nina</td>\n      <td>Keller</td>\n      <td>azikez@gahew.mr</td>\n      <td>S1T 4E6</td>\n      <td>9072.02</td>\n      <td>7</td>\n    </tr>\n    <tr>\n      <th>3</th>\n      <td>Chanel</td>\n      <td>Steve</td>\n      <td>chanel@gmail.com</td>\n      <td>N7T 3E6</td>\n      <td>11072.02</td>\n      <td>10</td>\n    </tr>\n    <tr>\n      <th>4</th>\n      <td>Kate</td>\n      <td>Noor</td>\n      <td>kate@hotmail.com</td>\n      <td>K8N 5H6</td>\n      <td>5000.00</td>\n      <td>22</td>\n    </tr>\n    <tr>\n      <th>5</th>\n      <td>Samer</td>\n      <td>Mo</td>\n      <td>samer@gmail.com</td>\n      <td>J7H 3HY</td>\n      <td>100000.00</td>\n      <td>26</td>\n    </tr>\n    <tr>\n      <th>6</th>\n      <td>Heba</td>\n      <td>Ismail</td>\n      <td>heba.ismail@hotmail.com</td>\n      <td>K8Y 3M8</td>\n      <td>50000.00</td>\n      <td>11</td>\n    </tr>\n    <tr>\n      <th>7</th>\n      <td>Laila</td>\n      <td>Ahmed</td>\n      <td>Laila.a@hotmail.com</td>\n      <td>J8Y 3M0</td>\n      <td>20000.00</td>\n      <td>3</td>\n    </tr>\n    <tr>\n      <th>8</th>\n      <td>Joseph</td>\n      <td>Patton</td>\n      <td>daafeja@boh.jm</td>\n      <td>M6U 5U7</td>\n      <td>2629.13</td>\n      <td>1</td>\n    </tr>\n    <tr>\n      <th>9</th>\n      <td>Noah</td>\n      <td>Moran</td>\n      <td>guutodi@bigwoc.kw</td>\n      <td>K2D 4M9</td>\n      <td>8626.96</td>\n      <td>13</td>\n    </tr>\n  </tbody>\n</table>\n</div>"
     },
     "execution_count": 180,
     "metadata": {},
     "output_type": "execute_result"
    }
   ]
  },
  {
   "cell_type": "code",
   "metadata": {
    "id": "DaglhPNevFYC",
    "ExecuteTime": {
     "end_time": "2024-01-08T16:49:18.288487Z",
     "start_time": "2024-01-08T16:49:18.063766Z"
    }
   },
   "source": [
    "# You can sort the values in the dataframe according to number of years with bank\n",
    "bank_df.sort_values(by='Years with Bank')"
   ],
   "execution_count": 181,
   "outputs": [
    {
     "data": {
      "text/plain": "  First Name Last Name                    Email Postal Code  Net Worth  \\\n8     Joseph    Patton           daafeja@boh.jm     M6U 5U7    2629.13   \n7      Laila     Ahmed      Laila.a@hotmail.com     J8Y 3M0   20000.00   \n0      Bird      Steve           bird@gmail.com     N94 3M0    5000.00   \n1       Noah     Small       nsmall@hotmail.com     N8S 14K   10000.00   \n2       Nina    Keller          azikez@gahew.mr     S1T 4E6    9072.02   \n3    Chanel      Steve         chanel@gmail.com     N7T 3E6   11072.02   \n6       Heba    Ismail  heba.ismail@hotmail.com     K8Y 3M8   50000.00   \n9       Noah     Moran        guutodi@bigwoc.kw     K2D 4M9    8626.96   \n4       Kate      Noor         kate@hotmail.com     K8N 5H6    5000.00   \n5      Samer        Mo          samer@gmail.com     J7H 3HY  100000.00   \n\n   Years with Bank  \n8                1  \n7                3  \n0                5  \n1                6  \n2                7  \n3               10  \n6               11  \n9               13  \n4               22  \n5               26  ",
      "text/html": "<div>\n<style scoped>\n    .dataframe tbody tr th:only-of-type {\n        vertical-align: middle;\n    }\n\n    .dataframe tbody tr th {\n        vertical-align: top;\n    }\n\n    .dataframe thead th {\n        text-align: right;\n    }\n</style>\n<table border=\"1\" class=\"dataframe\">\n  <thead>\n    <tr style=\"text-align: right;\">\n      <th></th>\n      <th>First Name</th>\n      <th>Last Name</th>\n      <th>Email</th>\n      <th>Postal Code</th>\n      <th>Net Worth</th>\n      <th>Years with Bank</th>\n    </tr>\n  </thead>\n  <tbody>\n    <tr>\n      <th>8</th>\n      <td>Joseph</td>\n      <td>Patton</td>\n      <td>daafeja@boh.jm</td>\n      <td>M6U 5U7</td>\n      <td>2629.13</td>\n      <td>1</td>\n    </tr>\n    <tr>\n      <th>7</th>\n      <td>Laila</td>\n      <td>Ahmed</td>\n      <td>Laila.a@hotmail.com</td>\n      <td>J8Y 3M0</td>\n      <td>20000.00</td>\n      <td>3</td>\n    </tr>\n    <tr>\n      <th>0</th>\n      <td>Bird</td>\n      <td>Steve</td>\n      <td>bird@gmail.com</td>\n      <td>N94 3M0</td>\n      <td>5000.00</td>\n      <td>5</td>\n    </tr>\n    <tr>\n      <th>1</th>\n      <td>Noah</td>\n      <td>Small</td>\n      <td>nsmall@hotmail.com</td>\n      <td>N8S 14K</td>\n      <td>10000.00</td>\n      <td>6</td>\n    </tr>\n    <tr>\n      <th>2</th>\n      <td>Nina</td>\n      <td>Keller</td>\n      <td>azikez@gahew.mr</td>\n      <td>S1T 4E6</td>\n      <td>9072.02</td>\n      <td>7</td>\n    </tr>\n    <tr>\n      <th>3</th>\n      <td>Chanel</td>\n      <td>Steve</td>\n      <td>chanel@gmail.com</td>\n      <td>N7T 3E6</td>\n      <td>11072.02</td>\n      <td>10</td>\n    </tr>\n    <tr>\n      <th>6</th>\n      <td>Heba</td>\n      <td>Ismail</td>\n      <td>heba.ismail@hotmail.com</td>\n      <td>K8Y 3M8</td>\n      <td>50000.00</td>\n      <td>11</td>\n    </tr>\n    <tr>\n      <th>9</th>\n      <td>Noah</td>\n      <td>Moran</td>\n      <td>guutodi@bigwoc.kw</td>\n      <td>K2D 4M9</td>\n      <td>8626.96</td>\n      <td>13</td>\n    </tr>\n    <tr>\n      <th>4</th>\n      <td>Kate</td>\n      <td>Noor</td>\n      <td>kate@hotmail.com</td>\n      <td>K8N 5H6</td>\n      <td>5000.00</td>\n      <td>22</td>\n    </tr>\n    <tr>\n      <th>5</th>\n      <td>Samer</td>\n      <td>Mo</td>\n      <td>samer@gmail.com</td>\n      <td>J7H 3HY</td>\n      <td>100000.00</td>\n      <td>26</td>\n    </tr>\n  </tbody>\n</table>\n</div>"
     },
     "execution_count": 181,
     "metadata": {},
     "output_type": "execute_result"
    }
   ]
  },
  {
   "cell_type": "code",
   "metadata": {
    "id": "AjzLtDlevFaW",
    "ExecuteTime": {
     "end_time": "2024-01-08T16:52:32.645375Z",
     "start_time": "2024-01-08T16:52:32.508047Z"
    }
   },
   "source": [
    "# Note that nothing changed in memory! you have to make sure that inplace is set to True\n",
    "\n",
    "bank_df"
   ],
   "execution_count": 182,
   "outputs": [
    {
     "data": {
      "text/plain": "  First Name Last Name                    Email Postal Code  Net Worth  \\\n8     Joseph    Patton           daafeja@boh.jm     M6U 5U7    2629.13   \n7      Laila     Ahmed      Laila.a@hotmail.com     J8Y 3M0   20000.00   \n0      Bird      Steve           bird@gmail.com     N94 3M0    5000.00   \n1       Noah     Small       nsmall@hotmail.com     N8S 14K   10000.00   \n2       Nina    Keller          azikez@gahew.mr     S1T 4E6    9072.02   \n3    Chanel      Steve         chanel@gmail.com     N7T 3E6   11072.02   \n6       Heba    Ismail  heba.ismail@hotmail.com     K8Y 3M8   50000.00   \n9       Noah     Moran        guutodi@bigwoc.kw     K2D 4M9    8626.96   \n4       Kate      Noor         kate@hotmail.com     K8N 5H6    5000.00   \n5      Samer        Mo          samer@gmail.com     J7H 3HY  100000.00   \n\n   Years with Bank  \n8                1  \n7                3  \n0                5  \n1                6  \n2                7  \n3               10  \n6               11  \n9               13  \n4               22  \n5               26  ",
      "text/html": "<div>\n<style scoped>\n    .dataframe tbody tr th:only-of-type {\n        vertical-align: middle;\n    }\n\n    .dataframe tbody tr th {\n        vertical-align: top;\n    }\n\n    .dataframe thead th {\n        text-align: right;\n    }\n</style>\n<table border=\"1\" class=\"dataframe\">\n  <thead>\n    <tr style=\"text-align: right;\">\n      <th></th>\n      <th>First Name</th>\n      <th>Last Name</th>\n      <th>Email</th>\n      <th>Postal Code</th>\n      <th>Net Worth</th>\n      <th>Years with Bank</th>\n    </tr>\n  </thead>\n  <tbody>\n    <tr>\n      <th>8</th>\n      <td>Joseph</td>\n      <td>Patton</td>\n      <td>daafeja@boh.jm</td>\n      <td>M6U 5U7</td>\n      <td>2629.13</td>\n      <td>1</td>\n    </tr>\n    <tr>\n      <th>7</th>\n      <td>Laila</td>\n      <td>Ahmed</td>\n      <td>Laila.a@hotmail.com</td>\n      <td>J8Y 3M0</td>\n      <td>20000.00</td>\n      <td>3</td>\n    </tr>\n    <tr>\n      <th>0</th>\n      <td>Bird</td>\n      <td>Steve</td>\n      <td>bird@gmail.com</td>\n      <td>N94 3M0</td>\n      <td>5000.00</td>\n      <td>5</td>\n    </tr>\n    <tr>\n      <th>1</th>\n      <td>Noah</td>\n      <td>Small</td>\n      <td>nsmall@hotmail.com</td>\n      <td>N8S 14K</td>\n      <td>10000.00</td>\n      <td>6</td>\n    </tr>\n    <tr>\n      <th>2</th>\n      <td>Nina</td>\n      <td>Keller</td>\n      <td>azikez@gahew.mr</td>\n      <td>S1T 4E6</td>\n      <td>9072.02</td>\n      <td>7</td>\n    </tr>\n    <tr>\n      <th>3</th>\n      <td>Chanel</td>\n      <td>Steve</td>\n      <td>chanel@gmail.com</td>\n      <td>N7T 3E6</td>\n      <td>11072.02</td>\n      <td>10</td>\n    </tr>\n    <tr>\n      <th>6</th>\n      <td>Heba</td>\n      <td>Ismail</td>\n      <td>heba.ismail@hotmail.com</td>\n      <td>K8Y 3M8</td>\n      <td>50000.00</td>\n      <td>11</td>\n    </tr>\n    <tr>\n      <th>9</th>\n      <td>Noah</td>\n      <td>Moran</td>\n      <td>guutodi@bigwoc.kw</td>\n      <td>K2D 4M9</td>\n      <td>8626.96</td>\n      <td>13</td>\n    </tr>\n    <tr>\n      <th>4</th>\n      <td>Kate</td>\n      <td>Noor</td>\n      <td>kate@hotmail.com</td>\n      <td>K8N 5H6</td>\n      <td>5000.00</td>\n      <td>22</td>\n    </tr>\n    <tr>\n      <th>5</th>\n      <td>Samer</td>\n      <td>Mo</td>\n      <td>samer@gmail.com</td>\n      <td>J7H 3HY</td>\n      <td>100000.00</td>\n      <td>26</td>\n    </tr>\n  </tbody>\n</table>\n</div>"
     },
     "execution_count": 182,
     "metadata": {},
     "output_type": "execute_result"
    }
   ]
  },
  {
   "cell_type": "code",
   "metadata": {
    "id": "Pgt25eXmvFce",
    "ExecuteTime": {
     "end_time": "2024-01-08T11:51:19.809162Z",
     "start_time": "2024-01-08T11:51:18.011041Z"
    }
   },
   "source": [
    "# Set inplace = True to ensure that change has taken place in memory \n",
    "bank_df.sort_values(by='Years with Bank', inplace=True)"
   ],
   "execution_count": 64,
   "outputs": []
  },
  {
   "cell_type": "code",
   "metadata": {
    "id": "jEw2Gw_hu7Fo",
    "ExecuteTime": {
     "end_time": "2024-01-08T11:51:19.832069Z",
     "start_time": "2024-01-08T11:51:18.014071Z"
    }
   },
   "source": [
    "# Note that now the change (ordering) took place \n",
    "bank_df"
   ],
   "execution_count": 65,
   "outputs": []
  },
  {
   "cell_type": "code",
   "metadata": {
    "id": "w7El5c7PZw_B",
    "ExecuteTime": {
     "end_time": "2024-01-08T16:54:20.425464Z",
     "start_time": "2024-01-08T16:54:20.296170Z"
    }
   },
   "source": [
    "# You can sort the values in a descending order as follows\n",
    "bank_df.sort_values(by='Years with Bank', ascending=False, inplace=True)\n",
    "bank_df"
   ],
   "execution_count": 183,
   "outputs": [
    {
     "data": {
      "text/plain": "  First Name Last Name                    Email Postal Code  Net Worth  \\\n5      Samer        Mo          samer@gmail.com     J7H 3HY  100000.00   \n4       Kate      Noor         kate@hotmail.com     K8N 5H6    5000.00   \n9       Noah     Moran        guutodi@bigwoc.kw     K2D 4M9    8626.96   \n6       Heba    Ismail  heba.ismail@hotmail.com     K8Y 3M8   50000.00   \n3    Chanel      Steve         chanel@gmail.com     N7T 3E6   11072.02   \n2       Nina    Keller          azikez@gahew.mr     S1T 4E6    9072.02   \n1       Noah     Small       nsmall@hotmail.com     N8S 14K   10000.00   \n0      Bird      Steve           bird@gmail.com     N94 3M0    5000.00   \n7      Laila     Ahmed      Laila.a@hotmail.com     J8Y 3M0   20000.00   \n8     Joseph    Patton           daafeja@boh.jm     M6U 5U7    2629.13   \n\n   Years with Bank  \n5               26  \n4               22  \n9               13  \n6               11  \n3               10  \n2                7  \n1                6  \n0                5  \n7                3  \n8                1  ",
      "text/html": "<div>\n<style scoped>\n    .dataframe tbody tr th:only-of-type {\n        vertical-align: middle;\n    }\n\n    .dataframe tbody tr th {\n        vertical-align: top;\n    }\n\n    .dataframe thead th {\n        text-align: right;\n    }\n</style>\n<table border=\"1\" class=\"dataframe\">\n  <thead>\n    <tr style=\"text-align: right;\">\n      <th></th>\n      <th>First Name</th>\n      <th>Last Name</th>\n      <th>Email</th>\n      <th>Postal Code</th>\n      <th>Net Worth</th>\n      <th>Years with Bank</th>\n    </tr>\n  </thead>\n  <tbody>\n    <tr>\n      <th>5</th>\n      <td>Samer</td>\n      <td>Mo</td>\n      <td>samer@gmail.com</td>\n      <td>J7H 3HY</td>\n      <td>100000.00</td>\n      <td>26</td>\n    </tr>\n    <tr>\n      <th>4</th>\n      <td>Kate</td>\n      <td>Noor</td>\n      <td>kate@hotmail.com</td>\n      <td>K8N 5H6</td>\n      <td>5000.00</td>\n      <td>22</td>\n    </tr>\n    <tr>\n      <th>9</th>\n      <td>Noah</td>\n      <td>Moran</td>\n      <td>guutodi@bigwoc.kw</td>\n      <td>K2D 4M9</td>\n      <td>8626.96</td>\n      <td>13</td>\n    </tr>\n    <tr>\n      <th>6</th>\n      <td>Heba</td>\n      <td>Ismail</td>\n      <td>heba.ismail@hotmail.com</td>\n      <td>K8Y 3M8</td>\n      <td>50000.00</td>\n      <td>11</td>\n    </tr>\n    <tr>\n      <th>3</th>\n      <td>Chanel</td>\n      <td>Steve</td>\n      <td>chanel@gmail.com</td>\n      <td>N7T 3E6</td>\n      <td>11072.02</td>\n      <td>10</td>\n    </tr>\n    <tr>\n      <th>2</th>\n      <td>Nina</td>\n      <td>Keller</td>\n      <td>azikez@gahew.mr</td>\n      <td>S1T 4E6</td>\n      <td>9072.02</td>\n      <td>7</td>\n    </tr>\n    <tr>\n      <th>1</th>\n      <td>Noah</td>\n      <td>Small</td>\n      <td>nsmall@hotmail.com</td>\n      <td>N8S 14K</td>\n      <td>10000.00</td>\n      <td>6</td>\n    </tr>\n    <tr>\n      <th>0</th>\n      <td>Bird</td>\n      <td>Steve</td>\n      <td>bird@gmail.com</td>\n      <td>N94 3M0</td>\n      <td>5000.00</td>\n      <td>5</td>\n    </tr>\n    <tr>\n      <th>7</th>\n      <td>Laila</td>\n      <td>Ahmed</td>\n      <td>Laila.a@hotmail.com</td>\n      <td>J8Y 3M0</td>\n      <td>20000.00</td>\n      <td>3</td>\n    </tr>\n    <tr>\n      <th>8</th>\n      <td>Joseph</td>\n      <td>Patton</td>\n      <td>daafeja@boh.jm</td>\n      <td>M6U 5U7</td>\n      <td>2629.13</td>\n      <td>1</td>\n    </tr>\n  </tbody>\n</table>\n</div>"
     },
     "execution_count": 183,
     "metadata": {},
     "output_type": "execute_result"
    }
   ]
  },
  {
   "cell_type": "code",
   "metadata": {
    "id": "KT1Lh6fZaILI",
    "ExecuteTime": {
     "end_time": "2024-01-08T16:54:52.539996Z",
     "start_time": "2024-01-08T16:54:52.451897Z"
    }
   },
   "source": [
    "# You can sort the dataframe with index instead of values as follows\n",
    "bank_df.sort_index(inplace=True)\n",
    "bank_df"
   ],
   "execution_count": 184,
   "outputs": [
    {
     "data": {
      "text/plain": "  First Name Last Name                    Email Postal Code  Net Worth  \\\n0      Bird      Steve           bird@gmail.com     N94 3M0    5000.00   \n1       Noah     Small       nsmall@hotmail.com     N8S 14K   10000.00   \n2       Nina    Keller          azikez@gahew.mr     S1T 4E6    9072.02   \n3    Chanel      Steve         chanel@gmail.com     N7T 3E6   11072.02   \n4       Kate      Noor         kate@hotmail.com     K8N 5H6    5000.00   \n5      Samer        Mo          samer@gmail.com     J7H 3HY  100000.00   \n6       Heba    Ismail  heba.ismail@hotmail.com     K8Y 3M8   50000.00   \n7      Laila     Ahmed      Laila.a@hotmail.com     J8Y 3M0   20000.00   \n8     Joseph    Patton           daafeja@boh.jm     M6U 5U7    2629.13   \n9       Noah     Moran        guutodi@bigwoc.kw     K2D 4M9    8626.96   \n\n   Years with Bank  \n0                5  \n1                6  \n2                7  \n3               10  \n4               22  \n5               26  \n6               11  \n7                3  \n8                1  \n9               13  ",
      "text/html": "<div>\n<style scoped>\n    .dataframe tbody tr th:only-of-type {\n        vertical-align: middle;\n    }\n\n    .dataframe tbody tr th {\n        vertical-align: top;\n    }\n\n    .dataframe thead th {\n        text-align: right;\n    }\n</style>\n<table border=\"1\" class=\"dataframe\">\n  <thead>\n    <tr style=\"text-align: right;\">\n      <th></th>\n      <th>First Name</th>\n      <th>Last Name</th>\n      <th>Email</th>\n      <th>Postal Code</th>\n      <th>Net Worth</th>\n      <th>Years with Bank</th>\n    </tr>\n  </thead>\n  <tbody>\n    <tr>\n      <th>0</th>\n      <td>Bird</td>\n      <td>Steve</td>\n      <td>bird@gmail.com</td>\n      <td>N94 3M0</td>\n      <td>5000.00</td>\n      <td>5</td>\n    </tr>\n    <tr>\n      <th>1</th>\n      <td>Noah</td>\n      <td>Small</td>\n      <td>nsmall@hotmail.com</td>\n      <td>N8S 14K</td>\n      <td>10000.00</td>\n      <td>6</td>\n    </tr>\n    <tr>\n      <th>2</th>\n      <td>Nina</td>\n      <td>Keller</td>\n      <td>azikez@gahew.mr</td>\n      <td>S1T 4E6</td>\n      <td>9072.02</td>\n      <td>7</td>\n    </tr>\n    <tr>\n      <th>3</th>\n      <td>Chanel</td>\n      <td>Steve</td>\n      <td>chanel@gmail.com</td>\n      <td>N7T 3E6</td>\n      <td>11072.02</td>\n      <td>10</td>\n    </tr>\n    <tr>\n      <th>4</th>\n      <td>Kate</td>\n      <td>Noor</td>\n      <td>kate@hotmail.com</td>\n      <td>K8N 5H6</td>\n      <td>5000.00</td>\n      <td>22</td>\n    </tr>\n    <tr>\n      <th>5</th>\n      <td>Samer</td>\n      <td>Mo</td>\n      <td>samer@gmail.com</td>\n      <td>J7H 3HY</td>\n      <td>100000.00</td>\n      <td>26</td>\n    </tr>\n    <tr>\n      <th>6</th>\n      <td>Heba</td>\n      <td>Ismail</td>\n      <td>heba.ismail@hotmail.com</td>\n      <td>K8Y 3M8</td>\n      <td>50000.00</td>\n      <td>11</td>\n    </tr>\n    <tr>\n      <th>7</th>\n      <td>Laila</td>\n      <td>Ahmed</td>\n      <td>Laila.a@hotmail.com</td>\n      <td>J8Y 3M0</td>\n      <td>20000.00</td>\n      <td>3</td>\n    </tr>\n    <tr>\n      <th>8</th>\n      <td>Joseph</td>\n      <td>Patton</td>\n      <td>daafeja@boh.jm</td>\n      <td>M6U 5U7</td>\n      <td>2629.13</td>\n      <td>1</td>\n    </tr>\n    <tr>\n      <th>9</th>\n      <td>Noah</td>\n      <td>Moran</td>\n      <td>guutodi@bigwoc.kw</td>\n      <td>K2D 4M9</td>\n      <td>8626.96</td>\n      <td>13</td>\n    </tr>\n  </tbody>\n</table>\n</div>"
     },
     "execution_count": 184,
     "metadata": {},
     "output_type": "execute_result"
    }
   ]
  },
  {
   "cell_type": "code",
   "metadata": {
    "id": "yDV_ad7t6eIa",
    "ExecuteTime": {
     "end_time": "2024-01-08T16:56:02.246276Z",
     "start_time": "2024-01-08T16:56:02.103694Z"
    }
   },
   "source": [
    "bank_df['rank'] = bank_df['Net Worth'].rank(ascending=True).astype('int')"
   ],
   "execution_count": 185,
   "outputs": []
  },
  {
   "cell_type": "code",
   "metadata": {
    "id": "wuxBM0MZ67QQ",
    "ExecuteTime": {
     "end_time": "2024-01-08T16:56:05.329350Z",
     "start_time": "2024-01-08T16:56:05.177727Z"
    }
   },
   "source": [
    "bank_df"
   ],
   "execution_count": 186,
   "outputs": [
    {
     "data": {
      "text/plain": "  First Name Last Name                    Email Postal Code  Net Worth  \\\n0      Bird      Steve           bird@gmail.com     N94 3M0    5000.00   \n1       Noah     Small       nsmall@hotmail.com     N8S 14K   10000.00   \n2       Nina    Keller          azikez@gahew.mr     S1T 4E6    9072.02   \n3    Chanel      Steve         chanel@gmail.com     N7T 3E6   11072.02   \n4       Kate      Noor         kate@hotmail.com     K8N 5H6    5000.00   \n5      Samer        Mo          samer@gmail.com     J7H 3HY  100000.00   \n6       Heba    Ismail  heba.ismail@hotmail.com     K8Y 3M8   50000.00   \n7      Laila     Ahmed      Laila.a@hotmail.com     J8Y 3M0   20000.00   \n8     Joseph    Patton           daafeja@boh.jm     M6U 5U7    2629.13   \n9       Noah     Moran        guutodi@bigwoc.kw     K2D 4M9    8626.96   \n\n   Years with Bank  rank  \n0                5     2  \n1                6     6  \n2                7     5  \n3               10     7  \n4               22     2  \n5               26    10  \n6               11     9  \n7                3     8  \n8                1     1  \n9               13     4  ",
      "text/html": "<div>\n<style scoped>\n    .dataframe tbody tr th:only-of-type {\n        vertical-align: middle;\n    }\n\n    .dataframe tbody tr th {\n        vertical-align: top;\n    }\n\n    .dataframe thead th {\n        text-align: right;\n    }\n</style>\n<table border=\"1\" class=\"dataframe\">\n  <thead>\n    <tr style=\"text-align: right;\">\n      <th></th>\n      <th>First Name</th>\n      <th>Last Name</th>\n      <th>Email</th>\n      <th>Postal Code</th>\n      <th>Net Worth</th>\n      <th>Years with Bank</th>\n      <th>rank</th>\n    </tr>\n  </thead>\n  <tbody>\n    <tr>\n      <th>0</th>\n      <td>Bird</td>\n      <td>Steve</td>\n      <td>bird@gmail.com</td>\n      <td>N94 3M0</td>\n      <td>5000.00</td>\n      <td>5</td>\n      <td>2</td>\n    </tr>\n    <tr>\n      <th>1</th>\n      <td>Noah</td>\n      <td>Small</td>\n      <td>nsmall@hotmail.com</td>\n      <td>N8S 14K</td>\n      <td>10000.00</td>\n      <td>6</td>\n      <td>6</td>\n    </tr>\n    <tr>\n      <th>2</th>\n      <td>Nina</td>\n      <td>Keller</td>\n      <td>azikez@gahew.mr</td>\n      <td>S1T 4E6</td>\n      <td>9072.02</td>\n      <td>7</td>\n      <td>5</td>\n    </tr>\n    <tr>\n      <th>3</th>\n      <td>Chanel</td>\n      <td>Steve</td>\n      <td>chanel@gmail.com</td>\n      <td>N7T 3E6</td>\n      <td>11072.02</td>\n      <td>10</td>\n      <td>7</td>\n    </tr>\n    <tr>\n      <th>4</th>\n      <td>Kate</td>\n      <td>Noor</td>\n      <td>kate@hotmail.com</td>\n      <td>K8N 5H6</td>\n      <td>5000.00</td>\n      <td>22</td>\n      <td>2</td>\n    </tr>\n    <tr>\n      <th>5</th>\n      <td>Samer</td>\n      <td>Mo</td>\n      <td>samer@gmail.com</td>\n      <td>J7H 3HY</td>\n      <td>100000.00</td>\n      <td>26</td>\n      <td>10</td>\n    </tr>\n    <tr>\n      <th>6</th>\n      <td>Heba</td>\n      <td>Ismail</td>\n      <td>heba.ismail@hotmail.com</td>\n      <td>K8Y 3M8</td>\n      <td>50000.00</td>\n      <td>11</td>\n      <td>9</td>\n    </tr>\n    <tr>\n      <th>7</th>\n      <td>Laila</td>\n      <td>Ahmed</td>\n      <td>Laila.a@hotmail.com</td>\n      <td>J8Y 3M0</td>\n      <td>20000.00</td>\n      <td>3</td>\n      <td>8</td>\n    </tr>\n    <tr>\n      <th>8</th>\n      <td>Joseph</td>\n      <td>Patton</td>\n      <td>daafeja@boh.jm</td>\n      <td>M6U 5U7</td>\n      <td>2629.13</td>\n      <td>1</td>\n      <td>1</td>\n    </tr>\n    <tr>\n      <th>9</th>\n      <td>Noah</td>\n      <td>Moran</td>\n      <td>guutodi@bigwoc.kw</td>\n      <td>K2D 4M9</td>\n      <td>8626.96</td>\n      <td>13</td>\n      <td>4</td>\n    </tr>\n  </tbody>\n</table>\n</div>"
     },
     "execution_count": 186,
     "metadata": {},
     "output_type": "execute_result"
    }
   ]
  },
  {
   "cell_type": "markdown",
   "metadata": {
    "id": "7bV_Yaq46ZTg"
   },
   "source": [
    "**MINI CHALLENGE #10:**\n",
    "- **Sort customers by networth instead of years with bank. Make sure to update values in-memory.**"
   ]
  },
  {
   "cell_type": "code",
   "metadata": {
    "id": "XHgdNct4ZqT7",
    "ExecuteTime": {
     "end_time": "2024-01-08T17:00:17.575390Z",
     "start_time": "2024-01-08T17:00:17.454126Z"
    }
   },
   "source": [
    "bank_df.sort_values(by ='Net Worth',inplace=True)\n",
    "bank_df"
   ],
   "execution_count": 187,
   "outputs": [
    {
     "data": {
      "text/plain": "  First Name Last Name                    Email Postal Code  Net Worth  \\\n8     Joseph    Patton           daafeja@boh.jm     M6U 5U7    2629.13   \n0      Bird      Steve           bird@gmail.com     N94 3M0    5000.00   \n4       Kate      Noor         kate@hotmail.com     K8N 5H6    5000.00   \n9       Noah     Moran        guutodi@bigwoc.kw     K2D 4M9    8626.96   \n2       Nina    Keller          azikez@gahew.mr     S1T 4E6    9072.02   \n1       Noah     Small       nsmall@hotmail.com     N8S 14K   10000.00   \n3    Chanel      Steve         chanel@gmail.com     N7T 3E6   11072.02   \n7      Laila     Ahmed      Laila.a@hotmail.com     J8Y 3M0   20000.00   \n6       Heba    Ismail  heba.ismail@hotmail.com     K8Y 3M8   50000.00   \n5      Samer        Mo          samer@gmail.com     J7H 3HY  100000.00   \n\n   Years with Bank  rank  \n8                1     1  \n0                5     2  \n4               22     2  \n9               13     4  \n2                7     5  \n1                6     6  \n3               10     7  \n7                3     8  \n6               11     9  \n5               26    10  ",
      "text/html": "<div>\n<style scoped>\n    .dataframe tbody tr th:only-of-type {\n        vertical-align: middle;\n    }\n\n    .dataframe tbody tr th {\n        vertical-align: top;\n    }\n\n    .dataframe thead th {\n        text-align: right;\n    }\n</style>\n<table border=\"1\" class=\"dataframe\">\n  <thead>\n    <tr style=\"text-align: right;\">\n      <th></th>\n      <th>First Name</th>\n      <th>Last Name</th>\n      <th>Email</th>\n      <th>Postal Code</th>\n      <th>Net Worth</th>\n      <th>Years with Bank</th>\n      <th>rank</th>\n    </tr>\n  </thead>\n  <tbody>\n    <tr>\n      <th>8</th>\n      <td>Joseph</td>\n      <td>Patton</td>\n      <td>daafeja@boh.jm</td>\n      <td>M6U 5U7</td>\n      <td>2629.13</td>\n      <td>1</td>\n      <td>1</td>\n    </tr>\n    <tr>\n      <th>0</th>\n      <td>Bird</td>\n      <td>Steve</td>\n      <td>bird@gmail.com</td>\n      <td>N94 3M0</td>\n      <td>5000.00</td>\n      <td>5</td>\n      <td>2</td>\n    </tr>\n    <tr>\n      <th>4</th>\n      <td>Kate</td>\n      <td>Noor</td>\n      <td>kate@hotmail.com</td>\n      <td>K8N 5H6</td>\n      <td>5000.00</td>\n      <td>22</td>\n      <td>2</td>\n    </tr>\n    <tr>\n      <th>9</th>\n      <td>Noah</td>\n      <td>Moran</td>\n      <td>guutodi@bigwoc.kw</td>\n      <td>K2D 4M9</td>\n      <td>8626.96</td>\n      <td>13</td>\n      <td>4</td>\n    </tr>\n    <tr>\n      <th>2</th>\n      <td>Nina</td>\n      <td>Keller</td>\n      <td>azikez@gahew.mr</td>\n      <td>S1T 4E6</td>\n      <td>9072.02</td>\n      <td>7</td>\n      <td>5</td>\n    </tr>\n    <tr>\n      <th>1</th>\n      <td>Noah</td>\n      <td>Small</td>\n      <td>nsmall@hotmail.com</td>\n      <td>N8S 14K</td>\n      <td>10000.00</td>\n      <td>6</td>\n      <td>6</td>\n    </tr>\n    <tr>\n      <th>3</th>\n      <td>Chanel</td>\n      <td>Steve</td>\n      <td>chanel@gmail.com</td>\n      <td>N7T 3E6</td>\n      <td>11072.02</td>\n      <td>10</td>\n      <td>7</td>\n    </tr>\n    <tr>\n      <th>7</th>\n      <td>Laila</td>\n      <td>Ahmed</td>\n      <td>Laila.a@hotmail.com</td>\n      <td>J8Y 3M0</td>\n      <td>20000.00</td>\n      <td>3</td>\n      <td>8</td>\n    </tr>\n    <tr>\n      <th>6</th>\n      <td>Heba</td>\n      <td>Ismail</td>\n      <td>heba.ismail@hotmail.com</td>\n      <td>K8Y 3M8</td>\n      <td>50000.00</td>\n      <td>11</td>\n      <td>9</td>\n    </tr>\n    <tr>\n      <th>5</th>\n      <td>Samer</td>\n      <td>Mo</td>\n      <td>samer@gmail.com</td>\n      <td>J7H 3HY</td>\n      <td>100000.00</td>\n      <td>26</td>\n      <td>10</td>\n    </tr>\n  </tbody>\n</table>\n</div>"
     },
     "execution_count": 187,
     "metadata": {},
     "output_type": "execute_result"
    }
   ]
  },
  {
   "cell_type": "code",
   "metadata": {
    "id": "wLyH7CnC4Vjj",
    "ExecuteTime": {
     "end_time": "2024-01-08T11:51:19.935333Z",
     "start_time": "2024-01-08T11:51:18.033349Z"
    }
   },
   "source": [],
   "execution_count": 67,
   "outputs": []
  },
  {
   "cell_type": "markdown",
   "metadata": {
    "id": "3-5RHcLDu1wL"
   },
   "source": [
    "# 11. PANDAS WITH FUNCTIONS"
   ]
  },
  {
   "cell_type": "code",
   "metadata": {
    "id": "w6Vs9IxC14kV",
    "ExecuteTime": {
     "end_time": "2024-01-08T17:01:27.448111Z",
     "start_time": "2024-01-08T17:01:27.293714Z"
    }
   },
   "source": [
    "# Let's read a CSV file using Pandas as follows\n",
    "bank_df = pd.read_csv('../datasets/bank_client_information.csv')\n",
    "bank_df"
   ],
   "execution_count": 188,
   "outputs": [
    {
     "data": {
      "text/plain": "  First Name Last Name                    Email Postal Code  Net Worth  \\\n0      Bird      Steve           bird@gmail.com     N94 3M0    5000.00   \n1       Noah     Small       nsmall@hotmail.com     N8S 14K   10000.00   \n2       Nina    Keller          azikez@gahew.mr     S1T 4E6    9072.02   \n3    Chanel      Steve         chanel@gmail.com     N7T 3E6   11072.02   \n4       Kate      Noor         kate@hotmail.com     K8N 5H6    5000.00   \n5      Samer        Mo          samer@gmail.com     J7H 3HY  100000.00   \n6       Heba    Ismail  heba.ismail@hotmail.com     K8Y 3M8   50000.00   \n7      Laila     Ahmed      Laila.a@hotmail.com     J8Y 3M0   20000.00   \n8     Joseph    Patton           daafeja@boh.jm     M6U 5U7    2629.13   \n9       Noah     Moran        guutodi@bigwoc.kw     K2D 4M9    8626.96   \n\n   Years with Bank  \n0                5  \n1                6  \n2                7  \n3               10  \n4               22  \n5               26  \n6               11  \n7                3  \n8                1  \n9               13  ",
      "text/html": "<div>\n<style scoped>\n    .dataframe tbody tr th:only-of-type {\n        vertical-align: middle;\n    }\n\n    .dataframe tbody tr th {\n        vertical-align: top;\n    }\n\n    .dataframe thead th {\n        text-align: right;\n    }\n</style>\n<table border=\"1\" class=\"dataframe\">\n  <thead>\n    <tr style=\"text-align: right;\">\n      <th></th>\n      <th>First Name</th>\n      <th>Last Name</th>\n      <th>Email</th>\n      <th>Postal Code</th>\n      <th>Net Worth</th>\n      <th>Years with Bank</th>\n    </tr>\n  </thead>\n  <tbody>\n    <tr>\n      <th>0</th>\n      <td>Bird</td>\n      <td>Steve</td>\n      <td>bird@gmail.com</td>\n      <td>N94 3M0</td>\n      <td>5000.00</td>\n      <td>5</td>\n    </tr>\n    <tr>\n      <th>1</th>\n      <td>Noah</td>\n      <td>Small</td>\n      <td>nsmall@hotmail.com</td>\n      <td>N8S 14K</td>\n      <td>10000.00</td>\n      <td>6</td>\n    </tr>\n    <tr>\n      <th>2</th>\n      <td>Nina</td>\n      <td>Keller</td>\n      <td>azikez@gahew.mr</td>\n      <td>S1T 4E6</td>\n      <td>9072.02</td>\n      <td>7</td>\n    </tr>\n    <tr>\n      <th>3</th>\n      <td>Chanel</td>\n      <td>Steve</td>\n      <td>chanel@gmail.com</td>\n      <td>N7T 3E6</td>\n      <td>11072.02</td>\n      <td>10</td>\n    </tr>\n    <tr>\n      <th>4</th>\n      <td>Kate</td>\n      <td>Noor</td>\n      <td>kate@hotmail.com</td>\n      <td>K8N 5H6</td>\n      <td>5000.00</td>\n      <td>22</td>\n    </tr>\n    <tr>\n      <th>5</th>\n      <td>Samer</td>\n      <td>Mo</td>\n      <td>samer@gmail.com</td>\n      <td>J7H 3HY</td>\n      <td>100000.00</td>\n      <td>26</td>\n    </tr>\n    <tr>\n      <th>6</th>\n      <td>Heba</td>\n      <td>Ismail</td>\n      <td>heba.ismail@hotmail.com</td>\n      <td>K8Y 3M8</td>\n      <td>50000.00</td>\n      <td>11</td>\n    </tr>\n    <tr>\n      <th>7</th>\n      <td>Laila</td>\n      <td>Ahmed</td>\n      <td>Laila.a@hotmail.com</td>\n      <td>J8Y 3M0</td>\n      <td>20000.00</td>\n      <td>3</td>\n    </tr>\n    <tr>\n      <th>8</th>\n      <td>Joseph</td>\n      <td>Patton</td>\n      <td>daafeja@boh.jm</td>\n      <td>M6U 5U7</td>\n      <td>2629.13</td>\n      <td>1</td>\n    </tr>\n    <tr>\n      <th>9</th>\n      <td>Noah</td>\n      <td>Moran</td>\n      <td>guutodi@bigwoc.kw</td>\n      <td>K2D 4M9</td>\n      <td>8626.96</td>\n      <td>13</td>\n    </tr>\n  </tbody>\n</table>\n</div>"
     },
     "execution_count": 188,
     "metadata": {},
     "output_type": "execute_result"
    }
   ]
  },
  {
   "cell_type": "code",
   "metadata": {
    "id": "X8HedZiGux37",
    "ExecuteTime": {
     "end_time": "2024-01-08T17:02:28.763580Z",
     "start_time": "2024-01-08T17:02:28.622162Z"
    }
   },
   "source": [
    "# Define a function that increases all clients networth by a fixed value of 10% (for simplicity sake) \n",
    "def networth_update(balance):\n",
    "    return balance * 1.1"
   ],
   "execution_count": 189,
   "outputs": []
  },
  {
   "cell_type": "code",
   "metadata": {
    "id": "H15eem3Qu67H",
    "ExecuteTime": {
     "end_time": "2024-01-08T17:03:24.031513Z",
     "start_time": "2024-01-08T17:03:23.879619Z"
    }
   },
   "source": [
    "# You can apply a function to the DataFrame \n",
    "bank_df['Net Worth'] = bank_df['Net Worth'].apply(networth_update)\n",
    "bank_df"
   ],
   "execution_count": 190,
   "outputs": [
    {
     "data": {
      "text/plain": "  First Name Last Name                    Email Postal Code   Net Worth  \\\n0      Bird      Steve           bird@gmail.com     N94 3M0    5500.000   \n1       Noah     Small       nsmall@hotmail.com     N8S 14K   11000.000   \n2       Nina    Keller          azikez@gahew.mr     S1T 4E6    9979.222   \n3    Chanel      Steve         chanel@gmail.com     N7T 3E6   12179.222   \n4       Kate      Noor         kate@hotmail.com     K8N 5H6    5500.000   \n5      Samer        Mo          samer@gmail.com     J7H 3HY  110000.000   \n6       Heba    Ismail  heba.ismail@hotmail.com     K8Y 3M8   55000.000   \n7      Laila     Ahmed      Laila.a@hotmail.com     J8Y 3M0   22000.000   \n8     Joseph    Patton           daafeja@boh.jm     M6U 5U7    2892.043   \n9       Noah     Moran        guutodi@bigwoc.kw     K2D 4M9    9489.656   \n\n   Years with Bank  \n0                5  \n1                6  \n2                7  \n3               10  \n4               22  \n5               26  \n6               11  \n7                3  \n8                1  \n9               13  ",
      "text/html": "<div>\n<style scoped>\n    .dataframe tbody tr th:only-of-type {\n        vertical-align: middle;\n    }\n\n    .dataframe tbody tr th {\n        vertical-align: top;\n    }\n\n    .dataframe thead th {\n        text-align: right;\n    }\n</style>\n<table border=\"1\" class=\"dataframe\">\n  <thead>\n    <tr style=\"text-align: right;\">\n      <th></th>\n      <th>First Name</th>\n      <th>Last Name</th>\n      <th>Email</th>\n      <th>Postal Code</th>\n      <th>Net Worth</th>\n      <th>Years with Bank</th>\n    </tr>\n  </thead>\n  <tbody>\n    <tr>\n      <th>0</th>\n      <td>Bird</td>\n      <td>Steve</td>\n      <td>bird@gmail.com</td>\n      <td>N94 3M0</td>\n      <td>5500.000</td>\n      <td>5</td>\n    </tr>\n    <tr>\n      <th>1</th>\n      <td>Noah</td>\n      <td>Small</td>\n      <td>nsmall@hotmail.com</td>\n      <td>N8S 14K</td>\n      <td>11000.000</td>\n      <td>6</td>\n    </tr>\n    <tr>\n      <th>2</th>\n      <td>Nina</td>\n      <td>Keller</td>\n      <td>azikez@gahew.mr</td>\n      <td>S1T 4E6</td>\n      <td>9979.222</td>\n      <td>7</td>\n    </tr>\n    <tr>\n      <th>3</th>\n      <td>Chanel</td>\n      <td>Steve</td>\n      <td>chanel@gmail.com</td>\n      <td>N7T 3E6</td>\n      <td>12179.222</td>\n      <td>10</td>\n    </tr>\n    <tr>\n      <th>4</th>\n      <td>Kate</td>\n      <td>Noor</td>\n      <td>kate@hotmail.com</td>\n      <td>K8N 5H6</td>\n      <td>5500.000</td>\n      <td>22</td>\n    </tr>\n    <tr>\n      <th>5</th>\n      <td>Samer</td>\n      <td>Mo</td>\n      <td>samer@gmail.com</td>\n      <td>J7H 3HY</td>\n      <td>110000.000</td>\n      <td>26</td>\n    </tr>\n    <tr>\n      <th>6</th>\n      <td>Heba</td>\n      <td>Ismail</td>\n      <td>heba.ismail@hotmail.com</td>\n      <td>K8Y 3M8</td>\n      <td>55000.000</td>\n      <td>11</td>\n    </tr>\n    <tr>\n      <th>7</th>\n      <td>Laila</td>\n      <td>Ahmed</td>\n      <td>Laila.a@hotmail.com</td>\n      <td>J8Y 3M0</td>\n      <td>22000.000</td>\n      <td>3</td>\n    </tr>\n    <tr>\n      <th>8</th>\n      <td>Joseph</td>\n      <td>Patton</td>\n      <td>daafeja@boh.jm</td>\n      <td>M6U 5U7</td>\n      <td>2892.043</td>\n      <td>1</td>\n    </tr>\n    <tr>\n      <th>9</th>\n      <td>Noah</td>\n      <td>Moran</td>\n      <td>guutodi@bigwoc.kw</td>\n      <td>K2D 4M9</td>\n      <td>9489.656</td>\n      <td>13</td>\n    </tr>\n  </tbody>\n</table>\n</div>"
     },
     "execution_count": 190,
     "metadata": {},
     "output_type": "execute_result"
    }
   ]
  },
  {
   "cell_type": "code",
   "metadata": {
    "id": "WsObpnkou69Q",
    "ExecuteTime": {
     "end_time": "2024-01-08T17:04:23.528584Z",
     "start_time": "2024-01-08T17:04:23.372365Z"
    }
   },
   "source": [
    "bank_df['Name Length'] = bank_df['First Name'].apply(len)\n",
    "bank_df"
   ],
   "execution_count": 191,
   "outputs": [
    {
     "data": {
      "text/plain": "  First Name Last Name                    Email Postal Code   Net Worth  \\\n0      Bird      Steve           bird@gmail.com     N94 3M0    5500.000   \n1       Noah     Small       nsmall@hotmail.com     N8S 14K   11000.000   \n2       Nina    Keller          azikez@gahew.mr     S1T 4E6    9979.222   \n3    Chanel      Steve         chanel@gmail.com     N7T 3E6   12179.222   \n4       Kate      Noor         kate@hotmail.com     K8N 5H6    5500.000   \n5      Samer        Mo          samer@gmail.com     J7H 3HY  110000.000   \n6       Heba    Ismail  heba.ismail@hotmail.com     K8Y 3M8   55000.000   \n7      Laila     Ahmed      Laila.a@hotmail.com     J8Y 3M0   22000.000   \n8     Joseph    Patton           daafeja@boh.jm     M6U 5U7    2892.043   \n9       Noah     Moran        guutodi@bigwoc.kw     K2D 4M9    9489.656   \n\n   Years with Bank  Name Length  \n0                5            5  \n1                6            4  \n2                7            4  \n3               10            7  \n4               22            4  \n5               26            5  \n6               11            4  \n7                3            5  \n8                1            6  \n9               13            4  ",
      "text/html": "<div>\n<style scoped>\n    .dataframe tbody tr th:only-of-type {\n        vertical-align: middle;\n    }\n\n    .dataframe tbody tr th {\n        vertical-align: top;\n    }\n\n    .dataframe thead th {\n        text-align: right;\n    }\n</style>\n<table border=\"1\" class=\"dataframe\">\n  <thead>\n    <tr style=\"text-align: right;\">\n      <th></th>\n      <th>First Name</th>\n      <th>Last Name</th>\n      <th>Email</th>\n      <th>Postal Code</th>\n      <th>Net Worth</th>\n      <th>Years with Bank</th>\n      <th>Name Length</th>\n    </tr>\n  </thead>\n  <tbody>\n    <tr>\n      <th>0</th>\n      <td>Bird</td>\n      <td>Steve</td>\n      <td>bird@gmail.com</td>\n      <td>N94 3M0</td>\n      <td>5500.000</td>\n      <td>5</td>\n      <td>5</td>\n    </tr>\n    <tr>\n      <th>1</th>\n      <td>Noah</td>\n      <td>Small</td>\n      <td>nsmall@hotmail.com</td>\n      <td>N8S 14K</td>\n      <td>11000.000</td>\n      <td>6</td>\n      <td>4</td>\n    </tr>\n    <tr>\n      <th>2</th>\n      <td>Nina</td>\n      <td>Keller</td>\n      <td>azikez@gahew.mr</td>\n      <td>S1T 4E6</td>\n      <td>9979.222</td>\n      <td>7</td>\n      <td>4</td>\n    </tr>\n    <tr>\n      <th>3</th>\n      <td>Chanel</td>\n      <td>Steve</td>\n      <td>chanel@gmail.com</td>\n      <td>N7T 3E6</td>\n      <td>12179.222</td>\n      <td>10</td>\n      <td>7</td>\n    </tr>\n    <tr>\n      <th>4</th>\n      <td>Kate</td>\n      <td>Noor</td>\n      <td>kate@hotmail.com</td>\n      <td>K8N 5H6</td>\n      <td>5500.000</td>\n      <td>22</td>\n      <td>4</td>\n    </tr>\n    <tr>\n      <th>5</th>\n      <td>Samer</td>\n      <td>Mo</td>\n      <td>samer@gmail.com</td>\n      <td>J7H 3HY</td>\n      <td>110000.000</td>\n      <td>26</td>\n      <td>5</td>\n    </tr>\n    <tr>\n      <th>6</th>\n      <td>Heba</td>\n      <td>Ismail</td>\n      <td>heba.ismail@hotmail.com</td>\n      <td>K8Y 3M8</td>\n      <td>55000.000</td>\n      <td>11</td>\n      <td>4</td>\n    </tr>\n    <tr>\n      <th>7</th>\n      <td>Laila</td>\n      <td>Ahmed</td>\n      <td>Laila.a@hotmail.com</td>\n      <td>J8Y 3M0</td>\n      <td>22000.000</td>\n      <td>3</td>\n      <td>5</td>\n    </tr>\n    <tr>\n      <th>8</th>\n      <td>Joseph</td>\n      <td>Patton</td>\n      <td>daafeja@boh.jm</td>\n      <td>M6U 5U7</td>\n      <td>2892.043</td>\n      <td>1</td>\n      <td>6</td>\n    </tr>\n    <tr>\n      <th>9</th>\n      <td>Noah</td>\n      <td>Moran</td>\n      <td>guutodi@bigwoc.kw</td>\n      <td>K2D 4M9</td>\n      <td>9489.656</td>\n      <td>13</td>\n      <td>4</td>\n    </tr>\n  </tbody>\n</table>\n</div>"
     },
     "execution_count": 191,
     "metadata": {},
     "output_type": "execute_result"
    }
   ]
  },
  {
   "cell_type": "code",
   "metadata": {
    "id": "E52xRMulu6_I",
    "ExecuteTime": {
     "end_time": "2024-01-08T11:51:20.056768Z",
     "start_time": "2024-01-08T11:51:18.050164Z"
    }
   },
   "source": [],
   "execution_count": 70,
   "outputs": []
  },
  {
   "cell_type": "markdown",
   "metadata": {
    "id": "VaXV-VYg4xG0"
   },
   "source": [
    "**MINI CHALLENGE #11:**\n",
    "- **Define a function that doubles an argument and adds $100**\n",
    "- **Apply the function to the Net Worth Column in the DataFrame**\n",
    "- **Calculate the updated total networth of all clients combined**"
   ]
  },
  {
   "cell_type": "code",
   "metadata": {
    "id": "xqWCYc0n6V-d",
    "ExecuteTime": {
     "end_time": "2024-01-08T11:51:20.069077Z",
     "start_time": "2024-01-08T11:51:18.052854Z"
    }
   },
   "source": [],
   "execution_count": 70,
   "outputs": []
  },
  {
   "cell_type": "markdown",
   "metadata": {
    "id": "usUtfW0WuuBb"
   },
   "source": [
    "# 12. PANDAS OPERATIONS/FILTERING"
   ]
  },
  {
   "cell_type": "code",
   "metadata": {
    "id": "wI7pvcR01NbV",
    "ExecuteTime": {
     "end_time": "2024-01-08T17:12:54.823466Z",
     "start_time": "2024-01-08T17:12:54.703071Z"
    }
   },
   "source": [
    "# Let's read a CSV file using Pandas as follows\n",
    "bank_df = pd.read_csv('../datasets/bank_client_information.csv')\n",
    "bank_df"
   ],
   "execution_count": 193,
   "outputs": [
    {
     "data": {
      "text/plain": "  First Name Last Name                    Email Postal Code  Net Worth  \\\n0      Bird      Steve           bird@gmail.com     N94 3M0    5000.00   \n1       Noah     Small       nsmall@hotmail.com     N8S 14K   10000.00   \n2       Nina    Keller          azikez@gahew.mr     S1T 4E6    9072.02   \n3    Chanel      Steve         chanel@gmail.com     N7T 3E6   11072.02   \n4       Kate      Noor         kate@hotmail.com     K8N 5H6    5000.00   \n5      Samer        Mo          samer@gmail.com     J7H 3HY  100000.00   \n6       Heba    Ismail  heba.ismail@hotmail.com     K8Y 3M8   50000.00   \n7      Laila     Ahmed      Laila.a@hotmail.com     J8Y 3M0   20000.00   \n8     Joseph    Patton           daafeja@boh.jm     M6U 5U7    2629.13   \n9       Noah     Moran        guutodi@bigwoc.kw     K2D 4M9    8626.96   \n\n   Years with Bank  \n0                5  \n1                6  \n2                7  \n3               10  \n4               22  \n5               26  \n6               11  \n7                3  \n8                1  \n9               13  ",
      "text/html": "<div>\n<style scoped>\n    .dataframe tbody tr th:only-of-type {\n        vertical-align: middle;\n    }\n\n    .dataframe tbody tr th {\n        vertical-align: top;\n    }\n\n    .dataframe thead th {\n        text-align: right;\n    }\n</style>\n<table border=\"1\" class=\"dataframe\">\n  <thead>\n    <tr style=\"text-align: right;\">\n      <th></th>\n      <th>First Name</th>\n      <th>Last Name</th>\n      <th>Email</th>\n      <th>Postal Code</th>\n      <th>Net Worth</th>\n      <th>Years with Bank</th>\n    </tr>\n  </thead>\n  <tbody>\n    <tr>\n      <th>0</th>\n      <td>Bird</td>\n      <td>Steve</td>\n      <td>bird@gmail.com</td>\n      <td>N94 3M0</td>\n      <td>5000.00</td>\n      <td>5</td>\n    </tr>\n    <tr>\n      <th>1</th>\n      <td>Noah</td>\n      <td>Small</td>\n      <td>nsmall@hotmail.com</td>\n      <td>N8S 14K</td>\n      <td>10000.00</td>\n      <td>6</td>\n    </tr>\n    <tr>\n      <th>2</th>\n      <td>Nina</td>\n      <td>Keller</td>\n      <td>azikez@gahew.mr</td>\n      <td>S1T 4E6</td>\n      <td>9072.02</td>\n      <td>7</td>\n    </tr>\n    <tr>\n      <th>3</th>\n      <td>Chanel</td>\n      <td>Steve</td>\n      <td>chanel@gmail.com</td>\n      <td>N7T 3E6</td>\n      <td>11072.02</td>\n      <td>10</td>\n    </tr>\n    <tr>\n      <th>4</th>\n      <td>Kate</td>\n      <td>Noor</td>\n      <td>kate@hotmail.com</td>\n      <td>K8N 5H6</td>\n      <td>5000.00</td>\n      <td>22</td>\n    </tr>\n    <tr>\n      <th>5</th>\n      <td>Samer</td>\n      <td>Mo</td>\n      <td>samer@gmail.com</td>\n      <td>J7H 3HY</td>\n      <td>100000.00</td>\n      <td>26</td>\n    </tr>\n    <tr>\n      <th>6</th>\n      <td>Heba</td>\n      <td>Ismail</td>\n      <td>heba.ismail@hotmail.com</td>\n      <td>K8Y 3M8</td>\n      <td>50000.00</td>\n      <td>11</td>\n    </tr>\n    <tr>\n      <th>7</th>\n      <td>Laila</td>\n      <td>Ahmed</td>\n      <td>Laila.a@hotmail.com</td>\n      <td>J8Y 3M0</td>\n      <td>20000.00</td>\n      <td>3</td>\n    </tr>\n    <tr>\n      <th>8</th>\n      <td>Joseph</td>\n      <td>Patton</td>\n      <td>daafeja@boh.jm</td>\n      <td>M6U 5U7</td>\n      <td>2629.13</td>\n      <td>1</td>\n    </tr>\n    <tr>\n      <th>9</th>\n      <td>Noah</td>\n      <td>Moran</td>\n      <td>guutodi@bigwoc.kw</td>\n      <td>K2D 4M9</td>\n      <td>8626.96</td>\n      <td>13</td>\n    </tr>\n  </tbody>\n</table>\n</div>"
     },
     "execution_count": 193,
     "metadata": {},
     "output_type": "execute_result"
    }
   ]
  },
  {
   "cell_type": "code",
   "metadata": {
    "id": "kw_260rpuxzc",
    "ExecuteTime": {
     "end_time": "2024-01-08T17:14:28.289764Z",
     "start_time": "2024-01-08T17:14:28.117480Z"
    }
   },
   "source": [
    "# Pick certain rows that satisfy a certain criteria \n",
    "df_loyal = bank_df[(bank_df['Years with Bank']>=10)]\n",
    "df_loyal"
   ],
   "execution_count": 194,
   "outputs": [
    {
     "data": {
      "text/plain": "  First Name Last Name                    Email Postal Code  Net Worth  \\\n3    Chanel      Steve         chanel@gmail.com     N7T 3E6   11072.02   \n4       Kate      Noor         kate@hotmail.com     K8N 5H6    5000.00   \n5      Samer        Mo          samer@gmail.com     J7H 3HY  100000.00   \n6       Heba    Ismail  heba.ismail@hotmail.com     K8Y 3M8   50000.00   \n9       Noah     Moran        guutodi@bigwoc.kw     K2D 4M9    8626.96   \n\n   Years with Bank  \n3               10  \n4               22  \n5               26  \n6               11  \n9               13  ",
      "text/html": "<div>\n<style scoped>\n    .dataframe tbody tr th:only-of-type {\n        vertical-align: middle;\n    }\n\n    .dataframe tbody tr th {\n        vertical-align: top;\n    }\n\n    .dataframe thead th {\n        text-align: right;\n    }\n</style>\n<table border=\"1\" class=\"dataframe\">\n  <thead>\n    <tr style=\"text-align: right;\">\n      <th></th>\n      <th>First Name</th>\n      <th>Last Name</th>\n      <th>Email</th>\n      <th>Postal Code</th>\n      <th>Net Worth</th>\n      <th>Years with Bank</th>\n    </tr>\n  </thead>\n  <tbody>\n    <tr>\n      <th>3</th>\n      <td>Chanel</td>\n      <td>Steve</td>\n      <td>chanel@gmail.com</td>\n      <td>N7T 3E6</td>\n      <td>11072.02</td>\n      <td>10</td>\n    </tr>\n    <tr>\n      <th>4</th>\n      <td>Kate</td>\n      <td>Noor</td>\n      <td>kate@hotmail.com</td>\n      <td>K8N 5H6</td>\n      <td>5000.00</td>\n      <td>22</td>\n    </tr>\n    <tr>\n      <th>5</th>\n      <td>Samer</td>\n      <td>Mo</td>\n      <td>samer@gmail.com</td>\n      <td>J7H 3HY</td>\n      <td>100000.00</td>\n      <td>26</td>\n    </tr>\n    <tr>\n      <th>6</th>\n      <td>Heba</td>\n      <td>Ismail</td>\n      <td>heba.ismail@hotmail.com</td>\n      <td>K8Y 3M8</td>\n      <td>50000.00</td>\n      <td>11</td>\n    </tr>\n    <tr>\n      <th>9</th>\n      <td>Noah</td>\n      <td>Moran</td>\n      <td>guutodi@bigwoc.kw</td>\n      <td>K2D 4M9</td>\n      <td>8626.96</td>\n      <td>13</td>\n    </tr>\n  </tbody>\n</table>\n</div>"
     },
     "execution_count": 194,
     "metadata": {},
     "output_type": "execute_result"
    }
   ]
  },
  {
   "cell_type": "code",
   "metadata": {
    "id": "_9rhXti1_hHc",
    "ExecuteTime": {
     "end_time": "2024-01-08T17:16:32.491333Z",
     "start_time": "2024-01-08T17:16:32.353721Z"
    }
   },
   "source": [
    "# Pick certain rows that satisfy 2 or more critirea\n",
    "mask_1 = bank_df['Years with Bank'] >=10\n",
    "mask_2 = bank_df['Net Worth']>= 50000\n",
    "\n",
    "df_loyal = bank_df[ mask_1 & mask_2]\n",
    "df_loyal"
   ],
   "execution_count": 196,
   "outputs": [
    {
     "data": {
      "text/plain": "  First Name Last Name                    Email Postal Code  Net Worth  \\\n5      Samer        Mo          samer@gmail.com     J7H 3HY   100000.0   \n6       Heba    Ismail  heba.ismail@hotmail.com     K8Y 3M8    50000.0   \n\n   Years with Bank  \n5               26  \n6               11  ",
      "text/html": "<div>\n<style scoped>\n    .dataframe tbody tr th:only-of-type {\n        vertical-align: middle;\n    }\n\n    .dataframe tbody tr th {\n        vertical-align: top;\n    }\n\n    .dataframe thead th {\n        text-align: right;\n    }\n</style>\n<table border=\"1\" class=\"dataframe\">\n  <thead>\n    <tr style=\"text-align: right;\">\n      <th></th>\n      <th>First Name</th>\n      <th>Last Name</th>\n      <th>Email</th>\n      <th>Postal Code</th>\n      <th>Net Worth</th>\n      <th>Years with Bank</th>\n    </tr>\n  </thead>\n  <tbody>\n    <tr>\n      <th>5</th>\n      <td>Samer</td>\n      <td>Mo</td>\n      <td>samer@gmail.com</td>\n      <td>J7H 3HY</td>\n      <td>100000.0</td>\n      <td>26</td>\n    </tr>\n    <tr>\n      <th>6</th>\n      <td>Heba</td>\n      <td>Ismail</td>\n      <td>heba.ismail@hotmail.com</td>\n      <td>K8Y 3M8</td>\n      <td>50000.0</td>\n      <td>11</td>\n    </tr>\n  </tbody>\n</table>\n</div>"
     },
     "execution_count": 196,
     "metadata": {},
     "output_type": "execute_result"
    }
   ]
  },
  {
   "cell_type": "code",
   "metadata": {
    "id": "PRJb2uwg-0A-",
    "ExecuteTime": {
     "end_time": "2024-01-09T10:34:38.996059Z",
     "start_time": "2024-01-09T10:34:38.850594Z"
    }
   },
   "source": [
    "# Pick certain rows that satisfy a certain criteria \n",
    "df_filtered = bank_df[(bank_df['First Name'] == 'Heba')]\n",
    "df_filtered\n"
   ],
   "execution_count": 199,
   "outputs": [
    {
     "data": {
      "text/plain": "  First Name Last Name                    Email Postal Code  Net Worth  \\\n6       Heba    Ismail  heba.ismail@hotmail.com     K8Y 3M8    50000.0   \n\n   Years with Bank  \n6               11  ",
      "text/html": "<div>\n<style scoped>\n    .dataframe tbody tr th:only-of-type {\n        vertical-align: middle;\n    }\n\n    .dataframe tbody tr th {\n        vertical-align: top;\n    }\n\n    .dataframe thead th {\n        text-align: right;\n    }\n</style>\n<table border=\"1\" class=\"dataframe\">\n  <thead>\n    <tr style=\"text-align: right;\">\n      <th></th>\n      <th>First Name</th>\n      <th>Last Name</th>\n      <th>Email</th>\n      <th>Postal Code</th>\n      <th>Net Worth</th>\n      <th>Years with Bank</th>\n    </tr>\n  </thead>\n  <tbody>\n    <tr>\n      <th>6</th>\n      <td>Heba</td>\n      <td>Ismail</td>\n      <td>heba.ismail@hotmail.com</td>\n      <td>K8Y 3M8</td>\n      <td>50000.0</td>\n      <td>11</td>\n    </tr>\n  </tbody>\n</table>\n</div>"
     },
     "execution_count": 199,
     "metadata": {},
     "output_type": "execute_result"
    }
   ]
  },
  {
   "cell_type": "code",
   "metadata": {
    "id": "ulrkjWs2AW0u",
    "ExecuteTime": {
     "end_time": "2024-01-09T10:35:57.572180Z",
     "start_time": "2024-01-09T10:35:57.417132Z"
    }
   },
   "source": [
    "mask = bank_df['Last Name'].isin(['Steve','Mo'])\n",
    "bank_df[mask]"
   ],
   "execution_count": 200,
   "outputs": [
    {
     "data": {
      "text/plain": "  First Name Last Name             Email Postal Code  Net Worth  \\\n0      Bird      Steve    bird@gmail.com     N94 3M0    5000.00   \n3    Chanel      Steve  chanel@gmail.com     N7T 3E6   11072.02   \n5      Samer        Mo   samer@gmail.com     J7H 3HY  100000.00   \n\n   Years with Bank  \n0                5  \n3               10  \n5               26  ",
      "text/html": "<div>\n<style scoped>\n    .dataframe tbody tr th:only-of-type {\n        vertical-align: middle;\n    }\n\n    .dataframe tbody tr th {\n        vertical-align: top;\n    }\n\n    .dataframe thead th {\n        text-align: right;\n    }\n</style>\n<table border=\"1\" class=\"dataframe\">\n  <thead>\n    <tr style=\"text-align: right;\">\n      <th></th>\n      <th>First Name</th>\n      <th>Last Name</th>\n      <th>Email</th>\n      <th>Postal Code</th>\n      <th>Net Worth</th>\n      <th>Years with Bank</th>\n    </tr>\n  </thead>\n  <tbody>\n    <tr>\n      <th>0</th>\n      <td>Bird</td>\n      <td>Steve</td>\n      <td>bird@gmail.com</td>\n      <td>N94 3M0</td>\n      <td>5000.00</td>\n      <td>5</td>\n    </tr>\n    <tr>\n      <th>3</th>\n      <td>Chanel</td>\n      <td>Steve</td>\n      <td>chanel@gmail.com</td>\n      <td>N7T 3E6</td>\n      <td>11072.02</td>\n      <td>10</td>\n    </tr>\n    <tr>\n      <th>5</th>\n      <td>Samer</td>\n      <td>Mo</td>\n      <td>samer@gmail.com</td>\n      <td>J7H 3HY</td>\n      <td>100000.00</td>\n      <td>26</td>\n    </tr>\n  </tbody>\n</table>\n</div>"
     },
     "execution_count": 200,
     "metadata": {},
     "output_type": "execute_result"
    }
   ]
  },
  {
   "cell_type": "code",
   "metadata": {
    "id": "N43yEGqLA13v",
    "ExecuteTime": {
     "end_time": "2024-01-09T10:40:45.041351Z",
     "start_time": "2024-01-09T10:40:44.841239Z"
    }
   },
   "source": [
    "# values that fall between a given range\n",
    "bank_df[bank_df['Net Worth'].between(5000,9000)]"
   ],
   "execution_count": 201,
   "outputs": [
    {
     "data": {
      "text/plain": "  First Name Last Name              Email Postal Code  Net Worth  \\\n0      Bird      Steve     bird@gmail.com     N94 3M0    5000.00   \n4       Kate      Noor   kate@hotmail.com     K8N 5H6    5000.00   \n9       Noah     Moran  guutodi@bigwoc.kw     K2D 4M9    8626.96   \n\n   Years with Bank  \n0                5  \n4               22  \n9               13  ",
      "text/html": "<div>\n<style scoped>\n    .dataframe tbody tr th:only-of-type {\n        vertical-align: middle;\n    }\n\n    .dataframe tbody tr th {\n        vertical-align: top;\n    }\n\n    .dataframe thead th {\n        text-align: right;\n    }\n</style>\n<table border=\"1\" class=\"dataframe\">\n  <thead>\n    <tr style=\"text-align: right;\">\n      <th></th>\n      <th>First Name</th>\n      <th>Last Name</th>\n      <th>Email</th>\n      <th>Postal Code</th>\n      <th>Net Worth</th>\n      <th>Years with Bank</th>\n    </tr>\n  </thead>\n  <tbody>\n    <tr>\n      <th>0</th>\n      <td>Bird</td>\n      <td>Steve</td>\n      <td>bird@gmail.com</td>\n      <td>N94 3M0</td>\n      <td>5000.00</td>\n      <td>5</td>\n    </tr>\n    <tr>\n      <th>4</th>\n      <td>Kate</td>\n      <td>Noor</td>\n      <td>kate@hotmail.com</td>\n      <td>K8N 5H6</td>\n      <td>5000.00</td>\n      <td>22</td>\n    </tr>\n    <tr>\n      <th>9</th>\n      <td>Noah</td>\n      <td>Moran</td>\n      <td>guutodi@bigwoc.kw</td>\n      <td>K2D 4M9</td>\n      <td>8626.96</td>\n      <td>13</td>\n    </tr>\n  </tbody>\n</table>\n</div>"
     },
     "execution_count": 201,
     "metadata": {},
     "output_type": "execute_result"
    }
   ]
  },
  {
   "cell_type": "code",
   "metadata": {
    "id": "f84dsubnCaIK",
    "ExecuteTime": {
     "end_time": "2024-01-09T10:41:28.631379Z",
     "start_time": "2024-01-09T10:41:28.497345Z"
    }
   },
   "source": [
    "# Delete duplicated rows\n",
    "bank_df['Last Name'].duplicated(keep=False)"
   ],
   "execution_count": 203,
   "outputs": [
    {
     "data": {
      "text/plain": "0     True\n1    False\n2    False\n3     True\n4    False\n5    False\n6    False\n7    False\n8    False\n9    False\nName: Last Name, dtype: bool"
     },
     "execution_count": 203,
     "metadata": {},
     "output_type": "execute_result"
    }
   ]
  },
  {
   "cell_type": "code",
   "metadata": {
    "id": "TMNFKhU3B5XO",
    "ExecuteTime": {
     "end_time": "2024-01-09T10:49:53.387240Z",
     "start_time": "2024-01-09T10:49:53.223464Z"
    }
   },
   "source": [
    "# add a tilde symbol ~\n",
    "mask = ~bank_df['Last Name'].duplicated(keep=False)\n",
    "bank_df[mask]"
   ],
   "execution_count": 205,
   "outputs": [
    {
     "data": {
      "text/plain": "  First Name Last Name                    Email Postal Code  Net Worth  \\\n1       Noah     Small       nsmall@hotmail.com     N8S 14K   10000.00   \n2       Nina    Keller          azikez@gahew.mr     S1T 4E6    9072.02   \n4       Kate      Noor         kate@hotmail.com     K8N 5H6    5000.00   \n5      Samer        Mo          samer@gmail.com     J7H 3HY  100000.00   \n6       Heba    Ismail  heba.ismail@hotmail.com     K8Y 3M8   50000.00   \n7      Laila     Ahmed      Laila.a@hotmail.com     J8Y 3M0   20000.00   \n8     Joseph    Patton           daafeja@boh.jm     M6U 5U7    2629.13   \n9       Noah     Moran        guutodi@bigwoc.kw     K2D 4M9    8626.96   \n\n   Years with Bank  \n1                6  \n2                7  \n4               22  \n5               26  \n6               11  \n7                3  \n8                1  \n9               13  ",
      "text/html": "<div>\n<style scoped>\n    .dataframe tbody tr th:only-of-type {\n        vertical-align: middle;\n    }\n\n    .dataframe tbody tr th {\n        vertical-align: top;\n    }\n\n    .dataframe thead th {\n        text-align: right;\n    }\n</style>\n<table border=\"1\" class=\"dataframe\">\n  <thead>\n    <tr style=\"text-align: right;\">\n      <th></th>\n      <th>First Name</th>\n      <th>Last Name</th>\n      <th>Email</th>\n      <th>Postal Code</th>\n      <th>Net Worth</th>\n      <th>Years with Bank</th>\n    </tr>\n  </thead>\n  <tbody>\n    <tr>\n      <th>1</th>\n      <td>Noah</td>\n      <td>Small</td>\n      <td>nsmall@hotmail.com</td>\n      <td>N8S 14K</td>\n      <td>10000.00</td>\n      <td>6</td>\n    </tr>\n    <tr>\n      <th>2</th>\n      <td>Nina</td>\n      <td>Keller</td>\n      <td>azikez@gahew.mr</td>\n      <td>S1T 4E6</td>\n      <td>9072.02</td>\n      <td>7</td>\n    </tr>\n    <tr>\n      <th>4</th>\n      <td>Kate</td>\n      <td>Noor</td>\n      <td>kate@hotmail.com</td>\n      <td>K8N 5H6</td>\n      <td>5000.00</td>\n      <td>22</td>\n    </tr>\n    <tr>\n      <th>5</th>\n      <td>Samer</td>\n      <td>Mo</td>\n      <td>samer@gmail.com</td>\n      <td>J7H 3HY</td>\n      <td>100000.00</td>\n      <td>26</td>\n    </tr>\n    <tr>\n      <th>6</th>\n      <td>Heba</td>\n      <td>Ismail</td>\n      <td>heba.ismail@hotmail.com</td>\n      <td>K8Y 3M8</td>\n      <td>50000.00</td>\n      <td>11</td>\n    </tr>\n    <tr>\n      <th>7</th>\n      <td>Laila</td>\n      <td>Ahmed</td>\n      <td>Laila.a@hotmail.com</td>\n      <td>J8Y 3M0</td>\n      <td>20000.00</td>\n      <td>3</td>\n    </tr>\n    <tr>\n      <th>8</th>\n      <td>Joseph</td>\n      <td>Patton</td>\n      <td>daafeja@boh.jm</td>\n      <td>M6U 5U7</td>\n      <td>2629.13</td>\n      <td>1</td>\n    </tr>\n    <tr>\n      <th>9</th>\n      <td>Noah</td>\n      <td>Moran</td>\n      <td>guutodi@bigwoc.kw</td>\n      <td>K2D 4M9</td>\n      <td>8626.96</td>\n      <td>13</td>\n    </tr>\n  </tbody>\n</table>\n</div>"
     },
     "execution_count": 205,
     "metadata": {},
     "output_type": "execute_result"
    }
   ]
  },
  {
   "cell_type": "code",
   "metadata": {
    "id": "LC7bnnI8Ct3P",
    "ExecuteTime": {
     "end_time": "2024-01-09T10:51:07.187366Z",
     "start_time": "2024-01-09T10:51:07.082848Z"
    }
   },
   "source": [
    "# Let's read a CSV file using Pandas as follows\n",
    "bank_df = pd.read_csv('../datasets/bank_client_information.csv')\n",
    "bank_df\n",
    "# Drop duplicates\n",
    "bank_df.drop_duplicates(subset=['Last Name'], inplace=True)"
   ],
   "execution_count": 206,
   "outputs": []
  },
  {
   "cell_type": "code",
   "metadata": {
    "id": "NV_miCKZlIbF",
    "ExecuteTime": {
     "end_time": "2024-01-09T10:51:12.205524Z",
     "start_time": "2024-01-09T10:51:12.104675Z"
    }
   },
   "source": [
    "bank_df"
   ],
   "execution_count": 207,
   "outputs": [
    {
     "data": {
      "text/plain": "  First Name Last Name                    Email Postal Code  Net Worth  \\\n0      Bird      Steve           bird@gmail.com     N94 3M0    5000.00   \n1       Noah     Small       nsmall@hotmail.com     N8S 14K   10000.00   \n2       Nina    Keller          azikez@gahew.mr     S1T 4E6    9072.02   \n4       Kate      Noor         kate@hotmail.com     K8N 5H6    5000.00   \n5      Samer        Mo          samer@gmail.com     J7H 3HY  100000.00   \n6       Heba    Ismail  heba.ismail@hotmail.com     K8Y 3M8   50000.00   \n7      Laila     Ahmed      Laila.a@hotmail.com     J8Y 3M0   20000.00   \n8     Joseph    Patton           daafeja@boh.jm     M6U 5U7    2629.13   \n9       Noah     Moran        guutodi@bigwoc.kw     K2D 4M9    8626.96   \n\n   Years with Bank  \n0                5  \n1                6  \n2                7  \n4               22  \n5               26  \n6               11  \n7                3  \n8                1  \n9               13  ",
      "text/html": "<div>\n<style scoped>\n    .dataframe tbody tr th:only-of-type {\n        vertical-align: middle;\n    }\n\n    .dataframe tbody tr th {\n        vertical-align: top;\n    }\n\n    .dataframe thead th {\n        text-align: right;\n    }\n</style>\n<table border=\"1\" class=\"dataframe\">\n  <thead>\n    <tr style=\"text-align: right;\">\n      <th></th>\n      <th>First Name</th>\n      <th>Last Name</th>\n      <th>Email</th>\n      <th>Postal Code</th>\n      <th>Net Worth</th>\n      <th>Years with Bank</th>\n    </tr>\n  </thead>\n  <tbody>\n    <tr>\n      <th>0</th>\n      <td>Bird</td>\n      <td>Steve</td>\n      <td>bird@gmail.com</td>\n      <td>N94 3M0</td>\n      <td>5000.00</td>\n      <td>5</td>\n    </tr>\n    <tr>\n      <th>1</th>\n      <td>Noah</td>\n      <td>Small</td>\n      <td>nsmall@hotmail.com</td>\n      <td>N8S 14K</td>\n      <td>10000.00</td>\n      <td>6</td>\n    </tr>\n    <tr>\n      <th>2</th>\n      <td>Nina</td>\n      <td>Keller</td>\n      <td>azikez@gahew.mr</td>\n      <td>S1T 4E6</td>\n      <td>9072.02</td>\n      <td>7</td>\n    </tr>\n    <tr>\n      <th>4</th>\n      <td>Kate</td>\n      <td>Noor</td>\n      <td>kate@hotmail.com</td>\n      <td>K8N 5H6</td>\n      <td>5000.00</td>\n      <td>22</td>\n    </tr>\n    <tr>\n      <th>5</th>\n      <td>Samer</td>\n      <td>Mo</td>\n      <td>samer@gmail.com</td>\n      <td>J7H 3HY</td>\n      <td>100000.00</td>\n      <td>26</td>\n    </tr>\n    <tr>\n      <th>6</th>\n      <td>Heba</td>\n      <td>Ismail</td>\n      <td>heba.ismail@hotmail.com</td>\n      <td>K8Y 3M8</td>\n      <td>50000.00</td>\n      <td>11</td>\n    </tr>\n    <tr>\n      <th>7</th>\n      <td>Laila</td>\n      <td>Ahmed</td>\n      <td>Laila.a@hotmail.com</td>\n      <td>J8Y 3M0</td>\n      <td>20000.00</td>\n      <td>3</td>\n    </tr>\n    <tr>\n      <th>8</th>\n      <td>Joseph</td>\n      <td>Patton</td>\n      <td>daafeja@boh.jm</td>\n      <td>M6U 5U7</td>\n      <td>2629.13</td>\n      <td>1</td>\n    </tr>\n    <tr>\n      <th>9</th>\n      <td>Noah</td>\n      <td>Moran</td>\n      <td>guutodi@bigwoc.kw</td>\n      <td>K2D 4M9</td>\n      <td>8626.96</td>\n      <td>13</td>\n    </tr>\n  </tbody>\n</table>\n</div>"
     },
     "execution_count": 207,
     "metadata": {},
     "output_type": "execute_result"
    }
   ]
  },
  {
   "cell_type": "code",
   "metadata": {
    "id": "ejfOQBjZlIyY",
    "ExecuteTime": {
     "end_time": "2024-01-09T10:52:43.400541Z",
     "start_time": "2024-01-09T10:52:43.160579Z"
    }
   },
   "source": [
    "# We can also filter the Dataframe using the where method as follows\n",
    "# Note that all rows that don't satisfy this critirea are set to NaN\n",
    "bank_df = pd.read_csv('../datasets/bank_client_information.csv')\n",
    "mask = bank_df['Net Worth'] >=20000\n",
    "\n",
    "bank_df.where(mask)"
   ],
   "execution_count": 208,
   "outputs": [
    {
     "data": {
      "text/plain": "  First Name Last Name                    Email Postal Code  Net Worth  \\\n0        NaN       NaN                      NaN         NaN        NaN   \n1        NaN       NaN                      NaN         NaN        NaN   \n2        NaN       NaN                      NaN         NaN        NaN   \n3        NaN       NaN                      NaN         NaN        NaN   \n4        NaN       NaN                      NaN         NaN        NaN   \n5      Samer        Mo          samer@gmail.com     J7H 3HY   100000.0   \n6       Heba    Ismail  heba.ismail@hotmail.com     K8Y 3M8    50000.0   \n7      Laila     Ahmed      Laila.a@hotmail.com     J8Y 3M0    20000.0   \n8        NaN       NaN                      NaN         NaN        NaN   \n9        NaN       NaN                      NaN         NaN        NaN   \n\n   Years with Bank  \n0              NaN  \n1              NaN  \n2              NaN  \n3              NaN  \n4              NaN  \n5             26.0  \n6             11.0  \n7              3.0  \n8              NaN  \n9              NaN  ",
      "text/html": "<div>\n<style scoped>\n    .dataframe tbody tr th:only-of-type {\n        vertical-align: middle;\n    }\n\n    .dataframe tbody tr th {\n        vertical-align: top;\n    }\n\n    .dataframe thead th {\n        text-align: right;\n    }\n</style>\n<table border=\"1\" class=\"dataframe\">\n  <thead>\n    <tr style=\"text-align: right;\">\n      <th></th>\n      <th>First Name</th>\n      <th>Last Name</th>\n      <th>Email</th>\n      <th>Postal Code</th>\n      <th>Net Worth</th>\n      <th>Years with Bank</th>\n    </tr>\n  </thead>\n  <tbody>\n    <tr>\n      <th>0</th>\n      <td>NaN</td>\n      <td>NaN</td>\n      <td>NaN</td>\n      <td>NaN</td>\n      <td>NaN</td>\n      <td>NaN</td>\n    </tr>\n    <tr>\n      <th>1</th>\n      <td>NaN</td>\n      <td>NaN</td>\n      <td>NaN</td>\n      <td>NaN</td>\n      <td>NaN</td>\n      <td>NaN</td>\n    </tr>\n    <tr>\n      <th>2</th>\n      <td>NaN</td>\n      <td>NaN</td>\n      <td>NaN</td>\n      <td>NaN</td>\n      <td>NaN</td>\n      <td>NaN</td>\n    </tr>\n    <tr>\n      <th>3</th>\n      <td>NaN</td>\n      <td>NaN</td>\n      <td>NaN</td>\n      <td>NaN</td>\n      <td>NaN</td>\n      <td>NaN</td>\n    </tr>\n    <tr>\n      <th>4</th>\n      <td>NaN</td>\n      <td>NaN</td>\n      <td>NaN</td>\n      <td>NaN</td>\n      <td>NaN</td>\n      <td>NaN</td>\n    </tr>\n    <tr>\n      <th>5</th>\n      <td>Samer</td>\n      <td>Mo</td>\n      <td>samer@gmail.com</td>\n      <td>J7H 3HY</td>\n      <td>100000.0</td>\n      <td>26.0</td>\n    </tr>\n    <tr>\n      <th>6</th>\n      <td>Heba</td>\n      <td>Ismail</td>\n      <td>heba.ismail@hotmail.com</td>\n      <td>K8Y 3M8</td>\n      <td>50000.0</td>\n      <td>11.0</td>\n    </tr>\n    <tr>\n      <th>7</th>\n      <td>Laila</td>\n      <td>Ahmed</td>\n      <td>Laila.a@hotmail.com</td>\n      <td>J8Y 3M0</td>\n      <td>20000.0</td>\n      <td>3.0</td>\n    </tr>\n    <tr>\n      <th>8</th>\n      <td>NaN</td>\n      <td>NaN</td>\n      <td>NaN</td>\n      <td>NaN</td>\n      <td>NaN</td>\n      <td>NaN</td>\n    </tr>\n    <tr>\n      <th>9</th>\n      <td>NaN</td>\n      <td>NaN</td>\n      <td>NaN</td>\n      <td>NaN</td>\n      <td>NaN</td>\n      <td>NaN</td>\n    </tr>\n  </tbody>\n</table>\n</div>"
     },
     "execution_count": 208,
     "metadata": {},
     "output_type": "execute_result"
    }
   ]
  },
  {
   "cell_type": "code",
   "metadata": {
    "id": "GQfMCSRvC_8B",
    "ExecuteTime": {
     "end_time": "2024-01-08T11:51:20.320710Z",
     "start_time": "2024-01-08T11:51:18.109909Z"
    }
   },
   "source": [],
   "execution_count": 79,
   "outputs": []
  },
  {
   "cell_type": "markdown",
   "metadata": {
    "id": "M5_PHunK2_UZ"
   },
   "source": [
    "**MINI CHALLENGE #12:**\n",
    "- **Using \"bank_client_df\" DataFrame, leverage pandas operations to only select high networth individuals with minimum $15000** \n",
    "- **What is the combined networth for all customers with 15000+ networth?**"
   ]
  },
  {
   "cell_type": "code",
   "metadata": {
    "id": "UGL0c53WAmnt",
    "ExecuteTime": {
     "end_time": "2024-01-08T11:51:20.327462Z",
     "start_time": "2024-01-08T11:51:18.112708Z"
    }
   },
   "source": [],
   "execution_count": 79,
   "outputs": []
  },
  {
   "cell_type": "markdown",
   "metadata": {
    "id": "OozhLsPat1UH"
   },
   "source": [
    "# 13. FEATURE ENGINEERING AND DEALING WITH MISSING DATASET"
   ]
  },
  {
   "cell_type": "code",
   "metadata": {
    "id": "BYCD1yGi6q2M",
    "ExecuteTime": {
     "end_time": "2024-01-09T11:02:25.870026Z",
     "start_time": "2024-01-09T11:02:25.718103Z"
    }
   },
   "source": [
    "# Let's read a CSV file using Pandas as follows\n",
    "employee_df = pd.read_csv('../datasets/Human_Resources.csv')\n",
    "employee_df"
   ],
   "execution_count": 209,
   "outputs": [
    {
     "data": {
      "text/plain": "      Age Attrition     BusinessTravel  DailyRate              Department  \\\n0      41       Yes      Travel_Rarely       1102                   Sales   \n1      49        No  Travel_Frequently        279  Research & Development   \n2      37       Yes      Travel_Rarely       1373  Research & Development   \n3      33        No  Travel_Frequently       1392  Research & Development   \n4      27        No      Travel_Rarely        591  Research & Development   \n...   ...       ...                ...        ...                     ...   \n1465   36        No  Travel_Frequently        884  Research & Development   \n1466   39        No      Travel_Rarely        613  Research & Development   \n1467   27        No      Travel_Rarely        155  Research & Development   \n1468   49        No  Travel_Frequently       1023                   Sales   \n1469   34        No      Travel_Rarely        628  Research & Development   \n\n      DistanceFromHome  Education EducationField  EmployeeCount  \\\n0                    1          2  Life Sciences              1   \n1                    8          1  Life Sciences              1   \n2                    2          2          Other              1   \n3                    3          4  Life Sciences              1   \n4                    2          1        Medical              1   \n...                ...        ...            ...            ...   \n1465                23          2        Medical              1   \n1466                 6          1        Medical              1   \n1467                 4          3  Life Sciences              1   \n1468                 2          3        Medical              1   \n1469                 8          3        Medical              1   \n\n      EmployeeNumber  ...  RelationshipSatisfaction StandardHours  \\\n0                1.0  ...                         1            80   \n1                2.0  ...                         4            80   \n2                4.0  ...                         2            80   \n3                5.0  ...                         3            80   \n4                7.0  ...                         4            80   \n...              ...  ...                       ...           ...   \n1465          2061.0  ...                         3            80   \n1466          2062.0  ...                         1            80   \n1467          2064.0  ...                         2            80   \n1468          2065.0  ...                         4            80   \n1469          2068.0  ...                         1            80   \n\n      StockOptionLevel  TotalWorkingYears  TrainingTimesLastYear  \\\n0                    0                  8                      0   \n1                    1                 10                      3   \n2                    0                  7                      3   \n3                    0                  8                      3   \n4                    1                  6                      3   \n...                ...                ...                    ...   \n1465                 1                 17                      3   \n1466                 1                  9                      5   \n1467                 1                  6                      0   \n1468                 0                 17                      3   \n1469                 0                  6                      3   \n\n     WorkLifeBalance  YearsAtCompany YearsInCurrentRole  \\\n0                  1               6                  4   \n1                  3              10                  7   \n2                  3               0                  0   \n3                  3               8                  7   \n4                  3               2                  2   \n...              ...             ...                ...   \n1465               3               5                  2   \n1466               3               7                  7   \n1467               3               6                  2   \n1468               2               9                  6   \n1469               4               4                  3   \n\n      YearsSinceLastPromotion  YearsWithCurrManager  \n0                           0                     5  \n1                           1                     7  \n2                           0                     0  \n3                           3                     0  \n4                           2                     2  \n...                       ...                   ...  \n1465                        0                     3  \n1466                        1                     7  \n1467                        0                     3  \n1468                        0                     8  \n1469                        1                     2  \n\n[1470 rows x 35 columns]",
      "text/html": "<div>\n<style scoped>\n    .dataframe tbody tr th:only-of-type {\n        vertical-align: middle;\n    }\n\n    .dataframe tbody tr th {\n        vertical-align: top;\n    }\n\n    .dataframe thead th {\n        text-align: right;\n    }\n</style>\n<table border=\"1\" class=\"dataframe\">\n  <thead>\n    <tr style=\"text-align: right;\">\n      <th></th>\n      <th>Age</th>\n      <th>Attrition</th>\n      <th>BusinessTravel</th>\n      <th>DailyRate</th>\n      <th>Department</th>\n      <th>DistanceFromHome</th>\n      <th>Education</th>\n      <th>EducationField</th>\n      <th>EmployeeCount</th>\n      <th>EmployeeNumber</th>\n      <th>...</th>\n      <th>RelationshipSatisfaction</th>\n      <th>StandardHours</th>\n      <th>StockOptionLevel</th>\n      <th>TotalWorkingYears</th>\n      <th>TrainingTimesLastYear</th>\n      <th>WorkLifeBalance</th>\n      <th>YearsAtCompany</th>\n      <th>YearsInCurrentRole</th>\n      <th>YearsSinceLastPromotion</th>\n      <th>YearsWithCurrManager</th>\n    </tr>\n  </thead>\n  <tbody>\n    <tr>\n      <th>0</th>\n      <td>41</td>\n      <td>Yes</td>\n      <td>Travel_Rarely</td>\n      <td>1102</td>\n      <td>Sales</td>\n      <td>1</td>\n      <td>2</td>\n      <td>Life Sciences</td>\n      <td>1</td>\n      <td>1.0</td>\n      <td>...</td>\n      <td>1</td>\n      <td>80</td>\n      <td>0</td>\n      <td>8</td>\n      <td>0</td>\n      <td>1</td>\n      <td>6</td>\n      <td>4</td>\n      <td>0</td>\n      <td>5</td>\n    </tr>\n    <tr>\n      <th>1</th>\n      <td>49</td>\n      <td>No</td>\n      <td>Travel_Frequently</td>\n      <td>279</td>\n      <td>Research &amp; Development</td>\n      <td>8</td>\n      <td>1</td>\n      <td>Life Sciences</td>\n      <td>1</td>\n      <td>2.0</td>\n      <td>...</td>\n      <td>4</td>\n      <td>80</td>\n      <td>1</td>\n      <td>10</td>\n      <td>3</td>\n      <td>3</td>\n      <td>10</td>\n      <td>7</td>\n      <td>1</td>\n      <td>7</td>\n    </tr>\n    <tr>\n      <th>2</th>\n      <td>37</td>\n      <td>Yes</td>\n      <td>Travel_Rarely</td>\n      <td>1373</td>\n      <td>Research &amp; Development</td>\n      <td>2</td>\n      <td>2</td>\n      <td>Other</td>\n      <td>1</td>\n      <td>4.0</td>\n      <td>...</td>\n      <td>2</td>\n      <td>80</td>\n      <td>0</td>\n      <td>7</td>\n      <td>3</td>\n      <td>3</td>\n      <td>0</td>\n      <td>0</td>\n      <td>0</td>\n      <td>0</td>\n    </tr>\n    <tr>\n      <th>3</th>\n      <td>33</td>\n      <td>No</td>\n      <td>Travel_Frequently</td>\n      <td>1392</td>\n      <td>Research &amp; Development</td>\n      <td>3</td>\n      <td>4</td>\n      <td>Life Sciences</td>\n      <td>1</td>\n      <td>5.0</td>\n      <td>...</td>\n      <td>3</td>\n      <td>80</td>\n      <td>0</td>\n      <td>8</td>\n      <td>3</td>\n      <td>3</td>\n      <td>8</td>\n      <td>7</td>\n      <td>3</td>\n      <td>0</td>\n    </tr>\n    <tr>\n      <th>4</th>\n      <td>27</td>\n      <td>No</td>\n      <td>Travel_Rarely</td>\n      <td>591</td>\n      <td>Research &amp; Development</td>\n      <td>2</td>\n      <td>1</td>\n      <td>Medical</td>\n      <td>1</td>\n      <td>7.0</td>\n      <td>...</td>\n      <td>4</td>\n      <td>80</td>\n      <td>1</td>\n      <td>6</td>\n      <td>3</td>\n      <td>3</td>\n      <td>2</td>\n      <td>2</td>\n      <td>2</td>\n      <td>2</td>\n    </tr>\n    <tr>\n      <th>...</th>\n      <td>...</td>\n      <td>...</td>\n      <td>...</td>\n      <td>...</td>\n      <td>...</td>\n      <td>...</td>\n      <td>...</td>\n      <td>...</td>\n      <td>...</td>\n      <td>...</td>\n      <td>...</td>\n      <td>...</td>\n      <td>...</td>\n      <td>...</td>\n      <td>...</td>\n      <td>...</td>\n      <td>...</td>\n      <td>...</td>\n      <td>...</td>\n      <td>...</td>\n      <td>...</td>\n    </tr>\n    <tr>\n      <th>1465</th>\n      <td>36</td>\n      <td>No</td>\n      <td>Travel_Frequently</td>\n      <td>884</td>\n      <td>Research &amp; Development</td>\n      <td>23</td>\n      <td>2</td>\n      <td>Medical</td>\n      <td>1</td>\n      <td>2061.0</td>\n      <td>...</td>\n      <td>3</td>\n      <td>80</td>\n      <td>1</td>\n      <td>17</td>\n      <td>3</td>\n      <td>3</td>\n      <td>5</td>\n      <td>2</td>\n      <td>0</td>\n      <td>3</td>\n    </tr>\n    <tr>\n      <th>1466</th>\n      <td>39</td>\n      <td>No</td>\n      <td>Travel_Rarely</td>\n      <td>613</td>\n      <td>Research &amp; Development</td>\n      <td>6</td>\n      <td>1</td>\n      <td>Medical</td>\n      <td>1</td>\n      <td>2062.0</td>\n      <td>...</td>\n      <td>1</td>\n      <td>80</td>\n      <td>1</td>\n      <td>9</td>\n      <td>5</td>\n      <td>3</td>\n      <td>7</td>\n      <td>7</td>\n      <td>1</td>\n      <td>7</td>\n    </tr>\n    <tr>\n      <th>1467</th>\n      <td>27</td>\n      <td>No</td>\n      <td>Travel_Rarely</td>\n      <td>155</td>\n      <td>Research &amp; Development</td>\n      <td>4</td>\n      <td>3</td>\n      <td>Life Sciences</td>\n      <td>1</td>\n      <td>2064.0</td>\n      <td>...</td>\n      <td>2</td>\n      <td>80</td>\n      <td>1</td>\n      <td>6</td>\n      <td>0</td>\n      <td>3</td>\n      <td>6</td>\n      <td>2</td>\n      <td>0</td>\n      <td>3</td>\n    </tr>\n    <tr>\n      <th>1468</th>\n      <td>49</td>\n      <td>No</td>\n      <td>Travel_Frequently</td>\n      <td>1023</td>\n      <td>Sales</td>\n      <td>2</td>\n      <td>3</td>\n      <td>Medical</td>\n      <td>1</td>\n      <td>2065.0</td>\n      <td>...</td>\n      <td>4</td>\n      <td>80</td>\n      <td>0</td>\n      <td>17</td>\n      <td>3</td>\n      <td>2</td>\n      <td>9</td>\n      <td>6</td>\n      <td>0</td>\n      <td>8</td>\n    </tr>\n    <tr>\n      <th>1469</th>\n      <td>34</td>\n      <td>No</td>\n      <td>Travel_Rarely</td>\n      <td>628</td>\n      <td>Research &amp; Development</td>\n      <td>8</td>\n      <td>3</td>\n      <td>Medical</td>\n      <td>1</td>\n      <td>2068.0</td>\n      <td>...</td>\n      <td>1</td>\n      <td>80</td>\n      <td>0</td>\n      <td>6</td>\n      <td>3</td>\n      <td>4</td>\n      <td>4</td>\n      <td>3</td>\n      <td>1</td>\n      <td>2</td>\n    </tr>\n  </tbody>\n</table>\n<p>1470 rows × 35 columns</p>\n</div>"
     },
     "execution_count": 209,
     "metadata": {},
     "output_type": "execute_result"
    }
   ]
  },
  {
   "cell_type": "code",
   "metadata": {
    "id": "Fi0jPWSozbTY",
    "ExecuteTime": {
     "end_time": "2024-01-09T11:30:45.101003Z",
     "start_time": "2024-01-09T11:30:44.980107Z"
    }
   },
   "source": [
    "# first, let's locate rows that have Null values\n",
    "employee_df.isnull()"
   ],
   "execution_count": 210,
   "outputs": [
    {
     "data": {
      "text/plain": "        Age  Attrition  BusinessTravel  DailyRate  Department  \\\n0     False      False           False      False       False   \n1     False      False           False      False       False   \n2     False      False           False      False       False   \n3     False      False           False      False       False   \n4     False      False           False      False       False   \n...     ...        ...             ...        ...         ...   \n1465  False      False           False      False       False   \n1466  False      False           False      False       False   \n1467  False      False           False      False       False   \n1468  False      False           False      False       False   \n1469  False      False           False      False       False   \n\n      DistanceFromHome  Education  EducationField  EmployeeCount  \\\n0                False      False           False          False   \n1                False      False           False          False   \n2                False      False           False          False   \n3                False      False           False          False   \n4                False      False           False          False   \n...                ...        ...             ...            ...   \n1465             False      False           False          False   \n1466             False      False           False          False   \n1467             False      False           False          False   \n1468             False      False           False          False   \n1469             False      False           False          False   \n\n      EmployeeNumber  ...  RelationshipSatisfaction  StandardHours  \\\n0              False  ...                     False          False   \n1              False  ...                     False          False   \n2              False  ...                     False          False   \n3              False  ...                     False          False   \n4              False  ...                     False          False   \n...              ...  ...                       ...            ...   \n1465           False  ...                     False          False   \n1466           False  ...                     False          False   \n1467           False  ...                     False          False   \n1468           False  ...                     False          False   \n1469           False  ...                     False          False   \n\n      StockOptionLevel  TotalWorkingYears  TrainingTimesLastYear  \\\n0                False              False                  False   \n1                False              False                  False   \n2                False              False                  False   \n3                False              False                  False   \n4                False              False                  False   \n...                ...                ...                    ...   \n1465             False              False                  False   \n1466             False              False                  False   \n1467             False              False                  False   \n1468             False              False                  False   \n1469             False              False                  False   \n\n      WorkLifeBalance  YearsAtCompany  YearsInCurrentRole  \\\n0               False           False               False   \n1               False           False               False   \n2               False           False               False   \n3               False           False               False   \n4               False           False               False   \n...               ...             ...                 ...   \n1465            False           False               False   \n1466            False           False               False   \n1467            False           False               False   \n1468            False           False               False   \n1469            False           False               False   \n\n      YearsSinceLastPromotion  YearsWithCurrManager  \n0                       False                 False  \n1                       False                 False  \n2                       False                 False  \n3                       False                 False  \n4                       False                 False  \n...                       ...                   ...  \n1465                    False                 False  \n1466                    False                 False  \n1467                    False                 False  \n1468                    False                 False  \n1469                    False                 False  \n\n[1470 rows x 35 columns]",
      "text/html": "<div>\n<style scoped>\n    .dataframe tbody tr th:only-of-type {\n        vertical-align: middle;\n    }\n\n    .dataframe tbody tr th {\n        vertical-align: top;\n    }\n\n    .dataframe thead th {\n        text-align: right;\n    }\n</style>\n<table border=\"1\" class=\"dataframe\">\n  <thead>\n    <tr style=\"text-align: right;\">\n      <th></th>\n      <th>Age</th>\n      <th>Attrition</th>\n      <th>BusinessTravel</th>\n      <th>DailyRate</th>\n      <th>Department</th>\n      <th>DistanceFromHome</th>\n      <th>Education</th>\n      <th>EducationField</th>\n      <th>EmployeeCount</th>\n      <th>EmployeeNumber</th>\n      <th>...</th>\n      <th>RelationshipSatisfaction</th>\n      <th>StandardHours</th>\n      <th>StockOptionLevel</th>\n      <th>TotalWorkingYears</th>\n      <th>TrainingTimesLastYear</th>\n      <th>WorkLifeBalance</th>\n      <th>YearsAtCompany</th>\n      <th>YearsInCurrentRole</th>\n      <th>YearsSinceLastPromotion</th>\n      <th>YearsWithCurrManager</th>\n    </tr>\n  </thead>\n  <tbody>\n    <tr>\n      <th>0</th>\n      <td>False</td>\n      <td>False</td>\n      <td>False</td>\n      <td>False</td>\n      <td>False</td>\n      <td>False</td>\n      <td>False</td>\n      <td>False</td>\n      <td>False</td>\n      <td>False</td>\n      <td>...</td>\n      <td>False</td>\n      <td>False</td>\n      <td>False</td>\n      <td>False</td>\n      <td>False</td>\n      <td>False</td>\n      <td>False</td>\n      <td>False</td>\n      <td>False</td>\n      <td>False</td>\n    </tr>\n    <tr>\n      <th>1</th>\n      <td>False</td>\n      <td>False</td>\n      <td>False</td>\n      <td>False</td>\n      <td>False</td>\n      <td>False</td>\n      <td>False</td>\n      <td>False</td>\n      <td>False</td>\n      <td>False</td>\n      <td>...</td>\n      <td>False</td>\n      <td>False</td>\n      <td>False</td>\n      <td>False</td>\n      <td>False</td>\n      <td>False</td>\n      <td>False</td>\n      <td>False</td>\n      <td>False</td>\n      <td>False</td>\n    </tr>\n    <tr>\n      <th>2</th>\n      <td>False</td>\n      <td>False</td>\n      <td>False</td>\n      <td>False</td>\n      <td>False</td>\n      <td>False</td>\n      <td>False</td>\n      <td>False</td>\n      <td>False</td>\n      <td>False</td>\n      <td>...</td>\n      <td>False</td>\n      <td>False</td>\n      <td>False</td>\n      <td>False</td>\n      <td>False</td>\n      <td>False</td>\n      <td>False</td>\n      <td>False</td>\n      <td>False</td>\n      <td>False</td>\n    </tr>\n    <tr>\n      <th>3</th>\n      <td>False</td>\n      <td>False</td>\n      <td>False</td>\n      <td>False</td>\n      <td>False</td>\n      <td>False</td>\n      <td>False</td>\n      <td>False</td>\n      <td>False</td>\n      <td>False</td>\n      <td>...</td>\n      <td>False</td>\n      <td>False</td>\n      <td>False</td>\n      <td>False</td>\n      <td>False</td>\n      <td>False</td>\n      <td>False</td>\n      <td>False</td>\n      <td>False</td>\n      <td>False</td>\n    </tr>\n    <tr>\n      <th>4</th>\n      <td>False</td>\n      <td>False</td>\n      <td>False</td>\n      <td>False</td>\n      <td>False</td>\n      <td>False</td>\n      <td>False</td>\n      <td>False</td>\n      <td>False</td>\n      <td>False</td>\n      <td>...</td>\n      <td>False</td>\n      <td>False</td>\n      <td>False</td>\n      <td>False</td>\n      <td>False</td>\n      <td>False</td>\n      <td>False</td>\n      <td>False</td>\n      <td>False</td>\n      <td>False</td>\n    </tr>\n    <tr>\n      <th>...</th>\n      <td>...</td>\n      <td>...</td>\n      <td>...</td>\n      <td>...</td>\n      <td>...</td>\n      <td>...</td>\n      <td>...</td>\n      <td>...</td>\n      <td>...</td>\n      <td>...</td>\n      <td>...</td>\n      <td>...</td>\n      <td>...</td>\n      <td>...</td>\n      <td>...</td>\n      <td>...</td>\n      <td>...</td>\n      <td>...</td>\n      <td>...</td>\n      <td>...</td>\n      <td>...</td>\n    </tr>\n    <tr>\n      <th>1465</th>\n      <td>False</td>\n      <td>False</td>\n      <td>False</td>\n      <td>False</td>\n      <td>False</td>\n      <td>False</td>\n      <td>False</td>\n      <td>False</td>\n      <td>False</td>\n      <td>False</td>\n      <td>...</td>\n      <td>False</td>\n      <td>False</td>\n      <td>False</td>\n      <td>False</td>\n      <td>False</td>\n      <td>False</td>\n      <td>False</td>\n      <td>False</td>\n      <td>False</td>\n      <td>False</td>\n    </tr>\n    <tr>\n      <th>1466</th>\n      <td>False</td>\n      <td>False</td>\n      <td>False</td>\n      <td>False</td>\n      <td>False</td>\n      <td>False</td>\n      <td>False</td>\n      <td>False</td>\n      <td>False</td>\n      <td>False</td>\n      <td>...</td>\n      <td>False</td>\n      <td>False</td>\n      <td>False</td>\n      <td>False</td>\n      <td>False</td>\n      <td>False</td>\n      <td>False</td>\n      <td>False</td>\n      <td>False</td>\n      <td>False</td>\n    </tr>\n    <tr>\n      <th>1467</th>\n      <td>False</td>\n      <td>False</td>\n      <td>False</td>\n      <td>False</td>\n      <td>False</td>\n      <td>False</td>\n      <td>False</td>\n      <td>False</td>\n      <td>False</td>\n      <td>False</td>\n      <td>...</td>\n      <td>False</td>\n      <td>False</td>\n      <td>False</td>\n      <td>False</td>\n      <td>False</td>\n      <td>False</td>\n      <td>False</td>\n      <td>False</td>\n      <td>False</td>\n      <td>False</td>\n    </tr>\n    <tr>\n      <th>1468</th>\n      <td>False</td>\n      <td>False</td>\n      <td>False</td>\n      <td>False</td>\n      <td>False</td>\n      <td>False</td>\n      <td>False</td>\n      <td>False</td>\n      <td>False</td>\n      <td>False</td>\n      <td>...</td>\n      <td>False</td>\n      <td>False</td>\n      <td>False</td>\n      <td>False</td>\n      <td>False</td>\n      <td>False</td>\n      <td>False</td>\n      <td>False</td>\n      <td>False</td>\n      <td>False</td>\n    </tr>\n    <tr>\n      <th>1469</th>\n      <td>False</td>\n      <td>False</td>\n      <td>False</td>\n      <td>False</td>\n      <td>False</td>\n      <td>False</td>\n      <td>False</td>\n      <td>False</td>\n      <td>False</td>\n      <td>False</td>\n      <td>...</td>\n      <td>False</td>\n      <td>False</td>\n      <td>False</td>\n      <td>False</td>\n      <td>False</td>\n      <td>False</td>\n      <td>False</td>\n      <td>False</td>\n      <td>False</td>\n      <td>False</td>\n    </tr>\n  </tbody>\n</table>\n<p>1470 rows × 35 columns</p>\n</div>"
     },
     "execution_count": 210,
     "metadata": {},
     "output_type": "execute_result"
    }
   ]
  },
  {
   "cell_type": "code",
   "metadata": {
    "id": "amFTLRkCzpce",
    "ExecuteTime": {
     "end_time": "2024-01-09T11:31:40.850581Z",
     "start_time": "2024-01-09T11:31:40.762738Z"
    }
   },
   "source": [
    "# first, let's locate rows that have Null values\n",
    "employee_df.isnull().sum()"
   ],
   "execution_count": 211,
   "outputs": [
    {
     "data": {
      "text/plain": "Age                         0\nAttrition                   0\nBusinessTravel              0\nDailyRate                   0\nDepartment                  1\nDistanceFromHome            0\nEducation                   0\nEducationField              1\nEmployeeCount               0\nEmployeeNumber              1\nEnvironmentSatisfaction     0\nGender                      1\nHourlyRate                  0\nJobInvolvement              0\nJobLevel                    0\nJobRole                     1\nJobSatisfaction             0\nMaritalStatus               1\nMonthlyIncome               3\nMonthlyRate                 2\nNumCompaniesWorked          0\nOver18                      0\nOverTime                    0\nPercentSalaryHike           1\nPerformanceRating           1\nRelationshipSatisfaction    0\nStandardHours               0\nStockOptionLevel            0\nTotalWorkingYears           0\nTrainingTimesLastYear       0\nWorkLifeBalance             0\nYearsAtCompany              0\nYearsInCurrentRole          0\nYearsSinceLastPromotion     0\nYearsWithCurrManager        0\ndtype: int64"
     },
     "execution_count": 211,
     "metadata": {},
     "output_type": "execute_result"
    }
   ]
  },
  {
   "cell_type": "code",
   "metadata": {
    "id": "P6GOPJPLyr1J",
    "ExecuteTime": {
     "end_time": "2024-01-09T11:34:55.776900Z",
     "start_time": "2024-01-09T11:34:55.667868Z"
    }
   },
   "source": [
    "# Drop any row that contains a Null value \n",
    "# Note that the size of the dataframe has been reduced by 7 elements\n",
    "# Note that all will be used to drop rows that contains only Null values\n",
    "employee_df.dropna(how = 'any', inplace=True)"
   ],
   "execution_count": 212,
   "outputs": []
  },
  {
   "cell_type": "code",
   "metadata": {
    "id": "x_k4ZjJ5zB14",
    "ExecuteTime": {
     "end_time": "2024-01-09T11:34:58.400993Z",
     "start_time": "2024-01-09T11:34:58.249367Z"
    }
   },
   "source": [
    "employee_df"
   ],
   "execution_count": 213,
   "outputs": [
    {
     "data": {
      "text/plain": "      Age Attrition     BusinessTravel  DailyRate              Department  \\\n0      41       Yes      Travel_Rarely       1102                   Sales   \n2      37       Yes      Travel_Rarely       1373  Research & Development   \n3      33        No  Travel_Frequently       1392  Research & Development   \n4      27        No      Travel_Rarely        591  Research & Development   \n5      32        No  Travel_Frequently       1005  Research & Development   \n...   ...       ...                ...        ...                     ...   \n1465   36        No  Travel_Frequently        884  Research & Development   \n1466   39        No      Travel_Rarely        613  Research & Development   \n1467   27        No      Travel_Rarely        155  Research & Development   \n1468   49        No  Travel_Frequently       1023                   Sales   \n1469   34        No      Travel_Rarely        628  Research & Development   \n\n      DistanceFromHome  Education EducationField  EmployeeCount  \\\n0                    1          2  Life Sciences              1   \n2                    2          2          Other              1   \n3                    3          4  Life Sciences              1   \n4                    2          1        Medical              1   \n5                    2          2  Life Sciences              1   \n...                ...        ...            ...            ...   \n1465                23          2        Medical              1   \n1466                 6          1        Medical              1   \n1467                 4          3  Life Sciences              1   \n1468                 2          3        Medical              1   \n1469                 8          3        Medical              1   \n\n      EmployeeNumber  ...  RelationshipSatisfaction StandardHours  \\\n0                1.0  ...                         1            80   \n2                4.0  ...                         2            80   \n3                5.0  ...                         3            80   \n4                7.0  ...                         4            80   \n5                8.0  ...                         3            80   \n...              ...  ...                       ...           ...   \n1465          2061.0  ...                         3            80   \n1466          2062.0  ...                         1            80   \n1467          2064.0  ...                         2            80   \n1468          2065.0  ...                         4            80   \n1469          2068.0  ...                         1            80   \n\n      StockOptionLevel  TotalWorkingYears  TrainingTimesLastYear  \\\n0                    0                  8                      0   \n2                    0                  7                      3   \n3                    0                  8                      3   \n4                    1                  6                      3   \n5                    0                  8                      2   \n...                ...                ...                    ...   \n1465                 1                 17                      3   \n1466                 1                  9                      5   \n1467                 1                  6                      0   \n1468                 0                 17                      3   \n1469                 0                  6                      3   \n\n     WorkLifeBalance  YearsAtCompany YearsInCurrentRole  \\\n0                  1               6                  4   \n2                  3               0                  0   \n3                  3               8                  7   \n4                  3               2                  2   \n5                  2               7                  7   \n...              ...             ...                ...   \n1465               3               5                  2   \n1466               3               7                  7   \n1467               3               6                  2   \n1468               2               9                  6   \n1469               4               4                  3   \n\n      YearsSinceLastPromotion  YearsWithCurrManager  \n0                           0                     5  \n2                           0                     0  \n3                           3                     0  \n4                           2                     2  \n5                           3                     6  \n...                       ...                   ...  \n1465                        0                     3  \n1466                        1                     7  \n1467                        0                     3  \n1468                        0                     8  \n1469                        1                     2  \n\n[1463 rows x 35 columns]",
      "text/html": "<div>\n<style scoped>\n    .dataframe tbody tr th:only-of-type {\n        vertical-align: middle;\n    }\n\n    .dataframe tbody tr th {\n        vertical-align: top;\n    }\n\n    .dataframe thead th {\n        text-align: right;\n    }\n</style>\n<table border=\"1\" class=\"dataframe\">\n  <thead>\n    <tr style=\"text-align: right;\">\n      <th></th>\n      <th>Age</th>\n      <th>Attrition</th>\n      <th>BusinessTravel</th>\n      <th>DailyRate</th>\n      <th>Department</th>\n      <th>DistanceFromHome</th>\n      <th>Education</th>\n      <th>EducationField</th>\n      <th>EmployeeCount</th>\n      <th>EmployeeNumber</th>\n      <th>...</th>\n      <th>RelationshipSatisfaction</th>\n      <th>StandardHours</th>\n      <th>StockOptionLevel</th>\n      <th>TotalWorkingYears</th>\n      <th>TrainingTimesLastYear</th>\n      <th>WorkLifeBalance</th>\n      <th>YearsAtCompany</th>\n      <th>YearsInCurrentRole</th>\n      <th>YearsSinceLastPromotion</th>\n      <th>YearsWithCurrManager</th>\n    </tr>\n  </thead>\n  <tbody>\n    <tr>\n      <th>0</th>\n      <td>41</td>\n      <td>Yes</td>\n      <td>Travel_Rarely</td>\n      <td>1102</td>\n      <td>Sales</td>\n      <td>1</td>\n      <td>2</td>\n      <td>Life Sciences</td>\n      <td>1</td>\n      <td>1.0</td>\n      <td>...</td>\n      <td>1</td>\n      <td>80</td>\n      <td>0</td>\n      <td>8</td>\n      <td>0</td>\n      <td>1</td>\n      <td>6</td>\n      <td>4</td>\n      <td>0</td>\n      <td>5</td>\n    </tr>\n    <tr>\n      <th>2</th>\n      <td>37</td>\n      <td>Yes</td>\n      <td>Travel_Rarely</td>\n      <td>1373</td>\n      <td>Research &amp; Development</td>\n      <td>2</td>\n      <td>2</td>\n      <td>Other</td>\n      <td>1</td>\n      <td>4.0</td>\n      <td>...</td>\n      <td>2</td>\n      <td>80</td>\n      <td>0</td>\n      <td>7</td>\n      <td>3</td>\n      <td>3</td>\n      <td>0</td>\n      <td>0</td>\n      <td>0</td>\n      <td>0</td>\n    </tr>\n    <tr>\n      <th>3</th>\n      <td>33</td>\n      <td>No</td>\n      <td>Travel_Frequently</td>\n      <td>1392</td>\n      <td>Research &amp; Development</td>\n      <td>3</td>\n      <td>4</td>\n      <td>Life Sciences</td>\n      <td>1</td>\n      <td>5.0</td>\n      <td>...</td>\n      <td>3</td>\n      <td>80</td>\n      <td>0</td>\n      <td>8</td>\n      <td>3</td>\n      <td>3</td>\n      <td>8</td>\n      <td>7</td>\n      <td>3</td>\n      <td>0</td>\n    </tr>\n    <tr>\n      <th>4</th>\n      <td>27</td>\n      <td>No</td>\n      <td>Travel_Rarely</td>\n      <td>591</td>\n      <td>Research &amp; Development</td>\n      <td>2</td>\n      <td>1</td>\n      <td>Medical</td>\n      <td>1</td>\n      <td>7.0</td>\n      <td>...</td>\n      <td>4</td>\n      <td>80</td>\n      <td>1</td>\n      <td>6</td>\n      <td>3</td>\n      <td>3</td>\n      <td>2</td>\n      <td>2</td>\n      <td>2</td>\n      <td>2</td>\n    </tr>\n    <tr>\n      <th>5</th>\n      <td>32</td>\n      <td>No</td>\n      <td>Travel_Frequently</td>\n      <td>1005</td>\n      <td>Research &amp; Development</td>\n      <td>2</td>\n      <td>2</td>\n      <td>Life Sciences</td>\n      <td>1</td>\n      <td>8.0</td>\n      <td>...</td>\n      <td>3</td>\n      <td>80</td>\n      <td>0</td>\n      <td>8</td>\n      <td>2</td>\n      <td>2</td>\n      <td>7</td>\n      <td>7</td>\n      <td>3</td>\n      <td>6</td>\n    </tr>\n    <tr>\n      <th>...</th>\n      <td>...</td>\n      <td>...</td>\n      <td>...</td>\n      <td>...</td>\n      <td>...</td>\n      <td>...</td>\n      <td>...</td>\n      <td>...</td>\n      <td>...</td>\n      <td>...</td>\n      <td>...</td>\n      <td>...</td>\n      <td>...</td>\n      <td>...</td>\n      <td>...</td>\n      <td>...</td>\n      <td>...</td>\n      <td>...</td>\n      <td>...</td>\n      <td>...</td>\n      <td>...</td>\n    </tr>\n    <tr>\n      <th>1465</th>\n      <td>36</td>\n      <td>No</td>\n      <td>Travel_Frequently</td>\n      <td>884</td>\n      <td>Research &amp; Development</td>\n      <td>23</td>\n      <td>2</td>\n      <td>Medical</td>\n      <td>1</td>\n      <td>2061.0</td>\n      <td>...</td>\n      <td>3</td>\n      <td>80</td>\n      <td>1</td>\n      <td>17</td>\n      <td>3</td>\n      <td>3</td>\n      <td>5</td>\n      <td>2</td>\n      <td>0</td>\n      <td>3</td>\n    </tr>\n    <tr>\n      <th>1466</th>\n      <td>39</td>\n      <td>No</td>\n      <td>Travel_Rarely</td>\n      <td>613</td>\n      <td>Research &amp; Development</td>\n      <td>6</td>\n      <td>1</td>\n      <td>Medical</td>\n      <td>1</td>\n      <td>2062.0</td>\n      <td>...</td>\n      <td>1</td>\n      <td>80</td>\n      <td>1</td>\n      <td>9</td>\n      <td>5</td>\n      <td>3</td>\n      <td>7</td>\n      <td>7</td>\n      <td>1</td>\n      <td>7</td>\n    </tr>\n    <tr>\n      <th>1467</th>\n      <td>27</td>\n      <td>No</td>\n      <td>Travel_Rarely</td>\n      <td>155</td>\n      <td>Research &amp; Development</td>\n      <td>4</td>\n      <td>3</td>\n      <td>Life Sciences</td>\n      <td>1</td>\n      <td>2064.0</td>\n      <td>...</td>\n      <td>2</td>\n      <td>80</td>\n      <td>1</td>\n      <td>6</td>\n      <td>0</td>\n      <td>3</td>\n      <td>6</td>\n      <td>2</td>\n      <td>0</td>\n      <td>3</td>\n    </tr>\n    <tr>\n      <th>1468</th>\n      <td>49</td>\n      <td>No</td>\n      <td>Travel_Frequently</td>\n      <td>1023</td>\n      <td>Sales</td>\n      <td>2</td>\n      <td>3</td>\n      <td>Medical</td>\n      <td>1</td>\n      <td>2065.0</td>\n      <td>...</td>\n      <td>4</td>\n      <td>80</td>\n      <td>0</td>\n      <td>17</td>\n      <td>3</td>\n      <td>2</td>\n      <td>9</td>\n      <td>6</td>\n      <td>0</td>\n      <td>8</td>\n    </tr>\n    <tr>\n      <th>1469</th>\n      <td>34</td>\n      <td>No</td>\n      <td>Travel_Rarely</td>\n      <td>628</td>\n      <td>Research &amp; Development</td>\n      <td>8</td>\n      <td>3</td>\n      <td>Medical</td>\n      <td>1</td>\n      <td>2068.0</td>\n      <td>...</td>\n      <td>1</td>\n      <td>80</td>\n      <td>0</td>\n      <td>6</td>\n      <td>3</td>\n      <td>4</td>\n      <td>4</td>\n      <td>3</td>\n      <td>1</td>\n      <td>2</td>\n    </tr>\n  </tbody>\n</table>\n<p>1463 rows × 35 columns</p>\n</div>"
     },
     "execution_count": 213,
     "metadata": {},
     "output_type": "execute_result"
    }
   ]
  },
  {
   "cell_type": "code",
   "metadata": {
    "id": "KrFRU5Lv0RFN",
    "ExecuteTime": {
     "end_time": "2024-01-09T11:35:45.743415Z",
     "start_time": "2024-01-09T11:35:45.594482Z"
    }
   },
   "source": [
    "# Let's read a CSV file using Pandas as follows\n",
    "employee_df = pd.read_csv('../datasets/Human_Resources.csv')\n",
    "employee_df"
   ],
   "execution_count": 214,
   "outputs": [
    {
     "data": {
      "text/plain": "      Age Attrition     BusinessTravel  DailyRate              Department  \\\n0      41       Yes      Travel_Rarely       1102                   Sales   \n1      49        No  Travel_Frequently        279  Research & Development   \n2      37       Yes      Travel_Rarely       1373  Research & Development   \n3      33        No  Travel_Frequently       1392  Research & Development   \n4      27        No      Travel_Rarely        591  Research & Development   \n...   ...       ...                ...        ...                     ...   \n1465   36        No  Travel_Frequently        884  Research & Development   \n1466   39        No      Travel_Rarely        613  Research & Development   \n1467   27        No      Travel_Rarely        155  Research & Development   \n1468   49        No  Travel_Frequently       1023                   Sales   \n1469   34        No      Travel_Rarely        628  Research & Development   \n\n      DistanceFromHome  Education EducationField  EmployeeCount  \\\n0                    1          2  Life Sciences              1   \n1                    8          1  Life Sciences              1   \n2                    2          2          Other              1   \n3                    3          4  Life Sciences              1   \n4                    2          1        Medical              1   \n...                ...        ...            ...            ...   \n1465                23          2        Medical              1   \n1466                 6          1        Medical              1   \n1467                 4          3  Life Sciences              1   \n1468                 2          3        Medical              1   \n1469                 8          3        Medical              1   \n\n      EmployeeNumber  ...  RelationshipSatisfaction StandardHours  \\\n0                1.0  ...                         1            80   \n1                2.0  ...                         4            80   \n2                4.0  ...                         2            80   \n3                5.0  ...                         3            80   \n4                7.0  ...                         4            80   \n...              ...  ...                       ...           ...   \n1465          2061.0  ...                         3            80   \n1466          2062.0  ...                         1            80   \n1467          2064.0  ...                         2            80   \n1468          2065.0  ...                         4            80   \n1469          2068.0  ...                         1            80   \n\n      StockOptionLevel  TotalWorkingYears  TrainingTimesLastYear  \\\n0                    0                  8                      0   \n1                    1                 10                      3   \n2                    0                  7                      3   \n3                    0                  8                      3   \n4                    1                  6                      3   \n...                ...                ...                    ...   \n1465                 1                 17                      3   \n1466                 1                  9                      5   \n1467                 1                  6                      0   \n1468                 0                 17                      3   \n1469                 0                  6                      3   \n\n     WorkLifeBalance  YearsAtCompany YearsInCurrentRole  \\\n0                  1               6                  4   \n1                  3              10                  7   \n2                  3               0                  0   \n3                  3               8                  7   \n4                  3               2                  2   \n...              ...             ...                ...   \n1465               3               5                  2   \n1466               3               7                  7   \n1467               3               6                  2   \n1468               2               9                  6   \n1469               4               4                  3   \n\n      YearsSinceLastPromotion  YearsWithCurrManager  \n0                           0                     5  \n1                           1                     7  \n2                           0                     0  \n3                           3                     0  \n4                           2                     2  \n...                       ...                   ...  \n1465                        0                     3  \n1466                        1                     7  \n1467                        0                     3  \n1468                        0                     8  \n1469                        1                     2  \n\n[1470 rows x 35 columns]",
      "text/html": "<div>\n<style scoped>\n    .dataframe tbody tr th:only-of-type {\n        vertical-align: middle;\n    }\n\n    .dataframe tbody tr th {\n        vertical-align: top;\n    }\n\n    .dataframe thead th {\n        text-align: right;\n    }\n</style>\n<table border=\"1\" class=\"dataframe\">\n  <thead>\n    <tr style=\"text-align: right;\">\n      <th></th>\n      <th>Age</th>\n      <th>Attrition</th>\n      <th>BusinessTravel</th>\n      <th>DailyRate</th>\n      <th>Department</th>\n      <th>DistanceFromHome</th>\n      <th>Education</th>\n      <th>EducationField</th>\n      <th>EmployeeCount</th>\n      <th>EmployeeNumber</th>\n      <th>...</th>\n      <th>RelationshipSatisfaction</th>\n      <th>StandardHours</th>\n      <th>StockOptionLevel</th>\n      <th>TotalWorkingYears</th>\n      <th>TrainingTimesLastYear</th>\n      <th>WorkLifeBalance</th>\n      <th>YearsAtCompany</th>\n      <th>YearsInCurrentRole</th>\n      <th>YearsSinceLastPromotion</th>\n      <th>YearsWithCurrManager</th>\n    </tr>\n  </thead>\n  <tbody>\n    <tr>\n      <th>0</th>\n      <td>41</td>\n      <td>Yes</td>\n      <td>Travel_Rarely</td>\n      <td>1102</td>\n      <td>Sales</td>\n      <td>1</td>\n      <td>2</td>\n      <td>Life Sciences</td>\n      <td>1</td>\n      <td>1.0</td>\n      <td>...</td>\n      <td>1</td>\n      <td>80</td>\n      <td>0</td>\n      <td>8</td>\n      <td>0</td>\n      <td>1</td>\n      <td>6</td>\n      <td>4</td>\n      <td>0</td>\n      <td>5</td>\n    </tr>\n    <tr>\n      <th>1</th>\n      <td>49</td>\n      <td>No</td>\n      <td>Travel_Frequently</td>\n      <td>279</td>\n      <td>Research &amp; Development</td>\n      <td>8</td>\n      <td>1</td>\n      <td>Life Sciences</td>\n      <td>1</td>\n      <td>2.0</td>\n      <td>...</td>\n      <td>4</td>\n      <td>80</td>\n      <td>1</td>\n      <td>10</td>\n      <td>3</td>\n      <td>3</td>\n      <td>10</td>\n      <td>7</td>\n      <td>1</td>\n      <td>7</td>\n    </tr>\n    <tr>\n      <th>2</th>\n      <td>37</td>\n      <td>Yes</td>\n      <td>Travel_Rarely</td>\n      <td>1373</td>\n      <td>Research &amp; Development</td>\n      <td>2</td>\n      <td>2</td>\n      <td>Other</td>\n      <td>1</td>\n      <td>4.0</td>\n      <td>...</td>\n      <td>2</td>\n      <td>80</td>\n      <td>0</td>\n      <td>7</td>\n      <td>3</td>\n      <td>3</td>\n      <td>0</td>\n      <td>0</td>\n      <td>0</td>\n      <td>0</td>\n    </tr>\n    <tr>\n      <th>3</th>\n      <td>33</td>\n      <td>No</td>\n      <td>Travel_Frequently</td>\n      <td>1392</td>\n      <td>Research &amp; Development</td>\n      <td>3</td>\n      <td>4</td>\n      <td>Life Sciences</td>\n      <td>1</td>\n      <td>5.0</td>\n      <td>...</td>\n      <td>3</td>\n      <td>80</td>\n      <td>0</td>\n      <td>8</td>\n      <td>3</td>\n      <td>3</td>\n      <td>8</td>\n      <td>7</td>\n      <td>3</td>\n      <td>0</td>\n    </tr>\n    <tr>\n      <th>4</th>\n      <td>27</td>\n      <td>No</td>\n      <td>Travel_Rarely</td>\n      <td>591</td>\n      <td>Research &amp; Development</td>\n      <td>2</td>\n      <td>1</td>\n      <td>Medical</td>\n      <td>1</td>\n      <td>7.0</td>\n      <td>...</td>\n      <td>4</td>\n      <td>80</td>\n      <td>1</td>\n      <td>6</td>\n      <td>3</td>\n      <td>3</td>\n      <td>2</td>\n      <td>2</td>\n      <td>2</td>\n      <td>2</td>\n    </tr>\n    <tr>\n      <th>...</th>\n      <td>...</td>\n      <td>...</td>\n      <td>...</td>\n      <td>...</td>\n      <td>...</td>\n      <td>...</td>\n      <td>...</td>\n      <td>...</td>\n      <td>...</td>\n      <td>...</td>\n      <td>...</td>\n      <td>...</td>\n      <td>...</td>\n      <td>...</td>\n      <td>...</td>\n      <td>...</td>\n      <td>...</td>\n      <td>...</td>\n      <td>...</td>\n      <td>...</td>\n      <td>...</td>\n    </tr>\n    <tr>\n      <th>1465</th>\n      <td>36</td>\n      <td>No</td>\n      <td>Travel_Frequently</td>\n      <td>884</td>\n      <td>Research &amp; Development</td>\n      <td>23</td>\n      <td>2</td>\n      <td>Medical</td>\n      <td>1</td>\n      <td>2061.0</td>\n      <td>...</td>\n      <td>3</td>\n      <td>80</td>\n      <td>1</td>\n      <td>17</td>\n      <td>3</td>\n      <td>3</td>\n      <td>5</td>\n      <td>2</td>\n      <td>0</td>\n      <td>3</td>\n    </tr>\n    <tr>\n      <th>1466</th>\n      <td>39</td>\n      <td>No</td>\n      <td>Travel_Rarely</td>\n      <td>613</td>\n      <td>Research &amp; Development</td>\n      <td>6</td>\n      <td>1</td>\n      <td>Medical</td>\n      <td>1</td>\n      <td>2062.0</td>\n      <td>...</td>\n      <td>1</td>\n      <td>80</td>\n      <td>1</td>\n      <td>9</td>\n      <td>5</td>\n      <td>3</td>\n      <td>7</td>\n      <td>7</td>\n      <td>1</td>\n      <td>7</td>\n    </tr>\n    <tr>\n      <th>1467</th>\n      <td>27</td>\n      <td>No</td>\n      <td>Travel_Rarely</td>\n      <td>155</td>\n      <td>Research &amp; Development</td>\n      <td>4</td>\n      <td>3</td>\n      <td>Life Sciences</td>\n      <td>1</td>\n      <td>2064.0</td>\n      <td>...</td>\n      <td>2</td>\n      <td>80</td>\n      <td>1</td>\n      <td>6</td>\n      <td>0</td>\n      <td>3</td>\n      <td>6</td>\n      <td>2</td>\n      <td>0</td>\n      <td>3</td>\n    </tr>\n    <tr>\n      <th>1468</th>\n      <td>49</td>\n      <td>No</td>\n      <td>Travel_Frequently</td>\n      <td>1023</td>\n      <td>Sales</td>\n      <td>2</td>\n      <td>3</td>\n      <td>Medical</td>\n      <td>1</td>\n      <td>2065.0</td>\n      <td>...</td>\n      <td>4</td>\n      <td>80</td>\n      <td>0</td>\n      <td>17</td>\n      <td>3</td>\n      <td>2</td>\n      <td>9</td>\n      <td>6</td>\n      <td>0</td>\n      <td>8</td>\n    </tr>\n    <tr>\n      <th>1469</th>\n      <td>34</td>\n      <td>No</td>\n      <td>Travel_Rarely</td>\n      <td>628</td>\n      <td>Research &amp; Development</td>\n      <td>8</td>\n      <td>3</td>\n      <td>Medical</td>\n      <td>1</td>\n      <td>2068.0</td>\n      <td>...</td>\n      <td>1</td>\n      <td>80</td>\n      <td>0</td>\n      <td>6</td>\n      <td>3</td>\n      <td>4</td>\n      <td>4</td>\n      <td>3</td>\n      <td>1</td>\n      <td>2</td>\n    </tr>\n  </tbody>\n</table>\n<p>1470 rows × 35 columns</p>\n</div>"
     },
     "execution_count": 214,
     "metadata": {},
     "output_type": "execute_result"
    }
   ]
  },
  {
   "cell_type": "code",
   "metadata": {
    "id": "XnnFDbLl0jfu",
    "ExecuteTime": {
     "end_time": "2024-01-09T11:36:46.817104Z",
     "start_time": "2024-01-09T11:36:46.692982Z"
    }
   },
   "source": [
    "# We can also indicate which columns we want to drop NaN from\n",
    "employee_df.dropna(how = 'any', inplace=True,subset=['MonthlyIncome', 'PercentSalaryHike'])\n"
   ],
   "execution_count": 216,
   "outputs": []
  },
  {
   "cell_type": "code",
   "metadata": {
    "id": "QueD79xW1IOT",
    "ExecuteTime": {
     "end_time": "2024-01-09T11:36:48.279510Z",
     "start_time": "2024-01-09T11:36:48.124671Z"
    }
   },
   "source": [
    "employee_df"
   ],
   "execution_count": 217,
   "outputs": [
    {
     "data": {
      "text/plain": "      Age Attrition     BusinessTravel  DailyRate              Department  \\\n0      41       Yes      Travel_Rarely       1102                   Sales   \n2      37       Yes      Travel_Rarely       1373  Research & Development   \n3      33        No  Travel_Frequently       1392  Research & Development   \n4      27        No      Travel_Rarely        591  Research & Development   \n5      32        No  Travel_Frequently       1005  Research & Development   \n...   ...       ...                ...        ...                     ...   \n1465   36        No  Travel_Frequently        884  Research & Development   \n1466   39        No      Travel_Rarely        613  Research & Development   \n1467   27        No      Travel_Rarely        155  Research & Development   \n1468   49        No  Travel_Frequently       1023                   Sales   \n1469   34        No      Travel_Rarely        628  Research & Development   \n\n      DistanceFromHome  Education EducationField  EmployeeCount  \\\n0                    1          2  Life Sciences              1   \n2                    2          2          Other              1   \n3                    3          4  Life Sciences              1   \n4                    2          1        Medical              1   \n5                    2          2  Life Sciences              1   \n...                ...        ...            ...            ...   \n1465                23          2        Medical              1   \n1466                 6          1        Medical              1   \n1467                 4          3  Life Sciences              1   \n1468                 2          3        Medical              1   \n1469                 8          3        Medical              1   \n\n      EmployeeNumber  ...  RelationshipSatisfaction StandardHours  \\\n0                1.0  ...                         1            80   \n2                4.0  ...                         2            80   \n3                5.0  ...                         3            80   \n4                7.0  ...                         4            80   \n5                8.0  ...                         3            80   \n...              ...  ...                       ...           ...   \n1465          2061.0  ...                         3            80   \n1466          2062.0  ...                         1            80   \n1467          2064.0  ...                         2            80   \n1468          2065.0  ...                         4            80   \n1469          2068.0  ...                         1            80   \n\n      StockOptionLevel  TotalWorkingYears  TrainingTimesLastYear  \\\n0                    0                  8                      0   \n2                    0                  7                      3   \n3                    0                  8                      3   \n4                    1                  6                      3   \n5                    0                  8                      2   \n...                ...                ...                    ...   \n1465                 1                 17                      3   \n1466                 1                  9                      5   \n1467                 1                  6                      0   \n1468                 0                 17                      3   \n1469                 0                  6                      3   \n\n     WorkLifeBalance  YearsAtCompany YearsInCurrentRole  \\\n0                  1               6                  4   \n2                  3               0                  0   \n3                  3               8                  7   \n4                  3               2                  2   \n5                  2               7                  7   \n...              ...             ...                ...   \n1465               3               5                  2   \n1466               3               7                  7   \n1467               3               6                  2   \n1468               2               9                  6   \n1469               4               4                  3   \n\n      YearsSinceLastPromotion  YearsWithCurrManager  \n0                           0                     5  \n2                           0                     0  \n3                           3                     0  \n4                           2                     2  \n5                           3                     6  \n...                       ...                   ...  \n1465                        0                     3  \n1466                        1                     7  \n1467                        0                     3  \n1468                        0                     8  \n1469                        1                     2  \n\n[1467 rows x 35 columns]",
      "text/html": "<div>\n<style scoped>\n    .dataframe tbody tr th:only-of-type {\n        vertical-align: middle;\n    }\n\n    .dataframe tbody tr th {\n        vertical-align: top;\n    }\n\n    .dataframe thead th {\n        text-align: right;\n    }\n</style>\n<table border=\"1\" class=\"dataframe\">\n  <thead>\n    <tr style=\"text-align: right;\">\n      <th></th>\n      <th>Age</th>\n      <th>Attrition</th>\n      <th>BusinessTravel</th>\n      <th>DailyRate</th>\n      <th>Department</th>\n      <th>DistanceFromHome</th>\n      <th>Education</th>\n      <th>EducationField</th>\n      <th>EmployeeCount</th>\n      <th>EmployeeNumber</th>\n      <th>...</th>\n      <th>RelationshipSatisfaction</th>\n      <th>StandardHours</th>\n      <th>StockOptionLevel</th>\n      <th>TotalWorkingYears</th>\n      <th>TrainingTimesLastYear</th>\n      <th>WorkLifeBalance</th>\n      <th>YearsAtCompany</th>\n      <th>YearsInCurrentRole</th>\n      <th>YearsSinceLastPromotion</th>\n      <th>YearsWithCurrManager</th>\n    </tr>\n  </thead>\n  <tbody>\n    <tr>\n      <th>0</th>\n      <td>41</td>\n      <td>Yes</td>\n      <td>Travel_Rarely</td>\n      <td>1102</td>\n      <td>Sales</td>\n      <td>1</td>\n      <td>2</td>\n      <td>Life Sciences</td>\n      <td>1</td>\n      <td>1.0</td>\n      <td>...</td>\n      <td>1</td>\n      <td>80</td>\n      <td>0</td>\n      <td>8</td>\n      <td>0</td>\n      <td>1</td>\n      <td>6</td>\n      <td>4</td>\n      <td>0</td>\n      <td>5</td>\n    </tr>\n    <tr>\n      <th>2</th>\n      <td>37</td>\n      <td>Yes</td>\n      <td>Travel_Rarely</td>\n      <td>1373</td>\n      <td>Research &amp; Development</td>\n      <td>2</td>\n      <td>2</td>\n      <td>Other</td>\n      <td>1</td>\n      <td>4.0</td>\n      <td>...</td>\n      <td>2</td>\n      <td>80</td>\n      <td>0</td>\n      <td>7</td>\n      <td>3</td>\n      <td>3</td>\n      <td>0</td>\n      <td>0</td>\n      <td>0</td>\n      <td>0</td>\n    </tr>\n    <tr>\n      <th>3</th>\n      <td>33</td>\n      <td>No</td>\n      <td>Travel_Frequently</td>\n      <td>1392</td>\n      <td>Research &amp; Development</td>\n      <td>3</td>\n      <td>4</td>\n      <td>Life Sciences</td>\n      <td>1</td>\n      <td>5.0</td>\n      <td>...</td>\n      <td>3</td>\n      <td>80</td>\n      <td>0</td>\n      <td>8</td>\n      <td>3</td>\n      <td>3</td>\n      <td>8</td>\n      <td>7</td>\n      <td>3</td>\n      <td>0</td>\n    </tr>\n    <tr>\n      <th>4</th>\n      <td>27</td>\n      <td>No</td>\n      <td>Travel_Rarely</td>\n      <td>591</td>\n      <td>Research &amp; Development</td>\n      <td>2</td>\n      <td>1</td>\n      <td>Medical</td>\n      <td>1</td>\n      <td>7.0</td>\n      <td>...</td>\n      <td>4</td>\n      <td>80</td>\n      <td>1</td>\n      <td>6</td>\n      <td>3</td>\n      <td>3</td>\n      <td>2</td>\n      <td>2</td>\n      <td>2</td>\n      <td>2</td>\n    </tr>\n    <tr>\n      <th>5</th>\n      <td>32</td>\n      <td>No</td>\n      <td>Travel_Frequently</td>\n      <td>1005</td>\n      <td>Research &amp; Development</td>\n      <td>2</td>\n      <td>2</td>\n      <td>Life Sciences</td>\n      <td>1</td>\n      <td>8.0</td>\n      <td>...</td>\n      <td>3</td>\n      <td>80</td>\n      <td>0</td>\n      <td>8</td>\n      <td>2</td>\n      <td>2</td>\n      <td>7</td>\n      <td>7</td>\n      <td>3</td>\n      <td>6</td>\n    </tr>\n    <tr>\n      <th>...</th>\n      <td>...</td>\n      <td>...</td>\n      <td>...</td>\n      <td>...</td>\n      <td>...</td>\n      <td>...</td>\n      <td>...</td>\n      <td>...</td>\n      <td>...</td>\n      <td>...</td>\n      <td>...</td>\n      <td>...</td>\n      <td>...</td>\n      <td>...</td>\n      <td>...</td>\n      <td>...</td>\n      <td>...</td>\n      <td>...</td>\n      <td>...</td>\n      <td>...</td>\n      <td>...</td>\n    </tr>\n    <tr>\n      <th>1465</th>\n      <td>36</td>\n      <td>No</td>\n      <td>Travel_Frequently</td>\n      <td>884</td>\n      <td>Research &amp; Development</td>\n      <td>23</td>\n      <td>2</td>\n      <td>Medical</td>\n      <td>1</td>\n      <td>2061.0</td>\n      <td>...</td>\n      <td>3</td>\n      <td>80</td>\n      <td>1</td>\n      <td>17</td>\n      <td>3</td>\n      <td>3</td>\n      <td>5</td>\n      <td>2</td>\n      <td>0</td>\n      <td>3</td>\n    </tr>\n    <tr>\n      <th>1466</th>\n      <td>39</td>\n      <td>No</td>\n      <td>Travel_Rarely</td>\n      <td>613</td>\n      <td>Research &amp; Development</td>\n      <td>6</td>\n      <td>1</td>\n      <td>Medical</td>\n      <td>1</td>\n      <td>2062.0</td>\n      <td>...</td>\n      <td>1</td>\n      <td>80</td>\n      <td>1</td>\n      <td>9</td>\n      <td>5</td>\n      <td>3</td>\n      <td>7</td>\n      <td>7</td>\n      <td>1</td>\n      <td>7</td>\n    </tr>\n    <tr>\n      <th>1467</th>\n      <td>27</td>\n      <td>No</td>\n      <td>Travel_Rarely</td>\n      <td>155</td>\n      <td>Research &amp; Development</td>\n      <td>4</td>\n      <td>3</td>\n      <td>Life Sciences</td>\n      <td>1</td>\n      <td>2064.0</td>\n      <td>...</td>\n      <td>2</td>\n      <td>80</td>\n      <td>1</td>\n      <td>6</td>\n      <td>0</td>\n      <td>3</td>\n      <td>6</td>\n      <td>2</td>\n      <td>0</td>\n      <td>3</td>\n    </tr>\n    <tr>\n      <th>1468</th>\n      <td>49</td>\n      <td>No</td>\n      <td>Travel_Frequently</td>\n      <td>1023</td>\n      <td>Sales</td>\n      <td>2</td>\n      <td>3</td>\n      <td>Medical</td>\n      <td>1</td>\n      <td>2065.0</td>\n      <td>...</td>\n      <td>4</td>\n      <td>80</td>\n      <td>0</td>\n      <td>17</td>\n      <td>3</td>\n      <td>2</td>\n      <td>9</td>\n      <td>6</td>\n      <td>0</td>\n      <td>8</td>\n    </tr>\n    <tr>\n      <th>1469</th>\n      <td>34</td>\n      <td>No</td>\n      <td>Travel_Rarely</td>\n      <td>628</td>\n      <td>Research &amp; Development</td>\n      <td>8</td>\n      <td>3</td>\n      <td>Medical</td>\n      <td>1</td>\n      <td>2068.0</td>\n      <td>...</td>\n      <td>1</td>\n      <td>80</td>\n      <td>0</td>\n      <td>6</td>\n      <td>3</td>\n      <td>4</td>\n      <td>4</td>\n      <td>3</td>\n      <td>1</td>\n      <td>2</td>\n    </tr>\n  </tbody>\n</table>\n<p>1467 rows × 35 columns</p>\n</div>"
     },
     "execution_count": 217,
     "metadata": {},
     "output_type": "execute_result"
    }
   ]
  },
  {
   "cell_type": "code",
   "metadata": {
    "id": "nqCBdypl2C_R",
    "ExecuteTime": {
     "end_time": "2024-01-09T11:40:15.295818Z",
     "start_time": "2024-01-09T11:40:15.164964Z"
    }
   },
   "source": [
    "# Let's read a CSV file using Pandas as follows\n",
    "employee_df = pd.read_csv('../datasets/Human_Resources.csv')\n",
    "employee_df\n"
   ],
   "execution_count": 223,
   "outputs": [
    {
     "data": {
      "text/plain": "      Age Attrition     BusinessTravel  DailyRate              Department  \\\n0      41       Yes      Travel_Rarely       1102                   Sales   \n1      49        No  Travel_Frequently        279  Research & Development   \n2      37       Yes      Travel_Rarely       1373  Research & Development   \n3      33        No  Travel_Frequently       1392  Research & Development   \n4      27        No      Travel_Rarely        591  Research & Development   \n...   ...       ...                ...        ...                     ...   \n1465   36        No  Travel_Frequently        884  Research & Development   \n1466   39        No      Travel_Rarely        613  Research & Development   \n1467   27        No      Travel_Rarely        155  Research & Development   \n1468   49        No  Travel_Frequently       1023                   Sales   \n1469   34        No      Travel_Rarely        628  Research & Development   \n\n      DistanceFromHome  Education EducationField  EmployeeCount  \\\n0                    1          2  Life Sciences              1   \n1                    8          1  Life Sciences              1   \n2                    2          2          Other              1   \n3                    3          4  Life Sciences              1   \n4                    2          1        Medical              1   \n...                ...        ...            ...            ...   \n1465                23          2        Medical              1   \n1466                 6          1        Medical              1   \n1467                 4          3  Life Sciences              1   \n1468                 2          3        Medical              1   \n1469                 8          3        Medical              1   \n\n      EmployeeNumber  ...  RelationshipSatisfaction StandardHours  \\\n0                1.0  ...                         1            80   \n1                2.0  ...                         4            80   \n2                4.0  ...                         2            80   \n3                5.0  ...                         3            80   \n4                7.0  ...                         4            80   \n...              ...  ...                       ...           ...   \n1465          2061.0  ...                         3            80   \n1466          2062.0  ...                         1            80   \n1467          2064.0  ...                         2            80   \n1468          2065.0  ...                         4            80   \n1469          2068.0  ...                         1            80   \n\n      StockOptionLevel  TotalWorkingYears  TrainingTimesLastYear  \\\n0                    0                  8                      0   \n1                    1                 10                      3   \n2                    0                  7                      3   \n3                    0                  8                      3   \n4                    1                  6                      3   \n...                ...                ...                    ...   \n1465                 1                 17                      3   \n1466                 1                  9                      5   \n1467                 1                  6                      0   \n1468                 0                 17                      3   \n1469                 0                  6                      3   \n\n     WorkLifeBalance  YearsAtCompany YearsInCurrentRole  \\\n0                  1               6                  4   \n1                  3              10                  7   \n2                  3               0                  0   \n3                  3               8                  7   \n4                  3               2                  2   \n...              ...             ...                ...   \n1465               3               5                  2   \n1466               3               7                  7   \n1467               3               6                  2   \n1468               2               9                  6   \n1469               4               4                  3   \n\n      YearsSinceLastPromotion  YearsWithCurrManager  \n0                           0                     5  \n1                           1                     7  \n2                           0                     0  \n3                           3                     0  \n4                           2                     2  \n...                       ...                   ...  \n1465                        0                     3  \n1466                        1                     7  \n1467                        0                     3  \n1468                        0                     8  \n1469                        1                     2  \n\n[1470 rows x 35 columns]",
      "text/html": "<div>\n<style scoped>\n    .dataframe tbody tr th:only-of-type {\n        vertical-align: middle;\n    }\n\n    .dataframe tbody tr th {\n        vertical-align: top;\n    }\n\n    .dataframe thead th {\n        text-align: right;\n    }\n</style>\n<table border=\"1\" class=\"dataframe\">\n  <thead>\n    <tr style=\"text-align: right;\">\n      <th></th>\n      <th>Age</th>\n      <th>Attrition</th>\n      <th>BusinessTravel</th>\n      <th>DailyRate</th>\n      <th>Department</th>\n      <th>DistanceFromHome</th>\n      <th>Education</th>\n      <th>EducationField</th>\n      <th>EmployeeCount</th>\n      <th>EmployeeNumber</th>\n      <th>...</th>\n      <th>RelationshipSatisfaction</th>\n      <th>StandardHours</th>\n      <th>StockOptionLevel</th>\n      <th>TotalWorkingYears</th>\n      <th>TrainingTimesLastYear</th>\n      <th>WorkLifeBalance</th>\n      <th>YearsAtCompany</th>\n      <th>YearsInCurrentRole</th>\n      <th>YearsSinceLastPromotion</th>\n      <th>YearsWithCurrManager</th>\n    </tr>\n  </thead>\n  <tbody>\n    <tr>\n      <th>0</th>\n      <td>41</td>\n      <td>Yes</td>\n      <td>Travel_Rarely</td>\n      <td>1102</td>\n      <td>Sales</td>\n      <td>1</td>\n      <td>2</td>\n      <td>Life Sciences</td>\n      <td>1</td>\n      <td>1.0</td>\n      <td>...</td>\n      <td>1</td>\n      <td>80</td>\n      <td>0</td>\n      <td>8</td>\n      <td>0</td>\n      <td>1</td>\n      <td>6</td>\n      <td>4</td>\n      <td>0</td>\n      <td>5</td>\n    </tr>\n    <tr>\n      <th>1</th>\n      <td>49</td>\n      <td>No</td>\n      <td>Travel_Frequently</td>\n      <td>279</td>\n      <td>Research &amp; Development</td>\n      <td>8</td>\n      <td>1</td>\n      <td>Life Sciences</td>\n      <td>1</td>\n      <td>2.0</td>\n      <td>...</td>\n      <td>4</td>\n      <td>80</td>\n      <td>1</td>\n      <td>10</td>\n      <td>3</td>\n      <td>3</td>\n      <td>10</td>\n      <td>7</td>\n      <td>1</td>\n      <td>7</td>\n    </tr>\n    <tr>\n      <th>2</th>\n      <td>37</td>\n      <td>Yes</td>\n      <td>Travel_Rarely</td>\n      <td>1373</td>\n      <td>Research &amp; Development</td>\n      <td>2</td>\n      <td>2</td>\n      <td>Other</td>\n      <td>1</td>\n      <td>4.0</td>\n      <td>...</td>\n      <td>2</td>\n      <td>80</td>\n      <td>0</td>\n      <td>7</td>\n      <td>3</td>\n      <td>3</td>\n      <td>0</td>\n      <td>0</td>\n      <td>0</td>\n      <td>0</td>\n    </tr>\n    <tr>\n      <th>3</th>\n      <td>33</td>\n      <td>No</td>\n      <td>Travel_Frequently</td>\n      <td>1392</td>\n      <td>Research &amp; Development</td>\n      <td>3</td>\n      <td>4</td>\n      <td>Life Sciences</td>\n      <td>1</td>\n      <td>5.0</td>\n      <td>...</td>\n      <td>3</td>\n      <td>80</td>\n      <td>0</td>\n      <td>8</td>\n      <td>3</td>\n      <td>3</td>\n      <td>8</td>\n      <td>7</td>\n      <td>3</td>\n      <td>0</td>\n    </tr>\n    <tr>\n      <th>4</th>\n      <td>27</td>\n      <td>No</td>\n      <td>Travel_Rarely</td>\n      <td>591</td>\n      <td>Research &amp; Development</td>\n      <td>2</td>\n      <td>1</td>\n      <td>Medical</td>\n      <td>1</td>\n      <td>7.0</td>\n      <td>...</td>\n      <td>4</td>\n      <td>80</td>\n      <td>1</td>\n      <td>6</td>\n      <td>3</td>\n      <td>3</td>\n      <td>2</td>\n      <td>2</td>\n      <td>2</td>\n      <td>2</td>\n    </tr>\n    <tr>\n      <th>...</th>\n      <td>...</td>\n      <td>...</td>\n      <td>...</td>\n      <td>...</td>\n      <td>...</td>\n      <td>...</td>\n      <td>...</td>\n      <td>...</td>\n      <td>...</td>\n      <td>...</td>\n      <td>...</td>\n      <td>...</td>\n      <td>...</td>\n      <td>...</td>\n      <td>...</td>\n      <td>...</td>\n      <td>...</td>\n      <td>...</td>\n      <td>...</td>\n      <td>...</td>\n      <td>...</td>\n    </tr>\n    <tr>\n      <th>1465</th>\n      <td>36</td>\n      <td>No</td>\n      <td>Travel_Frequently</td>\n      <td>884</td>\n      <td>Research &amp; Development</td>\n      <td>23</td>\n      <td>2</td>\n      <td>Medical</td>\n      <td>1</td>\n      <td>2061.0</td>\n      <td>...</td>\n      <td>3</td>\n      <td>80</td>\n      <td>1</td>\n      <td>17</td>\n      <td>3</td>\n      <td>3</td>\n      <td>5</td>\n      <td>2</td>\n      <td>0</td>\n      <td>3</td>\n    </tr>\n    <tr>\n      <th>1466</th>\n      <td>39</td>\n      <td>No</td>\n      <td>Travel_Rarely</td>\n      <td>613</td>\n      <td>Research &amp; Development</td>\n      <td>6</td>\n      <td>1</td>\n      <td>Medical</td>\n      <td>1</td>\n      <td>2062.0</td>\n      <td>...</td>\n      <td>1</td>\n      <td>80</td>\n      <td>1</td>\n      <td>9</td>\n      <td>5</td>\n      <td>3</td>\n      <td>7</td>\n      <td>7</td>\n      <td>1</td>\n      <td>7</td>\n    </tr>\n    <tr>\n      <th>1467</th>\n      <td>27</td>\n      <td>No</td>\n      <td>Travel_Rarely</td>\n      <td>155</td>\n      <td>Research &amp; Development</td>\n      <td>4</td>\n      <td>3</td>\n      <td>Life Sciences</td>\n      <td>1</td>\n      <td>2064.0</td>\n      <td>...</td>\n      <td>2</td>\n      <td>80</td>\n      <td>1</td>\n      <td>6</td>\n      <td>0</td>\n      <td>3</td>\n      <td>6</td>\n      <td>2</td>\n      <td>0</td>\n      <td>3</td>\n    </tr>\n    <tr>\n      <th>1468</th>\n      <td>49</td>\n      <td>No</td>\n      <td>Travel_Frequently</td>\n      <td>1023</td>\n      <td>Sales</td>\n      <td>2</td>\n      <td>3</td>\n      <td>Medical</td>\n      <td>1</td>\n      <td>2065.0</td>\n      <td>...</td>\n      <td>4</td>\n      <td>80</td>\n      <td>0</td>\n      <td>17</td>\n      <td>3</td>\n      <td>2</td>\n      <td>9</td>\n      <td>6</td>\n      <td>0</td>\n      <td>8</td>\n    </tr>\n    <tr>\n      <th>1469</th>\n      <td>34</td>\n      <td>No</td>\n      <td>Travel_Rarely</td>\n      <td>628</td>\n      <td>Research &amp; Development</td>\n      <td>8</td>\n      <td>3</td>\n      <td>Medical</td>\n      <td>1</td>\n      <td>2068.0</td>\n      <td>...</td>\n      <td>1</td>\n      <td>80</td>\n      <td>0</td>\n      <td>6</td>\n      <td>3</td>\n      <td>4</td>\n      <td>4</td>\n      <td>3</td>\n      <td>1</td>\n      <td>2</td>\n    </tr>\n  </tbody>\n</table>\n<p>1470 rows × 35 columns</p>\n</div>"
     },
     "execution_count": 223,
     "metadata": {},
     "output_type": "execute_result"
    }
   ]
  },
  {
   "cell_type": "code",
   "metadata": {
    "id": "vw8fb0YQ29GT",
    "ExecuteTime": {
     "end_time": "2024-01-09T11:40:16.456087Z",
     "start_time": "2024-01-09T11:40:16.348268Z"
    }
   },
   "source": [
    "# Calculate the average monthly income\n",
    "employee_df['MonthlyIncome'].mean()"
   ],
   "execution_count": 224,
   "outputs": [
    {
     "data": {
      "text/plain": "6505.155419222904"
     },
     "execution_count": 224,
     "metadata": {},
     "output_type": "execute_result"
    }
   ]
  },
  {
   "cell_type": "code",
   "metadata": {
    "id": "vAj5YYVJ259N",
    "ExecuteTime": {
     "end_time": "2024-01-09T11:40:17.195508Z",
     "start_time": "2024-01-09T11:40:17.077387Z"
    }
   },
   "source": [
    "# You can use Fillna to fill a given column with a certain value\n",
    "employee_df['MonthlyIncome'].fillna(employee_df['MonthlyIncome'].mean(),inplace=True)"
   ],
   "execution_count": 225,
   "outputs": []
  },
  {
   "cell_type": "code",
   "metadata": {
    "id": "z8lU5Gz12oJD",
    "ExecuteTime": {
     "end_time": "2024-01-09T11:40:18.357233Z",
     "start_time": "2024-01-09T11:40:18.191937Z"
    }
   },
   "source": [
    "employee_df"
   ],
   "execution_count": 226,
   "outputs": [
    {
     "data": {
      "text/plain": "      Age Attrition     BusinessTravel  DailyRate              Department  \\\n0      41       Yes      Travel_Rarely       1102                   Sales   \n1      49        No  Travel_Frequently        279  Research & Development   \n2      37       Yes      Travel_Rarely       1373  Research & Development   \n3      33        No  Travel_Frequently       1392  Research & Development   \n4      27        No      Travel_Rarely        591  Research & Development   \n...   ...       ...                ...        ...                     ...   \n1465   36        No  Travel_Frequently        884  Research & Development   \n1466   39        No      Travel_Rarely        613  Research & Development   \n1467   27        No      Travel_Rarely        155  Research & Development   \n1468   49        No  Travel_Frequently       1023                   Sales   \n1469   34        No      Travel_Rarely        628  Research & Development   \n\n      DistanceFromHome  Education EducationField  EmployeeCount  \\\n0                    1          2  Life Sciences              1   \n1                    8          1  Life Sciences              1   \n2                    2          2          Other              1   \n3                    3          4  Life Sciences              1   \n4                    2          1        Medical              1   \n...                ...        ...            ...            ...   \n1465                23          2        Medical              1   \n1466                 6          1        Medical              1   \n1467                 4          3  Life Sciences              1   \n1468                 2          3        Medical              1   \n1469                 8          3        Medical              1   \n\n      EmployeeNumber  ...  RelationshipSatisfaction StandardHours  \\\n0                1.0  ...                         1            80   \n1                2.0  ...                         4            80   \n2                4.0  ...                         2            80   \n3                5.0  ...                         3            80   \n4                7.0  ...                         4            80   \n...              ...  ...                       ...           ...   \n1465          2061.0  ...                         3            80   \n1466          2062.0  ...                         1            80   \n1467          2064.0  ...                         2            80   \n1468          2065.0  ...                         4            80   \n1469          2068.0  ...                         1            80   \n\n      StockOptionLevel  TotalWorkingYears  TrainingTimesLastYear  \\\n0                    0                  8                      0   \n1                    1                 10                      3   \n2                    0                  7                      3   \n3                    0                  8                      3   \n4                    1                  6                      3   \n...                ...                ...                    ...   \n1465                 1                 17                      3   \n1466                 1                  9                      5   \n1467                 1                  6                      0   \n1468                 0                 17                      3   \n1469                 0                  6                      3   \n\n     WorkLifeBalance  YearsAtCompany YearsInCurrentRole  \\\n0                  1               6                  4   \n1                  3              10                  7   \n2                  3               0                  0   \n3                  3               8                  7   \n4                  3               2                  2   \n...              ...             ...                ...   \n1465               3               5                  2   \n1466               3               7                  7   \n1467               3               6                  2   \n1468               2               9                  6   \n1469               4               4                  3   \n\n      YearsSinceLastPromotion  YearsWithCurrManager  \n0                           0                     5  \n1                           1                     7  \n2                           0                     0  \n3                           3                     0  \n4                           2                     2  \n...                       ...                   ...  \n1465                        0                     3  \n1466                        1                     7  \n1467                        0                     3  \n1468                        0                     8  \n1469                        1                     2  \n\n[1470 rows x 35 columns]",
      "text/html": "<div>\n<style scoped>\n    .dataframe tbody tr th:only-of-type {\n        vertical-align: middle;\n    }\n\n    .dataframe tbody tr th {\n        vertical-align: top;\n    }\n\n    .dataframe thead th {\n        text-align: right;\n    }\n</style>\n<table border=\"1\" class=\"dataframe\">\n  <thead>\n    <tr style=\"text-align: right;\">\n      <th></th>\n      <th>Age</th>\n      <th>Attrition</th>\n      <th>BusinessTravel</th>\n      <th>DailyRate</th>\n      <th>Department</th>\n      <th>DistanceFromHome</th>\n      <th>Education</th>\n      <th>EducationField</th>\n      <th>EmployeeCount</th>\n      <th>EmployeeNumber</th>\n      <th>...</th>\n      <th>RelationshipSatisfaction</th>\n      <th>StandardHours</th>\n      <th>StockOptionLevel</th>\n      <th>TotalWorkingYears</th>\n      <th>TrainingTimesLastYear</th>\n      <th>WorkLifeBalance</th>\n      <th>YearsAtCompany</th>\n      <th>YearsInCurrentRole</th>\n      <th>YearsSinceLastPromotion</th>\n      <th>YearsWithCurrManager</th>\n    </tr>\n  </thead>\n  <tbody>\n    <tr>\n      <th>0</th>\n      <td>41</td>\n      <td>Yes</td>\n      <td>Travel_Rarely</td>\n      <td>1102</td>\n      <td>Sales</td>\n      <td>1</td>\n      <td>2</td>\n      <td>Life Sciences</td>\n      <td>1</td>\n      <td>1.0</td>\n      <td>...</td>\n      <td>1</td>\n      <td>80</td>\n      <td>0</td>\n      <td>8</td>\n      <td>0</td>\n      <td>1</td>\n      <td>6</td>\n      <td>4</td>\n      <td>0</td>\n      <td>5</td>\n    </tr>\n    <tr>\n      <th>1</th>\n      <td>49</td>\n      <td>No</td>\n      <td>Travel_Frequently</td>\n      <td>279</td>\n      <td>Research &amp; Development</td>\n      <td>8</td>\n      <td>1</td>\n      <td>Life Sciences</td>\n      <td>1</td>\n      <td>2.0</td>\n      <td>...</td>\n      <td>4</td>\n      <td>80</td>\n      <td>1</td>\n      <td>10</td>\n      <td>3</td>\n      <td>3</td>\n      <td>10</td>\n      <td>7</td>\n      <td>1</td>\n      <td>7</td>\n    </tr>\n    <tr>\n      <th>2</th>\n      <td>37</td>\n      <td>Yes</td>\n      <td>Travel_Rarely</td>\n      <td>1373</td>\n      <td>Research &amp; Development</td>\n      <td>2</td>\n      <td>2</td>\n      <td>Other</td>\n      <td>1</td>\n      <td>4.0</td>\n      <td>...</td>\n      <td>2</td>\n      <td>80</td>\n      <td>0</td>\n      <td>7</td>\n      <td>3</td>\n      <td>3</td>\n      <td>0</td>\n      <td>0</td>\n      <td>0</td>\n      <td>0</td>\n    </tr>\n    <tr>\n      <th>3</th>\n      <td>33</td>\n      <td>No</td>\n      <td>Travel_Frequently</td>\n      <td>1392</td>\n      <td>Research &amp; Development</td>\n      <td>3</td>\n      <td>4</td>\n      <td>Life Sciences</td>\n      <td>1</td>\n      <td>5.0</td>\n      <td>...</td>\n      <td>3</td>\n      <td>80</td>\n      <td>0</td>\n      <td>8</td>\n      <td>3</td>\n      <td>3</td>\n      <td>8</td>\n      <td>7</td>\n      <td>3</td>\n      <td>0</td>\n    </tr>\n    <tr>\n      <th>4</th>\n      <td>27</td>\n      <td>No</td>\n      <td>Travel_Rarely</td>\n      <td>591</td>\n      <td>Research &amp; Development</td>\n      <td>2</td>\n      <td>1</td>\n      <td>Medical</td>\n      <td>1</td>\n      <td>7.0</td>\n      <td>...</td>\n      <td>4</td>\n      <td>80</td>\n      <td>1</td>\n      <td>6</td>\n      <td>3</td>\n      <td>3</td>\n      <td>2</td>\n      <td>2</td>\n      <td>2</td>\n      <td>2</td>\n    </tr>\n    <tr>\n      <th>...</th>\n      <td>...</td>\n      <td>...</td>\n      <td>...</td>\n      <td>...</td>\n      <td>...</td>\n      <td>...</td>\n      <td>...</td>\n      <td>...</td>\n      <td>...</td>\n      <td>...</td>\n      <td>...</td>\n      <td>...</td>\n      <td>...</td>\n      <td>...</td>\n      <td>...</td>\n      <td>...</td>\n      <td>...</td>\n      <td>...</td>\n      <td>...</td>\n      <td>...</td>\n      <td>...</td>\n    </tr>\n    <tr>\n      <th>1465</th>\n      <td>36</td>\n      <td>No</td>\n      <td>Travel_Frequently</td>\n      <td>884</td>\n      <td>Research &amp; Development</td>\n      <td>23</td>\n      <td>2</td>\n      <td>Medical</td>\n      <td>1</td>\n      <td>2061.0</td>\n      <td>...</td>\n      <td>3</td>\n      <td>80</td>\n      <td>1</td>\n      <td>17</td>\n      <td>3</td>\n      <td>3</td>\n      <td>5</td>\n      <td>2</td>\n      <td>0</td>\n      <td>3</td>\n    </tr>\n    <tr>\n      <th>1466</th>\n      <td>39</td>\n      <td>No</td>\n      <td>Travel_Rarely</td>\n      <td>613</td>\n      <td>Research &amp; Development</td>\n      <td>6</td>\n      <td>1</td>\n      <td>Medical</td>\n      <td>1</td>\n      <td>2062.0</td>\n      <td>...</td>\n      <td>1</td>\n      <td>80</td>\n      <td>1</td>\n      <td>9</td>\n      <td>5</td>\n      <td>3</td>\n      <td>7</td>\n      <td>7</td>\n      <td>1</td>\n      <td>7</td>\n    </tr>\n    <tr>\n      <th>1467</th>\n      <td>27</td>\n      <td>No</td>\n      <td>Travel_Rarely</td>\n      <td>155</td>\n      <td>Research &amp; Development</td>\n      <td>4</td>\n      <td>3</td>\n      <td>Life Sciences</td>\n      <td>1</td>\n      <td>2064.0</td>\n      <td>...</td>\n      <td>2</td>\n      <td>80</td>\n      <td>1</td>\n      <td>6</td>\n      <td>0</td>\n      <td>3</td>\n      <td>6</td>\n      <td>2</td>\n      <td>0</td>\n      <td>3</td>\n    </tr>\n    <tr>\n      <th>1468</th>\n      <td>49</td>\n      <td>No</td>\n      <td>Travel_Frequently</td>\n      <td>1023</td>\n      <td>Sales</td>\n      <td>2</td>\n      <td>3</td>\n      <td>Medical</td>\n      <td>1</td>\n      <td>2065.0</td>\n      <td>...</td>\n      <td>4</td>\n      <td>80</td>\n      <td>0</td>\n      <td>17</td>\n      <td>3</td>\n      <td>2</td>\n      <td>9</td>\n      <td>6</td>\n      <td>0</td>\n      <td>8</td>\n    </tr>\n    <tr>\n      <th>1469</th>\n      <td>34</td>\n      <td>No</td>\n      <td>Travel_Rarely</td>\n      <td>628</td>\n      <td>Research &amp; Development</td>\n      <td>8</td>\n      <td>3</td>\n      <td>Medical</td>\n      <td>1</td>\n      <td>2068.0</td>\n      <td>...</td>\n      <td>1</td>\n      <td>80</td>\n      <td>0</td>\n      <td>6</td>\n      <td>3</td>\n      <td>4</td>\n      <td>4</td>\n      <td>3</td>\n      <td>1</td>\n      <td>2</td>\n    </tr>\n  </tbody>\n</table>\n<p>1470 rows × 35 columns</p>\n</div>"
     },
     "execution_count": 226,
     "metadata": {},
     "output_type": "execute_result"
    }
   ]
  },
  {
   "cell_type": "code",
   "execution_count": 227,
   "outputs": [
    {
     "data": {
      "text/plain": "Age                         0\nAttrition                   0\nBusinessTravel              0\nDailyRate                   0\nDepartment                  1\nDistanceFromHome            0\nEducation                   0\nEducationField              1\nEmployeeCount               0\nEmployeeNumber              1\nEnvironmentSatisfaction     0\nGender                      1\nHourlyRate                  0\nJobInvolvement              0\nJobLevel                    0\nJobRole                     1\nJobSatisfaction             0\nMaritalStatus               1\nMonthlyIncome               0\nMonthlyRate                 2\nNumCompaniesWorked          0\nOver18                      0\nOverTime                    0\nPercentSalaryHike           1\nPerformanceRating           1\nRelationshipSatisfaction    0\nStandardHours               0\nStockOptionLevel            0\nTotalWorkingYears           0\nTrainingTimesLastYear       0\nWorkLifeBalance             0\nYearsAtCompany              0\nYearsInCurrentRole          0\nYearsSinceLastPromotion     0\nYearsWithCurrManager        0\ndtype: int64"
     },
     "execution_count": 227,
     "metadata": {},
     "output_type": "execute_result"
    }
   ],
   "source": [
    "employee_df.isnull().sum()\n"
   ],
   "metadata": {
    "collapsed": false,
    "ExecuteTime": {
     "end_time": "2024-01-09T11:40:46.529144Z",
     "start_time": "2024-01-09T11:40:46.443078Z"
    }
   }
  },
  {
   "cell_type": "markdown",
   "metadata": {
    "id": "BcchuZvuFXKI"
   },
   "source": [
    "**MINI CHALLENGE #13:**\n",
    "- **Calculate the median monthly rate. Use the calculated median values to fill out missing data. Confirm that the process is successful**"
   ]
  },
  {
   "cell_type": "code",
   "metadata": {
    "id": "J2Xqi2S_Fccr",
    "ExecuteTime": {
     "end_time": "2024-01-08T11:51:24.387320Z",
     "start_time": "2024-01-08T11:51:24.264370Z"
    }
   },
   "source": [],
   "execution_count": 88,
   "outputs": []
  },
  {
   "cell_type": "markdown",
   "metadata": {
    "id": "op8oaraK4BrM"
   },
   "source": [
    "# 14. CHANGE DATATYPES"
   ]
  },
  {
   "cell_type": "code",
   "metadata": {
    "id": "y1aBRjsH4Fvs",
    "ExecuteTime": {
     "end_time": "2024-01-09T12:09:43.890397Z",
     "start_time": "2024-01-09T12:09:43.704127Z"
    }
   },
   "source": [
    "# Let's read a CSV file using Pandas as follows\n",
    "employee_df = pd.read_csv('../datasets/Human_Resources.csv')\n",
    "employee_df"
   ],
   "execution_count": 228,
   "outputs": [
    {
     "data": {
      "text/plain": "      Age Attrition     BusinessTravel  DailyRate              Department  \\\n0      41       Yes      Travel_Rarely       1102                   Sales   \n1      49        No  Travel_Frequently        279  Research & Development   \n2      37       Yes      Travel_Rarely       1373  Research & Development   \n3      33        No  Travel_Frequently       1392  Research & Development   \n4      27        No      Travel_Rarely        591  Research & Development   \n...   ...       ...                ...        ...                     ...   \n1465   36        No  Travel_Frequently        884  Research & Development   \n1466   39        No      Travel_Rarely        613  Research & Development   \n1467   27        No      Travel_Rarely        155  Research & Development   \n1468   49        No  Travel_Frequently       1023                   Sales   \n1469   34        No      Travel_Rarely        628  Research & Development   \n\n      DistanceFromHome  Education EducationField  EmployeeCount  \\\n0                    1          2  Life Sciences              1   \n1                    8          1  Life Sciences              1   \n2                    2          2          Other              1   \n3                    3          4  Life Sciences              1   \n4                    2          1        Medical              1   \n...                ...        ...            ...            ...   \n1465                23          2        Medical              1   \n1466                 6          1        Medical              1   \n1467                 4          3  Life Sciences              1   \n1468                 2          3        Medical              1   \n1469                 8          3        Medical              1   \n\n      EmployeeNumber  ...  RelationshipSatisfaction StandardHours  \\\n0                1.0  ...                         1            80   \n1                2.0  ...                         4            80   \n2                4.0  ...                         2            80   \n3                5.0  ...                         3            80   \n4                7.0  ...                         4            80   \n...              ...  ...                       ...           ...   \n1465          2061.0  ...                         3            80   \n1466          2062.0  ...                         1            80   \n1467          2064.0  ...                         2            80   \n1468          2065.0  ...                         4            80   \n1469          2068.0  ...                         1            80   \n\n      StockOptionLevel  TotalWorkingYears  TrainingTimesLastYear  \\\n0                    0                  8                      0   \n1                    1                 10                      3   \n2                    0                  7                      3   \n3                    0                  8                      3   \n4                    1                  6                      3   \n...                ...                ...                    ...   \n1465                 1                 17                      3   \n1466                 1                  9                      5   \n1467                 1                  6                      0   \n1468                 0                 17                      3   \n1469                 0                  6                      3   \n\n     WorkLifeBalance  YearsAtCompany YearsInCurrentRole  \\\n0                  1               6                  4   \n1                  3              10                  7   \n2                  3               0                  0   \n3                  3               8                  7   \n4                  3               2                  2   \n...              ...             ...                ...   \n1465               3               5                  2   \n1466               3               7                  7   \n1467               3               6                  2   \n1468               2               9                  6   \n1469               4               4                  3   \n\n      YearsSinceLastPromotion  YearsWithCurrManager  \n0                           0                     5  \n1                           1                     7  \n2                           0                     0  \n3                           3                     0  \n4                           2                     2  \n...                       ...                   ...  \n1465                        0                     3  \n1466                        1                     7  \n1467                        0                     3  \n1468                        0                     8  \n1469                        1                     2  \n\n[1470 rows x 35 columns]",
      "text/html": "<div>\n<style scoped>\n    .dataframe tbody tr th:only-of-type {\n        vertical-align: middle;\n    }\n\n    .dataframe tbody tr th {\n        vertical-align: top;\n    }\n\n    .dataframe thead th {\n        text-align: right;\n    }\n</style>\n<table border=\"1\" class=\"dataframe\">\n  <thead>\n    <tr style=\"text-align: right;\">\n      <th></th>\n      <th>Age</th>\n      <th>Attrition</th>\n      <th>BusinessTravel</th>\n      <th>DailyRate</th>\n      <th>Department</th>\n      <th>DistanceFromHome</th>\n      <th>Education</th>\n      <th>EducationField</th>\n      <th>EmployeeCount</th>\n      <th>EmployeeNumber</th>\n      <th>...</th>\n      <th>RelationshipSatisfaction</th>\n      <th>StandardHours</th>\n      <th>StockOptionLevel</th>\n      <th>TotalWorkingYears</th>\n      <th>TrainingTimesLastYear</th>\n      <th>WorkLifeBalance</th>\n      <th>YearsAtCompany</th>\n      <th>YearsInCurrentRole</th>\n      <th>YearsSinceLastPromotion</th>\n      <th>YearsWithCurrManager</th>\n    </tr>\n  </thead>\n  <tbody>\n    <tr>\n      <th>0</th>\n      <td>41</td>\n      <td>Yes</td>\n      <td>Travel_Rarely</td>\n      <td>1102</td>\n      <td>Sales</td>\n      <td>1</td>\n      <td>2</td>\n      <td>Life Sciences</td>\n      <td>1</td>\n      <td>1.0</td>\n      <td>...</td>\n      <td>1</td>\n      <td>80</td>\n      <td>0</td>\n      <td>8</td>\n      <td>0</td>\n      <td>1</td>\n      <td>6</td>\n      <td>4</td>\n      <td>0</td>\n      <td>5</td>\n    </tr>\n    <tr>\n      <th>1</th>\n      <td>49</td>\n      <td>No</td>\n      <td>Travel_Frequently</td>\n      <td>279</td>\n      <td>Research &amp; Development</td>\n      <td>8</td>\n      <td>1</td>\n      <td>Life Sciences</td>\n      <td>1</td>\n      <td>2.0</td>\n      <td>...</td>\n      <td>4</td>\n      <td>80</td>\n      <td>1</td>\n      <td>10</td>\n      <td>3</td>\n      <td>3</td>\n      <td>10</td>\n      <td>7</td>\n      <td>1</td>\n      <td>7</td>\n    </tr>\n    <tr>\n      <th>2</th>\n      <td>37</td>\n      <td>Yes</td>\n      <td>Travel_Rarely</td>\n      <td>1373</td>\n      <td>Research &amp; Development</td>\n      <td>2</td>\n      <td>2</td>\n      <td>Other</td>\n      <td>1</td>\n      <td>4.0</td>\n      <td>...</td>\n      <td>2</td>\n      <td>80</td>\n      <td>0</td>\n      <td>7</td>\n      <td>3</td>\n      <td>3</td>\n      <td>0</td>\n      <td>0</td>\n      <td>0</td>\n      <td>0</td>\n    </tr>\n    <tr>\n      <th>3</th>\n      <td>33</td>\n      <td>No</td>\n      <td>Travel_Frequently</td>\n      <td>1392</td>\n      <td>Research &amp; Development</td>\n      <td>3</td>\n      <td>4</td>\n      <td>Life Sciences</td>\n      <td>1</td>\n      <td>5.0</td>\n      <td>...</td>\n      <td>3</td>\n      <td>80</td>\n      <td>0</td>\n      <td>8</td>\n      <td>3</td>\n      <td>3</td>\n      <td>8</td>\n      <td>7</td>\n      <td>3</td>\n      <td>0</td>\n    </tr>\n    <tr>\n      <th>4</th>\n      <td>27</td>\n      <td>No</td>\n      <td>Travel_Rarely</td>\n      <td>591</td>\n      <td>Research &amp; Development</td>\n      <td>2</td>\n      <td>1</td>\n      <td>Medical</td>\n      <td>1</td>\n      <td>7.0</td>\n      <td>...</td>\n      <td>4</td>\n      <td>80</td>\n      <td>1</td>\n      <td>6</td>\n      <td>3</td>\n      <td>3</td>\n      <td>2</td>\n      <td>2</td>\n      <td>2</td>\n      <td>2</td>\n    </tr>\n    <tr>\n      <th>...</th>\n      <td>...</td>\n      <td>...</td>\n      <td>...</td>\n      <td>...</td>\n      <td>...</td>\n      <td>...</td>\n      <td>...</td>\n      <td>...</td>\n      <td>...</td>\n      <td>...</td>\n      <td>...</td>\n      <td>...</td>\n      <td>...</td>\n      <td>...</td>\n      <td>...</td>\n      <td>...</td>\n      <td>...</td>\n      <td>...</td>\n      <td>...</td>\n      <td>...</td>\n      <td>...</td>\n    </tr>\n    <tr>\n      <th>1465</th>\n      <td>36</td>\n      <td>No</td>\n      <td>Travel_Frequently</td>\n      <td>884</td>\n      <td>Research &amp; Development</td>\n      <td>23</td>\n      <td>2</td>\n      <td>Medical</td>\n      <td>1</td>\n      <td>2061.0</td>\n      <td>...</td>\n      <td>3</td>\n      <td>80</td>\n      <td>1</td>\n      <td>17</td>\n      <td>3</td>\n      <td>3</td>\n      <td>5</td>\n      <td>2</td>\n      <td>0</td>\n      <td>3</td>\n    </tr>\n    <tr>\n      <th>1466</th>\n      <td>39</td>\n      <td>No</td>\n      <td>Travel_Rarely</td>\n      <td>613</td>\n      <td>Research &amp; Development</td>\n      <td>6</td>\n      <td>1</td>\n      <td>Medical</td>\n      <td>1</td>\n      <td>2062.0</td>\n      <td>...</td>\n      <td>1</td>\n      <td>80</td>\n      <td>1</td>\n      <td>9</td>\n      <td>5</td>\n      <td>3</td>\n      <td>7</td>\n      <td>7</td>\n      <td>1</td>\n      <td>7</td>\n    </tr>\n    <tr>\n      <th>1467</th>\n      <td>27</td>\n      <td>No</td>\n      <td>Travel_Rarely</td>\n      <td>155</td>\n      <td>Research &amp; Development</td>\n      <td>4</td>\n      <td>3</td>\n      <td>Life Sciences</td>\n      <td>1</td>\n      <td>2064.0</td>\n      <td>...</td>\n      <td>2</td>\n      <td>80</td>\n      <td>1</td>\n      <td>6</td>\n      <td>0</td>\n      <td>3</td>\n      <td>6</td>\n      <td>2</td>\n      <td>0</td>\n      <td>3</td>\n    </tr>\n    <tr>\n      <th>1468</th>\n      <td>49</td>\n      <td>No</td>\n      <td>Travel_Frequently</td>\n      <td>1023</td>\n      <td>Sales</td>\n      <td>2</td>\n      <td>3</td>\n      <td>Medical</td>\n      <td>1</td>\n      <td>2065.0</td>\n      <td>...</td>\n      <td>4</td>\n      <td>80</td>\n      <td>0</td>\n      <td>17</td>\n      <td>3</td>\n      <td>2</td>\n      <td>9</td>\n      <td>6</td>\n      <td>0</td>\n      <td>8</td>\n    </tr>\n    <tr>\n      <th>1469</th>\n      <td>34</td>\n      <td>No</td>\n      <td>Travel_Rarely</td>\n      <td>628</td>\n      <td>Research &amp; Development</td>\n      <td>8</td>\n      <td>3</td>\n      <td>Medical</td>\n      <td>1</td>\n      <td>2068.0</td>\n      <td>...</td>\n      <td>1</td>\n      <td>80</td>\n      <td>0</td>\n      <td>6</td>\n      <td>3</td>\n      <td>4</td>\n      <td>4</td>\n      <td>3</td>\n      <td>1</td>\n      <td>2</td>\n    </tr>\n  </tbody>\n</table>\n<p>1470 rows × 35 columns</p>\n</div>"
     },
     "execution_count": 228,
     "metadata": {},
     "output_type": "execute_result"
    }
   ]
  },
  {
   "cell_type": "code",
   "metadata": {
    "id": "b3k1KMgH4Fxt",
    "ExecuteTime": {
     "end_time": "2024-01-09T12:10:03.764468Z",
     "start_time": "2024-01-09T12:10:03.619799Z"
    }
   },
   "source": [
    "employee_df.info()"
   ],
   "execution_count": 229,
   "outputs": [
    {
     "name": "stdout",
     "output_type": "stream",
     "text": [
      "<class 'pandas.core.frame.DataFrame'>\n",
      "RangeIndex: 1470 entries, 0 to 1469\n",
      "Data columns (total 35 columns):\n",
      " #   Column                    Non-Null Count  Dtype  \n",
      "---  ------                    --------------  -----  \n",
      " 0   Age                       1470 non-null   int64  \n",
      " 1   Attrition                 1470 non-null   object \n",
      " 2   BusinessTravel            1470 non-null   object \n",
      " 3   DailyRate                 1470 non-null   int64  \n",
      " 4   Department                1469 non-null   object \n",
      " 5   DistanceFromHome          1470 non-null   int64  \n",
      " 6   Education                 1470 non-null   int64  \n",
      " 7   EducationField            1469 non-null   object \n",
      " 8   EmployeeCount             1470 non-null   int64  \n",
      " 9   EmployeeNumber            1469 non-null   float64\n",
      " 10  EnvironmentSatisfaction   1470 non-null   int64  \n",
      " 11  Gender                    1469 non-null   object \n",
      " 12  HourlyRate                1470 non-null   int64  \n",
      " 13  JobInvolvement            1470 non-null   int64  \n",
      " 14  JobLevel                  1470 non-null   int64  \n",
      " 15  JobRole                   1469 non-null   object \n",
      " 16  JobSatisfaction           1470 non-null   int64  \n",
      " 17  MaritalStatus             1469 non-null   object \n",
      " 18  MonthlyIncome             1467 non-null   float64\n",
      " 19  MonthlyRate               1468 non-null   float64\n",
      " 20  NumCompaniesWorked        1470 non-null   int64  \n",
      " 21  Over18                    1470 non-null   object \n",
      " 22  OverTime                  1470 non-null   object \n",
      " 23  PercentSalaryHike         1469 non-null   float64\n",
      " 24  PerformanceRating         1469 non-null   float64\n",
      " 25  RelationshipSatisfaction  1470 non-null   int64  \n",
      " 26  StandardHours             1470 non-null   int64  \n",
      " 27  StockOptionLevel          1470 non-null   int64  \n",
      " 28  TotalWorkingYears         1470 non-null   int64  \n",
      " 29  TrainingTimesLastYear     1470 non-null   int64  \n",
      " 30  WorkLifeBalance           1470 non-null   int64  \n",
      " 31  YearsAtCompany            1470 non-null   int64  \n",
      " 32  YearsInCurrentRole        1470 non-null   int64  \n",
      " 33  YearsSinceLastPromotion   1470 non-null   int64  \n",
      " 34  YearsWithCurrManager      1470 non-null   int64  \n",
      "dtypes: float64(5), int64(21), object(9)\n",
      "memory usage: 402.1+ KB\n"
     ]
    }
   ]
  },
  {
   "cell_type": "code",
   "metadata": {
    "id": "4mIg4O554X1l",
    "ExecuteTime": {
     "end_time": "2024-01-09T12:13:26.769915Z",
     "start_time": "2024-01-09T12:13:26.608532Z"
    }
   },
   "source": [
    "# Let's convert the hourly rate from int64 to float64\n",
    "employee_df['HourlyRate'] = employee_df['HourlyRate'].astype('float64')\n",
    "employee_df.info()"
   ],
   "execution_count": 230,
   "outputs": [
    {
     "name": "stdout",
     "output_type": "stream",
     "text": [
      "<class 'pandas.core.frame.DataFrame'>\n",
      "RangeIndex: 1470 entries, 0 to 1469\n",
      "Data columns (total 35 columns):\n",
      " #   Column                    Non-Null Count  Dtype  \n",
      "---  ------                    --------------  -----  \n",
      " 0   Age                       1470 non-null   int64  \n",
      " 1   Attrition                 1470 non-null   object \n",
      " 2   BusinessTravel            1470 non-null   object \n",
      " 3   DailyRate                 1470 non-null   int64  \n",
      " 4   Department                1469 non-null   object \n",
      " 5   DistanceFromHome          1470 non-null   int64  \n",
      " 6   Education                 1470 non-null   int64  \n",
      " 7   EducationField            1469 non-null   object \n",
      " 8   EmployeeCount             1470 non-null   int64  \n",
      " 9   EmployeeNumber            1469 non-null   float64\n",
      " 10  EnvironmentSatisfaction   1470 non-null   int64  \n",
      " 11  Gender                    1469 non-null   object \n",
      " 12  HourlyRate                1470 non-null   float64\n",
      " 13  JobInvolvement            1470 non-null   int64  \n",
      " 14  JobLevel                  1470 non-null   int64  \n",
      " 15  JobRole                   1469 non-null   object \n",
      " 16  JobSatisfaction           1470 non-null   int64  \n",
      " 17  MaritalStatus             1469 non-null   object \n",
      " 18  MonthlyIncome             1467 non-null   float64\n",
      " 19  MonthlyRate               1468 non-null   float64\n",
      " 20  NumCompaniesWorked        1470 non-null   int64  \n",
      " 21  Over18                    1470 non-null   object \n",
      " 22  OverTime                  1470 non-null   object \n",
      " 23  PercentSalaryHike         1469 non-null   float64\n",
      " 24  PerformanceRating         1469 non-null   float64\n",
      " 25  RelationshipSatisfaction  1470 non-null   int64  \n",
      " 26  StandardHours             1470 non-null   int64  \n",
      " 27  StockOptionLevel          1470 non-null   int64  \n",
      " 28  TotalWorkingYears         1470 non-null   int64  \n",
      " 29  TrainingTimesLastYear     1470 non-null   int64  \n",
      " 30  WorkLifeBalance           1470 non-null   int64  \n",
      " 31  YearsAtCompany            1470 non-null   int64  \n",
      " 32  YearsInCurrentRole        1470 non-null   int64  \n",
      " 33  YearsSinceLastPromotion   1470 non-null   int64  \n",
      " 34  YearsWithCurrManager      1470 non-null   int64  \n",
      "dtypes: float64(6), int64(20), object(9)\n",
      "memory usage: 402.1+ KB\n"
     ]
    }
   ]
  },
  {
   "cell_type": "code",
   "metadata": {
    "id": "i_WSxksc4X3t",
    "ExecuteTime": {
     "end_time": "2024-01-09T12:15:46.400985Z",
     "start_time": "2024-01-09T12:15:46.275340Z"
    }
   },
   "source": [
    "# Since we have limited number of classes, we can use the categrory datatype\n",
    "# check the memory usage with the info method to ensure that the size has been reduced\n",
    "employee_df['PerformanceRating'] = employee_df['PerformanceRating'].astype('category')\n",
    "employee_df['RelationshipSatisfaction'] = employee_df['RelationshipSatisfaction'].astype('category')\n"
   ],
   "execution_count": 231,
   "outputs": []
  },
  {
   "cell_type": "code",
   "metadata": {
    "id": "j34VJr6J4X50",
    "ExecuteTime": {
     "end_time": "2024-01-09T12:15:53.772135Z",
     "start_time": "2024-01-09T12:15:53.577648Z"
    }
   },
   "source": [
    "# Notice the reduction in size\n",
    "employee_df.info()"
   ],
   "execution_count": 232,
   "outputs": [
    {
     "name": "stdout",
     "output_type": "stream",
     "text": [
      "<class 'pandas.core.frame.DataFrame'>\n",
      "RangeIndex: 1470 entries, 0 to 1469\n",
      "Data columns (total 35 columns):\n",
      " #   Column                    Non-Null Count  Dtype   \n",
      "---  ------                    --------------  -----   \n",
      " 0   Age                       1470 non-null   int64   \n",
      " 1   Attrition                 1470 non-null   object  \n",
      " 2   BusinessTravel            1470 non-null   object  \n",
      " 3   DailyRate                 1470 non-null   int64   \n",
      " 4   Department                1469 non-null   object  \n",
      " 5   DistanceFromHome          1470 non-null   int64   \n",
      " 6   Education                 1470 non-null   int64   \n",
      " 7   EducationField            1469 non-null   object  \n",
      " 8   EmployeeCount             1470 non-null   int64   \n",
      " 9   EmployeeNumber            1469 non-null   float64 \n",
      " 10  EnvironmentSatisfaction   1470 non-null   int64   \n",
      " 11  Gender                    1469 non-null   object  \n",
      " 12  HourlyRate                1470 non-null   float64 \n",
      " 13  JobInvolvement            1470 non-null   int64   \n",
      " 14  JobLevel                  1470 non-null   int64   \n",
      " 15  JobRole                   1469 non-null   object  \n",
      " 16  JobSatisfaction           1470 non-null   int64   \n",
      " 17  MaritalStatus             1469 non-null   object  \n",
      " 18  MonthlyIncome             1467 non-null   float64 \n",
      " 19  MonthlyRate               1468 non-null   float64 \n",
      " 20  NumCompaniesWorked        1470 non-null   int64   \n",
      " 21  Over18                    1470 non-null   object  \n",
      " 22  OverTime                  1470 non-null   object  \n",
      " 23  PercentSalaryHike         1469 non-null   float64 \n",
      " 24  PerformanceRating         1469 non-null   category\n",
      " 25  RelationshipSatisfaction  1470 non-null   category\n",
      " 26  StandardHours             1470 non-null   int64   \n",
      " 27  StockOptionLevel          1470 non-null   int64   \n",
      " 28  TotalWorkingYears         1470 non-null   int64   \n",
      " 29  TrainingTimesLastYear     1470 non-null   int64   \n",
      " 30  WorkLifeBalance           1470 non-null   int64   \n",
      " 31  YearsAtCompany            1470 non-null   int64   \n",
      " 32  YearsInCurrentRole        1470 non-null   int64   \n",
      " 33  YearsSinceLastPromotion   1470 non-null   int64   \n",
      " 34  YearsWithCurrManager      1470 non-null   int64   \n",
      "dtypes: category(2), float64(5), int64(19), object(9)\n",
      "memory usage: 382.3+ KB\n"
     ]
    }
   ]
  },
  {
   "cell_type": "markdown",
   "metadata": {
    "id": "VIDPhrVoFEdL"
   },
   "source": [
    "**MINI CHALLENGE #14:**\n",
    "- **Convert the BusinessTravel column to category format.** \n",
    "- **How many KBytes in memory have been saved?**"
   ]
  },
  {
   "cell_type": "code",
   "metadata": {
    "id": "cyf8Z4-kFI9X",
    "ExecuteTime": {
     "end_time": "2024-01-08T11:51:25.040048Z",
     "start_time": "2024-01-08T11:51:24.968986Z"
    }
   },
   "source": [],
   "execution_count": 92,
   "outputs": []
  },
  {
   "cell_type": "code",
   "metadata": {
    "id": "u9yikByfFJCp",
    "ExecuteTime": {
     "end_time": "2024-01-08T11:51:25.195090Z",
     "start_time": "2024-01-08T11:51:25.039419Z"
    }
   },
   "source": [],
   "execution_count": 92,
   "outputs": []
  },
  {
   "cell_type": "markdown",
   "metadata": {
    "id": "i1gJS3K7vlxd"
   },
   "source": [
    "# EXCELLENT JOB!"
   ]
  },
  {
   "cell_type": "markdown",
   "metadata": {
    "id": "MF2SdJZ_vn4z"
   },
   "source": [
    "# MINI CHALLENGE SOLUTIONS"
   ]
  },
  {
   "cell_type": "markdown",
   "metadata": {
    "id": "Y6fUsXPv1Wom"
   },
   "source": [
    "**MINI CHALLENGE #1 SOLUTION:**\n",
    "- **A porfolio contains a collection of securities such as stocks, bonds and ETFs. Define a dataframe named 'portfolio_df' that holds 3 different stock ticker symbols, number of shares, and price per share (feel free to choose any stocks)**\n",
    "- **Calculate the total value of the porfolio including all stocks**"
   ]
  },
  {
   "cell_type": "code",
   "metadata": {
    "id": "8pftwyY81Wos",
    "ExecuteTime": {
     "end_time": "2024-01-08T11:51:25.324776Z",
     "start_time": "2024-01-08T11:51:25.182031Z"
    }
   },
   "source": [
    "portfolio_df = pd.DataFrame({'stock ticker symbols': ['AAPL', 'AMZN', 'T'],\n",
    "                             'price per share [$]': [3500, 200, 40],\n",
    "                             'Number of stocks': [3, 4, 9]})\n",
    "portfolio_df"
   ],
   "execution_count": 93,
   "outputs": [
    {
     "data": {
      "text/plain": "  stock ticker symbols  price per share [$]  Number of stocks\n0                 AAPL                 3500                 3\n1                 AMZN                  200                 4\n2                    T                   40                 9",
      "text/html": "<div>\n<style scoped>\n    .dataframe tbody tr th:only-of-type {\n        vertical-align: middle;\n    }\n\n    .dataframe tbody tr th {\n        vertical-align: top;\n    }\n\n    .dataframe thead th {\n        text-align: right;\n    }\n</style>\n<table border=\"1\" class=\"dataframe\">\n  <thead>\n    <tr style=\"text-align: right;\">\n      <th></th>\n      <th>stock ticker symbols</th>\n      <th>price per share [$]</th>\n      <th>Number of stocks</th>\n    </tr>\n  </thead>\n  <tbody>\n    <tr>\n      <th>0</th>\n      <td>AAPL</td>\n      <td>3500</td>\n      <td>3</td>\n    </tr>\n    <tr>\n      <th>1</th>\n      <td>AMZN</td>\n      <td>200</td>\n      <td>4</td>\n    </tr>\n    <tr>\n      <th>2</th>\n      <td>T</td>\n      <td>40</td>\n      <td>9</td>\n    </tr>\n  </tbody>\n</table>\n</div>"
     },
     "execution_count": 93,
     "metadata": {},
     "output_type": "execute_result"
    }
   ]
  },
  {
   "cell_type": "code",
   "metadata": {
    "id": "zTgj_BoE1Woy",
    "ExecuteTime": {
     "end_time": "2024-01-08T11:51:25.487978Z",
     "start_time": "2024-01-08T11:51:25.320614Z"
    }
   },
   "source": [
    "stocks_dollar_value = portfolio_df['price per share [$]'] * portfolio_df['Number of stocks']\n",
    "print(stocks_dollar_value)"
   ],
   "execution_count": 94,
   "outputs": [
    {
     "name": "stdout",
     "output_type": "stream",
     "text": [
      "0    10500\n",
      "1      800\n",
      "2      360\n",
      "dtype: int64\n"
     ]
    }
   ]
  },
  {
   "cell_type": "code",
   "metadata": {
    "id": "bzC7aM1EpMoy",
    "ExecuteTime": {
     "end_time": "2024-01-08T11:51:25.600799Z",
     "start_time": "2024-01-08T11:51:25.470830Z"
    }
   },
   "source": [
    "print('Total portfolio value = {}'.format(stocks_dollar_value.sum()))"
   ],
   "execution_count": 95,
   "outputs": [
    {
     "name": "stdout",
     "output_type": "stream",
     "text": [
      "Total portfolio value = 11660\n"
     ]
    }
   ]
  },
  {
   "cell_type": "markdown",
   "metadata": {
    "id": "5YQ1rFW723fN"
   },
   "source": [
    "**MINI CHALLENGE #2 SOLUTION:**\n",
    "- **Write a code that uses Pandas to read tabular US retirement data**\n",
    "- **You can use data from here: https://www.ssa.gov/oact/progdata/nra.html** "
   ]
  },
  {
   "cell_type": "code",
   "metadata": {
    "id": "mmWTN7yD23fQ",
    "ExecuteTime": {
     "end_time": "2024-01-08T11:51:25.896554Z",
     "start_time": "2024-01-08T11:51:25.586151Z"
    }
   },
   "source": [
    "# Read tabular data using read_html\n",
    "retirement_age_df = pd.read_html('https://www.ssa.gov/oact/progdata/nra.html')\n",
    "retirement_age_df"
   ],
   "execution_count": 96,
   "outputs": [
    {
     "data": {
      "text/plain": "[                                        Year of birth  \\\n 0                                      1937 and prior   \n 1                                                1938   \n 2                                                1939   \n 3                                                1940   \n 4                                                1941   \n 5                                                1942   \n 6                                             1943-54   \n 7                                                1955   \n 8                                                1956   \n 9                                                1957   \n 10                                               1958   \n 11                                               1959   \n 12                                     1960 and later   \n 13  Notes: 1. Persons born on January 1 of any yea...   \n \n                                                   Age  \n 0                                                  65  \n 1                                     65 and 2 months  \n 2                                     65 and 4 months  \n 3                                     65 and 6 months  \n 4                                     65 and 8 months  \n 5                                    65 and 10 months  \n 6                                                  66  \n 7                                     66 and 2 months  \n 8                                     66 and 4 months  \n 9                                     66 and 6 months  \n 10                                    66 and 8 months  \n 11                                   66 and 10 months  \n 12                                                 67  \n 13  Notes: 1. Persons born on January 1 of any yea...  ]"
     },
     "execution_count": 96,
     "metadata": {},
     "output_type": "execute_result"
    }
   ]
  },
  {
   "cell_type": "code",
   "metadata": {
    "id": "BGK-MDB6r8x_",
    "ExecuteTime": {
     "end_time": "2024-01-08T11:51:25.983011Z",
     "start_time": "2024-01-08T11:51:25.847332Z"
    }
   },
   "source": [],
   "execution_count": 96,
   "outputs": []
  },
  {
   "cell_type": "markdown",
   "metadata": {
    "id": "bfv3kZNDqYUr"
   },
   "source": [
    "**MINI CHALLENGE #3 SOLUTION:**\n",
    "- **Use set index = False and rerun the cell. Comment on the output CSV.**\n",
    "- **Try to leverage the attribute compression and rerun the cell**"
   ]
  },
  {
   "cell_type": "code",
   "metadata": {
    "id": "WFoOPpKwrtSe",
    "ExecuteTime": {
     "end_time": "2024-01-08T11:51:26.189003Z",
     "start_time": "2024-01-08T11:51:25.972957Z"
    }
   },
   "source": [
    "# write to a csv file without an index\n",
    "bank_df.to_csv('sample_output_noindex.csv', index=False)"
   ],
   "execution_count": 97,
   "outputs": []
  },
  {
   "cell_type": "code",
   "metadata": {
    "id": "Xbhgb5EYxR3o",
    "ExecuteTime": {
     "end_time": "2024-01-08T11:51:26.306248Z",
     "start_time": "2024-01-08T11:51:26.175528Z"
    }
   },
   "source": [
    "# write to a csv file with an index + gzip Compression\n",
    "bank_df.to_csv('sample_output_noindex.csv.gz', index=False, compression='gzip')"
   ],
   "execution_count": 98,
   "outputs": []
  },
  {
   "cell_type": "code",
   "metadata": {
    "id": "jUB-jDZutE72",
    "ExecuteTime": {
     "end_time": "2024-01-08T11:51:26.429339Z",
     "start_time": "2024-01-08T11:51:26.280926Z"
    }
   },
   "source": [],
   "execution_count": 98,
   "outputs": []
  },
  {
   "cell_type": "markdown",
   "metadata": {
    "id": "VS454-0PsTMj"
   },
   "source": [
    "**MINI CHALLENGE #4 SOLUTION:**\n",
    "- **Load the bank_client_information.csv and then set the \"Last Name\" column as the index**"
   ]
  },
  {
   "cell_type": "code",
   "metadata": {
    "id": "-h9TefREskjH",
    "ExecuteTime": {
     "end_time": "2024-01-08T11:51:26.821113Z",
     "start_time": "2024-01-08T11:51:26.412534Z"
    }
   },
   "source": [
    "bank_df = pd.read_csv('bank_client_information.csv')\n",
    "bank_df"
   ],
   "execution_count": 99,
   "outputs": [
    {
     "ename": "FileNotFoundError",
     "evalue": "[Errno 2] No such file or directory: 'bank_client_information.csv'",
     "output_type": "error",
     "traceback": [
      "\u001B[0;31m---------------------------------------------------------------------------\u001B[0m",
      "\u001B[0;31mFileNotFoundError\u001B[0m                         Traceback (most recent call last)",
      "Cell \u001B[0;32mIn[99], line 1\u001B[0m\n\u001B[0;32m----> 1\u001B[0m bank_df \u001B[38;5;241m=\u001B[39m pd\u001B[38;5;241m.\u001B[39mread_csv(\u001B[38;5;124m'\u001B[39m\u001B[38;5;124mbank_client_information.csv\u001B[39m\u001B[38;5;124m'\u001B[39m)\n\u001B[1;32m      2\u001B[0m bank_df\n",
      "File \u001B[0;32m~/anaconda3/lib/python3.11/site-packages/pandas/io/parsers/readers.py:912\u001B[0m, in \u001B[0;36mread_csv\u001B[0;34m(filepath_or_buffer, sep, delimiter, header, names, index_col, usecols, dtype, engine, converters, true_values, false_values, skipinitialspace, skiprows, skipfooter, nrows, na_values, keep_default_na, na_filter, verbose, skip_blank_lines, parse_dates, infer_datetime_format, keep_date_col, date_parser, date_format, dayfirst, cache_dates, iterator, chunksize, compression, thousands, decimal, lineterminator, quotechar, quoting, doublequote, escapechar, comment, encoding, encoding_errors, dialect, on_bad_lines, delim_whitespace, low_memory, memory_map, float_precision, storage_options, dtype_backend)\u001B[0m\n\u001B[1;32m    899\u001B[0m kwds_defaults \u001B[38;5;241m=\u001B[39m _refine_defaults_read(\n\u001B[1;32m    900\u001B[0m     dialect,\n\u001B[1;32m    901\u001B[0m     delimiter,\n\u001B[0;32m   (...)\u001B[0m\n\u001B[1;32m    908\u001B[0m     dtype_backend\u001B[38;5;241m=\u001B[39mdtype_backend,\n\u001B[1;32m    909\u001B[0m )\n\u001B[1;32m    910\u001B[0m kwds\u001B[38;5;241m.\u001B[39mupdate(kwds_defaults)\n\u001B[0;32m--> 912\u001B[0m \u001B[38;5;28;01mreturn\u001B[39;00m _read(filepath_or_buffer, kwds)\n",
      "File \u001B[0;32m~/anaconda3/lib/python3.11/site-packages/pandas/io/parsers/readers.py:577\u001B[0m, in \u001B[0;36m_read\u001B[0;34m(filepath_or_buffer, kwds)\u001B[0m\n\u001B[1;32m    574\u001B[0m _validate_names(kwds\u001B[38;5;241m.\u001B[39mget(\u001B[38;5;124m\"\u001B[39m\u001B[38;5;124mnames\u001B[39m\u001B[38;5;124m\"\u001B[39m, \u001B[38;5;28;01mNone\u001B[39;00m))\n\u001B[1;32m    576\u001B[0m \u001B[38;5;66;03m# Create the parser.\u001B[39;00m\n\u001B[0;32m--> 577\u001B[0m parser \u001B[38;5;241m=\u001B[39m TextFileReader(filepath_or_buffer, \u001B[38;5;241m*\u001B[39m\u001B[38;5;241m*\u001B[39mkwds)\n\u001B[1;32m    579\u001B[0m \u001B[38;5;28;01mif\u001B[39;00m chunksize \u001B[38;5;129;01mor\u001B[39;00m iterator:\n\u001B[1;32m    580\u001B[0m     \u001B[38;5;28;01mreturn\u001B[39;00m parser\n",
      "File \u001B[0;32m~/anaconda3/lib/python3.11/site-packages/pandas/io/parsers/readers.py:1407\u001B[0m, in \u001B[0;36mTextFileReader.__init__\u001B[0;34m(self, f, engine, **kwds)\u001B[0m\n\u001B[1;32m   1404\u001B[0m     \u001B[38;5;28mself\u001B[39m\u001B[38;5;241m.\u001B[39moptions[\u001B[38;5;124m\"\u001B[39m\u001B[38;5;124mhas_index_names\u001B[39m\u001B[38;5;124m\"\u001B[39m] \u001B[38;5;241m=\u001B[39m kwds[\u001B[38;5;124m\"\u001B[39m\u001B[38;5;124mhas_index_names\u001B[39m\u001B[38;5;124m\"\u001B[39m]\n\u001B[1;32m   1406\u001B[0m \u001B[38;5;28mself\u001B[39m\u001B[38;5;241m.\u001B[39mhandles: IOHandles \u001B[38;5;241m|\u001B[39m \u001B[38;5;28;01mNone\u001B[39;00m \u001B[38;5;241m=\u001B[39m \u001B[38;5;28;01mNone\u001B[39;00m\n\u001B[0;32m-> 1407\u001B[0m \u001B[38;5;28mself\u001B[39m\u001B[38;5;241m.\u001B[39m_engine \u001B[38;5;241m=\u001B[39m \u001B[38;5;28mself\u001B[39m\u001B[38;5;241m.\u001B[39m_make_engine(f, \u001B[38;5;28mself\u001B[39m\u001B[38;5;241m.\u001B[39mengine)\n",
      "File \u001B[0;32m~/anaconda3/lib/python3.11/site-packages/pandas/io/parsers/readers.py:1661\u001B[0m, in \u001B[0;36mTextFileReader._make_engine\u001B[0;34m(self, f, engine)\u001B[0m\n\u001B[1;32m   1659\u001B[0m     \u001B[38;5;28;01mif\u001B[39;00m \u001B[38;5;124m\"\u001B[39m\u001B[38;5;124mb\u001B[39m\u001B[38;5;124m\"\u001B[39m \u001B[38;5;129;01mnot\u001B[39;00m \u001B[38;5;129;01min\u001B[39;00m mode:\n\u001B[1;32m   1660\u001B[0m         mode \u001B[38;5;241m+\u001B[39m\u001B[38;5;241m=\u001B[39m \u001B[38;5;124m\"\u001B[39m\u001B[38;5;124mb\u001B[39m\u001B[38;5;124m\"\u001B[39m\n\u001B[0;32m-> 1661\u001B[0m \u001B[38;5;28mself\u001B[39m\u001B[38;5;241m.\u001B[39mhandles \u001B[38;5;241m=\u001B[39m get_handle(\n\u001B[1;32m   1662\u001B[0m     f,\n\u001B[1;32m   1663\u001B[0m     mode,\n\u001B[1;32m   1664\u001B[0m     encoding\u001B[38;5;241m=\u001B[39m\u001B[38;5;28mself\u001B[39m\u001B[38;5;241m.\u001B[39moptions\u001B[38;5;241m.\u001B[39mget(\u001B[38;5;124m\"\u001B[39m\u001B[38;5;124mencoding\u001B[39m\u001B[38;5;124m\"\u001B[39m, \u001B[38;5;28;01mNone\u001B[39;00m),\n\u001B[1;32m   1665\u001B[0m     compression\u001B[38;5;241m=\u001B[39m\u001B[38;5;28mself\u001B[39m\u001B[38;5;241m.\u001B[39moptions\u001B[38;5;241m.\u001B[39mget(\u001B[38;5;124m\"\u001B[39m\u001B[38;5;124mcompression\u001B[39m\u001B[38;5;124m\"\u001B[39m, \u001B[38;5;28;01mNone\u001B[39;00m),\n\u001B[1;32m   1666\u001B[0m     memory_map\u001B[38;5;241m=\u001B[39m\u001B[38;5;28mself\u001B[39m\u001B[38;5;241m.\u001B[39moptions\u001B[38;5;241m.\u001B[39mget(\u001B[38;5;124m\"\u001B[39m\u001B[38;5;124mmemory_map\u001B[39m\u001B[38;5;124m\"\u001B[39m, \u001B[38;5;28;01mFalse\u001B[39;00m),\n\u001B[1;32m   1667\u001B[0m     is_text\u001B[38;5;241m=\u001B[39mis_text,\n\u001B[1;32m   1668\u001B[0m     errors\u001B[38;5;241m=\u001B[39m\u001B[38;5;28mself\u001B[39m\u001B[38;5;241m.\u001B[39moptions\u001B[38;5;241m.\u001B[39mget(\u001B[38;5;124m\"\u001B[39m\u001B[38;5;124mencoding_errors\u001B[39m\u001B[38;5;124m\"\u001B[39m, \u001B[38;5;124m\"\u001B[39m\u001B[38;5;124mstrict\u001B[39m\u001B[38;5;124m\"\u001B[39m),\n\u001B[1;32m   1669\u001B[0m     storage_options\u001B[38;5;241m=\u001B[39m\u001B[38;5;28mself\u001B[39m\u001B[38;5;241m.\u001B[39moptions\u001B[38;5;241m.\u001B[39mget(\u001B[38;5;124m\"\u001B[39m\u001B[38;5;124mstorage_options\u001B[39m\u001B[38;5;124m\"\u001B[39m, \u001B[38;5;28;01mNone\u001B[39;00m),\n\u001B[1;32m   1670\u001B[0m )\n\u001B[1;32m   1671\u001B[0m \u001B[38;5;28;01massert\u001B[39;00m \u001B[38;5;28mself\u001B[39m\u001B[38;5;241m.\u001B[39mhandles \u001B[38;5;129;01mis\u001B[39;00m \u001B[38;5;129;01mnot\u001B[39;00m \u001B[38;5;28;01mNone\u001B[39;00m\n\u001B[1;32m   1672\u001B[0m f \u001B[38;5;241m=\u001B[39m \u001B[38;5;28mself\u001B[39m\u001B[38;5;241m.\u001B[39mhandles\u001B[38;5;241m.\u001B[39mhandle\n",
      "File \u001B[0;32m~/anaconda3/lib/python3.11/site-packages/pandas/io/common.py:859\u001B[0m, in \u001B[0;36mget_handle\u001B[0;34m(path_or_buf, mode, encoding, compression, memory_map, is_text, errors, storage_options)\u001B[0m\n\u001B[1;32m    854\u001B[0m \u001B[38;5;28;01melif\u001B[39;00m \u001B[38;5;28misinstance\u001B[39m(handle, \u001B[38;5;28mstr\u001B[39m):\n\u001B[1;32m    855\u001B[0m     \u001B[38;5;66;03m# Check whether the filename is to be opened in binary mode.\u001B[39;00m\n\u001B[1;32m    856\u001B[0m     \u001B[38;5;66;03m# Binary mode does not support 'encoding' and 'newline'.\u001B[39;00m\n\u001B[1;32m    857\u001B[0m     \u001B[38;5;28;01mif\u001B[39;00m ioargs\u001B[38;5;241m.\u001B[39mencoding \u001B[38;5;129;01mand\u001B[39;00m \u001B[38;5;124m\"\u001B[39m\u001B[38;5;124mb\u001B[39m\u001B[38;5;124m\"\u001B[39m \u001B[38;5;129;01mnot\u001B[39;00m \u001B[38;5;129;01min\u001B[39;00m ioargs\u001B[38;5;241m.\u001B[39mmode:\n\u001B[1;32m    858\u001B[0m         \u001B[38;5;66;03m# Encoding\u001B[39;00m\n\u001B[0;32m--> 859\u001B[0m         handle \u001B[38;5;241m=\u001B[39m \u001B[38;5;28mopen\u001B[39m(\n\u001B[1;32m    860\u001B[0m             handle,\n\u001B[1;32m    861\u001B[0m             ioargs\u001B[38;5;241m.\u001B[39mmode,\n\u001B[1;32m    862\u001B[0m             encoding\u001B[38;5;241m=\u001B[39mioargs\u001B[38;5;241m.\u001B[39mencoding,\n\u001B[1;32m    863\u001B[0m             errors\u001B[38;5;241m=\u001B[39merrors,\n\u001B[1;32m    864\u001B[0m             newline\u001B[38;5;241m=\u001B[39m\u001B[38;5;124m\"\u001B[39m\u001B[38;5;124m\"\u001B[39m,\n\u001B[1;32m    865\u001B[0m         )\n\u001B[1;32m    866\u001B[0m     \u001B[38;5;28;01melse\u001B[39;00m:\n\u001B[1;32m    867\u001B[0m         \u001B[38;5;66;03m# Binary mode\u001B[39;00m\n\u001B[1;32m    868\u001B[0m         handle \u001B[38;5;241m=\u001B[39m \u001B[38;5;28mopen\u001B[39m(handle, ioargs\u001B[38;5;241m.\u001B[39mmode)\n",
      "\u001B[0;31mFileNotFoundError\u001B[0m: [Errno 2] No such file or directory: 'bank_client_information.csv'"
     ]
    }
   ]
  },
  {
   "cell_type": "code",
   "metadata": {
    "id": "OFERUpzYshCR",
    "ExecuteTime": {
     "start_time": "2024-01-08T11:51:26.713440Z"
    }
   },
   "source": [
    "# You can assign a specific column to be the index as follows\n",
    "bank_df.set_index(\"Last Name\", inplace=True)\n",
    "bank_df"
   ],
   "execution_count": null,
   "outputs": []
  },
  {
   "cell_type": "code",
   "metadata": {
    "id": "ROKmCA7ntFB4",
    "ExecuteTime": {
     "start_time": "2024-01-08T11:51:26.714923Z"
    }
   },
   "source": [],
   "execution_count": null,
   "outputs": []
  },
  {
   "cell_type": "markdown",
   "metadata": {
    "id": "642g9mlnuRqA"
   },
   "source": [
    "**MINI CHALLENGE #5 SOLUTION:**\n",
    "- **Select the following columns from the dataFrame Net Worth, Years with Bank, and Postal Code**"
   ]
  },
  {
   "cell_type": "code",
   "metadata": {
    "id": "pfYiCdlxulaW",
    "ExecuteTime": {
     "start_time": "2024-01-08T11:51:26.716016Z"
    }
   },
   "source": [
    "my_selected_columns = ['Net Worth', 'Years with Bank', 'Postal Code']\n",
    "sample = bank_df[my_selected_columns]\n",
    "sample"
   ],
   "execution_count": null,
   "outputs": []
  },
  {
   "cell_type": "markdown",
   "metadata": {
    "id": "tAV4-2jfve8A"
   },
   "source": [
    "**MINI CHALLENGE #6 SOLUTION:**\n",
    "- **load the bank_client_information.csv file and perform the following: (assume any reasonable values)** \n",
    "    - **Add a column indicating whether the client has a mortgage or not**\n",
    "    - **Add a column indicating the value of mortage in dollars**  "
   ]
  },
  {
   "cell_type": "code",
   "metadata": {
    "id": "wq4haYfxwTkx",
    "ExecuteTime": {
     "end_time": "2024-01-08T11:51:28.563314Z",
     "start_time": "2024-01-08T11:51:26.832109Z"
    }
   },
   "source": [
    "# Pandas is used to read a csv file and store data in a DataFrame\n",
    "bank_df = pd.read_csv('bank_client_information.csv')\n",
    "bank_df\n",
    "\n",
    "# Let's assume that we want to add a new column to the dataframe\n",
    "bank_df['Has Mortage'] = [1, 1, 0, 0, 0, 0, 1, 0, 0, 0]\n",
    "bank_df['Mortage Value'] = [200000, 130000, 0, 0, 0, 0, 400000, 0, 0, 0]\n",
    "bank_df"
   ],
   "execution_count": 100,
   "outputs": [
    {
     "ename": "FileNotFoundError",
     "evalue": "[Errno 2] No such file or directory: 'bank_client_information.csv'",
     "output_type": "error",
     "traceback": [
      "\u001B[0;31m---------------------------------------------------------------------------\u001B[0m",
      "\u001B[0;31mFileNotFoundError\u001B[0m                         Traceback (most recent call last)",
      "Cell \u001B[0;32mIn[100], line 2\u001B[0m\n\u001B[1;32m      1\u001B[0m \u001B[38;5;66;03m# Pandas is used to read a csv file and store data in a DataFrame\u001B[39;00m\n\u001B[0;32m----> 2\u001B[0m bank_df \u001B[38;5;241m=\u001B[39m pd\u001B[38;5;241m.\u001B[39mread_csv(\u001B[38;5;124m'\u001B[39m\u001B[38;5;124mbank_client_information.csv\u001B[39m\u001B[38;5;124m'\u001B[39m)\n\u001B[1;32m      3\u001B[0m bank_df\n\u001B[1;32m      5\u001B[0m \u001B[38;5;66;03m# Let's assume that we want to add a new column to the dataframe\u001B[39;00m\n",
      "File \u001B[0;32m~/anaconda3/lib/python3.11/site-packages/pandas/io/parsers/readers.py:912\u001B[0m, in \u001B[0;36mread_csv\u001B[0;34m(filepath_or_buffer, sep, delimiter, header, names, index_col, usecols, dtype, engine, converters, true_values, false_values, skipinitialspace, skiprows, skipfooter, nrows, na_values, keep_default_na, na_filter, verbose, skip_blank_lines, parse_dates, infer_datetime_format, keep_date_col, date_parser, date_format, dayfirst, cache_dates, iterator, chunksize, compression, thousands, decimal, lineterminator, quotechar, quoting, doublequote, escapechar, comment, encoding, encoding_errors, dialect, on_bad_lines, delim_whitespace, low_memory, memory_map, float_precision, storage_options, dtype_backend)\u001B[0m\n\u001B[1;32m    899\u001B[0m kwds_defaults \u001B[38;5;241m=\u001B[39m _refine_defaults_read(\n\u001B[1;32m    900\u001B[0m     dialect,\n\u001B[1;32m    901\u001B[0m     delimiter,\n\u001B[0;32m   (...)\u001B[0m\n\u001B[1;32m    908\u001B[0m     dtype_backend\u001B[38;5;241m=\u001B[39mdtype_backend,\n\u001B[1;32m    909\u001B[0m )\n\u001B[1;32m    910\u001B[0m kwds\u001B[38;5;241m.\u001B[39mupdate(kwds_defaults)\n\u001B[0;32m--> 912\u001B[0m \u001B[38;5;28;01mreturn\u001B[39;00m _read(filepath_or_buffer, kwds)\n",
      "File \u001B[0;32m~/anaconda3/lib/python3.11/site-packages/pandas/io/parsers/readers.py:577\u001B[0m, in \u001B[0;36m_read\u001B[0;34m(filepath_or_buffer, kwds)\u001B[0m\n\u001B[1;32m    574\u001B[0m _validate_names(kwds\u001B[38;5;241m.\u001B[39mget(\u001B[38;5;124m\"\u001B[39m\u001B[38;5;124mnames\u001B[39m\u001B[38;5;124m\"\u001B[39m, \u001B[38;5;28;01mNone\u001B[39;00m))\n\u001B[1;32m    576\u001B[0m \u001B[38;5;66;03m# Create the parser.\u001B[39;00m\n\u001B[0;32m--> 577\u001B[0m parser \u001B[38;5;241m=\u001B[39m TextFileReader(filepath_or_buffer, \u001B[38;5;241m*\u001B[39m\u001B[38;5;241m*\u001B[39mkwds)\n\u001B[1;32m    579\u001B[0m \u001B[38;5;28;01mif\u001B[39;00m chunksize \u001B[38;5;129;01mor\u001B[39;00m iterator:\n\u001B[1;32m    580\u001B[0m     \u001B[38;5;28;01mreturn\u001B[39;00m parser\n",
      "File \u001B[0;32m~/anaconda3/lib/python3.11/site-packages/pandas/io/parsers/readers.py:1407\u001B[0m, in \u001B[0;36mTextFileReader.__init__\u001B[0;34m(self, f, engine, **kwds)\u001B[0m\n\u001B[1;32m   1404\u001B[0m     \u001B[38;5;28mself\u001B[39m\u001B[38;5;241m.\u001B[39moptions[\u001B[38;5;124m\"\u001B[39m\u001B[38;5;124mhas_index_names\u001B[39m\u001B[38;5;124m\"\u001B[39m] \u001B[38;5;241m=\u001B[39m kwds[\u001B[38;5;124m\"\u001B[39m\u001B[38;5;124mhas_index_names\u001B[39m\u001B[38;5;124m\"\u001B[39m]\n\u001B[1;32m   1406\u001B[0m \u001B[38;5;28mself\u001B[39m\u001B[38;5;241m.\u001B[39mhandles: IOHandles \u001B[38;5;241m|\u001B[39m \u001B[38;5;28;01mNone\u001B[39;00m \u001B[38;5;241m=\u001B[39m \u001B[38;5;28;01mNone\u001B[39;00m\n\u001B[0;32m-> 1407\u001B[0m \u001B[38;5;28mself\u001B[39m\u001B[38;5;241m.\u001B[39m_engine \u001B[38;5;241m=\u001B[39m \u001B[38;5;28mself\u001B[39m\u001B[38;5;241m.\u001B[39m_make_engine(f, \u001B[38;5;28mself\u001B[39m\u001B[38;5;241m.\u001B[39mengine)\n",
      "File \u001B[0;32m~/anaconda3/lib/python3.11/site-packages/pandas/io/parsers/readers.py:1661\u001B[0m, in \u001B[0;36mTextFileReader._make_engine\u001B[0;34m(self, f, engine)\u001B[0m\n\u001B[1;32m   1659\u001B[0m     \u001B[38;5;28;01mif\u001B[39;00m \u001B[38;5;124m\"\u001B[39m\u001B[38;5;124mb\u001B[39m\u001B[38;5;124m\"\u001B[39m \u001B[38;5;129;01mnot\u001B[39;00m \u001B[38;5;129;01min\u001B[39;00m mode:\n\u001B[1;32m   1660\u001B[0m         mode \u001B[38;5;241m+\u001B[39m\u001B[38;5;241m=\u001B[39m \u001B[38;5;124m\"\u001B[39m\u001B[38;5;124mb\u001B[39m\u001B[38;5;124m\"\u001B[39m\n\u001B[0;32m-> 1661\u001B[0m \u001B[38;5;28mself\u001B[39m\u001B[38;5;241m.\u001B[39mhandles \u001B[38;5;241m=\u001B[39m get_handle(\n\u001B[1;32m   1662\u001B[0m     f,\n\u001B[1;32m   1663\u001B[0m     mode,\n\u001B[1;32m   1664\u001B[0m     encoding\u001B[38;5;241m=\u001B[39m\u001B[38;5;28mself\u001B[39m\u001B[38;5;241m.\u001B[39moptions\u001B[38;5;241m.\u001B[39mget(\u001B[38;5;124m\"\u001B[39m\u001B[38;5;124mencoding\u001B[39m\u001B[38;5;124m\"\u001B[39m, \u001B[38;5;28;01mNone\u001B[39;00m),\n\u001B[1;32m   1665\u001B[0m     compression\u001B[38;5;241m=\u001B[39m\u001B[38;5;28mself\u001B[39m\u001B[38;5;241m.\u001B[39moptions\u001B[38;5;241m.\u001B[39mget(\u001B[38;5;124m\"\u001B[39m\u001B[38;5;124mcompression\u001B[39m\u001B[38;5;124m\"\u001B[39m, \u001B[38;5;28;01mNone\u001B[39;00m),\n\u001B[1;32m   1666\u001B[0m     memory_map\u001B[38;5;241m=\u001B[39m\u001B[38;5;28mself\u001B[39m\u001B[38;5;241m.\u001B[39moptions\u001B[38;5;241m.\u001B[39mget(\u001B[38;5;124m\"\u001B[39m\u001B[38;5;124mmemory_map\u001B[39m\u001B[38;5;124m\"\u001B[39m, \u001B[38;5;28;01mFalse\u001B[39;00m),\n\u001B[1;32m   1667\u001B[0m     is_text\u001B[38;5;241m=\u001B[39mis_text,\n\u001B[1;32m   1668\u001B[0m     errors\u001B[38;5;241m=\u001B[39m\u001B[38;5;28mself\u001B[39m\u001B[38;5;241m.\u001B[39moptions\u001B[38;5;241m.\u001B[39mget(\u001B[38;5;124m\"\u001B[39m\u001B[38;5;124mencoding_errors\u001B[39m\u001B[38;5;124m\"\u001B[39m, \u001B[38;5;124m\"\u001B[39m\u001B[38;5;124mstrict\u001B[39m\u001B[38;5;124m\"\u001B[39m),\n\u001B[1;32m   1669\u001B[0m     storage_options\u001B[38;5;241m=\u001B[39m\u001B[38;5;28mself\u001B[39m\u001B[38;5;241m.\u001B[39moptions\u001B[38;5;241m.\u001B[39mget(\u001B[38;5;124m\"\u001B[39m\u001B[38;5;124mstorage_options\u001B[39m\u001B[38;5;124m\"\u001B[39m, \u001B[38;5;28;01mNone\u001B[39;00m),\n\u001B[1;32m   1670\u001B[0m )\n\u001B[1;32m   1671\u001B[0m \u001B[38;5;28;01massert\u001B[39;00m \u001B[38;5;28mself\u001B[39m\u001B[38;5;241m.\u001B[39mhandles \u001B[38;5;129;01mis\u001B[39;00m \u001B[38;5;129;01mnot\u001B[39;00m \u001B[38;5;28;01mNone\u001B[39;00m\n\u001B[1;32m   1672\u001B[0m f \u001B[38;5;241m=\u001B[39m \u001B[38;5;28mself\u001B[39m\u001B[38;5;241m.\u001B[39mhandles\u001B[38;5;241m.\u001B[39mhandle\n",
      "File \u001B[0;32m~/anaconda3/lib/python3.11/site-packages/pandas/io/common.py:859\u001B[0m, in \u001B[0;36mget_handle\u001B[0;34m(path_or_buf, mode, encoding, compression, memory_map, is_text, errors, storage_options)\u001B[0m\n\u001B[1;32m    854\u001B[0m \u001B[38;5;28;01melif\u001B[39;00m \u001B[38;5;28misinstance\u001B[39m(handle, \u001B[38;5;28mstr\u001B[39m):\n\u001B[1;32m    855\u001B[0m     \u001B[38;5;66;03m# Check whether the filename is to be opened in binary mode.\u001B[39;00m\n\u001B[1;32m    856\u001B[0m     \u001B[38;5;66;03m# Binary mode does not support 'encoding' and 'newline'.\u001B[39;00m\n\u001B[1;32m    857\u001B[0m     \u001B[38;5;28;01mif\u001B[39;00m ioargs\u001B[38;5;241m.\u001B[39mencoding \u001B[38;5;129;01mand\u001B[39;00m \u001B[38;5;124m\"\u001B[39m\u001B[38;5;124mb\u001B[39m\u001B[38;5;124m\"\u001B[39m \u001B[38;5;129;01mnot\u001B[39;00m \u001B[38;5;129;01min\u001B[39;00m ioargs\u001B[38;5;241m.\u001B[39mmode:\n\u001B[1;32m    858\u001B[0m         \u001B[38;5;66;03m# Encoding\u001B[39;00m\n\u001B[0;32m--> 859\u001B[0m         handle \u001B[38;5;241m=\u001B[39m \u001B[38;5;28mopen\u001B[39m(\n\u001B[1;32m    860\u001B[0m             handle,\n\u001B[1;32m    861\u001B[0m             ioargs\u001B[38;5;241m.\u001B[39mmode,\n\u001B[1;32m    862\u001B[0m             encoding\u001B[38;5;241m=\u001B[39mioargs\u001B[38;5;241m.\u001B[39mencoding,\n\u001B[1;32m    863\u001B[0m             errors\u001B[38;5;241m=\u001B[39merrors,\n\u001B[1;32m    864\u001B[0m             newline\u001B[38;5;241m=\u001B[39m\u001B[38;5;124m\"\u001B[39m\u001B[38;5;124m\"\u001B[39m,\n\u001B[1;32m    865\u001B[0m         )\n\u001B[1;32m    866\u001B[0m     \u001B[38;5;28;01melse\u001B[39;00m:\n\u001B[1;32m    867\u001B[0m         \u001B[38;5;66;03m# Binary mode\u001B[39;00m\n\u001B[1;32m    868\u001B[0m         handle \u001B[38;5;241m=\u001B[39m \u001B[38;5;28mopen\u001B[39m(handle, ioargs\u001B[38;5;241m.\u001B[39mmode)\n",
      "\u001B[0;31mFileNotFoundError\u001B[0m: [Errno 2] No such file or directory: 'bank_client_information.csv'"
     ]
    }
   ]
  },
  {
   "cell_type": "code",
   "metadata": {
    "id": "22PFGu9ou_V-",
    "ExecuteTime": {
     "end_time": "2024-01-08T11:51:28.828837Z",
     "start_time": "2024-01-08T11:51:27.535895Z"
    }
   },
   "source": [],
   "execution_count": 100,
   "outputs": []
  },
  {
   "cell_type": "markdown",
   "metadata": {
    "id": "ZSiWSFD-yY2o"
   },
   "source": [
    "**MINI CHALLENGE #7 SOLUTION:**\n",
    "- **Load the csv data and use the \"first name\" column as the index**\n",
    "- **Randomly select 2 rows from the DataFrame. Rerun the code and ensure that random rows are being selected**"
   ]
  },
  {
   "cell_type": "code",
   "metadata": {
    "id": "YYv0kNpCy3yk",
    "ExecuteTime": {
     "end_time": "2024-01-08T11:51:29.037566Z",
     "start_time": "2024-01-08T11:51:28.714049Z"
    }
   },
   "source": [
    "# Load the csv file and set the last name as the index\n",
    "bank_df = pd.read_csv('bank_client_information.csv', index_col='First Name')\n",
    "bank_df\n",
    "# You can also randomly select a fraction of the DataFrame\n",
    "# Setting axis = 0 means rows, setting index = 1 means columns\n",
    "bank_df.sample(n=2, axis=0)"
   ],
   "execution_count": 101,
   "outputs": [
    {
     "ename": "FileNotFoundError",
     "evalue": "[Errno 2] No such file or directory: 'bank_client_information.csv'",
     "output_type": "error",
     "traceback": [
      "\u001B[0;31m---------------------------------------------------------------------------\u001B[0m",
      "\u001B[0;31mFileNotFoundError\u001B[0m                         Traceback (most recent call last)",
      "Cell \u001B[0;32mIn[101], line 2\u001B[0m\n\u001B[1;32m      1\u001B[0m \u001B[38;5;66;03m# Load the csv file and set the last name as the index\u001B[39;00m\n\u001B[0;32m----> 2\u001B[0m bank_df \u001B[38;5;241m=\u001B[39m pd\u001B[38;5;241m.\u001B[39mread_csv(\u001B[38;5;124m'\u001B[39m\u001B[38;5;124mbank_client_information.csv\u001B[39m\u001B[38;5;124m'\u001B[39m, index_col \u001B[38;5;241m=\u001B[39m \u001B[38;5;124m'\u001B[39m\u001B[38;5;124mFirst Name\u001B[39m\u001B[38;5;124m'\u001B[39m)\n\u001B[1;32m      3\u001B[0m bank_df\n\u001B[1;32m      4\u001B[0m \u001B[38;5;66;03m# You can also randomly select a fraction of the DataFrame\u001B[39;00m\n\u001B[1;32m      5\u001B[0m \u001B[38;5;66;03m# Setting axis = 0 means rows, setting index = 1 means columns\u001B[39;00m\n",
      "File \u001B[0;32m~/anaconda3/lib/python3.11/site-packages/pandas/io/parsers/readers.py:912\u001B[0m, in \u001B[0;36mread_csv\u001B[0;34m(filepath_or_buffer, sep, delimiter, header, names, index_col, usecols, dtype, engine, converters, true_values, false_values, skipinitialspace, skiprows, skipfooter, nrows, na_values, keep_default_na, na_filter, verbose, skip_blank_lines, parse_dates, infer_datetime_format, keep_date_col, date_parser, date_format, dayfirst, cache_dates, iterator, chunksize, compression, thousands, decimal, lineterminator, quotechar, quoting, doublequote, escapechar, comment, encoding, encoding_errors, dialect, on_bad_lines, delim_whitespace, low_memory, memory_map, float_precision, storage_options, dtype_backend)\u001B[0m\n\u001B[1;32m    899\u001B[0m kwds_defaults \u001B[38;5;241m=\u001B[39m _refine_defaults_read(\n\u001B[1;32m    900\u001B[0m     dialect,\n\u001B[1;32m    901\u001B[0m     delimiter,\n\u001B[0;32m   (...)\u001B[0m\n\u001B[1;32m    908\u001B[0m     dtype_backend\u001B[38;5;241m=\u001B[39mdtype_backend,\n\u001B[1;32m    909\u001B[0m )\n\u001B[1;32m    910\u001B[0m kwds\u001B[38;5;241m.\u001B[39mupdate(kwds_defaults)\n\u001B[0;32m--> 912\u001B[0m \u001B[38;5;28;01mreturn\u001B[39;00m _read(filepath_or_buffer, kwds)\n",
      "File \u001B[0;32m~/anaconda3/lib/python3.11/site-packages/pandas/io/parsers/readers.py:577\u001B[0m, in \u001B[0;36m_read\u001B[0;34m(filepath_or_buffer, kwds)\u001B[0m\n\u001B[1;32m    574\u001B[0m _validate_names(kwds\u001B[38;5;241m.\u001B[39mget(\u001B[38;5;124m\"\u001B[39m\u001B[38;5;124mnames\u001B[39m\u001B[38;5;124m\"\u001B[39m, \u001B[38;5;28;01mNone\u001B[39;00m))\n\u001B[1;32m    576\u001B[0m \u001B[38;5;66;03m# Create the parser.\u001B[39;00m\n\u001B[0;32m--> 577\u001B[0m parser \u001B[38;5;241m=\u001B[39m TextFileReader(filepath_or_buffer, \u001B[38;5;241m*\u001B[39m\u001B[38;5;241m*\u001B[39mkwds)\n\u001B[1;32m    579\u001B[0m \u001B[38;5;28;01mif\u001B[39;00m chunksize \u001B[38;5;129;01mor\u001B[39;00m iterator:\n\u001B[1;32m    580\u001B[0m     \u001B[38;5;28;01mreturn\u001B[39;00m parser\n",
      "File \u001B[0;32m~/anaconda3/lib/python3.11/site-packages/pandas/io/parsers/readers.py:1407\u001B[0m, in \u001B[0;36mTextFileReader.__init__\u001B[0;34m(self, f, engine, **kwds)\u001B[0m\n\u001B[1;32m   1404\u001B[0m     \u001B[38;5;28mself\u001B[39m\u001B[38;5;241m.\u001B[39moptions[\u001B[38;5;124m\"\u001B[39m\u001B[38;5;124mhas_index_names\u001B[39m\u001B[38;5;124m\"\u001B[39m] \u001B[38;5;241m=\u001B[39m kwds[\u001B[38;5;124m\"\u001B[39m\u001B[38;5;124mhas_index_names\u001B[39m\u001B[38;5;124m\"\u001B[39m]\n\u001B[1;32m   1406\u001B[0m \u001B[38;5;28mself\u001B[39m\u001B[38;5;241m.\u001B[39mhandles: IOHandles \u001B[38;5;241m|\u001B[39m \u001B[38;5;28;01mNone\u001B[39;00m \u001B[38;5;241m=\u001B[39m \u001B[38;5;28;01mNone\u001B[39;00m\n\u001B[0;32m-> 1407\u001B[0m \u001B[38;5;28mself\u001B[39m\u001B[38;5;241m.\u001B[39m_engine \u001B[38;5;241m=\u001B[39m \u001B[38;5;28mself\u001B[39m\u001B[38;5;241m.\u001B[39m_make_engine(f, \u001B[38;5;28mself\u001B[39m\u001B[38;5;241m.\u001B[39mengine)\n",
      "File \u001B[0;32m~/anaconda3/lib/python3.11/site-packages/pandas/io/parsers/readers.py:1661\u001B[0m, in \u001B[0;36mTextFileReader._make_engine\u001B[0;34m(self, f, engine)\u001B[0m\n\u001B[1;32m   1659\u001B[0m     \u001B[38;5;28;01mif\u001B[39;00m \u001B[38;5;124m\"\u001B[39m\u001B[38;5;124mb\u001B[39m\u001B[38;5;124m\"\u001B[39m \u001B[38;5;129;01mnot\u001B[39;00m \u001B[38;5;129;01min\u001B[39;00m mode:\n\u001B[1;32m   1660\u001B[0m         mode \u001B[38;5;241m+\u001B[39m\u001B[38;5;241m=\u001B[39m \u001B[38;5;124m\"\u001B[39m\u001B[38;5;124mb\u001B[39m\u001B[38;5;124m\"\u001B[39m\n\u001B[0;32m-> 1661\u001B[0m \u001B[38;5;28mself\u001B[39m\u001B[38;5;241m.\u001B[39mhandles \u001B[38;5;241m=\u001B[39m get_handle(\n\u001B[1;32m   1662\u001B[0m     f,\n\u001B[1;32m   1663\u001B[0m     mode,\n\u001B[1;32m   1664\u001B[0m     encoding\u001B[38;5;241m=\u001B[39m\u001B[38;5;28mself\u001B[39m\u001B[38;5;241m.\u001B[39moptions\u001B[38;5;241m.\u001B[39mget(\u001B[38;5;124m\"\u001B[39m\u001B[38;5;124mencoding\u001B[39m\u001B[38;5;124m\"\u001B[39m, \u001B[38;5;28;01mNone\u001B[39;00m),\n\u001B[1;32m   1665\u001B[0m     compression\u001B[38;5;241m=\u001B[39m\u001B[38;5;28mself\u001B[39m\u001B[38;5;241m.\u001B[39moptions\u001B[38;5;241m.\u001B[39mget(\u001B[38;5;124m\"\u001B[39m\u001B[38;5;124mcompression\u001B[39m\u001B[38;5;124m\"\u001B[39m, \u001B[38;5;28;01mNone\u001B[39;00m),\n\u001B[1;32m   1666\u001B[0m     memory_map\u001B[38;5;241m=\u001B[39m\u001B[38;5;28mself\u001B[39m\u001B[38;5;241m.\u001B[39moptions\u001B[38;5;241m.\u001B[39mget(\u001B[38;5;124m\"\u001B[39m\u001B[38;5;124mmemory_map\u001B[39m\u001B[38;5;124m\"\u001B[39m, \u001B[38;5;28;01mFalse\u001B[39;00m),\n\u001B[1;32m   1667\u001B[0m     is_text\u001B[38;5;241m=\u001B[39mis_text,\n\u001B[1;32m   1668\u001B[0m     errors\u001B[38;5;241m=\u001B[39m\u001B[38;5;28mself\u001B[39m\u001B[38;5;241m.\u001B[39moptions\u001B[38;5;241m.\u001B[39mget(\u001B[38;5;124m\"\u001B[39m\u001B[38;5;124mencoding_errors\u001B[39m\u001B[38;5;124m\"\u001B[39m, \u001B[38;5;124m\"\u001B[39m\u001B[38;5;124mstrict\u001B[39m\u001B[38;5;124m\"\u001B[39m),\n\u001B[1;32m   1669\u001B[0m     storage_options\u001B[38;5;241m=\u001B[39m\u001B[38;5;28mself\u001B[39m\u001B[38;5;241m.\u001B[39moptions\u001B[38;5;241m.\u001B[39mget(\u001B[38;5;124m\"\u001B[39m\u001B[38;5;124mstorage_options\u001B[39m\u001B[38;5;124m\"\u001B[39m, \u001B[38;5;28;01mNone\u001B[39;00m),\n\u001B[1;32m   1670\u001B[0m )\n\u001B[1;32m   1671\u001B[0m \u001B[38;5;28;01massert\u001B[39;00m \u001B[38;5;28mself\u001B[39m\u001B[38;5;241m.\u001B[39mhandles \u001B[38;5;129;01mis\u001B[39;00m \u001B[38;5;129;01mnot\u001B[39;00m \u001B[38;5;28;01mNone\u001B[39;00m\n\u001B[1;32m   1672\u001B[0m f \u001B[38;5;241m=\u001B[39m \u001B[38;5;28mself\u001B[39m\u001B[38;5;241m.\u001B[39mhandles\u001B[38;5;241m.\u001B[39mhandle\n",
      "File \u001B[0;32m~/anaconda3/lib/python3.11/site-packages/pandas/io/common.py:859\u001B[0m, in \u001B[0;36mget_handle\u001B[0;34m(path_or_buf, mode, encoding, compression, memory_map, is_text, errors, storage_options)\u001B[0m\n\u001B[1;32m    854\u001B[0m \u001B[38;5;28;01melif\u001B[39;00m \u001B[38;5;28misinstance\u001B[39m(handle, \u001B[38;5;28mstr\u001B[39m):\n\u001B[1;32m    855\u001B[0m     \u001B[38;5;66;03m# Check whether the filename is to be opened in binary mode.\u001B[39;00m\n\u001B[1;32m    856\u001B[0m     \u001B[38;5;66;03m# Binary mode does not support 'encoding' and 'newline'.\u001B[39;00m\n\u001B[1;32m    857\u001B[0m     \u001B[38;5;28;01mif\u001B[39;00m ioargs\u001B[38;5;241m.\u001B[39mencoding \u001B[38;5;129;01mand\u001B[39;00m \u001B[38;5;124m\"\u001B[39m\u001B[38;5;124mb\u001B[39m\u001B[38;5;124m\"\u001B[39m \u001B[38;5;129;01mnot\u001B[39;00m \u001B[38;5;129;01min\u001B[39;00m ioargs\u001B[38;5;241m.\u001B[39mmode:\n\u001B[1;32m    858\u001B[0m         \u001B[38;5;66;03m# Encoding\u001B[39;00m\n\u001B[0;32m--> 859\u001B[0m         handle \u001B[38;5;241m=\u001B[39m \u001B[38;5;28mopen\u001B[39m(\n\u001B[1;32m    860\u001B[0m             handle,\n\u001B[1;32m    861\u001B[0m             ioargs\u001B[38;5;241m.\u001B[39mmode,\n\u001B[1;32m    862\u001B[0m             encoding\u001B[38;5;241m=\u001B[39mioargs\u001B[38;5;241m.\u001B[39mencoding,\n\u001B[1;32m    863\u001B[0m             errors\u001B[38;5;241m=\u001B[39merrors,\n\u001B[1;32m    864\u001B[0m             newline\u001B[38;5;241m=\u001B[39m\u001B[38;5;124m\"\u001B[39m\u001B[38;5;124m\"\u001B[39m,\n\u001B[1;32m    865\u001B[0m         )\n\u001B[1;32m    866\u001B[0m     \u001B[38;5;28;01melse\u001B[39;00m:\n\u001B[1;32m    867\u001B[0m         \u001B[38;5;66;03m# Binary mode\u001B[39;00m\n\u001B[1;32m    868\u001B[0m         handle \u001B[38;5;241m=\u001B[39m \u001B[38;5;28mopen\u001B[39m(handle, ioargs\u001B[38;5;241m.\u001B[39mmode)\n",
      "\u001B[0;31mFileNotFoundError\u001B[0m: [Errno 2] No such file or directory: 'bank_client_information.csv'"
     ]
    }
   ]
  },
  {
   "cell_type": "code",
   "metadata": {
    "id": "7Dtlss0lu_Zh",
    "ExecuteTime": {
     "end_time": "2024-01-08T11:51:29.144640Z",
     "start_time": "2024-01-08T11:51:29.034738Z"
    }
   },
   "source": [],
   "execution_count": 101,
   "outputs": []
  },
  {
   "cell_type": "markdown",
   "metadata": {
    "id": "38Ewb1Dr5Nex"
   },
   "source": [
    "**MINI CHALLENGE #8 SOLUTION:**\n",
    "- **Write a code that selects the last two rows in the DataFrame using two different methods**"
   ]
  },
  {
   "cell_type": "code",
   "metadata": {
    "id": "nKug8EL85p-X",
    "ExecuteTime": {
     "end_time": "2024-01-08T11:51:29.385977Z",
     "start_time": "2024-01-08T11:51:29.140630Z"
    }
   },
   "source": [
    "bank_df.iloc[8:]"
   ],
   "execution_count": 102,
   "outputs": [
    {
     "data": {
      "text/plain": "  First Name Last Name              Email Postal Code  Net Worth  \\\n8     Joseph    Patton     daafeja@boh.jm     M6U 5U7    2629.13   \n9       Noah     Moran  guutodi@bigwoc.kw     K2D 4M9    8626.96   \n\n   Years with Bank  \n8                1  \n9               13  ",
      "text/html": "<div>\n<style scoped>\n    .dataframe tbody tr th:only-of-type {\n        vertical-align: middle;\n    }\n\n    .dataframe tbody tr th {\n        vertical-align: top;\n    }\n\n    .dataframe thead th {\n        text-align: right;\n    }\n</style>\n<table border=\"1\" class=\"dataframe\">\n  <thead>\n    <tr style=\"text-align: right;\">\n      <th></th>\n      <th>First Name</th>\n      <th>Last Name</th>\n      <th>Email</th>\n      <th>Postal Code</th>\n      <th>Net Worth</th>\n      <th>Years with Bank</th>\n    </tr>\n  </thead>\n  <tbody>\n    <tr>\n      <th>8</th>\n      <td>Joseph</td>\n      <td>Patton</td>\n      <td>daafeja@boh.jm</td>\n      <td>M6U 5U7</td>\n      <td>2629.13</td>\n      <td>1</td>\n    </tr>\n    <tr>\n      <th>9</th>\n      <td>Noah</td>\n      <td>Moran</td>\n      <td>guutodi@bigwoc.kw</td>\n      <td>K2D 4M9</td>\n      <td>8626.96</td>\n      <td>13</td>\n    </tr>\n  </tbody>\n</table>\n</div>"
     },
     "execution_count": 102,
     "metadata": {},
     "output_type": "execute_result"
    }
   ]
  },
  {
   "cell_type": "code",
   "metadata": {
    "id": "kJ5u8wQc5Xp5",
    "ExecuteTime": {
     "end_time": "2024-01-08T11:51:29.475101Z",
     "start_time": "2024-01-08T11:51:29.366576Z"
    }
   },
   "source": [
    "bank_df.iloc[-2:]"
   ],
   "execution_count": 103,
   "outputs": [
    {
     "data": {
      "text/plain": "  First Name Last Name              Email Postal Code  Net Worth  \\\n8     Joseph    Patton     daafeja@boh.jm     M6U 5U7    2629.13   \n9       Noah     Moran  guutodi@bigwoc.kw     K2D 4M9    8626.96   \n\n   Years with Bank  \n8                1  \n9               13  ",
      "text/html": "<div>\n<style scoped>\n    .dataframe tbody tr th:only-of-type {\n        vertical-align: middle;\n    }\n\n    .dataframe tbody tr th {\n        vertical-align: top;\n    }\n\n    .dataframe thead th {\n        text-align: right;\n    }\n</style>\n<table border=\"1\" class=\"dataframe\">\n  <thead>\n    <tr style=\"text-align: right;\">\n      <th></th>\n      <th>First Name</th>\n      <th>Last Name</th>\n      <th>Email</th>\n      <th>Postal Code</th>\n      <th>Net Worth</th>\n      <th>Years with Bank</th>\n    </tr>\n  </thead>\n  <tbody>\n    <tr>\n      <th>8</th>\n      <td>Joseph</td>\n      <td>Patton</td>\n      <td>daafeja@boh.jm</td>\n      <td>M6U 5U7</td>\n      <td>2629.13</td>\n      <td>1</td>\n    </tr>\n    <tr>\n      <th>9</th>\n      <td>Noah</td>\n      <td>Moran</td>\n      <td>guutodi@bigwoc.kw</td>\n      <td>K2D 4M9</td>\n      <td>8626.96</td>\n      <td>13</td>\n    </tr>\n  </tbody>\n</table>\n</div>"
     },
     "execution_count": 103,
     "metadata": {},
     "output_type": "execute_result"
    }
   ]
  },
  {
   "cell_type": "code",
   "metadata": {
    "id": "ugnEjco-u_cf",
    "ExecuteTime": {
     "end_time": "2024-01-08T11:51:29.732045Z",
     "start_time": "2024-01-08T11:51:29.464756Z"
    }
   },
   "source": [],
   "execution_count": 103,
   "outputs": []
  },
  {
   "cell_type": "code",
   "metadata": {
    "id": "FfijqpQ4u_fX",
    "ExecuteTime": {
     "end_time": "2024-01-08T11:51:29.886290Z",
     "start_time": "2024-01-08T11:51:29.628696Z"
    }
   },
   "source": [],
   "execution_count": 103,
   "outputs": []
  },
  {
   "cell_type": "markdown",
   "metadata": {
    "id": "k7VI7tmA8mf_"
   },
   "source": [
    "**MINI CHALLENGE #9 SOLUTION:**\n",
    "- **Let's assume that all clients in the bank has been investing their assets in a broad S&P500 ETF. The market has been performing really well and clients networth has increased by 12% annualy. Calculate the sum of all client's networth.** "
   ]
  },
  {
   "cell_type": "code",
   "metadata": {
    "id": "e84LHKrJ9HsX",
    "ExecuteTime": {
     "end_time": "2024-01-08T11:51:30.301915Z",
     "start_time": "2024-01-08T11:51:29.874925Z"
    }
   },
   "source": [
    "# Pandas is used to read a csv file and store data in a DataFrame\n",
    "bank_df = pd.read_csv('bank_client_information.csv')\n",
    "bank_df"
   ],
   "execution_count": 104,
   "outputs": [
    {
     "ename": "FileNotFoundError",
     "evalue": "[Errno 2] No such file or directory: 'bank_client_information.csv'",
     "output_type": "error",
     "traceback": [
      "\u001B[0;31m---------------------------------------------------------------------------\u001B[0m",
      "\u001B[0;31mFileNotFoundError\u001B[0m                         Traceback (most recent call last)",
      "Cell \u001B[0;32mIn[104], line 2\u001B[0m\n\u001B[1;32m      1\u001B[0m \u001B[38;5;66;03m# Pandas is used to read a csv file and store data in a DataFrame\u001B[39;00m\n\u001B[0;32m----> 2\u001B[0m bank_df \u001B[38;5;241m=\u001B[39m pd\u001B[38;5;241m.\u001B[39mread_csv(\u001B[38;5;124m'\u001B[39m\u001B[38;5;124mbank_client_information.csv\u001B[39m\u001B[38;5;124m'\u001B[39m)\n\u001B[1;32m      3\u001B[0m bank_df\n",
      "File \u001B[0;32m~/anaconda3/lib/python3.11/site-packages/pandas/io/parsers/readers.py:912\u001B[0m, in \u001B[0;36mread_csv\u001B[0;34m(filepath_or_buffer, sep, delimiter, header, names, index_col, usecols, dtype, engine, converters, true_values, false_values, skipinitialspace, skiprows, skipfooter, nrows, na_values, keep_default_na, na_filter, verbose, skip_blank_lines, parse_dates, infer_datetime_format, keep_date_col, date_parser, date_format, dayfirst, cache_dates, iterator, chunksize, compression, thousands, decimal, lineterminator, quotechar, quoting, doublequote, escapechar, comment, encoding, encoding_errors, dialect, on_bad_lines, delim_whitespace, low_memory, memory_map, float_precision, storage_options, dtype_backend)\u001B[0m\n\u001B[1;32m    899\u001B[0m kwds_defaults \u001B[38;5;241m=\u001B[39m _refine_defaults_read(\n\u001B[1;32m    900\u001B[0m     dialect,\n\u001B[1;32m    901\u001B[0m     delimiter,\n\u001B[0;32m   (...)\u001B[0m\n\u001B[1;32m    908\u001B[0m     dtype_backend\u001B[38;5;241m=\u001B[39mdtype_backend,\n\u001B[1;32m    909\u001B[0m )\n\u001B[1;32m    910\u001B[0m kwds\u001B[38;5;241m.\u001B[39mupdate(kwds_defaults)\n\u001B[0;32m--> 912\u001B[0m \u001B[38;5;28;01mreturn\u001B[39;00m _read(filepath_or_buffer, kwds)\n",
      "File \u001B[0;32m~/anaconda3/lib/python3.11/site-packages/pandas/io/parsers/readers.py:577\u001B[0m, in \u001B[0;36m_read\u001B[0;34m(filepath_or_buffer, kwds)\u001B[0m\n\u001B[1;32m    574\u001B[0m _validate_names(kwds\u001B[38;5;241m.\u001B[39mget(\u001B[38;5;124m\"\u001B[39m\u001B[38;5;124mnames\u001B[39m\u001B[38;5;124m\"\u001B[39m, \u001B[38;5;28;01mNone\u001B[39;00m))\n\u001B[1;32m    576\u001B[0m \u001B[38;5;66;03m# Create the parser.\u001B[39;00m\n\u001B[0;32m--> 577\u001B[0m parser \u001B[38;5;241m=\u001B[39m TextFileReader(filepath_or_buffer, \u001B[38;5;241m*\u001B[39m\u001B[38;5;241m*\u001B[39mkwds)\n\u001B[1;32m    579\u001B[0m \u001B[38;5;28;01mif\u001B[39;00m chunksize \u001B[38;5;129;01mor\u001B[39;00m iterator:\n\u001B[1;32m    580\u001B[0m     \u001B[38;5;28;01mreturn\u001B[39;00m parser\n",
      "File \u001B[0;32m~/anaconda3/lib/python3.11/site-packages/pandas/io/parsers/readers.py:1407\u001B[0m, in \u001B[0;36mTextFileReader.__init__\u001B[0;34m(self, f, engine, **kwds)\u001B[0m\n\u001B[1;32m   1404\u001B[0m     \u001B[38;5;28mself\u001B[39m\u001B[38;5;241m.\u001B[39moptions[\u001B[38;5;124m\"\u001B[39m\u001B[38;5;124mhas_index_names\u001B[39m\u001B[38;5;124m\"\u001B[39m] \u001B[38;5;241m=\u001B[39m kwds[\u001B[38;5;124m\"\u001B[39m\u001B[38;5;124mhas_index_names\u001B[39m\u001B[38;5;124m\"\u001B[39m]\n\u001B[1;32m   1406\u001B[0m \u001B[38;5;28mself\u001B[39m\u001B[38;5;241m.\u001B[39mhandles: IOHandles \u001B[38;5;241m|\u001B[39m \u001B[38;5;28;01mNone\u001B[39;00m \u001B[38;5;241m=\u001B[39m \u001B[38;5;28;01mNone\u001B[39;00m\n\u001B[0;32m-> 1407\u001B[0m \u001B[38;5;28mself\u001B[39m\u001B[38;5;241m.\u001B[39m_engine \u001B[38;5;241m=\u001B[39m \u001B[38;5;28mself\u001B[39m\u001B[38;5;241m.\u001B[39m_make_engine(f, \u001B[38;5;28mself\u001B[39m\u001B[38;5;241m.\u001B[39mengine)\n",
      "File \u001B[0;32m~/anaconda3/lib/python3.11/site-packages/pandas/io/parsers/readers.py:1661\u001B[0m, in \u001B[0;36mTextFileReader._make_engine\u001B[0;34m(self, f, engine)\u001B[0m\n\u001B[1;32m   1659\u001B[0m     \u001B[38;5;28;01mif\u001B[39;00m \u001B[38;5;124m\"\u001B[39m\u001B[38;5;124mb\u001B[39m\u001B[38;5;124m\"\u001B[39m \u001B[38;5;129;01mnot\u001B[39;00m \u001B[38;5;129;01min\u001B[39;00m mode:\n\u001B[1;32m   1660\u001B[0m         mode \u001B[38;5;241m+\u001B[39m\u001B[38;5;241m=\u001B[39m \u001B[38;5;124m\"\u001B[39m\u001B[38;5;124mb\u001B[39m\u001B[38;5;124m\"\u001B[39m\n\u001B[0;32m-> 1661\u001B[0m \u001B[38;5;28mself\u001B[39m\u001B[38;5;241m.\u001B[39mhandles \u001B[38;5;241m=\u001B[39m get_handle(\n\u001B[1;32m   1662\u001B[0m     f,\n\u001B[1;32m   1663\u001B[0m     mode,\n\u001B[1;32m   1664\u001B[0m     encoding\u001B[38;5;241m=\u001B[39m\u001B[38;5;28mself\u001B[39m\u001B[38;5;241m.\u001B[39moptions\u001B[38;5;241m.\u001B[39mget(\u001B[38;5;124m\"\u001B[39m\u001B[38;5;124mencoding\u001B[39m\u001B[38;5;124m\"\u001B[39m, \u001B[38;5;28;01mNone\u001B[39;00m),\n\u001B[1;32m   1665\u001B[0m     compression\u001B[38;5;241m=\u001B[39m\u001B[38;5;28mself\u001B[39m\u001B[38;5;241m.\u001B[39moptions\u001B[38;5;241m.\u001B[39mget(\u001B[38;5;124m\"\u001B[39m\u001B[38;5;124mcompression\u001B[39m\u001B[38;5;124m\"\u001B[39m, \u001B[38;5;28;01mNone\u001B[39;00m),\n\u001B[1;32m   1666\u001B[0m     memory_map\u001B[38;5;241m=\u001B[39m\u001B[38;5;28mself\u001B[39m\u001B[38;5;241m.\u001B[39moptions\u001B[38;5;241m.\u001B[39mget(\u001B[38;5;124m\"\u001B[39m\u001B[38;5;124mmemory_map\u001B[39m\u001B[38;5;124m\"\u001B[39m, \u001B[38;5;28;01mFalse\u001B[39;00m),\n\u001B[1;32m   1667\u001B[0m     is_text\u001B[38;5;241m=\u001B[39mis_text,\n\u001B[1;32m   1668\u001B[0m     errors\u001B[38;5;241m=\u001B[39m\u001B[38;5;28mself\u001B[39m\u001B[38;5;241m.\u001B[39moptions\u001B[38;5;241m.\u001B[39mget(\u001B[38;5;124m\"\u001B[39m\u001B[38;5;124mencoding_errors\u001B[39m\u001B[38;5;124m\"\u001B[39m, \u001B[38;5;124m\"\u001B[39m\u001B[38;5;124mstrict\u001B[39m\u001B[38;5;124m\"\u001B[39m),\n\u001B[1;32m   1669\u001B[0m     storage_options\u001B[38;5;241m=\u001B[39m\u001B[38;5;28mself\u001B[39m\u001B[38;5;241m.\u001B[39moptions\u001B[38;5;241m.\u001B[39mget(\u001B[38;5;124m\"\u001B[39m\u001B[38;5;124mstorage_options\u001B[39m\u001B[38;5;124m\"\u001B[39m, \u001B[38;5;28;01mNone\u001B[39;00m),\n\u001B[1;32m   1670\u001B[0m )\n\u001B[1;32m   1671\u001B[0m \u001B[38;5;28;01massert\u001B[39;00m \u001B[38;5;28mself\u001B[39m\u001B[38;5;241m.\u001B[39mhandles \u001B[38;5;129;01mis\u001B[39;00m \u001B[38;5;129;01mnot\u001B[39;00m \u001B[38;5;28;01mNone\u001B[39;00m\n\u001B[1;32m   1672\u001B[0m f \u001B[38;5;241m=\u001B[39m \u001B[38;5;28mself\u001B[39m\u001B[38;5;241m.\u001B[39mhandles\u001B[38;5;241m.\u001B[39mhandle\n",
      "File \u001B[0;32m~/anaconda3/lib/python3.11/site-packages/pandas/io/common.py:859\u001B[0m, in \u001B[0;36mget_handle\u001B[0;34m(path_or_buf, mode, encoding, compression, memory_map, is_text, errors, storage_options)\u001B[0m\n\u001B[1;32m    854\u001B[0m \u001B[38;5;28;01melif\u001B[39;00m \u001B[38;5;28misinstance\u001B[39m(handle, \u001B[38;5;28mstr\u001B[39m):\n\u001B[1;32m    855\u001B[0m     \u001B[38;5;66;03m# Check whether the filename is to be opened in binary mode.\u001B[39;00m\n\u001B[1;32m    856\u001B[0m     \u001B[38;5;66;03m# Binary mode does not support 'encoding' and 'newline'.\u001B[39;00m\n\u001B[1;32m    857\u001B[0m     \u001B[38;5;28;01mif\u001B[39;00m ioargs\u001B[38;5;241m.\u001B[39mencoding \u001B[38;5;129;01mand\u001B[39;00m \u001B[38;5;124m\"\u001B[39m\u001B[38;5;124mb\u001B[39m\u001B[38;5;124m\"\u001B[39m \u001B[38;5;129;01mnot\u001B[39;00m \u001B[38;5;129;01min\u001B[39;00m ioargs\u001B[38;5;241m.\u001B[39mmode:\n\u001B[1;32m    858\u001B[0m         \u001B[38;5;66;03m# Encoding\u001B[39;00m\n\u001B[0;32m--> 859\u001B[0m         handle \u001B[38;5;241m=\u001B[39m \u001B[38;5;28mopen\u001B[39m(\n\u001B[1;32m    860\u001B[0m             handle,\n\u001B[1;32m    861\u001B[0m             ioargs\u001B[38;5;241m.\u001B[39mmode,\n\u001B[1;32m    862\u001B[0m             encoding\u001B[38;5;241m=\u001B[39mioargs\u001B[38;5;241m.\u001B[39mencoding,\n\u001B[1;32m    863\u001B[0m             errors\u001B[38;5;241m=\u001B[39merrors,\n\u001B[1;32m    864\u001B[0m             newline\u001B[38;5;241m=\u001B[39m\u001B[38;5;124m\"\u001B[39m\u001B[38;5;124m\"\u001B[39m,\n\u001B[1;32m    865\u001B[0m         )\n\u001B[1;32m    866\u001B[0m     \u001B[38;5;28;01melse\u001B[39;00m:\n\u001B[1;32m    867\u001B[0m         \u001B[38;5;66;03m# Binary mode\u001B[39;00m\n\u001B[1;32m    868\u001B[0m         handle \u001B[38;5;241m=\u001B[39m \u001B[38;5;28mopen\u001B[39m(handle, ioargs\u001B[38;5;241m.\u001B[39mmode)\n",
      "\u001B[0;31mFileNotFoundError\u001B[0m: [Errno 2] No such file or directory: 'bank_client_information.csv'"
     ]
    }
   ]
  },
  {
   "cell_type": "code",
   "metadata": {
    "id": "CHGbBhZW9L8z",
    "ExecuteTime": {
     "end_time": "2024-01-08T11:51:30.355323Z",
     "start_time": "2024-01-08T11:51:30.287005Z"
    }
   },
   "source": [
    "# Let's convert from USD to CAD using the exchange rate 1 USD = 1.3 CAD \n",
    "bank_df['Net Worth New'] = bank_df['Net Worth'].mul(1.12)\n",
    "bank_df"
   ],
   "execution_count": 105,
   "outputs": [
    {
     "data": {
      "text/plain": "  First Name Last Name                    Email Postal Code  Net Worth  \\\n0      Bird      Steve           bird@gmail.com     N94 3M0    5000.00   \n1       Noah     Small       nsmall@hotmail.com     N8S 14K   10000.00   \n2       Nina    Keller          azikez@gahew.mr     S1T 4E6    9072.02   \n3    Chanel      Steve         chanel@gmail.com     N7T 3E6   11072.02   \n4       Kate      Noor         kate@hotmail.com     K8N 5H6    5000.00   \n5      Samer        Mo          samer@gmail.com     J7H 3HY  100000.00   \n6       Heba    Ismail  heba.ismail@hotmail.com     K8Y 3M8   50000.00   \n7      Laila     Ahmed      Laila.a@hotmail.com     J8Y 3M0   20000.00   \n8     Joseph    Patton           daafeja@boh.jm     M6U 5U7    2629.13   \n9       Noah     Moran        guutodi@bigwoc.kw     K2D 4M9    8626.96   \n\n   Years with Bank  Net Worth New  \n0                5      5600.0000  \n1                6     11200.0000  \n2                7     10160.6624  \n3               10     12400.6624  \n4               22      5600.0000  \n5               26    112000.0000  \n6               11     56000.0000  \n7                3     22400.0000  \n8                1      2944.6256  \n9               13      9662.1952  ",
      "text/html": "<div>\n<style scoped>\n    .dataframe tbody tr th:only-of-type {\n        vertical-align: middle;\n    }\n\n    .dataframe tbody tr th {\n        vertical-align: top;\n    }\n\n    .dataframe thead th {\n        text-align: right;\n    }\n</style>\n<table border=\"1\" class=\"dataframe\">\n  <thead>\n    <tr style=\"text-align: right;\">\n      <th></th>\n      <th>First Name</th>\n      <th>Last Name</th>\n      <th>Email</th>\n      <th>Postal Code</th>\n      <th>Net Worth</th>\n      <th>Years with Bank</th>\n      <th>Net Worth New</th>\n    </tr>\n  </thead>\n  <tbody>\n    <tr>\n      <th>0</th>\n      <td>Bird</td>\n      <td>Steve</td>\n      <td>bird@gmail.com</td>\n      <td>N94 3M0</td>\n      <td>5000.00</td>\n      <td>5</td>\n      <td>5600.0000</td>\n    </tr>\n    <tr>\n      <th>1</th>\n      <td>Noah</td>\n      <td>Small</td>\n      <td>nsmall@hotmail.com</td>\n      <td>N8S 14K</td>\n      <td>10000.00</td>\n      <td>6</td>\n      <td>11200.0000</td>\n    </tr>\n    <tr>\n      <th>2</th>\n      <td>Nina</td>\n      <td>Keller</td>\n      <td>azikez@gahew.mr</td>\n      <td>S1T 4E6</td>\n      <td>9072.02</td>\n      <td>7</td>\n      <td>10160.6624</td>\n    </tr>\n    <tr>\n      <th>3</th>\n      <td>Chanel</td>\n      <td>Steve</td>\n      <td>chanel@gmail.com</td>\n      <td>N7T 3E6</td>\n      <td>11072.02</td>\n      <td>10</td>\n      <td>12400.6624</td>\n    </tr>\n    <tr>\n      <th>4</th>\n      <td>Kate</td>\n      <td>Noor</td>\n      <td>kate@hotmail.com</td>\n      <td>K8N 5H6</td>\n      <td>5000.00</td>\n      <td>22</td>\n      <td>5600.0000</td>\n    </tr>\n    <tr>\n      <th>5</th>\n      <td>Samer</td>\n      <td>Mo</td>\n      <td>samer@gmail.com</td>\n      <td>J7H 3HY</td>\n      <td>100000.00</td>\n      <td>26</td>\n      <td>112000.0000</td>\n    </tr>\n    <tr>\n      <th>6</th>\n      <td>Heba</td>\n      <td>Ismail</td>\n      <td>heba.ismail@hotmail.com</td>\n      <td>K8Y 3M8</td>\n      <td>50000.00</td>\n      <td>11</td>\n      <td>56000.0000</td>\n    </tr>\n    <tr>\n      <th>7</th>\n      <td>Laila</td>\n      <td>Ahmed</td>\n      <td>Laila.a@hotmail.com</td>\n      <td>J8Y 3M0</td>\n      <td>20000.00</td>\n      <td>3</td>\n      <td>22400.0000</td>\n    </tr>\n    <tr>\n      <th>8</th>\n      <td>Joseph</td>\n      <td>Patton</td>\n      <td>daafeja@boh.jm</td>\n      <td>M6U 5U7</td>\n      <td>2629.13</td>\n      <td>1</td>\n      <td>2944.6256</td>\n    </tr>\n    <tr>\n      <th>9</th>\n      <td>Noah</td>\n      <td>Moran</td>\n      <td>guutodi@bigwoc.kw</td>\n      <td>K2D 4M9</td>\n      <td>8626.96</td>\n      <td>13</td>\n      <td>9662.1952</td>\n    </tr>\n  </tbody>\n</table>\n</div>"
     },
     "execution_count": 105,
     "metadata": {},
     "output_type": "execute_result"
    }
   ]
  },
  {
   "cell_type": "code",
   "metadata": {
    "id": "siwbuJn69-pg",
    "ExecuteTime": {
     "end_time": "2024-01-08T11:51:30.580884Z",
     "start_time": "2024-01-08T11:51:30.339940Z"
    }
   },
   "source": [
    "bank_df['Net Worth New'].sum()"
   ],
   "execution_count": 106,
   "outputs": [
    {
     "data": {
      "text/plain": "247968.14560000002"
     },
     "execution_count": 106,
     "metadata": {},
     "output_type": "execute_result"
    }
   ]
  },
  {
   "cell_type": "code",
   "metadata": {
    "id": "HfZlaA1O9MAu",
    "ExecuteTime": {
     "end_time": "2024-01-08T11:51:30.724633Z",
     "start_time": "2024-01-08T11:51:30.573280Z"
    }
   },
   "source": [
    "print(\"Total networth for all clients = ${}\".format(bank_df['Net Worth New'].sum()))"
   ],
   "execution_count": 107,
   "outputs": [
    {
     "name": "stdout",
     "output_type": "stream",
     "text": [
      "Total networth for all clients = $247968.14560000002\n"
     ]
    }
   ]
  },
  {
   "cell_type": "markdown",
   "metadata": {
    "id": "Trx36mNb62JX"
   },
   "source": [
    "**MINI CHALLENGE #10 SOLUTION:**\n",
    "- **Sort customers by networth instead of years with bank. Make sure to update values in-memory.**"
   ]
  },
  {
   "cell_type": "code",
   "metadata": {
    "id": "b4nvA-VQ62Ja",
    "ExecuteTime": {
     "end_time": "2024-01-08T11:51:30.978112Z",
     "start_time": "2024-01-08T11:51:30.712266Z"
    }
   },
   "source": [
    "# You can sort the values in the dataframe according to number of years with bank\n",
    "bank_df.sort_values(by='Net Worth', inplace=True)\n",
    "bank_df"
   ],
   "execution_count": 108,
   "outputs": [
    {
     "data": {
      "text/plain": "  First Name Last Name                    Email Postal Code  Net Worth  \\\n8     Joseph    Patton           daafeja@boh.jm     M6U 5U7    2629.13   \n0      Bird      Steve           bird@gmail.com     N94 3M0    5000.00   \n4       Kate      Noor         kate@hotmail.com     K8N 5H6    5000.00   \n9       Noah     Moran        guutodi@bigwoc.kw     K2D 4M9    8626.96   \n2       Nina    Keller          azikez@gahew.mr     S1T 4E6    9072.02   \n1       Noah     Small       nsmall@hotmail.com     N8S 14K   10000.00   \n3    Chanel      Steve         chanel@gmail.com     N7T 3E6   11072.02   \n7      Laila     Ahmed      Laila.a@hotmail.com     J8Y 3M0   20000.00   \n6       Heba    Ismail  heba.ismail@hotmail.com     K8Y 3M8   50000.00   \n5      Samer        Mo          samer@gmail.com     J7H 3HY  100000.00   \n\n   Years with Bank  Net Worth New  \n8                1      2944.6256  \n0                5      5600.0000  \n4               22      5600.0000  \n9               13      9662.1952  \n2                7     10160.6624  \n1                6     11200.0000  \n3               10     12400.6624  \n7                3     22400.0000  \n6               11     56000.0000  \n5               26    112000.0000  ",
      "text/html": "<div>\n<style scoped>\n    .dataframe tbody tr th:only-of-type {\n        vertical-align: middle;\n    }\n\n    .dataframe tbody tr th {\n        vertical-align: top;\n    }\n\n    .dataframe thead th {\n        text-align: right;\n    }\n</style>\n<table border=\"1\" class=\"dataframe\">\n  <thead>\n    <tr style=\"text-align: right;\">\n      <th></th>\n      <th>First Name</th>\n      <th>Last Name</th>\n      <th>Email</th>\n      <th>Postal Code</th>\n      <th>Net Worth</th>\n      <th>Years with Bank</th>\n      <th>Net Worth New</th>\n    </tr>\n  </thead>\n  <tbody>\n    <tr>\n      <th>8</th>\n      <td>Joseph</td>\n      <td>Patton</td>\n      <td>daafeja@boh.jm</td>\n      <td>M6U 5U7</td>\n      <td>2629.13</td>\n      <td>1</td>\n      <td>2944.6256</td>\n    </tr>\n    <tr>\n      <th>0</th>\n      <td>Bird</td>\n      <td>Steve</td>\n      <td>bird@gmail.com</td>\n      <td>N94 3M0</td>\n      <td>5000.00</td>\n      <td>5</td>\n      <td>5600.0000</td>\n    </tr>\n    <tr>\n      <th>4</th>\n      <td>Kate</td>\n      <td>Noor</td>\n      <td>kate@hotmail.com</td>\n      <td>K8N 5H6</td>\n      <td>5000.00</td>\n      <td>22</td>\n      <td>5600.0000</td>\n    </tr>\n    <tr>\n      <th>9</th>\n      <td>Noah</td>\n      <td>Moran</td>\n      <td>guutodi@bigwoc.kw</td>\n      <td>K2D 4M9</td>\n      <td>8626.96</td>\n      <td>13</td>\n      <td>9662.1952</td>\n    </tr>\n    <tr>\n      <th>2</th>\n      <td>Nina</td>\n      <td>Keller</td>\n      <td>azikez@gahew.mr</td>\n      <td>S1T 4E6</td>\n      <td>9072.02</td>\n      <td>7</td>\n      <td>10160.6624</td>\n    </tr>\n    <tr>\n      <th>1</th>\n      <td>Noah</td>\n      <td>Small</td>\n      <td>nsmall@hotmail.com</td>\n      <td>N8S 14K</td>\n      <td>10000.00</td>\n      <td>6</td>\n      <td>11200.0000</td>\n    </tr>\n    <tr>\n      <th>3</th>\n      <td>Chanel</td>\n      <td>Steve</td>\n      <td>chanel@gmail.com</td>\n      <td>N7T 3E6</td>\n      <td>11072.02</td>\n      <td>10</td>\n      <td>12400.6624</td>\n    </tr>\n    <tr>\n      <th>7</th>\n      <td>Laila</td>\n      <td>Ahmed</td>\n      <td>Laila.a@hotmail.com</td>\n      <td>J8Y 3M0</td>\n      <td>20000.00</td>\n      <td>3</td>\n      <td>22400.0000</td>\n    </tr>\n    <tr>\n      <th>6</th>\n      <td>Heba</td>\n      <td>Ismail</td>\n      <td>heba.ismail@hotmail.com</td>\n      <td>K8Y 3M8</td>\n      <td>50000.00</td>\n      <td>11</td>\n      <td>56000.0000</td>\n    </tr>\n    <tr>\n      <th>5</th>\n      <td>Samer</td>\n      <td>Mo</td>\n      <td>samer@gmail.com</td>\n      <td>J7H 3HY</td>\n      <td>100000.00</td>\n      <td>26</td>\n      <td>112000.0000</td>\n    </tr>\n  </tbody>\n</table>\n</div>"
     },
     "execution_count": 108,
     "metadata": {},
     "output_type": "execute_result"
    }
   ]
  },
  {
   "cell_type": "markdown",
   "metadata": {
    "id": "T3xpj-hW6PYi"
   },
   "source": [
    "**MINI CHALLENGE #11 SOLUTION:**\n",
    "- **Define a function that doubles an argument and adds $100**\n",
    "- **Apply the function to the Net Worth Column in the DataFrame**\n",
    "- **Calculate the updated total networth of all clients combined**"
   ]
  },
  {
   "cell_type": "code",
   "metadata": {
    "id": "S8O56b_W6PYk",
    "ExecuteTime": {
     "end_time": "2024-01-08T11:51:31.090449Z",
     "start_time": "2024-01-08T11:51:30.963306Z"
    }
   },
   "source": [
    "def networth_update(balance):\n",
    "    return balance * 2 + 100  # assume that stock prices increased by 10%"
   ],
   "execution_count": 109,
   "outputs": []
  },
  {
   "cell_type": "code",
   "metadata": {
    "id": "r2crG2yx6PYt",
    "ExecuteTime": {
     "end_time": "2024-01-08T11:51:31.296086Z",
     "start_time": "2024-01-08T11:51:31.086367Z"
    }
   },
   "source": [
    "# You can apply a function to the DataFrame \n",
    "results = bank_df['Net Worth'].apply(networth_update)\n",
    "results"
   ],
   "execution_count": 110,
   "outputs": [
    {
     "data": {
      "text/plain": "8      5358.26\n0     10100.00\n4     10100.00\n9     17353.92\n2     18244.04\n1     20100.00\n3     22244.04\n7     40100.00\n6    100100.00\n5    200100.00\nName: Net Worth, dtype: float64"
     },
     "execution_count": 110,
     "metadata": {},
     "output_type": "execute_result"
    }
   ]
  },
  {
   "cell_type": "code",
   "metadata": {
    "id": "SAzpFD5Y6PY1",
    "ExecuteTime": {
     "end_time": "2024-01-08T11:51:31.400953Z",
     "start_time": "2024-01-08T11:51:31.274312Z"
    }
   },
   "source": [
    "results.sum()"
   ],
   "execution_count": 111,
   "outputs": [
    {
     "data": {
      "text/plain": "443800.26"
     },
     "execution_count": 111,
     "metadata": {},
     "output_type": "execute_result"
    }
   ]
  },
  {
   "cell_type": "markdown",
   "metadata": {
    "id": "qN1gAggk4QvE"
   },
   "source": [
    "**MINI CHALLENGE #12 SOLUTION:**\n",
    "- **Using \"bank_client_df\" DataFrame, leverage pandas operations to only select high networth individuals with minimum $15000** \n",
    "- **What is the combined networth for all customers with 15000+ networth?**"
   ]
  },
  {
   "cell_type": "code",
   "metadata": {
    "id": "CSN32b-o4QvG",
    "ExecuteTime": {
     "end_time": "2024-01-08T11:51:31.738129Z",
     "start_time": "2024-01-08T11:51:31.402932Z"
    }
   },
   "source": [
    "df_high_networth = bank_df[(bank_df['Net Worth'] >= 15000)]\n",
    "df_high_networth"
   ],
   "execution_count": 112,
   "outputs": [
    {
     "data": {
      "text/plain": "  First Name Last Name                    Email Postal Code  Net Worth  \\\n7      Laila     Ahmed      Laila.a@hotmail.com     J8Y 3M0    20000.0   \n6       Heba    Ismail  heba.ismail@hotmail.com     K8Y 3M8    50000.0   \n5      Samer        Mo          samer@gmail.com     J7H 3HY   100000.0   \n\n   Years with Bank  Net Worth New  \n7                3        22400.0  \n6               11        56000.0  \n5               26       112000.0  ",
      "text/html": "<div>\n<style scoped>\n    .dataframe tbody tr th:only-of-type {\n        vertical-align: middle;\n    }\n\n    .dataframe tbody tr th {\n        vertical-align: top;\n    }\n\n    .dataframe thead th {\n        text-align: right;\n    }\n</style>\n<table border=\"1\" class=\"dataframe\">\n  <thead>\n    <tr style=\"text-align: right;\">\n      <th></th>\n      <th>First Name</th>\n      <th>Last Name</th>\n      <th>Email</th>\n      <th>Postal Code</th>\n      <th>Net Worth</th>\n      <th>Years with Bank</th>\n      <th>Net Worth New</th>\n    </tr>\n  </thead>\n  <tbody>\n    <tr>\n      <th>7</th>\n      <td>Laila</td>\n      <td>Ahmed</td>\n      <td>Laila.a@hotmail.com</td>\n      <td>J8Y 3M0</td>\n      <td>20000.0</td>\n      <td>3</td>\n      <td>22400.0</td>\n    </tr>\n    <tr>\n      <th>6</th>\n      <td>Heba</td>\n      <td>Ismail</td>\n      <td>heba.ismail@hotmail.com</td>\n      <td>K8Y 3M8</td>\n      <td>50000.0</td>\n      <td>11</td>\n      <td>56000.0</td>\n    </tr>\n    <tr>\n      <th>5</th>\n      <td>Samer</td>\n      <td>Mo</td>\n      <td>samer@gmail.com</td>\n      <td>J7H 3HY</td>\n      <td>100000.0</td>\n      <td>26</td>\n      <td>112000.0</td>\n    </tr>\n  </tbody>\n</table>\n</div>"
     },
     "execution_count": 112,
     "metadata": {},
     "output_type": "execute_result"
    }
   ]
  },
  {
   "cell_type": "code",
   "metadata": {
    "id": "8x2FQdmp4QvN",
    "ExecuteTime": {
     "end_time": "2024-01-08T11:51:31.921152Z",
     "start_time": "2024-01-08T11:51:31.711144Z"
    }
   },
   "source": [
    "df_high_networth['Net Worth'].sum()"
   ],
   "execution_count": 113,
   "outputs": [
    {
     "data": {
      "text/plain": "170000.0"
     },
     "execution_count": 113,
     "metadata": {},
     "output_type": "execute_result"
    }
   ]
  },
  {
   "cell_type": "code",
   "metadata": {
    "id": "zubS-MOi6O-y",
    "ExecuteTime": {
     "end_time": "2024-01-08T11:51:32.059116Z",
     "start_time": "2024-01-08T11:51:31.903724Z"
    }
   },
   "source": [],
   "execution_count": 113,
   "outputs": []
  },
  {
   "cell_type": "code",
   "metadata": {
    "id": "2NPlDd27FgZ9",
    "ExecuteTime": {
     "end_time": "2024-01-08T11:51:32.276011Z",
     "start_time": "2024-01-08T11:51:32.031030Z"
    }
   },
   "source": [],
   "execution_count": 113,
   "outputs": []
  },
  {
   "cell_type": "markdown",
   "metadata": {
    "id": "KqhLWr0eCzuH"
   },
   "source": [
    "**MINI CHALLENGE #13 SOLUTION:**\n",
    "- **Calculate the median monthly rate. Use the calculated median values to fill out missing data. Confirm that the process is successful**"
   ]
  },
  {
   "cell_type": "code",
   "metadata": {
    "id": "-VhsC46XDZou",
    "ExecuteTime": {
     "end_time": "2024-01-08T11:51:32.451758Z",
     "start_time": "2024-01-08T11:51:32.256607Z"
    }
   },
   "source": [
    "# Let's read a CSV file using Pandas as follows\n",
    "employee_df = pd.read_csv('Human_Resources.csv')\n",
    "employee_df"
   ],
   "execution_count": 114,
   "outputs": [
    {
     "ename": "FileNotFoundError",
     "evalue": "[Errno 2] No such file or directory: 'Human_Resources.csv'",
     "output_type": "error",
     "traceback": [
      "\u001B[0;31m---------------------------------------------------------------------------\u001B[0m",
      "\u001B[0;31mFileNotFoundError\u001B[0m                         Traceback (most recent call last)",
      "Cell \u001B[0;32mIn[114], line 2\u001B[0m\n\u001B[1;32m      1\u001B[0m \u001B[38;5;66;03m# Let's read a CSV file using Pandas as follows\u001B[39;00m\n\u001B[0;32m----> 2\u001B[0m employee_df \u001B[38;5;241m=\u001B[39m pd\u001B[38;5;241m.\u001B[39mread_csv(\u001B[38;5;124m'\u001B[39m\u001B[38;5;124mHuman_Resources.csv\u001B[39m\u001B[38;5;124m'\u001B[39m)\n\u001B[1;32m      3\u001B[0m employee_df\n",
      "File \u001B[0;32m~/anaconda3/lib/python3.11/site-packages/pandas/io/parsers/readers.py:912\u001B[0m, in \u001B[0;36mread_csv\u001B[0;34m(filepath_or_buffer, sep, delimiter, header, names, index_col, usecols, dtype, engine, converters, true_values, false_values, skipinitialspace, skiprows, skipfooter, nrows, na_values, keep_default_na, na_filter, verbose, skip_blank_lines, parse_dates, infer_datetime_format, keep_date_col, date_parser, date_format, dayfirst, cache_dates, iterator, chunksize, compression, thousands, decimal, lineterminator, quotechar, quoting, doublequote, escapechar, comment, encoding, encoding_errors, dialect, on_bad_lines, delim_whitespace, low_memory, memory_map, float_precision, storage_options, dtype_backend)\u001B[0m\n\u001B[1;32m    899\u001B[0m kwds_defaults \u001B[38;5;241m=\u001B[39m _refine_defaults_read(\n\u001B[1;32m    900\u001B[0m     dialect,\n\u001B[1;32m    901\u001B[0m     delimiter,\n\u001B[0;32m   (...)\u001B[0m\n\u001B[1;32m    908\u001B[0m     dtype_backend\u001B[38;5;241m=\u001B[39mdtype_backend,\n\u001B[1;32m    909\u001B[0m )\n\u001B[1;32m    910\u001B[0m kwds\u001B[38;5;241m.\u001B[39mupdate(kwds_defaults)\n\u001B[0;32m--> 912\u001B[0m \u001B[38;5;28;01mreturn\u001B[39;00m _read(filepath_or_buffer, kwds)\n",
      "File \u001B[0;32m~/anaconda3/lib/python3.11/site-packages/pandas/io/parsers/readers.py:577\u001B[0m, in \u001B[0;36m_read\u001B[0;34m(filepath_or_buffer, kwds)\u001B[0m\n\u001B[1;32m    574\u001B[0m _validate_names(kwds\u001B[38;5;241m.\u001B[39mget(\u001B[38;5;124m\"\u001B[39m\u001B[38;5;124mnames\u001B[39m\u001B[38;5;124m\"\u001B[39m, \u001B[38;5;28;01mNone\u001B[39;00m))\n\u001B[1;32m    576\u001B[0m \u001B[38;5;66;03m# Create the parser.\u001B[39;00m\n\u001B[0;32m--> 577\u001B[0m parser \u001B[38;5;241m=\u001B[39m TextFileReader(filepath_or_buffer, \u001B[38;5;241m*\u001B[39m\u001B[38;5;241m*\u001B[39mkwds)\n\u001B[1;32m    579\u001B[0m \u001B[38;5;28;01mif\u001B[39;00m chunksize \u001B[38;5;129;01mor\u001B[39;00m iterator:\n\u001B[1;32m    580\u001B[0m     \u001B[38;5;28;01mreturn\u001B[39;00m parser\n",
      "File \u001B[0;32m~/anaconda3/lib/python3.11/site-packages/pandas/io/parsers/readers.py:1407\u001B[0m, in \u001B[0;36mTextFileReader.__init__\u001B[0;34m(self, f, engine, **kwds)\u001B[0m\n\u001B[1;32m   1404\u001B[0m     \u001B[38;5;28mself\u001B[39m\u001B[38;5;241m.\u001B[39moptions[\u001B[38;5;124m\"\u001B[39m\u001B[38;5;124mhas_index_names\u001B[39m\u001B[38;5;124m\"\u001B[39m] \u001B[38;5;241m=\u001B[39m kwds[\u001B[38;5;124m\"\u001B[39m\u001B[38;5;124mhas_index_names\u001B[39m\u001B[38;5;124m\"\u001B[39m]\n\u001B[1;32m   1406\u001B[0m \u001B[38;5;28mself\u001B[39m\u001B[38;5;241m.\u001B[39mhandles: IOHandles \u001B[38;5;241m|\u001B[39m \u001B[38;5;28;01mNone\u001B[39;00m \u001B[38;5;241m=\u001B[39m \u001B[38;5;28;01mNone\u001B[39;00m\n\u001B[0;32m-> 1407\u001B[0m \u001B[38;5;28mself\u001B[39m\u001B[38;5;241m.\u001B[39m_engine \u001B[38;5;241m=\u001B[39m \u001B[38;5;28mself\u001B[39m\u001B[38;5;241m.\u001B[39m_make_engine(f, \u001B[38;5;28mself\u001B[39m\u001B[38;5;241m.\u001B[39mengine)\n",
      "File \u001B[0;32m~/anaconda3/lib/python3.11/site-packages/pandas/io/parsers/readers.py:1661\u001B[0m, in \u001B[0;36mTextFileReader._make_engine\u001B[0;34m(self, f, engine)\u001B[0m\n\u001B[1;32m   1659\u001B[0m     \u001B[38;5;28;01mif\u001B[39;00m \u001B[38;5;124m\"\u001B[39m\u001B[38;5;124mb\u001B[39m\u001B[38;5;124m\"\u001B[39m \u001B[38;5;129;01mnot\u001B[39;00m \u001B[38;5;129;01min\u001B[39;00m mode:\n\u001B[1;32m   1660\u001B[0m         mode \u001B[38;5;241m+\u001B[39m\u001B[38;5;241m=\u001B[39m \u001B[38;5;124m\"\u001B[39m\u001B[38;5;124mb\u001B[39m\u001B[38;5;124m\"\u001B[39m\n\u001B[0;32m-> 1661\u001B[0m \u001B[38;5;28mself\u001B[39m\u001B[38;5;241m.\u001B[39mhandles \u001B[38;5;241m=\u001B[39m get_handle(\n\u001B[1;32m   1662\u001B[0m     f,\n\u001B[1;32m   1663\u001B[0m     mode,\n\u001B[1;32m   1664\u001B[0m     encoding\u001B[38;5;241m=\u001B[39m\u001B[38;5;28mself\u001B[39m\u001B[38;5;241m.\u001B[39moptions\u001B[38;5;241m.\u001B[39mget(\u001B[38;5;124m\"\u001B[39m\u001B[38;5;124mencoding\u001B[39m\u001B[38;5;124m\"\u001B[39m, \u001B[38;5;28;01mNone\u001B[39;00m),\n\u001B[1;32m   1665\u001B[0m     compression\u001B[38;5;241m=\u001B[39m\u001B[38;5;28mself\u001B[39m\u001B[38;5;241m.\u001B[39moptions\u001B[38;5;241m.\u001B[39mget(\u001B[38;5;124m\"\u001B[39m\u001B[38;5;124mcompression\u001B[39m\u001B[38;5;124m\"\u001B[39m, \u001B[38;5;28;01mNone\u001B[39;00m),\n\u001B[1;32m   1666\u001B[0m     memory_map\u001B[38;5;241m=\u001B[39m\u001B[38;5;28mself\u001B[39m\u001B[38;5;241m.\u001B[39moptions\u001B[38;5;241m.\u001B[39mget(\u001B[38;5;124m\"\u001B[39m\u001B[38;5;124mmemory_map\u001B[39m\u001B[38;5;124m\"\u001B[39m, \u001B[38;5;28;01mFalse\u001B[39;00m),\n\u001B[1;32m   1667\u001B[0m     is_text\u001B[38;5;241m=\u001B[39mis_text,\n\u001B[1;32m   1668\u001B[0m     errors\u001B[38;5;241m=\u001B[39m\u001B[38;5;28mself\u001B[39m\u001B[38;5;241m.\u001B[39moptions\u001B[38;5;241m.\u001B[39mget(\u001B[38;5;124m\"\u001B[39m\u001B[38;5;124mencoding_errors\u001B[39m\u001B[38;5;124m\"\u001B[39m, \u001B[38;5;124m\"\u001B[39m\u001B[38;5;124mstrict\u001B[39m\u001B[38;5;124m\"\u001B[39m),\n\u001B[1;32m   1669\u001B[0m     storage_options\u001B[38;5;241m=\u001B[39m\u001B[38;5;28mself\u001B[39m\u001B[38;5;241m.\u001B[39moptions\u001B[38;5;241m.\u001B[39mget(\u001B[38;5;124m\"\u001B[39m\u001B[38;5;124mstorage_options\u001B[39m\u001B[38;5;124m\"\u001B[39m, \u001B[38;5;28;01mNone\u001B[39;00m),\n\u001B[1;32m   1670\u001B[0m )\n\u001B[1;32m   1671\u001B[0m \u001B[38;5;28;01massert\u001B[39;00m \u001B[38;5;28mself\u001B[39m\u001B[38;5;241m.\u001B[39mhandles \u001B[38;5;129;01mis\u001B[39;00m \u001B[38;5;129;01mnot\u001B[39;00m \u001B[38;5;28;01mNone\u001B[39;00m\n\u001B[1;32m   1672\u001B[0m f \u001B[38;5;241m=\u001B[39m \u001B[38;5;28mself\u001B[39m\u001B[38;5;241m.\u001B[39mhandles\u001B[38;5;241m.\u001B[39mhandle\n",
      "File \u001B[0;32m~/anaconda3/lib/python3.11/site-packages/pandas/io/common.py:859\u001B[0m, in \u001B[0;36mget_handle\u001B[0;34m(path_or_buf, mode, encoding, compression, memory_map, is_text, errors, storage_options)\u001B[0m\n\u001B[1;32m    854\u001B[0m \u001B[38;5;28;01melif\u001B[39;00m \u001B[38;5;28misinstance\u001B[39m(handle, \u001B[38;5;28mstr\u001B[39m):\n\u001B[1;32m    855\u001B[0m     \u001B[38;5;66;03m# Check whether the filename is to be opened in binary mode.\u001B[39;00m\n\u001B[1;32m    856\u001B[0m     \u001B[38;5;66;03m# Binary mode does not support 'encoding' and 'newline'.\u001B[39;00m\n\u001B[1;32m    857\u001B[0m     \u001B[38;5;28;01mif\u001B[39;00m ioargs\u001B[38;5;241m.\u001B[39mencoding \u001B[38;5;129;01mand\u001B[39;00m \u001B[38;5;124m\"\u001B[39m\u001B[38;5;124mb\u001B[39m\u001B[38;5;124m\"\u001B[39m \u001B[38;5;129;01mnot\u001B[39;00m \u001B[38;5;129;01min\u001B[39;00m ioargs\u001B[38;5;241m.\u001B[39mmode:\n\u001B[1;32m    858\u001B[0m         \u001B[38;5;66;03m# Encoding\u001B[39;00m\n\u001B[0;32m--> 859\u001B[0m         handle \u001B[38;5;241m=\u001B[39m \u001B[38;5;28mopen\u001B[39m(\n\u001B[1;32m    860\u001B[0m             handle,\n\u001B[1;32m    861\u001B[0m             ioargs\u001B[38;5;241m.\u001B[39mmode,\n\u001B[1;32m    862\u001B[0m             encoding\u001B[38;5;241m=\u001B[39mioargs\u001B[38;5;241m.\u001B[39mencoding,\n\u001B[1;32m    863\u001B[0m             errors\u001B[38;5;241m=\u001B[39merrors,\n\u001B[1;32m    864\u001B[0m             newline\u001B[38;5;241m=\u001B[39m\u001B[38;5;124m\"\u001B[39m\u001B[38;5;124m\"\u001B[39m,\n\u001B[1;32m    865\u001B[0m         )\n\u001B[1;32m    866\u001B[0m     \u001B[38;5;28;01melse\u001B[39;00m:\n\u001B[1;32m    867\u001B[0m         \u001B[38;5;66;03m# Binary mode\u001B[39;00m\n\u001B[1;32m    868\u001B[0m         handle \u001B[38;5;241m=\u001B[39m \u001B[38;5;28mopen\u001B[39m(handle, ioargs\u001B[38;5;241m.\u001B[39mmode)\n",
      "\u001B[0;31mFileNotFoundError\u001B[0m: [Errno 2] No such file or directory: 'Human_Resources.csv'"
     ]
    }
   ]
  },
  {
   "cell_type": "code",
   "metadata": {
    "id": "N1d-8D4QDkd2",
    "ExecuteTime": {
     "start_time": "2024-01-08T11:51:32.366774Z"
    }
   },
   "source": [
    "# first, let's locate rows that have Null values\n",
    "employee_df.isnull().sum()"
   ],
   "execution_count": 115,
   "outputs": [
    {
     "ename": "NameError",
     "evalue": "name 'employee_df' is not defined",
     "output_type": "error",
     "traceback": [
      "\u001B[0;31m---------------------------------------------------------------------------\u001B[0m",
      "\u001B[0;31mNameError\u001B[0m                                 Traceback (most recent call last)",
      "Cell \u001B[0;32mIn[115], line 2\u001B[0m\n\u001B[1;32m      1\u001B[0m \u001B[38;5;66;03m# first, let's locate rows that have Null values\u001B[39;00m\n\u001B[0;32m----> 2\u001B[0m employee_df\u001B[38;5;241m.\u001B[39misnull()\u001B[38;5;241m.\u001B[39msum()\n",
      "\u001B[0;31mNameError\u001B[0m: name 'employee_df' is not defined"
     ]
    }
   ]
  },
  {
   "cell_type": "code",
   "metadata": {
    "id": "WghecEfHDT8V",
    "ExecuteTime": {
     "end_time": "2024-01-08T11:51:32.814566Z",
     "start_time": "2024-01-08T11:51:32.516399Z"
    }
   },
   "source": [
    "# Calculate the average monthly income\n",
    "employee_df['MonthlyRate'].median()"
   ],
   "execution_count": 116,
   "outputs": [
    {
     "ename": "NameError",
     "evalue": "name 'employee_df' is not defined",
     "output_type": "error",
     "traceback": [
      "\u001B[0;31m---------------------------------------------------------------------------\u001B[0m",
      "\u001B[0;31mNameError\u001B[0m                                 Traceback (most recent call last)",
      "Cell \u001B[0;32mIn[116], line 2\u001B[0m\n\u001B[1;32m      1\u001B[0m \u001B[38;5;66;03m# Calculate the average monthly income\u001B[39;00m\n\u001B[0;32m----> 2\u001B[0m employee_df[\u001B[38;5;124m'\u001B[39m\u001B[38;5;124mMonthlyRate\u001B[39m\u001B[38;5;124m'\u001B[39m]\u001B[38;5;241m.\u001B[39mmedian()\n",
      "\u001B[0;31mNameError\u001B[0m: name 'employee_df' is not defined"
     ]
    }
   ]
  },
  {
   "cell_type": "code",
   "metadata": {
    "id": "6lP1tpSqDY7l",
    "ExecuteTime": {
     "start_time": "2024-01-08T11:51:32.776864Z"
    }
   },
   "source": [
    "# You can use Fillna to fill a given column with a certain value\n",
    "employee_df['MonthlyRate'].fillna(employee_df['MonthlyRate'].median(), inplace=True)\n"
   ],
   "execution_count": 117,
   "outputs": [
    {
     "ename": "NameError",
     "evalue": "name 'employee_df' is not defined",
     "output_type": "error",
     "traceback": [
      "\u001B[0;31m---------------------------------------------------------------------------\u001B[0m",
      "\u001B[0;31mNameError\u001B[0m                                 Traceback (most recent call last)",
      "Cell \u001B[0;32mIn[117], line 2\u001B[0m\n\u001B[1;32m      1\u001B[0m \u001B[38;5;66;03m# You can use Fillna to fill a given column with a certain value\u001B[39;00m\n\u001B[0;32m----> 2\u001B[0m employee_df[\u001B[38;5;124m'\u001B[39m\u001B[38;5;124mMonthlyRate\u001B[39m\u001B[38;5;124m'\u001B[39m]\u001B[38;5;241m.\u001B[39mfillna(employee_df[\u001B[38;5;124m'\u001B[39m\u001B[38;5;124mMonthlyRate\u001B[39m\u001B[38;5;124m'\u001B[39m]\u001B[38;5;241m.\u001B[39mmedian(), inplace \u001B[38;5;241m=\u001B[39m \u001B[38;5;28;01mTrue\u001B[39;00m)\n",
      "\u001B[0;31mNameError\u001B[0m: name 'employee_df' is not defined"
     ]
    }
   ]
  },
  {
   "cell_type": "code",
   "metadata": {
    "id": "38IME-_ODY-k",
    "ExecuteTime": {
     "end_time": "2024-01-08T11:51:33.140437Z",
     "start_time": "2024-01-08T11:51:32.915923Z"
    }
   },
   "source": [
    "employee_df"
   ],
   "execution_count": 118,
   "outputs": [
    {
     "ename": "NameError",
     "evalue": "name 'employee_df' is not defined",
     "output_type": "error",
     "traceback": [
      "\u001B[0;31m---------------------------------------------------------------------------\u001B[0m",
      "\u001B[0;31mNameError\u001B[0m                                 Traceback (most recent call last)",
      "Cell \u001B[0;32mIn[118], line 1\u001B[0m\n\u001B[0;32m----> 1\u001B[0m employee_df\n",
      "\u001B[0;31mNameError\u001B[0m: name 'employee_df' is not defined"
     ]
    }
   ]
  },
  {
   "cell_type": "code",
   "metadata": {
    "id": "Ns6P1_a-D8P_",
    "ExecuteTime": {
     "start_time": "2024-01-08T11:51:33.126217Z"
    }
   },
   "source": [
    "# first, let's locate rows that have Null values\n",
    "employee_df.isnull().sum()"
   ],
   "execution_count": 119,
   "outputs": [
    {
     "ename": "NameError",
     "evalue": "name 'employee_df' is not defined",
     "output_type": "error",
     "traceback": [
      "\u001B[0;31m---------------------------------------------------------------------------\u001B[0m",
      "\u001B[0;31mNameError\u001B[0m                                 Traceback (most recent call last)",
      "Cell \u001B[0;32mIn[119], line 2\u001B[0m\n\u001B[1;32m      1\u001B[0m \u001B[38;5;66;03m# first, let's locate rows that have Null values\u001B[39;00m\n\u001B[0;32m----> 2\u001B[0m employee_df\u001B[38;5;241m.\u001B[39misnull()\u001B[38;5;241m.\u001B[39msum()\n",
      "\u001B[0;31mNameError\u001B[0m: name 'employee_df' is not defined"
     ]
    }
   ]
  },
  {
   "cell_type": "code",
   "metadata": {
    "id": "bzTqzNKeFgdL",
    "ExecuteTime": {
     "end_time": "2024-01-08T11:51:33.410160Z",
     "start_time": "2024-01-08T11:51:33.194173Z"
    }
   },
   "source": [],
   "execution_count": 119,
   "outputs": []
  },
  {
   "cell_type": "code",
   "metadata": {
    "id": "6vH-RtJfFPHp",
    "ExecuteTime": {
     "end_time": "2024-01-08T11:51:33.519105Z",
     "start_time": "2024-01-08T11:51:33.401880Z"
    }
   },
   "source": [],
   "execution_count": 119,
   "outputs": []
  },
  {
   "cell_type": "markdown",
   "metadata": {
    "id": "uFYdrl9-Eji4"
   },
   "source": [
    "**MINI CHALLENGE #14 SOLUTION:**\n",
    "- **Convert the BusinessTravel column to category format.** \n",
    "- **How many KBytes in memory have been saved?**"
   ]
  },
  {
   "cell_type": "code",
   "metadata": {
    "id": "Eew-jmayE1GV",
    "ExecuteTime": {
     "end_time": "2024-01-08T11:51:33.657393Z",
     "start_time": "2024-01-08T11:51:33.512879Z"
    }
   },
   "source": [
    "# Let's read a CSV file using Pandas as follows\n",
    "employee_df = pd.read_csv('Human_Resources.csv')\n",
    "employee_df.info()"
   ],
   "execution_count": 120,
   "outputs": [
    {
     "ename": "FileNotFoundError",
     "evalue": "[Errno 2] No such file or directory: 'Human_Resources.csv'",
     "output_type": "error",
     "traceback": [
      "\u001B[0;31m---------------------------------------------------------------------------\u001B[0m",
      "\u001B[0;31mFileNotFoundError\u001B[0m                         Traceback (most recent call last)",
      "Cell \u001B[0;32mIn[120], line 2\u001B[0m\n\u001B[1;32m      1\u001B[0m \u001B[38;5;66;03m# Let's read a CSV file using Pandas as follows\u001B[39;00m\n\u001B[0;32m----> 2\u001B[0m employee_df \u001B[38;5;241m=\u001B[39m pd\u001B[38;5;241m.\u001B[39mread_csv(\u001B[38;5;124m'\u001B[39m\u001B[38;5;124mHuman_Resources.csv\u001B[39m\u001B[38;5;124m'\u001B[39m)\n\u001B[1;32m      3\u001B[0m employee_df\u001B[38;5;241m.\u001B[39minfo()\n",
      "File \u001B[0;32m~/anaconda3/lib/python3.11/site-packages/pandas/io/parsers/readers.py:912\u001B[0m, in \u001B[0;36mread_csv\u001B[0;34m(filepath_or_buffer, sep, delimiter, header, names, index_col, usecols, dtype, engine, converters, true_values, false_values, skipinitialspace, skiprows, skipfooter, nrows, na_values, keep_default_na, na_filter, verbose, skip_blank_lines, parse_dates, infer_datetime_format, keep_date_col, date_parser, date_format, dayfirst, cache_dates, iterator, chunksize, compression, thousands, decimal, lineterminator, quotechar, quoting, doublequote, escapechar, comment, encoding, encoding_errors, dialect, on_bad_lines, delim_whitespace, low_memory, memory_map, float_precision, storage_options, dtype_backend)\u001B[0m\n\u001B[1;32m    899\u001B[0m kwds_defaults \u001B[38;5;241m=\u001B[39m _refine_defaults_read(\n\u001B[1;32m    900\u001B[0m     dialect,\n\u001B[1;32m    901\u001B[0m     delimiter,\n\u001B[0;32m   (...)\u001B[0m\n\u001B[1;32m    908\u001B[0m     dtype_backend\u001B[38;5;241m=\u001B[39mdtype_backend,\n\u001B[1;32m    909\u001B[0m )\n\u001B[1;32m    910\u001B[0m kwds\u001B[38;5;241m.\u001B[39mupdate(kwds_defaults)\n\u001B[0;32m--> 912\u001B[0m \u001B[38;5;28;01mreturn\u001B[39;00m _read(filepath_or_buffer, kwds)\n",
      "File \u001B[0;32m~/anaconda3/lib/python3.11/site-packages/pandas/io/parsers/readers.py:577\u001B[0m, in \u001B[0;36m_read\u001B[0;34m(filepath_or_buffer, kwds)\u001B[0m\n\u001B[1;32m    574\u001B[0m _validate_names(kwds\u001B[38;5;241m.\u001B[39mget(\u001B[38;5;124m\"\u001B[39m\u001B[38;5;124mnames\u001B[39m\u001B[38;5;124m\"\u001B[39m, \u001B[38;5;28;01mNone\u001B[39;00m))\n\u001B[1;32m    576\u001B[0m \u001B[38;5;66;03m# Create the parser.\u001B[39;00m\n\u001B[0;32m--> 577\u001B[0m parser \u001B[38;5;241m=\u001B[39m TextFileReader(filepath_or_buffer, \u001B[38;5;241m*\u001B[39m\u001B[38;5;241m*\u001B[39mkwds)\n\u001B[1;32m    579\u001B[0m \u001B[38;5;28;01mif\u001B[39;00m chunksize \u001B[38;5;129;01mor\u001B[39;00m iterator:\n\u001B[1;32m    580\u001B[0m     \u001B[38;5;28;01mreturn\u001B[39;00m parser\n",
      "File \u001B[0;32m~/anaconda3/lib/python3.11/site-packages/pandas/io/parsers/readers.py:1407\u001B[0m, in \u001B[0;36mTextFileReader.__init__\u001B[0;34m(self, f, engine, **kwds)\u001B[0m\n\u001B[1;32m   1404\u001B[0m     \u001B[38;5;28mself\u001B[39m\u001B[38;5;241m.\u001B[39moptions[\u001B[38;5;124m\"\u001B[39m\u001B[38;5;124mhas_index_names\u001B[39m\u001B[38;5;124m\"\u001B[39m] \u001B[38;5;241m=\u001B[39m kwds[\u001B[38;5;124m\"\u001B[39m\u001B[38;5;124mhas_index_names\u001B[39m\u001B[38;5;124m\"\u001B[39m]\n\u001B[1;32m   1406\u001B[0m \u001B[38;5;28mself\u001B[39m\u001B[38;5;241m.\u001B[39mhandles: IOHandles \u001B[38;5;241m|\u001B[39m \u001B[38;5;28;01mNone\u001B[39;00m \u001B[38;5;241m=\u001B[39m \u001B[38;5;28;01mNone\u001B[39;00m\n\u001B[0;32m-> 1407\u001B[0m \u001B[38;5;28mself\u001B[39m\u001B[38;5;241m.\u001B[39m_engine \u001B[38;5;241m=\u001B[39m \u001B[38;5;28mself\u001B[39m\u001B[38;5;241m.\u001B[39m_make_engine(f, \u001B[38;5;28mself\u001B[39m\u001B[38;5;241m.\u001B[39mengine)\n",
      "File \u001B[0;32m~/anaconda3/lib/python3.11/site-packages/pandas/io/parsers/readers.py:1661\u001B[0m, in \u001B[0;36mTextFileReader._make_engine\u001B[0;34m(self, f, engine)\u001B[0m\n\u001B[1;32m   1659\u001B[0m     \u001B[38;5;28;01mif\u001B[39;00m \u001B[38;5;124m\"\u001B[39m\u001B[38;5;124mb\u001B[39m\u001B[38;5;124m\"\u001B[39m \u001B[38;5;129;01mnot\u001B[39;00m \u001B[38;5;129;01min\u001B[39;00m mode:\n\u001B[1;32m   1660\u001B[0m         mode \u001B[38;5;241m+\u001B[39m\u001B[38;5;241m=\u001B[39m \u001B[38;5;124m\"\u001B[39m\u001B[38;5;124mb\u001B[39m\u001B[38;5;124m\"\u001B[39m\n\u001B[0;32m-> 1661\u001B[0m \u001B[38;5;28mself\u001B[39m\u001B[38;5;241m.\u001B[39mhandles \u001B[38;5;241m=\u001B[39m get_handle(\n\u001B[1;32m   1662\u001B[0m     f,\n\u001B[1;32m   1663\u001B[0m     mode,\n\u001B[1;32m   1664\u001B[0m     encoding\u001B[38;5;241m=\u001B[39m\u001B[38;5;28mself\u001B[39m\u001B[38;5;241m.\u001B[39moptions\u001B[38;5;241m.\u001B[39mget(\u001B[38;5;124m\"\u001B[39m\u001B[38;5;124mencoding\u001B[39m\u001B[38;5;124m\"\u001B[39m, \u001B[38;5;28;01mNone\u001B[39;00m),\n\u001B[1;32m   1665\u001B[0m     compression\u001B[38;5;241m=\u001B[39m\u001B[38;5;28mself\u001B[39m\u001B[38;5;241m.\u001B[39moptions\u001B[38;5;241m.\u001B[39mget(\u001B[38;5;124m\"\u001B[39m\u001B[38;5;124mcompression\u001B[39m\u001B[38;5;124m\"\u001B[39m, \u001B[38;5;28;01mNone\u001B[39;00m),\n\u001B[1;32m   1666\u001B[0m     memory_map\u001B[38;5;241m=\u001B[39m\u001B[38;5;28mself\u001B[39m\u001B[38;5;241m.\u001B[39moptions\u001B[38;5;241m.\u001B[39mget(\u001B[38;5;124m\"\u001B[39m\u001B[38;5;124mmemory_map\u001B[39m\u001B[38;5;124m\"\u001B[39m, \u001B[38;5;28;01mFalse\u001B[39;00m),\n\u001B[1;32m   1667\u001B[0m     is_text\u001B[38;5;241m=\u001B[39mis_text,\n\u001B[1;32m   1668\u001B[0m     errors\u001B[38;5;241m=\u001B[39m\u001B[38;5;28mself\u001B[39m\u001B[38;5;241m.\u001B[39moptions\u001B[38;5;241m.\u001B[39mget(\u001B[38;5;124m\"\u001B[39m\u001B[38;5;124mencoding_errors\u001B[39m\u001B[38;5;124m\"\u001B[39m, \u001B[38;5;124m\"\u001B[39m\u001B[38;5;124mstrict\u001B[39m\u001B[38;5;124m\"\u001B[39m),\n\u001B[1;32m   1669\u001B[0m     storage_options\u001B[38;5;241m=\u001B[39m\u001B[38;5;28mself\u001B[39m\u001B[38;5;241m.\u001B[39moptions\u001B[38;5;241m.\u001B[39mget(\u001B[38;5;124m\"\u001B[39m\u001B[38;5;124mstorage_options\u001B[39m\u001B[38;5;124m\"\u001B[39m, \u001B[38;5;28;01mNone\u001B[39;00m),\n\u001B[1;32m   1670\u001B[0m )\n\u001B[1;32m   1671\u001B[0m \u001B[38;5;28;01massert\u001B[39;00m \u001B[38;5;28mself\u001B[39m\u001B[38;5;241m.\u001B[39mhandles \u001B[38;5;129;01mis\u001B[39;00m \u001B[38;5;129;01mnot\u001B[39;00m \u001B[38;5;28;01mNone\u001B[39;00m\n\u001B[1;32m   1672\u001B[0m f \u001B[38;5;241m=\u001B[39m \u001B[38;5;28mself\u001B[39m\u001B[38;5;241m.\u001B[39mhandles\u001B[38;5;241m.\u001B[39mhandle\n",
      "File \u001B[0;32m~/anaconda3/lib/python3.11/site-packages/pandas/io/common.py:859\u001B[0m, in \u001B[0;36mget_handle\u001B[0;34m(path_or_buf, mode, encoding, compression, memory_map, is_text, errors, storage_options)\u001B[0m\n\u001B[1;32m    854\u001B[0m \u001B[38;5;28;01melif\u001B[39;00m \u001B[38;5;28misinstance\u001B[39m(handle, \u001B[38;5;28mstr\u001B[39m):\n\u001B[1;32m    855\u001B[0m     \u001B[38;5;66;03m# Check whether the filename is to be opened in binary mode.\u001B[39;00m\n\u001B[1;32m    856\u001B[0m     \u001B[38;5;66;03m# Binary mode does not support 'encoding' and 'newline'.\u001B[39;00m\n\u001B[1;32m    857\u001B[0m     \u001B[38;5;28;01mif\u001B[39;00m ioargs\u001B[38;5;241m.\u001B[39mencoding \u001B[38;5;129;01mand\u001B[39;00m \u001B[38;5;124m\"\u001B[39m\u001B[38;5;124mb\u001B[39m\u001B[38;5;124m\"\u001B[39m \u001B[38;5;129;01mnot\u001B[39;00m \u001B[38;5;129;01min\u001B[39;00m ioargs\u001B[38;5;241m.\u001B[39mmode:\n\u001B[1;32m    858\u001B[0m         \u001B[38;5;66;03m# Encoding\u001B[39;00m\n\u001B[0;32m--> 859\u001B[0m         handle \u001B[38;5;241m=\u001B[39m \u001B[38;5;28mopen\u001B[39m(\n\u001B[1;32m    860\u001B[0m             handle,\n\u001B[1;32m    861\u001B[0m             ioargs\u001B[38;5;241m.\u001B[39mmode,\n\u001B[1;32m    862\u001B[0m             encoding\u001B[38;5;241m=\u001B[39mioargs\u001B[38;5;241m.\u001B[39mencoding,\n\u001B[1;32m    863\u001B[0m             errors\u001B[38;5;241m=\u001B[39merrors,\n\u001B[1;32m    864\u001B[0m             newline\u001B[38;5;241m=\u001B[39m\u001B[38;5;124m\"\u001B[39m\u001B[38;5;124m\"\u001B[39m,\n\u001B[1;32m    865\u001B[0m         )\n\u001B[1;32m    866\u001B[0m     \u001B[38;5;28;01melse\u001B[39;00m:\n\u001B[1;32m    867\u001B[0m         \u001B[38;5;66;03m# Binary mode\u001B[39;00m\n\u001B[1;32m    868\u001B[0m         handle \u001B[38;5;241m=\u001B[39m \u001B[38;5;28mopen\u001B[39m(handle, ioargs\u001B[38;5;241m.\u001B[39mmode)\n",
      "\u001B[0;31mFileNotFoundError\u001B[0m: [Errno 2] No such file or directory: 'Human_Resources.csv'"
     ]
    }
   ]
  },
  {
   "cell_type": "code",
   "metadata": {
    "id": "WpoFZeCt_g0c",
    "ExecuteTime": {
     "start_time": "2024-01-08T11:51:33.637868Z"
    }
   },
   "source": [
    "employee_df[\"BusinessTravel\"] = employee_df['BusinessTravel'].astype(\"category\")\n",
    "employee_df.info()"
   ],
   "execution_count": 121,
   "outputs": [
    {
     "ename": "NameError",
     "evalue": "name 'employee_df' is not defined",
     "output_type": "error",
     "traceback": [
      "\u001B[0;31m---------------------------------------------------------------------------\u001B[0m",
      "\u001B[0;31mNameError\u001B[0m                                 Traceback (most recent call last)",
      "Cell \u001B[0;32mIn[121], line 1\u001B[0m\n\u001B[0;32m----> 1\u001B[0m employee_df[\u001B[38;5;124m\"\u001B[39m\u001B[38;5;124mBusinessTravel\u001B[39m\u001B[38;5;124m\"\u001B[39m] \u001B[38;5;241m=\u001B[39m employee_df[\u001B[38;5;124m'\u001B[39m\u001B[38;5;124mBusinessTravel\u001B[39m\u001B[38;5;124m'\u001B[39m]\u001B[38;5;241m.\u001B[39mastype(\u001B[38;5;124m\"\u001B[39m\u001B[38;5;124mcategory\u001B[39m\u001B[38;5;124m\"\u001B[39m)\n\u001B[1;32m      2\u001B[0m employee_df\u001B[38;5;241m.\u001B[39minfo()\n",
      "\u001B[0;31mNameError\u001B[0m: name 'employee_df' is not defined"
     ]
    }
   ]
  },
  {
   "cell_type": "code",
   "metadata": {
    "id": "ZYcKNjwvE8G9",
    "ExecuteTime": {
     "end_time": "2024-01-08T11:51:33.877789Z",
     "start_time": "2024-01-08T11:51:33.691203Z"
    }
   },
   "source": [
    "# 402.1+ KB vs. 392.1+ KB "
   ],
   "execution_count": 122,
   "outputs": []
  },
  {
   "cell_type": "code",
   "metadata": {
    "id": "bDS2bBH_FPKr",
    "ExecuteTime": {
     "end_time": "2024-01-08T11:51:34.050522Z",
     "start_time": "2024-01-08T11:51:33.875527Z"
    }
   },
   "source": [],
   "execution_count": 122,
   "outputs": []
  },
  {
   "cell_type": "code",
   "metadata": {
    "id": "kpg11qG_GAOJ",
    "ExecuteTime": {
     "end_time": "2024-01-08T11:51:34.151122Z",
     "start_time": "2024-01-08T11:51:34.045962Z"
    }
   },
   "source": [],
   "execution_count": 122,
   "outputs": []
  },
  {
   "cell_type": "code",
   "metadata": {
    "id": "Jn4u7V-KGARk",
    "ExecuteTime": {
     "end_time": "2024-01-08T11:51:34.253534Z",
     "start_time": "2024-01-08T11:51:34.141184Z"
    }
   },
   "source": [],
   "execution_count": 122,
   "outputs": []
  },
  {
   "cell_type": "code",
   "metadata": {
    "id": "W-_7u8gMGAVb",
    "ExecuteTime": {
     "end_time": "2024-01-08T11:51:34.465156Z",
     "start_time": "2024-01-08T11:51:34.241331Z"
    }
   },
   "source": [],
   "execution_count": 122,
   "outputs": []
  },
  {
   "cell_type": "code",
   "metadata": {
    "id": "Ptz7XOO-GAY7",
    "ExecuteTime": {
     "end_time": "2024-01-08T11:51:34.869176Z",
     "start_time": "2024-01-08T11:51:34.315878Z"
    }
   },
   "source": [],
   "execution_count": 122,
   "outputs": []
  },
  {
   "cell_type": "code",
   "metadata": {
    "id": "AP5xHe8pFPOS",
    "ExecuteTime": {
     "end_time": "2024-01-08T11:51:34.978812Z",
     "start_time": "2024-01-08T11:51:34.866694Z"
    }
   },
   "source": [],
   "execution_count": 122,
   "outputs": []
  },
  {
   "cell_type": "markdown",
   "metadata": {
    "id": "i83R6Kvb_cGZ"
   },
   "source": [
    "**MINI CHALLENGE #6 SOLUTION:**\n",
    "- **Let's assume that you became a new client to the bank**\n",
    "- **Define a new DataFrame that contains your information such as client ID (choose 11), first name, last name, and annual salary.**\n",
    "- **Add this new dataframe to the original dataframe \"bank_df_all\".** "
   ]
  },
  {
   "cell_type": "code",
   "metadata": {
    "id": "YmxlF6op_cGc",
    "ExecuteTime": {
     "end_time": "2024-01-08T11:51:35.129337Z",
     "start_time": "2024-01-08T11:51:34.972130Z"
    }
   },
   "source": [
    "new_client = {\n",
    "    'Bank Client ID': ['11'],\n",
    "    'First Name': ['Ry'],\n",
    "    'Last Name': ['Aly'],\n",
    "    'Annual Salary [$/year]': [1000]}\n",
    "new_client_df = pd.DataFrame(new_client,\n",
    "                             columns=['Bank Client ID', 'First Name', 'Last Name', 'Annual Salary [$/year]'])\n",
    "new_client_df"
   ],
   "execution_count": 123,
   "outputs": [
    {
     "data": {
      "text/plain": "  Bank Client ID First Name Last Name  Annual Salary [$/year]\n0             11         Ry       Aly                    1000",
      "text/html": "<div>\n<style scoped>\n    .dataframe tbody tr th:only-of-type {\n        vertical-align: middle;\n    }\n\n    .dataframe tbody tr th {\n        vertical-align: top;\n    }\n\n    .dataframe thead th {\n        text-align: right;\n    }\n</style>\n<table border=\"1\" class=\"dataframe\">\n  <thead>\n    <tr style=\"text-align: right;\">\n      <th></th>\n      <th>Bank Client ID</th>\n      <th>First Name</th>\n      <th>Last Name</th>\n      <th>Annual Salary [$/year]</th>\n    </tr>\n  </thead>\n  <tbody>\n    <tr>\n      <th>0</th>\n      <td>11</td>\n      <td>Ry</td>\n      <td>Aly</td>\n      <td>1000</td>\n    </tr>\n  </tbody>\n</table>\n</div>"
     },
     "execution_count": 123,
     "metadata": {},
     "output_type": "execute_result"
    }
   ]
  },
  {
   "cell_type": "code",
   "metadata": {
    "id": "dhOKOcVR_cGl",
    "ExecuteTime": {
     "end_time": "2024-01-08T11:51:35.308157Z",
     "start_time": "2024-01-08T11:51:35.126922Z"
    }
   },
   "source": [
    "new_df = pd.concat([bank_df_all, new_client_df], axis=0)\n",
    "new_df"
   ],
   "execution_count": 124,
   "outputs": [
    {
     "ename": "NameError",
     "evalue": "name 'bank_df_all' is not defined",
     "output_type": "error",
     "traceback": [
      "\u001B[0;31m---------------------------------------------------------------------------\u001B[0m",
      "\u001B[0;31mNameError\u001B[0m                                 Traceback (most recent call last)",
      "Cell \u001B[0;32mIn[124], line 1\u001B[0m\n\u001B[0;32m----> 1\u001B[0m new_df \u001B[38;5;241m=\u001B[39m pd\u001B[38;5;241m.\u001B[39mconcat([bank_df_all, new_client_df], axis \u001B[38;5;241m=\u001B[39m \u001B[38;5;241m0\u001B[39m)\n\u001B[1;32m      2\u001B[0m new_df\n",
      "\u001B[0;31mNameError\u001B[0m: name 'bank_df_all' is not defined"
     ]
    }
   ]
  },
  {
   "cell_type": "markdown",
   "metadata": {
    "id": "0hGHPtPNeKtL"
   },
   "source": [
    "**MINI CHALLENGE #6 SOLUTION:**\n",
    "- **Let's assume that you became a new client to the bank**\n",
    "- **Define a new DataFrame that contains your information such as client ID (choose 11), first name, last name, and annual salary.**\n",
    "- **Add this new dataframe to the original dataframe \"bank_df_all\".** "
   ]
  },
  {
   "cell_type": "code",
   "metadata": {
    "id": "JFo9-tlveKtL",
    "ExecuteTime": {
     "end_time": "2024-01-08T11:51:35.421618Z",
     "start_time": "2024-01-08T11:51:35.232278Z"
    }
   },
   "source": [
    "new_client = {\n",
    "    'Bank Client ID': ['11'],\n",
    "    'First Name': ['Ry'],\n",
    "    'Last Name': ['Aly'],\n",
    "    'Annual Salary [$/year]': [1000]}\n",
    "new_client_df = pd.DataFrame(new_client,\n",
    "                             columns=['Bank Client ID', 'First Name', 'Last Name', 'Annual Salary [$/year]'])\n",
    "new_client_df"
   ],
   "execution_count": 125,
   "outputs": [
    {
     "data": {
      "text/plain": "  Bank Client ID First Name Last Name  Annual Salary [$/year]\n0             11         Ry       Aly                    1000",
      "text/html": "<div>\n<style scoped>\n    .dataframe tbody tr th:only-of-type {\n        vertical-align: middle;\n    }\n\n    .dataframe tbody tr th {\n        vertical-align: top;\n    }\n\n    .dataframe thead th {\n        text-align: right;\n    }\n</style>\n<table border=\"1\" class=\"dataframe\">\n  <thead>\n    <tr style=\"text-align: right;\">\n      <th></th>\n      <th>Bank Client ID</th>\n      <th>First Name</th>\n      <th>Last Name</th>\n      <th>Annual Salary [$/year]</th>\n    </tr>\n  </thead>\n  <tbody>\n    <tr>\n      <th>0</th>\n      <td>11</td>\n      <td>Ry</td>\n      <td>Aly</td>\n      <td>1000</td>\n    </tr>\n  </tbody>\n</table>\n</div>"
     },
     "execution_count": 125,
     "metadata": {},
     "output_type": "execute_result"
    }
   ]
  },
  {
   "cell_type": "code",
   "metadata": {
    "id": "SH3ShAgbeKtM",
    "ExecuteTime": {
     "end_time": "2024-01-08T11:51:35.758016Z",
     "start_time": "2024-01-08T11:51:35.386626Z"
    }
   },
   "source": [
    "new_df = pd.concat([bank_df_all, new_client_df], axis=0)\n",
    "new_df"
   ],
   "execution_count": 126,
   "outputs": [
    {
     "ename": "NameError",
     "evalue": "name 'bank_df_all' is not defined",
     "output_type": "error",
     "traceback": [
      "\u001B[0;31m---------------------------------------------------------------------------\u001B[0m",
      "\u001B[0;31mNameError\u001B[0m                                 Traceback (most recent call last)",
      "Cell \u001B[0;32mIn[126], line 1\u001B[0m\n\u001B[0;32m----> 1\u001B[0m new_df \u001B[38;5;241m=\u001B[39m pd\u001B[38;5;241m.\u001B[39mconcat([bank_df_all, new_client_df], axis \u001B[38;5;241m=\u001B[39m \u001B[38;5;241m0\u001B[39m)\n\u001B[1;32m      2\u001B[0m new_df\n",
      "\u001B[0;31mNameError\u001B[0m: name 'bank_df_all' is not defined"
     ]
    }
   ]
  }
 ]
}
