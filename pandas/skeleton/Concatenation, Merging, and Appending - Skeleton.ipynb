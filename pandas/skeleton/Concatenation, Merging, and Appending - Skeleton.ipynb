{
 "nbformat": 4,
 "nbformat_minor": 0,
 "metadata": {
  "colab": {
   "name": "Concatenation, Merging, and Appending - Skeleton Backup.ipynb",
   "provenance": [],
   "collapsed_sections": [],
   "toc_visible": true,
   "authorship_tag": "ABX9TyO9UgFiSYVY/NF3HhCIfgwj"
  },
  "kernelspec": {
   "name": "python3",
   "language": "python",
   "display_name": "Python 3 (ipykernel)"
  },
  "language_info": {
   "name": "python"
  }
 },
 "cells": [
  {
   "cell_type": "markdown",
   "metadata": {
    "id": "XAix4DVfvKGe"
   },
   "source": [
    "# 1. DATAFRAME CONCATENATION"
   ]
  },
  {
   "cell_type": "code",
   "metadata": {
    "id": "oPjnalmv-kY7",
    "ExecuteTime": {
     "end_time": "2024-01-10T06:14:08.336887Z",
     "start_time": "2024-01-10T06:14:07.889154Z"
    }
   },
   "source": [
    "# Import Pandas\n",
    "import pandas as pd"
   ],
   "execution_count": 1,
   "outputs": []
  },
  {
   "cell_type": "code",
   "metadata": {
    "id": "4_KBD8YGvcRV",
    "ExecuteTime": {
     "end_time": "2024-01-10T06:14:08.357841Z",
     "start_time": "2024-01-10T06:14:08.339557Z"
    }
   },
   "source": [
    "# Creating a dataframe from a dictionary\n",
    "# Let's define a dataframe with a list of bank clients with IDs = 1, 2, 3, 4, 5 \n",
    "# Check this out: https://pandas.pydata.org/pandas-docs/stable/user_guide/merging.html\n",
    "raw_data = {'Bank Client Id' : ['1','2','3','4','5'],\n",
    "            'First Name' : ['Nancy','Alex','Shep','Max','Allen'],\n",
    "            'Last Name' : ['Rob','Ali','George','Mitch','Steve']}\n",
    "\n",
    "\n",
    "bank1_df = pd.DataFrame(raw_data)\n",
    "bank1_df"
   ],
   "execution_count": 2,
   "outputs": [
    {
     "data": {
      "text/plain": "  Bank Client Id First Name Last Name\n0              1      Nancy       Rob\n1              2       Alex       Ali\n2              3       Shep    George\n3              4        Max     Mitch\n4              5      Allen     Steve",
      "text/html": "<div>\n<style scoped>\n    .dataframe tbody tr th:only-of-type {\n        vertical-align: middle;\n    }\n\n    .dataframe tbody tr th {\n        vertical-align: top;\n    }\n\n    .dataframe thead th {\n        text-align: right;\n    }\n</style>\n<table border=\"1\" class=\"dataframe\">\n  <thead>\n    <tr style=\"text-align: right;\">\n      <th></th>\n      <th>Bank Client Id</th>\n      <th>First Name</th>\n      <th>Last Name</th>\n    </tr>\n  </thead>\n  <tbody>\n    <tr>\n      <th>0</th>\n      <td>1</td>\n      <td>Nancy</td>\n      <td>Rob</td>\n    </tr>\n    <tr>\n      <th>1</th>\n      <td>2</td>\n      <td>Alex</td>\n      <td>Ali</td>\n    </tr>\n    <tr>\n      <th>2</th>\n      <td>3</td>\n      <td>Shep</td>\n      <td>George</td>\n    </tr>\n    <tr>\n      <th>3</th>\n      <td>4</td>\n      <td>Max</td>\n      <td>Mitch</td>\n    </tr>\n    <tr>\n      <th>4</th>\n      <td>5</td>\n      <td>Allen</td>\n      <td>Steve</td>\n    </tr>\n  </tbody>\n</table>\n</div>"
     },
     "execution_count": 2,
     "metadata": {},
     "output_type": "execute_result"
    }
   ]
  },
  {
   "cell_type": "code",
   "metadata": {
    "id": "wq_TBWkvvgNE",
    "ExecuteTime": {
     "end_time": "2024-01-10T06:14:08.361324Z",
     "start_time": "2024-01-10T06:14:08.353064Z"
    }
   },
   "source": [
    "# Let's define another dataframe for a separate list of clients (IDs = 6, 7, 8, 9, 10)\n",
    "raw_data = {'Bank Client Id' : ['6','7','8','9','10'],\n",
    "            'First Name' : ['Nancy','Alex','Shep','Max','Allen'],\n",
    "            'Last Name' : ['Rob','Ali','George','Mitch','Steve']}\n",
    "\n",
    "bank2_df = pd.DataFrame(raw_data)\n",
    "bank2_df"
   ],
   "execution_count": 3,
   "outputs": [
    {
     "data": {
      "text/plain": "  Bank Client Id First Name Last Name\n0              6      Nancy       Rob\n1              7       Alex       Ali\n2              8       Shep    George\n3              9        Max     Mitch\n4             10      Allen     Steve",
      "text/html": "<div>\n<style scoped>\n    .dataframe tbody tr th:only-of-type {\n        vertical-align: middle;\n    }\n\n    .dataframe tbody tr th {\n        vertical-align: top;\n    }\n\n    .dataframe thead th {\n        text-align: right;\n    }\n</style>\n<table border=\"1\" class=\"dataframe\">\n  <thead>\n    <tr style=\"text-align: right;\">\n      <th></th>\n      <th>Bank Client Id</th>\n      <th>First Name</th>\n      <th>Last Name</th>\n    </tr>\n  </thead>\n  <tbody>\n    <tr>\n      <th>0</th>\n      <td>6</td>\n      <td>Nancy</td>\n      <td>Rob</td>\n    </tr>\n    <tr>\n      <th>1</th>\n      <td>7</td>\n      <td>Alex</td>\n      <td>Ali</td>\n    </tr>\n    <tr>\n      <th>2</th>\n      <td>8</td>\n      <td>Shep</td>\n      <td>George</td>\n    </tr>\n    <tr>\n      <th>3</th>\n      <td>9</td>\n      <td>Max</td>\n      <td>Mitch</td>\n    </tr>\n    <tr>\n      <th>4</th>\n      <td>10</td>\n      <td>Allen</td>\n      <td>Steve</td>\n    </tr>\n  </tbody>\n</table>\n</div>"
     },
     "execution_count": 3,
     "metadata": {},
     "output_type": "execute_result"
    }
   ]
  },
  {
   "cell_type": "code",
   "metadata": {
    "id": "3jhnSQKh_1fZ",
    "ExecuteTime": {
     "end_time": "2024-01-10T06:14:08.489113Z",
     "start_time": "2024-01-10T06:14:08.375118Z"
    }
   },
   "source": [
    "# Let's concatenate both dataframes #1 and #2\n",
    "# Note that we now have client IDs from 1 to 10\n",
    "# Note that by default ignore_index has been set to False meaning indexes from both dataframes are kept unchanged\n",
    "bank_all_df = pd.concat([bank1_df, bank2_df])\n",
    "bank_all_df"
   ],
   "execution_count": 4,
   "outputs": [
    {
     "data": {
      "text/plain": "  Bank Client Id First Name Last Name\n0              1      Nancy       Rob\n1              2       Alex       Ali\n2              3       Shep    George\n3              4        Max     Mitch\n4              5      Allen     Steve\n0              6      Nancy       Rob\n1              7       Alex       Ali\n2              8       Shep    George\n3              9        Max     Mitch\n4             10      Allen     Steve",
      "text/html": "<div>\n<style scoped>\n    .dataframe tbody tr th:only-of-type {\n        vertical-align: middle;\n    }\n\n    .dataframe tbody tr th {\n        vertical-align: top;\n    }\n\n    .dataframe thead th {\n        text-align: right;\n    }\n</style>\n<table border=\"1\" class=\"dataframe\">\n  <thead>\n    <tr style=\"text-align: right;\">\n      <th></th>\n      <th>Bank Client Id</th>\n      <th>First Name</th>\n      <th>Last Name</th>\n    </tr>\n  </thead>\n  <tbody>\n    <tr>\n      <th>0</th>\n      <td>1</td>\n      <td>Nancy</td>\n      <td>Rob</td>\n    </tr>\n    <tr>\n      <th>1</th>\n      <td>2</td>\n      <td>Alex</td>\n      <td>Ali</td>\n    </tr>\n    <tr>\n      <th>2</th>\n      <td>3</td>\n      <td>Shep</td>\n      <td>George</td>\n    </tr>\n    <tr>\n      <th>3</th>\n      <td>4</td>\n      <td>Max</td>\n      <td>Mitch</td>\n    </tr>\n    <tr>\n      <th>4</th>\n      <td>5</td>\n      <td>Allen</td>\n      <td>Steve</td>\n    </tr>\n    <tr>\n      <th>0</th>\n      <td>6</td>\n      <td>Nancy</td>\n      <td>Rob</td>\n    </tr>\n    <tr>\n      <th>1</th>\n      <td>7</td>\n      <td>Alex</td>\n      <td>Ali</td>\n    </tr>\n    <tr>\n      <th>2</th>\n      <td>8</td>\n      <td>Shep</td>\n      <td>George</td>\n    </tr>\n    <tr>\n      <th>3</th>\n      <td>9</td>\n      <td>Max</td>\n      <td>Mitch</td>\n    </tr>\n    <tr>\n      <th>4</th>\n      <td>10</td>\n      <td>Allen</td>\n      <td>Steve</td>\n    </tr>\n  </tbody>\n</table>\n</div>"
     },
     "execution_count": 4,
     "metadata": {},
     "output_type": "execute_result"
    }
   ]
  },
  {
   "cell_type": "code",
   "metadata": {
    "id": "R-AxZENO_ipf",
    "ExecuteTime": {
     "end_time": "2024-01-10T06:14:08.540906Z",
     "start_time": "2024-01-10T06:14:08.393732Z"
    }
   },
   "source": [
    "# Let's concatenate both dataframes #1 and #2\n",
    "# Note that by setting ignore_index = True, the index has been automatically set to numeric and now ranges from 1 to 9\n",
    "bank_all_df = pd.concat([bank1_df, bank2_df],ignore_index=True)\n",
    "bank_all_df"
   ],
   "execution_count": 5,
   "outputs": [
    {
     "data": {
      "text/plain": "  Bank Client Id First Name Last Name\n0              1      Nancy       Rob\n1              2       Alex       Ali\n2              3       Shep    George\n3              4        Max     Mitch\n4              5      Allen     Steve\n5              6      Nancy       Rob\n6              7       Alex       Ali\n7              8       Shep    George\n8              9        Max     Mitch\n9             10      Allen     Steve",
      "text/html": "<div>\n<style scoped>\n    .dataframe tbody tr th:only-of-type {\n        vertical-align: middle;\n    }\n\n    .dataframe tbody tr th {\n        vertical-align: top;\n    }\n\n    .dataframe thead th {\n        text-align: right;\n    }\n</style>\n<table border=\"1\" class=\"dataframe\">\n  <thead>\n    <tr style=\"text-align: right;\">\n      <th></th>\n      <th>Bank Client Id</th>\n      <th>First Name</th>\n      <th>Last Name</th>\n    </tr>\n  </thead>\n  <tbody>\n    <tr>\n      <th>0</th>\n      <td>1</td>\n      <td>Nancy</td>\n      <td>Rob</td>\n    </tr>\n    <tr>\n      <th>1</th>\n      <td>2</td>\n      <td>Alex</td>\n      <td>Ali</td>\n    </tr>\n    <tr>\n      <th>2</th>\n      <td>3</td>\n      <td>Shep</td>\n      <td>George</td>\n    </tr>\n    <tr>\n      <th>3</th>\n      <td>4</td>\n      <td>Max</td>\n      <td>Mitch</td>\n    </tr>\n    <tr>\n      <th>4</th>\n      <td>5</td>\n      <td>Allen</td>\n      <td>Steve</td>\n    </tr>\n    <tr>\n      <th>5</th>\n      <td>6</td>\n      <td>Nancy</td>\n      <td>Rob</td>\n    </tr>\n    <tr>\n      <th>6</th>\n      <td>7</td>\n      <td>Alex</td>\n      <td>Ali</td>\n    </tr>\n    <tr>\n      <th>7</th>\n      <td>8</td>\n      <td>Shep</td>\n      <td>George</td>\n    </tr>\n    <tr>\n      <th>8</th>\n      <td>9</td>\n      <td>Max</td>\n      <td>Mitch</td>\n    </tr>\n    <tr>\n      <th>9</th>\n      <td>10</td>\n      <td>Allen</td>\n      <td>Steve</td>\n    </tr>\n  </tbody>\n</table>\n</div>"
     },
     "execution_count": 5,
     "metadata": {},
     "output_type": "execute_result"
    }
   ]
  },
  {
   "cell_type": "code",
   "metadata": {
    "id": "YWG2PnrWArvG",
    "ExecuteTime": {
     "end_time": "2024-01-10T06:14:08.545137Z",
     "start_time": "2024-01-10T06:14:08.399523Z"
    }
   },
   "source": [
    "len(bank_all_df)"
   ],
   "execution_count": 6,
   "outputs": [
    {
     "data": {
      "text/plain": "10"
     },
     "execution_count": 6,
     "metadata": {},
     "output_type": "execute_result"
    }
   ]
  },
  {
   "cell_type": "code",
   "metadata": {
    "id": "2Gl_6C3TD3mo",
    "ExecuteTime": {
     "end_time": "2024-01-10T06:14:18.622945Z",
     "start_time": "2024-01-10T06:14:18.549797Z"
    }
   },
   "source": [
    "# You can also use the append method to perform similar task\n",
    "# Note that order matters!\n",
    "bank2_df.append(bank1_df)\n",
    "# 더이상 사용되지 않음"
   ],
   "execution_count": 8,
   "outputs": [
    {
     "ename": "AttributeError",
     "evalue": "'DataFrame' object has no attribute 'append'",
     "output_type": "error",
     "traceback": [
      "\u001B[0;31m---------------------------------------------------------------------------\u001B[0m",
      "\u001B[0;31mAttributeError\u001B[0m                            Traceback (most recent call last)",
      "\u001B[0;32m/var/folders/t5/fq6jxm613jldyb4rpqfywpdm0000gn/T/ipykernel_52356/3820780540.py\u001B[0m in \u001B[0;36m?\u001B[0;34m()\u001B[0m\n\u001B[1;32m      1\u001B[0m \u001B[0;31m# You can also use the append method to perform similar task\u001B[0m\u001B[0;34m\u001B[0m\u001B[0;34m\u001B[0m\u001B[0m\n\u001B[1;32m      2\u001B[0m \u001B[0;31m# Note that order matters!\u001B[0m\u001B[0;34m\u001B[0m\u001B[0;34m\u001B[0m\u001B[0m\n\u001B[0;32m----> 3\u001B[0;31m \u001B[0mbank2_df\u001B[0m\u001B[0;34m.\u001B[0m\u001B[0mappend\u001B[0m\u001B[0;34m(\u001B[0m\u001B[0mbank1_df\u001B[0m\u001B[0;34m)\u001B[0m\u001B[0;34m\u001B[0m\u001B[0;34m\u001B[0m\u001B[0m\n\u001B[0m\u001B[1;32m      4\u001B[0m \u001B[0;34m\u001B[0m\u001B[0m\n",
      "\u001B[0;32m~/anaconda3/lib/python3.11/site-packages/pandas/core/generic.py\u001B[0m in \u001B[0;36m?\u001B[0;34m(self, name)\u001B[0m\n\u001B[1;32m   5985\u001B[0m             \u001B[0;32mand\u001B[0m \u001B[0mname\u001B[0m \u001B[0;32mnot\u001B[0m \u001B[0;32min\u001B[0m \u001B[0mself\u001B[0m\u001B[0;34m.\u001B[0m\u001B[0m_accessors\u001B[0m\u001B[0;34m\u001B[0m\u001B[0;34m\u001B[0m\u001B[0m\n\u001B[1;32m   5986\u001B[0m             \u001B[0;32mand\u001B[0m \u001B[0mself\u001B[0m\u001B[0;34m.\u001B[0m\u001B[0m_info_axis\u001B[0m\u001B[0;34m.\u001B[0m\u001B[0m_can_hold_identifiers_and_holds_name\u001B[0m\u001B[0;34m(\u001B[0m\u001B[0mname\u001B[0m\u001B[0;34m)\u001B[0m\u001B[0;34m\u001B[0m\u001B[0;34m\u001B[0m\u001B[0m\n\u001B[1;32m   5987\u001B[0m         ):\n\u001B[1;32m   5988\u001B[0m             \u001B[0;32mreturn\u001B[0m \u001B[0mself\u001B[0m\u001B[0;34m[\u001B[0m\u001B[0mname\u001B[0m\u001B[0;34m]\u001B[0m\u001B[0;34m\u001B[0m\u001B[0;34m\u001B[0m\u001B[0m\n\u001B[0;32m-> 5989\u001B[0;31m         \u001B[0;32mreturn\u001B[0m \u001B[0mobject\u001B[0m\u001B[0;34m.\u001B[0m\u001B[0m__getattribute__\u001B[0m\u001B[0;34m(\u001B[0m\u001B[0mself\u001B[0m\u001B[0;34m,\u001B[0m \u001B[0mname\u001B[0m\u001B[0;34m)\u001B[0m\u001B[0;34m\u001B[0m\u001B[0;34m\u001B[0m\u001B[0m\n\u001B[0m",
      "\u001B[0;31mAttributeError\u001B[0m: 'DataFrame' object has no attribute 'append'"
     ]
    }
   ]
  },
  {
   "cell_type": "code",
   "metadata": {
    "id": "IEdmnFDlSARL"
   },
   "source": [
    "# You can also use the append method to perform similar task \n"
   ],
   "execution_count": null,
   "outputs": []
  },
  {
   "cell_type": "markdown",
   "metadata": {
    "id": "fVb_NLCfSUO3"
   },
   "source": [
    "**MINI CHALLENGE #1:**\n",
    "- **Assume that you and your significant other become a new client at the bank and would like to add your first names, last names and unique client IDs. Define a new DataFrame and add it to the master list \"bank_all_df\"** "
   ]
  },
  {
   "cell_type": "code",
   "metadata": {
    "id": "U05eNMF0Six2"
   },
   "source": [],
   "execution_count": null,
   "outputs": []
  },
  {
   "cell_type": "markdown",
   "metadata": {
    "id": "x7BTgcbkAmgG"
   },
   "source": [
    "# 2. DATAFRAME CONCATENATION WITH MULTI-INDEXING"
   ]
  },
  {
   "cell_type": "code",
   "metadata": {
    "id": "B4R3eCiI_jhf",
    "ExecuteTime": {
     "end_time": "2024-01-10T07:05:37.932611Z",
     "start_time": "2024-01-10T07:05:37.921931Z"
    }
   },
   "source": [
    "# We can perform concatenation and also use multi-indexing dataframe as follows:\n",
    "bank_all_df = pd.concat([bank1_df,bank2_df],keys= ['Customers Group1','Customers Group2'])\n",
    "bank_all_df"
   ],
   "execution_count": 9,
   "outputs": [
    {
     "data": {
      "text/plain": "                   Bank Client Id First Name Last Name\nCustomers Group1 0              1      Nancy       Rob\n                 1              2       Alex       Ali\n                 2              3       Shep    George\n                 3              4        Max     Mitch\n                 4              5      Allen     Steve\nCustomers Group2 0              6      Nancy       Rob\n                 1              7       Alex       Ali\n                 2              8       Shep    George\n                 3              9        Max     Mitch\n                 4             10      Allen     Steve",
      "text/html": "<div>\n<style scoped>\n    .dataframe tbody tr th:only-of-type {\n        vertical-align: middle;\n    }\n\n    .dataframe tbody tr th {\n        vertical-align: top;\n    }\n\n    .dataframe thead th {\n        text-align: right;\n    }\n</style>\n<table border=\"1\" class=\"dataframe\">\n  <thead>\n    <tr style=\"text-align: right;\">\n      <th></th>\n      <th></th>\n      <th>Bank Client Id</th>\n      <th>First Name</th>\n      <th>Last Name</th>\n    </tr>\n  </thead>\n  <tbody>\n    <tr>\n      <th rowspan=\"5\" valign=\"top\">Customers Group1</th>\n      <th>0</th>\n      <td>1</td>\n      <td>Nancy</td>\n      <td>Rob</td>\n    </tr>\n    <tr>\n      <th>1</th>\n      <td>2</td>\n      <td>Alex</td>\n      <td>Ali</td>\n    </tr>\n    <tr>\n      <th>2</th>\n      <td>3</td>\n      <td>Shep</td>\n      <td>George</td>\n    </tr>\n    <tr>\n      <th>3</th>\n      <td>4</td>\n      <td>Max</td>\n      <td>Mitch</td>\n    </tr>\n    <tr>\n      <th>4</th>\n      <td>5</td>\n      <td>Allen</td>\n      <td>Steve</td>\n    </tr>\n    <tr>\n      <th rowspan=\"5\" valign=\"top\">Customers Group2</th>\n      <th>0</th>\n      <td>6</td>\n      <td>Nancy</td>\n      <td>Rob</td>\n    </tr>\n    <tr>\n      <th>1</th>\n      <td>7</td>\n      <td>Alex</td>\n      <td>Ali</td>\n    </tr>\n    <tr>\n      <th>2</th>\n      <td>8</td>\n      <td>Shep</td>\n      <td>George</td>\n    </tr>\n    <tr>\n      <th>3</th>\n      <td>9</td>\n      <td>Max</td>\n      <td>Mitch</td>\n    </tr>\n    <tr>\n      <th>4</th>\n      <td>10</td>\n      <td>Allen</td>\n      <td>Steve</td>\n    </tr>\n  </tbody>\n</table>\n</div>"
     },
     "execution_count": 9,
     "metadata": {},
     "output_type": "execute_result"
    }
   ]
  },
  {
   "cell_type": "code",
   "metadata": {
    "id": "hVhcm6VTMKma",
    "ExecuteTime": {
     "end_time": "2024-01-10T07:06:40.468384Z",
     "start_time": "2024-01-10T07:06:40.442048Z"
    }
   },
   "source": [
    "# You can access elements using multi-indexing as follows\n",
    "bank_all_df.loc[('Customers Group1'),:]"
   ],
   "execution_count": 11,
   "outputs": [
    {
     "data": {
      "text/plain": "  Bank Client Id First Name Last Name\n0              1      Nancy       Rob\n1              2       Alex       Ali\n2              3       Shep    George\n3              4        Max     Mitch\n4              5      Allen     Steve",
      "text/html": "<div>\n<style scoped>\n    .dataframe tbody tr th:only-of-type {\n        vertical-align: middle;\n    }\n\n    .dataframe tbody tr th {\n        vertical-align: top;\n    }\n\n    .dataframe thead th {\n        text-align: right;\n    }\n</style>\n<table border=\"1\" class=\"dataframe\">\n  <thead>\n    <tr style=\"text-align: right;\">\n      <th></th>\n      <th>Bank Client Id</th>\n      <th>First Name</th>\n      <th>Last Name</th>\n    </tr>\n  </thead>\n  <tbody>\n    <tr>\n      <th>0</th>\n      <td>1</td>\n      <td>Nancy</td>\n      <td>Rob</td>\n    </tr>\n    <tr>\n      <th>1</th>\n      <td>2</td>\n      <td>Alex</td>\n      <td>Ali</td>\n    </tr>\n    <tr>\n      <th>2</th>\n      <td>3</td>\n      <td>Shep</td>\n      <td>George</td>\n    </tr>\n    <tr>\n      <th>3</th>\n      <td>4</td>\n      <td>Max</td>\n      <td>Mitch</td>\n    </tr>\n    <tr>\n      <th>4</th>\n      <td>5</td>\n      <td>Allen</td>\n      <td>Steve</td>\n    </tr>\n  </tbody>\n</table>\n</div>"
     },
     "execution_count": 11,
     "metadata": {},
     "output_type": "execute_result"
    }
   ]
  },
  {
   "cell_type": "code",
   "metadata": {
    "id": "m3NpjZpk_jju",
    "ExecuteTime": {
     "end_time": "2024-01-10T07:07:26.298799Z",
     "start_time": "2024-01-10T07:07:26.284877Z"
    }
   },
   "source": [
    "# You can access elements using multi-indexing as follows\n",
    "bank_all_df.loc[('Customers Group1'),0]"
   ],
   "execution_count": 12,
   "outputs": [
    {
     "data": {
      "text/plain": "Bank Client Id        1\nFirst Name        Nancy\nLast Name           Rob\nName: (Customers Group1, 0), dtype: object"
     },
     "execution_count": 12,
     "metadata": {},
     "output_type": "execute_result"
    }
   ]
  },
  {
   "cell_type": "code",
   "metadata": {
    "id": "jWWjbIj_CpRw",
    "ExecuteTime": {
     "end_time": "2024-01-10T07:08:30.982240Z",
     "start_time": "2024-01-10T07:08:30.960946Z"
    }
   },
   "source": [
    "# You can access elements using multi-indexing as follows\n",
    "bank_all_df.loc[('Customers Group2'),'First Name']"
   ],
   "execution_count": 14,
   "outputs": [
    {
     "data": {
      "text/plain": "0    Nancy\n1     Alex\n2     Shep\n3      Max\n4    Allen\nName: First Name, dtype: object"
     },
     "execution_count": 14,
     "metadata": {},
     "output_type": "execute_result"
    }
   ]
  },
  {
   "cell_type": "markdown",
   "metadata": {
    "id": "Qaapjz5uS848"
   },
   "source": [
    "**MINI CHALLENGE #2:**\n",
    "- **Assume that you and your significant other belong to Customers Group #3. Use multindexing to add both names to the master list. Write a line of code to access Group #3 only.**"
   ]
  },
  {
   "cell_type": "code",
   "metadata": {
    "id": "YZZmQo-UCpT8"
   },
   "source": [],
   "execution_count": null,
   "outputs": []
  },
  {
   "cell_type": "markdown",
   "metadata": {
    "id": "ej8klzAMQWu8"
   },
   "source": [
    "# 3. DATA MERGING"
   ]
  },
  {
   "cell_type": "code",
   "metadata": {
    "id": "vxv5iGrRQgpC",
    "ExecuteTime": {
     "end_time": "2024-01-10T07:13:20.369127Z",
     "start_time": "2024-01-10T07:13:20.349149Z"
    }
   },
   "source": [
    "# Let's concatenate both dataframes #1 and #2\n",
    "# Note that we now have client IDs from 1 to 10\n",
    "# Note that by default ignore_index has been set to False meaning indexes from both dataframes are kept unchanged\n",
    "bank_all_df = pd.concat([bank1_df,bank2_df],ignore_index=True)\n",
    "bank_all_df"
   ],
   "execution_count": 15,
   "outputs": [
    {
     "data": {
      "text/plain": "  Bank Client Id First Name Last Name\n0              1      Nancy       Rob\n1              2       Alex       Ali\n2              3       Shep    George\n3              4        Max     Mitch\n4              5      Allen     Steve\n5              6      Nancy       Rob\n6              7       Alex       Ali\n7              8       Shep    George\n8              9        Max     Mitch\n9             10      Allen     Steve",
      "text/html": "<div>\n<style scoped>\n    .dataframe tbody tr th:only-of-type {\n        vertical-align: middle;\n    }\n\n    .dataframe tbody tr th {\n        vertical-align: top;\n    }\n\n    .dataframe thead th {\n        text-align: right;\n    }\n</style>\n<table border=\"1\" class=\"dataframe\">\n  <thead>\n    <tr style=\"text-align: right;\">\n      <th></th>\n      <th>Bank Client Id</th>\n      <th>First Name</th>\n      <th>Last Name</th>\n    </tr>\n  </thead>\n  <tbody>\n    <tr>\n      <th>0</th>\n      <td>1</td>\n      <td>Nancy</td>\n      <td>Rob</td>\n    </tr>\n    <tr>\n      <th>1</th>\n      <td>2</td>\n      <td>Alex</td>\n      <td>Ali</td>\n    </tr>\n    <tr>\n      <th>2</th>\n      <td>3</td>\n      <td>Shep</td>\n      <td>George</td>\n    </tr>\n    <tr>\n      <th>3</th>\n      <td>4</td>\n      <td>Max</td>\n      <td>Mitch</td>\n    </tr>\n    <tr>\n      <th>4</th>\n      <td>5</td>\n      <td>Allen</td>\n      <td>Steve</td>\n    </tr>\n    <tr>\n      <th>5</th>\n      <td>6</td>\n      <td>Nancy</td>\n      <td>Rob</td>\n    </tr>\n    <tr>\n      <th>6</th>\n      <td>7</td>\n      <td>Alex</td>\n      <td>Ali</td>\n    </tr>\n    <tr>\n      <th>7</th>\n      <td>8</td>\n      <td>Shep</td>\n      <td>George</td>\n    </tr>\n    <tr>\n      <th>8</th>\n      <td>9</td>\n      <td>Max</td>\n      <td>Mitch</td>\n    </tr>\n    <tr>\n      <th>9</th>\n      <td>10</td>\n      <td>Allen</td>\n      <td>Steve</td>\n    </tr>\n  </tbody>\n</table>\n</div>"
     },
     "execution_count": 15,
     "metadata": {},
     "output_type": "execute_result"
    }
   ]
  },
  {
   "cell_type": "code",
   "metadata": {
    "id": "zRgyJPjivgPZ",
    "ExecuteTime": {
     "end_time": "2024-01-10T07:16:01.471099Z",
     "start_time": "2024-01-10T07:16:01.457700Z"
    }
   },
   "source": [
    "# Let's assume we obtained additional information (Annual Salary) about our bank customers \n",
    "# Note that data obtained is for all clients with IDs 1 to 10\n",
    "raw_data = {\n",
    "    'Bank Client Id' : ['1','2','3','4','5','6','7','8','9','10'],\n",
    "    'Annual Salarty [$/year]' : [1000,2000,3000,4000,5000,6000,7000,8000,9000,10000]\n",
    "}\n",
    "raw_data"
   ],
   "execution_count": 16,
   "outputs": [
    {
     "data": {
      "text/plain": "{'Bank Client Id': ['1', '2', '3', '4', '5', '6', '7', '8', '9', '10'],\n 'Annual Salarty [$/year]': [1000,\n  2000,\n  3000,\n  4000,\n  5000,\n  6000,\n  7000,\n  8000,\n  9000,\n  10000]}"
     },
     "execution_count": 16,
     "metadata": {},
     "output_type": "execute_result"
    }
   ]
  },
  {
   "cell_type": "code",
   "metadata": {
    "id": "9bgjH8mkvQOY",
    "ExecuteTime": {
     "end_time": "2024-01-10T07:16:49.325378Z",
     "start_time": "2024-01-10T07:16:49.322451Z"
    }
   },
   "source": [
    "# Let's merge all data on 'Bank Client ID'\n",
    "bank_salary_df = pd.DataFrame(raw_data)\n",
    "bank_all_df"
   ],
   "execution_count": 18,
   "outputs": [
    {
     "data": {
      "text/plain": "  Bank Client Id First Name Last Name\n0              1      Nancy       Rob\n1              2       Alex       Ali\n2              3       Shep    George\n3              4        Max     Mitch\n4              5      Allen     Steve\n5              6      Nancy       Rob\n6              7       Alex       Ali\n7              8       Shep    George\n8              9        Max     Mitch\n9             10      Allen     Steve",
      "text/html": "<div>\n<style scoped>\n    .dataframe tbody tr th:only-of-type {\n        vertical-align: middle;\n    }\n\n    .dataframe tbody tr th {\n        vertical-align: top;\n    }\n\n    .dataframe thead th {\n        text-align: right;\n    }\n</style>\n<table border=\"1\" class=\"dataframe\">\n  <thead>\n    <tr style=\"text-align: right;\">\n      <th></th>\n      <th>Bank Client Id</th>\n      <th>First Name</th>\n      <th>Last Name</th>\n    </tr>\n  </thead>\n  <tbody>\n    <tr>\n      <th>0</th>\n      <td>1</td>\n      <td>Nancy</td>\n      <td>Rob</td>\n    </tr>\n    <tr>\n      <th>1</th>\n      <td>2</td>\n      <td>Alex</td>\n      <td>Ali</td>\n    </tr>\n    <tr>\n      <th>2</th>\n      <td>3</td>\n      <td>Shep</td>\n      <td>George</td>\n    </tr>\n    <tr>\n      <th>3</th>\n      <td>4</td>\n      <td>Max</td>\n      <td>Mitch</td>\n    </tr>\n    <tr>\n      <th>4</th>\n      <td>5</td>\n      <td>Allen</td>\n      <td>Steve</td>\n    </tr>\n    <tr>\n      <th>5</th>\n      <td>6</td>\n      <td>Nancy</td>\n      <td>Rob</td>\n    </tr>\n    <tr>\n      <th>6</th>\n      <td>7</td>\n      <td>Alex</td>\n      <td>Ali</td>\n    </tr>\n    <tr>\n      <th>7</th>\n      <td>8</td>\n      <td>Shep</td>\n      <td>George</td>\n    </tr>\n    <tr>\n      <th>8</th>\n      <td>9</td>\n      <td>Max</td>\n      <td>Mitch</td>\n    </tr>\n    <tr>\n      <th>9</th>\n      <td>10</td>\n      <td>Allen</td>\n      <td>Steve</td>\n    </tr>\n  </tbody>\n</table>\n</div>"
     },
     "execution_count": 18,
     "metadata": {},
     "output_type": "execute_result"
    }
   ]
  },
  {
   "cell_type": "code",
   "metadata": {
    "id": "ONT6cuZdSYkp",
    "ExecuteTime": {
     "end_time": "2024-01-10T07:21:24.411326Z",
     "start_time": "2024-01-10T07:21:24.401386Z"
    }
   },
   "source": [
    "bank_all_df = pd.merge(bank_all_df,bank_salary_df,on= 'Bank Client Id')\n",
    "bank_all_df"
   ],
   "execution_count": 19,
   "outputs": [
    {
     "data": {
      "text/plain": "  Bank Client Id First Name Last Name  Annual Salarty [$/year]\n0              1      Nancy       Rob                     1000\n1              2       Alex       Ali                     2000\n2              3       Shep    George                     3000\n3              4        Max     Mitch                     4000\n4              5      Allen     Steve                     5000\n5              6      Nancy       Rob                     6000\n6              7       Alex       Ali                     7000\n7              8       Shep    George                     8000\n8              9        Max     Mitch                     9000\n9             10      Allen     Steve                    10000",
      "text/html": "<div>\n<style scoped>\n    .dataframe tbody tr th:only-of-type {\n        vertical-align: middle;\n    }\n\n    .dataframe tbody tr th {\n        vertical-align: top;\n    }\n\n    .dataframe thead th {\n        text-align: right;\n    }\n</style>\n<table border=\"1\" class=\"dataframe\">\n  <thead>\n    <tr style=\"text-align: right;\">\n      <th></th>\n      <th>Bank Client Id</th>\n      <th>First Name</th>\n      <th>Last Name</th>\n      <th>Annual Salarty [$/year]</th>\n    </tr>\n  </thead>\n  <tbody>\n    <tr>\n      <th>0</th>\n      <td>1</td>\n      <td>Nancy</td>\n      <td>Rob</td>\n      <td>1000</td>\n    </tr>\n    <tr>\n      <th>1</th>\n      <td>2</td>\n      <td>Alex</td>\n      <td>Ali</td>\n      <td>2000</td>\n    </tr>\n    <tr>\n      <th>2</th>\n      <td>3</td>\n      <td>Shep</td>\n      <td>George</td>\n      <td>3000</td>\n    </tr>\n    <tr>\n      <th>3</th>\n      <td>4</td>\n      <td>Max</td>\n      <td>Mitch</td>\n      <td>4000</td>\n    </tr>\n    <tr>\n      <th>4</th>\n      <td>5</td>\n      <td>Allen</td>\n      <td>Steve</td>\n      <td>5000</td>\n    </tr>\n    <tr>\n      <th>5</th>\n      <td>6</td>\n      <td>Nancy</td>\n      <td>Rob</td>\n      <td>6000</td>\n    </tr>\n    <tr>\n      <th>6</th>\n      <td>7</td>\n      <td>Alex</td>\n      <td>Ali</td>\n      <td>7000</td>\n    </tr>\n    <tr>\n      <th>7</th>\n      <td>8</td>\n      <td>Shep</td>\n      <td>George</td>\n      <td>8000</td>\n    </tr>\n    <tr>\n      <th>8</th>\n      <td>9</td>\n      <td>Max</td>\n      <td>Mitch</td>\n      <td>9000</td>\n    </tr>\n    <tr>\n      <th>9</th>\n      <td>10</td>\n      <td>Allen</td>\n      <td>Steve</td>\n      <td>10000</td>\n    </tr>\n  </tbody>\n</table>\n</div>"
     },
     "execution_count": 19,
     "metadata": {},
     "output_type": "execute_result"
    }
   ]
  },
  {
   "cell_type": "markdown",
   "metadata": {
    "id": "4DtgMLfAXN7F"
   },
   "source": [
    "**MINI CHALLENGE #3:**\n",
    "- **Let's assume that you were able to obtain two new pieces of information about the bank clients such as: (1) credit card debt, (2) age**\n",
    "- **Define a new DataFrame that contains this new information**\n",
    "- **Merge this new information to the DataFrame \"bank_all_df\".** "
   ]
  },
  {
   "cell_type": "code",
   "metadata": {
    "id": "ZTSFul6XBTmS"
   },
   "source": [],
   "execution_count": null,
   "outputs": []
  },
  {
   "cell_type": "code",
   "metadata": {
    "id": "MV8wiLGhBTn_"
   },
   "source": [],
   "execution_count": null,
   "outputs": []
  },
  {
   "cell_type": "markdown",
   "metadata": {
    "id": "laMvOutsSarD"
   },
   "source": [
    "# MINI CHALLENGES SOLUTIONS"
   ]
  },
  {
   "cell_type": "markdown",
   "metadata": {
    "id": "ik3-BmBkQwaa"
   },
   "source": [
    "**MINI CHALLENGE #1 SOLUTION:**\n",
    "- **Assume that you and your significant other become a new client at the bank and would like to add your first names, last names and unique client IDs. Define a new DataFrame and add it to the master list \"bank_all_df\"** \n"
   ]
  },
  {
   "cell_type": "code",
   "metadata": {
    "id": "8PJ0dT1oRPih"
   },
   "source": [
    "new_data = {'Bank Client ID': ['11', '12'],\n",
    "            'First Name': ['Justin', 'Sophie'], \n",
    "            'Last Name': ['Trudeau', 'Trudeau']}\n",
    "\n",
    "bank3_df = pd.DataFrame(new_data, columns = ['Bank Client ID', 'First Name', 'Last Name'])\n",
    "bank3_df"
   ],
   "execution_count": null,
   "outputs": []
  },
  {
   "cell_type": "code",
   "metadata": {
    "id": "Z-44CCZURPoU"
   },
   "source": [
    "# Let's concatenate both dataframes #1 and #2\n",
    "# Note that by setting ignore_index = True, the index has been automatically set to numeric and now ranges from 1 to 9\n",
    "bank_all_df = pd.concat([bank_all_df, bank3_df], ignore_index = True)\n",
    "bank_all_df"
   ],
   "execution_count": null,
   "outputs": []
  },
  {
   "cell_type": "code",
   "metadata": {
    "id": "EDMwOIsATXXu"
   },
   "source": [],
   "execution_count": null,
   "outputs": []
  },
  {
   "cell_type": "code",
   "metadata": {
    "id": "nxX10NbyTXaP"
   },
   "source": [],
   "execution_count": null,
   "outputs": []
  },
  {
   "cell_type": "markdown",
   "metadata": {
    "id": "eArFw12dThtq"
   },
   "source": [
    "**MINI CHALLENGE #2 SOLUTION:**\n",
    "- **Assume that you and your significant other belong to Customers Group #3. Use multindexing to add both names to the master list. Write a line of code to access Group #3 only.**"
   ]
  },
  {
   "cell_type": "code",
   "metadata": {
    "id": "zn8-e21ITpCT"
   },
   "source": [
    "bank1_df"
   ],
   "execution_count": null,
   "outputs": []
  },
  {
   "cell_type": "code",
   "metadata": {
    "id": "tdYiYkCMTr1b"
   },
   "source": [
    "bank2_df"
   ],
   "execution_count": null,
   "outputs": []
  },
  {
   "cell_type": "code",
   "metadata": {
    "id": "7MdNakSSTX1L"
   },
   "source": [
    "new_data = {'Bank Client ID': ['11', '12'],\n",
    "            'First Name': ['Justin', 'Sophie'], \n",
    "            'Last Name': ['Trudeau', 'Trudeau']}\n",
    "\n",
    "bank3_df = pd.DataFrame(new_data, columns = ['Bank Client ID', 'First Name', 'Last Name'])\n",
    "bank3_df"
   ],
   "execution_count": null,
   "outputs": []
  },
  {
   "cell_type": "code",
   "metadata": {
    "id": "L8sAW5OxToBW"
   },
   "source": [
    "# We can perform concatenation and also use multi-indexing dataframe as follows:\n",
    "bank_all_df = pd.concat([bank1_df, bank2_df, bank3_df], keys = [\"Customers Group 1\", \"Customers Group 2\",  \"Customers Group 3\"])\n",
    "bank_all_df"
   ],
   "execution_count": null,
   "outputs": []
  },
  {
   "cell_type": "code",
   "metadata": {
    "id": "jwWLtsiAT8Qj"
   },
   "source": [
    "# You can access elements using multi-indexing as follows\n",
    "bank_all_df.loc[(\"Customers Group 3\"), :]"
   ],
   "execution_count": null,
   "outputs": []
  },
  {
   "cell_type": "code",
   "metadata": {
    "id": "2hKRBo-iT-l_"
   },
   "source": [],
   "execution_count": null,
   "outputs": []
  },
  {
   "cell_type": "markdown",
   "metadata": {
    "id": "Wm5PRpCM-2pK"
   },
   "source": [
    "**MINI CHALLENGE #3 SOLUTION:**\n",
    "- **Let's assume that you were able to obtain two new pieces of information about the bank clients such as: (1) credit card debt, (2) age**\n",
    "- **Define a new DataFrame that contains this new information**\n",
    "- **Merge this new information to the DataFrame \"bank_all_df\".** "
   ]
  },
  {
   "cell_type": "code",
   "metadata": {
    "id": "1ph89cusBS6a"
   },
   "source": [
    "# Let's assume we obtained additional information (Annual Salary) about our bank customers \n",
    "# Note that data obtained is for all clients with IDs 1 to 10\n",
    " \n",
    "raw_data = {\n",
    "        'Bank Client ID': ['1', '2', '3', '4', '5', '6', '7', '8', '9', '10'],\n",
    "        'Credit Card Debt': [1000, 100, 500, 600, 0, 20, 360, 127, 3000, 2200],\n",
    "        'Age': [44, 35, 67, 19, 22, 45, 48, 33, 34, 36]}\n",
    "bank_credit_age_df = pd.DataFrame(raw_data, columns = ['Bank Client ID','Credit Card Debt', 'Age'])\n",
    "bank_credit_age_df"
   ],
   "execution_count": null,
   "outputs": []
  },
  {
   "cell_type": "code",
   "metadata": {
    "id": "_svkfn3iBTkK"
   },
   "source": [
    "# Let's merge all data on 'Bank Client ID'\n",
    "bank_all_df = pd.merge(bank_all_df, bank_credit_age_df, on = 'Bank Client ID')\n",
    "bank_all_df\n"
   ],
   "execution_count": null,
   "outputs": []
  }
 ]
}
