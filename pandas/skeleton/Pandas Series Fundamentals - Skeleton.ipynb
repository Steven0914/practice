{
 "nbformat": 4,
 "nbformat_minor": 0,
 "metadata": {
  "colab": {
   "name": "Pandas Series Fundamentals - Skeleton backup.ipynb",
   "provenance": [],
   "collapsed_sections": [],
   "authorship_tag": "ABX9TyOUiTqimgZeJoNXvjNCIkpX"
  },
  "kernelspec": {
   "name": "python3",
   "language": "python",
   "display_name": "Python 3 (ipykernel)"
  }
 },
 "cells": [
  {
   "cell_type": "markdown",
   "metadata": {
    "id": "1ivPDcc7p8lD"
   },
   "source": [
    "# 1. DEFINE A PANDAS SERIES (WITH NUMERIC DEFAULT INDEX)"
   ]
  },
  {
   "cell_type": "code",
   "metadata": {
    "id": "4YdCraz8p_XF",
    "ExecuteTime": {
     "end_time": "2024-01-07T10:59:18.966055Z",
     "start_time": "2024-01-07T10:59:18.953763Z"
    }
   },
   "source": [
    "# Pandas is a data manipulation and analysis tool that is built on Numpy.\n",
    "# Pandas uses a data structure known as DataFrame (think of it as Microsoft excel in Python). \n",
    "# DataFrames empower programmers to store and manipulate data in a tabular fashion (rows and columns).\n",
    "# Series Vs. DataFrame? Series is considered a single column of a DataFrame."
   ],
   "execution_count": 1,
   "outputs": []
  },
  {
   "cell_type": "code",
   "metadata": {
    "id": "6H2808pkqKIR",
    "ExecuteTime": {
     "end_time": "2024-01-07T10:59:19.418161Z",
     "start_time": "2024-01-07T10:59:18.966173Z"
    }
   },
   "source": [
    "import pandas as pd"
   ],
   "execution_count": 2,
   "outputs": []
  },
  {
   "cell_type": "code",
   "metadata": {
    "colab": {
     "base_uri": "https://localhost:8080/"
    },
    "id": "SA9m0RD3K2TF",
    "executionInfo": {
     "status": "ok",
     "timestamp": 1618858274558,
     "user_tz": 240,
     "elapsed": 2854,
     "user": {
      "displayName": "Stemplicity",
      "photoUrl": "https://lh3.googleusercontent.com/a-/AOh14Gj2vCFt-bD5mPBhUWX0QA6xiBgoXQXtwUm2jgjaCg=s64",
      "userId": "10668071569687886186"
     }
    },
    "outputId": "26cc61d4-5858-4a5f-e1b8-e8b7dce26b31",
    "ExecuteTime": {
     "end_time": "2024-01-07T10:59:19.421555Z",
     "start_time": "2024-01-07T10:59:19.384206Z"
    }
   },
   "source": [
    "# Let's define a Python list that contains 5 stocks: Nvidia, Microsoft, FaceBook, Amazon, and Boeing\n",
    "my_list = ['NVDA', 'MSFT', 'FB', 'AMZN', 'BA']\n",
    "my_list"
   ],
   "execution_count": 3,
   "outputs": [
    {
     "data": {
      "text/plain": "['NVDA', 'MSFT', 'FB', 'AMZN', 'BA']"
     },
     "execution_count": 3,
     "metadata": {},
     "output_type": "execute_result"
    }
   ]
  },
  {
   "cell_type": "code",
   "metadata": {
    "colab": {
     "base_uri": "https://localhost:8080/"
    },
    "id": "G-fooAckNafC",
    "executionInfo": {
     "status": "ok",
     "timestamp": 1618858274558,
     "user_tz": 240,
     "elapsed": 2842,
     "user": {
      "displayName": "Stemplicity",
      "photoUrl": "https://lh3.googleusercontent.com/a-/AOh14Gj2vCFt-bD5mPBhUWX0QA6xiBgoXQXtwUm2jgjaCg=s64",
      "userId": "10668071569687886186"
     }
    },
    "outputId": "dedb005a-3e3a-4e3f-a9e3-f9a0fb91948a",
    "ExecuteTime": {
     "end_time": "2024-01-07T10:59:19.436507Z",
     "start_time": "2024-01-07T10:59:19.391858Z"
    }
   },
   "source": [
    "# Let's confirm the Datatype\n",
    "type(my_list)"
   ],
   "execution_count": 4,
   "outputs": [
    {
     "data": {
      "text/plain": "list"
     },
     "execution_count": 4,
     "metadata": {},
     "output_type": "execute_result"
    }
   ]
  },
  {
   "cell_type": "code",
   "metadata": {
    "colab": {
     "base_uri": "https://localhost:8080/"
    },
    "id": "hle4zw51K6-P",
    "executionInfo": {
     "status": "ok",
     "timestamp": 1618858274559,
     "user_tz": 240,
     "elapsed": 2831,
     "user": {
      "displayName": "Stemplicity",
      "photoUrl": "https://lh3.googleusercontent.com/a-/AOh14Gj2vCFt-bD5mPBhUWX0QA6xiBgoXQXtwUm2jgjaCg=s64",
      "userId": "10668071569687886186"
     }
    },
    "outputId": "6cd50b46-ecce-41ad-c688-ca3a662d3d5c",
    "ExecuteTime": {
     "end_time": "2024-01-07T10:59:19.498005Z",
     "start_time": "2024-01-07T10:59:19.397644Z"
    }
   },
   "source": [
    "# Let's create a one dimensional Pandas \"series\" \n",
    "# Let's use Pandas Constructor Method to create a series from a Python list\n",
    "# Note that series is formed of data and associated index (numeric index has been automatically generated) \n",
    "# Check Pandas Documentation for More information: https://pandas.pydata.org/pandas-docs/stable/reference/api/pandas.Series.html#pandas.Series\n",
    "# Object datatype is used for text data (String)\n",
    "series_1 = pd.Series(data=my_list)\n",
    "series_1"
   ],
   "execution_count": 5,
   "outputs": [
    {
     "data": {
      "text/plain": "0    NVDA\n1    MSFT\n2      FB\n3    AMZN\n4      BA\ndtype: object"
     },
     "execution_count": 5,
     "metadata": {},
     "output_type": "execute_result"
    }
   ]
  },
  {
   "cell_type": "code",
   "metadata": {
    "colab": {
     "base_uri": "https://localhost:8080/"
    },
    "id": "-HNCtPcoNUyf",
    "executionInfo": {
     "status": "ok",
     "timestamp": 1618858274559,
     "user_tz": 240,
     "elapsed": 2818,
     "user": {
      "displayName": "Stemplicity",
      "photoUrl": "https://lh3.googleusercontent.com/a-/AOh14Gj2vCFt-bD5mPBhUWX0QA6xiBgoXQXtwUm2jgjaCg=s64",
      "userId": "10668071569687886186"
     }
    },
    "outputId": "de6ed879-617b-454d-e792-7a7cb300b903",
    "ExecuteTime": {
     "end_time": "2024-01-07T10:59:19.502214Z",
     "start_time": "2024-01-07T10:59:19.408090Z"
    }
   },
   "source": [
    "# Let's confirm the Pandas Series Datatype\n",
    "type(series_1)"
   ],
   "execution_count": 6,
   "outputs": [
    {
     "data": {
      "text/plain": "pandas.core.series.Series"
     },
     "execution_count": 6,
     "metadata": {},
     "output_type": "execute_result"
    }
   ]
  },
  {
   "cell_type": "code",
   "metadata": {
    "colab": {
     "base_uri": "https://localhost:8080/"
    },
    "id": "LB2J-qw5LdQI",
    "executionInfo": {
     "status": "ok",
     "timestamp": 1618858274560,
     "user_tz": 240,
     "elapsed": 2806,
     "user": {
      "displayName": "Stemplicity",
      "photoUrl": "https://lh3.googleusercontent.com/a-/AOh14Gj2vCFt-bD5mPBhUWX0QA6xiBgoXQXtwUm2jgjaCg=s64",
      "userId": "10668071569687886186"
     }
    },
    "outputId": "b094c6c0-9091-4998-9cfe-01c00ac51933",
    "ExecuteTime": {
     "end_time": "2024-01-07T10:59:19.618884Z",
     "start_time": "2024-01-07T10:59:19.414587Z"
    }
   },
   "source": [
    "# Let's define another Pandas Series that contains numeric values (stock prices) instead of text data\n",
    "# Note that we have int64 datatype which means it's integer stored in 64 bits in memory\n",
    "series_2 = pd.Series(data=[100, 200, 500, 1000, 5000])\n",
    "series_2"
   ],
   "execution_count": 7,
   "outputs": [
    {
     "data": {
      "text/plain": "0     100\n1     200\n2     500\n3    1000\n4    5000\ndtype: int64"
     },
     "execution_count": 7,
     "metadata": {},
     "output_type": "execute_result"
    }
   ]
  },
  {
   "cell_type": "markdown",
   "metadata": {
    "id": "8C0UN46KIntM"
   },
   "source": [
    "**MINI CHALLENGE #1:**\n",
    "- **Define a Pandas Series named \"my_series\" that contains your top 3 favourite movies. Confirm the datatype of \"my_series\"**"
   ]
  },
  {
   "cell_type": "markdown",
   "source": [],
   "metadata": {
    "collapsed": false
   }
  },
  {
   "cell_type": "code",
   "metadata": {
    "id": "l2aMAKvpJyWH",
    "ExecuteTime": {
     "end_time": "2024-01-07T10:59:19.637521Z",
     "start_time": "2024-01-07T10:59:19.424055Z"
    }
   },
   "source": [
    "my_series = pd.Series(data=['영화1', '영화2', '영화3'])\n",
    "print(my_series)\n",
    "print(type(my_series))"
   ],
   "execution_count": 8,
   "outputs": [
    {
     "name": "stdout",
     "output_type": "stream",
     "text": [
      "0    영화1\n",
      "1    영화2\n",
      "2    영화3\n",
      "dtype: object\n",
      "<class 'pandas.core.series.Series'>\n"
     ]
    }
   ]
  },
  {
   "cell_type": "markdown",
   "metadata": {
    "id": "XN92TgiQOD7I"
   },
   "source": [
    "# 2. DEFINE A PANDAS SERIES WITH CUSTOM INDEX"
   ]
  },
  {
   "cell_type": "code",
   "metadata": {
    "colab": {
     "base_uri": "https://localhost:8080/"
    },
    "id": "K4Y9jVx1OaN4",
    "executionInfo": {
     "status": "ok",
     "timestamp": 1618858274561,
     "user_tz": 240,
     "elapsed": 2793,
     "user": {
      "displayName": "Stemplicity",
      "photoUrl": "https://lh3.googleusercontent.com/a-/AOh14Gj2vCFt-bD5mPBhUWX0QA6xiBgoXQXtwUm2jgjaCg=s64",
      "userId": "10668071569687886186"
     }
    },
    "outputId": "bb27d7de-b628-4d2e-d514-b372f8028f3c",
    "ExecuteTime": {
     "end_time": "2024-01-07T10:59:19.645843Z",
     "start_time": "2024-01-07T10:59:19.431044Z"
    }
   },
   "source": [
    "# Let's define a Python list that contains 5 stocks: Nvidia, Microsoft, FaceBook, Amazon, and Boeing\n",
    "my_list = ['NVDA', 'MSFT', 'FB', 'AMZN', 'BA']\n",
    "my_list"
   ],
   "execution_count": 9,
   "outputs": [
    {
     "data": {
      "text/plain": "['NVDA', 'MSFT', 'FB', 'AMZN', 'BA']"
     },
     "execution_count": 9,
     "metadata": {},
     "output_type": "execute_result"
    }
   ]
  },
  {
   "cell_type": "code",
   "metadata": {
    "colab": {
     "base_uri": "https://localhost:8080/"
    },
    "id": "ZSxdgs_xJvxx",
    "executionInfo": {
     "status": "ok",
     "timestamp": 1618858274561,
     "user_tz": 240,
     "elapsed": 2782,
     "user": {
      "displayName": "Stemplicity",
      "photoUrl": "https://lh3.googleusercontent.com/a-/AOh14Gj2vCFt-bD5mPBhUWX0QA6xiBgoXQXtwUm2jgjaCg=s64",
      "userId": "10668071569687886186"
     }
    },
    "outputId": "6236c8f5-d62a-4ef9-9f12-8df4561ea8eb",
    "ExecuteTime": {
     "end_time": "2024-01-07T10:59:19.691941Z",
     "start_time": "2024-01-07T10:59:19.436552Z"
    }
   },
   "source": [
    "# Let's define a python list as shown below. This python list will be used for the Series index:\n",
    "my_labels = ['stock#1', 'stock#2', 'stock#3', 'stock#4', 'stock#5']"
   ],
   "execution_count": 10,
   "outputs": []
  },
  {
   "cell_type": "code",
   "metadata": {
    "id": "U4Fq06XwqX9v",
    "ExecuteTime": {
     "end_time": "2024-01-07T10:59:19.953425Z",
     "start_time": "2024-01-07T10:59:19.623500Z"
    }
   },
   "source": [
    "# Let's create a one dimensional Pandas \"series\" \n",
    "# Let's use Pandas Constructor Method to create a series from a Python list\n",
    "# Note that this series is formed of data and associated labels \n",
    "series_3 = pd.Series(data=my_list, index=my_labels)"
   ],
   "execution_count": 11,
   "outputs": []
  },
  {
   "cell_type": "code",
   "metadata": {
    "id": "YhPzprisqX_8",
    "colab": {
     "base_uri": "https://localhost:8080/"
    },
    "executionInfo": {
     "status": "ok",
     "timestamp": 1618858275058,
     "user_tz": 240,
     "elapsed": 3263,
     "user": {
      "displayName": "Stemplicity",
      "photoUrl": "https://lh3.googleusercontent.com/a-/AOh14Gj2vCFt-bD5mPBhUWX0QA6xiBgoXQXtwUm2jgjaCg=s64",
      "userId": "10668071569687886186"
     }
    },
    "outputId": "bbc1914a-67a3-4226-9827-da1657710c5d",
    "ExecuteTime": {
     "end_time": "2024-01-07T10:59:20.038183Z",
     "start_time": "2024-01-07T10:59:19.941299Z"
    }
   },
   "source": [
    "# Let's view the series\n",
    "series_3"
   ],
   "execution_count": 12,
   "outputs": [
    {
     "data": {
      "text/plain": "stock#1    NVDA\nstock#2    MSFT\nstock#3      FB\nstock#4    AMZN\nstock#5      BA\ndtype: object"
     },
     "execution_count": 12,
     "metadata": {},
     "output_type": "execute_result"
    }
   ]
  },
  {
   "cell_type": "code",
   "metadata": {
    "id": "4LPwMO8fsvi1",
    "colab": {
     "base_uri": "https://localhost:8080/"
    },
    "executionInfo": {
     "status": "ok",
     "timestamp": 1618858275058,
     "user_tz": 240,
     "elapsed": 3251,
     "user": {
      "displayName": "Stemplicity",
      "photoUrl": "https://lh3.googleusercontent.com/a-/AOh14Gj2vCFt-bD5mPBhUWX0QA6xiBgoXQXtwUm2jgjaCg=s64",
      "userId": "10668071569687886186"
     }
    },
    "outputId": "1d1a2f35-2932-49f3-e4b0-e6176c34d1a8",
    "ExecuteTime": {
     "end_time": "2024-01-07T10:59:20.114685Z",
     "start_time": "2024-01-07T10:59:19.998780Z"
    }
   },
   "source": [
    "# Let's obtain the datatype\n",
    "type(series_3)"
   ],
   "execution_count": 13,
   "outputs": [
    {
     "data": {
      "text/plain": "pandas.core.series.Series"
     },
     "execution_count": 13,
     "metadata": {},
     "output_type": "execute_result"
    }
   ]
  },
  {
   "cell_type": "markdown",
   "metadata": {
    "id": "13icipAKL4W5"
   },
   "source": [
    "**MINI CHALLENGE #2:**\n",
    "- **Define a Pandas Series named \"my_series\" that contains your top 3 favourite movies. Instead of using default numeric indexes (similar to mini challenge #1), use the following indexes \"movie #1\", \"Movie #2\", and \"movie #3\"**"
   ]
  },
  {
   "cell_type": "code",
   "metadata": {
    "id": "NZBRmbbuL8OC",
    "ExecuteTime": {
     "end_time": "2024-01-07T10:59:20.217940Z",
     "start_time": "2024-01-07T10:59:20.103336Z"
    }
   },
   "source": [
    "movie_list = ['영화1', '영화2', '영화3']\n",
    "movie_label = ['movie#1', 'movie#2', 'movie#3']\n",
    "my_series = pd.Series(data=movie_list, index=movie_label)"
   ],
   "execution_count": 14,
   "outputs": []
  },
  {
   "cell_type": "code",
   "execution_count": 15,
   "outputs": [
    {
     "data": {
      "text/plain": "movie#1    영화1\nmovie#2    영화2\nmovie#3    영화3\ndtype: object"
     },
     "execution_count": 15,
     "metadata": {},
     "output_type": "execute_result"
    }
   ],
   "source": [
    "my_series"
   ],
   "metadata": {
    "collapsed": false,
    "ExecuteTime": {
     "end_time": "2024-01-07T10:59:20.297821Z",
     "start_time": "2024-01-07T10:59:20.205554Z"
    }
   }
  },
  {
   "cell_type": "markdown",
   "metadata": {
    "id": "96EH6h9SQYW1"
   },
   "source": [
    "# 3. DEFINE A PANDAS SERIES FROM A DICTIONARY"
   ]
  },
  {
   "cell_type": "code",
   "metadata": {
    "id": "fk9R_fZlML_y",
    "ExecuteTime": {
     "end_time": "2024-01-07T10:59:20.379582Z",
     "start_time": "2024-01-07T10:59:20.280666Z"
    }
   },
   "source": [
    "# A Dictionary consists of a collection of key-value pairs. Each key-value pair maps the key to its corresponding value.\n",
    "# Keys are unique within a dictionary while values may not be. \n",
    "# List elements are accessed by their position in the list, via indexing while Dictionary elements are accessed via keys\n",
    "# Define a dictionary named \"my_dict\" using key-value pairs\n",
    "my_dict = {'Bank Client Id': 111,\n",
    "           'Bank Client Name': 'Steve',\n",
    "           'Net Worth [$]': 3500,\n",
    "           'Years with Bank': 9}\n"
   ],
   "execution_count": 16,
   "outputs": []
  },
  {
   "cell_type": "code",
   "metadata": {
    "id": "BlHhf-YPQdrB",
    "colab": {
     "base_uri": "https://localhost:8080/"
    },
    "executionInfo": {
     "status": "ok",
     "timestamp": 1618858275060,
     "user_tz": 240,
     "elapsed": 3235,
     "user": {
      "displayName": "Stemplicity",
      "photoUrl": "https://lh3.googleusercontent.com/a-/AOh14Gj2vCFt-bD5mPBhUWX0QA6xiBgoXQXtwUm2jgjaCg=s64",
      "userId": "10668071569687886186"
     }
    },
    "outputId": "8b32d4de-c0e0-4399-a67a-b90d33b99dd0",
    "ExecuteTime": {
     "end_time": "2024-01-07T10:59:20.437076Z",
     "start_time": "2024-01-07T10:59:20.382611Z"
    }
   },
   "source": [
    "# Show the dictionary\n",
    "my_dict"
   ],
   "execution_count": 17,
   "outputs": [
    {
     "data": {
      "text/plain": "{'Bank Client Id': 111,\n 'Bank Client Name': 'Steve',\n 'Net Worth [$]': 3500,\n 'Years with Bank': 9}"
     },
     "execution_count": 17,
     "metadata": {},
     "output_type": "execute_result"
    }
   ]
  },
  {
   "cell_type": "code",
   "metadata": {
    "colab": {
     "base_uri": "https://localhost:8080/"
    },
    "id": "0b4KQo3JMcI0",
    "executionInfo": {
     "status": "ok",
     "timestamp": 1618858275061,
     "user_tz": 240,
     "elapsed": 3223,
     "user": {
      "displayName": "Stemplicity",
      "photoUrl": "https://lh3.googleusercontent.com/a-/AOh14Gj2vCFt-bD5mPBhUWX0QA6xiBgoXQXtwUm2jgjaCg=s64",
      "userId": "10668071569687886186"
     }
    },
    "outputId": "0223f43e-a5a1-4759-96db-357481a582ab",
    "ExecuteTime": {
     "end_time": "2024-01-07T10:59:20.508658Z",
     "start_time": "2024-01-07T10:59:20.428438Z"
    }
   },
   "source": [
    "# Confirm the dictionary datatype \n",
    "type(my_dict)"
   ],
   "execution_count": 18,
   "outputs": [
    {
     "data": {
      "text/plain": "dict"
     },
     "execution_count": 18,
     "metadata": {},
     "output_type": "execute_result"
    }
   ]
  },
  {
   "cell_type": "code",
   "metadata": {
    "colab": {
     "base_uri": "https://localhost:8080/"
    },
    "id": "LeH27Q4aQeXe",
    "executionInfo": {
     "status": "ok",
     "timestamp": 1618858275061,
     "user_tz": 240,
     "elapsed": 3212,
     "user": {
      "displayName": "Stemplicity",
      "photoUrl": "https://lh3.googleusercontent.com/a-/AOh14Gj2vCFt-bD5mPBhUWX0QA6xiBgoXQXtwUm2jgjaCg=s64",
      "userId": "10668071569687886186"
     }
    },
    "outputId": "e7e8c45a-7c15-4975-dc3f-d04526840b0e",
    "ExecuteTime": {
     "end_time": "2024-01-07T10:59:20.560790Z",
     "start_time": "2024-01-07T10:59:20.502632Z"
    }
   },
   "source": [
    "# Let's define a Pandas Series Using the dictionary\n",
    "series_4 = pd.Series(my_dict)\n",
    "series_4"
   ],
   "execution_count": 19,
   "outputs": [
    {
     "data": {
      "text/plain": "Bank Client Id        111\nBank Client Name    Steve\nNet Worth [$]        3500\nYears with Bank         9\ndtype: object"
     },
     "execution_count": 19,
     "metadata": {},
     "output_type": "execute_result"
    }
   ]
  },
  {
   "cell_type": "markdown",
   "metadata": {
    "id": "_Tk4kxlLNI85"
   },
   "source": [
    "**MINI CHALLENGE #3:**\n",
    "- **Create a Pandas Series from a dictionary with 3 of your favourite stocks and their corresponding prices** "
   ]
  },
  {
   "cell_type": "code",
   "metadata": {
    "id": "nlG7J4oKNLuY",
    "ExecuteTime": {
     "end_time": "2024-01-07T10:59:20.704436Z",
     "start_time": "2024-01-07T10:59:20.561617Z"
    }
   },
   "source": [
    "my_stock_dict = {'삼성전자':3500,\n",
    "                 'sk':2000,\n",
    "                 '비트코인':5000}\n",
    "my_stock = pd.Series(my_stock_dict)\n",
    "my_stock"
   ],
   "execution_count": 20,
   "outputs": [
    {
     "data": {
      "text/plain": "삼성전자    3500\nsk      2000\n비트코인    5000\ndtype: int64"
     },
     "execution_count": 20,
     "metadata": {},
     "output_type": "execute_result"
    }
   ]
  },
  {
   "cell_type": "markdown",
   "metadata": {
    "id": "VGlb7t7WRIR3"
   },
   "source": [
    "# 4. PANDAS ATTRIBUTES"
   ]
  },
  {
   "cell_type": "code",
   "metadata": {
    "id": "p4FauWQlRRD8",
    "colab": {
     "base_uri": "https://localhost:8080/"
    },
    "executionInfo": {
     "status": "ok",
     "timestamp": 1618858275063,
     "user_tz": 240,
     "elapsed": 3200,
     "user": {
      "displayName": "Stemplicity",
      "photoUrl": "https://lh3.googleusercontent.com/a-/AOh14Gj2vCFt-bD5mPBhUWX0QA6xiBgoXQXtwUm2jgjaCg=s64",
      "userId": "10668071569687886186"
     }
    },
    "outputId": "e4886437-037a-4c0d-d101-4ae420394a55",
    "ExecuteTime": {
     "end_time": "2024-01-07T10:59:20.787887Z",
     "start_time": "2024-01-07T10:59:20.666125Z"
    }
   },
   "source": [
    "# Attributes/Properties: do not use parantheses \"()\" and are used to get Pandas Series Properties. Ex: my_series.values, my_series.shape\n",
    "# Methods: use parantheses \"()\" and might include arguments and they actually alter/change the Pandas Series. Ex: my_series.tail(), my_series.head(), my_series.drop_duplicates()\n",
    "# Indexers: use square brackets \"[]\" and are used to access specific elements in a Pandas Series or DataFrame. Ex: my_series.loc[], my_series.iloc[]\n",
    "\n",
    "# Let's redefine a Pandas Series containing our favourite 5 stocks \n",
    "# Nvidia, Microsoft, FaceBook, Amazon, and Boeing\n",
    "series_1"
   ],
   "execution_count": 21,
   "outputs": [
    {
     "data": {
      "text/plain": "0    NVDA\n1    MSFT\n2      FB\n3    AMZN\n4      BA\ndtype: object"
     },
     "execution_count": 21,
     "metadata": {},
     "output_type": "execute_result"
    }
   ]
  },
  {
   "cell_type": "code",
   "metadata": {
    "colab": {
     "base_uri": "https://localhost:8080/"
    },
    "id": "KBgZI_vHQeeA",
    "executionInfo": {
     "status": "ok",
     "timestamp": 1618858275063,
     "user_tz": 240,
     "elapsed": 3191,
     "user": {
      "displayName": "Stemplicity",
      "photoUrl": "https://lh3.googleusercontent.com/a-/AOh14Gj2vCFt-bD5mPBhUWX0QA6xiBgoXQXtwUm2jgjaCg=s64",
      "userId": "10668071569687886186"
     }
    },
    "outputId": "15e55866-6ba6-4092-d147-ebd9ea3db158",
    "ExecuteTime": {
     "end_time": "2024-01-07T10:59:20.912213Z",
     "start_time": "2024-01-07T10:59:20.780246Z"
    }
   },
   "source": [
    "# \".Values\" attribute is used to return Series as ndarray depending on its dtype\n",
    "# Check this for more information: https://pandas.pydata.org/docs/reference/api/pandas.Series.values.html#pandas.Series.values\n",
    "series_1.values"
   ],
   "execution_count": 22,
   "outputs": [
    {
     "data": {
      "text/plain": "array(['NVDA', 'MSFT', 'FB', 'AMZN', 'BA'], dtype=object)"
     },
     "execution_count": 22,
     "metadata": {},
     "output_type": "execute_result"
    }
   ]
  },
  {
   "cell_type": "code",
   "metadata": {
    "colab": {
     "base_uri": "https://localhost:8080/"
    },
    "id": "YDunyBEQRtoJ",
    "executionInfo": {
     "status": "ok",
     "timestamp": 1618858275064,
     "user_tz": 240,
     "elapsed": 3181,
     "user": {
      "displayName": "Stemplicity",
      "photoUrl": "https://lh3.googleusercontent.com/a-/AOh14Gj2vCFt-bD5mPBhUWX0QA6xiBgoXQXtwUm2jgjaCg=s64",
      "userId": "10668071569687886186"
     }
    },
    "outputId": "b871c285-8973-4076-9c77-61898c193f42",
    "ExecuteTime": {
     "end_time": "2024-01-07T10:59:20.983384Z",
     "start_time": "2024-01-07T10:59:20.915064Z"
    }
   },
   "source": [
    "# index is used to return the index (axis labels) of the Series\n",
    "series_1.index"
   ],
   "execution_count": 23,
   "outputs": [
    {
     "data": {
      "text/plain": "RangeIndex(start=0, stop=5, step=1)"
     },
     "execution_count": 23,
     "metadata": {},
     "output_type": "execute_result"
    }
   ]
  },
  {
   "cell_type": "code",
   "metadata": {
    "colab": {
     "base_uri": "https://localhost:8080/"
    },
    "id": "7bgfGfQaSrqw",
    "executionInfo": {
     "status": "ok",
     "timestamp": 1618858275065,
     "user_tz": 240,
     "elapsed": 3171,
     "user": {
      "displayName": "Stemplicity",
      "photoUrl": "https://lh3.googleusercontent.com/a-/AOh14Gj2vCFt-bD5mPBhUWX0QA6xiBgoXQXtwUm2jgjaCg=s64",
      "userId": "10668071569687886186"
     }
    },
    "outputId": "1500e3b0-a9da-4d61-cbe2-fdf8fe296a1e",
    "ExecuteTime": {
     "end_time": "2024-01-07T10:59:21.042380Z",
     "start_time": "2024-01-07T10:59:20.950238Z"
    }
   },
   "source": [
    "# dtype is used to return the datatype of the Series ('O' stands for 'object' datatype)\n",
    "series_1.dtype"
   ],
   "execution_count": 24,
   "outputs": [
    {
     "data": {
      "text/plain": "dtype('O')"
     },
     "execution_count": 24,
     "metadata": {},
     "output_type": "execute_result"
    }
   ]
  },
  {
   "cell_type": "code",
   "metadata": {
    "colab": {
     "base_uri": "https://localhost:8080/"
    },
    "id": "XeQtP9v2dxzu",
    "executionInfo": {
     "status": "ok",
     "timestamp": 1618858275066,
     "user_tz": 240,
     "elapsed": 3154,
     "user": {
      "displayName": "Stemplicity",
      "photoUrl": "https://lh3.googleusercontent.com/a-/AOh14Gj2vCFt-bD5mPBhUWX0QA6xiBgoXQXtwUm2jgjaCg=s64",
      "userId": "10668071569687886186"
     }
    },
    "outputId": "6689f7de-159f-48d3-9abf-bba1c6f6b198",
    "ExecuteTime": {
     "end_time": "2024-01-07T10:59:21.090277Z",
     "start_time": "2024-01-07T10:59:21.033280Z"
    }
   },
   "source": [
    "# Check if all elements are unique or not\n",
    "series_1.is_unique"
   ],
   "execution_count": 25,
   "outputs": [
    {
     "data": {
      "text/plain": "True"
     },
     "execution_count": 25,
     "metadata": {},
     "output_type": "execute_result"
    }
   ]
  },
  {
   "cell_type": "code",
   "metadata": {
    "colab": {
     "base_uri": "https://localhost:8080/"
    },
    "id": "8VWnKVh0d7Kw",
    "executionInfo": {
     "status": "ok",
     "timestamp": 1618858275066,
     "user_tz": 240,
     "elapsed": 3133,
     "user": {
      "displayName": "Stemplicity",
      "photoUrl": "https://lh3.googleusercontent.com/a-/AOh14Gj2vCFt-bD5mPBhUWX0QA6xiBgoXQXtwUm2jgjaCg=s64",
      "userId": "10668071569687886186"
     }
    },
    "outputId": "dca8b133-a9c1-432d-ed9d-9f9056224e62",
    "ExecuteTime": {
     "end_time": "2024-01-07T10:59:21.200988Z",
     "start_time": "2024-01-07T10:59:21.095528Z"
    }
   },
   "source": [
    "# Check the shape of the Series\n",
    "# note that a Series is one dimensional\n",
    "series_1.shape"
   ],
   "execution_count": 26,
   "outputs": [
    {
     "data": {
      "text/plain": "(5,)"
     },
     "execution_count": 26,
     "metadata": {},
     "output_type": "execute_result"
    }
   ]
  },
  {
   "cell_type": "markdown",
   "metadata": {
    "id": "gPL7KbA3XGr1"
   },
   "source": [
    "**MINI CHALLENGE #4:** \n",
    "- **What is the size of the Pandas Series? (External Research for the proper attribute is Required)**"
   ]
  },
  {
   "cell_type": "code",
   "metadata": {
    "id": "SyfddtryXbmX",
    "ExecuteTime": {
     "end_time": "2024-01-07T10:59:21.212433Z",
     "start_time": "2024-01-07T10:59:21.167948Z"
    }
   },
   "source": [
    "series_1.size"
   ],
   "execution_count": 27,
   "outputs": [
    {
     "data": {
      "text/plain": "5"
     },
     "execution_count": 27,
     "metadata": {},
     "output_type": "execute_result"
    }
   ]
  },
  {
   "cell_type": "markdown",
   "metadata": {
    "id": "Qc7sVau-UtYt"
   },
   "source": [
    "# 5. PANDAS METHODS"
   ]
  },
  {
   "cell_type": "code",
   "metadata": {
    "colab": {
     "base_uri": "https://localhost:8080/"
    },
    "id": "5gwWM4VvUxI2",
    "executionInfo": {
     "status": "ok",
     "timestamp": 1618858275068,
     "user_tz": 240,
     "elapsed": 3125,
     "user": {
      "displayName": "Stemplicity",
      "photoUrl": "https://lh3.googleusercontent.com/a-/AOh14Gj2vCFt-bD5mPBhUWX0QA6xiBgoXQXtwUm2jgjaCg=s64",
      "userId": "10668071569687886186"
     }
    },
    "outputId": "7cb2d91b-0317-4708-9140-053a2ac721c2",
    "ExecuteTime": {
     "end_time": "2024-01-07T10:59:21.331210Z",
     "start_time": "2024-01-07T10:59:21.216868Z"
    }
   },
   "source": [
    "# Methods have parentheses and they actually alter/change the Pandas Series\n",
    "# Methods: use parantheses \"()\" and might include arguments. Ex: my_series.tail(), my_series.head(), my_series.drop_duplicates()\n",
    "\n",
    "# Let's define another Pandas Series that contains numeric values (stock prices) instead of text data\n",
    "# Note that we have int64 datatype which means it contains integer values stored in 64 bits in memory\n",
    "my_series = pd.Series(data=[100,200,500,1000,5000])\n",
    "my_series"
   ],
   "execution_count": 28,
   "outputs": [
    {
     "data": {
      "text/plain": "0     100\n1     200\n2     500\n3    1000\n4    5000\ndtype: int64"
     },
     "execution_count": 28,
     "metadata": {},
     "output_type": "execute_result"
    }
   ]
  },
  {
   "cell_type": "code",
   "metadata": {
    "colab": {
     "base_uri": "https://localhost:8080/"
    },
    "id": "ImwFgVASUxLa",
    "executionInfo": {
     "status": "ok",
     "timestamp": 1618858275069,
     "user_tz": 240,
     "elapsed": 3116,
     "user": {
      "displayName": "Stemplicity",
      "photoUrl": "https://lh3.googleusercontent.com/a-/AOh14Gj2vCFt-bD5mPBhUWX0QA6xiBgoXQXtwUm2jgjaCg=s64",
      "userId": "10668071569687886186"
     }
    },
    "outputId": "9f7b7f3b-b8fb-4ebf-e224-fa7c43197d3f",
    "ExecuteTime": {
     "end_time": "2024-01-07T10:59:21.368638Z",
     "start_time": "2024-01-07T10:59:21.312551Z"
    }
   },
   "source": [
    "# Let's obtain the sum of all elements in the Pandas Series\n",
    "my_series.sum()"
   ],
   "execution_count": 29,
   "outputs": [
    {
     "data": {
      "text/plain": "6800"
     },
     "execution_count": 29,
     "metadata": {},
     "output_type": "execute_result"
    }
   ]
  },
  {
   "cell_type": "code",
   "metadata": {
    "colab": {
     "base_uri": "https://localhost:8080/"
    },
    "id": "OLa69YwxUxOa",
    "executionInfo": {
     "status": "ok",
     "timestamp": 1618858275071,
     "user_tz": 240,
     "elapsed": 3100,
     "user": {
      "displayName": "Stemplicity",
      "photoUrl": "https://lh3.googleusercontent.com/a-/AOh14Gj2vCFt-bD5mPBhUWX0QA6xiBgoXQXtwUm2jgjaCg=s64",
      "userId": "10668071569687886186"
     }
    },
    "outputId": "158234c1-4535-45b8-ae26-677f57238f08",
    "ExecuteTime": {
     "end_time": "2024-01-07T10:59:21.444606Z",
     "start_time": "2024-01-07T10:59:21.360264Z"
    }
   },
   "source": [
    "# Let's obtain the multiplication of all elements in the Pandas Series\n",
    "my_series.product()"
   ],
   "execution_count": 30,
   "outputs": [
    {
     "data": {
      "text/plain": "50000000000000"
     },
     "execution_count": 30,
     "metadata": {},
     "output_type": "execute_result"
    }
   ]
  },
  {
   "cell_type": "code",
   "metadata": {
    "colab": {
     "base_uri": "https://localhost:8080/"
    },
    "id": "xVMJtbtkUxQ-",
    "executionInfo": {
     "status": "ok",
     "timestamp": 1618858275072,
     "user_tz": 240,
     "elapsed": 3079,
     "user": {
      "displayName": "Stemplicity",
      "photoUrl": "https://lh3.googleusercontent.com/a-/AOh14Gj2vCFt-bD5mPBhUWX0QA6xiBgoXQXtwUm2jgjaCg=s64",
      "userId": "10668071569687886186"
     }
    },
    "outputId": "650e2e87-2838-460a-98ae-09d1eb01cdcb",
    "ExecuteTime": {
     "end_time": "2024-01-07T10:59:21.474372Z",
     "start_time": "2024-01-07T10:59:21.436287Z"
    }
   },
   "source": [
    "# Let's obtain the average\n",
    "my_series.mean()"
   ],
   "execution_count": 31,
   "outputs": [
    {
     "data": {
      "text/plain": "1360.0"
     },
     "execution_count": 31,
     "metadata": {},
     "output_type": "execute_result"
    }
   ]
  },
  {
   "cell_type": "code",
   "metadata": {
    "colab": {
     "base_uri": "https://localhost:8080/"
    },
    "id": "FgqSFr98YTUw",
    "executionInfo": {
     "status": "ok",
     "timestamp": 1618858275073,
     "user_tz": 240,
     "elapsed": 3069,
     "user": {
      "displayName": "Stemplicity",
      "photoUrl": "https://lh3.googleusercontent.com/a-/AOh14Gj2vCFt-bD5mPBhUWX0QA6xiBgoXQXtwUm2jgjaCg=s64",
      "userId": "10668071569687886186"
     }
    },
    "outputId": "afaf3e7b-b5c1-4d1c-b99d-dd1bc9af90e3",
    "ExecuteTime": {
     "end_time": "2024-01-07T10:59:21.570609Z",
     "start_time": "2024-01-07T10:59:21.478960Z"
    }
   },
   "source": [
    "# Let's show the first couple of elements in the Pandas Series\n",
    "my_series.head(2)"
   ],
   "execution_count": 32,
   "outputs": [
    {
     "data": {
      "text/plain": "0    100\n1    200\ndtype: int64"
     },
     "execution_count": 32,
     "metadata": {},
     "output_type": "execute_result"
    }
   ]
  },
  {
   "cell_type": "code",
   "metadata": {
    "colab": {
     "base_uri": "https://localhost:8080/"
    },
    "id": "GFoxw41LZrBs",
    "executionInfo": {
     "status": "ok",
     "timestamp": 1618858275083,
     "user_tz": 240,
     "elapsed": 3070,
     "user": {
      "displayName": "Stemplicity",
      "photoUrl": "https://lh3.googleusercontent.com/a-/AOh14Gj2vCFt-bD5mPBhUWX0QA6xiBgoXQXtwUm2jgjaCg=s64",
      "userId": "10668071569687886186"
     }
    },
    "outputId": "3aefbee8-0c98-44f4-a0b1-fd3b8a08899e",
    "ExecuteTime": {
     "end_time": "2024-01-07T10:59:21.597654Z",
     "start_time": "2024-01-07T10:59:21.559131Z"
    }
   },
   "source": [
    "# Note that head creates a new dataframe \n",
    "new_series = my_series.head(3)\n",
    "new_series"
   ],
   "execution_count": 33,
   "outputs": [
    {
     "data": {
      "text/plain": "0    100\n1    200\n2    500\ndtype: int64"
     },
     "execution_count": 33,
     "metadata": {},
     "output_type": "execute_result"
    }
   ]
  },
  {
   "cell_type": "markdown",
   "metadata": {
    "id": "DHknLT4PTrjn"
   },
   "source": [
    "**MINI CHALLENGE #5:** \n",
    "- **Show the last 2 rows in the Pandas Series (External Research is Required)** \n",
    "- **How many bytes does this Pandas Series consume in memory? (External Research is Required)**"
   ]
  },
  {
   "cell_type": "code",
   "metadata": {
    "colab": {
     "base_uri": "https://localhost:8080/"
    },
    "id": "UUiOynSPSshX",
    "executionInfo": {
     "status": "ok",
     "timestamp": 1618858275085,
     "user_tz": 240,
     "elapsed": 3063,
     "user": {
      "displayName": "Stemplicity",
      "photoUrl": "https://lh3.googleusercontent.com/a-/AOh14Gj2vCFt-bD5mPBhUWX0QA6xiBgoXQXtwUm2jgjaCg=s64",
      "userId": "10668071569687886186"
     }
    },
    "outputId": "a3eb0c0b-1456-40aa-8fa6-2303e8396fad",
    "ExecuteTime": {
     "end_time": "2024-01-07T10:59:21.705732Z",
     "start_time": "2024-01-07T10:59:21.601110Z"
    }
   },
   "source": [
    "my_series.tail(2)"
   ],
   "execution_count": 34,
   "outputs": [
    {
     "data": {
      "text/plain": "3    1000\n4    5000\ndtype: int64"
     },
     "execution_count": 34,
     "metadata": {},
     "output_type": "execute_result"
    }
   ]
  },
  {
   "cell_type": "code",
   "execution_count": 35,
   "outputs": [
    {
     "data": {
      "text/plain": "172"
     },
     "execution_count": 35,
     "metadata": {},
     "output_type": "execute_result"
    }
   ],
   "source": [
    "# 사용되고 있는 메모리\n",
    "my_series.memory_usage()"
   ],
   "metadata": {
    "collapsed": false,
    "ExecuteTime": {
     "end_time": "2024-01-07T10:59:21.731794Z",
     "start_time": "2024-01-07T10:59:21.670174Z"
    }
   }
  },
  {
   "cell_type": "markdown",
   "metadata": {
    "id": "vzu3jPDbasz5"
   },
   "source": [
    "# 6. IMPORT CSV DATA (1-D) USING PANDAS"
   ]
  },
  {
   "cell_type": "code",
   "metadata": {
    "id": "zLiVpmH2asz6",
    "colab": {
     "base_uri": "https://localhost:8080/",
     "height": 404
    },
    "executionInfo": {
     "status": "error",
     "timestamp": 1618858275613,
     "user_tz": 240,
     "elapsed": 3588,
     "user": {
      "displayName": "Stemplicity",
      "photoUrl": "https://lh3.googleusercontent.com/a-/AOh14Gj2vCFt-bD5mPBhUWX0QA6xiBgoXQXtwUm2jgjaCg=s64",
      "userId": "10668071569687886186"
     }
    },
    "outputId": "165b683c-727d-4eee-aab4-be8aee65801c",
    "ExecuteTime": {
     "end_time": "2024-01-07T10:59:59.865277Z",
     "start_time": "2024-01-07T10:59:59.755037Z"
    }
   },
   "source": [
    "# Pandas read_csv is used to read a csv file and store data in a DataFrame by default (DataFrames will be covered shortly!)\n",
    "# Use Squeeze to convert it into a Pandas Series (One-dimensional)\n",
    "# Notice that no foramtting exists when a Series is plotted\n",
    "sp500 = pd.read_csv('../datasets/S_P500_Prices.csv')\n",
    "# squeeze =>1,40부터 사용 X \n",
    "# 데이터를 압축하려면 .squeeze 함수 이용"
   ],
   "execution_count": 87,
   "outputs": []
  },
  {
   "cell_type": "code",
   "metadata": {
    "id": "Py1fYuPFasz6",
    "ExecuteTime": {
     "end_time": "2024-01-07T11:00:00.826293Z",
     "start_time": "2024-01-07T11:00:00.756224Z"
    }
   },
   "source": [
    "sp500"
   ],
   "execution_count": 88,
   "outputs": [
    {
     "data": {
      "text/plain": "            sp500\n0     1295.500000\n1     1289.089966\n2     1293.670044\n3     1308.040039\n4     1314.500000\n...           ...\n2154  3327.770020\n2155  3349.159912\n2156  3351.280029\n2157  3360.469971\n2158  3333.689941\n\n[2159 rows x 1 columns]",
      "text/html": "<div>\n<style scoped>\n    .dataframe tbody tr th:only-of-type {\n        vertical-align: middle;\n    }\n\n    .dataframe tbody tr th {\n        vertical-align: top;\n    }\n\n    .dataframe thead th {\n        text-align: right;\n    }\n</style>\n<table border=\"1\" class=\"dataframe\">\n  <thead>\n    <tr style=\"text-align: right;\">\n      <th></th>\n      <th>sp500</th>\n    </tr>\n  </thead>\n  <tbody>\n    <tr>\n      <th>0</th>\n      <td>1295.500000</td>\n    </tr>\n    <tr>\n      <th>1</th>\n      <td>1289.089966</td>\n    </tr>\n    <tr>\n      <th>2</th>\n      <td>1293.670044</td>\n    </tr>\n    <tr>\n      <th>3</th>\n      <td>1308.040039</td>\n    </tr>\n    <tr>\n      <th>4</th>\n      <td>1314.500000</td>\n    </tr>\n    <tr>\n      <th>...</th>\n      <td>...</td>\n    </tr>\n    <tr>\n      <th>2154</th>\n      <td>3327.770020</td>\n    </tr>\n    <tr>\n      <th>2155</th>\n      <td>3349.159912</td>\n    </tr>\n    <tr>\n      <th>2156</th>\n      <td>3351.280029</td>\n    </tr>\n    <tr>\n      <th>2157</th>\n      <td>3360.469971</td>\n    </tr>\n    <tr>\n      <th>2158</th>\n      <td>3333.689941</td>\n    </tr>\n  </tbody>\n</table>\n<p>2159 rows × 1 columns</p>\n</div>"
     },
     "execution_count": 88,
     "metadata": {},
     "output_type": "execute_result"
    }
   ]
  },
  {
   "cell_type": "code",
   "execution_count": 89,
   "outputs": [
    {
     "data": {
      "text/plain": "pandas.core.frame.DataFrame"
     },
     "execution_count": 89,
     "metadata": {},
     "output_type": "execute_result"
    }
   ],
   "source": [
    "type(sp500)"
   ],
   "metadata": {
    "collapsed": false,
    "ExecuteTime": {
     "end_time": "2024-01-07T11:00:43.009720Z",
     "start_time": "2024-01-07T11:00:42.944673Z"
    }
   }
  },
  {
   "cell_type": "markdown",
   "metadata": {
    "id": "CykEEAr9S--X"
   },
   "source": [
    "**MINI CHALLENGE #6:**\n",
    "- **Set Squeeze = False and rerun the cell, what do you notice? Use Type to compare both outputs**"
   ]
  },
  {
   "cell_type": "code",
   "metadata": {
    "id": "DVEio_JnTArn",
    "ExecuteTime": {
     "end_time": "2024-01-07T11:04:15.560821Z",
     "start_time": "2024-01-07T11:04:15.483676Z"
    }
   },
   "source": [
    "sp500 = pd.read_csv('../datasets/S_P500_Prices.csv')"
   ],
   "execution_count": 90,
   "outputs": []
  },
  {
   "cell_type": "markdown",
   "metadata": {
    "id": "8HBGOWjKaK_i"
   },
   "source": [
    "# 7. PANDAS BUILT-IN FUNCTIONS"
   ]
  },
  {
   "cell_type": "code",
   "metadata": {
    "id": "-Q-1iWEqaP6y",
    "ExecuteTime": {
     "end_time": "2024-01-07T11:47:05.100464Z",
     "start_time": "2024-01-07T11:47:05.041477Z"
    }
   },
   "source": [
    "# Pandas works great with pre-existing python functions \n",
    "# You don't have to play with pandas methods and directly leverage Python functions\n",
    "# Check Python built-in functions here: https://docs.python.org/3/library/functions.html\n",
    "\n"
   ],
   "execution_count": 91,
   "outputs": [
    {
     "ename": "ValueError",
     "evalue": "No axis named culumns for object type DataFrame",
     "output_type": "error",
     "traceback": [
      "\u001B[0;31m---------------------------------------------------------------------------\u001B[0m",
      "\u001B[0;31mKeyError\u001B[0m                                  Traceback (most recent call last)",
      "\u001B[0;32m~/anaconda3/lib/python3.11/site-packages/pandas/core/generic.py\u001B[0m in \u001B[0;36m?\u001B[0;34m(cls, axis)\u001B[0m\n\u001B[1;32m    513\u001B[0m             \u001B[0;32mreturn\u001B[0m \u001B[0mcls\u001B[0m\u001B[0;34m.\u001B[0m\u001B[0m_AXIS_TO_AXIS_NUMBER\u001B[0m\u001B[0;34m[\u001B[0m\u001B[0maxis\u001B[0m\u001B[0;34m]\u001B[0m\u001B[0;34m\u001B[0m\u001B[0;34m\u001B[0m\u001B[0m\n\u001B[1;32m    514\u001B[0m         \u001B[0;32mexcept\u001B[0m \u001B[0mKeyError\u001B[0m\u001B[0;34m:\u001B[0m\u001B[0;34m\u001B[0m\u001B[0;34m\u001B[0m\u001B[0m\n\u001B[0;32m--> 515\u001B[0;31m             \u001B[0;32mraise\u001B[0m \u001B[0mValueError\u001B[0m\u001B[0;34m(\u001B[0m\u001B[0;34mf\"No axis named {axis} for object type {cls.__name__}\"\u001B[0m\u001B[0;34m)\u001B[0m\u001B[0;34m\u001B[0m\u001B[0;34m\u001B[0m\u001B[0m\n\u001B[0m",
      "\u001B[0;31mKeyError\u001B[0m: 'culumns'",
      "\nDuring handling of the above exception, another exception occurred:\n",
      "\u001B[0;31mValueError\u001B[0m                                Traceback (most recent call last)",
      "\u001B[0;32m/var/folders/t5/fq6jxm613jldyb4rpqfywpdm0000gn/T/ipykernel_1501/66395230.py\u001B[0m in \u001B[0;36m?\u001B[0;34m()\u001B[0m\n\u001B[1;32m      1\u001B[0m \u001B[0;31m# Pandas works great with pre-existing python functions\u001B[0m\u001B[0;34m\u001B[0m\u001B[0;34m\u001B[0m\u001B[0m\n\u001B[1;32m      2\u001B[0m \u001B[0;31m# You don't have to play with pandas methods and directly leverage Python functions\u001B[0m\u001B[0;34m\u001B[0m\u001B[0;34m\u001B[0m\u001B[0m\n\u001B[1;32m      3\u001B[0m \u001B[0;31m# Check Python built-in functions here: https://docs.python.org/3/library/functions.html\u001B[0m\u001B[0;34m\u001B[0m\u001B[0;34m\u001B[0m\u001B[0m\n\u001B[0;32m----> 4\u001B[0;31m \u001B[0msp500\u001B[0m \u001B[0;34m=\u001B[0m \u001B[0mpd\u001B[0m\u001B[0;34m.\u001B[0m\u001B[0mread_csv\u001B[0m\u001B[0;34m(\u001B[0m\u001B[0;34m'../datasets/S_P500_Prices.csv'\u001B[0m\u001B[0;34m)\u001B[0m\u001B[0;34m.\u001B[0m\u001B[0msqueeze\u001B[0m\u001B[0;34m(\u001B[0m\u001B[0;34m'culumns'\u001B[0m\u001B[0;34m)\u001B[0m\u001B[0;34m\u001B[0m\u001B[0;34m\u001B[0m\u001B[0m\n\u001B[0m\u001B[1;32m      5\u001B[0m \u001B[0;34m\u001B[0m\u001B[0m\n",
      "\u001B[0;32m~/anaconda3/lib/python3.11/site-packages/pandas/core/generic.py\u001B[0m in \u001B[0;36m?\u001B[0;34m(self, axis)\u001B[0m\n\u001B[1;32m    958\u001B[0m \u001B[0;34m\u001B[0m\u001B[0m\n\u001B[1;32m    959\u001B[0m         \u001B[0;34m>>\u001B[0m\u001B[0;34m>\u001B[0m \u001B[0mdf_0a\u001B[0m\u001B[0;34m.\u001B[0m\u001B[0msqueeze\u001B[0m\u001B[0;34m(\u001B[0m\u001B[0;34m)\u001B[0m\u001B[0;34m\u001B[0m\u001B[0;34m\u001B[0m\u001B[0m\n\u001B[1;32m    960\u001B[0m         \u001B[0;36m1\u001B[0m\u001B[0;34m\u001B[0m\u001B[0;34m\u001B[0m\u001B[0m\n\u001B[1;32m    961\u001B[0m         \"\"\"\n\u001B[0;32m--> 962\u001B[0;31m         \u001B[0maxes\u001B[0m \u001B[0;34m=\u001B[0m \u001B[0mrange\u001B[0m\u001B[0;34m(\u001B[0m\u001B[0mself\u001B[0m\u001B[0;34m.\u001B[0m\u001B[0m_AXIS_LEN\u001B[0m\u001B[0;34m)\u001B[0m \u001B[0;32mif\u001B[0m \u001B[0maxis\u001B[0m \u001B[0;32mis\u001B[0m \u001B[0;32mNone\u001B[0m \u001B[0;32melse\u001B[0m \u001B[0;34m(\u001B[0m\u001B[0mself\u001B[0m\u001B[0;34m.\u001B[0m\u001B[0m_get_axis_number\u001B[0m\u001B[0;34m(\u001B[0m\u001B[0maxis\u001B[0m\u001B[0;34m)\u001B[0m\u001B[0;34m,\u001B[0m\u001B[0;34m)\u001B[0m\u001B[0;34m\u001B[0m\u001B[0;34m\u001B[0m\u001B[0m\n\u001B[0m\u001B[1;32m    963\u001B[0m         return self.iloc[\n\u001B[1;32m    964\u001B[0m             tuple(\n\u001B[1;32m    965\u001B[0m                 \u001B[0;36m0\u001B[0m \u001B[0;32mif\u001B[0m \u001B[0mi\u001B[0m \u001B[0;32min\u001B[0m \u001B[0maxes\u001B[0m \u001B[0;32mand\u001B[0m \u001B[0mlen\u001B[0m\u001B[0;34m(\u001B[0m\u001B[0ma\u001B[0m\u001B[0;34m)\u001B[0m \u001B[0;34m==\u001B[0m \u001B[0;36m1\u001B[0m \u001B[0;32melse\u001B[0m \u001B[0mslice\u001B[0m\u001B[0;34m(\u001B[0m\u001B[0;32mNone\u001B[0m\u001B[0;34m)\u001B[0m\u001B[0;34m\u001B[0m\u001B[0;34m\u001B[0m\u001B[0m\n",
      "\u001B[0;32m~/anaconda3/lib/python3.11/site-packages/pandas/core/generic.py\u001B[0m in \u001B[0;36m?\u001B[0;34m(cls, axis)\u001B[0m\n\u001B[1;32m    511\u001B[0m     \u001B[0;32mdef\u001B[0m \u001B[0m_get_axis_number\u001B[0m\u001B[0;34m(\u001B[0m\u001B[0mcls\u001B[0m\u001B[0;34m,\u001B[0m \u001B[0maxis\u001B[0m\u001B[0;34m:\u001B[0m \u001B[0mAxis\u001B[0m\u001B[0;34m)\u001B[0m \u001B[0;34m->\u001B[0m \u001B[0mAxisInt\u001B[0m\u001B[0;34m:\u001B[0m\u001B[0;34m\u001B[0m\u001B[0;34m\u001B[0m\u001B[0m\n\u001B[1;32m    512\u001B[0m         \u001B[0;32mtry\u001B[0m\u001B[0;34m:\u001B[0m\u001B[0;34m\u001B[0m\u001B[0;34m\u001B[0m\u001B[0m\n\u001B[1;32m    513\u001B[0m             \u001B[0;32mreturn\u001B[0m \u001B[0mcls\u001B[0m\u001B[0;34m.\u001B[0m\u001B[0m_AXIS_TO_AXIS_NUMBER\u001B[0m\u001B[0;34m[\u001B[0m\u001B[0maxis\u001B[0m\u001B[0;34m]\u001B[0m\u001B[0;34m\u001B[0m\u001B[0;34m\u001B[0m\u001B[0m\n\u001B[1;32m    514\u001B[0m         \u001B[0;32mexcept\u001B[0m \u001B[0mKeyError\u001B[0m\u001B[0;34m:\u001B[0m\u001B[0;34m\u001B[0m\u001B[0;34m\u001B[0m\u001B[0m\n\u001B[0;32m--> 515\u001B[0;31m             \u001B[0;32mraise\u001B[0m \u001B[0mValueError\u001B[0m\u001B[0;34m(\u001B[0m\u001B[0;34mf\"No axis named {axis} for object type {cls.__name__}\"\u001B[0m\u001B[0;34m)\u001B[0m\u001B[0;34m\u001B[0m\u001B[0;34m\u001B[0m\u001B[0m\n\u001B[0m",
      "\u001B[0;31mValueError\u001B[0m: No axis named culumns for object type DataFrame"
     ]
    }
   ]
  },
  {
   "cell_type": "code",
   "metadata": {
    "id": "g759k2IPdVH-",
    "ExecuteTime": {
     "end_time": "2024-01-07T11:47:24.439673Z",
     "start_time": "2024-01-07T11:47:24.381064Z"
    }
   },
   "source": [
    "# Obtain the Data Type of the Pandas Series\n",
    "type(sp500)"
   ],
   "execution_count": 92,
   "outputs": [
    {
     "data": {
      "text/plain": "pandas.core.frame.DataFrame"
     },
     "execution_count": 92,
     "metadata": {},
     "output_type": "execute_result"
    }
   ]
  },
  {
   "cell_type": "code",
   "metadata": {
    "id": "NbKysqrSaQ32",
    "ExecuteTime": {
     "end_time": "2024-01-07T11:47:34.145266Z",
     "start_time": "2024-01-07T11:47:34.081701Z"
    }
   },
   "source": [
    "# Obtain the length of the Pandas Series\n",
    "len(sp500)"
   ],
   "execution_count": 93,
   "outputs": [
    {
     "data": {
      "text/plain": "2159"
     },
     "execution_count": 93,
     "metadata": {},
     "output_type": "execute_result"
    }
   ]
  },
  {
   "cell_type": "code",
   "metadata": {
    "id": "FeeA8actaQ6P",
    "ExecuteTime": {
     "end_time": "2024-01-07T11:47:55.962148Z",
     "start_time": "2024-01-07T11:47:55.877269Z"
    }
   },
   "source": [
    "# Obtain the maximum value of the Pandas Series\n",
    "max(sp500) #안됨"
   ],
   "execution_count": 94,
   "outputs": [
    {
     "data": {
      "text/plain": "'sp500'"
     },
     "execution_count": 94,
     "metadata": {},
     "output_type": "execute_result"
    }
   ]
  },
  {
   "cell_type": "code",
   "metadata": {
    "id": "fyhw96-JaQ8a",
    "ExecuteTime": {
     "end_time": "2024-01-07T11:48:24.340476Z",
     "start_time": "2024-01-07T11:48:24.291146Z"
    }
   },
   "source": [
    "# Obtain the minimum value of the Pandas Series\n",
    "min(sp500)"
   ],
   "execution_count": 95,
   "outputs": [
    {
     "data": {
      "text/plain": "'sp500'"
     },
     "execution_count": 95,
     "metadata": {},
     "output_type": "execute_result"
    }
   ]
  },
  {
   "cell_type": "markdown",
   "metadata": {
    "id": "NCnRK6oMVCtg"
   },
   "source": [
    "**MINI CHALLENGE #7:**\n",
    "- **Given the following Pandas Series, convert all positive values to negative using python built-in functions**\n",
    "- **Obtain only unique values (ie: Remove duplicates) using python built-in functions**\n",
    "- **my_series = pd.Series(data = [-10, 100, -30, 50, 100])**\n"
   ]
  },
  {
   "cell_type": "code",
   "metadata": {
    "id": "DG-Tjp6PVEpW",
    "ExecuteTime": {
     "end_time": "2024-01-07T11:49:43.786315Z",
     "start_time": "2024-01-07T11:49:43.709766Z"
    }
   },
   "source": [
    "my_series = pd.Series(data = [-10, 100, -30, 50, 100])\n",
    "my_series"
   ],
   "execution_count": 97,
   "outputs": [
    {
     "data": {
      "text/plain": "0    -10\n1    100\n2    -30\n3     50\n4    100\ndtype: int64"
     },
     "execution_count": 97,
     "metadata": {},
     "output_type": "execute_result"
    }
   ]
  },
  {
   "cell_type": "code",
   "execution_count": 100,
   "outputs": [],
   "source": [
    "my_series = abs(my_series)\n"
   ],
   "metadata": {
    "collapsed": false,
    "ExecuteTime": {
     "end_time": "2024-01-07T11:50:59.294788Z",
     "start_time": "2024-01-07T11:50:59.195967Z"
    }
   }
  },
  {
   "cell_type": "code",
   "execution_count": 101,
   "outputs": [
    {
     "data": {
      "text/plain": "[10, 100, 50, 30]"
     },
     "execution_count": 101,
     "metadata": {},
     "output_type": "execute_result"
    }
   ],
   "source": [
    "list(set(my_series))"
   ],
   "metadata": {
    "collapsed": false,
    "ExecuteTime": {
     "end_time": "2024-01-07T11:51:02.432759Z",
     "start_time": "2024-01-07T11:51:02.358541Z"
    }
   }
  },
  {
   "cell_type": "markdown",
   "metadata": {
    "id": "LKDuJ94RvB85"
   },
   "source": [
    "# 8. SORTING PANDAS SERIES"
   ]
  },
  {
   "cell_type": "code",
   "metadata": {
    "id": "f-aRTmn9u7DA",
    "ExecuteTime": {
     "end_time": "2024-01-07T11:59:32.349391Z",
     "start_time": "2024-01-07T11:59:32.286133Z"
    }
   },
   "source": [
    "# Let's import CSV data as follows:\n",
    "sp500 = pd.read_csv('../datasets/S_P500_Prices.csv')"
   ],
   "execution_count": 105,
   "outputs": []
  },
  {
   "cell_type": "code",
   "metadata": {
    "id": "DaglhPNevFYC",
    "ExecuteTime": {
     "end_time": "2024-01-07T12:00:38.777933Z",
     "start_time": "2024-01-07T12:00:38.709572Z"
    }
   },
   "source": [
    "# You can sort the values in the dataframe as follows\n",
    "sp500.sort_values('sp500')"
   ],
   "execution_count": 107,
   "outputs": [
    {
     "data": {
      "text/plain": "            sp500\n97    1278.040039\n98    1278.180054\n99    1285.500000\n1     1289.089966\n2     1293.670044\n...           ...\n2038  3373.229980\n2034  3373.939941\n2033  3379.449951\n2035  3380.159912\n2037  3386.149902\n\n[2159 rows x 1 columns]",
      "text/html": "<div>\n<style scoped>\n    .dataframe tbody tr th:only-of-type {\n        vertical-align: middle;\n    }\n\n    .dataframe tbody tr th {\n        vertical-align: top;\n    }\n\n    .dataframe thead th {\n        text-align: right;\n    }\n</style>\n<table border=\"1\" class=\"dataframe\">\n  <thead>\n    <tr style=\"text-align: right;\">\n      <th></th>\n      <th>sp500</th>\n    </tr>\n  </thead>\n  <tbody>\n    <tr>\n      <th>97</th>\n      <td>1278.040039</td>\n    </tr>\n    <tr>\n      <th>98</th>\n      <td>1278.180054</td>\n    </tr>\n    <tr>\n      <th>99</th>\n      <td>1285.500000</td>\n    </tr>\n    <tr>\n      <th>1</th>\n      <td>1289.089966</td>\n    </tr>\n    <tr>\n      <th>2</th>\n      <td>1293.670044</td>\n    </tr>\n    <tr>\n      <th>...</th>\n      <td>...</td>\n    </tr>\n    <tr>\n      <th>2038</th>\n      <td>3373.229980</td>\n    </tr>\n    <tr>\n      <th>2034</th>\n      <td>3373.939941</td>\n    </tr>\n    <tr>\n      <th>2033</th>\n      <td>3379.449951</td>\n    </tr>\n    <tr>\n      <th>2035</th>\n      <td>3380.159912</td>\n    </tr>\n    <tr>\n      <th>2037</th>\n      <td>3386.149902</td>\n    </tr>\n  </tbody>\n</table>\n<p>2159 rows × 1 columns</p>\n</div>"
     },
     "execution_count": 107,
     "metadata": {},
     "output_type": "execute_result"
    }
   ]
  },
  {
   "cell_type": "code",
   "metadata": {
    "id": "AjzLtDlevFaW",
    "ExecuteTime": {
     "end_time": "2024-01-07T12:00:04.586309Z",
     "start_time": "2024-01-07T12:00:04.542560Z"
    }
   },
   "source": [
    "# Let's view Pandas Series again after sorting, Note that nothing changed in memory! you have to make sure that inplace is set to True\n",
    "sp500"
   ],
   "execution_count": 106,
   "outputs": [
    {
     "data": {
      "text/plain": "            sp500\n0     1295.500000\n1     1289.089966\n2     1293.670044\n3     1308.040039\n4     1314.500000\n...           ...\n2154  3327.770020\n2155  3349.159912\n2156  3351.280029\n2157  3360.469971\n2158  3333.689941\n\n[2159 rows x 1 columns]",
      "text/html": "<div>\n<style scoped>\n    .dataframe tbody tr th:only-of-type {\n        vertical-align: middle;\n    }\n\n    .dataframe tbody tr th {\n        vertical-align: top;\n    }\n\n    .dataframe thead th {\n        text-align: right;\n    }\n</style>\n<table border=\"1\" class=\"dataframe\">\n  <thead>\n    <tr style=\"text-align: right;\">\n      <th></th>\n      <th>sp500</th>\n    </tr>\n  </thead>\n  <tbody>\n    <tr>\n      <th>0</th>\n      <td>1295.500000</td>\n    </tr>\n    <tr>\n      <th>1</th>\n      <td>1289.089966</td>\n    </tr>\n    <tr>\n      <th>2</th>\n      <td>1293.670044</td>\n    </tr>\n    <tr>\n      <th>3</th>\n      <td>1308.040039</td>\n    </tr>\n    <tr>\n      <th>4</th>\n      <td>1314.500000</td>\n    </tr>\n    <tr>\n      <th>...</th>\n      <td>...</td>\n    </tr>\n    <tr>\n      <th>2154</th>\n      <td>3327.770020</td>\n    </tr>\n    <tr>\n      <th>2155</th>\n      <td>3349.159912</td>\n    </tr>\n    <tr>\n      <th>2156</th>\n      <td>3351.280029</td>\n    </tr>\n    <tr>\n      <th>2157</th>\n      <td>3360.469971</td>\n    </tr>\n    <tr>\n      <th>2158</th>\n      <td>3333.689941</td>\n    </tr>\n  </tbody>\n</table>\n<p>2159 rows × 1 columns</p>\n</div>"
     },
     "execution_count": 106,
     "metadata": {},
     "output_type": "execute_result"
    }
   ]
  },
  {
   "cell_type": "code",
   "metadata": {
    "id": "Pgt25eXmvFce",
    "ExecuteTime": {
     "end_time": "2024-01-07T12:02:30.974504Z",
     "start_time": "2024-01-07T12:02:30.875345Z"
    }
   },
   "source": [
    "# Set inplace = True to ensure that change has taken place in memory \n",
    "sp500.sort_values(by='sp500', inplace=True) # 정렬한상태로 저장"
   ],
   "execution_count": 108,
   "outputs": []
  },
  {
   "cell_type": "code",
   "metadata": {
    "id": "jEw2Gw_hu7Fo",
    "ExecuteTime": {
     "end_time": "2024-01-07T12:02:35.585358Z",
     "start_time": "2024-01-07T12:02:35.504896Z"
    }
   },
   "source": [
    "# Note that now the change (ordering) took place \n",
    "sp500"
   ],
   "execution_count": 109,
   "outputs": [
    {
     "data": {
      "text/plain": "            sp500\n97    1278.040039\n98    1278.180054\n99    1285.500000\n1     1289.089966\n2     1293.670044\n...           ...\n2038  3373.229980\n2034  3373.939941\n2033  3379.449951\n2035  3380.159912\n2037  3386.149902\n\n[2159 rows x 1 columns]",
      "text/html": "<div>\n<style scoped>\n    .dataframe tbody tr th:only-of-type {\n        vertical-align: middle;\n    }\n\n    .dataframe tbody tr th {\n        vertical-align: top;\n    }\n\n    .dataframe thead th {\n        text-align: right;\n    }\n</style>\n<table border=\"1\" class=\"dataframe\">\n  <thead>\n    <tr style=\"text-align: right;\">\n      <th></th>\n      <th>sp500</th>\n    </tr>\n  </thead>\n  <tbody>\n    <tr>\n      <th>97</th>\n      <td>1278.040039</td>\n    </tr>\n    <tr>\n      <th>98</th>\n      <td>1278.180054</td>\n    </tr>\n    <tr>\n      <th>99</th>\n      <td>1285.500000</td>\n    </tr>\n    <tr>\n      <th>1</th>\n      <td>1289.089966</td>\n    </tr>\n    <tr>\n      <th>2</th>\n      <td>1293.670044</td>\n    </tr>\n    <tr>\n      <th>...</th>\n      <td>...</td>\n    </tr>\n    <tr>\n      <th>2038</th>\n      <td>3373.229980</td>\n    </tr>\n    <tr>\n      <th>2034</th>\n      <td>3373.939941</td>\n    </tr>\n    <tr>\n      <th>2033</th>\n      <td>3379.449951</td>\n    </tr>\n    <tr>\n      <th>2035</th>\n      <td>3380.159912</td>\n    </tr>\n    <tr>\n      <th>2037</th>\n      <td>3386.149902</td>\n    </tr>\n  </tbody>\n</table>\n<p>2159 rows × 1 columns</p>\n</div>"
     },
     "execution_count": 109,
     "metadata": {},
     "output_type": "execute_result"
    }
   ]
  },
  {
   "cell_type": "code",
   "metadata": {
    "id": "6wi0QnU5iGk8",
    "ExecuteTime": {
     "end_time": "2024-01-07T12:33:30.922413Z",
     "start_time": "2024-01-07T12:33:30.860407Z"
    }
   },
   "source": [
    "# Notice that the indexes are now changed \n",
    "# You can also sort by index (revert back to the original Pandas Series) as follows: \n",
    "sp500.sort_index(inplace=True)\n",
    "sp500"
   ],
   "execution_count": 112,
   "outputs": [
    {
     "data": {
      "text/plain": "            sp500\n0     1295.500000\n1     1289.089966\n2     1293.670044\n3     1308.040039\n4     1314.500000\n...           ...\n2154  3327.770020\n2155  3349.159912\n2156  3351.280029\n2157  3360.469971\n2158  3333.689941\n\n[2159 rows x 1 columns]",
      "text/html": "<div>\n<style scoped>\n    .dataframe tbody tr th:only-of-type {\n        vertical-align: middle;\n    }\n\n    .dataframe tbody tr th {\n        vertical-align: top;\n    }\n\n    .dataframe thead th {\n        text-align: right;\n    }\n</style>\n<table border=\"1\" class=\"dataframe\">\n  <thead>\n    <tr style=\"text-align: right;\">\n      <th></th>\n      <th>sp500</th>\n    </tr>\n  </thead>\n  <tbody>\n    <tr>\n      <th>0</th>\n      <td>1295.500000</td>\n    </tr>\n    <tr>\n      <th>1</th>\n      <td>1289.089966</td>\n    </tr>\n    <tr>\n      <th>2</th>\n      <td>1293.670044</td>\n    </tr>\n    <tr>\n      <th>3</th>\n      <td>1308.040039</td>\n    </tr>\n    <tr>\n      <th>4</th>\n      <td>1314.500000</td>\n    </tr>\n    <tr>\n      <th>...</th>\n      <td>...</td>\n    </tr>\n    <tr>\n      <th>2154</th>\n      <td>3327.770020</td>\n    </tr>\n    <tr>\n      <th>2155</th>\n      <td>3349.159912</td>\n    </tr>\n    <tr>\n      <th>2156</th>\n      <td>3351.280029</td>\n    </tr>\n    <tr>\n      <th>2157</th>\n      <td>3360.469971</td>\n    </tr>\n    <tr>\n      <th>2158</th>\n      <td>3333.689941</td>\n    </tr>\n  </tbody>\n</table>\n<p>2159 rows × 1 columns</p>\n</div>"
     },
     "execution_count": 112,
     "metadata": {},
     "output_type": "execute_result"
    }
   ]
  },
  {
   "cell_type": "markdown",
   "metadata": {
    "id": "7bV_Yaq46ZTg"
   },
   "source": [
    "**MINI CHALLENGE #8:**\n",
    "- **Sort the S&P500 values in a decending order instead. Make sure to update values in-memory.**"
   ]
  },
  {
   "cell_type": "code",
   "metadata": {
    "id": "zw0acoYEkDJB",
    "ExecuteTime": {
     "end_time": "2024-01-07T12:37:21.924387Z",
     "start_time": "2024-01-07T12:37:21.864367Z"
    }
   },
   "source": [
    "sp500.sort_values('sp500',ascending=False,inplace=True)\n",
    "sp500\n"
   ],
   "execution_count": 116,
   "outputs": [
    {
     "data": {
      "text/plain": "            sp500\n2037  3386.149902\n2035  3380.159912\n2033  3379.449951\n2034  3373.939941\n2038  3373.229980\n...           ...\n2     1293.670044\n1     1289.089966\n99    1285.500000\n98    1278.180054\n97    1278.040039\n\n[2159 rows x 1 columns]",
      "text/html": "<div>\n<style scoped>\n    .dataframe tbody tr th:only-of-type {\n        vertical-align: middle;\n    }\n\n    .dataframe tbody tr th {\n        vertical-align: top;\n    }\n\n    .dataframe thead th {\n        text-align: right;\n    }\n</style>\n<table border=\"1\" class=\"dataframe\">\n  <thead>\n    <tr style=\"text-align: right;\">\n      <th></th>\n      <th>sp500</th>\n    </tr>\n  </thead>\n  <tbody>\n    <tr>\n      <th>2037</th>\n      <td>3386.149902</td>\n    </tr>\n    <tr>\n      <th>2035</th>\n      <td>3380.159912</td>\n    </tr>\n    <tr>\n      <th>2033</th>\n      <td>3379.449951</td>\n    </tr>\n    <tr>\n      <th>2034</th>\n      <td>3373.939941</td>\n    </tr>\n    <tr>\n      <th>2038</th>\n      <td>3373.229980</td>\n    </tr>\n    <tr>\n      <th>...</th>\n      <td>...</td>\n    </tr>\n    <tr>\n      <th>2</th>\n      <td>1293.670044</td>\n    </tr>\n    <tr>\n      <th>1</th>\n      <td>1289.089966</td>\n    </tr>\n    <tr>\n      <th>99</th>\n      <td>1285.500000</td>\n    </tr>\n    <tr>\n      <th>98</th>\n      <td>1278.180054</td>\n    </tr>\n    <tr>\n      <th>97</th>\n      <td>1278.040039</td>\n    </tr>\n  </tbody>\n</table>\n<p>2159 rows × 1 columns</p>\n</div>"
     },
     "execution_count": 116,
     "metadata": {},
     "output_type": "execute_result"
    }
   ]
  },
  {
   "cell_type": "markdown",
   "metadata": {
    "id": "1QT7bBFCkDhh"
   },
   "source": [
    "# 9. PERFORM MATH OPERATIONS ON PANDAS SERIES"
   ]
  },
  {
   "cell_type": "code",
   "metadata": {
    "id": "UXFGCV4SkI4O",
    "ExecuteTime": {
     "end_time": "2024-01-07T12:38:45.817921Z",
     "start_time": "2024-01-07T12:38:45.237863Z"
    }
   },
   "source": [
    "# Let's import CSV data as follows:\n",
    "sp500 = pd.read_csv('../datasets/S_P500_Prices.csv')"
   ],
   "execution_count": 117,
   "outputs": []
  },
  {
   "cell_type": "code",
   "metadata": {
    "id": "Qpo7M9yYkJPQ",
    "ExecuteTime": {
     "end_time": "2024-01-07T12:39:17.027891Z",
     "start_time": "2024-01-07T12:39:16.966092Z"
    }
   },
   "source": [
    "# Apply Sum Method on Pandas Series\n",
    "sp500.sum()\n"
   ],
   "execution_count": 118,
   "outputs": [
    {
     "data": {
      "text/plain": "sp500    4.790280e+06\ndtype: float64"
     },
     "execution_count": 118,
     "metadata": {},
     "output_type": "execute_result"
    }
   ]
  },
  {
   "cell_type": "code",
   "metadata": {
    "id": "FTSaQpjokJSM",
    "ExecuteTime": {
     "end_time": "2024-01-07T12:39:30.070579Z",
     "start_time": "2024-01-07T12:39:29.983036Z"
    }
   },
   "source": [
    "# Apply count Method on Pandas Series\n",
    "sp500.count()"
   ],
   "execution_count": 119,
   "outputs": [
    {
     "data": {
      "text/plain": "sp500    2159\ndtype: int64"
     },
     "execution_count": 119,
     "metadata": {},
     "output_type": "execute_result"
    }
   ]
  },
  {
   "cell_type": "code",
   "metadata": {
    "id": "I8vVnB_5kj7C",
    "ExecuteTime": {
     "end_time": "2024-01-07T12:39:40.199326Z",
     "start_time": "2024-01-07T12:39:40.151003Z"
    }
   },
   "source": [
    "# Obtain the maximum value\n",
    "sp500.max()"
   ],
   "execution_count": 120,
   "outputs": [
    {
     "data": {
      "text/plain": "sp500    3386.149902\ndtype: float64"
     },
     "execution_count": 120,
     "metadata": {},
     "output_type": "execute_result"
    }
   ]
  },
  {
   "cell_type": "code",
   "metadata": {
    "id": "u3-XBu-vko2y",
    "ExecuteTime": {
     "end_time": "2024-01-07T12:39:46.876419Z",
     "start_time": "2024-01-07T12:39:46.784649Z"
    }
   },
   "source": [
    "# Obtain the minimum value\n",
    "sp500.min()"
   ],
   "execution_count": 121,
   "outputs": [
    {
     "data": {
      "text/plain": "sp500    1278.040039\ndtype: float64"
     },
     "execution_count": 121,
     "metadata": {},
     "output_type": "execute_result"
    }
   ]
  },
  {
   "cell_type": "code",
   "metadata": {
    "id": "jfaK3BsckvAK",
    "ExecuteTime": {
     "end_time": "2024-01-07T12:39:55.766859Z",
     "start_time": "2024-01-07T12:39:55.675135Z"
    }
   },
   "source": [
    "# My favourite: Describe! \n",
    "# Describe is used to obtain all statistical information in one place \n",
    "sp500.describe()"
   ],
   "execution_count": 122,
   "outputs": [
    {
     "data": {
      "text/plain": "             sp500\ncount  2159.000000\nmean   2218.749554\nstd     537.321727\nmin    1278.040039\n25%    1847.984985\n50%    2106.629883\n75%    2705.810059\nmax    3386.149902",
      "text/html": "<div>\n<style scoped>\n    .dataframe tbody tr th:only-of-type {\n        vertical-align: middle;\n    }\n\n    .dataframe tbody tr th {\n        vertical-align: top;\n    }\n\n    .dataframe thead th {\n        text-align: right;\n    }\n</style>\n<table border=\"1\" class=\"dataframe\">\n  <thead>\n    <tr style=\"text-align: right;\">\n      <th></th>\n      <th>sp500</th>\n    </tr>\n  </thead>\n  <tbody>\n    <tr>\n      <th>count</th>\n      <td>2159.000000</td>\n    </tr>\n    <tr>\n      <th>mean</th>\n      <td>2218.749554</td>\n    </tr>\n    <tr>\n      <th>std</th>\n      <td>537.321727</td>\n    </tr>\n    <tr>\n      <th>min</th>\n      <td>1278.040039</td>\n    </tr>\n    <tr>\n      <th>25%</th>\n      <td>1847.984985</td>\n    </tr>\n    <tr>\n      <th>50%</th>\n      <td>2106.629883</td>\n    </tr>\n    <tr>\n      <th>75%</th>\n      <td>2705.810059</td>\n    </tr>\n    <tr>\n      <th>max</th>\n      <td>3386.149902</td>\n    </tr>\n  </tbody>\n</table>\n</div>"
     },
     "execution_count": 122,
     "metadata": {},
     "output_type": "execute_result"
    }
   ]
  },
  {
   "cell_type": "markdown",
   "metadata": {
    "id": "wfpnZiwxk1cb"
   },
   "source": [
    "**MINI CHALLENGE #9:**\n",
    "- **Obtain the average price of the S&P500 using two different methods**"
   ]
  },
  {
   "cell_type": "code",
   "metadata": {
    "id": "MFL9i8NWlIH5",
    "ExecuteTime": {
     "end_time": "2024-01-07T13:22:38.547742Z",
     "start_time": "2024-01-07T13:22:38.389105Z"
    }
   },
   "source": [
    "sp500.mean()"
   ],
   "execution_count": 123,
   "outputs": [
    {
     "data": {
      "text/plain": "sp500    2218.749554\ndtype: float64"
     },
     "execution_count": 123,
     "metadata": {},
     "output_type": "execute_result"
    }
   ]
  },
  {
   "cell_type": "code",
   "execution_count": 125,
   "outputs": [
    {
     "data": {
      "text/plain": "sp500    2218.749554\ndtype: float64"
     },
     "execution_count": 125,
     "metadata": {},
     "output_type": "execute_result"
    }
   ],
   "source": [
    "sp500.sum()/sp500.count()"
   ],
   "metadata": {
    "collapsed": false,
    "ExecuteTime": {
     "end_time": "2024-01-07T13:23:23.631589Z",
     "start_time": "2024-01-07T13:23:23.515281Z"
    }
   }
  },
  {
   "cell_type": "markdown",
   "metadata": {
    "id": "Yi8uUb_eiqxo"
   },
   "source": [
    "# 10. CHECK IF A GIVEN ELEMENT EXISTS IN A PANDAS SERIES"
   ]
  },
  {
   "cell_type": "code",
   "metadata": {
    "id": "nEQ94a2RiuiR",
    "ExecuteTime": {
     "end_time": "2024-01-07T13:27:36.283089Z",
     "start_time": "2024-01-07T13:27:36.223181Z"
    }
   },
   "source": [
    "# Let's import CSV data as follows:\n",
    "sp500 = pd.read_csv('../datasets/S_P500_Prices.csv')"
   ],
   "execution_count": 126,
   "outputs": []
  },
  {
   "cell_type": "code",
   "metadata": {
    "id": "x0T4h0CWi-p7",
    "ExecuteTime": {
     "end_time": "2024-01-07T13:28:08.631569Z",
     "start_time": "2024-01-07T13:28:08.549554Z"
    }
   },
   "source": [
    "# Check if a given number exists in a Pandas Series values\n",
    "# Returns a boolean \"True\" or \"False\"\n",
    "1295.500000 in sp500.values"
   ],
   "execution_count": 127,
   "outputs": [
    {
     "data": {
      "text/plain": "True"
     },
     "execution_count": 127,
     "metadata": {},
     "output_type": "execute_result"
    }
   ]
  },
  {
   "cell_type": "code",
   "metadata": {
    "id": "xa7GXwbhi-sh",
    "ExecuteTime": {
     "end_time": "2024-01-07T13:28:35.589002Z",
     "start_time": "2024-01-07T13:28:35.535217Z"
    }
   },
   "source": [
    "# Check if a given number exists in a Pandas Series index\n",
    "1295.500000 in sp500.index"
   ],
   "execution_count": 128,
   "outputs": [
    {
     "data": {
      "text/plain": "False"
     },
     "execution_count": 128,
     "metadata": {},
     "output_type": "execute_result"
    }
   ]
  },
  {
   "cell_type": "code",
   "metadata": {
    "id": "GyN5iG1ki-vC",
    "ExecuteTime": {
     "end_time": "2024-01-07T13:29:04.155776Z",
     "start_time": "2024-01-07T13:29:04.115451Z"
    }
   },
   "source": [
    "# Note that by default 'in' will search in Pandas index and not values\n",
    "1295.500000 in sp500 # default는 index"
   ],
   "execution_count": 129,
   "outputs": [
    {
     "data": {
      "text/plain": "False"
     },
     "execution_count": 129,
     "metadata": {},
     "output_type": "execute_result"
    }
   ]
  },
  {
   "cell_type": "markdown",
   "metadata": {
    "id": "DjNoVv5vb9ij"
   },
   "source": [
    "**MINI CHALLENGE #10:**\n",
    "- **Check if the stock price 3349 exists in the sp500 Pandas Series or not**\n",
    "- **Round stock prices to the nearest integer and check again**"
   ]
  },
  {
   "cell_type": "code",
   "metadata": {
    "id": "3BYcu1gpb_Vo",
    "ExecuteTime": {
     "end_time": "2024-01-07T13:32:38.027806Z",
     "start_time": "2024-01-07T13:32:37.954427Z"
    }
   },
   "source": [
    "3349 in sp500.values"
   ],
   "execution_count": 131,
   "outputs": [
    {
     "data": {
      "text/plain": "False"
     },
     "execution_count": 131,
     "metadata": {},
     "output_type": "execute_result"
    }
   ]
  },
  {
   "cell_type": "code",
   "execution_count": 133,
   "outputs": [
    {
     "data": {
      "text/plain": "       sp500\n0     1296.0\n1     1289.0\n2     1294.0\n3     1308.0\n4     1314.0\n...      ...\n2154  3328.0\n2155  3349.0\n2156  3351.0\n2157  3360.0\n2158  3334.0\n\n[2159 rows x 1 columns]",
      "text/html": "<div>\n<style scoped>\n    .dataframe tbody tr th:only-of-type {\n        vertical-align: middle;\n    }\n\n    .dataframe tbody tr th {\n        vertical-align: top;\n    }\n\n    .dataframe thead th {\n        text-align: right;\n    }\n</style>\n<table border=\"1\" class=\"dataframe\">\n  <thead>\n    <tr style=\"text-align: right;\">\n      <th></th>\n      <th>sp500</th>\n    </tr>\n  </thead>\n  <tbody>\n    <tr>\n      <th>0</th>\n      <td>1296.0</td>\n    </tr>\n    <tr>\n      <th>1</th>\n      <td>1289.0</td>\n    </tr>\n    <tr>\n      <th>2</th>\n      <td>1294.0</td>\n    </tr>\n    <tr>\n      <th>3</th>\n      <td>1308.0</td>\n    </tr>\n    <tr>\n      <th>4</th>\n      <td>1314.0</td>\n    </tr>\n    <tr>\n      <th>...</th>\n      <td>...</td>\n    </tr>\n    <tr>\n      <th>2154</th>\n      <td>3328.0</td>\n    </tr>\n    <tr>\n      <th>2155</th>\n      <td>3349.0</td>\n    </tr>\n    <tr>\n      <th>2156</th>\n      <td>3351.0</td>\n    </tr>\n    <tr>\n      <th>2157</th>\n      <td>3360.0</td>\n    </tr>\n    <tr>\n      <th>2158</th>\n      <td>3334.0</td>\n    </tr>\n  </tbody>\n</table>\n<p>2159 rows × 1 columns</p>\n</div>"
     },
     "execution_count": 133,
     "metadata": {},
     "output_type": "execute_result"
    }
   ],
   "source": [
    "# 값들을 반올림하고 다시 측정\n",
    "\n",
    "sp500 = (round(sp500))\n",
    "sp500"
   ],
   "metadata": {
    "collapsed": false,
    "ExecuteTime": {
     "end_time": "2024-01-07T13:34:23.325431Z",
     "start_time": "2024-01-07T13:34:23.240936Z"
    }
   }
  },
  {
   "cell_type": "code",
   "execution_count": 135,
   "outputs": [
    {
     "data": {
      "text/plain": "True"
     },
     "execution_count": 135,
     "metadata": {},
     "output_type": "execute_result"
    }
   ],
   "source": [
    "3349 in sp500.values"
   ],
   "metadata": {
    "collapsed": false,
    "ExecuteTime": {
     "end_time": "2024-01-07T13:35:09.891036Z",
     "start_time": "2024-01-07T13:35:09.798838Z"
    }
   }
  },
  {
   "cell_type": "markdown",
   "metadata": {
    "id": "Vrv6ZboqmGmx"
   },
   "source": [
    "# 11. INDEXING: OBTAIN SPECIFIC ELEMENTS FROM PANDAS SERIES"
   ]
  },
  {
   "cell_type": "code",
   "metadata": {
    "id": "XlMcpqkbjMI1",
    "ExecuteTime": {
     "end_time": "2024-01-07T13:40:15.667036Z",
     "start_time": "2024-01-07T13:40:15.572413Z"
    }
   },
   "source": [
    "# Let's import CSV data as follows:\n",
    "sp500 = pd.read_csv('../datasets/S_P500_Prices.csv')\n",
    "sp500"
   ],
   "execution_count": 142,
   "outputs": [
    {
     "data": {
      "text/plain": "            sp500\n0     1295.500000\n1     1289.089966\n2     1293.670044\n3     1308.040039\n4     1314.500000\n...           ...\n2154  3327.770020\n2155  3349.159912\n2156  3351.280029\n2157  3360.469971\n2158  3333.689941\n\n[2159 rows x 1 columns]",
      "text/html": "<div>\n<style scoped>\n    .dataframe tbody tr th:only-of-type {\n        vertical-align: middle;\n    }\n\n    .dataframe tbody tr th {\n        vertical-align: top;\n    }\n\n    .dataframe thead th {\n        text-align: right;\n    }\n</style>\n<table border=\"1\" class=\"dataframe\">\n  <thead>\n    <tr style=\"text-align: right;\">\n      <th></th>\n      <th>sp500</th>\n    </tr>\n  </thead>\n  <tbody>\n    <tr>\n      <th>0</th>\n      <td>1295.500000</td>\n    </tr>\n    <tr>\n      <th>1</th>\n      <td>1289.089966</td>\n    </tr>\n    <tr>\n      <th>2</th>\n      <td>1293.670044</td>\n    </tr>\n    <tr>\n      <th>3</th>\n      <td>1308.040039</td>\n    </tr>\n    <tr>\n      <th>4</th>\n      <td>1314.500000</td>\n    </tr>\n    <tr>\n      <th>...</th>\n      <td>...</td>\n    </tr>\n    <tr>\n      <th>2154</th>\n      <td>3327.770020</td>\n    </tr>\n    <tr>\n      <th>2155</th>\n      <td>3349.159912</td>\n    </tr>\n    <tr>\n      <th>2156</th>\n      <td>3351.280029</td>\n    </tr>\n    <tr>\n      <th>2157</th>\n      <td>3360.469971</td>\n    </tr>\n    <tr>\n      <th>2158</th>\n      <td>3333.689941</td>\n    </tr>\n  </tbody>\n</table>\n<p>2159 rows × 1 columns</p>\n</div>"
     },
     "execution_count": 142,
     "metadata": {},
     "output_type": "execute_result"
    }
   ]
  },
  {
   "cell_type": "code",
   "metadata": {
    "id": "5O_wKHmmmY2E",
    "ExecuteTime": {
     "end_time": "2024-01-07T13:42:01.003406Z",
     "start_time": "2024-01-07T13:42:00.948487Z"
    }
   },
   "source": [
    "# Obtain the first element in a Pandas Series\n",
    "# Note that first element has an index 0\n",
    "sp500['sp500'][0]"
   ],
   "execution_count": 145,
   "outputs": [
    {
     "data": {
      "text/plain": "1295.5"
     },
     "execution_count": 145,
     "metadata": {},
     "output_type": "execute_result"
    }
   ]
  },
  {
   "cell_type": "code",
   "metadata": {
    "id": "7wsOMwrvnHdJ",
    "ExecuteTime": {
     "end_time": "2024-01-07T13:42:48.672008Z",
     "start_time": "2024-01-07T13:42:48.616760Z"
    }
   },
   "source": [
    "# Obtain the last element in the Pandas Series\n",
    "sp500['sp500'][2158]"
   ],
   "execution_count": 147,
   "outputs": [
    {
     "data": {
      "text/plain": "3333.689941"
     },
     "execution_count": 147,
     "metadata": {},
     "output_type": "execute_result"
    }
   ]
  },
  {
   "cell_type": "markdown",
   "metadata": {
    "id": "mIsxBKz0cUZz"
   },
   "source": [
    "**MINI CHALLENGE #11:**\n",
    "- **Obtain the fifth element in the Pandas Series**"
   ]
  },
  {
   "cell_type": "code",
   "metadata": {
    "id": "hPzW6L__crcc",
    "ExecuteTime": {
     "end_time": "2024-01-07T13:43:07.440024Z",
     "start_time": "2024-01-07T13:43:07.354758Z"
    }
   },
   "source": [
    "sp500['sp500'][5]"
   ],
   "execution_count": 148,
   "outputs": [
    {
     "data": {
      "text/plain": "1315.380005"
     },
     "execution_count": 148,
     "metadata": {},
     "output_type": "execute_result"
    }
   ]
  },
  {
   "cell_type": "markdown",
   "metadata": {
    "id": "FqV5utBLnQuk"
   },
   "source": [
    "# 12. SLICING: OBTAIN MULTIPLE ELEMENTS FROM PANDAS SERIES"
   ]
  },
  {
   "cell_type": "code",
   "metadata": {
    "id": "FnZ_HXFcnY5-",
    "ExecuteTime": {
     "end_time": "2024-01-07T13:43:49.582628Z",
     "start_time": "2024-01-07T13:43:49.496117Z"
    }
   },
   "source": [
    "# Let's import CSV data as follows:\n",
    "sp500 = pd.read_csv('../datasets/S_P500_Prices.csv')\n",
    "sp500"
   ],
   "execution_count": 149,
   "outputs": [
    {
     "data": {
      "text/plain": "            sp500\n0     1295.500000\n1     1289.089966\n2     1293.670044\n3     1308.040039\n4     1314.500000\n...           ...\n2154  3327.770020\n2155  3349.159912\n2156  3351.280029\n2157  3360.469971\n2158  3333.689941\n\n[2159 rows x 1 columns]",
      "text/html": "<div>\n<style scoped>\n    .dataframe tbody tr th:only-of-type {\n        vertical-align: middle;\n    }\n\n    .dataframe tbody tr th {\n        vertical-align: top;\n    }\n\n    .dataframe thead th {\n        text-align: right;\n    }\n</style>\n<table border=\"1\" class=\"dataframe\">\n  <thead>\n    <tr style=\"text-align: right;\">\n      <th></th>\n      <th>sp500</th>\n    </tr>\n  </thead>\n  <tbody>\n    <tr>\n      <th>0</th>\n      <td>1295.500000</td>\n    </tr>\n    <tr>\n      <th>1</th>\n      <td>1289.089966</td>\n    </tr>\n    <tr>\n      <th>2</th>\n      <td>1293.670044</td>\n    </tr>\n    <tr>\n      <th>3</th>\n      <td>1308.040039</td>\n    </tr>\n    <tr>\n      <th>4</th>\n      <td>1314.500000</td>\n    </tr>\n    <tr>\n      <th>...</th>\n      <td>...</td>\n    </tr>\n    <tr>\n      <th>2154</th>\n      <td>3327.770020</td>\n    </tr>\n    <tr>\n      <th>2155</th>\n      <td>3349.159912</td>\n    </tr>\n    <tr>\n      <th>2156</th>\n      <td>3351.280029</td>\n    </tr>\n    <tr>\n      <th>2157</th>\n      <td>3360.469971</td>\n    </tr>\n    <tr>\n      <th>2158</th>\n      <td>3333.689941</td>\n    </tr>\n  </tbody>\n</table>\n<p>2159 rows × 1 columns</p>\n</div>"
     },
     "execution_count": 149,
     "metadata": {},
     "output_type": "execute_result"
    }
   ]
  },
  {
   "cell_type": "code",
   "metadata": {
    "id": "QVdRqhsbmY6X",
    "ExecuteTime": {
     "end_time": "2024-01-07T14:04:42.889122Z",
     "start_time": "2024-01-07T14:04:42.789290Z"
    }
   },
   "source": [
    "# Slice elements from a Pandas Series\n",
    "# Let's obtain elements starting from index 0 up until and not including index 5 (ie: indexes 0-4)\n",
    "sp500['sp500'][0:5]"
   ],
   "execution_count": 150,
   "outputs": [
    {
     "data": {
      "text/plain": "0    1295.500000\n1    1289.089966\n2    1293.670044\n3    1308.040039\n4    1314.500000\nName: sp500, dtype: float64"
     },
     "execution_count": 150,
     "metadata": {},
     "output_type": "execute_result"
    }
   ]
  },
  {
   "cell_type": "code",
   "metadata": {
    "id": "YtZ4bhPKmY8S",
    "ExecuteTime": {
     "end_time": "2024-01-07T14:26:55.037494Z",
     "start_time": "2024-01-07T14:26:54.993036Z"
    }
   },
   "source": [
    "# obtain all elements starting from index 0 up until and not including index 10\n",
    "sp500['sp500'][:10]"
   ],
   "execution_count": 151,
   "outputs": [
    {
     "data": {
      "text/plain": "0    1295.500000\n1    1289.089966\n2    1293.670044\n3    1308.040039\n4    1314.500000\n5    1315.380005\n6    1316.000000\n7    1314.650024\n8    1326.060059\n9    1318.430054\nName: sp500, dtype: float64"
     },
     "execution_count": 151,
     "metadata": {},
     "output_type": "execute_result"
    }
   ]
  },
  {
   "cell_type": "code",
   "metadata": {
    "id": "tShJSc6Bmv6d",
    "ExecuteTime": {
     "end_time": "2024-01-07T14:27:29.847725Z",
     "start_time": "2024-01-07T14:27:29.751065Z"
    }
   },
   "source": [
    "# obtain all elements starting from index 5 up until the end of the Pandas Series\n",
    "sp500[5:]"
   ],
   "execution_count": 152,
   "outputs": [
    {
     "data": {
      "text/plain": "            sp500\n5     1315.380005\n6     1316.000000\n7     1314.650024\n8     1326.060059\n9     1318.430054\n...           ...\n2154  3327.770020\n2155  3349.159912\n2156  3351.280029\n2157  3360.469971\n2158  3333.689941\n\n[2154 rows x 1 columns]",
      "text/html": "<div>\n<style scoped>\n    .dataframe tbody tr th:only-of-type {\n        vertical-align: middle;\n    }\n\n    .dataframe tbody tr th {\n        vertical-align: top;\n    }\n\n    .dataframe thead th {\n        text-align: right;\n    }\n</style>\n<table border=\"1\" class=\"dataframe\">\n  <thead>\n    <tr style=\"text-align: right;\">\n      <th></th>\n      <th>sp500</th>\n    </tr>\n  </thead>\n  <tbody>\n    <tr>\n      <th>5</th>\n      <td>1315.380005</td>\n    </tr>\n    <tr>\n      <th>6</th>\n      <td>1316.000000</td>\n    </tr>\n    <tr>\n      <th>7</th>\n      <td>1314.650024</td>\n    </tr>\n    <tr>\n      <th>8</th>\n      <td>1326.060059</td>\n    </tr>\n    <tr>\n      <th>9</th>\n      <td>1318.430054</td>\n    </tr>\n    <tr>\n      <th>...</th>\n      <td>...</td>\n    </tr>\n    <tr>\n      <th>2154</th>\n      <td>3327.770020</td>\n    </tr>\n    <tr>\n      <th>2155</th>\n      <td>3349.159912</td>\n    </tr>\n    <tr>\n      <th>2156</th>\n      <td>3351.280029</td>\n    </tr>\n    <tr>\n      <th>2157</th>\n      <td>3360.469971</td>\n    </tr>\n    <tr>\n      <th>2158</th>\n      <td>3333.689941</td>\n    </tr>\n  </tbody>\n</table>\n<p>2154 rows × 1 columns</p>\n</div>"
     },
     "execution_count": 152,
     "metadata": {},
     "output_type": "execute_result"
    }
   ]
  },
  {
   "cell_type": "markdown",
   "metadata": {
    "id": "BOIQH-R7dSDy"
   },
   "source": [
    "**MINI CHALLENGE #12:**\n",
    "- **Obtain all elements in Pandas Series except for the last 3 elements**"
   ]
  },
  {
   "cell_type": "code",
   "execution_count": 153,
   "outputs": [
    {
     "data": {
      "text/plain": "0       1295.500000\n1       1289.089966\n2       1293.670044\n3       1308.040039\n4       1314.500000\n           ...     \n2151    3271.120117\n2152    3294.610107\n2153    3306.510010\n2154    3327.770020\n2155    3349.159912\nName: sp500, Length: 2156, dtype: float64"
     },
     "execution_count": 153,
     "metadata": {},
     "output_type": "execute_result"
    }
   ],
   "source": [
    "sp500['sp500'][:-3]"
   ],
   "metadata": {
    "collapsed": false,
    "ExecuteTime": {
     "end_time": "2024-01-07T14:36:13.228687Z",
     "start_time": "2024-01-07T14:36:13.148455Z"
    }
   }
  },
  {
   "cell_type": "markdown",
   "metadata": {
    "id": "i1gJS3K7vlxd"
   },
   "source": [
    "# EXCELLENT JOB!"
   ]
  },
  {
   "cell_type": "markdown",
   "metadata": {
    "id": "MF2SdJZ_vn4z"
   },
   "source": [
    "# MINI CHALLENGE SOLUTIONS"
   ]
  },
  {
   "cell_type": "markdown",
   "metadata": {
    "id": "08v_y7IaJrvt"
   },
   "source": [
    "**MINI CHALLENGE #1 SOLUTION:**\n",
    "- **Define a Pandas Series named \"my_series\" that contains your top 3 favourite movies. Confirm the datatype of \"my_series\"**"
   ]
  },
  {
   "cell_type": "code",
   "metadata": {
    "id": "syn8_3JiJrvt",
    "ExecuteTime": {
     "end_time": "2024-01-07T10:59:24.501884Z",
     "start_time": "2024-01-07T10:59:24.436413Z"
    }
   },
   "source": [
    "# Let's define a Python list that contains 3 top movies\n",
    "my_list = ['The Godfather', 'Star Wars', 'The Wolf of Wall Street']\n",
    "my_series = pd.Series(data=my_list)\n",
    "my_series"
   ],
   "execution_count": 62,
   "outputs": [
    {
     "data": {
      "text/plain": "0              The Godfather\n1                  Star Wars\n2    The Wolf of Wall Street\ndtype: object"
     },
     "execution_count": 62,
     "metadata": {},
     "output_type": "execute_result"
    }
   ]
  },
  {
   "cell_type": "code",
   "metadata": {
    "id": "12MuwJ5eJrvu",
    "ExecuteTime": {
     "end_time": "2024-01-07T10:59:24.523556Z",
     "start_time": "2024-01-07T10:59:24.490461Z"
    }
   },
   "source": [
    "type(my_series)"
   ],
   "execution_count": 63,
   "outputs": [
    {
     "data": {
      "text/plain": "pandas.core.series.Series"
     },
     "execution_count": 63,
     "metadata": {},
     "output_type": "execute_result"
    }
   ]
  },
  {
   "cell_type": "markdown",
   "metadata": {
    "id": "1x6d0qzMKg-A"
   },
   "source": [
    "**MINI CHALLENGE #2 SOLUTION:**\n",
    "- **Define a Pandas Series named \"my_series\" that contains your top 3 favourite movies. Instead of using default numeric indexes (similar to mini challenge #1), use the following indexes \"movie #1\", \"Movie #2\", and \"movie #3\"**"
   ]
  },
  {
   "cell_type": "code",
   "metadata": {
    "id": "ddjSNsHBK-ll",
    "ExecuteTime": {
     "end_time": "2024-01-07T10:59:24.625630Z",
     "start_time": "2024-01-07T10:59:24.514167Z"
    }
   },
   "source": [
    "# Let's define a Python list that contains 3 movies as follows\n",
    "my_list = ['The Godfather', 'Star Wars', 'The Wolf of Wall Street']\n",
    "\n",
    "# Let's define a python list as shown below. This python list will be used for the Series index:\n",
    "my_labels = ['movie #1', 'movie #2', 'movie #3']\n"
   ],
   "execution_count": 64,
   "outputs": []
  },
  {
   "cell_type": "code",
   "metadata": {
    "id": "4iNEgSEtK8kl",
    "ExecuteTime": {
     "end_time": "2024-01-07T10:59:24.688009Z",
     "start_time": "2024-01-07T10:59:24.617498Z"
    }
   },
   "source": [
    "# Let's create a one dimensional Pandas \"series\" \n",
    "# Let's use Pandas Constructor Method to create a series from a Python list\n",
    "# Note that this series is formed of data and associated labels \n",
    "my_series = pd.Series(data=my_list, index=my_labels)\n",
    "my_series"
   ],
   "execution_count": 65,
   "outputs": [
    {
     "data": {
      "text/plain": "movie #1              The Godfather\nmovie #2                  Star Wars\nmovie #3    The Wolf of Wall Street\ndtype: object"
     },
     "execution_count": 65,
     "metadata": {},
     "output_type": "execute_result"
    }
   ]
  },
  {
   "cell_type": "markdown",
   "metadata": {
    "id": "r6btEnxmMy_G"
   },
   "source": [
    "**MINI CHALLENGE #3 SOLUTION:**\n",
    "- **Create a Pandas Series from a dictionary with 3 of your favourite stocks and their corresponding prices** \n"
   ]
  },
  {
   "cell_type": "code",
   "metadata": {
    "id": "PzkBjyLHM7Do",
    "ExecuteTime": {
     "end_time": "2024-01-07T10:59:24.760812Z",
     "start_time": "2024-01-07T10:59:24.679321Z"
    }
   },
   "source": [
    "stocks = {'SP500': 3000,\n",
    "          'AAPL': 400,\n",
    "          'TSLA': 2200}\n",
    "print(stocks)"
   ],
   "execution_count": 66,
   "outputs": [
    {
     "name": "stdout",
     "output_type": "stream",
     "text": [
      "{'SP500': 3000, 'AAPL': 400, 'TSLA': 2200}\n"
     ]
    }
   ]
  },
  {
   "cell_type": "code",
   "metadata": {
    "id": "QeDCPO9hNAKj",
    "ExecuteTime": {
     "end_time": "2024-01-07T10:59:24.803809Z",
     "start_time": "2024-01-07T10:59:24.756939Z"
    }
   },
   "source": [
    "# Let's define a Pandas Series Using the dictionary\n",
    "my_series = pd.Series(stocks)\n",
    "my_series"
   ],
   "execution_count": 67,
   "outputs": [
    {
     "data": {
      "text/plain": "SP500    3000\nAAPL      400\nTSLA     2200\ndtype: int64"
     },
     "execution_count": 67,
     "metadata": {},
     "output_type": "execute_result"
    }
   ]
  },
  {
   "cell_type": "markdown",
   "metadata": {
    "id": "lB8OYAVJXRYe"
   },
   "source": [
    "**MINI CHALLENGE #4 SOLUTION:** \n",
    "- **What is the size of the Pandas Series? (External Research is Required)**"
   ]
  },
  {
   "cell_type": "code",
   "metadata": {
    "id": "D5D0wFlmXRYf",
    "ExecuteTime": {
     "end_time": "2024-01-07T10:59:24.900137Z",
     "start_time": "2024-01-07T10:59:24.790646Z"
    }
   },
   "source": [
    "# size is used to return the size of the series\n",
    "series_3.size"
   ],
   "execution_count": 68,
   "outputs": [
    {
     "data": {
      "text/plain": "5"
     },
     "execution_count": 68,
     "metadata": {},
     "output_type": "execute_result"
    }
   ]
  },
  {
   "cell_type": "markdown",
   "metadata": {
    "id": "5D7QSEf7Y8aa"
   },
   "source": [
    "**MINI CHALLENGE #5 SOLUTION:** \n",
    "- **Show the last 2 rows in the Pandas Series (External Research is Required)** \n",
    "- **How many bytes does this Pandas Series consume in memory? (External Research is Required)**"
   ]
  },
  {
   "cell_type": "code",
   "metadata": {
    "id": "FsSGV7I3Y_ja",
    "ExecuteTime": {
     "end_time": "2024-01-07T10:59:24.981254Z",
     "start_time": "2024-01-07T10:59:24.883603Z"
    }
   },
   "source": [
    "my_series.tail(2)"
   ],
   "execution_count": 69,
   "outputs": [
    {
     "data": {
      "text/plain": "AAPL     400\nTSLA    2200\ndtype: int64"
     },
     "execution_count": 69,
     "metadata": {},
     "output_type": "execute_result"
    }
   ]
  },
  {
   "cell_type": "code",
   "metadata": {
    "id": "s8g0WhX6Y8aa",
    "ExecuteTime": {
     "end_time": "2024-01-07T10:59:25.129039Z",
     "start_time": "2024-01-07T10:59:24.980038Z"
    }
   },
   "source": [
    "my_series.memory_usage()"
   ],
   "execution_count": 70,
   "outputs": [
    {
     "data": {
      "text/plain": "156"
     },
     "execution_count": 70,
     "metadata": {},
     "output_type": "execute_result"
    }
   ]
  },
  {
   "cell_type": "code",
   "metadata": {
    "id": "k27pa4L1fv7-",
    "ExecuteTime": {
     "end_time": "2024-01-07T10:59:25.184546Z",
     "start_time": "2024-01-07T10:59:25.106820Z"
    }
   },
   "source": [],
   "execution_count": 70,
   "outputs": []
  },
  {
   "cell_type": "markdown",
   "metadata": {
    "id": "Thrv0augRv88"
   },
   "source": [
    "**MINI CHALLENGE #6 SOLUTION:**\n",
    "- **Set Squeeze = False and rerun the cell, what do you notice? Use Type to compare both outputs**"
   ]
  },
  {
   "cell_type": "code",
   "metadata": {
    "id": "Ebt-VMfccjR6",
    "ExecuteTime": {
     "end_time": "2024-01-07T10:59:25.323396Z",
     "start_time": "2024-01-07T10:59:25.191580Z"
    }
   },
   "source": [
    "sp500 = pd.read_csv('S&P500_Prices.csv', squeeze=False)\n",
    "# Note that when you set Squeeze = False, the data is stored in a DataFrame by default. \n",
    "# DataFrame is simply used to store multi dimensional data as compares to Pandas Series that only holds 1-D dataset \n",
    "# Note that DataFrames has proper formatting when you attempt to view them as shown below \n",
    "# Note that Pandas Series has no formatting\n"
   ],
   "execution_count": 71,
   "outputs": [
    {
     "ename": "TypeError",
     "evalue": "read_csv() got an unexpected keyword argument 'squeeze'",
     "output_type": "error",
     "traceback": [
      "\u001B[0;31m---------------------------------------------------------------------------\u001B[0m",
      "\u001B[0;31mTypeError\u001B[0m                                 Traceback (most recent call last)",
      "Cell \u001B[0;32mIn[71], line 1\u001B[0m\n\u001B[0;32m----> 1\u001B[0m sp500 \u001B[38;5;241m=\u001B[39m pd\u001B[38;5;241m.\u001B[39mread_csv(\u001B[38;5;124m'\u001B[39m\u001B[38;5;124mS&P500_Prices.csv\u001B[39m\u001B[38;5;124m'\u001B[39m, squeeze\u001B[38;5;241m=\u001B[39m\u001B[38;5;28;01mFalse\u001B[39;00m)\n",
      "\u001B[0;31mTypeError\u001B[0m: read_csv() got an unexpected keyword argument 'squeeze'"
     ]
    }
   ]
  },
  {
   "cell_type": "code",
   "metadata": {
    "id": "WsTIJJlRSFkJ",
    "ExecuteTime": {
     "start_time": "2024-01-07T10:59:25.316229Z"
    }
   },
   "source": [
    "sp500"
   ],
   "execution_count": 72,
   "outputs": [
    {
     "ename": "NameError",
     "evalue": "name 'sp500' is not defined",
     "output_type": "error",
     "traceback": [
      "\u001B[0;31m---------------------------------------------------------------------------\u001B[0m",
      "\u001B[0;31mNameError\u001B[0m                                 Traceback (most recent call last)",
      "Cell \u001B[0;32mIn[72], line 1\u001B[0m\n\u001B[0;32m----> 1\u001B[0m sp500\n",
      "\u001B[0;31mNameError\u001B[0m: name 'sp500' is not defined"
     ]
    }
   ]
  },
  {
   "cell_type": "code",
   "metadata": {
    "id": "NJXOLvacSjh9",
    "ExecuteTime": {
     "end_time": "2024-01-07T10:59:25.485875Z",
     "start_time": "2024-01-07T10:59:25.411203Z"
    }
   },
   "source": [
    "type(sp500)"
   ],
   "execution_count": 73,
   "outputs": [
    {
     "ename": "NameError",
     "evalue": "name 'sp500' is not defined",
     "output_type": "error",
     "traceback": [
      "\u001B[0;31m---------------------------------------------------------------------------\u001B[0m",
      "\u001B[0;31mNameError\u001B[0m                                 Traceback (most recent call last)",
      "Cell \u001B[0;32mIn[73], line 1\u001B[0m\n\u001B[0;32m----> 1\u001B[0m \u001B[38;5;28mtype\u001B[39m(sp500)\n",
      "\u001B[0;31mNameError\u001B[0m: name 'sp500' is not defined"
     ]
    }
   ]
  },
  {
   "cell_type": "code",
   "metadata": {
    "id": "VqShdXDGSjnD",
    "ExecuteTime": {
     "start_time": "2024-01-07T10:59:25.484941Z"
    }
   },
   "source": [
    "sp500 = pd.read_csv('S&P500_Prices.csv', squeeze=True)\n",
    "type(sp500)"
   ],
   "execution_count": 74,
   "outputs": [
    {
     "ename": "TypeError",
     "evalue": "read_csv() got an unexpected keyword argument 'squeeze'",
     "output_type": "error",
     "traceback": [
      "\u001B[0;31m---------------------------------------------------------------------------\u001B[0m",
      "\u001B[0;31mTypeError\u001B[0m                                 Traceback (most recent call last)",
      "Cell \u001B[0;32mIn[74], line 1\u001B[0m\n\u001B[0;32m----> 1\u001B[0m sp500 \u001B[38;5;241m=\u001B[39m pd\u001B[38;5;241m.\u001B[39mread_csv(\u001B[38;5;124m'\u001B[39m\u001B[38;5;124mS&P500_Prices.csv\u001B[39m\u001B[38;5;124m'\u001B[39m, squeeze\u001B[38;5;241m=\u001B[39m\u001B[38;5;28;01mTrue\u001B[39;00m)\n\u001B[1;32m      2\u001B[0m \u001B[38;5;28mtype\u001B[39m(sp500)\n",
      "\u001B[0;31mTypeError\u001B[0m: read_csv() got an unexpected keyword argument 'squeeze'"
     ]
    }
   ]
  },
  {
   "cell_type": "markdown",
   "metadata": {
    "id": "c9aEM3KTT619"
   },
   "source": [
    "**MINI CHALLENGE #7 SOLUTION:**\n",
    "- **Given the following Pandas Series, convert all positive values to negative using python built-in functions**\n",
    "- **Obtain only unique values (ie: Remove duplicates) using python built-in functions**\n",
    "- **my_series = pd.Series(data = [-10, 100, -30, 50, 100])**\n"
   ]
  },
  {
   "cell_type": "code",
   "metadata": {
    "id": "VP5bBkaOUIpo",
    "ExecuteTime": {
     "end_time": "2024-01-07T10:59:25.633581Z",
     "start_time": "2024-01-07T10:59:25.594982Z"
    }
   },
   "source": [
    "my_series = pd.Series(data=[-10, 100, -30, 50, 100])\n",
    "my_series"
   ],
   "execution_count": 75,
   "outputs": [
    {
     "data": {
      "text/plain": "0    -10\n1    100\n2    -30\n3     50\n4    100\ndtype: int64"
     },
     "execution_count": 75,
     "metadata": {},
     "output_type": "execute_result"
    }
   ]
  },
  {
   "cell_type": "code",
   "metadata": {
    "id": "NFKY2ZNRaQ-s",
    "ExecuteTime": {
     "end_time": "2024-01-07T10:59:25.706676Z",
     "start_time": "2024-01-07T10:59:25.626775Z"
    }
   },
   "source": [
    "abs(my_series)"
   ],
   "execution_count": 76,
   "outputs": [
    {
     "data": {
      "text/plain": "0     10\n1    100\n2     30\n3     50\n4    100\ndtype: int64"
     },
     "execution_count": 76,
     "metadata": {},
     "output_type": "execute_result"
    }
   ]
  },
  {
   "cell_type": "code",
   "metadata": {
    "id": "xqWCYc0n6V-d",
    "ExecuteTime": {
     "end_time": "2024-01-07T10:59:25.747138Z",
     "start_time": "2024-01-07T10:59:25.699481Z"
    }
   },
   "source": [
    "set(my_series)"
   ],
   "execution_count": 77,
   "outputs": [
    {
     "data": {
      "text/plain": "{-30, -10, 50, 100}"
     },
     "execution_count": 77,
     "metadata": {},
     "output_type": "execute_result"
    }
   ]
  },
  {
   "cell_type": "markdown",
   "metadata": {
    "id": "5hAgN4ITfwPZ"
   },
   "source": [
    "**MINI CHALLENGE #8 SOLUTION:**\n",
    "- **Sort the S&P500 values in a decending order instead. Make sure to update values in-memory.**"
   ]
  },
  {
   "cell_type": "code",
   "metadata": {
    "id": "XbMv5fujfwPa",
    "ExecuteTime": {
     "end_time": "2024-01-07T10:59:25.873980Z",
     "start_time": "2024-01-07T10:59:25.746855Z"
    }
   },
   "source": [
    "sp500.sort_values(ascending=False, inplace=True)\n",
    "sp500"
   ],
   "execution_count": 78,
   "outputs": [
    {
     "ename": "NameError",
     "evalue": "name 'sp500' is not defined",
     "output_type": "error",
     "traceback": [
      "\u001B[0;31m---------------------------------------------------------------------------\u001B[0m",
      "\u001B[0;31mNameError\u001B[0m                                 Traceback (most recent call last)",
      "Cell \u001B[0;32mIn[78], line 1\u001B[0m\n\u001B[0;32m----> 1\u001B[0m sp500\u001B[38;5;241m.\u001B[39msort_values(ascending\u001B[38;5;241m=\u001B[39m\u001B[38;5;28;01mFalse\u001B[39;00m, inplace\u001B[38;5;241m=\u001B[39m\u001B[38;5;28;01mTrue\u001B[39;00m)\n\u001B[1;32m      2\u001B[0m sp500\n",
      "\u001B[0;31mNameError\u001B[0m: name 'sp500' is not defined"
     ]
    }
   ]
  },
  {
   "cell_type": "code",
   "metadata": {
    "id": "dFlqKzfQlDS-",
    "ExecuteTime": {
     "end_time": "2024-01-07T10:59:25.924617Z",
     "start_time": "2024-01-07T10:59:25.869978Z"
    }
   },
   "source": [],
   "execution_count": 78,
   "outputs": []
  },
  {
   "cell_type": "markdown",
   "metadata": {
    "id": "BJJRSL5jlDlV"
   },
   "source": [
    "**MINI CHALLENGE #9 SOLUTION:**\n",
    "- **Obtain the average price using two different methods**"
   ]
  },
  {
   "cell_type": "code",
   "metadata": {
    "id": "PPjFgt5FlDlW",
    "ExecuteTime": {
     "end_time": "2024-01-07T10:59:26.060626Z",
     "start_time": "2024-01-07T10:59:25.908375Z"
    }
   },
   "source": [
    "# Obtain the average - Solution #1\n",
    "sp500.sum() / sp500.count()"
   ],
   "execution_count": 79,
   "outputs": [
    {
     "ename": "NameError",
     "evalue": "name 'sp500' is not defined",
     "output_type": "error",
     "traceback": [
      "\u001B[0;31m---------------------------------------------------------------------------\u001B[0m",
      "\u001B[0;31mNameError\u001B[0m                                 Traceback (most recent call last)",
      "Cell \u001B[0;32mIn[79], line 2\u001B[0m\n\u001B[1;32m      1\u001B[0m \u001B[38;5;66;03m# Obtain the average - Solution #1\u001B[39;00m\n\u001B[0;32m----> 2\u001B[0m sp500\u001B[38;5;241m.\u001B[39msum() \u001B[38;5;241m/\u001B[39m sp500\u001B[38;5;241m.\u001B[39mcount()\n",
      "\u001B[0;31mNameError\u001B[0m: name 'sp500' is not defined"
     ]
    }
   ]
  },
  {
   "cell_type": "code",
   "metadata": {
    "id": "P10NuBnslDlW",
    "ExecuteTime": {
     "start_time": "2024-01-07T10:59:26.042390Z"
    }
   },
   "source": [
    "# Obtain the average - Solution #s\n",
    "sp500.mean()"
   ],
   "execution_count": 80,
   "outputs": [
    {
     "ename": "NameError",
     "evalue": "name 'sp500' is not defined",
     "output_type": "error",
     "traceback": [
      "\u001B[0;31m---------------------------------------------------------------------------\u001B[0m",
      "\u001B[0;31mNameError\u001B[0m                                 Traceback (most recent call last)",
      "Cell \u001B[0;32mIn[80], line 2\u001B[0m\n\u001B[1;32m      1\u001B[0m \u001B[38;5;66;03m# Obtain the average - Solution #s\u001B[39;00m\n\u001B[0;32m----> 2\u001B[0m sp500\u001B[38;5;241m.\u001B[39mmean()\n",
      "\u001B[0;31mNameError\u001B[0m: name 'sp500' is not defined"
     ]
    }
   ]
  },
  {
   "cell_type": "code",
   "metadata": {
    "id": "TZkayhzAby14",
    "ExecuteTime": {
     "end_time": "2024-01-07T10:59:26.229424Z",
     "start_time": "2024-01-07T10:59:26.097031Z"
    }
   },
   "source": [],
   "execution_count": 80,
   "outputs": []
  },
  {
   "cell_type": "markdown",
   "metadata": {
    "id": "VUaaCo_5a8h0"
   },
   "source": [
    "**MINI CHALLENGE #10 SOLUTION:**\n",
    "- **Check if the stock price 3349 exists in the sp500 Pandas Series or not**\n",
    "- **Round stock prices to the nearest integer and check again**"
   ]
  },
  {
   "cell_type": "code",
   "metadata": {
    "id": "650WOhWVjMGx",
    "ExecuteTime": {
     "end_time": "2024-01-07T10:59:26.300330Z",
     "start_time": "2024-01-07T10:59:26.234543Z"
    }
   },
   "source": [
    "3349 in sp500.values"
   ],
   "execution_count": 81,
   "outputs": [
    {
     "ename": "NameError",
     "evalue": "name 'sp500' is not defined",
     "output_type": "error",
     "traceback": [
      "\u001B[0;31m---------------------------------------------------------------------------\u001B[0m",
      "\u001B[0;31mNameError\u001B[0m                                 Traceback (most recent call last)",
      "Cell \u001B[0;32mIn[81], line 1\u001B[0m\n\u001B[0;32m----> 1\u001B[0m \u001B[38;5;241m3349\u001B[39m \u001B[38;5;129;01min\u001B[39;00m sp500\u001B[38;5;241m.\u001B[39mvalues\n",
      "\u001B[0;31mNameError\u001B[0m: name 'sp500' is not defined"
     ]
    }
   ]
  },
  {
   "cell_type": "code",
   "metadata": {
    "id": "8T7B5PhsbVB0",
    "ExecuteTime": {
     "start_time": "2024-01-07T10:59:26.293819Z"
    }
   },
   "source": [
    "sp500 = round(sp500)\n",
    "sp500"
   ],
   "execution_count": 82,
   "outputs": [
    {
     "ename": "NameError",
     "evalue": "name 'sp500' is not defined",
     "output_type": "error",
     "traceback": [
      "\u001B[0;31m---------------------------------------------------------------------------\u001B[0m",
      "\u001B[0;31mNameError\u001B[0m                                 Traceback (most recent call last)",
      "Cell \u001B[0;32mIn[82], line 1\u001B[0m\n\u001B[0;32m----> 1\u001B[0m sp500 \u001B[38;5;241m=\u001B[39m \u001B[38;5;28mround\u001B[39m(sp500)\n\u001B[1;32m      2\u001B[0m sp500\n",
      "\u001B[0;31mNameError\u001B[0m: name 'sp500' is not defined"
     ]
    }
   ]
  },
  {
   "cell_type": "code",
   "metadata": {
    "id": "Ads3YyW_bhVh",
    "ExecuteTime": {
     "end_time": "2024-01-07T10:59:26.409340Z",
     "start_time": "2024-01-07T10:59:26.357874Z"
    }
   },
   "source": [
    "3349 in sp500.values"
   ],
   "execution_count": 83,
   "outputs": [
    {
     "ename": "NameError",
     "evalue": "name 'sp500' is not defined",
     "output_type": "error",
     "traceback": [
      "\u001B[0;31m---------------------------------------------------------------------------\u001B[0m",
      "\u001B[0;31mNameError\u001B[0m                                 Traceback (most recent call last)",
      "Cell \u001B[0;32mIn[83], line 1\u001B[0m\n\u001B[0;32m----> 1\u001B[0m \u001B[38;5;241m3349\u001B[39m \u001B[38;5;129;01min\u001B[39;00m sp500\u001B[38;5;241m.\u001B[39mvalues\n",
      "\u001B[0;31mNameError\u001B[0m: name 'sp500' is not defined"
     ]
    }
   ]
  },
  {
   "cell_type": "markdown",
   "metadata": {
    "id": "vAJPyYxMcmoo"
   },
   "source": [
    "**MINI CHALLENGE #11 SOLUTION:**\n",
    "- **Obtain the fifth element in the Pandas Series**"
   ]
  },
  {
   "cell_type": "code",
   "metadata": {
    "id": "4RDUq1phcmop",
    "ExecuteTime": {
     "end_time": "2024-01-07T10:59:26.556490Z",
     "start_time": "2024-01-07T10:59:26.411206Z"
    }
   },
   "source": [
    "# Note that the fifth element has an index = 4\n",
    "sp500[4]"
   ],
   "execution_count": 84,
   "outputs": [
    {
     "ename": "NameError",
     "evalue": "name 'sp500' is not defined",
     "output_type": "error",
     "traceback": [
      "\u001B[0;31m---------------------------------------------------------------------------\u001B[0m",
      "\u001B[0;31mNameError\u001B[0m                                 Traceback (most recent call last)",
      "Cell \u001B[0;32mIn[84], line 2\u001B[0m\n\u001B[1;32m      1\u001B[0m \u001B[38;5;66;03m# Note that the fifth element has an index = 4\u001B[39;00m\n\u001B[0;32m----> 2\u001B[0m sp500[\u001B[38;5;241m4\u001B[39m]\n",
      "\u001B[0;31mNameError\u001B[0m: name 'sp500' is not defined"
     ]
    }
   ]
  },
  {
   "cell_type": "markdown",
   "metadata": {
    "id": "d3mdLBq2dicZ"
   },
   "source": [
    "**MINI CHALLENGE #12 SOLUTION:**\n",
    "- **Obtain all elements in Pandas Series except for the last 3 elements**"
   ]
  },
  {
   "cell_type": "code",
   "metadata": {
    "id": "0CaYXe_udFyA",
    "ExecuteTime": {
     "start_time": "2024-01-07T10:59:26.513988Z"
    }
   },
   "source": [
    "sp500[:-3]"
   ],
   "execution_count": 85,
   "outputs": [
    {
     "ename": "NameError",
     "evalue": "name 'sp500' is not defined",
     "output_type": "error",
     "traceback": [
      "\u001B[0;31m---------------------------------------------------------------------------\u001B[0m",
      "\u001B[0;31mNameError\u001B[0m                                 Traceback (most recent call last)",
      "Cell \u001B[0;32mIn[85], line 1\u001B[0m\n\u001B[0;32m----> 1\u001B[0m sp500[:\u001B[38;5;241m-\u001B[39m\u001B[38;5;241m3\u001B[39m]\n",
      "\u001B[0;31mNameError\u001B[0m: name 'sp500' is not defined"
     ]
    }
   ]
  }
 ]
}
