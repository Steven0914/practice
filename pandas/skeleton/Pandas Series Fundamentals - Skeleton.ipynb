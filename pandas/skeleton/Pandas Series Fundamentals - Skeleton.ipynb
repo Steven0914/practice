{
 "nbformat": 4,
 "nbformat_minor": 0,
 "metadata": {
  "colab": {
   "name": "Pandas Series Fundamentals - Skeleton backup.ipynb",
   "provenance": [],
   "collapsed_sections": [],
   "authorship_tag": "ABX9TyOUiTqimgZeJoNXvjNCIkpX"
  },
  "kernelspec": {
   "name": "python3",
   "language": "python",
   "display_name": "Python 3 (ipykernel)"
  }
 },
 "cells": [
  {
   "cell_type": "markdown",
   "metadata": {
    "id": "1ivPDcc7p8lD"
   },
   "source": [
    "# 1. DEFINE A PANDAS SERIES (WITH NUMERIC DEFAULT INDEX)"
   ]
  },
  {
   "cell_type": "code",
   "metadata": {
    "id": "4YdCraz8p_XF",
    "ExecuteTime": {
     "end_time": "2024-01-07T14:57:52.594379Z",
     "start_time": "2024-01-07T14:57:52.561704Z"
    }
   },
   "source": [
    "# Pandas is a data manipulation and analysis tool that is built on Numpy.\n",
    "# Pandas uses a data structure known as DataFrame (think of it as Microsoft excel in Python). \n",
    "# DataFrames empower programmers to store and manipulate data in a tabular fashion (rows and columns).\n",
    "# Series Vs. DataFrame? Series is considered a single column of a DataFrame."
   ],
   "execution_count": 1,
   "outputs": []
  },
  {
   "cell_type": "code",
   "metadata": {
    "id": "6H2808pkqKIR",
    "ExecuteTime": {
     "end_time": "2024-01-07T14:57:53.106769Z",
     "start_time": "2024-01-07T14:57:52.590551Z"
    }
   },
   "source": [
    "import pandas as pd"
   ],
   "execution_count": 2,
   "outputs": []
  },
  {
   "cell_type": "code",
   "metadata": {
    "colab": {
     "base_uri": "https://localhost:8080/"
    },
    "id": "SA9m0RD3K2TF",
    "executionInfo": {
     "status": "ok",
     "timestamp": 1618858274558,
     "user_tz": 240,
     "elapsed": 2854,
     "user": {
      "displayName": "Stemplicity",
      "photoUrl": "https://lh3.googleusercontent.com/a-/AOh14Gj2vCFt-bD5mPBhUWX0QA6xiBgoXQXtwUm2jgjaCg=s64",
      "userId": "10668071569687886186"
     }
    },
    "outputId": "26cc61d4-5858-4a5f-e1b8-e8b7dce26b31",
    "ExecuteTime": {
     "end_time": "2024-01-07T14:57:53.123306Z",
     "start_time": "2024-01-07T14:57:53.053162Z"
    }
   },
   "source": [
    "# Let's define a Python list that contains 5 stocks: Nvidia, Microsoft, FaceBook, Amazon, and Boeing\n",
    "my_list = ['NVDA', 'MSFT', 'FB', 'AMZN', 'BA']\n",
    "my_list"
   ],
   "execution_count": 3,
   "outputs": [
    {
     "data": {
      "text/plain": "['NVDA', 'MSFT', 'FB', 'AMZN', 'BA']"
     },
     "execution_count": 3,
     "metadata": {},
     "output_type": "execute_result"
    }
   ]
  },
  {
   "cell_type": "code",
   "metadata": {
    "colab": {
     "base_uri": "https://localhost:8080/"
    },
    "id": "G-fooAckNafC",
    "executionInfo": {
     "status": "ok",
     "timestamp": 1618858274558,
     "user_tz": 240,
     "elapsed": 2842,
     "user": {
      "displayName": "Stemplicity",
      "photoUrl": "https://lh3.googleusercontent.com/a-/AOh14Gj2vCFt-bD5mPBhUWX0QA6xiBgoXQXtwUm2jgjaCg=s64",
      "userId": "10668071569687886186"
     }
    },
    "outputId": "dedb005a-3e3a-4e3f-a9e3-f9a0fb91948a",
    "ExecuteTime": {
     "end_time": "2024-01-07T14:57:53.123653Z",
     "start_time": "2024-01-07T14:57:53.055943Z"
    }
   },
   "source": [
    "# Let's confirm the Datatype\n",
    "type(my_list)"
   ],
   "execution_count": 4,
   "outputs": [
    {
     "data": {
      "text/plain": "list"
     },
     "execution_count": 4,
     "metadata": {},
     "output_type": "execute_result"
    }
   ]
  },
  {
   "cell_type": "code",
   "metadata": {
    "colab": {
     "base_uri": "https://localhost:8080/"
    },
    "id": "hle4zw51K6-P",
    "executionInfo": {
     "status": "ok",
     "timestamp": 1618858274559,
     "user_tz": 240,
     "elapsed": 2831,
     "user": {
      "displayName": "Stemplicity",
      "photoUrl": "https://lh3.googleusercontent.com/a-/AOh14Gj2vCFt-bD5mPBhUWX0QA6xiBgoXQXtwUm2jgjaCg=s64",
      "userId": "10668071569687886186"
     }
    },
    "outputId": "6cd50b46-ecce-41ad-c688-ca3a662d3d5c",
    "ExecuteTime": {
     "end_time": "2024-01-07T14:57:53.127523Z",
     "start_time": "2024-01-07T14:57:53.064873Z"
    }
   },
   "source": [
    "# Let's create a one dimensional Pandas \"series\" \n",
    "# Let's use Pandas Constructor Method to create a series from a Python list\n",
    "# Note that series is formed of data and associated index (numeric index has been automatically generated) \n",
    "# Check Pandas Documentation for More information: https://pandas.pydata.org/pandas-docs/stable/reference/api/pandas.Series.html#pandas.Series\n",
    "# Object datatype is used for text data (String)\n",
    "series_1 = pd.Series(data=my_list)\n",
    "series_1"
   ],
   "execution_count": 5,
   "outputs": [
    {
     "data": {
      "text/plain": "0    NVDA\n1    MSFT\n2      FB\n3    AMZN\n4      BA\ndtype: object"
     },
     "execution_count": 5,
     "metadata": {},
     "output_type": "execute_result"
    }
   ]
  },
  {
   "cell_type": "code",
   "metadata": {
    "colab": {
     "base_uri": "https://localhost:8080/"
    },
    "id": "-HNCtPcoNUyf",
    "executionInfo": {
     "status": "ok",
     "timestamp": 1618858274559,
     "user_tz": 240,
     "elapsed": 2818,
     "user": {
      "displayName": "Stemplicity",
      "photoUrl": "https://lh3.googleusercontent.com/a-/AOh14Gj2vCFt-bD5mPBhUWX0QA6xiBgoXQXtwUm2jgjaCg=s64",
      "userId": "10668071569687886186"
     }
    },
    "outputId": "de6ed879-617b-454d-e792-7a7cb300b903",
    "ExecuteTime": {
     "end_time": "2024-01-07T14:57:53.323539Z",
     "start_time": "2024-01-07T14:57:53.111598Z"
    }
   },
   "source": [
    "# Let's confirm the Pandas Series Datatype\n",
    "type(series_1)"
   ],
   "execution_count": 6,
   "outputs": [
    {
     "data": {
      "text/plain": "pandas.core.series.Series"
     },
     "execution_count": 6,
     "metadata": {},
     "output_type": "execute_result"
    }
   ]
  },
  {
   "cell_type": "code",
   "metadata": {
    "colab": {
     "base_uri": "https://localhost:8080/"
    },
    "id": "LB2J-qw5LdQI",
    "executionInfo": {
     "status": "ok",
     "timestamp": 1618858274560,
     "user_tz": 240,
     "elapsed": 2806,
     "user": {
      "displayName": "Stemplicity",
      "photoUrl": "https://lh3.googleusercontent.com/a-/AOh14Gj2vCFt-bD5mPBhUWX0QA6xiBgoXQXtwUm2jgjaCg=s64",
      "userId": "10668071569687886186"
     }
    },
    "outputId": "b094c6c0-9091-4998-9cfe-01c00ac51933",
    "ExecuteTime": {
     "end_time": "2024-01-07T14:57:53.467320Z",
     "start_time": "2024-01-07T14:57:53.316972Z"
    }
   },
   "source": [
    "# Let's define another Pandas Series that contains numeric values (stock prices) instead of text data\n",
    "# Note that we have int64 datatype which means it's integer stored in 64 bits in memory\n",
    "series_2 = pd.Series(data=[100, 200, 500, 1000, 5000])\n",
    "series_2"
   ],
   "execution_count": 7,
   "outputs": [
    {
     "data": {
      "text/plain": "0     100\n1     200\n2     500\n3    1000\n4    5000\ndtype: int64"
     },
     "execution_count": 7,
     "metadata": {},
     "output_type": "execute_result"
    }
   ]
  },
  {
   "cell_type": "markdown",
   "metadata": {
    "id": "8C0UN46KIntM"
   },
   "source": [
    "**MINI CHALLENGE #1:**\n",
    "- **Define a Pandas Series named \"my_series\" that contains your top 3 favourite movies. Confirm the datatype of \"my_series\"**"
   ]
  },
  {
   "cell_type": "markdown",
   "source": [],
   "metadata": {
    "collapsed": false
   }
  },
  {
   "cell_type": "code",
   "metadata": {
    "id": "l2aMAKvpJyWH",
    "ExecuteTime": {
     "end_time": "2024-01-07T14:57:53.648735Z",
     "start_time": "2024-01-07T14:57:53.452901Z"
    }
   },
   "source": [
    "my_series = pd.Series(data=['영화1', '영화2', '영화3'])\n",
    "print(my_series)\n",
    "print(type(my_series))"
   ],
   "execution_count": 8,
   "outputs": [
    {
     "name": "stdout",
     "output_type": "stream",
     "text": [
      "0    영화1\n",
      "1    영화2\n",
      "2    영화3\n",
      "dtype: object\n",
      "<class 'pandas.core.series.Series'>\n"
     ]
    }
   ]
  },
  {
   "cell_type": "markdown",
   "metadata": {
    "id": "XN92TgiQOD7I"
   },
   "source": [
    "# 2. DEFINE A PANDAS SERIES WITH CUSTOM INDEX"
   ]
  },
  {
   "cell_type": "code",
   "metadata": {
    "colab": {
     "base_uri": "https://localhost:8080/"
    },
    "id": "K4Y9jVx1OaN4",
    "executionInfo": {
     "status": "ok",
     "timestamp": 1618858274561,
     "user_tz": 240,
     "elapsed": 2793,
     "user": {
      "displayName": "Stemplicity",
      "photoUrl": "https://lh3.googleusercontent.com/a-/AOh14Gj2vCFt-bD5mPBhUWX0QA6xiBgoXQXtwUm2jgjaCg=s64",
      "userId": "10668071569687886186"
     }
    },
    "outputId": "bb27d7de-b628-4d2e-d514-b372f8028f3c",
    "ExecuteTime": {
     "end_time": "2024-01-07T14:57:53.730806Z",
     "start_time": "2024-01-07T14:57:53.622151Z"
    }
   },
   "source": [
    "# Let's define a Python list that contains 5 stocks: Nvidia, Microsoft, FaceBook, Amazon, and Boeing\n",
    "my_list = ['NVDA', 'MSFT', 'FB', 'AMZN', 'BA']\n",
    "my_list"
   ],
   "execution_count": 9,
   "outputs": [
    {
     "data": {
      "text/plain": "['NVDA', 'MSFT', 'FB', 'AMZN', 'BA']"
     },
     "execution_count": 9,
     "metadata": {},
     "output_type": "execute_result"
    }
   ]
  },
  {
   "cell_type": "code",
   "metadata": {
    "colab": {
     "base_uri": "https://localhost:8080/"
    },
    "id": "ZSxdgs_xJvxx",
    "executionInfo": {
     "status": "ok",
     "timestamp": 1618858274561,
     "user_tz": 240,
     "elapsed": 2782,
     "user": {
      "displayName": "Stemplicity",
      "photoUrl": "https://lh3.googleusercontent.com/a-/AOh14Gj2vCFt-bD5mPBhUWX0QA6xiBgoXQXtwUm2jgjaCg=s64",
      "userId": "10668071569687886186"
     }
    },
    "outputId": "6236c8f5-d62a-4ef9-9f12-8df4561ea8eb",
    "ExecuteTime": {
     "end_time": "2024-01-07T14:57:53.893096Z",
     "start_time": "2024-01-07T14:57:53.730905Z"
    }
   },
   "source": [
    "# Let's define a python list as shown below. This python list will be used for the Series index:\n",
    "my_labels = ['stock#1', 'stock#2', 'stock#3', 'stock#4', 'stock#5']"
   ],
   "execution_count": 10,
   "outputs": []
  },
  {
   "cell_type": "code",
   "metadata": {
    "id": "U4Fq06XwqX9v",
    "ExecuteTime": {
     "end_time": "2024-01-07T14:57:53.992920Z",
     "start_time": "2024-01-07T14:57:53.880847Z"
    }
   },
   "source": [
    "# Let's create a one dimensional Pandas \"series\" \n",
    "# Let's use Pandas Constructor Method to create a series from a Python list\n",
    "# Note that this series is formed of data and associated labels \n",
    "series_3 = pd.Series(data=my_list, index=my_labels)"
   ],
   "execution_count": 11,
   "outputs": []
  },
  {
   "cell_type": "code",
   "metadata": {
    "id": "YhPzprisqX_8",
    "colab": {
     "base_uri": "https://localhost:8080/"
    },
    "executionInfo": {
     "status": "ok",
     "timestamp": 1618858275058,
     "user_tz": 240,
     "elapsed": 3263,
     "user": {
      "displayName": "Stemplicity",
      "photoUrl": "https://lh3.googleusercontent.com/a-/AOh14Gj2vCFt-bD5mPBhUWX0QA6xiBgoXQXtwUm2jgjaCg=s64",
      "userId": "10668071569687886186"
     }
    },
    "outputId": "bbc1914a-67a3-4226-9827-da1657710c5d",
    "ExecuteTime": {
     "end_time": "2024-01-07T14:57:54.019093Z",
     "start_time": "2024-01-07T14:57:53.973344Z"
    }
   },
   "source": [
    "# Let's view the series\n",
    "series_3"
   ],
   "execution_count": 12,
   "outputs": [
    {
     "data": {
      "text/plain": "stock#1    NVDA\nstock#2    MSFT\nstock#3      FB\nstock#4    AMZN\nstock#5      BA\ndtype: object"
     },
     "execution_count": 12,
     "metadata": {},
     "output_type": "execute_result"
    }
   ]
  },
  {
   "cell_type": "code",
   "metadata": {
    "id": "4LPwMO8fsvi1",
    "colab": {
     "base_uri": "https://localhost:8080/"
    },
    "executionInfo": {
     "status": "ok",
     "timestamp": 1618858275058,
     "user_tz": 240,
     "elapsed": 3251,
     "user": {
      "displayName": "Stemplicity",
      "photoUrl": "https://lh3.googleusercontent.com/a-/AOh14Gj2vCFt-bD5mPBhUWX0QA6xiBgoXQXtwUm2jgjaCg=s64",
      "userId": "10668071569687886186"
     }
    },
    "outputId": "1d1a2f35-2932-49f3-e4b0-e6176c34d1a8",
    "ExecuteTime": {
     "end_time": "2024-01-07T14:57:54.128470Z",
     "start_time": "2024-01-07T14:57:54.011763Z"
    }
   },
   "source": [
    "# Let's obtain the datatype\n",
    "type(series_3)"
   ],
   "execution_count": 13,
   "outputs": [
    {
     "data": {
      "text/plain": "pandas.core.series.Series"
     },
     "execution_count": 13,
     "metadata": {},
     "output_type": "execute_result"
    }
   ]
  },
  {
   "cell_type": "markdown",
   "metadata": {
    "id": "13icipAKL4W5"
   },
   "source": [
    "**MINI CHALLENGE #2:**\n",
    "- **Define a Pandas Series named \"my_series\" that contains your top 3 favourite movies. Instead of using default numeric indexes (similar to mini challenge #1), use the following indexes \"movie #1\", \"Movie #2\", and \"movie #3\"**"
   ]
  },
  {
   "cell_type": "code",
   "metadata": {
    "id": "NZBRmbbuL8OC",
    "ExecuteTime": {
     "end_time": "2024-01-07T14:57:54.195597Z",
     "start_time": "2024-01-07T14:57:54.119969Z"
    }
   },
   "source": [
    "movie_list = ['영화1', '영화2', '영화3']\n",
    "movie_label = ['movie#1', 'movie#2', 'movie#3']\n",
    "my_series = pd.Series(data=movie_list, index=movie_label)"
   ],
   "execution_count": 14,
   "outputs": []
  },
  {
   "cell_type": "code",
   "execution_count": 15,
   "outputs": [
    {
     "data": {
      "text/plain": "movie#1    영화1\nmovie#2    영화2\nmovie#3    영화3\ndtype: object"
     },
     "execution_count": 15,
     "metadata": {},
     "output_type": "execute_result"
    }
   ],
   "source": [
    "my_series"
   ],
   "metadata": {
    "collapsed": false,
    "ExecuteTime": {
     "end_time": "2024-01-07T14:57:54.329008Z",
     "start_time": "2024-01-07T14:57:54.199384Z"
    }
   }
  },
  {
   "cell_type": "markdown",
   "metadata": {
    "id": "96EH6h9SQYW1"
   },
   "source": [
    "# 3. DEFINE A PANDAS SERIES FROM A DICTIONARY"
   ]
  },
  {
   "cell_type": "code",
   "metadata": {
    "id": "fk9R_fZlML_y",
    "ExecuteTime": {
     "end_time": "2024-01-07T14:57:54.372888Z",
     "start_time": "2024-01-07T14:57:54.314988Z"
    }
   },
   "source": [
    "# A Dictionary consists of a collection of key-value pairs. Each key-value pair maps the key to its corresponding value.\n",
    "# Keys are unique within a dictionary while values may not be. \n",
    "# List elements are accessed by their position in the list, via indexing while Dictionary elements are accessed via keys\n",
    "# Define a dictionary named \"my_dict\" using key-value pairs\n",
    "my_dict = {'Bank Client Id': 111,\n",
    "           'Bank Client Name': 'Steve',\n",
    "           'Net Worth [$]': 3500,\n",
    "           'Years with Bank': 9}\n"
   ],
   "execution_count": 16,
   "outputs": []
  },
  {
   "cell_type": "code",
   "metadata": {
    "id": "BlHhf-YPQdrB",
    "colab": {
     "base_uri": "https://localhost:8080/"
    },
    "executionInfo": {
     "status": "ok",
     "timestamp": 1618858275060,
     "user_tz": 240,
     "elapsed": 3235,
     "user": {
      "displayName": "Stemplicity",
      "photoUrl": "https://lh3.googleusercontent.com/a-/AOh14Gj2vCFt-bD5mPBhUWX0QA6xiBgoXQXtwUm2jgjaCg=s64",
      "userId": "10668071569687886186"
     }
    },
    "outputId": "8b32d4de-c0e0-4399-a67a-b90d33b99dd0",
    "ExecuteTime": {
     "end_time": "2024-01-07T14:57:54.514941Z",
     "start_time": "2024-01-07T14:57:54.369922Z"
    }
   },
   "source": [
    "# Show the dictionary\n",
    "my_dict"
   ],
   "execution_count": 17,
   "outputs": [
    {
     "data": {
      "text/plain": "{'Bank Client Id': 111,\n 'Bank Client Name': 'Steve',\n 'Net Worth [$]': 3500,\n 'Years with Bank': 9}"
     },
     "execution_count": 17,
     "metadata": {},
     "output_type": "execute_result"
    }
   ]
  },
  {
   "cell_type": "code",
   "metadata": {
    "colab": {
     "base_uri": "https://localhost:8080/"
    },
    "id": "0b4KQo3JMcI0",
    "executionInfo": {
     "status": "ok",
     "timestamp": 1618858275061,
     "user_tz": 240,
     "elapsed": 3223,
     "user": {
      "displayName": "Stemplicity",
      "photoUrl": "https://lh3.googleusercontent.com/a-/AOh14Gj2vCFt-bD5mPBhUWX0QA6xiBgoXQXtwUm2jgjaCg=s64",
      "userId": "10668071569687886186"
     }
    },
    "outputId": "0223f43e-a5a1-4759-96db-357481a582ab",
    "ExecuteTime": {
     "end_time": "2024-01-07T14:57:54.553307Z",
     "start_time": "2024-01-07T14:57:54.497312Z"
    }
   },
   "source": [
    "# Confirm the dictionary datatype \n",
    "type(my_dict)"
   ],
   "execution_count": 18,
   "outputs": [
    {
     "data": {
      "text/plain": "dict"
     },
     "execution_count": 18,
     "metadata": {},
     "output_type": "execute_result"
    }
   ]
  },
  {
   "cell_type": "code",
   "metadata": {
    "colab": {
     "base_uri": "https://localhost:8080/"
    },
    "id": "LeH27Q4aQeXe",
    "executionInfo": {
     "status": "ok",
     "timestamp": 1618858275061,
     "user_tz": 240,
     "elapsed": 3212,
     "user": {
      "displayName": "Stemplicity",
      "photoUrl": "https://lh3.googleusercontent.com/a-/AOh14Gj2vCFt-bD5mPBhUWX0QA6xiBgoXQXtwUm2jgjaCg=s64",
      "userId": "10668071569687886186"
     }
    },
    "outputId": "e7e8c45a-7c15-4975-dc3f-d04526840b0e",
    "ExecuteTime": {
     "end_time": "2024-01-07T14:57:54.719014Z",
     "start_time": "2024-01-07T14:57:54.547848Z"
    }
   },
   "source": [
    "# Let's define a Pandas Series Using the dictionary\n",
    "series_4 = pd.Series(my_dict)\n",
    "series_4"
   ],
   "execution_count": 19,
   "outputs": [
    {
     "data": {
      "text/plain": "Bank Client Id        111\nBank Client Name    Steve\nNet Worth [$]        3500\nYears with Bank         9\ndtype: object"
     },
     "execution_count": 19,
     "metadata": {},
     "output_type": "execute_result"
    }
   ]
  },
  {
   "cell_type": "markdown",
   "metadata": {
    "id": "_Tk4kxlLNI85"
   },
   "source": [
    "**MINI CHALLENGE #3:**\n",
    "- **Create a Pandas Series from a dictionary with 3 of your favourite stocks and their corresponding prices** "
   ]
  },
  {
   "cell_type": "code",
   "metadata": {
    "id": "nlG7J4oKNLuY",
    "ExecuteTime": {
     "end_time": "2024-01-07T14:57:54.799750Z",
     "start_time": "2024-01-07T14:57:54.703958Z"
    }
   },
   "source": [
    "my_stock_dict = {'삼성전자':3500,\n",
    "                 'sk':2000,\n",
    "                 '비트코인':5000}\n",
    "my_stock = pd.Series(my_stock_dict)\n",
    "my_stock"
   ],
   "execution_count": 20,
   "outputs": [
    {
     "data": {
      "text/plain": "삼성전자    3500\nsk      2000\n비트코인    5000\ndtype: int64"
     },
     "execution_count": 20,
     "metadata": {},
     "output_type": "execute_result"
    }
   ]
  },
  {
   "cell_type": "markdown",
   "metadata": {
    "id": "VGlb7t7WRIR3"
   },
   "source": [
    "# 4. PANDAS ATTRIBUTES"
   ]
  },
  {
   "cell_type": "code",
   "metadata": {
    "id": "p4FauWQlRRD8",
    "colab": {
     "base_uri": "https://localhost:8080/"
    },
    "executionInfo": {
     "status": "ok",
     "timestamp": 1618858275063,
     "user_tz": 240,
     "elapsed": 3200,
     "user": {
      "displayName": "Stemplicity",
      "photoUrl": "https://lh3.googleusercontent.com/a-/AOh14Gj2vCFt-bD5mPBhUWX0QA6xiBgoXQXtwUm2jgjaCg=s64",
      "userId": "10668071569687886186"
     }
    },
    "outputId": "e4886437-037a-4c0d-d101-4ae420394a55",
    "ExecuteTime": {
     "end_time": "2024-01-07T14:57:54.905104Z",
     "start_time": "2024-01-07T14:57:54.782141Z"
    }
   },
   "source": [
    "# Attributes/Properties: do not use parantheses \"()\" and are used to get Pandas Series Properties. Ex: my_series.values, my_series.shape\n",
    "# Methods: use parantheses \"()\" and might include arguments and they actually alter/change the Pandas Series. Ex: my_series.tail(), my_series.head(), my_series.drop_duplicates()\n",
    "# Indexers: use square brackets \"[]\" and are used to access specific elements in a Pandas Series or DataFrame. Ex: my_series.loc[], my_series.iloc[]\n",
    "\n",
    "# Let's redefine a Pandas Series containing our favourite 5 stocks \n",
    "# Nvidia, Microsoft, FaceBook, Amazon, and Boeing\n",
    "series_1"
   ],
   "execution_count": 21,
   "outputs": [
    {
     "data": {
      "text/plain": "0    NVDA\n1    MSFT\n2      FB\n3    AMZN\n4      BA\ndtype: object"
     },
     "execution_count": 21,
     "metadata": {},
     "output_type": "execute_result"
    }
   ]
  },
  {
   "cell_type": "code",
   "metadata": {
    "colab": {
     "base_uri": "https://localhost:8080/"
    },
    "id": "KBgZI_vHQeeA",
    "executionInfo": {
     "status": "ok",
     "timestamp": 1618858275063,
     "user_tz": 240,
     "elapsed": 3191,
     "user": {
      "displayName": "Stemplicity",
      "photoUrl": "https://lh3.googleusercontent.com/a-/AOh14Gj2vCFt-bD5mPBhUWX0QA6xiBgoXQXtwUm2jgjaCg=s64",
      "userId": "10668071569687886186"
     }
    },
    "outputId": "15e55866-6ba6-4092-d147-ebd9ea3db158",
    "ExecuteTime": {
     "end_time": "2024-01-07T14:57:54.982791Z",
     "start_time": "2024-01-07T14:57:54.907247Z"
    }
   },
   "source": [
    "# \".Values\" attribute is used to return Series as ndarray depending on its dtype\n",
    "# Check this for more information: https://pandas.pydata.org/docs/reference/api/pandas.Series.values.html#pandas.Series.values\n",
    "series_1.values"
   ],
   "execution_count": 22,
   "outputs": [
    {
     "data": {
      "text/plain": "array(['NVDA', 'MSFT', 'FB', 'AMZN', 'BA'], dtype=object)"
     },
     "execution_count": 22,
     "metadata": {},
     "output_type": "execute_result"
    }
   ]
  },
  {
   "cell_type": "code",
   "metadata": {
    "colab": {
     "base_uri": "https://localhost:8080/"
    },
    "id": "YDunyBEQRtoJ",
    "executionInfo": {
     "status": "ok",
     "timestamp": 1618858275064,
     "user_tz": 240,
     "elapsed": 3181,
     "user": {
      "displayName": "Stemplicity",
      "photoUrl": "https://lh3.googleusercontent.com/a-/AOh14Gj2vCFt-bD5mPBhUWX0QA6xiBgoXQXtwUm2jgjaCg=s64",
      "userId": "10668071569687886186"
     }
    },
    "outputId": "b871c285-8973-4076-9c77-61898c193f42",
    "ExecuteTime": {
     "end_time": "2024-01-07T14:57:55.121767Z",
     "start_time": "2024-01-07T14:57:54.969363Z"
    }
   },
   "source": [
    "# index is used to return the index (axis labels) of the Series\n",
    "series_1.index"
   ],
   "execution_count": 23,
   "outputs": [
    {
     "data": {
      "text/plain": "RangeIndex(start=0, stop=5, step=1)"
     },
     "execution_count": 23,
     "metadata": {},
     "output_type": "execute_result"
    }
   ]
  },
  {
   "cell_type": "code",
   "metadata": {
    "colab": {
     "base_uri": "https://localhost:8080/"
    },
    "id": "7bgfGfQaSrqw",
    "executionInfo": {
     "status": "ok",
     "timestamp": 1618858275065,
     "user_tz": 240,
     "elapsed": 3171,
     "user": {
      "displayName": "Stemplicity",
      "photoUrl": "https://lh3.googleusercontent.com/a-/AOh14Gj2vCFt-bD5mPBhUWX0QA6xiBgoXQXtwUm2jgjaCg=s64",
      "userId": "10668071569687886186"
     }
    },
    "outputId": "1500e3b0-a9da-4d61-cbe2-fdf8fe296a1e",
    "ExecuteTime": {
     "end_time": "2024-01-07T14:57:55.215716Z",
     "start_time": "2024-01-07T14:57:55.124154Z"
    }
   },
   "source": [
    "# dtype is used to return the datatype of the Series ('O' stands for 'object' datatype)\n",
    "series_1.dtype"
   ],
   "execution_count": 24,
   "outputs": [
    {
     "data": {
      "text/plain": "dtype('O')"
     },
     "execution_count": 24,
     "metadata": {},
     "output_type": "execute_result"
    }
   ]
  },
  {
   "cell_type": "code",
   "metadata": {
    "colab": {
     "base_uri": "https://localhost:8080/"
    },
    "id": "XeQtP9v2dxzu",
    "executionInfo": {
     "status": "ok",
     "timestamp": 1618858275066,
     "user_tz": 240,
     "elapsed": 3154,
     "user": {
      "displayName": "Stemplicity",
      "photoUrl": "https://lh3.googleusercontent.com/a-/AOh14Gj2vCFt-bD5mPBhUWX0QA6xiBgoXQXtwUm2jgjaCg=s64",
      "userId": "10668071569687886186"
     }
    },
    "outputId": "6689f7de-159f-48d3-9abf-bba1c6f6b198",
    "ExecuteTime": {
     "end_time": "2024-01-07T14:57:55.324375Z",
     "start_time": "2024-01-07T14:57:55.203905Z"
    }
   },
   "source": [
    "# Check if all elements are unique or not\n",
    "series_1.is_unique"
   ],
   "execution_count": 25,
   "outputs": [
    {
     "data": {
      "text/plain": "True"
     },
     "execution_count": 25,
     "metadata": {},
     "output_type": "execute_result"
    }
   ]
  },
  {
   "cell_type": "code",
   "metadata": {
    "colab": {
     "base_uri": "https://localhost:8080/"
    },
    "id": "8VWnKVh0d7Kw",
    "executionInfo": {
     "status": "ok",
     "timestamp": 1618858275066,
     "user_tz": 240,
     "elapsed": 3133,
     "user": {
      "displayName": "Stemplicity",
      "photoUrl": "https://lh3.googleusercontent.com/a-/AOh14Gj2vCFt-bD5mPBhUWX0QA6xiBgoXQXtwUm2jgjaCg=s64",
      "userId": "10668071569687886186"
     }
    },
    "outputId": "dca8b133-a9c1-432d-ed9d-9f9056224e62",
    "ExecuteTime": {
     "end_time": "2024-01-07T14:57:55.388741Z",
     "start_time": "2024-01-07T14:57:55.305249Z"
    }
   },
   "source": [
    "# Check the shape of the Series\n",
    "# note that a Series is one dimensional\n",
    "series_1.shape"
   ],
   "execution_count": 26,
   "outputs": [
    {
     "data": {
      "text/plain": "(5,)"
     },
     "execution_count": 26,
     "metadata": {},
     "output_type": "execute_result"
    }
   ]
  },
  {
   "cell_type": "markdown",
   "metadata": {
    "id": "gPL7KbA3XGr1"
   },
   "source": [
    "**MINI CHALLENGE #4:** \n",
    "- **What is the size of the Pandas Series? (External Research for the proper attribute is Required)**"
   ]
  },
  {
   "cell_type": "code",
   "metadata": {
    "id": "SyfddtryXbmX",
    "ExecuteTime": {
     "end_time": "2024-01-07T14:57:55.526964Z",
     "start_time": "2024-01-07T14:57:55.381451Z"
    }
   },
   "source": [
    "series_1.size"
   ],
   "execution_count": 27,
   "outputs": [
    {
     "data": {
      "text/plain": "5"
     },
     "execution_count": 27,
     "metadata": {},
     "output_type": "execute_result"
    }
   ]
  },
  {
   "cell_type": "markdown",
   "metadata": {
    "id": "Qc7sVau-UtYt"
   },
   "source": [
    "# 5. PANDAS METHODS"
   ]
  },
  {
   "cell_type": "code",
   "metadata": {
    "colab": {
     "base_uri": "https://localhost:8080/"
    },
    "id": "5gwWM4VvUxI2",
    "executionInfo": {
     "status": "ok",
     "timestamp": 1618858275068,
     "user_tz": 240,
     "elapsed": 3125,
     "user": {
      "displayName": "Stemplicity",
      "photoUrl": "https://lh3.googleusercontent.com/a-/AOh14Gj2vCFt-bD5mPBhUWX0QA6xiBgoXQXtwUm2jgjaCg=s64",
      "userId": "10668071569687886186"
     }
    },
    "outputId": "7cb2d91b-0317-4708-9140-053a2ac721c2",
    "ExecuteTime": {
     "end_time": "2024-01-07T14:57:55.572706Z",
     "start_time": "2024-01-07T14:57:55.523484Z"
    }
   },
   "source": [
    "# Methods have parentheses and they actually alter/change the Pandas Series\n",
    "# Methods: use parantheses \"()\" and might include arguments. Ex: my_series.tail(), my_series.head(), my_series.drop_duplicates()\n",
    "\n",
    "# Let's define another Pandas Series that contains numeric values (stock prices) instead of text data\n",
    "# Note that we have int64 datatype which means it contains integer values stored in 64 bits in memory\n",
    "my_series = pd.Series(data=[100,200,500,1000,5000])\n",
    "my_series"
   ],
   "execution_count": 28,
   "outputs": [
    {
     "data": {
      "text/plain": "0     100\n1     200\n2     500\n3    1000\n4    5000\ndtype: int64"
     },
     "execution_count": 28,
     "metadata": {},
     "output_type": "execute_result"
    }
   ]
  },
  {
   "cell_type": "code",
   "metadata": {
    "colab": {
     "base_uri": "https://localhost:8080/"
    },
    "id": "ImwFgVASUxLa",
    "executionInfo": {
     "status": "ok",
     "timestamp": 1618858275069,
     "user_tz": 240,
     "elapsed": 3116,
     "user": {
      "displayName": "Stemplicity",
      "photoUrl": "https://lh3.googleusercontent.com/a-/AOh14Gj2vCFt-bD5mPBhUWX0QA6xiBgoXQXtwUm2jgjaCg=s64",
      "userId": "10668071569687886186"
     }
    },
    "outputId": "9f7b7f3b-b8fb-4ebf-e224-fa7c43197d3f",
    "ExecuteTime": {
     "end_time": "2024-01-07T14:57:55.688558Z",
     "start_time": "2024-01-07T14:57:55.561730Z"
    }
   },
   "source": [
    "# Let's obtain the sum of all elements in the Pandas Series\n",
    "my_series.sum()"
   ],
   "execution_count": 29,
   "outputs": [
    {
     "data": {
      "text/plain": "6800"
     },
     "execution_count": 29,
     "metadata": {},
     "output_type": "execute_result"
    }
   ]
  },
  {
   "cell_type": "code",
   "metadata": {
    "colab": {
     "base_uri": "https://localhost:8080/"
    },
    "id": "OLa69YwxUxOa",
    "executionInfo": {
     "status": "ok",
     "timestamp": 1618858275071,
     "user_tz": 240,
     "elapsed": 3100,
     "user": {
      "displayName": "Stemplicity",
      "photoUrl": "https://lh3.googleusercontent.com/a-/AOh14Gj2vCFt-bD5mPBhUWX0QA6xiBgoXQXtwUm2jgjaCg=s64",
      "userId": "10668071569687886186"
     }
    },
    "outputId": "158234c1-4535-45b8-ae26-677f57238f08",
    "ExecuteTime": {
     "end_time": "2024-01-07T14:57:55.769953Z",
     "start_time": "2024-01-07T14:57:55.674556Z"
    }
   },
   "source": [
    "# Let's obtain the multiplication of all elements in the Pandas Series\n",
    "my_series.product()"
   ],
   "execution_count": 30,
   "outputs": [
    {
     "data": {
      "text/plain": "50000000000000"
     },
     "execution_count": 30,
     "metadata": {},
     "output_type": "execute_result"
    }
   ]
  },
  {
   "cell_type": "code",
   "metadata": {
    "colab": {
     "base_uri": "https://localhost:8080/"
    },
    "id": "xVMJtbtkUxQ-",
    "executionInfo": {
     "status": "ok",
     "timestamp": 1618858275072,
     "user_tz": 240,
     "elapsed": 3079,
     "user": {
      "displayName": "Stemplicity",
      "photoUrl": "https://lh3.googleusercontent.com/a-/AOh14Gj2vCFt-bD5mPBhUWX0QA6xiBgoXQXtwUm2jgjaCg=s64",
      "userId": "10668071569687886186"
     }
    },
    "outputId": "650e2e87-2838-460a-98ae-09d1eb01cdcb",
    "ExecuteTime": {
     "end_time": "2024-01-07T14:57:55.884675Z",
     "start_time": "2024-01-07T14:57:55.761457Z"
    }
   },
   "source": [
    "# Let's obtain the average\n",
    "my_series.mean()"
   ],
   "execution_count": 31,
   "outputs": [
    {
     "data": {
      "text/plain": "1360.0"
     },
     "execution_count": 31,
     "metadata": {},
     "output_type": "execute_result"
    }
   ]
  },
  {
   "cell_type": "code",
   "metadata": {
    "colab": {
     "base_uri": "https://localhost:8080/"
    },
    "id": "FgqSFr98YTUw",
    "executionInfo": {
     "status": "ok",
     "timestamp": 1618858275073,
     "user_tz": 240,
     "elapsed": 3069,
     "user": {
      "displayName": "Stemplicity",
      "photoUrl": "https://lh3.googleusercontent.com/a-/AOh14Gj2vCFt-bD5mPBhUWX0QA6xiBgoXQXtwUm2jgjaCg=s64",
      "userId": "10668071569687886186"
     }
    },
    "outputId": "afaf3e7b-b5c1-4d1c-b99d-dd1bc9af90e3",
    "ExecuteTime": {
     "end_time": "2024-01-07T14:57:55.928955Z",
     "start_time": "2024-01-07T14:57:55.879669Z"
    }
   },
   "source": [
    "# Let's show the first couple of elements in the Pandas Series\n",
    "my_series.head(2)"
   ],
   "execution_count": 32,
   "outputs": [
    {
     "data": {
      "text/plain": "0    100\n1    200\ndtype: int64"
     },
     "execution_count": 32,
     "metadata": {},
     "output_type": "execute_result"
    }
   ]
  },
  {
   "cell_type": "code",
   "metadata": {
    "colab": {
     "base_uri": "https://localhost:8080/"
    },
    "id": "GFoxw41LZrBs",
    "executionInfo": {
     "status": "ok",
     "timestamp": 1618858275083,
     "user_tz": 240,
     "elapsed": 3070,
     "user": {
      "displayName": "Stemplicity",
      "photoUrl": "https://lh3.googleusercontent.com/a-/AOh14Gj2vCFt-bD5mPBhUWX0QA6xiBgoXQXtwUm2jgjaCg=s64",
      "userId": "10668071569687886186"
     }
    },
    "outputId": "3aefbee8-0c98-44f4-a0b1-fd3b8a08899e",
    "ExecuteTime": {
     "end_time": "2024-01-07T14:57:56.051039Z",
     "start_time": "2024-01-07T14:57:55.922886Z"
    }
   },
   "source": [
    "# Note that head creates a new dataframe \n",
    "new_series = my_series.head(3)\n",
    "new_series"
   ],
   "execution_count": 33,
   "outputs": [
    {
     "data": {
      "text/plain": "0    100\n1    200\n2    500\ndtype: int64"
     },
     "execution_count": 33,
     "metadata": {},
     "output_type": "execute_result"
    }
   ]
  },
  {
   "cell_type": "markdown",
   "metadata": {
    "id": "DHknLT4PTrjn"
   },
   "source": [
    "**MINI CHALLENGE #5:** \n",
    "- **Show the last 2 rows in the Pandas Series (External Research is Required)** \n",
    "- **How many bytes does this Pandas Series consume in memory? (External Research is Required)**"
   ]
  },
  {
   "cell_type": "code",
   "metadata": {
    "colab": {
     "base_uri": "https://localhost:8080/"
    },
    "id": "UUiOynSPSshX",
    "executionInfo": {
     "status": "ok",
     "timestamp": 1618858275085,
     "user_tz": 240,
     "elapsed": 3063,
     "user": {
      "displayName": "Stemplicity",
      "photoUrl": "https://lh3.googleusercontent.com/a-/AOh14Gj2vCFt-bD5mPBhUWX0QA6xiBgoXQXtwUm2jgjaCg=s64",
      "userId": "10668071569687886186"
     }
    },
    "outputId": "a3eb0c0b-1456-40aa-8fa6-2303e8396fad",
    "ExecuteTime": {
     "end_time": "2024-01-07T14:57:56.107715Z",
     "start_time": "2024-01-07T14:57:56.037112Z"
    }
   },
   "source": [
    "my_series.tail(2)"
   ],
   "execution_count": 34,
   "outputs": [
    {
     "data": {
      "text/plain": "3    1000\n4    5000\ndtype: int64"
     },
     "execution_count": 34,
     "metadata": {},
     "output_type": "execute_result"
    }
   ]
  },
  {
   "cell_type": "code",
   "execution_count": 35,
   "outputs": [
    {
     "data": {
      "text/plain": "172"
     },
     "execution_count": 35,
     "metadata": {},
     "output_type": "execute_result"
    }
   ],
   "source": [
    "# 사용되고 있는 메모리\n",
    "my_series.memory_usage()"
   ],
   "metadata": {
    "collapsed": false,
    "ExecuteTime": {
     "end_time": "2024-01-07T14:57:56.237614Z",
     "start_time": "2024-01-07T14:57:56.100336Z"
    }
   }
  },
  {
   "cell_type": "markdown",
   "metadata": {
    "id": "vzu3jPDbasz5"
   },
   "source": [
    "# 6. IMPORT CSV DATA (1-D) USING PANDAS"
   ]
  },
  {
   "cell_type": "code",
   "metadata": {
    "id": "zLiVpmH2asz6",
    "colab": {
     "base_uri": "https://localhost:8080/",
     "height": 404
    },
    "executionInfo": {
     "status": "error",
     "timestamp": 1618858275613,
     "user_tz": 240,
     "elapsed": 3588,
     "user": {
      "displayName": "Stemplicity",
      "photoUrl": "https://lh3.googleusercontent.com/a-/AOh14Gj2vCFt-bD5mPBhUWX0QA6xiBgoXQXtwUm2jgjaCg=s64",
      "userId": "10668071569687886186"
     }
    },
    "outputId": "165b683c-727d-4eee-aab4-be8aee65801c",
    "ExecuteTime": {
     "end_time": "2024-01-07T14:57:56.305684Z",
     "start_time": "2024-01-07T14:57:56.224791Z"
    }
   },
   "source": [
    "# Pandas read_csv is used to read a csv file and store data in a DataFrame by default (DataFrames will be covered shortly!)\n",
    "# Use Squeeze to convert it into a Pandas Series (One-dimensional)\n",
    "# Notice that no foramtting exists when a Series is plotted\n",
    "sp500 = pd.read_csv('../datasets/S_P500_Prices.csv')\n",
    "# squeeze =>1,40부터 사용 X \n",
    "# 데이터를 압축하려면 .squeeze 함수 이용"
   ],
   "execution_count": 36,
   "outputs": []
  },
  {
   "cell_type": "code",
   "metadata": {
    "id": "Py1fYuPFasz6",
    "ExecuteTime": {
     "end_time": "2024-01-07T14:57:56.408737Z",
     "start_time": "2024-01-07T14:57:56.304795Z"
    }
   },
   "source": [
    "sp500"
   ],
   "execution_count": 37,
   "outputs": [
    {
     "data": {
      "text/plain": "            sp500\n0     1295.500000\n1     1289.089966\n2     1293.670044\n3     1308.040039\n4     1314.500000\n...           ...\n2154  3327.770020\n2155  3349.159912\n2156  3351.280029\n2157  3360.469971\n2158  3333.689941\n\n[2159 rows x 1 columns]",
      "text/html": "<div>\n<style scoped>\n    .dataframe tbody tr th:only-of-type {\n        vertical-align: middle;\n    }\n\n    .dataframe tbody tr th {\n        vertical-align: top;\n    }\n\n    .dataframe thead th {\n        text-align: right;\n    }\n</style>\n<table border=\"1\" class=\"dataframe\">\n  <thead>\n    <tr style=\"text-align: right;\">\n      <th></th>\n      <th>sp500</th>\n    </tr>\n  </thead>\n  <tbody>\n    <tr>\n      <th>0</th>\n      <td>1295.500000</td>\n    </tr>\n    <tr>\n      <th>1</th>\n      <td>1289.089966</td>\n    </tr>\n    <tr>\n      <th>2</th>\n      <td>1293.670044</td>\n    </tr>\n    <tr>\n      <th>3</th>\n      <td>1308.040039</td>\n    </tr>\n    <tr>\n      <th>4</th>\n      <td>1314.500000</td>\n    </tr>\n    <tr>\n      <th>...</th>\n      <td>...</td>\n    </tr>\n    <tr>\n      <th>2154</th>\n      <td>3327.770020</td>\n    </tr>\n    <tr>\n      <th>2155</th>\n      <td>3349.159912</td>\n    </tr>\n    <tr>\n      <th>2156</th>\n      <td>3351.280029</td>\n    </tr>\n    <tr>\n      <th>2157</th>\n      <td>3360.469971</td>\n    </tr>\n    <tr>\n      <th>2158</th>\n      <td>3333.689941</td>\n    </tr>\n  </tbody>\n</table>\n<p>2159 rows × 1 columns</p>\n</div>"
     },
     "execution_count": 37,
     "metadata": {},
     "output_type": "execute_result"
    }
   ]
  },
  {
   "cell_type": "code",
   "execution_count": 38,
   "outputs": [
    {
     "data": {
      "text/plain": "pandas.core.frame.DataFrame"
     },
     "execution_count": 38,
     "metadata": {},
     "output_type": "execute_result"
    }
   ],
   "source": [
    "type(sp500)"
   ],
   "metadata": {
    "collapsed": false,
    "ExecuteTime": {
     "end_time": "2024-01-07T14:57:56.449824Z",
     "start_time": "2024-01-07T14:57:56.388357Z"
    }
   }
  },
  {
   "cell_type": "markdown",
   "metadata": {
    "id": "CykEEAr9S--X"
   },
   "source": [
    "**MINI CHALLENGE #6:**\n",
    "- **Set Squeeze = False and rerun the cell, what do you notice? Use Type to compare both outputs**"
   ]
  },
  {
   "cell_type": "code",
   "metadata": {
    "id": "DVEio_JnTArn",
    "ExecuteTime": {
     "end_time": "2024-01-07T14:57:56.571770Z",
     "start_time": "2024-01-07T14:57:56.442594Z"
    }
   },
   "source": [
    "sp500 = pd.read_csv('../datasets/S_P500_Prices.csv')"
   ],
   "execution_count": 39,
   "outputs": []
  },
  {
   "cell_type": "markdown",
   "metadata": {
    "id": "8HBGOWjKaK_i"
   },
   "source": [
    "# 7. PANDAS BUILT-IN FUNCTIONS"
   ]
  },
  {
   "cell_type": "code",
   "metadata": {
    "id": "-Q-1iWEqaP6y",
    "ExecuteTime": {
     "end_time": "2024-01-07T14:57:56.704100Z",
     "start_time": "2024-01-07T14:57:56.570389Z"
    }
   },
   "source": [
    "# Pandas works great with pre-existing python functions \n",
    "# You don't have to play with pandas methods and directly leverage Python functions\n",
    "# Check Python built-in functions here: https://docs.python.org/3/library/functions.html\n",
    "\n"
   ],
   "execution_count": 40,
   "outputs": []
  },
  {
   "cell_type": "code",
   "metadata": {
    "id": "g759k2IPdVH-",
    "ExecuteTime": {
     "end_time": "2024-01-07T14:57:56.955083Z",
     "start_time": "2024-01-07T14:57:56.694940Z"
    }
   },
   "source": [
    "# Obtain the Data Type of the Pandas Series\n",
    "type(sp500)"
   ],
   "execution_count": 41,
   "outputs": [
    {
     "data": {
      "text/plain": "pandas.core.frame.DataFrame"
     },
     "execution_count": 41,
     "metadata": {},
     "output_type": "execute_result"
    }
   ]
  },
  {
   "cell_type": "code",
   "metadata": {
    "id": "NbKysqrSaQ32",
    "ExecuteTime": {
     "end_time": "2024-01-07T14:57:57.034730Z",
     "start_time": "2024-01-07T14:57:56.929239Z"
    }
   },
   "source": [
    "# Obtain the length of the Pandas Series\n",
    "len(sp500)"
   ],
   "execution_count": 42,
   "outputs": [
    {
     "data": {
      "text/plain": "2159"
     },
     "execution_count": 42,
     "metadata": {},
     "output_type": "execute_result"
    }
   ]
  },
  {
   "cell_type": "code",
   "metadata": {
    "id": "FeeA8actaQ6P",
    "ExecuteTime": {
     "end_time": "2024-01-07T14:57:57.178061Z",
     "start_time": "2024-01-07T14:57:57.032680Z"
    }
   },
   "source": [
    "# Obtain the maximum value of the Pandas Series\n",
    "max(sp500) #안됨"
   ],
   "execution_count": 43,
   "outputs": [
    {
     "data": {
      "text/plain": "'sp500'"
     },
     "execution_count": 43,
     "metadata": {},
     "output_type": "execute_result"
    }
   ]
  },
  {
   "cell_type": "code",
   "metadata": {
    "id": "fyhw96-JaQ8a",
    "ExecuteTime": {
     "end_time": "2024-01-07T14:57:57.220896Z",
     "start_time": "2024-01-07T14:57:57.147828Z"
    }
   },
   "source": [
    "# Obtain the minimum value of the Pandas Series\n",
    "min(sp500)"
   ],
   "execution_count": 44,
   "outputs": [
    {
     "data": {
      "text/plain": "'sp500'"
     },
     "execution_count": 44,
     "metadata": {},
     "output_type": "execute_result"
    }
   ]
  },
  {
   "cell_type": "markdown",
   "metadata": {
    "id": "NCnRK6oMVCtg"
   },
   "source": [
    "**MINI CHALLENGE #7:**\n",
    "- **Given the following Pandas Series, convert all positive values to negative using python built-in functions**\n",
    "- **Obtain only unique values (ie: Remove duplicates) using python built-in functions**\n",
    "- **my_series = pd.Series(data = [-10, 100, -30, 50, 100])**\n"
   ]
  },
  {
   "cell_type": "code",
   "metadata": {
    "id": "DG-Tjp6PVEpW",
    "ExecuteTime": {
     "end_time": "2024-01-07T14:57:57.356587Z",
     "start_time": "2024-01-07T14:57:57.223335Z"
    }
   },
   "source": [
    "my_series = pd.Series(data = [-10, 100, -30, 50, 100])\n",
    "my_series"
   ],
   "execution_count": 45,
   "outputs": [
    {
     "data": {
      "text/plain": "0    -10\n1    100\n2    -30\n3     50\n4    100\ndtype: int64"
     },
     "execution_count": 45,
     "metadata": {},
     "output_type": "execute_result"
    }
   ]
  },
  {
   "cell_type": "code",
   "execution_count": 46,
   "outputs": [],
   "source": [
    "my_series = abs(my_series)\n"
   ],
   "metadata": {
    "collapsed": false,
    "ExecuteTime": {
     "end_time": "2024-01-07T14:57:57.465827Z",
     "start_time": "2024-01-07T14:57:57.353850Z"
    }
   }
  },
  {
   "cell_type": "code",
   "execution_count": 47,
   "outputs": [
    {
     "data": {
      "text/plain": "[10, 100, 50, 30]"
     },
     "execution_count": 47,
     "metadata": {},
     "output_type": "execute_result"
    }
   ],
   "source": [
    "list(set(my_series))"
   ],
   "metadata": {
    "collapsed": false,
    "ExecuteTime": {
     "end_time": "2024-01-07T14:57:57.538521Z",
     "start_time": "2024-01-07T14:57:57.454882Z"
    }
   }
  },
  {
   "cell_type": "markdown",
   "metadata": {
    "id": "LKDuJ94RvB85"
   },
   "source": [
    "# 8. SORTING PANDAS SERIES"
   ]
  },
  {
   "cell_type": "code",
   "metadata": {
    "id": "f-aRTmn9u7DA",
    "ExecuteTime": {
     "end_time": "2024-01-07T14:57:57.642372Z",
     "start_time": "2024-01-07T14:57:57.538056Z"
    }
   },
   "source": [
    "# Let's import CSV data as follows:\n",
    "sp500 = pd.read_csv('../datasets/S_P500_Prices.csv')"
   ],
   "execution_count": 48,
   "outputs": []
  },
  {
   "cell_type": "code",
   "metadata": {
    "id": "DaglhPNevFYC",
    "ExecuteTime": {
     "end_time": "2024-01-07T14:57:57.699303Z",
     "start_time": "2024-01-07T14:57:57.623486Z"
    }
   },
   "source": [
    "# You can sort the values in the dataframe as follows\n",
    "sp500.sort_values('sp500')"
   ],
   "execution_count": 49,
   "outputs": [
    {
     "data": {
      "text/plain": "            sp500\n97    1278.040039\n98    1278.180054\n99    1285.500000\n1     1289.089966\n2     1293.670044\n...           ...\n2038  3373.229980\n2034  3373.939941\n2033  3379.449951\n2035  3380.159912\n2037  3386.149902\n\n[2159 rows x 1 columns]",
      "text/html": "<div>\n<style scoped>\n    .dataframe tbody tr th:only-of-type {\n        vertical-align: middle;\n    }\n\n    .dataframe tbody tr th {\n        vertical-align: top;\n    }\n\n    .dataframe thead th {\n        text-align: right;\n    }\n</style>\n<table border=\"1\" class=\"dataframe\">\n  <thead>\n    <tr style=\"text-align: right;\">\n      <th></th>\n      <th>sp500</th>\n    </tr>\n  </thead>\n  <tbody>\n    <tr>\n      <th>97</th>\n      <td>1278.040039</td>\n    </tr>\n    <tr>\n      <th>98</th>\n      <td>1278.180054</td>\n    </tr>\n    <tr>\n      <th>99</th>\n      <td>1285.500000</td>\n    </tr>\n    <tr>\n      <th>1</th>\n      <td>1289.089966</td>\n    </tr>\n    <tr>\n      <th>2</th>\n      <td>1293.670044</td>\n    </tr>\n    <tr>\n      <th>...</th>\n      <td>...</td>\n    </tr>\n    <tr>\n      <th>2038</th>\n      <td>3373.229980</td>\n    </tr>\n    <tr>\n      <th>2034</th>\n      <td>3373.939941</td>\n    </tr>\n    <tr>\n      <th>2033</th>\n      <td>3379.449951</td>\n    </tr>\n    <tr>\n      <th>2035</th>\n      <td>3380.159912</td>\n    </tr>\n    <tr>\n      <th>2037</th>\n      <td>3386.149902</td>\n    </tr>\n  </tbody>\n</table>\n<p>2159 rows × 1 columns</p>\n</div>"
     },
     "execution_count": 49,
     "metadata": {},
     "output_type": "execute_result"
    }
   ]
  },
  {
   "cell_type": "code",
   "metadata": {
    "id": "AjzLtDlevFaW",
    "ExecuteTime": {
     "end_time": "2024-01-07T14:57:57.786422Z",
     "start_time": "2024-01-07T14:57:57.694659Z"
    }
   },
   "source": [
    "# Let's view Pandas Series again after sorting, Note that nothing changed in memory! you have to make sure that inplace is set to True\n",
    "sp500"
   ],
   "execution_count": 50,
   "outputs": [
    {
     "data": {
      "text/plain": "            sp500\n0     1295.500000\n1     1289.089966\n2     1293.670044\n3     1308.040039\n4     1314.500000\n...           ...\n2154  3327.770020\n2155  3349.159912\n2156  3351.280029\n2157  3360.469971\n2158  3333.689941\n\n[2159 rows x 1 columns]",
      "text/html": "<div>\n<style scoped>\n    .dataframe tbody tr th:only-of-type {\n        vertical-align: middle;\n    }\n\n    .dataframe tbody tr th {\n        vertical-align: top;\n    }\n\n    .dataframe thead th {\n        text-align: right;\n    }\n</style>\n<table border=\"1\" class=\"dataframe\">\n  <thead>\n    <tr style=\"text-align: right;\">\n      <th></th>\n      <th>sp500</th>\n    </tr>\n  </thead>\n  <tbody>\n    <tr>\n      <th>0</th>\n      <td>1295.500000</td>\n    </tr>\n    <tr>\n      <th>1</th>\n      <td>1289.089966</td>\n    </tr>\n    <tr>\n      <th>2</th>\n      <td>1293.670044</td>\n    </tr>\n    <tr>\n      <th>3</th>\n      <td>1308.040039</td>\n    </tr>\n    <tr>\n      <th>4</th>\n      <td>1314.500000</td>\n    </tr>\n    <tr>\n      <th>...</th>\n      <td>...</td>\n    </tr>\n    <tr>\n      <th>2154</th>\n      <td>3327.770020</td>\n    </tr>\n    <tr>\n      <th>2155</th>\n      <td>3349.159912</td>\n    </tr>\n    <tr>\n      <th>2156</th>\n      <td>3351.280029</td>\n    </tr>\n    <tr>\n      <th>2157</th>\n      <td>3360.469971</td>\n    </tr>\n    <tr>\n      <th>2158</th>\n      <td>3333.689941</td>\n    </tr>\n  </tbody>\n</table>\n<p>2159 rows × 1 columns</p>\n</div>"
     },
     "execution_count": 50,
     "metadata": {},
     "output_type": "execute_result"
    }
   ]
  },
  {
   "cell_type": "code",
   "metadata": {
    "id": "Pgt25eXmvFce",
    "ExecuteTime": {
     "end_time": "2024-01-07T14:57:57.890197Z",
     "start_time": "2024-01-07T14:57:57.779024Z"
    }
   },
   "source": [
    "# Set inplace = True to ensure that change has taken place in memory \n",
    "sp500.sort_values(by='sp500', inplace=True) # 정렬한상태로 저장"
   ],
   "execution_count": 51,
   "outputs": []
  },
  {
   "cell_type": "code",
   "metadata": {
    "id": "jEw2Gw_hu7Fo",
    "ExecuteTime": {
     "end_time": "2024-01-07T14:57:58.034288Z",
     "start_time": "2024-01-07T14:57:57.879832Z"
    }
   },
   "source": [
    "# Note that now the change (ordering) took place \n",
    "sp500"
   ],
   "execution_count": 52,
   "outputs": [
    {
     "data": {
      "text/plain": "            sp500\n97    1278.040039\n98    1278.180054\n99    1285.500000\n1     1289.089966\n2     1293.670044\n...           ...\n2038  3373.229980\n2034  3373.939941\n2033  3379.449951\n2035  3380.159912\n2037  3386.149902\n\n[2159 rows x 1 columns]",
      "text/html": "<div>\n<style scoped>\n    .dataframe tbody tr th:only-of-type {\n        vertical-align: middle;\n    }\n\n    .dataframe tbody tr th {\n        vertical-align: top;\n    }\n\n    .dataframe thead th {\n        text-align: right;\n    }\n</style>\n<table border=\"1\" class=\"dataframe\">\n  <thead>\n    <tr style=\"text-align: right;\">\n      <th></th>\n      <th>sp500</th>\n    </tr>\n  </thead>\n  <tbody>\n    <tr>\n      <th>97</th>\n      <td>1278.040039</td>\n    </tr>\n    <tr>\n      <th>98</th>\n      <td>1278.180054</td>\n    </tr>\n    <tr>\n      <th>99</th>\n      <td>1285.500000</td>\n    </tr>\n    <tr>\n      <th>1</th>\n      <td>1289.089966</td>\n    </tr>\n    <tr>\n      <th>2</th>\n      <td>1293.670044</td>\n    </tr>\n    <tr>\n      <th>...</th>\n      <td>...</td>\n    </tr>\n    <tr>\n      <th>2038</th>\n      <td>3373.229980</td>\n    </tr>\n    <tr>\n      <th>2034</th>\n      <td>3373.939941</td>\n    </tr>\n    <tr>\n      <th>2033</th>\n      <td>3379.449951</td>\n    </tr>\n    <tr>\n      <th>2035</th>\n      <td>3380.159912</td>\n    </tr>\n    <tr>\n      <th>2037</th>\n      <td>3386.149902</td>\n    </tr>\n  </tbody>\n</table>\n<p>2159 rows × 1 columns</p>\n</div>"
     },
     "execution_count": 52,
     "metadata": {},
     "output_type": "execute_result"
    }
   ]
  },
  {
   "cell_type": "code",
   "metadata": {
    "id": "6wi0QnU5iGk8",
    "ExecuteTime": {
     "end_time": "2024-01-07T14:57:58.143929Z",
     "start_time": "2024-01-07T14:57:58.032903Z"
    }
   },
   "source": [
    "# Notice that the indexes are now changed \n",
    "# You can also sort by index (revert back to the original Pandas Series) as follows: \n",
    "sp500.sort_index(inplace=True)\n",
    "sp500"
   ],
   "execution_count": 53,
   "outputs": [
    {
     "data": {
      "text/plain": "            sp500\n0     1295.500000\n1     1289.089966\n2     1293.670044\n3     1308.040039\n4     1314.500000\n...           ...\n2154  3327.770020\n2155  3349.159912\n2156  3351.280029\n2157  3360.469971\n2158  3333.689941\n\n[2159 rows x 1 columns]",
      "text/html": "<div>\n<style scoped>\n    .dataframe tbody tr th:only-of-type {\n        vertical-align: middle;\n    }\n\n    .dataframe tbody tr th {\n        vertical-align: top;\n    }\n\n    .dataframe thead th {\n        text-align: right;\n    }\n</style>\n<table border=\"1\" class=\"dataframe\">\n  <thead>\n    <tr style=\"text-align: right;\">\n      <th></th>\n      <th>sp500</th>\n    </tr>\n  </thead>\n  <tbody>\n    <tr>\n      <th>0</th>\n      <td>1295.500000</td>\n    </tr>\n    <tr>\n      <th>1</th>\n      <td>1289.089966</td>\n    </tr>\n    <tr>\n      <th>2</th>\n      <td>1293.670044</td>\n    </tr>\n    <tr>\n      <th>3</th>\n      <td>1308.040039</td>\n    </tr>\n    <tr>\n      <th>4</th>\n      <td>1314.500000</td>\n    </tr>\n    <tr>\n      <th>...</th>\n      <td>...</td>\n    </tr>\n    <tr>\n      <th>2154</th>\n      <td>3327.770020</td>\n    </tr>\n    <tr>\n      <th>2155</th>\n      <td>3349.159912</td>\n    </tr>\n    <tr>\n      <th>2156</th>\n      <td>3351.280029</td>\n    </tr>\n    <tr>\n      <th>2157</th>\n      <td>3360.469971</td>\n    </tr>\n    <tr>\n      <th>2158</th>\n      <td>3333.689941</td>\n    </tr>\n  </tbody>\n</table>\n<p>2159 rows × 1 columns</p>\n</div>"
     },
     "execution_count": 53,
     "metadata": {},
     "output_type": "execute_result"
    }
   ]
  },
  {
   "cell_type": "markdown",
   "metadata": {
    "id": "7bV_Yaq46ZTg"
   },
   "source": [
    "**MINI CHALLENGE #8:**\n",
    "- **Sort the S&P500 values in a decending order instead. Make sure to update values in-memory.**"
   ]
  },
  {
   "cell_type": "code",
   "metadata": {
    "id": "zw0acoYEkDJB",
    "ExecuteTime": {
     "end_time": "2024-01-07T14:57:58.294571Z",
     "start_time": "2024-01-07T14:57:58.131636Z"
    }
   },
   "source": [
    "sp500.sort_values('sp500',ascending=False,inplace=True)\n",
    "sp500\n"
   ],
   "execution_count": 54,
   "outputs": [
    {
     "data": {
      "text/plain": "            sp500\n2037  3386.149902\n2035  3380.159912\n2033  3379.449951\n2034  3373.939941\n2038  3373.229980\n...           ...\n2     1293.670044\n1     1289.089966\n99    1285.500000\n98    1278.180054\n97    1278.040039\n\n[2159 rows x 1 columns]",
      "text/html": "<div>\n<style scoped>\n    .dataframe tbody tr th:only-of-type {\n        vertical-align: middle;\n    }\n\n    .dataframe tbody tr th {\n        vertical-align: top;\n    }\n\n    .dataframe thead th {\n        text-align: right;\n    }\n</style>\n<table border=\"1\" class=\"dataframe\">\n  <thead>\n    <tr style=\"text-align: right;\">\n      <th></th>\n      <th>sp500</th>\n    </tr>\n  </thead>\n  <tbody>\n    <tr>\n      <th>2037</th>\n      <td>3386.149902</td>\n    </tr>\n    <tr>\n      <th>2035</th>\n      <td>3380.159912</td>\n    </tr>\n    <tr>\n      <th>2033</th>\n      <td>3379.449951</td>\n    </tr>\n    <tr>\n      <th>2034</th>\n      <td>3373.939941</td>\n    </tr>\n    <tr>\n      <th>2038</th>\n      <td>3373.229980</td>\n    </tr>\n    <tr>\n      <th>...</th>\n      <td>...</td>\n    </tr>\n    <tr>\n      <th>2</th>\n      <td>1293.670044</td>\n    </tr>\n    <tr>\n      <th>1</th>\n      <td>1289.089966</td>\n    </tr>\n    <tr>\n      <th>99</th>\n      <td>1285.500000</td>\n    </tr>\n    <tr>\n      <th>98</th>\n      <td>1278.180054</td>\n    </tr>\n    <tr>\n      <th>97</th>\n      <td>1278.040039</td>\n    </tr>\n  </tbody>\n</table>\n<p>2159 rows × 1 columns</p>\n</div>"
     },
     "execution_count": 54,
     "metadata": {},
     "output_type": "execute_result"
    }
   ]
  },
  {
   "cell_type": "markdown",
   "metadata": {
    "id": "1QT7bBFCkDhh"
   },
   "source": [
    "# 9. PERFORM MATH OPERATIONS ON PANDAS SERIES"
   ]
  },
  {
   "cell_type": "code",
   "metadata": {
    "id": "UXFGCV4SkI4O",
    "ExecuteTime": {
     "end_time": "2024-01-07T14:57:58.456391Z",
     "start_time": "2024-01-07T14:57:58.273393Z"
    }
   },
   "source": [
    "# Let's import CSV data as follows:\n",
    "sp500 = pd.read_csv('../datasets/S_P500_Prices.csv')"
   ],
   "execution_count": 55,
   "outputs": []
  },
  {
   "cell_type": "code",
   "metadata": {
    "id": "Qpo7M9yYkJPQ",
    "ExecuteTime": {
     "end_time": "2024-01-07T14:57:58.680636Z",
     "start_time": "2024-01-07T14:57:58.426478Z"
    }
   },
   "source": [
    "# Apply Sum Method on Pandas Series\n",
    "sp500.sum()\n"
   ],
   "execution_count": 56,
   "outputs": [
    {
     "data": {
      "text/plain": "sp500    4.790280e+06\ndtype: float64"
     },
     "execution_count": 56,
     "metadata": {},
     "output_type": "execute_result"
    }
   ]
  },
  {
   "cell_type": "code",
   "metadata": {
    "id": "FTSaQpjokJSM",
    "ExecuteTime": {
     "end_time": "2024-01-07T14:57:58.803895Z",
     "start_time": "2024-01-07T14:57:58.687456Z"
    }
   },
   "source": [
    "# Apply count Method on Pandas Series\n",
    "sp500.count()"
   ],
   "execution_count": 57,
   "outputs": [
    {
     "data": {
      "text/plain": "sp500    2159\ndtype: int64"
     },
     "execution_count": 57,
     "metadata": {},
     "output_type": "execute_result"
    }
   ]
  },
  {
   "cell_type": "code",
   "metadata": {
    "id": "I8vVnB_5kj7C",
    "ExecuteTime": {
     "end_time": "2024-01-07T14:57:58.995682Z",
     "start_time": "2024-01-07T14:57:58.785506Z"
    }
   },
   "source": [
    "# Obtain the maximum value\n",
    "sp500.max()"
   ],
   "execution_count": 58,
   "outputs": [
    {
     "data": {
      "text/plain": "sp500    3386.149902\ndtype: float64"
     },
     "execution_count": 58,
     "metadata": {},
     "output_type": "execute_result"
    }
   ]
  },
  {
   "cell_type": "code",
   "metadata": {
    "id": "u3-XBu-vko2y",
    "ExecuteTime": {
     "end_time": "2024-01-07T14:57:59.088194Z",
     "start_time": "2024-01-07T14:57:58.990736Z"
    }
   },
   "source": [
    "# Obtain the minimum value\n",
    "sp500.min()"
   ],
   "execution_count": 59,
   "outputs": [
    {
     "data": {
      "text/plain": "sp500    1278.040039\ndtype: float64"
     },
     "execution_count": 59,
     "metadata": {},
     "output_type": "execute_result"
    }
   ]
  },
  {
   "cell_type": "code",
   "metadata": {
    "id": "jfaK3BsckvAK",
    "ExecuteTime": {
     "end_time": "2024-01-07T14:57:59.195304Z",
     "start_time": "2024-01-07T14:57:59.058737Z"
    }
   },
   "source": [
    "# My favourite: Describe! \n",
    "# Describe is used to obtain all statistical information in one place \n",
    "sp500.describe()"
   ],
   "execution_count": 60,
   "outputs": [
    {
     "data": {
      "text/plain": "             sp500\ncount  2159.000000\nmean   2218.749554\nstd     537.321727\nmin    1278.040039\n25%    1847.984985\n50%    2106.629883\n75%    2705.810059\nmax    3386.149902",
      "text/html": "<div>\n<style scoped>\n    .dataframe tbody tr th:only-of-type {\n        vertical-align: middle;\n    }\n\n    .dataframe tbody tr th {\n        vertical-align: top;\n    }\n\n    .dataframe thead th {\n        text-align: right;\n    }\n</style>\n<table border=\"1\" class=\"dataframe\">\n  <thead>\n    <tr style=\"text-align: right;\">\n      <th></th>\n      <th>sp500</th>\n    </tr>\n  </thead>\n  <tbody>\n    <tr>\n      <th>count</th>\n      <td>2159.000000</td>\n    </tr>\n    <tr>\n      <th>mean</th>\n      <td>2218.749554</td>\n    </tr>\n    <tr>\n      <th>std</th>\n      <td>537.321727</td>\n    </tr>\n    <tr>\n      <th>min</th>\n      <td>1278.040039</td>\n    </tr>\n    <tr>\n      <th>25%</th>\n      <td>1847.984985</td>\n    </tr>\n    <tr>\n      <th>50%</th>\n      <td>2106.629883</td>\n    </tr>\n    <tr>\n      <th>75%</th>\n      <td>2705.810059</td>\n    </tr>\n    <tr>\n      <th>max</th>\n      <td>3386.149902</td>\n    </tr>\n  </tbody>\n</table>\n</div>"
     },
     "execution_count": 60,
     "metadata": {},
     "output_type": "execute_result"
    }
   ]
  },
  {
   "cell_type": "markdown",
   "metadata": {
    "id": "wfpnZiwxk1cb"
   },
   "source": [
    "**MINI CHALLENGE #9:**\n",
    "- **Obtain the average price of the S&P500 using two different methods**"
   ]
  },
  {
   "cell_type": "code",
   "metadata": {
    "id": "MFL9i8NWlIH5",
    "ExecuteTime": {
     "end_time": "2024-01-07T14:57:59.252733Z",
     "start_time": "2024-01-07T14:57:59.181184Z"
    }
   },
   "source": [
    "sp500.mean()"
   ],
   "execution_count": 61,
   "outputs": [
    {
     "data": {
      "text/plain": "sp500    2218.749554\ndtype: float64"
     },
     "execution_count": 61,
     "metadata": {},
     "output_type": "execute_result"
    }
   ]
  },
  {
   "cell_type": "code",
   "execution_count": 62,
   "outputs": [
    {
     "data": {
      "text/plain": "sp500    2218.749554\ndtype: float64"
     },
     "execution_count": 62,
     "metadata": {},
     "output_type": "execute_result"
    }
   ],
   "source": [
    "sp500.sum()/sp500.count()"
   ],
   "metadata": {
    "collapsed": false,
    "ExecuteTime": {
     "end_time": "2024-01-07T14:57:59.403877Z",
     "start_time": "2024-01-07T14:57:59.255957Z"
    }
   }
  },
  {
   "cell_type": "markdown",
   "metadata": {
    "id": "Yi8uUb_eiqxo"
   },
   "source": [
    "# 10. CHECK IF A GIVEN ELEMENT EXISTS IN A PANDAS SERIES"
   ]
  },
  {
   "cell_type": "code",
   "metadata": {
    "id": "nEQ94a2RiuiR",
    "ExecuteTime": {
     "end_time": "2024-01-07T14:57:59.497458Z",
     "start_time": "2024-01-07T14:57:59.380225Z"
    }
   },
   "source": [
    "# Let's import CSV data as follows:\n",
    "sp500 = pd.read_csv('../datasets/S_P500_Prices.csv')"
   ],
   "execution_count": 63,
   "outputs": []
  },
  {
   "cell_type": "code",
   "metadata": {
    "id": "x0T4h0CWi-p7",
    "ExecuteTime": {
     "end_time": "2024-01-07T14:57:59.783911Z",
     "start_time": "2024-01-07T14:57:59.485554Z"
    }
   },
   "source": [
    "# Check if a given number exists in a Pandas Series values\n",
    "# Returns a boolean \"True\" or \"False\"\n",
    "1295.500000 in sp500.values"
   ],
   "execution_count": 64,
   "outputs": [
    {
     "data": {
      "text/plain": "True"
     },
     "execution_count": 64,
     "metadata": {},
     "output_type": "execute_result"
    }
   ]
  },
  {
   "cell_type": "code",
   "metadata": {
    "id": "xa7GXwbhi-sh",
    "ExecuteTime": {
     "end_time": "2024-01-07T14:57:59.867909Z",
     "start_time": "2024-01-07T14:57:59.775353Z"
    }
   },
   "source": [
    "# Check if a given number exists in a Pandas Series index\n",
    "1295.500000 in sp500.index"
   ],
   "execution_count": 65,
   "outputs": [
    {
     "data": {
      "text/plain": "False"
     },
     "execution_count": 65,
     "metadata": {},
     "output_type": "execute_result"
    }
   ]
  },
  {
   "cell_type": "code",
   "metadata": {
    "id": "GyN5iG1ki-vC",
    "ExecuteTime": {
     "end_time": "2024-01-07T14:58:00.011735Z",
     "start_time": "2024-01-07T14:57:59.854238Z"
    }
   },
   "source": [
    "# Note that by default 'in' will search in Pandas index and not values\n",
    "1295.500000 in sp500 # default는 index"
   ],
   "execution_count": 66,
   "outputs": [
    {
     "data": {
      "text/plain": "False"
     },
     "execution_count": 66,
     "metadata": {},
     "output_type": "execute_result"
    }
   ]
  },
  {
   "cell_type": "markdown",
   "metadata": {
    "id": "DjNoVv5vb9ij"
   },
   "source": [
    "**MINI CHALLENGE #10:**\n",
    "- **Check if the stock price 3349 exists in the sp500 Pandas Series or not**\n",
    "- **Round stock prices to the nearest integer and check again**"
   ]
  },
  {
   "cell_type": "code",
   "metadata": {
    "id": "3BYcu1gpb_Vo",
    "ExecuteTime": {
     "end_time": "2024-01-07T14:58:00.052511Z",
     "start_time": "2024-01-07T14:58:00.008454Z"
    }
   },
   "source": [
    "3349 in sp500.values"
   ],
   "execution_count": 67,
   "outputs": [
    {
     "data": {
      "text/plain": "False"
     },
     "execution_count": 67,
     "metadata": {},
     "output_type": "execute_result"
    }
   ]
  },
  {
   "cell_type": "code",
   "execution_count": 68,
   "outputs": [
    {
     "data": {
      "text/plain": "       sp500\n0     1296.0\n1     1289.0\n2     1294.0\n3     1308.0\n4     1314.0\n...      ...\n2154  3328.0\n2155  3349.0\n2156  3351.0\n2157  3360.0\n2158  3334.0\n\n[2159 rows x 1 columns]",
      "text/html": "<div>\n<style scoped>\n    .dataframe tbody tr th:only-of-type {\n        vertical-align: middle;\n    }\n\n    .dataframe tbody tr th {\n        vertical-align: top;\n    }\n\n    .dataframe thead th {\n        text-align: right;\n    }\n</style>\n<table border=\"1\" class=\"dataframe\">\n  <thead>\n    <tr style=\"text-align: right;\">\n      <th></th>\n      <th>sp500</th>\n    </tr>\n  </thead>\n  <tbody>\n    <tr>\n      <th>0</th>\n      <td>1296.0</td>\n    </tr>\n    <tr>\n      <th>1</th>\n      <td>1289.0</td>\n    </tr>\n    <tr>\n      <th>2</th>\n      <td>1294.0</td>\n    </tr>\n    <tr>\n      <th>3</th>\n      <td>1308.0</td>\n    </tr>\n    <tr>\n      <th>4</th>\n      <td>1314.0</td>\n    </tr>\n    <tr>\n      <th>...</th>\n      <td>...</td>\n    </tr>\n    <tr>\n      <th>2154</th>\n      <td>3328.0</td>\n    </tr>\n    <tr>\n      <th>2155</th>\n      <td>3349.0</td>\n    </tr>\n    <tr>\n      <th>2156</th>\n      <td>3351.0</td>\n    </tr>\n    <tr>\n      <th>2157</th>\n      <td>3360.0</td>\n    </tr>\n    <tr>\n      <th>2158</th>\n      <td>3334.0</td>\n    </tr>\n  </tbody>\n</table>\n<p>2159 rows × 1 columns</p>\n</div>"
     },
     "execution_count": 68,
     "metadata": {},
     "output_type": "execute_result"
    }
   ],
   "source": [
    "# 값들을 반올림하고 다시 측정\n",
    "\n",
    "sp500 = (round(sp500))\n",
    "sp500"
   ],
   "metadata": {
    "collapsed": false,
    "ExecuteTime": {
     "end_time": "2024-01-07T14:58:00.178926Z",
     "start_time": "2024-01-07T14:58:00.045096Z"
    }
   }
  },
  {
   "cell_type": "code",
   "execution_count": 69,
   "outputs": [
    {
     "data": {
      "text/plain": "True"
     },
     "execution_count": 69,
     "metadata": {},
     "output_type": "execute_result"
    }
   ],
   "source": [
    "3349 in sp500.values"
   ],
   "metadata": {
    "collapsed": false,
    "ExecuteTime": {
     "end_time": "2024-01-07T14:58:00.241903Z",
     "start_time": "2024-01-07T14:58:00.170539Z"
    }
   }
  },
  {
   "cell_type": "markdown",
   "metadata": {
    "id": "Vrv6ZboqmGmx"
   },
   "source": [
    "# 11. INDEXING: OBTAIN SPECIFIC ELEMENTS FROM PANDAS SERIES"
   ]
  },
  {
   "cell_type": "code",
   "metadata": {
    "id": "XlMcpqkbjMI1",
    "ExecuteTime": {
     "end_time": "2024-01-07T14:58:00.372749Z",
     "start_time": "2024-01-07T14:58:00.239307Z"
    }
   },
   "source": [
    "# Let's import CSV data as follows:\n",
    "sp500 = pd.read_csv('../datasets/S_P500_Prices.csv')\n",
    "sp500"
   ],
   "execution_count": 70,
   "outputs": [
    {
     "data": {
      "text/plain": "            sp500\n0     1295.500000\n1     1289.089966\n2     1293.670044\n3     1308.040039\n4     1314.500000\n...           ...\n2154  3327.770020\n2155  3349.159912\n2156  3351.280029\n2157  3360.469971\n2158  3333.689941\n\n[2159 rows x 1 columns]",
      "text/html": "<div>\n<style scoped>\n    .dataframe tbody tr th:only-of-type {\n        vertical-align: middle;\n    }\n\n    .dataframe tbody tr th {\n        vertical-align: top;\n    }\n\n    .dataframe thead th {\n        text-align: right;\n    }\n</style>\n<table border=\"1\" class=\"dataframe\">\n  <thead>\n    <tr style=\"text-align: right;\">\n      <th></th>\n      <th>sp500</th>\n    </tr>\n  </thead>\n  <tbody>\n    <tr>\n      <th>0</th>\n      <td>1295.500000</td>\n    </tr>\n    <tr>\n      <th>1</th>\n      <td>1289.089966</td>\n    </tr>\n    <tr>\n      <th>2</th>\n      <td>1293.670044</td>\n    </tr>\n    <tr>\n      <th>3</th>\n      <td>1308.040039</td>\n    </tr>\n    <tr>\n      <th>4</th>\n      <td>1314.500000</td>\n    </tr>\n    <tr>\n      <th>...</th>\n      <td>...</td>\n    </tr>\n    <tr>\n      <th>2154</th>\n      <td>3327.770020</td>\n    </tr>\n    <tr>\n      <th>2155</th>\n      <td>3349.159912</td>\n    </tr>\n    <tr>\n      <th>2156</th>\n      <td>3351.280029</td>\n    </tr>\n    <tr>\n      <th>2157</th>\n      <td>3360.469971</td>\n    </tr>\n    <tr>\n      <th>2158</th>\n      <td>3333.689941</td>\n    </tr>\n  </tbody>\n</table>\n<p>2159 rows × 1 columns</p>\n</div>"
     },
     "execution_count": 70,
     "metadata": {},
     "output_type": "execute_result"
    }
   ]
  },
  {
   "cell_type": "code",
   "metadata": {
    "id": "5O_wKHmmmY2E",
    "ExecuteTime": {
     "end_time": "2024-01-07T14:58:00.480441Z",
     "start_time": "2024-01-07T14:58:00.316969Z"
    }
   },
   "source": [
    "# Obtain the first element in a Pandas Series\n",
    "# Note that first element has an index 0\n",
    "sp500['sp500'][0]"
   ],
   "execution_count": 71,
   "outputs": [
    {
     "data": {
      "text/plain": "1295.5"
     },
     "execution_count": 71,
     "metadata": {},
     "output_type": "execute_result"
    }
   ]
  },
  {
   "cell_type": "code",
   "metadata": {
    "id": "7wsOMwrvnHdJ",
    "ExecuteTime": {
     "end_time": "2024-01-07T14:58:00.641899Z",
     "start_time": "2024-01-07T14:58:00.475504Z"
    }
   },
   "source": [
    "# Obtain the last element in the Pandas Series\n",
    "sp500['sp500'][2158]"
   ],
   "execution_count": 72,
   "outputs": [
    {
     "data": {
      "text/plain": "3333.689941"
     },
     "execution_count": 72,
     "metadata": {},
     "output_type": "execute_result"
    }
   ]
  },
  {
   "cell_type": "markdown",
   "metadata": {
    "id": "mIsxBKz0cUZz"
   },
   "source": [
    "**MINI CHALLENGE #11:**\n",
    "- **Obtain the fifth element in the Pandas Series**"
   ]
  },
  {
   "cell_type": "code",
   "metadata": {
    "id": "hPzW6L__crcc",
    "ExecuteTime": {
     "end_time": "2024-01-07T14:58:00.737082Z",
     "start_time": "2024-01-07T14:58:00.624963Z"
    }
   },
   "source": [
    "sp500['sp500'][5]"
   ],
   "execution_count": 73,
   "outputs": [
    {
     "data": {
      "text/plain": "1315.380005"
     },
     "execution_count": 73,
     "metadata": {},
     "output_type": "execute_result"
    }
   ]
  },
  {
   "cell_type": "markdown",
   "metadata": {
    "id": "FqV5utBLnQuk"
   },
   "source": [
    "# 12. SLICING: OBTAIN MULTIPLE ELEMENTS FROM PANDAS SERIES"
   ]
  },
  {
   "cell_type": "code",
   "metadata": {
    "id": "FnZ_HXFcnY5-",
    "ExecuteTime": {
     "end_time": "2024-01-07T14:58:00.913653Z",
     "start_time": "2024-01-07T14:58:00.714386Z"
    }
   },
   "source": [
    "# Let's import CSV data as follows:\n",
    "sp500 = pd.read_csv('../datasets/S_P500_Prices.csv')\n",
    "sp500"
   ],
   "execution_count": 74,
   "outputs": [
    {
     "data": {
      "text/plain": "            sp500\n0     1295.500000\n1     1289.089966\n2     1293.670044\n3     1308.040039\n4     1314.500000\n...           ...\n2154  3327.770020\n2155  3349.159912\n2156  3351.280029\n2157  3360.469971\n2158  3333.689941\n\n[2159 rows x 1 columns]",
      "text/html": "<div>\n<style scoped>\n    .dataframe tbody tr th:only-of-type {\n        vertical-align: middle;\n    }\n\n    .dataframe tbody tr th {\n        vertical-align: top;\n    }\n\n    .dataframe thead th {\n        text-align: right;\n    }\n</style>\n<table border=\"1\" class=\"dataframe\">\n  <thead>\n    <tr style=\"text-align: right;\">\n      <th></th>\n      <th>sp500</th>\n    </tr>\n  </thead>\n  <tbody>\n    <tr>\n      <th>0</th>\n      <td>1295.500000</td>\n    </tr>\n    <tr>\n      <th>1</th>\n      <td>1289.089966</td>\n    </tr>\n    <tr>\n      <th>2</th>\n      <td>1293.670044</td>\n    </tr>\n    <tr>\n      <th>3</th>\n      <td>1308.040039</td>\n    </tr>\n    <tr>\n      <th>4</th>\n      <td>1314.500000</td>\n    </tr>\n    <tr>\n      <th>...</th>\n      <td>...</td>\n    </tr>\n    <tr>\n      <th>2154</th>\n      <td>3327.770020</td>\n    </tr>\n    <tr>\n      <th>2155</th>\n      <td>3349.159912</td>\n    </tr>\n    <tr>\n      <th>2156</th>\n      <td>3351.280029</td>\n    </tr>\n    <tr>\n      <th>2157</th>\n      <td>3360.469971</td>\n    </tr>\n    <tr>\n      <th>2158</th>\n      <td>3333.689941</td>\n    </tr>\n  </tbody>\n</table>\n<p>2159 rows × 1 columns</p>\n</div>"
     },
     "execution_count": 74,
     "metadata": {},
     "output_type": "execute_result"
    }
   ]
  },
  {
   "cell_type": "code",
   "metadata": {
    "id": "QVdRqhsbmY6X",
    "ExecuteTime": {
     "end_time": "2024-01-07T14:58:00.998445Z",
     "start_time": "2024-01-07T14:58:00.917513Z"
    }
   },
   "source": [
    "# Slice elements from a Pandas Series\n",
    "# Let's obtain elements starting from index 0 up until and not including index 5 (ie: indexes 0-4)\n",
    "sp500['sp500'][0:5]"
   ],
   "execution_count": 75,
   "outputs": [
    {
     "data": {
      "text/plain": "0    1295.500000\n1    1289.089966\n2    1293.670044\n3    1308.040039\n4    1314.500000\nName: sp500, dtype: float64"
     },
     "execution_count": 75,
     "metadata": {},
     "output_type": "execute_result"
    }
   ]
  },
  {
   "cell_type": "code",
   "metadata": {
    "id": "YtZ4bhPKmY8S",
    "ExecuteTime": {
     "end_time": "2024-01-07T14:58:01.138396Z",
     "start_time": "2024-01-07T14:58:00.991084Z"
    }
   },
   "source": [
    "# obtain all elements starting from index 0 up until and not including index 10\n",
    "sp500['sp500'][:10]"
   ],
   "execution_count": 76,
   "outputs": [
    {
     "data": {
      "text/plain": "0    1295.500000\n1    1289.089966\n2    1293.670044\n3    1308.040039\n4    1314.500000\n5    1315.380005\n6    1316.000000\n7    1314.650024\n8    1326.060059\n9    1318.430054\nName: sp500, dtype: float64"
     },
     "execution_count": 76,
     "metadata": {},
     "output_type": "execute_result"
    }
   ]
  },
  {
   "cell_type": "code",
   "metadata": {
    "id": "tShJSc6Bmv6d",
    "ExecuteTime": {
     "end_time": "2024-01-07T14:58:01.249691Z",
     "start_time": "2024-01-07T14:58:01.135867Z"
    }
   },
   "source": [
    "# obtain all elements starting from index 5 up until the end of the Pandas Series\n",
    "sp500[5:]"
   ],
   "execution_count": 77,
   "outputs": [
    {
     "data": {
      "text/plain": "            sp500\n5     1315.380005\n6     1316.000000\n7     1314.650024\n8     1326.060059\n9     1318.430054\n...           ...\n2154  3327.770020\n2155  3349.159912\n2156  3351.280029\n2157  3360.469971\n2158  3333.689941\n\n[2154 rows x 1 columns]",
      "text/html": "<div>\n<style scoped>\n    .dataframe tbody tr th:only-of-type {\n        vertical-align: middle;\n    }\n\n    .dataframe tbody tr th {\n        vertical-align: top;\n    }\n\n    .dataframe thead th {\n        text-align: right;\n    }\n</style>\n<table border=\"1\" class=\"dataframe\">\n  <thead>\n    <tr style=\"text-align: right;\">\n      <th></th>\n      <th>sp500</th>\n    </tr>\n  </thead>\n  <tbody>\n    <tr>\n      <th>5</th>\n      <td>1315.380005</td>\n    </tr>\n    <tr>\n      <th>6</th>\n      <td>1316.000000</td>\n    </tr>\n    <tr>\n      <th>7</th>\n      <td>1314.650024</td>\n    </tr>\n    <tr>\n      <th>8</th>\n      <td>1326.060059</td>\n    </tr>\n    <tr>\n      <th>9</th>\n      <td>1318.430054</td>\n    </tr>\n    <tr>\n      <th>...</th>\n      <td>...</td>\n    </tr>\n    <tr>\n      <th>2154</th>\n      <td>3327.770020</td>\n    </tr>\n    <tr>\n      <th>2155</th>\n      <td>3349.159912</td>\n    </tr>\n    <tr>\n      <th>2156</th>\n      <td>3351.280029</td>\n    </tr>\n    <tr>\n      <th>2157</th>\n      <td>3360.469971</td>\n    </tr>\n    <tr>\n      <th>2158</th>\n      <td>3333.689941</td>\n    </tr>\n  </tbody>\n</table>\n<p>2154 rows × 1 columns</p>\n</div>"
     },
     "execution_count": 77,
     "metadata": {},
     "output_type": "execute_result"
    }
   ]
  },
  {
   "cell_type": "markdown",
   "metadata": {
    "id": "BOIQH-R7dSDy"
   },
   "source": [
    "**MINI CHALLENGE #12:**\n",
    "- **Obtain all elements in Pandas Series except for the last 3 elements**"
   ]
  },
  {
   "cell_type": "code",
   "execution_count": 78,
   "outputs": [
    {
     "data": {
      "text/plain": "0       1295.500000\n1       1289.089966\n2       1293.670044\n3       1308.040039\n4       1314.500000\n           ...     \n2151    3271.120117\n2152    3294.610107\n2153    3306.510010\n2154    3327.770020\n2155    3349.159912\nName: sp500, Length: 2156, dtype: float64"
     },
     "execution_count": 78,
     "metadata": {},
     "output_type": "execute_result"
    }
   ],
   "source": [
    "sp500['sp500'][:-3]"
   ],
   "metadata": {
    "collapsed": false,
    "ExecuteTime": {
     "end_time": "2024-01-07T14:58:01.425230Z",
     "start_time": "2024-01-07T14:58:01.235007Z"
    }
   }
  },
  {
   "cell_type": "markdown",
   "metadata": {
    "id": "i1gJS3K7vlxd"
   },
   "source": [
    "# EXCELLENT JOB!"
   ]
  },
  {
   "cell_type": "markdown",
   "metadata": {
    "id": "MF2SdJZ_vn4z"
   },
   "source": [
    "# MINI CHALLENGE SOLUTIONS"
   ]
  },
  {
   "cell_type": "markdown",
   "metadata": {
    "id": "08v_y7IaJrvt"
   },
   "source": [
    "**MINI CHALLENGE #1 SOLUTION:**\n",
    "- **Define a Pandas Series named \"my_series\" that contains your top 3 favourite movies. Confirm the datatype of \"my_series\"**"
   ]
  },
  {
   "cell_type": "code",
   "metadata": {
    "id": "syn8_3JiJrvt",
    "ExecuteTime": {
     "end_time": "2024-01-07T14:58:01.591466Z",
     "start_time": "2024-01-07T14:58:01.423046Z"
    }
   },
   "source": [
    "# Let's define a Python list that contains 3 top movies\n",
    "my_list = ['The Godfather', 'Star Wars', 'The Wolf of Wall Street']\n",
    "my_series = pd.Series(data=my_list)\n",
    "my_series"
   ],
   "execution_count": 79,
   "outputs": [
    {
     "data": {
      "text/plain": "0              The Godfather\n1                  Star Wars\n2    The Wolf of Wall Street\ndtype: object"
     },
     "execution_count": 79,
     "metadata": {},
     "output_type": "execute_result"
    }
   ]
  },
  {
   "cell_type": "code",
   "metadata": {
    "id": "12MuwJ5eJrvu",
    "ExecuteTime": {
     "end_time": "2024-01-07T14:58:01.666653Z",
     "start_time": "2024-01-07T14:58:01.525511Z"
    }
   },
   "source": [
    "type(my_series)"
   ],
   "execution_count": 80,
   "outputs": [
    {
     "data": {
      "text/plain": "pandas.core.series.Series"
     },
     "execution_count": 80,
     "metadata": {},
     "output_type": "execute_result"
    }
   ]
  },
  {
   "cell_type": "markdown",
   "metadata": {
    "id": "1x6d0qzMKg-A"
   },
   "source": [
    "**MINI CHALLENGE #2 SOLUTION:**\n",
    "- **Define a Pandas Series named \"my_series\" that contains your top 3 favourite movies. Instead of using default numeric indexes (similar to mini challenge #1), use the following indexes \"movie #1\", \"Movie #2\", and \"movie #3\"**"
   ]
  },
  {
   "cell_type": "code",
   "metadata": {
    "id": "ddjSNsHBK-ll",
    "ExecuteTime": {
     "end_time": "2024-01-07T14:58:01.795747Z",
     "start_time": "2024-01-07T14:58:01.670523Z"
    }
   },
   "source": [
    "# Let's define a Python list that contains 3 movies as follows\n",
    "my_list = ['The Godfather', 'Star Wars', 'The Wolf of Wall Street']\n",
    "\n",
    "# Let's define a python list as shown below. This python list will be used for the Series index:\n",
    "my_labels = ['movie #1', 'movie #2', 'movie #3']\n"
   ],
   "execution_count": 81,
   "outputs": []
  },
  {
   "cell_type": "code",
   "metadata": {
    "id": "4iNEgSEtK8kl",
    "ExecuteTime": {
     "end_time": "2024-01-07T14:58:01.830450Z",
     "start_time": "2024-01-07T14:58:01.784380Z"
    }
   },
   "source": [
    "# Let's create a one dimensional Pandas \"series\" \n",
    "# Let's use Pandas Constructor Method to create a series from a Python list\n",
    "# Note that this series is formed of data and associated labels \n",
    "my_series = pd.Series(data=my_list, index=my_labels)\n",
    "my_series"
   ],
   "execution_count": 82,
   "outputs": [
    {
     "data": {
      "text/plain": "movie #1              The Godfather\nmovie #2                  Star Wars\nmovie #3    The Wolf of Wall Street\ndtype: object"
     },
     "execution_count": 82,
     "metadata": {},
     "output_type": "execute_result"
    }
   ]
  },
  {
   "cell_type": "markdown",
   "metadata": {
    "id": "r6btEnxmMy_G"
   },
   "source": [
    "**MINI CHALLENGE #3 SOLUTION:**\n",
    "- **Create a Pandas Series from a dictionary with 3 of your favourite stocks and their corresponding prices** \n"
   ]
  },
  {
   "cell_type": "code",
   "metadata": {
    "id": "PzkBjyLHM7Do",
    "ExecuteTime": {
     "end_time": "2024-01-07T14:58:01.920734Z",
     "start_time": "2024-01-07T14:58:01.822319Z"
    }
   },
   "source": [
    "stocks = {'SP500': 3000,\n",
    "          'AAPL': 400,\n",
    "          'TSLA': 2200}\n",
    "print(stocks)"
   ],
   "execution_count": 83,
   "outputs": [
    {
     "name": "stdout",
     "output_type": "stream",
     "text": [
      "{'SP500': 3000, 'AAPL': 400, 'TSLA': 2200}\n"
     ]
    }
   ]
  },
  {
   "cell_type": "code",
   "metadata": {
    "id": "QeDCPO9hNAKj",
    "ExecuteTime": {
     "end_time": "2024-01-07T14:58:01.973070Z",
     "start_time": "2024-01-07T14:58:01.915902Z"
    }
   },
   "source": [
    "# Let's define a Pandas Series Using the dictionary\n",
    "my_series = pd.Series(stocks)\n",
    "my_series"
   ],
   "execution_count": 84,
   "outputs": [
    {
     "data": {
      "text/plain": "SP500    3000\nAAPL      400\nTSLA     2200\ndtype: int64"
     },
     "execution_count": 84,
     "metadata": {},
     "output_type": "execute_result"
    }
   ]
  },
  {
   "cell_type": "markdown",
   "metadata": {
    "id": "lB8OYAVJXRYe"
   },
   "source": [
    "**MINI CHALLENGE #4 SOLUTION:** \n",
    "- **What is the size of the Pandas Series? (External Research is Required)**"
   ]
  },
  {
   "cell_type": "code",
   "metadata": {
    "id": "D5D0wFlmXRYf",
    "ExecuteTime": {
     "end_time": "2024-01-07T14:58:02.085098Z",
     "start_time": "2024-01-07T14:58:01.972630Z"
    }
   },
   "source": [
    "# size is used to return the size of the series\n",
    "series_3.size"
   ],
   "execution_count": 85,
   "outputs": [
    {
     "data": {
      "text/plain": "5"
     },
     "execution_count": 85,
     "metadata": {},
     "output_type": "execute_result"
    }
   ]
  },
  {
   "cell_type": "markdown",
   "metadata": {
    "id": "5D7QSEf7Y8aa"
   },
   "source": [
    "**MINI CHALLENGE #5 SOLUTION:** \n",
    "- **Show the last 2 rows in the Pandas Series (External Research is Required)** \n",
    "- **How many bytes does this Pandas Series consume in memory? (External Research is Required)**"
   ]
  },
  {
   "cell_type": "code",
   "metadata": {
    "id": "FsSGV7I3Y_ja",
    "ExecuteTime": {
     "end_time": "2024-01-07T14:58:02.151411Z",
     "start_time": "2024-01-07T14:58:02.074556Z"
    }
   },
   "source": [
    "my_series.tail(2)"
   ],
   "execution_count": 86,
   "outputs": [
    {
     "data": {
      "text/plain": "AAPL     400\nTSLA    2200\ndtype: int64"
     },
     "execution_count": 86,
     "metadata": {},
     "output_type": "execute_result"
    }
   ]
  },
  {
   "cell_type": "code",
   "metadata": {
    "id": "s8g0WhX6Y8aa",
    "ExecuteTime": {
     "end_time": "2024-01-07T14:58:02.278816Z",
     "start_time": "2024-01-07T14:58:02.149075Z"
    }
   },
   "source": [
    "my_series.memory_usage()"
   ],
   "execution_count": 87,
   "outputs": [
    {
     "data": {
      "text/plain": "156"
     },
     "execution_count": 87,
     "metadata": {},
     "output_type": "execute_result"
    }
   ]
  },
  {
   "cell_type": "code",
   "metadata": {
    "id": "k27pa4L1fv7-",
    "ExecuteTime": {
     "end_time": "2024-01-07T14:58:02.313301Z",
     "start_time": "2024-01-07T14:58:02.250530Z"
    }
   },
   "source": [],
   "execution_count": 87,
   "outputs": []
  },
  {
   "cell_type": "markdown",
   "metadata": {
    "id": "Thrv0augRv88"
   },
   "source": [
    "**MINI CHALLENGE #6 SOLUTION:**\n",
    "- **Set Squeeze = False and rerun the cell, what do you notice? Use Type to compare both outputs**"
   ]
  },
  {
   "cell_type": "code",
   "metadata": {
    "id": "Ebt-VMfccjR6",
    "ExecuteTime": {
     "end_time": "2024-01-07T14:58:02.695508Z",
     "start_time": "2024-01-07T14:58:02.319510Z"
    }
   },
   "source": [
    "sp500 = pd.read_csv('S&P500_Prices.csv', squeeze=False)\n",
    "# Note that when you set Squeeze = False, the data is stored in a DataFrame by default. \n",
    "# DataFrame is simply used to store multi dimensional data as compares to Pandas Series that only holds 1-D dataset \n",
    "# Note that DataFrames has proper formatting when you attempt to view them as shown below \n",
    "# Note that Pandas Series has no formatting\n"
   ],
   "execution_count": 88,
   "outputs": [
    {
     "ename": "TypeError",
     "evalue": "read_csv() got an unexpected keyword argument 'squeeze'",
     "output_type": "error",
     "traceback": [
      "\u001B[0;31m---------------------------------------------------------------------------\u001B[0m",
      "\u001B[0;31mTypeError\u001B[0m                                 Traceback (most recent call last)",
      "Cell \u001B[0;32mIn[88], line 1\u001B[0m\n\u001B[0;32m----> 1\u001B[0m sp500 \u001B[38;5;241m=\u001B[39m pd\u001B[38;5;241m.\u001B[39mread_csv(\u001B[38;5;124m'\u001B[39m\u001B[38;5;124mS&P500_Prices.csv\u001B[39m\u001B[38;5;124m'\u001B[39m, squeeze\u001B[38;5;241m=\u001B[39m\u001B[38;5;28;01mFalse\u001B[39;00m)\n",
      "\u001B[0;31mTypeError\u001B[0m: read_csv() got an unexpected keyword argument 'squeeze'"
     ]
    }
   ]
  },
  {
   "cell_type": "code",
   "metadata": {
    "id": "WsTIJJlRSFkJ",
    "ExecuteTime": {
     "start_time": "2024-01-07T14:58:02.666338Z"
    }
   },
   "source": [
    "sp500"
   ],
   "execution_count": null,
   "outputs": []
  },
  {
   "cell_type": "code",
   "metadata": {
    "id": "NJXOLvacSjh9",
    "ExecuteTime": {
     "start_time": "2024-01-07T14:58:02.669190Z"
    }
   },
   "source": [
    "type(sp500)"
   ],
   "execution_count": null,
   "outputs": []
  },
  {
   "cell_type": "code",
   "metadata": {
    "id": "VqShdXDGSjnD",
    "ExecuteTime": {
     "start_time": "2024-01-07T14:58:02.670416Z"
    }
   },
   "source": [
    "sp500 = pd.read_csv('S&P500_Prices.csv', squeeze=True)\n",
    "type(sp500)"
   ],
   "execution_count": null,
   "outputs": []
  },
  {
   "cell_type": "markdown",
   "metadata": {
    "id": "c9aEM3KTT619"
   },
   "source": [
    "**MINI CHALLENGE #7 SOLUTION:**\n",
    "- **Given the following Pandas Series, convert all positive values to negative using python built-in functions**\n",
    "- **Obtain only unique values (ie: Remove duplicates) using python built-in functions**\n",
    "- **my_series = pd.Series(data = [-10, 100, -30, 50, 100])**\n"
   ]
  },
  {
   "cell_type": "code",
   "metadata": {
    "id": "VP5bBkaOUIpo",
    "ExecuteTime": {
     "start_time": "2024-01-07T14:58:02.671411Z"
    }
   },
   "source": [
    "my_series = pd.Series(data=[-10, 100, -30, 50, 100])\n",
    "my_series"
   ],
   "execution_count": null,
   "outputs": []
  },
  {
   "cell_type": "code",
   "metadata": {
    "id": "NFKY2ZNRaQ-s",
    "ExecuteTime": {
     "end_time": "2024-01-07T14:58:03.068111Z",
     "start_time": "2024-01-07T14:58:02.701908Z"
    }
   },
   "source": [
    "abs(my_series)"
   ],
   "execution_count": 89,
   "outputs": [
    {
     "data": {
      "text/plain": "SP500    3000\nAAPL      400\nTSLA     2200\ndtype: int64"
     },
     "execution_count": 89,
     "metadata": {},
     "output_type": "execute_result"
    }
   ]
  },
  {
   "cell_type": "code",
   "metadata": {
    "id": "xqWCYc0n6V-d",
    "ExecuteTime": {
     "end_time": "2024-01-07T14:58:03.105396Z",
     "start_time": "2024-01-07T14:58:02.886215Z"
    }
   },
   "source": [
    "set(my_series)"
   ],
   "execution_count": 90,
   "outputs": [
    {
     "data": {
      "text/plain": "{400, 2200, 3000}"
     },
     "execution_count": 90,
     "metadata": {},
     "output_type": "execute_result"
    }
   ]
  },
  {
   "cell_type": "markdown",
   "metadata": {
    "id": "5hAgN4ITfwPZ"
   },
   "source": [
    "**MINI CHALLENGE #8 SOLUTION:**\n",
    "- **Sort the S&P500 values in a decending order instead. Make sure to update values in-memory.**"
   ]
  },
  {
   "cell_type": "code",
   "metadata": {
    "id": "XbMv5fujfwPa",
    "ExecuteTime": {
     "end_time": "2024-01-07T14:58:03.278301Z",
     "start_time": "2024-01-07T14:58:03.101313Z"
    }
   },
   "source": [
    "sp500.sort_values(ascending=False, inplace=True)\n",
    "sp500"
   ],
   "execution_count": 91,
   "outputs": [
    {
     "ename": "TypeError",
     "evalue": "DataFrame.sort_values() missing 1 required positional argument: 'by'",
     "output_type": "error",
     "traceback": [
      "\u001B[0;31m---------------------------------------------------------------------------\u001B[0m",
      "\u001B[0;31mTypeError\u001B[0m                                 Traceback (most recent call last)",
      "Cell \u001B[0;32mIn[91], line 1\u001B[0m\n\u001B[0;32m----> 1\u001B[0m sp500\u001B[38;5;241m.\u001B[39msort_values(ascending\u001B[38;5;241m=\u001B[39m\u001B[38;5;28;01mFalse\u001B[39;00m, inplace\u001B[38;5;241m=\u001B[39m\u001B[38;5;28;01mTrue\u001B[39;00m)\n\u001B[1;32m      2\u001B[0m sp500\n",
      "\u001B[0;31mTypeError\u001B[0m: DataFrame.sort_values() missing 1 required positional argument: 'by'"
     ]
    }
   ]
  },
  {
   "cell_type": "code",
   "metadata": {
    "id": "dFlqKzfQlDS-",
    "ExecuteTime": {
     "end_time": "2024-01-07T14:58:03.333889Z",
     "start_time": "2024-01-07T14:58:03.257693Z"
    }
   },
   "source": [],
   "execution_count": 91,
   "outputs": []
  },
  {
   "cell_type": "markdown",
   "metadata": {
    "id": "BJJRSL5jlDlV"
   },
   "source": [
    "**MINI CHALLENGE #9 SOLUTION:**\n",
    "- **Obtain the average price using two different methods**"
   ]
  },
  {
   "cell_type": "code",
   "metadata": {
    "id": "PPjFgt5FlDlW",
    "ExecuteTime": {
     "end_time": "2024-01-07T14:58:03.472365Z",
     "start_time": "2024-01-07T14:58:03.322180Z"
    }
   },
   "source": [
    "# Obtain the average - Solution #1\n",
    "sp500.sum() / sp500.count()"
   ],
   "execution_count": 92,
   "outputs": [
    {
     "data": {
      "text/plain": "sp500    2218.749554\ndtype: float64"
     },
     "execution_count": 92,
     "metadata": {},
     "output_type": "execute_result"
    }
   ]
  },
  {
   "cell_type": "code",
   "metadata": {
    "id": "P10NuBnslDlW",
    "ExecuteTime": {
     "end_time": "2024-01-07T14:58:03.528963Z",
     "start_time": "2024-01-07T14:58:03.455223Z"
    }
   },
   "source": [
    "# Obtain the average - Solution #s\n",
    "sp500.mean()"
   ],
   "execution_count": 93,
   "outputs": [
    {
     "data": {
      "text/plain": "sp500    2218.749554\ndtype: float64"
     },
     "execution_count": 93,
     "metadata": {},
     "output_type": "execute_result"
    }
   ]
  },
  {
   "cell_type": "code",
   "metadata": {
    "id": "TZkayhzAby14",
    "ExecuteTime": {
     "end_time": "2024-01-07T14:58:03.630028Z",
     "start_time": "2024-01-07T14:58:03.517216Z"
    }
   },
   "source": [],
   "execution_count": 93,
   "outputs": []
  },
  {
   "cell_type": "markdown",
   "metadata": {
    "id": "VUaaCo_5a8h0"
   },
   "source": [
    "**MINI CHALLENGE #10 SOLUTION:**\n",
    "- **Check if the stock price 3349 exists in the sp500 Pandas Series or not**\n",
    "- **Round stock prices to the nearest integer and check again**"
   ]
  },
  {
   "cell_type": "code",
   "metadata": {
    "id": "650WOhWVjMGx",
    "ExecuteTime": {
     "end_time": "2024-01-07T14:58:03.677681Z",
     "start_time": "2024-01-07T14:58:03.633959Z"
    }
   },
   "source": [
    "3349 in sp500.values"
   ],
   "execution_count": 94,
   "outputs": [
    {
     "data": {
      "text/plain": "False"
     },
     "execution_count": 94,
     "metadata": {},
     "output_type": "execute_result"
    }
   ]
  },
  {
   "cell_type": "code",
   "metadata": {
    "id": "8T7B5PhsbVB0",
    "ExecuteTime": {
     "end_time": "2024-01-07T14:58:03.793028Z",
     "start_time": "2024-01-07T14:58:03.665863Z"
    }
   },
   "source": [
    "sp500 = round(sp500)\n",
    "sp500"
   ],
   "execution_count": 95,
   "outputs": [
    {
     "data": {
      "text/plain": "       sp500\n0     1296.0\n1     1289.0\n2     1294.0\n3     1308.0\n4     1314.0\n...      ...\n2154  3328.0\n2155  3349.0\n2156  3351.0\n2157  3360.0\n2158  3334.0\n\n[2159 rows x 1 columns]",
      "text/html": "<div>\n<style scoped>\n    .dataframe tbody tr th:only-of-type {\n        vertical-align: middle;\n    }\n\n    .dataframe tbody tr th {\n        vertical-align: top;\n    }\n\n    .dataframe thead th {\n        text-align: right;\n    }\n</style>\n<table border=\"1\" class=\"dataframe\">\n  <thead>\n    <tr style=\"text-align: right;\">\n      <th></th>\n      <th>sp500</th>\n    </tr>\n  </thead>\n  <tbody>\n    <tr>\n      <th>0</th>\n      <td>1296.0</td>\n    </tr>\n    <tr>\n      <th>1</th>\n      <td>1289.0</td>\n    </tr>\n    <tr>\n      <th>2</th>\n      <td>1294.0</td>\n    </tr>\n    <tr>\n      <th>3</th>\n      <td>1308.0</td>\n    </tr>\n    <tr>\n      <th>4</th>\n      <td>1314.0</td>\n    </tr>\n    <tr>\n      <th>...</th>\n      <td>...</td>\n    </tr>\n    <tr>\n      <th>2154</th>\n      <td>3328.0</td>\n    </tr>\n    <tr>\n      <th>2155</th>\n      <td>3349.0</td>\n    </tr>\n    <tr>\n      <th>2156</th>\n      <td>3351.0</td>\n    </tr>\n    <tr>\n      <th>2157</th>\n      <td>3360.0</td>\n    </tr>\n    <tr>\n      <th>2158</th>\n      <td>3334.0</td>\n    </tr>\n  </tbody>\n</table>\n<p>2159 rows × 1 columns</p>\n</div>"
     },
     "execution_count": 95,
     "metadata": {},
     "output_type": "execute_result"
    }
   ]
  },
  {
   "cell_type": "code",
   "metadata": {
    "id": "Ads3YyW_bhVh",
    "ExecuteTime": {
     "end_time": "2024-01-07T14:58:03.852495Z",
     "start_time": "2024-01-07T14:58:03.781302Z"
    }
   },
   "source": [
    "3349 in sp500.values"
   ],
   "execution_count": 96,
   "outputs": [
    {
     "data": {
      "text/plain": "True"
     },
     "execution_count": 96,
     "metadata": {},
     "output_type": "execute_result"
    }
   ]
  },
  {
   "cell_type": "markdown",
   "metadata": {
    "id": "vAJPyYxMcmoo"
   },
   "source": [
    "**MINI CHALLENGE #11 SOLUTION:**\n",
    "- **Obtain the fifth element in the Pandas Series**"
   ]
  },
  {
   "cell_type": "code",
   "metadata": {
    "id": "4RDUq1phcmop",
    "ExecuteTime": {
     "end_time": "2024-01-07T14:58:04.718384Z",
     "start_time": "2024-01-07T14:58:03.845459Z"
    }
   },
   "source": [
    "# Note that the fifth element has an index = 4\n",
    "sp500[4]"
   ],
   "execution_count": 97,
   "outputs": [
    {
     "ename": "KeyError",
     "evalue": "4",
     "output_type": "error",
     "traceback": [
      "\u001B[0;31m---------------------------------------------------------------------------\u001B[0m",
      "\u001B[0;31mKeyError\u001B[0m                                  Traceback (most recent call last)",
      "File \u001B[0;32m~/anaconda3/lib/python3.11/site-packages/pandas/core/indexes/base.py:3653\u001B[0m, in \u001B[0;36mIndex.get_loc\u001B[0;34m(self, key)\u001B[0m\n\u001B[1;32m   3652\u001B[0m \u001B[38;5;28;01mtry\u001B[39;00m:\n\u001B[0;32m-> 3653\u001B[0m     \u001B[38;5;28;01mreturn\u001B[39;00m \u001B[38;5;28mself\u001B[39m\u001B[38;5;241m.\u001B[39m_engine\u001B[38;5;241m.\u001B[39mget_loc(casted_key)\n\u001B[1;32m   3654\u001B[0m \u001B[38;5;28;01mexcept\u001B[39;00m \u001B[38;5;167;01mKeyError\u001B[39;00m \u001B[38;5;28;01mas\u001B[39;00m err:\n",
      "File \u001B[0;32m~/anaconda3/lib/python3.11/site-packages/pandas/_libs/index.pyx:147\u001B[0m, in \u001B[0;36mpandas._libs.index.IndexEngine.get_loc\u001B[0;34m()\u001B[0m\n",
      "File \u001B[0;32m~/anaconda3/lib/python3.11/site-packages/pandas/_libs/index.pyx:176\u001B[0m, in \u001B[0;36mpandas._libs.index.IndexEngine.get_loc\u001B[0;34m()\u001B[0m\n",
      "File \u001B[0;32mpandas/_libs/hashtable_class_helper.pxi:7080\u001B[0m, in \u001B[0;36mpandas._libs.hashtable.PyObjectHashTable.get_item\u001B[0;34m()\u001B[0m\n",
      "File \u001B[0;32mpandas/_libs/hashtable_class_helper.pxi:7088\u001B[0m, in \u001B[0;36mpandas._libs.hashtable.PyObjectHashTable.get_item\u001B[0;34m()\u001B[0m\n",
      "\u001B[0;31mKeyError\u001B[0m: 4",
      "\nThe above exception was the direct cause of the following exception:\n",
      "\u001B[0;31mKeyError\u001B[0m                                  Traceback (most recent call last)",
      "Cell \u001B[0;32mIn[97], line 2\u001B[0m\n\u001B[1;32m      1\u001B[0m \u001B[38;5;66;03m# Note that the fifth element has an index = 4\u001B[39;00m\n\u001B[0;32m----> 2\u001B[0m sp500[\u001B[38;5;241m4\u001B[39m]\n",
      "File \u001B[0;32m~/anaconda3/lib/python3.11/site-packages/pandas/core/frame.py:3761\u001B[0m, in \u001B[0;36mDataFrame.__getitem__\u001B[0;34m(self, key)\u001B[0m\n\u001B[1;32m   3759\u001B[0m \u001B[38;5;28;01mif\u001B[39;00m \u001B[38;5;28mself\u001B[39m\u001B[38;5;241m.\u001B[39mcolumns\u001B[38;5;241m.\u001B[39mnlevels \u001B[38;5;241m>\u001B[39m \u001B[38;5;241m1\u001B[39m:\n\u001B[1;32m   3760\u001B[0m     \u001B[38;5;28;01mreturn\u001B[39;00m \u001B[38;5;28mself\u001B[39m\u001B[38;5;241m.\u001B[39m_getitem_multilevel(key)\n\u001B[0;32m-> 3761\u001B[0m indexer \u001B[38;5;241m=\u001B[39m \u001B[38;5;28mself\u001B[39m\u001B[38;5;241m.\u001B[39mcolumns\u001B[38;5;241m.\u001B[39mget_loc(key)\n\u001B[1;32m   3762\u001B[0m \u001B[38;5;28;01mif\u001B[39;00m is_integer(indexer):\n\u001B[1;32m   3763\u001B[0m     indexer \u001B[38;5;241m=\u001B[39m [indexer]\n",
      "File \u001B[0;32m~/anaconda3/lib/python3.11/site-packages/pandas/core/indexes/base.py:3655\u001B[0m, in \u001B[0;36mIndex.get_loc\u001B[0;34m(self, key)\u001B[0m\n\u001B[1;32m   3653\u001B[0m     \u001B[38;5;28;01mreturn\u001B[39;00m \u001B[38;5;28mself\u001B[39m\u001B[38;5;241m.\u001B[39m_engine\u001B[38;5;241m.\u001B[39mget_loc(casted_key)\n\u001B[1;32m   3654\u001B[0m \u001B[38;5;28;01mexcept\u001B[39;00m \u001B[38;5;167;01mKeyError\u001B[39;00m \u001B[38;5;28;01mas\u001B[39;00m err:\n\u001B[0;32m-> 3655\u001B[0m     \u001B[38;5;28;01mraise\u001B[39;00m \u001B[38;5;167;01mKeyError\u001B[39;00m(key) \u001B[38;5;28;01mfrom\u001B[39;00m \u001B[38;5;21;01merr\u001B[39;00m\n\u001B[1;32m   3656\u001B[0m \u001B[38;5;28;01mexcept\u001B[39;00m \u001B[38;5;167;01mTypeError\u001B[39;00m:\n\u001B[1;32m   3657\u001B[0m     \u001B[38;5;66;03m# If we have a listlike key, _check_indexing_error will raise\u001B[39;00m\n\u001B[1;32m   3658\u001B[0m     \u001B[38;5;66;03m#  InvalidIndexError. Otherwise we fall through and re-raise\u001B[39;00m\n\u001B[1;32m   3659\u001B[0m     \u001B[38;5;66;03m#  the TypeError.\u001B[39;00m\n\u001B[1;32m   3660\u001B[0m     \u001B[38;5;28mself\u001B[39m\u001B[38;5;241m.\u001B[39m_check_indexing_error(key)\n",
      "\u001B[0;31mKeyError\u001B[0m: 4"
     ]
    }
   ]
  },
  {
   "cell_type": "markdown",
   "metadata": {
    "id": "d3mdLBq2dicZ"
   },
   "source": [
    "**MINI CHALLENGE #12 SOLUTION:**\n",
    "- **Obtain all elements in Pandas Series except for the last 3 elements**"
   ]
  },
  {
   "cell_type": "code",
   "metadata": {
    "id": "0CaYXe_udFyA",
    "ExecuteTime": {
     "start_time": "2024-01-07T14:58:04.717243Z"
    }
   },
   "source": [
    "sp500[:-3]"
   ],
   "execution_count": null,
   "outputs": []
  }
 ]
}
