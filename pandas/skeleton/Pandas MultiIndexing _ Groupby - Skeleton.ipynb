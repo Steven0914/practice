{
 "nbformat": 4,
 "nbformat_minor": 0,
 "metadata": {
  "colab": {
   "name": "Pandas MultiIndexing & Groupby - Skeleton backup.ipynb",
   "provenance": [],
   "collapsed_sections": [],
   "authorship_tag": "ABX9TyMNNWWedEgnRmDhKMr9Rfdc"
  },
  "kernelspec": {
   "name": "python3",
   "language": "python",
   "display_name": "Python 3 (ipykernel)"
  },
  "language_info": {
   "name": "python"
  }
 },
 "cells": [
  {
   "cell_type": "markdown",
   "metadata": {
    "id": "jKoO1rwMYpgu"
   },
   "source": [
    "# 1. IMPORT AND EXPLORE DATASET"
   ]
  },
  {
   "cell_type": "code",
   "metadata": {
    "id": "5xYHzxzIX96P",
    "ExecuteTime": {
     "end_time": "2024-01-10T10:19:57.159368Z",
     "start_time": "2024-01-10T10:19:56.760086Z"
    }
   },
   "source": [
    "import pandas as pd"
   ],
   "execution_count": 1,
   "outputs": []
  },
  {
   "cell_type": "code",
   "metadata": {
    "id": "4V9HiClKV0a9",
    "ExecuteTime": {
     "end_time": "2024-01-10T07:26:55.176545Z",
     "start_time": "2024-01-10T07:26:54.597084Z"
    }
   },
   "source": [
    "# Import dataset using Pandas\n",
    "# Link to Dataset: https://www.kaggle.com/carrie1/ecommerce-data\n",
    "# Data contains transactions details between 01/12/2010 and 09/12/2011 for a UK-based non-store online retail.\n",
    "# The company specializes in selling unique gifts\n",
    "# sales_df = pd.read_csv('../datasets/ecommerce_sales.csv')\n",
    "sales_df = pd.read_csv('../datasets/ecommerce_sales.csv',encoding='unicode_escape')\n",
    "sales_df"
   ],
   "execution_count": 3,
   "outputs": [
    {
     "data": {
      "text/plain": "       InvoiceNo StockCode                          Description  Quantity  \\\n0         536365    85123A   WHITE HANGING HEART T-LIGHT HOLDER         6   \n1         536365     71053                  WHITE METAL LANTERN         6   \n2         536365    84406B       CREAM CUPID HEARTS COAT HANGER         8   \n3         536365    84029G  KNITTED UNION FLAG HOT WATER BOTTLE         6   \n4         536365    84029E       RED WOOLLY HOTTIE WHITE HEART.         6   \n...          ...       ...                                  ...       ...   \n541904    581587     22613          PACK OF 20 SPACEBOY NAPKINS        12   \n541905    581587     22899         CHILDREN'S APRON DOLLY GIRL          6   \n541906    581587     23254        CHILDRENS CUTLERY DOLLY GIRL          4   \n541907    581587     23255      CHILDRENS CUTLERY CIRCUS PARADE         4   \n541908    581587     22138        BAKING SET 9 PIECE RETROSPOT          3   \n\n            InvoiceDate  UnitPrice  CustomerID         Country  \n0        12/1/2010 8:26       2.55     17850.0  United Kingdom  \n1        12/1/2010 8:26       3.39     17850.0  United Kingdom  \n2        12/1/2010 8:26       2.75     17850.0  United Kingdom  \n3        12/1/2010 8:26       3.39     17850.0  United Kingdom  \n4        12/1/2010 8:26       3.39     17850.0  United Kingdom  \n...                 ...        ...         ...             ...  \n541904  12/9/2011 12:50       0.85     12680.0          France  \n541905  12/9/2011 12:50       2.10     12680.0          France  \n541906  12/9/2011 12:50       4.15     12680.0          France  \n541907  12/9/2011 12:50       4.15     12680.0          France  \n541908  12/9/2011 12:50       4.95     12680.0          France  \n\n[541909 rows x 8 columns]",
      "text/html": "<div>\n<style scoped>\n    .dataframe tbody tr th:only-of-type {\n        vertical-align: middle;\n    }\n\n    .dataframe tbody tr th {\n        vertical-align: top;\n    }\n\n    .dataframe thead th {\n        text-align: right;\n    }\n</style>\n<table border=\"1\" class=\"dataframe\">\n  <thead>\n    <tr style=\"text-align: right;\">\n      <th></th>\n      <th>InvoiceNo</th>\n      <th>StockCode</th>\n      <th>Description</th>\n      <th>Quantity</th>\n      <th>InvoiceDate</th>\n      <th>UnitPrice</th>\n      <th>CustomerID</th>\n      <th>Country</th>\n    </tr>\n  </thead>\n  <tbody>\n    <tr>\n      <th>0</th>\n      <td>536365</td>\n      <td>85123A</td>\n      <td>WHITE HANGING HEART T-LIGHT HOLDER</td>\n      <td>6</td>\n      <td>12/1/2010 8:26</td>\n      <td>2.55</td>\n      <td>17850.0</td>\n      <td>United Kingdom</td>\n    </tr>\n    <tr>\n      <th>1</th>\n      <td>536365</td>\n      <td>71053</td>\n      <td>WHITE METAL LANTERN</td>\n      <td>6</td>\n      <td>12/1/2010 8:26</td>\n      <td>3.39</td>\n      <td>17850.0</td>\n      <td>United Kingdom</td>\n    </tr>\n    <tr>\n      <th>2</th>\n      <td>536365</td>\n      <td>84406B</td>\n      <td>CREAM CUPID HEARTS COAT HANGER</td>\n      <td>8</td>\n      <td>12/1/2010 8:26</td>\n      <td>2.75</td>\n      <td>17850.0</td>\n      <td>United Kingdom</td>\n    </tr>\n    <tr>\n      <th>3</th>\n      <td>536365</td>\n      <td>84029G</td>\n      <td>KNITTED UNION FLAG HOT WATER BOTTLE</td>\n      <td>6</td>\n      <td>12/1/2010 8:26</td>\n      <td>3.39</td>\n      <td>17850.0</td>\n      <td>United Kingdom</td>\n    </tr>\n    <tr>\n      <th>4</th>\n      <td>536365</td>\n      <td>84029E</td>\n      <td>RED WOOLLY HOTTIE WHITE HEART.</td>\n      <td>6</td>\n      <td>12/1/2010 8:26</td>\n      <td>3.39</td>\n      <td>17850.0</td>\n      <td>United Kingdom</td>\n    </tr>\n    <tr>\n      <th>...</th>\n      <td>...</td>\n      <td>...</td>\n      <td>...</td>\n      <td>...</td>\n      <td>...</td>\n      <td>...</td>\n      <td>...</td>\n      <td>...</td>\n    </tr>\n    <tr>\n      <th>541904</th>\n      <td>581587</td>\n      <td>22613</td>\n      <td>PACK OF 20 SPACEBOY NAPKINS</td>\n      <td>12</td>\n      <td>12/9/2011 12:50</td>\n      <td>0.85</td>\n      <td>12680.0</td>\n      <td>France</td>\n    </tr>\n    <tr>\n      <th>541905</th>\n      <td>581587</td>\n      <td>22899</td>\n      <td>CHILDREN'S APRON DOLLY GIRL</td>\n      <td>6</td>\n      <td>12/9/2011 12:50</td>\n      <td>2.10</td>\n      <td>12680.0</td>\n      <td>France</td>\n    </tr>\n    <tr>\n      <th>541906</th>\n      <td>581587</td>\n      <td>23254</td>\n      <td>CHILDRENS CUTLERY DOLLY GIRL</td>\n      <td>4</td>\n      <td>12/9/2011 12:50</td>\n      <td>4.15</td>\n      <td>12680.0</td>\n      <td>France</td>\n    </tr>\n    <tr>\n      <th>541907</th>\n      <td>581587</td>\n      <td>23255</td>\n      <td>CHILDRENS CUTLERY CIRCUS PARADE</td>\n      <td>4</td>\n      <td>12/9/2011 12:50</td>\n      <td>4.15</td>\n      <td>12680.0</td>\n      <td>France</td>\n    </tr>\n    <tr>\n      <th>541908</th>\n      <td>581587</td>\n      <td>22138</td>\n      <td>BAKING SET 9 PIECE RETROSPOT</td>\n      <td>3</td>\n      <td>12/9/2011 12:50</td>\n      <td>4.95</td>\n      <td>12680.0</td>\n      <td>France</td>\n    </tr>\n  </tbody>\n</table>\n<p>541909 rows × 8 columns</p>\n</div>"
     },
     "execution_count": 3,
     "metadata": {},
     "output_type": "execute_result"
    }
   ]
  },
  {
   "cell_type": "code",
   "metadata": {
    "id": "SUvuMDoaXfmR",
    "ExecuteTime": {
     "end_time": "2024-01-10T07:28:49.299884Z",
     "start_time": "2024-01-10T07:28:49.234781Z"
    }
   },
   "source": [
    "# Let's view the types of data\n",
    "# Note that InvoiceDate is in object format, we will need to convert it into Datetime format\n",
    "sales_df.info()"
   ],
   "execution_count": 4,
   "outputs": [
    {
     "name": "stdout",
     "output_type": "stream",
     "text": [
      "<class 'pandas.core.frame.DataFrame'>\n",
      "RangeIndex: 541909 entries, 0 to 541908\n",
      "Data columns (total 8 columns):\n",
      " #   Column       Non-Null Count   Dtype  \n",
      "---  ------       --------------   -----  \n",
      " 0   InvoiceNo    541909 non-null  object \n",
      " 1   StockCode    541909 non-null  object \n",
      " 2   Description  540455 non-null  object \n",
      " 3   Quantity     541909 non-null  int64  \n",
      " 4   InvoiceDate  541909 non-null  object \n",
      " 5   UnitPrice    541909 non-null  float64\n",
      " 6   CustomerID   406829 non-null  float64\n",
      " 7   Country      541909 non-null  object \n",
      "dtypes: float64(2), int64(1), object(5)\n",
      "memory usage: 33.1+ MB\n"
     ]
    }
   ]
  },
  {
   "cell_type": "code",
   "metadata": {
    "id": "3OqZHku_kte7",
    "ExecuteTime": {
     "end_time": "2024-01-10T07:31:17.209364Z",
     "start_time": "2024-01-10T07:31:17.141Z"
    }
   },
   "source": [
    "# Convert Invoice date to datetime format\n",
    "sales_df['InvoiceDate'] =pd.to_datetime(sales_df['InvoiceDate'])"
   ],
   "execution_count": 5,
   "outputs": []
  },
  {
   "cell_type": "code",
   "metadata": {
    "id": "jeWktbLylF9S",
    "ExecuteTime": {
     "end_time": "2024-01-10T07:31:25.499671Z",
     "start_time": "2024-01-10T07:31:25.439256Z"
    }
   },
   "source": [
    "# Check datatype again to confirm!\n",
    "sales_df.info()"
   ],
   "execution_count": 6,
   "outputs": [
    {
     "name": "stdout",
     "output_type": "stream",
     "text": [
      "<class 'pandas.core.frame.DataFrame'>\n",
      "RangeIndex: 541909 entries, 0 to 541908\n",
      "Data columns (total 8 columns):\n",
      " #   Column       Non-Null Count   Dtype         \n",
      "---  ------       --------------   -----         \n",
      " 0   InvoiceNo    541909 non-null  object        \n",
      " 1   StockCode    541909 non-null  object        \n",
      " 2   Description  540455 non-null  object        \n",
      " 3   Quantity     541909 non-null  int64         \n",
      " 4   InvoiceDate  541909 non-null  datetime64[ns]\n",
      " 5   UnitPrice    541909 non-null  float64       \n",
      " 6   CustomerID   406829 non-null  float64       \n",
      " 7   Country      541909 non-null  object        \n",
      "dtypes: datetime64[ns](1), float64(2), int64(1), object(4)\n",
      "memory usage: 33.1+ MB\n"
     ]
    }
   ]
  },
  {
   "cell_type": "code",
   "metadata": {
    "id": "Yjrmrf2zYSz8",
    "ExecuteTime": {
     "end_time": "2024-01-10T07:32:08.233815Z",
     "start_time": "2024-01-10T07:32:08.175814Z"
    }
   },
   "source": [
    "# Check the number of Null values in the data\n",
    "sales_df.isnull().sum()"
   ],
   "execution_count": 8,
   "outputs": [
    {
     "data": {
      "text/plain": "InvoiceNo           0\nStockCode           0\nDescription      1454\nQuantity            0\nInvoiceDate         0\nUnitPrice           0\nCustomerID     135080\nCountry             0\ndtype: int64"
     },
     "execution_count": 8,
     "metadata": {},
     "output_type": "execute_result"
    }
   ]
  },
  {
   "cell_type": "markdown",
   "metadata": {
    "id": "kHbNxpzHL905"
   },
   "source": [
    "**MINI CHALLENGE #1:**\n",
    "- **How many unique countries are present in the dataset? List all countries**"
   ]
  },
  {
   "cell_type": "code",
   "metadata": {
    "id": "C2nvW606MWwc",
    "ExecuteTime": {
     "end_time": "2024-01-10T07:33:55.127768Z",
     "start_time": "2024-01-10T07:33:55.106428Z"
    }
   },
   "source": [
    "sales_df['Country'].unique()"
   ],
   "execution_count": 9,
   "outputs": [
    {
     "data": {
      "text/plain": "array(['United Kingdom', 'France', 'Australia', 'Netherlands', 'Germany',\n       'Norway', 'EIRE', 'Switzerland', 'Spain', 'Poland', 'Portugal',\n       'Italy', 'Belgium', 'Lithuania', 'Japan', 'Iceland',\n       'Channel Islands', 'Denmark', 'Cyprus', 'Sweden', 'Austria',\n       'Israel', 'Finland', 'Bahrain', 'Greece', 'Hong Kong', 'Singapore',\n       'Lebanon', 'United Arab Emirates', 'Saudi Arabia',\n       'Czech Republic', 'Canada', 'Unspecified', 'Brazil', 'USA',\n       'European Community', 'Malta', 'RSA'], dtype=object)"
     },
     "execution_count": 9,
     "metadata": {},
     "output_type": "execute_result"
    }
   ]
  },
  {
   "cell_type": "code",
   "execution_count": 10,
   "outputs": [
    {
     "data": {
      "text/plain": "InvoiceNo      25900\nStockCode       4070\nDescription     4223\nQuantity         722\nInvoiceDate    23260\nUnitPrice       1630\nCustomerID      4372\nCountry           38\ndtype: int64"
     },
     "execution_count": 10,
     "metadata": {},
     "output_type": "execute_result"
    }
   ],
   "source": [
    "sales_df.nunique()"
   ],
   "metadata": {
    "collapsed": false,
    "ExecuteTime": {
     "end_time": "2024-01-10T07:34:31.085852Z",
     "start_time": "2024-01-10T07:34:30.965454Z"
    }
   }
  },
  {
   "cell_type": "markdown",
   "metadata": {
    "id": "GvntzUsa2q9n"
   },
   "source": [
    "# 2. GROUPBY"
   ]
  },
  {
   "cell_type": "code",
   "metadata": {
    "id": "Q6ECCoVR2trv",
    "ExecuteTime": {
     "end_time": "2024-01-10T07:35:00.268973Z",
     "start_time": "2024-01-10T07:35:00.246998Z"
    }
   },
   "source": [
    "sales_df"
   ],
   "execution_count": 11,
   "outputs": [
    {
     "data": {
      "text/plain": "       InvoiceNo StockCode                          Description  Quantity  \\\n0         536365    85123A   WHITE HANGING HEART T-LIGHT HOLDER         6   \n1         536365     71053                  WHITE METAL LANTERN         6   \n2         536365    84406B       CREAM CUPID HEARTS COAT HANGER         8   \n3         536365    84029G  KNITTED UNION FLAG HOT WATER BOTTLE         6   \n4         536365    84029E       RED WOOLLY HOTTIE WHITE HEART.         6   \n...          ...       ...                                  ...       ...   \n541904    581587     22613          PACK OF 20 SPACEBOY NAPKINS        12   \n541905    581587     22899         CHILDREN'S APRON DOLLY GIRL          6   \n541906    581587     23254        CHILDRENS CUTLERY DOLLY GIRL          4   \n541907    581587     23255      CHILDRENS CUTLERY CIRCUS PARADE         4   \n541908    581587     22138        BAKING SET 9 PIECE RETROSPOT          3   \n\n               InvoiceDate  UnitPrice  CustomerID         Country  \n0      2010-12-01 08:26:00       2.55     17850.0  United Kingdom  \n1      2010-12-01 08:26:00       3.39     17850.0  United Kingdom  \n2      2010-12-01 08:26:00       2.75     17850.0  United Kingdom  \n3      2010-12-01 08:26:00       3.39     17850.0  United Kingdom  \n4      2010-12-01 08:26:00       3.39     17850.0  United Kingdom  \n...                    ...        ...         ...             ...  \n541904 2011-12-09 12:50:00       0.85     12680.0          France  \n541905 2011-12-09 12:50:00       2.10     12680.0          France  \n541906 2011-12-09 12:50:00       4.15     12680.0          France  \n541907 2011-12-09 12:50:00       4.15     12680.0          France  \n541908 2011-12-09 12:50:00       4.95     12680.0          France  \n\n[541909 rows x 8 columns]",
      "text/html": "<div>\n<style scoped>\n    .dataframe tbody tr th:only-of-type {\n        vertical-align: middle;\n    }\n\n    .dataframe tbody tr th {\n        vertical-align: top;\n    }\n\n    .dataframe thead th {\n        text-align: right;\n    }\n</style>\n<table border=\"1\" class=\"dataframe\">\n  <thead>\n    <tr style=\"text-align: right;\">\n      <th></th>\n      <th>InvoiceNo</th>\n      <th>StockCode</th>\n      <th>Description</th>\n      <th>Quantity</th>\n      <th>InvoiceDate</th>\n      <th>UnitPrice</th>\n      <th>CustomerID</th>\n      <th>Country</th>\n    </tr>\n  </thead>\n  <tbody>\n    <tr>\n      <th>0</th>\n      <td>536365</td>\n      <td>85123A</td>\n      <td>WHITE HANGING HEART T-LIGHT HOLDER</td>\n      <td>6</td>\n      <td>2010-12-01 08:26:00</td>\n      <td>2.55</td>\n      <td>17850.0</td>\n      <td>United Kingdom</td>\n    </tr>\n    <tr>\n      <th>1</th>\n      <td>536365</td>\n      <td>71053</td>\n      <td>WHITE METAL LANTERN</td>\n      <td>6</td>\n      <td>2010-12-01 08:26:00</td>\n      <td>3.39</td>\n      <td>17850.0</td>\n      <td>United Kingdom</td>\n    </tr>\n    <tr>\n      <th>2</th>\n      <td>536365</td>\n      <td>84406B</td>\n      <td>CREAM CUPID HEARTS COAT HANGER</td>\n      <td>8</td>\n      <td>2010-12-01 08:26:00</td>\n      <td>2.75</td>\n      <td>17850.0</td>\n      <td>United Kingdom</td>\n    </tr>\n    <tr>\n      <th>3</th>\n      <td>536365</td>\n      <td>84029G</td>\n      <td>KNITTED UNION FLAG HOT WATER BOTTLE</td>\n      <td>6</td>\n      <td>2010-12-01 08:26:00</td>\n      <td>3.39</td>\n      <td>17850.0</td>\n      <td>United Kingdom</td>\n    </tr>\n    <tr>\n      <th>4</th>\n      <td>536365</td>\n      <td>84029E</td>\n      <td>RED WOOLLY HOTTIE WHITE HEART.</td>\n      <td>6</td>\n      <td>2010-12-01 08:26:00</td>\n      <td>3.39</td>\n      <td>17850.0</td>\n      <td>United Kingdom</td>\n    </tr>\n    <tr>\n      <th>...</th>\n      <td>...</td>\n      <td>...</td>\n      <td>...</td>\n      <td>...</td>\n      <td>...</td>\n      <td>...</td>\n      <td>...</td>\n      <td>...</td>\n    </tr>\n    <tr>\n      <th>541904</th>\n      <td>581587</td>\n      <td>22613</td>\n      <td>PACK OF 20 SPACEBOY NAPKINS</td>\n      <td>12</td>\n      <td>2011-12-09 12:50:00</td>\n      <td>0.85</td>\n      <td>12680.0</td>\n      <td>France</td>\n    </tr>\n    <tr>\n      <th>541905</th>\n      <td>581587</td>\n      <td>22899</td>\n      <td>CHILDREN'S APRON DOLLY GIRL</td>\n      <td>6</td>\n      <td>2011-12-09 12:50:00</td>\n      <td>2.10</td>\n      <td>12680.0</td>\n      <td>France</td>\n    </tr>\n    <tr>\n      <th>541906</th>\n      <td>581587</td>\n      <td>23254</td>\n      <td>CHILDRENS CUTLERY DOLLY GIRL</td>\n      <td>4</td>\n      <td>2011-12-09 12:50:00</td>\n      <td>4.15</td>\n      <td>12680.0</td>\n      <td>France</td>\n    </tr>\n    <tr>\n      <th>541907</th>\n      <td>581587</td>\n      <td>23255</td>\n      <td>CHILDRENS CUTLERY CIRCUS PARADE</td>\n      <td>4</td>\n      <td>2011-12-09 12:50:00</td>\n      <td>4.15</td>\n      <td>12680.0</td>\n      <td>France</td>\n    </tr>\n    <tr>\n      <th>541908</th>\n      <td>581587</td>\n      <td>22138</td>\n      <td>BAKING SET 9 PIECE RETROSPOT</td>\n      <td>3</td>\n      <td>2011-12-09 12:50:00</td>\n      <td>4.95</td>\n      <td>12680.0</td>\n      <td>France</td>\n    </tr>\n  </tbody>\n</table>\n<p>541909 rows × 8 columns</p>\n</div>"
     },
     "execution_count": 11,
     "metadata": {},
     "output_type": "execute_result"
    }
   ]
  },
  {
   "cell_type": "code",
   "metadata": {
    "id": "L-ouZdVz2tvb",
    "ExecuteTime": {
     "end_time": "2024-01-10T07:38:26.770265Z",
     "start_time": "2024-01-10T07:38:26.729344Z"
    }
   },
   "source": [
    "# A groupby operation involves some combination of splitting the object, applying a function, and combining the results. \n",
    "# This can be used to group large amounts of data and compute operations on these groups.\n",
    "# Link: https://pandas.pydata.org/pandas-docs/stable/reference/api/pandas.DataFrame.groupby.html\n",
    "sales_df.groupby('Country')['UnitPrice'].mean()"
   ],
   "execution_count": 12,
   "outputs": [
    {
     "data": {
      "text/plain": "Country\nAustralia                 3.220612\nAustria                   4.243192\nBahrain                   4.556316\nBelgium                   3.644335\nBrazil                    4.456250\nCanada                    6.030331\nChannel Islands           4.932124\nCyprus                    6.302363\nCzech Republic            2.938333\nDenmark                   3.256941\nEIRE                      5.911077\nEuropean Community        4.820492\nFinland                   5.448705\nFrance                    5.028864\nGermany                   3.966930\nGreece                    4.885548\nHong Kong                42.505208\nIceland                   2.644011\nIsrael                    3.633131\nItaly                     4.831121\nJapan                     2.276145\nLebanon                   5.387556\nLithuania                 2.841143\nMalta                     5.244173\nNetherlands               2.738317\nNorway                    6.012026\nPoland                    4.170880\nPortugal                  8.582976\nRSA                       4.277586\nSaudi Arabia              2.411000\nSingapore               109.645808\nSpain                     4.987544\nSweden                    3.910887\nSwitzerland               3.403442\nUSA                       2.216426\nUnited Arab Emirates      3.380735\nUnited Kingdom            4.532422\nUnspecified               2.699574\nName: UnitPrice, dtype: float64"
     },
     "execution_count": 12,
     "metadata": {},
     "output_type": "execute_result"
    }
   ]
  },
  {
   "cell_type": "code",
   "metadata": {
    "id": "Den792Gf2tx1",
    "ExecuteTime": {
     "end_time": "2024-01-10T07:39:01.127704Z",
     "start_time": "2024-01-10T07:39:01.086199Z"
    }
   },
   "source": [
    "sales_df.groupby('Country')['UnitPrice'].min()\n"
   ],
   "execution_count": 13,
   "outputs": [
    {
     "data": {
      "text/plain": "Country\nAustralia                   0.00\nAustria                     0.12\nBahrain                     1.25\nBelgium                     0.12\nBrazil                      0.85\nCanada                      0.10\nChannel Islands             0.19\nCyprus                      0.12\nCzech Republic              0.29\nDenmark                     0.21\nEIRE                        0.00\nEuropean Community          0.55\nFinland                     0.12\nFrance                      0.00\nGermany                     0.00\nGreece                      0.14\nHong Kong                   0.21\nIceland                     0.25\nIsrael                      0.06\nItaly                       0.12\nJapan                       0.21\nLebanon                     0.55\nLithuania                   1.25\nMalta                       0.19\nNetherlands                 0.00\nNorway                      0.00\nPoland                      0.19\nPortugal                    0.12\nRSA                         0.00\nSaudi Arabia                0.42\nSingapore                   0.19\nSpain                       0.00\nSweden                      0.19\nSwitzerland                 0.00\nUSA                         0.42\nUnited Arab Emirates        0.29\nUnited Kingdom         -11062.06\nUnspecified                 0.19\nName: UnitPrice, dtype: float64"
     },
     "execution_count": 13,
     "metadata": {},
     "output_type": "execute_result"
    }
   ]
  },
  {
   "cell_type": "code",
   "metadata": {
    "id": "ppqf8-XB2t0i",
    "ExecuteTime": {
     "end_time": "2024-01-10T07:39:36.817034Z",
     "start_time": "2024-01-10T07:39:36.780848Z"
    }
   },
   "source": [
    "sales_df.groupby('Country')['UnitPrice'].max()"
   ],
   "execution_count": 14,
   "outputs": [
    {
     "data": {
      "text/plain": "Country\nAustralia                 350.00\nAustria                    40.00\nBahrain                    12.75\nBelgium                    39.95\nBrazil                     10.95\nCanada                    550.94\nChannel Islands           293.00\nCyprus                    320.69\nCzech Republic             40.00\nDenmark                    18.00\nEIRE                     1917.00\nEuropean Community         18.00\nFinland                   275.60\nFrance                   4161.06\nGermany                   599.50\nGreece                     50.00\nHong Kong                2653.95\nIceland                    12.75\nIsrael                    125.00\nItaly                     300.00\nJapan                      45.57\nLebanon                    14.95\nLithuania                   5.95\nMalta                      65.00\nNetherlands               206.40\nNorway                    700.00\nPoland                     40.00\nPortugal                 1241.98\nRSA                        14.95\nSaudi Arabia                5.49\nSingapore                3949.32\nSpain                    1715.85\nSweden                     40.00\nSwitzerland                40.00\nUSA                        16.95\nUnited Arab Emirates       37.50\nUnited Kingdom          38970.00\nUnspecified                16.95\nName: UnitPrice, dtype: float64"
     },
     "execution_count": 14,
     "metadata": {},
     "output_type": "execute_result"
    }
   ]
  },
  {
   "cell_type": "code",
   "metadata": {
    "id": "TFGRhpKb41i6",
    "ExecuteTime": {
     "end_time": "2024-01-10T07:46:05.545892Z",
     "start_time": "2024-01-10T07:46:05.522173Z"
    }
   },
   "source": [
    "sales_df.groupby('InvoiceDate')['UnitPrice'].mean()"
   ],
   "execution_count": 15,
   "outputs": [
    {
     "data": {
      "text/plain": "InvoiceDate\n2010-12-01 08:26:00    3.910000\n2010-12-01 08:28:00    1.850000\n2010-12-01 08:34:00    4.833750\n2010-12-01 08:35:00    5.950000\n2010-12-01 08:45:00    2.764500\n                         ...   \n2011-12-09 12:23:00    1.650000\n2011-12-09 12:25:00    1.285000\n2011-12-09 12:31:00    1.799048\n2011-12-09 12:49:00    5.057500\n2011-12-09 12:50:00    2.966667\nName: UnitPrice, Length: 23260, dtype: float64"
     },
     "execution_count": 15,
     "metadata": {},
     "output_type": "execute_result"
    }
   ]
  },
  {
   "cell_type": "code",
   "metadata": {
    "id": "EjDRIhPo2t29",
    "ExecuteTime": {
     "end_time": "2024-01-10T07:46:50.028949Z",
     "start_time": "2024-01-10T07:46:49.969602Z"
    }
   },
   "source": [
    "sales_df.groupby(['Country','InvoiceDate'])['UnitPrice'].mean()"
   ],
   "execution_count": 16,
   "outputs": [
    {
     "data": {
      "text/plain": "Country      InvoiceDate        \nAustralia    2010-12-01 10:03:00    5.278571\n             2010-12-08 09:53:00    2.726250\n             2010-12-14 11:12:00    4.283333\n             2010-12-17 14:10:00    3.510000\n             2011-01-06 11:12:00    1.871304\n                                      ...   \nUnspecified  2011-08-22 10:18:00    2.381429\n             2011-08-22 13:32:00    8.115000\n             2011-09-02 12:17:00    1.642879\n             2011-11-16 10:18:00    2.339474\n             2011-11-24 14:55:00    2.107353\nName: UnitPrice, Length: 23616, dtype: float64"
     },
     "execution_count": 16,
     "metadata": {},
     "output_type": "execute_result"
    }
   ]
  },
  {
   "cell_type": "code",
   "metadata": {
    "id": "5cE53P4w2t5Y"
   },
   "source": [],
   "execution_count": null,
   "outputs": []
  },
  {
   "cell_type": "markdown",
   "metadata": {
    "id": "KftQG_rRRa2b"
   },
   "source": [
    "**MINI CHALLENGE #2:**\n",
    "- **What is the average, maximum and minimum prices on 2010-12-01 08:34:00**"
   ]
  },
  {
   "cell_type": "code",
   "metadata": {
    "id": "uzp16oavUjL-"
   },
   "source": [],
   "execution_count": null,
   "outputs": []
  },
  {
   "cell_type": "markdown",
   "metadata": {
    "id": "Skt-35zeYyDl"
   },
   "source": [
    "# 3. CREATE MULTI-INDEX DATAFRAME"
   ]
  },
  {
   "cell_type": "code",
   "metadata": {
    "id": "SouGsc0BY25T",
    "ExecuteTime": {
     "end_time": "2024-01-10T09:31:54.564239Z",
     "start_time": "2024-01-10T09:31:53.975789Z"
    }
   },
   "source": [
    "sales_df = pd.read_csv('../datasets/ecommerce_sales.csv',encoding='unicode_escape')\n",
    "sales_df"
   ],
   "execution_count": 20,
   "outputs": [
    {
     "data": {
      "text/plain": "       InvoiceNo StockCode                          Description  Quantity  \\\n0         536365    85123A   WHITE HANGING HEART T-LIGHT HOLDER         6   \n1         536365     71053                  WHITE METAL LANTERN         6   \n2         536365    84406B       CREAM CUPID HEARTS COAT HANGER         8   \n3         536365    84029G  KNITTED UNION FLAG HOT WATER BOTTLE         6   \n4         536365    84029E       RED WOOLLY HOTTIE WHITE HEART.         6   \n...          ...       ...                                  ...       ...   \n541904    581587     22613          PACK OF 20 SPACEBOY NAPKINS        12   \n541905    581587     22899         CHILDREN'S APRON DOLLY GIRL          6   \n541906    581587     23254        CHILDRENS CUTLERY DOLLY GIRL          4   \n541907    581587     23255      CHILDRENS CUTLERY CIRCUS PARADE         4   \n541908    581587     22138        BAKING SET 9 PIECE RETROSPOT          3   \n\n            InvoiceDate  UnitPrice  CustomerID         Country  \n0        12/1/2010 8:26       2.55     17850.0  United Kingdom  \n1        12/1/2010 8:26       3.39     17850.0  United Kingdom  \n2        12/1/2010 8:26       2.75     17850.0  United Kingdom  \n3        12/1/2010 8:26       3.39     17850.0  United Kingdom  \n4        12/1/2010 8:26       3.39     17850.0  United Kingdom  \n...                 ...        ...         ...             ...  \n541904  12/9/2011 12:50       0.85     12680.0          France  \n541905  12/9/2011 12:50       2.10     12680.0          France  \n541906  12/9/2011 12:50       4.15     12680.0          France  \n541907  12/9/2011 12:50       4.15     12680.0          France  \n541908  12/9/2011 12:50       4.95     12680.0          France  \n\n[541909 rows x 8 columns]",
      "text/html": "<div>\n<style scoped>\n    .dataframe tbody tr th:only-of-type {\n        vertical-align: middle;\n    }\n\n    .dataframe tbody tr th {\n        vertical-align: top;\n    }\n\n    .dataframe thead th {\n        text-align: right;\n    }\n</style>\n<table border=\"1\" class=\"dataframe\">\n  <thead>\n    <tr style=\"text-align: right;\">\n      <th></th>\n      <th>InvoiceNo</th>\n      <th>StockCode</th>\n      <th>Description</th>\n      <th>Quantity</th>\n      <th>InvoiceDate</th>\n      <th>UnitPrice</th>\n      <th>CustomerID</th>\n      <th>Country</th>\n    </tr>\n  </thead>\n  <tbody>\n    <tr>\n      <th>0</th>\n      <td>536365</td>\n      <td>85123A</td>\n      <td>WHITE HANGING HEART T-LIGHT HOLDER</td>\n      <td>6</td>\n      <td>12/1/2010 8:26</td>\n      <td>2.55</td>\n      <td>17850.0</td>\n      <td>United Kingdom</td>\n    </tr>\n    <tr>\n      <th>1</th>\n      <td>536365</td>\n      <td>71053</td>\n      <td>WHITE METAL LANTERN</td>\n      <td>6</td>\n      <td>12/1/2010 8:26</td>\n      <td>3.39</td>\n      <td>17850.0</td>\n      <td>United Kingdom</td>\n    </tr>\n    <tr>\n      <th>2</th>\n      <td>536365</td>\n      <td>84406B</td>\n      <td>CREAM CUPID HEARTS COAT HANGER</td>\n      <td>8</td>\n      <td>12/1/2010 8:26</td>\n      <td>2.75</td>\n      <td>17850.0</td>\n      <td>United Kingdom</td>\n    </tr>\n    <tr>\n      <th>3</th>\n      <td>536365</td>\n      <td>84029G</td>\n      <td>KNITTED UNION FLAG HOT WATER BOTTLE</td>\n      <td>6</td>\n      <td>12/1/2010 8:26</td>\n      <td>3.39</td>\n      <td>17850.0</td>\n      <td>United Kingdom</td>\n    </tr>\n    <tr>\n      <th>4</th>\n      <td>536365</td>\n      <td>84029E</td>\n      <td>RED WOOLLY HOTTIE WHITE HEART.</td>\n      <td>6</td>\n      <td>12/1/2010 8:26</td>\n      <td>3.39</td>\n      <td>17850.0</td>\n      <td>United Kingdom</td>\n    </tr>\n    <tr>\n      <th>...</th>\n      <td>...</td>\n      <td>...</td>\n      <td>...</td>\n      <td>...</td>\n      <td>...</td>\n      <td>...</td>\n      <td>...</td>\n      <td>...</td>\n    </tr>\n    <tr>\n      <th>541904</th>\n      <td>581587</td>\n      <td>22613</td>\n      <td>PACK OF 20 SPACEBOY NAPKINS</td>\n      <td>12</td>\n      <td>12/9/2011 12:50</td>\n      <td>0.85</td>\n      <td>12680.0</td>\n      <td>France</td>\n    </tr>\n    <tr>\n      <th>541905</th>\n      <td>581587</td>\n      <td>22899</td>\n      <td>CHILDREN'S APRON DOLLY GIRL</td>\n      <td>6</td>\n      <td>12/9/2011 12:50</td>\n      <td>2.10</td>\n      <td>12680.0</td>\n      <td>France</td>\n    </tr>\n    <tr>\n      <th>541906</th>\n      <td>581587</td>\n      <td>23254</td>\n      <td>CHILDRENS CUTLERY DOLLY GIRL</td>\n      <td>4</td>\n      <td>12/9/2011 12:50</td>\n      <td>4.15</td>\n      <td>12680.0</td>\n      <td>France</td>\n    </tr>\n    <tr>\n      <th>541907</th>\n      <td>581587</td>\n      <td>23255</td>\n      <td>CHILDRENS CUTLERY CIRCUS PARADE</td>\n      <td>4</td>\n      <td>12/9/2011 12:50</td>\n      <td>4.15</td>\n      <td>12680.0</td>\n      <td>France</td>\n    </tr>\n    <tr>\n      <th>541908</th>\n      <td>581587</td>\n      <td>22138</td>\n      <td>BAKING SET 9 PIECE RETROSPOT</td>\n      <td>3</td>\n      <td>12/9/2011 12:50</td>\n      <td>4.95</td>\n      <td>12680.0</td>\n      <td>France</td>\n    </tr>\n  </tbody>\n</table>\n<p>541909 rows × 8 columns</p>\n</div>"
     },
     "execution_count": 20,
     "metadata": {},
     "output_type": "execute_result"
    }
   ]
  },
  {
   "cell_type": "code",
   "metadata": {
    "id": "a2Y6U6VlY27-",
    "ExecuteTime": {
     "end_time": "2024-01-10T09:41:12.372017Z",
     "start_time": "2024-01-10T09:41:12.344526Z"
    }
   },
   "source": [
    "# You can select any column to be the index for the DataFrame\n",
    "# Use one column only as follows:\n",
    "sales_df.set_index(keys=['InvoiceDate'],inplace=True)\n",
    "sales_df"
   ],
   "execution_count": 21,
   "outputs": [
    {
     "data": {
      "text/plain": "                InvoiceNo StockCode                          Description  \\\nInvoiceDate                                                                \n12/1/2010 8:26     536365    85123A   WHITE HANGING HEART T-LIGHT HOLDER   \n12/1/2010 8:26     536365     71053                  WHITE METAL LANTERN   \n12/1/2010 8:26     536365    84406B       CREAM CUPID HEARTS COAT HANGER   \n12/1/2010 8:26     536365    84029G  KNITTED UNION FLAG HOT WATER BOTTLE   \n12/1/2010 8:26     536365    84029E       RED WOOLLY HOTTIE WHITE HEART.   \n...                   ...       ...                                  ...   \n12/9/2011 12:50    581587     22613          PACK OF 20 SPACEBOY NAPKINS   \n12/9/2011 12:50    581587     22899         CHILDREN'S APRON DOLLY GIRL    \n12/9/2011 12:50    581587     23254        CHILDRENS CUTLERY DOLLY GIRL    \n12/9/2011 12:50    581587     23255      CHILDRENS CUTLERY CIRCUS PARADE   \n12/9/2011 12:50    581587     22138        BAKING SET 9 PIECE RETROSPOT    \n\n                 Quantity  UnitPrice  CustomerID         Country  \nInvoiceDate                                                       \n12/1/2010 8:26          6       2.55     17850.0  United Kingdom  \n12/1/2010 8:26          6       3.39     17850.0  United Kingdom  \n12/1/2010 8:26          8       2.75     17850.0  United Kingdom  \n12/1/2010 8:26          6       3.39     17850.0  United Kingdom  \n12/1/2010 8:26          6       3.39     17850.0  United Kingdom  \n...                   ...        ...         ...             ...  \n12/9/2011 12:50        12       0.85     12680.0          France  \n12/9/2011 12:50         6       2.10     12680.0          France  \n12/9/2011 12:50         4       4.15     12680.0          France  \n12/9/2011 12:50         4       4.15     12680.0          France  \n12/9/2011 12:50         3       4.95     12680.0          France  \n\n[541909 rows x 7 columns]",
      "text/html": "<div>\n<style scoped>\n    .dataframe tbody tr th:only-of-type {\n        vertical-align: middle;\n    }\n\n    .dataframe tbody tr th {\n        vertical-align: top;\n    }\n\n    .dataframe thead th {\n        text-align: right;\n    }\n</style>\n<table border=\"1\" class=\"dataframe\">\n  <thead>\n    <tr style=\"text-align: right;\">\n      <th></th>\n      <th>InvoiceNo</th>\n      <th>StockCode</th>\n      <th>Description</th>\n      <th>Quantity</th>\n      <th>UnitPrice</th>\n      <th>CustomerID</th>\n      <th>Country</th>\n    </tr>\n    <tr>\n      <th>InvoiceDate</th>\n      <th></th>\n      <th></th>\n      <th></th>\n      <th></th>\n      <th></th>\n      <th></th>\n      <th></th>\n    </tr>\n  </thead>\n  <tbody>\n    <tr>\n      <th>12/1/2010 8:26</th>\n      <td>536365</td>\n      <td>85123A</td>\n      <td>WHITE HANGING HEART T-LIGHT HOLDER</td>\n      <td>6</td>\n      <td>2.55</td>\n      <td>17850.0</td>\n      <td>United Kingdom</td>\n    </tr>\n    <tr>\n      <th>12/1/2010 8:26</th>\n      <td>536365</td>\n      <td>71053</td>\n      <td>WHITE METAL LANTERN</td>\n      <td>6</td>\n      <td>3.39</td>\n      <td>17850.0</td>\n      <td>United Kingdom</td>\n    </tr>\n    <tr>\n      <th>12/1/2010 8:26</th>\n      <td>536365</td>\n      <td>84406B</td>\n      <td>CREAM CUPID HEARTS COAT HANGER</td>\n      <td>8</td>\n      <td>2.75</td>\n      <td>17850.0</td>\n      <td>United Kingdom</td>\n    </tr>\n    <tr>\n      <th>12/1/2010 8:26</th>\n      <td>536365</td>\n      <td>84029G</td>\n      <td>KNITTED UNION FLAG HOT WATER BOTTLE</td>\n      <td>6</td>\n      <td>3.39</td>\n      <td>17850.0</td>\n      <td>United Kingdom</td>\n    </tr>\n    <tr>\n      <th>12/1/2010 8:26</th>\n      <td>536365</td>\n      <td>84029E</td>\n      <td>RED WOOLLY HOTTIE WHITE HEART.</td>\n      <td>6</td>\n      <td>3.39</td>\n      <td>17850.0</td>\n      <td>United Kingdom</td>\n    </tr>\n    <tr>\n      <th>...</th>\n      <td>...</td>\n      <td>...</td>\n      <td>...</td>\n      <td>...</td>\n      <td>...</td>\n      <td>...</td>\n      <td>...</td>\n    </tr>\n    <tr>\n      <th>12/9/2011 12:50</th>\n      <td>581587</td>\n      <td>22613</td>\n      <td>PACK OF 20 SPACEBOY NAPKINS</td>\n      <td>12</td>\n      <td>0.85</td>\n      <td>12680.0</td>\n      <td>France</td>\n    </tr>\n    <tr>\n      <th>12/9/2011 12:50</th>\n      <td>581587</td>\n      <td>22899</td>\n      <td>CHILDREN'S APRON DOLLY GIRL</td>\n      <td>6</td>\n      <td>2.10</td>\n      <td>12680.0</td>\n      <td>France</td>\n    </tr>\n    <tr>\n      <th>12/9/2011 12:50</th>\n      <td>581587</td>\n      <td>23254</td>\n      <td>CHILDRENS CUTLERY DOLLY GIRL</td>\n      <td>4</td>\n      <td>4.15</td>\n      <td>12680.0</td>\n      <td>France</td>\n    </tr>\n    <tr>\n      <th>12/9/2011 12:50</th>\n      <td>581587</td>\n      <td>23255</td>\n      <td>CHILDRENS CUTLERY CIRCUS PARADE</td>\n      <td>4</td>\n      <td>4.15</td>\n      <td>12680.0</td>\n      <td>France</td>\n    </tr>\n    <tr>\n      <th>12/9/2011 12:50</th>\n      <td>581587</td>\n      <td>22138</td>\n      <td>BAKING SET 9 PIECE RETROSPOT</td>\n      <td>3</td>\n      <td>4.95</td>\n      <td>12680.0</td>\n      <td>France</td>\n    </tr>\n  </tbody>\n</table>\n<p>541909 rows × 7 columns</p>\n</div>"
     },
     "execution_count": 21,
     "metadata": {},
     "output_type": "execute_result"
    }
   ]
  },
  {
   "cell_type": "code",
   "metadata": {
    "id": "hSedV2YAaWbk",
    "ExecuteTime": {
     "end_time": "2024-01-10T09:41:38.041165Z",
     "start_time": "2024-01-10T09:41:38.017446Z"
    }
   },
   "source": [
    "# Let's see how many unique countries are present in the dataframe\n",
    "sales_df['Country'].unique()"
   ],
   "execution_count": 22,
   "outputs": [
    {
     "data": {
      "text/plain": "array(['United Kingdom', 'France', 'Australia', 'Netherlands', 'Germany',\n       'Norway', 'EIRE', 'Switzerland', 'Spain', 'Poland', 'Portugal',\n       'Italy', 'Belgium', 'Lithuania', 'Japan', 'Iceland',\n       'Channel Islands', 'Denmark', 'Cyprus', 'Sweden', 'Austria',\n       'Israel', 'Finland', 'Bahrain', 'Greece', 'Hong Kong', 'Singapore',\n       'Lebanon', 'United Arab Emirates', 'Saudi Arabia',\n       'Czech Republic', 'Canada', 'Unspecified', 'Brazil', 'USA',\n       'European Community', 'Malta', 'RSA'], dtype=object)"
     },
     "execution_count": 22,
     "metadata": {},
     "output_type": "execute_result"
    }
   ]
  },
  {
   "cell_type": "code",
   "metadata": {
    "id": "ojE8OQF7Y2_3",
    "ExecuteTime": {
     "end_time": "2024-01-10T09:43:37.019131Z",
     "start_time": "2024-01-10T09:43:36.409881Z"
    }
   },
   "source": [
    "# Alternatively, We can have multiple keys (indexes) using Pandas Multi-indexing\n",
    "# Take the columns with the least number of unique values and use it for the outermost index\n",
    "\n",
    "# Let's import the dataset again using Pandas\n",
    "sales_df = pd.read_csv('../datasets/ecommerce_sales.csv',encoding='unicode_escape')\n",
    "sales_df.set_index(keys=['Country','InvoiceDate'],inplace=True)\n",
    "sales_df"
   ],
   "execution_count": 24,
   "outputs": [
    {
     "data": {
      "text/plain": "                               InvoiceNo StockCode  \\\nCountry        InvoiceDate                           \nUnited Kingdom 12/1/2010 8:26     536365    85123A   \n               12/1/2010 8:26     536365     71053   \n               12/1/2010 8:26     536365    84406B   \n               12/1/2010 8:26     536365    84029G   \n               12/1/2010 8:26     536365    84029E   \n...                                  ...       ...   \nFrance         12/9/2011 12:50    581587     22613   \n               12/9/2011 12:50    581587     22899   \n               12/9/2011 12:50    581587     23254   \n               12/9/2011 12:50    581587     23255   \n               12/9/2011 12:50    581587     22138   \n\n                                                        Description  Quantity  \\\nCountry        InvoiceDate                                                      \nUnited Kingdom 12/1/2010 8:26    WHITE HANGING HEART T-LIGHT HOLDER         6   \n               12/1/2010 8:26                   WHITE METAL LANTERN         6   \n               12/1/2010 8:26        CREAM CUPID HEARTS COAT HANGER         8   \n               12/1/2010 8:26   KNITTED UNION FLAG HOT WATER BOTTLE         6   \n               12/1/2010 8:26        RED WOOLLY HOTTIE WHITE HEART.         6   \n...                                                             ...       ...   \nFrance         12/9/2011 12:50          PACK OF 20 SPACEBOY NAPKINS        12   \n               12/9/2011 12:50         CHILDREN'S APRON DOLLY GIRL          6   \n               12/9/2011 12:50        CHILDRENS CUTLERY DOLLY GIRL          4   \n               12/9/2011 12:50      CHILDRENS CUTLERY CIRCUS PARADE         4   \n               12/9/2011 12:50        BAKING SET 9 PIECE RETROSPOT          3   \n\n                                UnitPrice  CustomerID  \nCountry        InvoiceDate                             \nUnited Kingdom 12/1/2010 8:26        2.55     17850.0  \n               12/1/2010 8:26        3.39     17850.0  \n               12/1/2010 8:26        2.75     17850.0  \n               12/1/2010 8:26        3.39     17850.0  \n               12/1/2010 8:26        3.39     17850.0  \n...                                   ...         ...  \nFrance         12/9/2011 12:50       0.85     12680.0  \n               12/9/2011 12:50       2.10     12680.0  \n               12/9/2011 12:50       4.15     12680.0  \n               12/9/2011 12:50       4.15     12680.0  \n               12/9/2011 12:50       4.95     12680.0  \n\n[541909 rows x 6 columns]",
      "text/html": "<div>\n<style scoped>\n    .dataframe tbody tr th:only-of-type {\n        vertical-align: middle;\n    }\n\n    .dataframe tbody tr th {\n        vertical-align: top;\n    }\n\n    .dataframe thead th {\n        text-align: right;\n    }\n</style>\n<table border=\"1\" class=\"dataframe\">\n  <thead>\n    <tr style=\"text-align: right;\">\n      <th></th>\n      <th></th>\n      <th>InvoiceNo</th>\n      <th>StockCode</th>\n      <th>Description</th>\n      <th>Quantity</th>\n      <th>UnitPrice</th>\n      <th>CustomerID</th>\n    </tr>\n    <tr>\n      <th>Country</th>\n      <th>InvoiceDate</th>\n      <th></th>\n      <th></th>\n      <th></th>\n      <th></th>\n      <th></th>\n      <th></th>\n    </tr>\n  </thead>\n  <tbody>\n    <tr>\n      <th rowspan=\"5\" valign=\"top\">United Kingdom</th>\n      <th>12/1/2010 8:26</th>\n      <td>536365</td>\n      <td>85123A</td>\n      <td>WHITE HANGING HEART T-LIGHT HOLDER</td>\n      <td>6</td>\n      <td>2.55</td>\n      <td>17850.0</td>\n    </tr>\n    <tr>\n      <th>12/1/2010 8:26</th>\n      <td>536365</td>\n      <td>71053</td>\n      <td>WHITE METAL LANTERN</td>\n      <td>6</td>\n      <td>3.39</td>\n      <td>17850.0</td>\n    </tr>\n    <tr>\n      <th>12/1/2010 8:26</th>\n      <td>536365</td>\n      <td>84406B</td>\n      <td>CREAM CUPID HEARTS COAT HANGER</td>\n      <td>8</td>\n      <td>2.75</td>\n      <td>17850.0</td>\n    </tr>\n    <tr>\n      <th>12/1/2010 8:26</th>\n      <td>536365</td>\n      <td>84029G</td>\n      <td>KNITTED UNION FLAG HOT WATER BOTTLE</td>\n      <td>6</td>\n      <td>3.39</td>\n      <td>17850.0</td>\n    </tr>\n    <tr>\n      <th>12/1/2010 8:26</th>\n      <td>536365</td>\n      <td>84029E</td>\n      <td>RED WOOLLY HOTTIE WHITE HEART.</td>\n      <td>6</td>\n      <td>3.39</td>\n      <td>17850.0</td>\n    </tr>\n    <tr>\n      <th>...</th>\n      <th>...</th>\n      <td>...</td>\n      <td>...</td>\n      <td>...</td>\n      <td>...</td>\n      <td>...</td>\n      <td>...</td>\n    </tr>\n    <tr>\n      <th rowspan=\"5\" valign=\"top\">France</th>\n      <th>12/9/2011 12:50</th>\n      <td>581587</td>\n      <td>22613</td>\n      <td>PACK OF 20 SPACEBOY NAPKINS</td>\n      <td>12</td>\n      <td>0.85</td>\n      <td>12680.0</td>\n    </tr>\n    <tr>\n      <th>12/9/2011 12:50</th>\n      <td>581587</td>\n      <td>22899</td>\n      <td>CHILDREN'S APRON DOLLY GIRL</td>\n      <td>6</td>\n      <td>2.10</td>\n      <td>12680.0</td>\n    </tr>\n    <tr>\n      <th>12/9/2011 12:50</th>\n      <td>581587</td>\n      <td>23254</td>\n      <td>CHILDRENS CUTLERY DOLLY GIRL</td>\n      <td>4</td>\n      <td>4.15</td>\n      <td>12680.0</td>\n    </tr>\n    <tr>\n      <th>12/9/2011 12:50</th>\n      <td>581587</td>\n      <td>23255</td>\n      <td>CHILDRENS CUTLERY CIRCUS PARADE</td>\n      <td>4</td>\n      <td>4.15</td>\n      <td>12680.0</td>\n    </tr>\n    <tr>\n      <th>12/9/2011 12:50</th>\n      <td>581587</td>\n      <td>22138</td>\n      <td>BAKING SET 9 PIECE RETROSPOT</td>\n      <td>3</td>\n      <td>4.95</td>\n      <td>12680.0</td>\n    </tr>\n  </tbody>\n</table>\n<p>541909 rows × 6 columns</p>\n</div>"
     },
     "execution_count": 24,
     "metadata": {},
     "output_type": "execute_result"
    }
   ]
  },
  {
   "cell_type": "code",
   "metadata": {
    "id": "lAm9yjqMkazG",
    "ExecuteTime": {
     "end_time": "2024-01-10T09:44:09.098637Z",
     "start_time": "2024-01-10T09:44:09.037171Z"
    }
   },
   "source": [
    "# Sort countries to start with alphabetical order\n",
    "sales_df.sort_index(inplace=True)\n",
    "sales_df"
   ],
   "execution_count": 26,
   "outputs": [
    {
     "data": {
      "text/plain": "                           InvoiceNo StockCode  \\\nCountry     InvoiceDate                          \nAustralia   1/10/2011 9:58    540557     22523   \n            1/11/2011 9:47    540700     21581   \n            1/11/2011 9:47    540700     22619   \n            1/11/2011 9:47    540700    84997B   \n            1/11/2011 9:47    540700     20727   \n...                              ...       ...   \nUnspecified 9/2/2011 12:17    565303     85227   \n            9/2/2011 12:17    565303     22138   \n            9/2/2011 12:17    565303     21889   \n            9/2/2011 12:17    565303     22550   \n            9/2/2011 12:17    565303     23127   \n\n                                                  Description  Quantity  \\\nCountry     InvoiceDate                                                   \nAustralia   1/10/2011 9:58            CHILDS GARDEN FORK PINK        96   \n            1/11/2011 9:47    SKULLS  DESIGN  COTTON TOTE BAG         6   \n            1/11/2011 9:47          SET OF 6 SOLDIER SKITTLES         8   \n            1/11/2011 9:47  RED 3 PIECE RETROSPOT CUTLERY SET         6   \n            1/11/2011 9:47            LUNCH BAG  BLACK SKULL.        20   \n...                                                       ...       ...   \nUnspecified 9/2/2011 12:17     SET OF 6 3D KIT CARDS FOR KIDS         4   \n            9/2/2011 12:17      BAKING SET 9 PIECE RETROSPOT          2   \n            9/2/2011 12:17             WOODEN BOX OF DOMINOES         5   \n            9/2/2011 12:17                   HOLIDAY FUN LUDO         2   \n            9/2/2011 12:17          FELTCRAFT GIRL NICOLE KIT         1   \n\n                            UnitPrice  CustomerID  \nCountry     InvoiceDate                            \nAustralia   1/10/2011 9:58       0.85     12415.0  \n            1/11/2011 9:47       2.25     12393.0  \n            1/11/2011 9:47       3.75     12393.0  \n            1/11/2011 9:47       3.75     12393.0  \n            1/11/2011 9:47       1.65     12393.0  \n...                               ...         ...  \nUnspecified 9/2/2011 12:17       0.85         NaN  \n            9/2/2011 12:17       4.95         NaN  \n            9/2/2011 12:17       1.25         NaN  \n            9/2/2011 12:17       3.75         NaN  \n            9/2/2011 12:17       4.95         NaN  \n\n[541909 rows x 6 columns]",
      "text/html": "<div>\n<style scoped>\n    .dataframe tbody tr th:only-of-type {\n        vertical-align: middle;\n    }\n\n    .dataframe tbody tr th {\n        vertical-align: top;\n    }\n\n    .dataframe thead th {\n        text-align: right;\n    }\n</style>\n<table border=\"1\" class=\"dataframe\">\n  <thead>\n    <tr style=\"text-align: right;\">\n      <th></th>\n      <th></th>\n      <th>InvoiceNo</th>\n      <th>StockCode</th>\n      <th>Description</th>\n      <th>Quantity</th>\n      <th>UnitPrice</th>\n      <th>CustomerID</th>\n    </tr>\n    <tr>\n      <th>Country</th>\n      <th>InvoiceDate</th>\n      <th></th>\n      <th></th>\n      <th></th>\n      <th></th>\n      <th></th>\n      <th></th>\n    </tr>\n  </thead>\n  <tbody>\n    <tr>\n      <th rowspan=\"5\" valign=\"top\">Australia</th>\n      <th>1/10/2011 9:58</th>\n      <td>540557</td>\n      <td>22523</td>\n      <td>CHILDS GARDEN FORK PINK</td>\n      <td>96</td>\n      <td>0.85</td>\n      <td>12415.0</td>\n    </tr>\n    <tr>\n      <th>1/11/2011 9:47</th>\n      <td>540700</td>\n      <td>21581</td>\n      <td>SKULLS  DESIGN  COTTON TOTE BAG</td>\n      <td>6</td>\n      <td>2.25</td>\n      <td>12393.0</td>\n    </tr>\n    <tr>\n      <th>1/11/2011 9:47</th>\n      <td>540700</td>\n      <td>22619</td>\n      <td>SET OF 6 SOLDIER SKITTLES</td>\n      <td>8</td>\n      <td>3.75</td>\n      <td>12393.0</td>\n    </tr>\n    <tr>\n      <th>1/11/2011 9:47</th>\n      <td>540700</td>\n      <td>84997B</td>\n      <td>RED 3 PIECE RETROSPOT CUTLERY SET</td>\n      <td>6</td>\n      <td>3.75</td>\n      <td>12393.0</td>\n    </tr>\n    <tr>\n      <th>1/11/2011 9:47</th>\n      <td>540700</td>\n      <td>20727</td>\n      <td>LUNCH BAG  BLACK SKULL.</td>\n      <td>20</td>\n      <td>1.65</td>\n      <td>12393.0</td>\n    </tr>\n    <tr>\n      <th>...</th>\n      <th>...</th>\n      <td>...</td>\n      <td>...</td>\n      <td>...</td>\n      <td>...</td>\n      <td>...</td>\n      <td>...</td>\n    </tr>\n    <tr>\n      <th rowspan=\"5\" valign=\"top\">Unspecified</th>\n      <th>9/2/2011 12:17</th>\n      <td>565303</td>\n      <td>85227</td>\n      <td>SET OF 6 3D KIT CARDS FOR KIDS</td>\n      <td>4</td>\n      <td>0.85</td>\n      <td>NaN</td>\n    </tr>\n    <tr>\n      <th>9/2/2011 12:17</th>\n      <td>565303</td>\n      <td>22138</td>\n      <td>BAKING SET 9 PIECE RETROSPOT</td>\n      <td>2</td>\n      <td>4.95</td>\n      <td>NaN</td>\n    </tr>\n    <tr>\n      <th>9/2/2011 12:17</th>\n      <td>565303</td>\n      <td>21889</td>\n      <td>WOODEN BOX OF DOMINOES</td>\n      <td>5</td>\n      <td>1.25</td>\n      <td>NaN</td>\n    </tr>\n    <tr>\n      <th>9/2/2011 12:17</th>\n      <td>565303</td>\n      <td>22550</td>\n      <td>HOLIDAY FUN LUDO</td>\n      <td>2</td>\n      <td>3.75</td>\n      <td>NaN</td>\n    </tr>\n    <tr>\n      <th>9/2/2011 12:17</th>\n      <td>565303</td>\n      <td>23127</td>\n      <td>FELTCRAFT GIRL NICOLE KIT</td>\n      <td>1</td>\n      <td>4.95</td>\n      <td>NaN</td>\n    </tr>\n  </tbody>\n</table>\n<p>541909 rows × 6 columns</p>\n</div>"
     },
     "execution_count": 26,
     "metadata": {},
     "output_type": "execute_result"
    }
   ]
  },
  {
   "cell_type": "code",
   "metadata": {
    "id": "1MKNr_9WkkQn",
    "ExecuteTime": {
     "end_time": "2024-01-10T09:47:16.508096Z",
     "start_time": "2024-01-10T09:47:16.485857Z"
    }
   },
   "source": [
    "# Now you need more than one index to access any element\n",
    "sales_df.index"
   ],
   "execution_count": 27,
   "outputs": [
    {
     "data": {
      "text/plain": "MultiIndex([(  'Australia', '1/10/2011 9:58'),\n            (  'Australia', '1/11/2011 9:47'),\n            (  'Australia', '1/11/2011 9:47'),\n            (  'Australia', '1/11/2011 9:47'),\n            (  'Australia', '1/11/2011 9:47'),\n            (  'Australia', '1/11/2011 9:47'),\n            (  'Australia', '1/11/2011 9:47'),\n            (  'Australia', '1/11/2011 9:47'),\n            (  'Australia', '1/11/2011 9:47'),\n            (  'Australia', '1/11/2011 9:47'),\n            ...\n            ('Unspecified', '9/2/2011 12:17'),\n            ('Unspecified', '9/2/2011 12:17'),\n            ('Unspecified', '9/2/2011 12:17'),\n            ('Unspecified', '9/2/2011 12:17'),\n            ('Unspecified', '9/2/2011 12:17'),\n            ('Unspecified', '9/2/2011 12:17'),\n            ('Unspecified', '9/2/2011 12:17'),\n            ('Unspecified', '9/2/2011 12:17'),\n            ('Unspecified', '9/2/2011 12:17'),\n            ('Unspecified', '9/2/2011 12:17')],\n           names=['Country', 'InvoiceDate'], length=541909)"
     },
     "execution_count": 27,
     "metadata": {},
     "output_type": "execute_result"
    }
   ]
  },
  {
   "cell_type": "code",
   "metadata": {
    "id": "ullJMBP6kpi7",
    "ExecuteTime": {
     "end_time": "2024-01-10T09:47:45.816531Z",
     "start_time": "2024-01-10T09:47:45.795221Z"
    }
   },
   "source": [
    "sales_df.index.names"
   ],
   "execution_count": 29,
   "outputs": [
    {
     "data": {
      "text/plain": "FrozenList(['Country', 'InvoiceDate'])"
     },
     "execution_count": 29,
     "metadata": {},
     "output_type": "execute_result"
    }
   ]
  },
  {
   "cell_type": "code",
   "metadata": {
    "id": "XpRZZy31kpli",
    "ExecuteTime": {
     "end_time": "2024-01-10T09:47:53.229205Z",
     "start_time": "2024-01-10T09:47:53.207583Z"
    }
   },
   "source": [
    "# Multiindex objects\n",
    "type(sales_df.index)"
   ],
   "execution_count": 30,
   "outputs": [
    {
     "data": {
      "text/plain": "pandas.core.indexes.multi.MultiIndex"
     },
     "execution_count": 30,
     "metadata": {},
     "output_type": "execute_result"
    }
   ]
  },
  {
   "cell_type": "code",
   "metadata": {
    "id": "VWSectKNkpoT",
    "ExecuteTime": {
     "end_time": "2024-01-10T09:48:05.324089Z",
     "start_time": "2024-01-10T09:48:05.277778Z"
    }
   },
   "source": [
    "# It gives out the datetime and the country as well\n",
    "sales_df.index[0]"
   ],
   "execution_count": 31,
   "outputs": [
    {
     "data": {
      "text/plain": "('Australia', '1/10/2011 9:58')"
     },
     "execution_count": 31,
     "metadata": {},
     "output_type": "execute_result"
    }
   ]
  },
  {
   "cell_type": "markdown",
   "metadata": {
    "id": "bcjijKoOVy72"
   },
   "source": [
    "**MINI CHALLENGE #3:**\n",
    "- **Sort the DataFrame in a descending order (countries and dates)**"
   ]
  },
  {
   "cell_type": "code",
   "metadata": {
    "id": "g58yGNL-XcyN"
   },
   "source": [],
   "execution_count": null,
   "outputs": []
  },
  {
   "cell_type": "markdown",
   "metadata": {
    "id": "ZXor3Qk3mPbu"
   },
   "source": [
    "# 4. MULTI-INDEXING OPERATIONS - PART #1"
   ]
  },
  {
   "cell_type": "code",
   "metadata": {
    "id": "brgnizTfmaRM",
    "ExecuteTime": {
     "end_time": "2024-01-10T09:50:13.230497Z",
     "start_time": "2024-01-10T09:50:12.621119Z"
    }
   },
   "source": [
    "sales_df = pd.read_csv('../datasets/ecommerce_sales.csv',encoding='unicode_escape')\n",
    "sales_df.set_index(keys=['Country','InvoiceDate'],inplace=True) \n",
    "sales_df"
   ],
   "execution_count": 34,
   "outputs": [
    {
     "data": {
      "text/plain": "                               InvoiceNo StockCode  \\\nCountry        InvoiceDate                           \nUnited Kingdom 12/1/2010 8:26     536365    85123A   \n               12/1/2010 8:26     536365     71053   \n               12/1/2010 8:26     536365    84406B   \n               12/1/2010 8:26     536365    84029G   \n               12/1/2010 8:26     536365    84029E   \n...                                  ...       ...   \nFrance         12/9/2011 12:50    581587     22613   \n               12/9/2011 12:50    581587     22899   \n               12/9/2011 12:50    581587     23254   \n               12/9/2011 12:50    581587     23255   \n               12/9/2011 12:50    581587     22138   \n\n                                                        Description  Quantity  \\\nCountry        InvoiceDate                                                      \nUnited Kingdom 12/1/2010 8:26    WHITE HANGING HEART T-LIGHT HOLDER         6   \n               12/1/2010 8:26                   WHITE METAL LANTERN         6   \n               12/1/2010 8:26        CREAM CUPID HEARTS COAT HANGER         8   \n               12/1/2010 8:26   KNITTED UNION FLAG HOT WATER BOTTLE         6   \n               12/1/2010 8:26        RED WOOLLY HOTTIE WHITE HEART.         6   \n...                                                             ...       ...   \nFrance         12/9/2011 12:50          PACK OF 20 SPACEBOY NAPKINS        12   \n               12/9/2011 12:50         CHILDREN'S APRON DOLLY GIRL          6   \n               12/9/2011 12:50        CHILDRENS CUTLERY DOLLY GIRL          4   \n               12/9/2011 12:50      CHILDRENS CUTLERY CIRCUS PARADE         4   \n               12/9/2011 12:50        BAKING SET 9 PIECE RETROSPOT          3   \n\n                                UnitPrice  CustomerID  \nCountry        InvoiceDate                             \nUnited Kingdom 12/1/2010 8:26        2.55     17850.0  \n               12/1/2010 8:26        3.39     17850.0  \n               12/1/2010 8:26        2.75     17850.0  \n               12/1/2010 8:26        3.39     17850.0  \n               12/1/2010 8:26        3.39     17850.0  \n...                                   ...         ...  \nFrance         12/9/2011 12:50       0.85     12680.0  \n               12/9/2011 12:50       2.10     12680.0  \n               12/9/2011 12:50       4.15     12680.0  \n               12/9/2011 12:50       4.15     12680.0  \n               12/9/2011 12:50       4.95     12680.0  \n\n[541909 rows x 6 columns]",
      "text/html": "<div>\n<style scoped>\n    .dataframe tbody tr th:only-of-type {\n        vertical-align: middle;\n    }\n\n    .dataframe tbody tr th {\n        vertical-align: top;\n    }\n\n    .dataframe thead th {\n        text-align: right;\n    }\n</style>\n<table border=\"1\" class=\"dataframe\">\n  <thead>\n    <tr style=\"text-align: right;\">\n      <th></th>\n      <th></th>\n      <th>InvoiceNo</th>\n      <th>StockCode</th>\n      <th>Description</th>\n      <th>Quantity</th>\n      <th>UnitPrice</th>\n      <th>CustomerID</th>\n    </tr>\n    <tr>\n      <th>Country</th>\n      <th>InvoiceDate</th>\n      <th></th>\n      <th></th>\n      <th></th>\n      <th></th>\n      <th></th>\n      <th></th>\n    </tr>\n  </thead>\n  <tbody>\n    <tr>\n      <th rowspan=\"5\" valign=\"top\">United Kingdom</th>\n      <th>12/1/2010 8:26</th>\n      <td>536365</td>\n      <td>85123A</td>\n      <td>WHITE HANGING HEART T-LIGHT HOLDER</td>\n      <td>6</td>\n      <td>2.55</td>\n      <td>17850.0</td>\n    </tr>\n    <tr>\n      <th>12/1/2010 8:26</th>\n      <td>536365</td>\n      <td>71053</td>\n      <td>WHITE METAL LANTERN</td>\n      <td>6</td>\n      <td>3.39</td>\n      <td>17850.0</td>\n    </tr>\n    <tr>\n      <th>12/1/2010 8:26</th>\n      <td>536365</td>\n      <td>84406B</td>\n      <td>CREAM CUPID HEARTS COAT HANGER</td>\n      <td>8</td>\n      <td>2.75</td>\n      <td>17850.0</td>\n    </tr>\n    <tr>\n      <th>12/1/2010 8:26</th>\n      <td>536365</td>\n      <td>84029G</td>\n      <td>KNITTED UNION FLAG HOT WATER BOTTLE</td>\n      <td>6</td>\n      <td>3.39</td>\n      <td>17850.0</td>\n    </tr>\n    <tr>\n      <th>12/1/2010 8:26</th>\n      <td>536365</td>\n      <td>84029E</td>\n      <td>RED WOOLLY HOTTIE WHITE HEART.</td>\n      <td>6</td>\n      <td>3.39</td>\n      <td>17850.0</td>\n    </tr>\n    <tr>\n      <th>...</th>\n      <th>...</th>\n      <td>...</td>\n      <td>...</td>\n      <td>...</td>\n      <td>...</td>\n      <td>...</td>\n      <td>...</td>\n    </tr>\n    <tr>\n      <th rowspan=\"5\" valign=\"top\">France</th>\n      <th>12/9/2011 12:50</th>\n      <td>581587</td>\n      <td>22613</td>\n      <td>PACK OF 20 SPACEBOY NAPKINS</td>\n      <td>12</td>\n      <td>0.85</td>\n      <td>12680.0</td>\n    </tr>\n    <tr>\n      <th>12/9/2011 12:50</th>\n      <td>581587</td>\n      <td>22899</td>\n      <td>CHILDREN'S APRON DOLLY GIRL</td>\n      <td>6</td>\n      <td>2.10</td>\n      <td>12680.0</td>\n    </tr>\n    <tr>\n      <th>12/9/2011 12:50</th>\n      <td>581587</td>\n      <td>23254</td>\n      <td>CHILDRENS CUTLERY DOLLY GIRL</td>\n      <td>4</td>\n      <td>4.15</td>\n      <td>12680.0</td>\n    </tr>\n    <tr>\n      <th>12/9/2011 12:50</th>\n      <td>581587</td>\n      <td>23255</td>\n      <td>CHILDRENS CUTLERY CIRCUS PARADE</td>\n      <td>4</td>\n      <td>4.15</td>\n      <td>12680.0</td>\n    </tr>\n    <tr>\n      <th>12/9/2011 12:50</th>\n      <td>581587</td>\n      <td>22138</td>\n      <td>BAKING SET 9 PIECE RETROSPOT</td>\n      <td>3</td>\n      <td>4.95</td>\n      <td>12680.0</td>\n    </tr>\n  </tbody>\n</table>\n<p>541909 rows × 6 columns</p>\n</div>"
     },
     "execution_count": 34,
     "metadata": {},
     "output_type": "execute_result"
    }
   ]
  },
  {
   "cell_type": "code",
   "metadata": {
    "id": "sYxbJcZnmVS2",
    "ExecuteTime": {
     "end_time": "2024-01-10T09:50:42.742063Z",
     "start_time": "2024-01-10T09:50:42.683618Z"
    }
   },
   "source": [
    "sales_df.index.get_level_values(0)"
   ],
   "execution_count": 35,
   "outputs": [
    {
     "data": {
      "text/plain": "Index(['United Kingdom', 'United Kingdom', 'United Kingdom', 'United Kingdom',\n       'United Kingdom', 'United Kingdom', 'United Kingdom', 'United Kingdom',\n       'United Kingdom', 'United Kingdom',\n       ...\n       'France', 'France', 'France', 'France', 'France', 'France', 'France',\n       'France', 'France', 'France'],\n      dtype='object', name='Country', length=541909)"
     },
     "execution_count": 35,
     "metadata": {},
     "output_type": "execute_result"
    }
   ]
  },
  {
   "cell_type": "code",
   "metadata": {
    "id": "M-YKNsOqmVVA",
    "ExecuteTime": {
     "end_time": "2024-01-10T09:50:55.587415Z",
     "start_time": "2024-01-10T09:50:55.553962Z"
    }
   },
   "source": [
    "sales_df.index.get_level_values(1)\n"
   ],
   "execution_count": 36,
   "outputs": [
    {
     "data": {
      "text/plain": "Index(['12/1/2010 8:26', '12/1/2010 8:26', '12/1/2010 8:26', '12/1/2010 8:26',\n       '12/1/2010 8:26', '12/1/2010 8:26', '12/1/2010 8:26', '12/1/2010 8:28',\n       '12/1/2010 8:28', '12/1/2010 8:34',\n       ...\n       '12/9/2011 12:50', '12/9/2011 12:50', '12/9/2011 12:50',\n       '12/9/2011 12:50', '12/9/2011 12:50', '12/9/2011 12:50',\n       '12/9/2011 12:50', '12/9/2011 12:50', '12/9/2011 12:50',\n       '12/9/2011 12:50'],\n      dtype='object', name='InvoiceDate', length=541909)"
     },
     "execution_count": 36,
     "metadata": {},
     "output_type": "execute_result"
    }
   ]
  },
  {
   "cell_type": "code",
   "metadata": {
    "id": "uzjCn7gWmVXi",
    "ExecuteTime": {
     "end_time": "2024-01-10T09:51:42.938453Z",
     "start_time": "2024-01-10T09:51:42.891077Z"
    }
   },
   "source": [
    "sales_df.index.get_level_values('Country')"
   ],
   "execution_count": 37,
   "outputs": [
    {
     "data": {
      "text/plain": "Index(['United Kingdom', 'United Kingdom', 'United Kingdom', 'United Kingdom',\n       'United Kingdom', 'United Kingdom', 'United Kingdom', 'United Kingdom',\n       'United Kingdom', 'United Kingdom',\n       ...\n       'France', 'France', 'France', 'France', 'France', 'France', 'France',\n       'France', 'France', 'France'],\n      dtype='object', name='Country', length=541909)"
     },
     "execution_count": 37,
     "metadata": {},
     "output_type": "execute_result"
    }
   ]
  },
  {
   "cell_type": "code",
   "metadata": {
    "id": "7m8lVXpNmVad",
    "ExecuteTime": {
     "end_time": "2024-01-10T09:52:09.484407Z",
     "start_time": "2024-01-10T09:52:09.463285Z"
    }
   },
   "source": [
    "sales_df.index.get_level_values('InvoiceDate')"
   ],
   "execution_count": 39,
   "outputs": [
    {
     "data": {
      "text/plain": "Index(['12/1/2010 8:26', '12/1/2010 8:26', '12/1/2010 8:26', '12/1/2010 8:26',\n       '12/1/2010 8:26', '12/1/2010 8:26', '12/1/2010 8:26', '12/1/2010 8:28',\n       '12/1/2010 8:28', '12/1/2010 8:34',\n       ...\n       '12/9/2011 12:50', '12/9/2011 12:50', '12/9/2011 12:50',\n       '12/9/2011 12:50', '12/9/2011 12:50', '12/9/2011 12:50',\n       '12/9/2011 12:50', '12/9/2011 12:50', '12/9/2011 12:50',\n       '12/9/2011 12:50'],\n      dtype='object', name='InvoiceDate', length=541909)"
     },
     "execution_count": 39,
     "metadata": {},
     "output_type": "execute_result"
    }
   ]
  },
  {
   "cell_type": "code",
   "metadata": {
    "id": "-NRh69EImVcQ",
    "ExecuteTime": {
     "end_time": "2024-01-10T09:53:36.261122Z",
     "start_time": "2024-01-10T09:53:36.227551Z"
    }
   },
   "source": [
    "# You can change the names of the DataFrame by invoking the set_names method\n",
    "sales_df.index.set_names(names=['Transaction Date', 'Transaction Location'], inplace=True)"
   ],
   "execution_count": 41,
   "outputs": []
  },
  {
   "cell_type": "code",
   "metadata": {
    "id": "NaiivrGZaU6A",
    "ExecuteTime": {
     "end_time": "2024-01-10T09:53:37.020977Z",
     "start_time": "2024-01-10T09:53:36.990621Z"
    }
   },
   "source": [
    "sales_df"
   ],
   "execution_count": 42,
   "outputs": [
    {
     "data": {
      "text/plain": "                                      InvoiceNo StockCode  \\\nTransaction Date Transaction Location                       \nUnited Kingdom   12/1/2010 8:26          536365    85123A   \n                 12/1/2010 8:26          536365     71053   \n                 12/1/2010 8:26          536365    84406B   \n                 12/1/2010 8:26          536365    84029G   \n                 12/1/2010 8:26          536365    84029E   \n...                                         ...       ...   \nFrance           12/9/2011 12:50         581587     22613   \n                 12/9/2011 12:50         581587     22899   \n                 12/9/2011 12:50         581587     23254   \n                 12/9/2011 12:50         581587     23255   \n                 12/9/2011 12:50         581587     22138   \n\n                                                               Description  \\\nTransaction Date Transaction Location                                        \nUnited Kingdom   12/1/2010 8:26         WHITE HANGING HEART T-LIGHT HOLDER   \n                 12/1/2010 8:26                        WHITE METAL LANTERN   \n                 12/1/2010 8:26             CREAM CUPID HEARTS COAT HANGER   \n                 12/1/2010 8:26        KNITTED UNION FLAG HOT WATER BOTTLE   \n                 12/1/2010 8:26             RED WOOLLY HOTTIE WHITE HEART.   \n...                                                                    ...   \nFrance           12/9/2011 12:50               PACK OF 20 SPACEBOY NAPKINS   \n                 12/9/2011 12:50              CHILDREN'S APRON DOLLY GIRL    \n                 12/9/2011 12:50             CHILDRENS CUTLERY DOLLY GIRL    \n                 12/9/2011 12:50           CHILDRENS CUTLERY CIRCUS PARADE   \n                 12/9/2011 12:50             BAKING SET 9 PIECE RETROSPOT    \n\n                                       Quantity  UnitPrice  CustomerID  \nTransaction Date Transaction Location                                   \nUnited Kingdom   12/1/2010 8:26               6       2.55     17850.0  \n                 12/1/2010 8:26               6       3.39     17850.0  \n                 12/1/2010 8:26               8       2.75     17850.0  \n                 12/1/2010 8:26               6       3.39     17850.0  \n                 12/1/2010 8:26               6       3.39     17850.0  \n...                                         ...        ...         ...  \nFrance           12/9/2011 12:50             12       0.85     12680.0  \n                 12/9/2011 12:50              6       2.10     12680.0  \n                 12/9/2011 12:50              4       4.15     12680.0  \n                 12/9/2011 12:50              4       4.15     12680.0  \n                 12/9/2011 12:50              3       4.95     12680.0  \n\n[541909 rows x 6 columns]",
      "text/html": "<div>\n<style scoped>\n    .dataframe tbody tr th:only-of-type {\n        vertical-align: middle;\n    }\n\n    .dataframe tbody tr th {\n        vertical-align: top;\n    }\n\n    .dataframe thead th {\n        text-align: right;\n    }\n</style>\n<table border=\"1\" class=\"dataframe\">\n  <thead>\n    <tr style=\"text-align: right;\">\n      <th></th>\n      <th></th>\n      <th>InvoiceNo</th>\n      <th>StockCode</th>\n      <th>Description</th>\n      <th>Quantity</th>\n      <th>UnitPrice</th>\n      <th>CustomerID</th>\n    </tr>\n    <tr>\n      <th>Transaction Date</th>\n      <th>Transaction Location</th>\n      <th></th>\n      <th></th>\n      <th></th>\n      <th></th>\n      <th></th>\n      <th></th>\n    </tr>\n  </thead>\n  <tbody>\n    <tr>\n      <th rowspan=\"5\" valign=\"top\">United Kingdom</th>\n      <th>12/1/2010 8:26</th>\n      <td>536365</td>\n      <td>85123A</td>\n      <td>WHITE HANGING HEART T-LIGHT HOLDER</td>\n      <td>6</td>\n      <td>2.55</td>\n      <td>17850.0</td>\n    </tr>\n    <tr>\n      <th>12/1/2010 8:26</th>\n      <td>536365</td>\n      <td>71053</td>\n      <td>WHITE METAL LANTERN</td>\n      <td>6</td>\n      <td>3.39</td>\n      <td>17850.0</td>\n    </tr>\n    <tr>\n      <th>12/1/2010 8:26</th>\n      <td>536365</td>\n      <td>84406B</td>\n      <td>CREAM CUPID HEARTS COAT HANGER</td>\n      <td>8</td>\n      <td>2.75</td>\n      <td>17850.0</td>\n    </tr>\n    <tr>\n      <th>12/1/2010 8:26</th>\n      <td>536365</td>\n      <td>84029G</td>\n      <td>KNITTED UNION FLAG HOT WATER BOTTLE</td>\n      <td>6</td>\n      <td>3.39</td>\n      <td>17850.0</td>\n    </tr>\n    <tr>\n      <th>12/1/2010 8:26</th>\n      <td>536365</td>\n      <td>84029E</td>\n      <td>RED WOOLLY HOTTIE WHITE HEART.</td>\n      <td>6</td>\n      <td>3.39</td>\n      <td>17850.0</td>\n    </tr>\n    <tr>\n      <th>...</th>\n      <th>...</th>\n      <td>...</td>\n      <td>...</td>\n      <td>...</td>\n      <td>...</td>\n      <td>...</td>\n      <td>...</td>\n    </tr>\n    <tr>\n      <th rowspan=\"5\" valign=\"top\">France</th>\n      <th>12/9/2011 12:50</th>\n      <td>581587</td>\n      <td>22613</td>\n      <td>PACK OF 20 SPACEBOY NAPKINS</td>\n      <td>12</td>\n      <td>0.85</td>\n      <td>12680.0</td>\n    </tr>\n    <tr>\n      <th>12/9/2011 12:50</th>\n      <td>581587</td>\n      <td>22899</td>\n      <td>CHILDREN'S APRON DOLLY GIRL</td>\n      <td>6</td>\n      <td>2.10</td>\n      <td>12680.0</td>\n    </tr>\n    <tr>\n      <th>12/9/2011 12:50</th>\n      <td>581587</td>\n      <td>23254</td>\n      <td>CHILDRENS CUTLERY DOLLY GIRL</td>\n      <td>4</td>\n      <td>4.15</td>\n      <td>12680.0</td>\n    </tr>\n    <tr>\n      <th>12/9/2011 12:50</th>\n      <td>581587</td>\n      <td>23255</td>\n      <td>CHILDRENS CUTLERY CIRCUS PARADE</td>\n      <td>4</td>\n      <td>4.15</td>\n      <td>12680.0</td>\n    </tr>\n    <tr>\n      <th>12/9/2011 12:50</th>\n      <td>581587</td>\n      <td>22138</td>\n      <td>BAKING SET 9 PIECE RETROSPOT</td>\n      <td>3</td>\n      <td>4.95</td>\n      <td>12680.0</td>\n    </tr>\n  </tbody>\n</table>\n<p>541909 rows × 6 columns</p>\n</div>"
     },
     "execution_count": 42,
     "metadata": {},
     "output_type": "execute_result"
    }
   ]
  },
  {
   "cell_type": "markdown",
   "metadata": {
    "id": "YqGCOQvnaVQP"
   },
   "source": [
    "**MINI CHALLENGE #4:**\n",
    "- **Use InvoiceDate and Country in order as the multi-index**\n",
    "- **Change the name of both indexes to \"Date\" and \"location\"**"
   ]
  },
  {
   "cell_type": "code",
   "metadata": {
    "id": "0YwPgE6PalfV"
   },
   "source": [],
   "execution_count": null,
   "outputs": []
  },
  {
   "cell_type": "markdown",
   "metadata": {
    "id": "vHHj-T8RYnu8"
   },
   "source": [
    "# 5. MULTI-INDEXING OPERATIONS - PART #2"
   ]
  },
  {
   "cell_type": "code",
   "metadata": {
    "id": "BIuOHrxCctUX",
    "ExecuteTime": {
     "end_time": "2024-01-10T10:05:08.115428Z",
     "start_time": "2024-01-10T10:05:07.700466Z"
    }
   },
   "source": [
    "sales_df = pd.read_csv('../datasets/ecommerce_sales.csv',encoding='unicode_escape')\n",
    "# Sort countries to start with alphabetical order\n",
    "sales_df.set_index(keys=['Country','InvoiceDate'],inplace=True)\n",
    "sales_df.sort_index(inplace=True)\n",
    "sales_df"
   ],
   "execution_count": 6,
   "outputs": [
    {
     "data": {
      "text/plain": "                           InvoiceNo StockCode  \\\nCountry     InvoiceDate                          \nAustralia   1/10/2011 9:58    540557     22523   \n            1/11/2011 9:47    540700     21581   \n            1/11/2011 9:47    540700     22619   \n            1/11/2011 9:47    540700    84997B   \n            1/11/2011 9:47    540700     20727   \n...                              ...       ...   \nUnspecified 9/2/2011 12:17    565303     85227   \n            9/2/2011 12:17    565303     22138   \n            9/2/2011 12:17    565303     21889   \n            9/2/2011 12:17    565303     22550   \n            9/2/2011 12:17    565303     23127   \n\n                                                  Description  Quantity  \\\nCountry     InvoiceDate                                                   \nAustralia   1/10/2011 9:58            CHILDS GARDEN FORK PINK        96   \n            1/11/2011 9:47    SKULLS  DESIGN  COTTON TOTE BAG         6   \n            1/11/2011 9:47          SET OF 6 SOLDIER SKITTLES         8   \n            1/11/2011 9:47  RED 3 PIECE RETROSPOT CUTLERY SET         6   \n            1/11/2011 9:47            LUNCH BAG  BLACK SKULL.        20   \n...                                                       ...       ...   \nUnspecified 9/2/2011 12:17     SET OF 6 3D KIT CARDS FOR KIDS         4   \n            9/2/2011 12:17      BAKING SET 9 PIECE RETROSPOT          2   \n            9/2/2011 12:17             WOODEN BOX OF DOMINOES         5   \n            9/2/2011 12:17                   HOLIDAY FUN LUDO         2   \n            9/2/2011 12:17          FELTCRAFT GIRL NICOLE KIT         1   \n\n                            UnitPrice  CustomerID  \nCountry     InvoiceDate                            \nAustralia   1/10/2011 9:58       0.85     12415.0  \n            1/11/2011 9:47       2.25     12393.0  \n            1/11/2011 9:47       3.75     12393.0  \n            1/11/2011 9:47       3.75     12393.0  \n            1/11/2011 9:47       1.65     12393.0  \n...                               ...         ...  \nUnspecified 9/2/2011 12:17       0.85         NaN  \n            9/2/2011 12:17       4.95         NaN  \n            9/2/2011 12:17       1.25         NaN  \n            9/2/2011 12:17       3.75         NaN  \n            9/2/2011 12:17       4.95         NaN  \n\n[541909 rows x 6 columns]",
      "text/html": "<div>\n<style scoped>\n    .dataframe tbody tr th:only-of-type {\n        vertical-align: middle;\n    }\n\n    .dataframe tbody tr th {\n        vertical-align: top;\n    }\n\n    .dataframe thead th {\n        text-align: right;\n    }\n</style>\n<table border=\"1\" class=\"dataframe\">\n  <thead>\n    <tr style=\"text-align: right;\">\n      <th></th>\n      <th></th>\n      <th>InvoiceNo</th>\n      <th>StockCode</th>\n      <th>Description</th>\n      <th>Quantity</th>\n      <th>UnitPrice</th>\n      <th>CustomerID</th>\n    </tr>\n    <tr>\n      <th>Country</th>\n      <th>InvoiceDate</th>\n      <th></th>\n      <th></th>\n      <th></th>\n      <th></th>\n      <th></th>\n      <th></th>\n    </tr>\n  </thead>\n  <tbody>\n    <tr>\n      <th rowspan=\"5\" valign=\"top\">Australia</th>\n      <th>1/10/2011 9:58</th>\n      <td>540557</td>\n      <td>22523</td>\n      <td>CHILDS GARDEN FORK PINK</td>\n      <td>96</td>\n      <td>0.85</td>\n      <td>12415.0</td>\n    </tr>\n    <tr>\n      <th>1/11/2011 9:47</th>\n      <td>540700</td>\n      <td>21581</td>\n      <td>SKULLS  DESIGN  COTTON TOTE BAG</td>\n      <td>6</td>\n      <td>2.25</td>\n      <td>12393.0</td>\n    </tr>\n    <tr>\n      <th>1/11/2011 9:47</th>\n      <td>540700</td>\n      <td>22619</td>\n      <td>SET OF 6 SOLDIER SKITTLES</td>\n      <td>8</td>\n      <td>3.75</td>\n      <td>12393.0</td>\n    </tr>\n    <tr>\n      <th>1/11/2011 9:47</th>\n      <td>540700</td>\n      <td>84997B</td>\n      <td>RED 3 PIECE RETROSPOT CUTLERY SET</td>\n      <td>6</td>\n      <td>3.75</td>\n      <td>12393.0</td>\n    </tr>\n    <tr>\n      <th>1/11/2011 9:47</th>\n      <td>540700</td>\n      <td>20727</td>\n      <td>LUNCH BAG  BLACK SKULL.</td>\n      <td>20</td>\n      <td>1.65</td>\n      <td>12393.0</td>\n    </tr>\n    <tr>\n      <th>...</th>\n      <th>...</th>\n      <td>...</td>\n      <td>...</td>\n      <td>...</td>\n      <td>...</td>\n      <td>...</td>\n      <td>...</td>\n    </tr>\n    <tr>\n      <th rowspan=\"5\" valign=\"top\">Unspecified</th>\n      <th>9/2/2011 12:17</th>\n      <td>565303</td>\n      <td>85227</td>\n      <td>SET OF 6 3D KIT CARDS FOR KIDS</td>\n      <td>4</td>\n      <td>0.85</td>\n      <td>NaN</td>\n    </tr>\n    <tr>\n      <th>9/2/2011 12:17</th>\n      <td>565303</td>\n      <td>22138</td>\n      <td>BAKING SET 9 PIECE RETROSPOT</td>\n      <td>2</td>\n      <td>4.95</td>\n      <td>NaN</td>\n    </tr>\n    <tr>\n      <th>9/2/2011 12:17</th>\n      <td>565303</td>\n      <td>21889</td>\n      <td>WOODEN BOX OF DOMINOES</td>\n      <td>5</td>\n      <td>1.25</td>\n      <td>NaN</td>\n    </tr>\n    <tr>\n      <th>9/2/2011 12:17</th>\n      <td>565303</td>\n      <td>22550</td>\n      <td>HOLIDAY FUN LUDO</td>\n      <td>2</td>\n      <td>3.75</td>\n      <td>NaN</td>\n    </tr>\n    <tr>\n      <th>9/2/2011 12:17</th>\n      <td>565303</td>\n      <td>23127</td>\n      <td>FELTCRAFT GIRL NICOLE KIT</td>\n      <td>1</td>\n      <td>4.95</td>\n      <td>NaN</td>\n    </tr>\n  </tbody>\n</table>\n<p>541909 rows × 6 columns</p>\n</div>"
     },
     "execution_count": 6,
     "metadata": {},
     "output_type": "execute_result"
    }
   ]
  },
  {
   "cell_type": "code",
   "metadata": {
    "id": "UpKX3zQnmVf8",
    "ExecuteTime": {
     "end_time": "2024-01-10T09:57:22.461699Z",
     "start_time": "2024-01-10T09:57:22.439839Z"
    }
   },
   "source": [
    "# you can use a multi-index reference to access specific elements \n",
    "# Alternatively, you can use a column name instead \n",
    "sales_df.loc['Australia','1/10/2011 9:58']"
   ],
   "execution_count": 47,
   "outputs": [
    {
     "data": {
      "text/plain": "                         InvoiceNo StockCode              Description  \\\nCountry   InvoiceDate                                                   \nAustralia 1/10/2011 9:58    540557     22523  CHILDS GARDEN FORK PINK   \n\n                          Quantity  UnitPrice  CustomerID  \nCountry   InvoiceDate                                      \nAustralia 1/10/2011 9:58        96       0.85     12415.0  ",
      "text/html": "<div>\n<style scoped>\n    .dataframe tbody tr th:only-of-type {\n        vertical-align: middle;\n    }\n\n    .dataframe tbody tr th {\n        vertical-align: top;\n    }\n\n    .dataframe thead th {\n        text-align: right;\n    }\n</style>\n<table border=\"1\" class=\"dataframe\">\n  <thead>\n    <tr style=\"text-align: right;\">\n      <th></th>\n      <th></th>\n      <th>InvoiceNo</th>\n      <th>StockCode</th>\n      <th>Description</th>\n      <th>Quantity</th>\n      <th>UnitPrice</th>\n      <th>CustomerID</th>\n    </tr>\n    <tr>\n      <th>Country</th>\n      <th>InvoiceDate</th>\n      <th></th>\n      <th></th>\n      <th></th>\n      <th></th>\n      <th></th>\n      <th></th>\n    </tr>\n  </thead>\n  <tbody>\n    <tr>\n      <th>Australia</th>\n      <th>1/10/2011 9:58</th>\n      <td>540557</td>\n      <td>22523</td>\n      <td>CHILDS GARDEN FORK PINK</td>\n      <td>96</td>\n      <td>0.85</td>\n      <td>12415.0</td>\n    </tr>\n  </tbody>\n</table>\n</div>"
     },
     "execution_count": 47,
     "metadata": {},
     "output_type": "execute_result"
    }
   ]
  },
  {
   "cell_type": "code",
   "metadata": {
    "id": "0hK5lwwtmVh1",
    "ExecuteTime": {
     "end_time": "2024-01-10T09:58:44.006560Z",
     "start_time": "2024-01-10T09:58:43.983189Z"
    }
   },
   "source": [
    "# feed index as a tuple (important to avoid confusion)\n",
    "# first argument references rows and the second argument references a column\n",
    "sales_df.loc[ ('Australia','1/10/2011 9:58'), 'UnitPrice']"
   ],
   "execution_count": 48,
   "outputs": [
    {
     "data": {
      "text/plain": "Country    InvoiceDate   \nAustralia  1/10/2011 9:58    0.85\nName: UnitPrice, dtype: float64"
     },
     "execution_count": 48,
     "metadata": {},
     "output_type": "execute_result"
    }
   ]
  },
  {
   "cell_type": "code",
   "metadata": {
    "id": "aLsIvuMAbk-H",
    "ExecuteTime": {
     "end_time": "2024-01-10T09:59:27.735602Z",
     "start_time": "2024-01-10T09:59:27.698528Z"
    }
   },
   "source": [
    "sales_df.iloc[0]"
   ],
   "execution_count": 49,
   "outputs": [
    {
     "data": {
      "text/plain": "InvoiceNo                       540557\nStockCode                        22523\nDescription    CHILDS GARDEN FORK PINK\nQuantity                            96\nUnitPrice                         0.85\nCustomerID                     12415.0\nName: (Australia, 1/10/2011 9:58), dtype: object"
     },
     "execution_count": 49,
     "metadata": {},
     "output_type": "execute_result"
    }
   ]
  },
  {
   "cell_type": "code",
   "metadata": {
    "id": "sOQkkZZgoJnK"
   },
   "source": [
    "# no issues with numeric indexing, you can use one index so no tuples are required\n"
   ],
   "execution_count": null,
   "outputs": []
  },
  {
   "cell_type": "code",
   "metadata": {
    "id": "Xk1YPclVoZ1Z",
    "ExecuteTime": {
     "end_time": "2024-01-10T10:00:10.840987Z",
     "start_time": "2024-01-10T10:00:10.801112Z"
    }
   },
   "source": [
    "# no issues with numeric indexing\n",
    "sales_df.iloc[0,0]"
   ],
   "execution_count": 51,
   "outputs": [
    {
     "data": {
      "text/plain": "'540557'"
     },
     "execution_count": 51,
     "metadata": {},
     "output_type": "execute_result"
    }
   ]
  },
  {
   "cell_type": "code",
   "metadata": {
    "id": "dar-a3ZjxN7e",
    "ExecuteTime": {
     "end_time": "2024-01-10T10:05:32.820324Z",
     "start_time": "2024-01-10T10:05:31.049408Z"
    }
   },
   "source": [
    "# You can use transpose to Transpose indexes and columns\n",
    "# reflect the DataFrame over its main diagonal by writing rows as columns and vice-versa. \n",
    "sales_df = sales_df.transpose()\n",
    "sales_df\n"
   ],
   "execution_count": 7,
   "outputs": [
    {
     "data": {
      "text/plain": "Country                    Australia                                   \\\nInvoiceDate           1/10/2011 9:58                   1/11/2011 9:47   \nInvoiceNo                     540557                           540700   \nStockCode                      22523                            21581   \nDescription  CHILDS GARDEN FORK PINK  SKULLS  DESIGN  COTTON TOTE BAG   \nQuantity                          96                                6   \nUnitPrice                       0.85                             2.25   \nCustomerID                   12415.0                          12393.0   \n\nCountry                                                                    \\\nInvoiceDate             1/11/2011 9:47                     1/11/2011 9:47   \nInvoiceNo                       540700                             540700   \nStockCode                        22619                             84997B   \nDescription  SET OF 6 SOLDIER SKITTLES  RED 3 PIECE RETROSPOT CUTLERY SET   \nQuantity                             8                                  6   \nUnitPrice                         3.75                               3.75   \nCustomerID                     12393.0                            12393.0   \n\nCountry                                                   \\\nInvoiceDate           1/11/2011 9:47      1/11/2011 9:47   \nInvoiceNo                     540700              540700   \nStockCode                      20727               20726   \nDescription  LUNCH BAG  BLACK SKULL.  LUNCH BAG WOODLAND   \nQuantity                          20                  20   \nUnitPrice                       1.65                1.65   \nCustomerID                   12393.0             12393.0   \n\nCountry                                                                 \\\nInvoiceDate           1/11/2011 9:47                    1/11/2011 9:47   \nInvoiceNo                     540700                            540700   \nStockCode                      22383                             21249   \nDescription  LUNCH BAG SUKI  DESIGN   WOODLAND  HEIGHT CHART STICKERS    \nQuantity                          10                                 6   \nUnitPrice                       1.65                              2.95   \nCustomerID                   12393.0                           12393.0   \n\nCountry                                               ...  \\\nInvoiceDate        1/11/2011 9:47     1/11/2011 9:47  ...   \nInvoiceNo                  540700             540700  ...   \nStockCode                   22378              22175  ...   \nDescription  WALL TIDY RETROSPOT   PINK OWL SOFT TOY  ...   \nQuantity                       20                 12  ...   \nUnitPrice                    0.85               2.95  ...   \nCustomerID                12393.0            12393.0  ...   \n\nCountry                             Unspecified                            \\\nInvoiceDate                      9/2/2011 12:17            9/2/2011 12:17   \nInvoiceNo                                565303                    565303   \nStockCode                                 20983                     20977   \nDescription  12 PENCILS TALL TUBE RED RETROSPOT  36 PENCILS TUBE WOODLAND   \nQuantity                                      4                         4   \nUnitPrice                                  0.85                      1.25   \nCustomerID                                  NaN                       NaN   \n\nCountry                                                       \\\nInvoiceDate               9/2/2011 12:17      9/2/2011 12:17   \nInvoiceNo                         565303              565303   \nStockCode                          20982               23084   \nDescription  12 PENCILS TALL TUBE SKULLS  RABBIT NIGHT LIGHT   \nQuantity                               5                   1   \nUnitPrice                           0.85                2.08   \nCustomerID                           NaN                 NaN   \n\nCountry                                                        \\\nInvoiceDate    9/2/2011 12:17                  9/2/2011 12:17   \nInvoiceNo              565303                          565303   \nStockCode               22549                           85227   \nDescription  PICTURE DOMINOES  SET OF 6 3D KIT CARDS FOR KIDS   \nQuantity                    1                               4   \nUnitPrice                1.45                            0.85   \nCustomerID                NaN                             NaN   \n\nCountry                                                             \\\nInvoiceDate                 9/2/2011 12:17          9/2/2011 12:17   \nInvoiceNo                           565303                  565303   \nStockCode                            22138                   21889   \nDescription  BAKING SET 9 PIECE RETROSPOT   WOODEN BOX OF DOMINOES   \nQuantity                                 2                       5   \nUnitPrice                             4.95                    1.25   \nCustomerID                             NaN                     NaN   \n\nCountry                                                   \nInvoiceDate    9/2/2011 12:17             9/2/2011 12:17  \nInvoiceNo              565303                     565303  \nStockCode               22550                      23127  \nDescription  HOLIDAY FUN LUDO  FELTCRAFT GIRL NICOLE KIT  \nQuantity                    2                          1  \nUnitPrice                3.75                       4.95  \nCustomerID                NaN                        NaN  \n\n[6 rows x 541909 columns]",
      "text/html": "<div>\n<style scoped>\n    .dataframe tbody tr th:only-of-type {\n        vertical-align: middle;\n    }\n\n    .dataframe tbody tr th {\n        vertical-align: top;\n    }\n\n    .dataframe thead tr th {\n        text-align: left;\n    }\n</style>\n<table border=\"1\" class=\"dataframe\">\n  <thead>\n    <tr>\n      <th>Country</th>\n      <th colspan=\"10\" halign=\"left\">Australia</th>\n      <th>...</th>\n      <th colspan=\"10\" halign=\"left\">Unspecified</th>\n    </tr>\n    <tr>\n      <th>InvoiceDate</th>\n      <th>1/10/2011 9:58</th>\n      <th>1/11/2011 9:47</th>\n      <th>1/11/2011 9:47</th>\n      <th>1/11/2011 9:47</th>\n      <th>1/11/2011 9:47</th>\n      <th>1/11/2011 9:47</th>\n      <th>1/11/2011 9:47</th>\n      <th>1/11/2011 9:47</th>\n      <th>1/11/2011 9:47</th>\n      <th>1/11/2011 9:47</th>\n      <th>...</th>\n      <th>9/2/2011 12:17</th>\n      <th>9/2/2011 12:17</th>\n      <th>9/2/2011 12:17</th>\n      <th>9/2/2011 12:17</th>\n      <th>9/2/2011 12:17</th>\n      <th>9/2/2011 12:17</th>\n      <th>9/2/2011 12:17</th>\n      <th>9/2/2011 12:17</th>\n      <th>9/2/2011 12:17</th>\n      <th>9/2/2011 12:17</th>\n    </tr>\n  </thead>\n  <tbody>\n    <tr>\n      <th>InvoiceNo</th>\n      <td>540557</td>\n      <td>540700</td>\n      <td>540700</td>\n      <td>540700</td>\n      <td>540700</td>\n      <td>540700</td>\n      <td>540700</td>\n      <td>540700</td>\n      <td>540700</td>\n      <td>540700</td>\n      <td>...</td>\n      <td>565303</td>\n      <td>565303</td>\n      <td>565303</td>\n      <td>565303</td>\n      <td>565303</td>\n      <td>565303</td>\n      <td>565303</td>\n      <td>565303</td>\n      <td>565303</td>\n      <td>565303</td>\n    </tr>\n    <tr>\n      <th>StockCode</th>\n      <td>22523</td>\n      <td>21581</td>\n      <td>22619</td>\n      <td>84997B</td>\n      <td>20727</td>\n      <td>20726</td>\n      <td>22383</td>\n      <td>21249</td>\n      <td>22378</td>\n      <td>22175</td>\n      <td>...</td>\n      <td>20983</td>\n      <td>20977</td>\n      <td>20982</td>\n      <td>23084</td>\n      <td>22549</td>\n      <td>85227</td>\n      <td>22138</td>\n      <td>21889</td>\n      <td>22550</td>\n      <td>23127</td>\n    </tr>\n    <tr>\n      <th>Description</th>\n      <td>CHILDS GARDEN FORK PINK</td>\n      <td>SKULLS  DESIGN  COTTON TOTE BAG</td>\n      <td>SET OF 6 SOLDIER SKITTLES</td>\n      <td>RED 3 PIECE RETROSPOT CUTLERY SET</td>\n      <td>LUNCH BAG  BLACK SKULL.</td>\n      <td>LUNCH BAG WOODLAND</td>\n      <td>LUNCH BAG SUKI  DESIGN</td>\n      <td>WOODLAND  HEIGHT CHART STICKERS</td>\n      <td>WALL TIDY RETROSPOT</td>\n      <td>PINK OWL SOFT TOY</td>\n      <td>...</td>\n      <td>12 PENCILS TALL TUBE RED RETROSPOT</td>\n      <td>36 PENCILS TUBE WOODLAND</td>\n      <td>12 PENCILS TALL TUBE SKULLS</td>\n      <td>RABBIT NIGHT LIGHT</td>\n      <td>PICTURE DOMINOES</td>\n      <td>SET OF 6 3D KIT CARDS FOR KIDS</td>\n      <td>BAKING SET 9 PIECE RETROSPOT</td>\n      <td>WOODEN BOX OF DOMINOES</td>\n      <td>HOLIDAY FUN LUDO</td>\n      <td>FELTCRAFT GIRL NICOLE KIT</td>\n    </tr>\n    <tr>\n      <th>Quantity</th>\n      <td>96</td>\n      <td>6</td>\n      <td>8</td>\n      <td>6</td>\n      <td>20</td>\n      <td>20</td>\n      <td>10</td>\n      <td>6</td>\n      <td>20</td>\n      <td>12</td>\n      <td>...</td>\n      <td>4</td>\n      <td>4</td>\n      <td>5</td>\n      <td>1</td>\n      <td>1</td>\n      <td>4</td>\n      <td>2</td>\n      <td>5</td>\n      <td>2</td>\n      <td>1</td>\n    </tr>\n    <tr>\n      <th>UnitPrice</th>\n      <td>0.85</td>\n      <td>2.25</td>\n      <td>3.75</td>\n      <td>3.75</td>\n      <td>1.65</td>\n      <td>1.65</td>\n      <td>1.65</td>\n      <td>2.95</td>\n      <td>0.85</td>\n      <td>2.95</td>\n      <td>...</td>\n      <td>0.85</td>\n      <td>1.25</td>\n      <td>0.85</td>\n      <td>2.08</td>\n      <td>1.45</td>\n      <td>0.85</td>\n      <td>4.95</td>\n      <td>1.25</td>\n      <td>3.75</td>\n      <td>4.95</td>\n    </tr>\n    <tr>\n      <th>CustomerID</th>\n      <td>12415.0</td>\n      <td>12393.0</td>\n      <td>12393.0</td>\n      <td>12393.0</td>\n      <td>12393.0</td>\n      <td>12393.0</td>\n      <td>12393.0</td>\n      <td>12393.0</td>\n      <td>12393.0</td>\n      <td>12393.0</td>\n      <td>...</td>\n      <td>NaN</td>\n      <td>NaN</td>\n      <td>NaN</td>\n      <td>NaN</td>\n      <td>NaN</td>\n      <td>NaN</td>\n      <td>NaN</td>\n      <td>NaN</td>\n      <td>NaN</td>\n      <td>NaN</td>\n    </tr>\n  </tbody>\n</table>\n<p>6 rows × 541909 columns</p>\n</div>"
     },
     "execution_count": 7,
     "metadata": {},
     "output_type": "execute_result"
    }
   ]
  },
  {
   "cell_type": "code",
   "metadata": {
    "id": "4DhO2mApy_Vq",
    "ExecuteTime": {
     "start_time": "2024-01-10T10:06:41.402511Z"
    }
   },
   "source": [
    "sales_df.loc['UnitPrice',('Australia','1/10/2011 9:58')]"
   ],
   "execution_count": 8,
   "outputs": [
    {
     "data": {
      "text/plain": "Country    InvoiceDate   \nAustralia  1/10/2011 9:58    0.85\nName: UnitPrice, dtype: object"
     },
     "execution_count": 8,
     "metadata": {},
     "output_type": "execute_result"
    }
   ]
  },
  {
   "cell_type": "code",
   "metadata": {
    "id": "6isf4IJYxN-V",
    "ExecuteTime": {
     "end_time": "2024-01-10T10:08:01.074252Z",
     "start_time": "2024-01-10T10:08:01.051064Z"
    }
   },
   "source": [
    "sales_df.loc['UnitPrice',('Australia','1/10/2011 9:58'):('Belgium','1/10/2011 9:58')]"
   ],
   "execution_count": 9,
   "outputs": [
    {
     "data": {
      "text/plain": "Country    InvoiceDate   \nAustralia  1/10/2011 9:58    0.85\n           1/11/2011 9:47    2.25\n           1/11/2011 9:47    3.75\n           1/11/2011 9:47    3.75\n           1/11/2011 9:47    1.65\n                             ... \nBahrain    5/9/2011 13:49    2.95\n           5/9/2011 13:49    2.95\n           5/9/2011 13:49    4.25\n           5/9/2011 13:49    4.25\n           5/9/2011 13:49    4.25\nName: UnitPrice, Length: 1679, dtype: object"
     },
     "execution_count": 9,
     "metadata": {},
     "output_type": "execute_result"
    }
   ]
  },
  {
   "cell_type": "code",
   "metadata": {
    "id": "CngUVV4GxOBF"
   },
   "source": [],
   "execution_count": null,
   "outputs": []
  },
  {
   "cell_type": "code",
   "metadata": {
    "id": "UJkl3xefxODI",
    "ExecuteTime": {
     "end_time": "2024-01-10T10:20:07.815310Z",
     "start_time": "2024-01-10T10:20:07.115296Z"
    }
   },
   "source": [
    "# Let's import the dataset again using Pandas\n",
    "sales_df = pd.read_csv('../datasets/ecommerce_sales.csv',encoding='unicode_escape')\n",
    "# Sort countries to start with alphabetical order\n",
    "sales_df.set_index(keys=['Country','InvoiceDate'],inplace=True)"
   ],
   "execution_count": 2,
   "outputs": []
  },
  {
   "cell_type": "code",
   "metadata": {
    "id": "kVNZH9HMxOFD",
    "ExecuteTime": {
     "end_time": "2024-01-10T10:20:11.640039Z",
     "start_time": "2024-01-10T10:20:11.588311Z"
    }
   },
   "source": [
    "sales_df"
   ],
   "execution_count": 3,
   "outputs": [
    {
     "data": {
      "text/plain": "                               InvoiceNo StockCode  \\\nCountry        InvoiceDate                           \nUnited Kingdom 12/1/2010 8:26     536365    85123A   \n               12/1/2010 8:26     536365     71053   \n               12/1/2010 8:26     536365    84406B   \n               12/1/2010 8:26     536365    84029G   \n               12/1/2010 8:26     536365    84029E   \n...                                  ...       ...   \nFrance         12/9/2011 12:50    581587     22613   \n               12/9/2011 12:50    581587     22899   \n               12/9/2011 12:50    581587     23254   \n               12/9/2011 12:50    581587     23255   \n               12/9/2011 12:50    581587     22138   \n\n                                                        Description  Quantity  \\\nCountry        InvoiceDate                                                      \nUnited Kingdom 12/1/2010 8:26    WHITE HANGING HEART T-LIGHT HOLDER         6   \n               12/1/2010 8:26                   WHITE METAL LANTERN         6   \n               12/1/2010 8:26        CREAM CUPID HEARTS COAT HANGER         8   \n               12/1/2010 8:26   KNITTED UNION FLAG HOT WATER BOTTLE         6   \n               12/1/2010 8:26        RED WOOLLY HOTTIE WHITE HEART.         6   \n...                                                             ...       ...   \nFrance         12/9/2011 12:50          PACK OF 20 SPACEBOY NAPKINS        12   \n               12/9/2011 12:50         CHILDREN'S APRON DOLLY GIRL          6   \n               12/9/2011 12:50        CHILDRENS CUTLERY DOLLY GIRL          4   \n               12/9/2011 12:50      CHILDRENS CUTLERY CIRCUS PARADE         4   \n               12/9/2011 12:50        BAKING SET 9 PIECE RETROSPOT          3   \n\n                                UnitPrice  CustomerID  \nCountry        InvoiceDate                             \nUnited Kingdom 12/1/2010 8:26        2.55     17850.0  \n               12/1/2010 8:26        3.39     17850.0  \n               12/1/2010 8:26        2.75     17850.0  \n               12/1/2010 8:26        3.39     17850.0  \n               12/1/2010 8:26        3.39     17850.0  \n...                                   ...         ...  \nFrance         12/9/2011 12:50       0.85     12680.0  \n               12/9/2011 12:50       2.10     12680.0  \n               12/9/2011 12:50       4.15     12680.0  \n               12/9/2011 12:50       4.15     12680.0  \n               12/9/2011 12:50       4.95     12680.0  \n\n[541909 rows x 6 columns]",
      "text/html": "<div>\n<style scoped>\n    .dataframe tbody tr th:only-of-type {\n        vertical-align: middle;\n    }\n\n    .dataframe tbody tr th {\n        vertical-align: top;\n    }\n\n    .dataframe thead th {\n        text-align: right;\n    }\n</style>\n<table border=\"1\" class=\"dataframe\">\n  <thead>\n    <tr style=\"text-align: right;\">\n      <th></th>\n      <th></th>\n      <th>InvoiceNo</th>\n      <th>StockCode</th>\n      <th>Description</th>\n      <th>Quantity</th>\n      <th>UnitPrice</th>\n      <th>CustomerID</th>\n    </tr>\n    <tr>\n      <th>Country</th>\n      <th>InvoiceDate</th>\n      <th></th>\n      <th></th>\n      <th></th>\n      <th></th>\n      <th></th>\n      <th></th>\n    </tr>\n  </thead>\n  <tbody>\n    <tr>\n      <th rowspan=\"5\" valign=\"top\">United Kingdom</th>\n      <th>12/1/2010 8:26</th>\n      <td>536365</td>\n      <td>85123A</td>\n      <td>WHITE HANGING HEART T-LIGHT HOLDER</td>\n      <td>6</td>\n      <td>2.55</td>\n      <td>17850.0</td>\n    </tr>\n    <tr>\n      <th>12/1/2010 8:26</th>\n      <td>536365</td>\n      <td>71053</td>\n      <td>WHITE METAL LANTERN</td>\n      <td>6</td>\n      <td>3.39</td>\n      <td>17850.0</td>\n    </tr>\n    <tr>\n      <th>12/1/2010 8:26</th>\n      <td>536365</td>\n      <td>84406B</td>\n      <td>CREAM CUPID HEARTS COAT HANGER</td>\n      <td>8</td>\n      <td>2.75</td>\n      <td>17850.0</td>\n    </tr>\n    <tr>\n      <th>12/1/2010 8:26</th>\n      <td>536365</td>\n      <td>84029G</td>\n      <td>KNITTED UNION FLAG HOT WATER BOTTLE</td>\n      <td>6</td>\n      <td>3.39</td>\n      <td>17850.0</td>\n    </tr>\n    <tr>\n      <th>12/1/2010 8:26</th>\n      <td>536365</td>\n      <td>84029E</td>\n      <td>RED WOOLLY HOTTIE WHITE HEART.</td>\n      <td>6</td>\n      <td>3.39</td>\n      <td>17850.0</td>\n    </tr>\n    <tr>\n      <th>...</th>\n      <th>...</th>\n      <td>...</td>\n      <td>...</td>\n      <td>...</td>\n      <td>...</td>\n      <td>...</td>\n      <td>...</td>\n    </tr>\n    <tr>\n      <th rowspan=\"5\" valign=\"top\">France</th>\n      <th>12/9/2011 12:50</th>\n      <td>581587</td>\n      <td>22613</td>\n      <td>PACK OF 20 SPACEBOY NAPKINS</td>\n      <td>12</td>\n      <td>0.85</td>\n      <td>12680.0</td>\n    </tr>\n    <tr>\n      <th>12/9/2011 12:50</th>\n      <td>581587</td>\n      <td>22899</td>\n      <td>CHILDREN'S APRON DOLLY GIRL</td>\n      <td>6</td>\n      <td>2.10</td>\n      <td>12680.0</td>\n    </tr>\n    <tr>\n      <th>12/9/2011 12:50</th>\n      <td>581587</td>\n      <td>23254</td>\n      <td>CHILDRENS CUTLERY DOLLY GIRL</td>\n      <td>4</td>\n      <td>4.15</td>\n      <td>12680.0</td>\n    </tr>\n    <tr>\n      <th>12/9/2011 12:50</th>\n      <td>581587</td>\n      <td>23255</td>\n      <td>CHILDRENS CUTLERY CIRCUS PARADE</td>\n      <td>4</td>\n      <td>4.15</td>\n      <td>12680.0</td>\n    </tr>\n    <tr>\n      <th>12/9/2011 12:50</th>\n      <td>581587</td>\n      <td>22138</td>\n      <td>BAKING SET 9 PIECE RETROSPOT</td>\n      <td>3</td>\n      <td>4.95</td>\n      <td>12680.0</td>\n    </tr>\n  </tbody>\n</table>\n<p>541909 rows × 6 columns</p>\n</div>"
     },
     "execution_count": 3,
     "metadata": {},
     "output_type": "execute_result"
    }
   ]
  },
  {
   "cell_type": "code",
   "metadata": {
    "id": "YgfeY3DhxOIF",
    "ExecuteTime": {
     "end_time": "2024-01-10T10:20:59.658054Z",
     "start_time": "2024-01-10T10:20:59.610001Z"
    }
   },
   "source": [
    "# You can perform swaplevel as follows:\n",
    "sales_df = sales_df.swaplevel()\n",
    "sales_df"
   ],
   "execution_count": 4,
   "outputs": [
    {
     "data": {
      "text/plain": "                               InvoiceNo StockCode  \\\nInvoiceDate     Country                              \n12/1/2010 8:26  United Kingdom    536365    85123A   \n                United Kingdom    536365     71053   \n                United Kingdom    536365    84406B   \n                United Kingdom    536365    84029G   \n                United Kingdom    536365    84029E   \n...                                  ...       ...   \n12/9/2011 12:50 France            581587     22613   \n                France            581587     22899   \n                France            581587     23254   \n                France            581587     23255   \n                France            581587     22138   \n\n                                                        Description  Quantity  \\\nInvoiceDate     Country                                                         \n12/1/2010 8:26  United Kingdom   WHITE HANGING HEART T-LIGHT HOLDER         6   \n                United Kingdom                  WHITE METAL LANTERN         6   \n                United Kingdom       CREAM CUPID HEARTS COAT HANGER         8   \n                United Kingdom  KNITTED UNION FLAG HOT WATER BOTTLE         6   \n                United Kingdom       RED WOOLLY HOTTIE WHITE HEART.         6   \n...                                                             ...       ...   \n12/9/2011 12:50 France                  PACK OF 20 SPACEBOY NAPKINS        12   \n                France                 CHILDREN'S APRON DOLLY GIRL          6   \n                France                CHILDRENS CUTLERY DOLLY GIRL          4   \n                France              CHILDRENS CUTLERY CIRCUS PARADE         4   \n                France                BAKING SET 9 PIECE RETROSPOT          3   \n\n                                UnitPrice  CustomerID  \nInvoiceDate     Country                                \n12/1/2010 8:26  United Kingdom       2.55     17850.0  \n                United Kingdom       3.39     17850.0  \n                United Kingdom       2.75     17850.0  \n                United Kingdom       3.39     17850.0  \n                United Kingdom       3.39     17850.0  \n...                                   ...         ...  \n12/9/2011 12:50 France               0.85     12680.0  \n                France               2.10     12680.0  \n                France               4.15     12680.0  \n                France               4.15     12680.0  \n                France               4.95     12680.0  \n\n[541909 rows x 6 columns]",
      "text/html": "<div>\n<style scoped>\n    .dataframe tbody tr th:only-of-type {\n        vertical-align: middle;\n    }\n\n    .dataframe tbody tr th {\n        vertical-align: top;\n    }\n\n    .dataframe thead th {\n        text-align: right;\n    }\n</style>\n<table border=\"1\" class=\"dataframe\">\n  <thead>\n    <tr style=\"text-align: right;\">\n      <th></th>\n      <th></th>\n      <th>InvoiceNo</th>\n      <th>StockCode</th>\n      <th>Description</th>\n      <th>Quantity</th>\n      <th>UnitPrice</th>\n      <th>CustomerID</th>\n    </tr>\n    <tr>\n      <th>InvoiceDate</th>\n      <th>Country</th>\n      <th></th>\n      <th></th>\n      <th></th>\n      <th></th>\n      <th></th>\n      <th></th>\n    </tr>\n  </thead>\n  <tbody>\n    <tr>\n      <th rowspan=\"5\" valign=\"top\">12/1/2010 8:26</th>\n      <th>United Kingdom</th>\n      <td>536365</td>\n      <td>85123A</td>\n      <td>WHITE HANGING HEART T-LIGHT HOLDER</td>\n      <td>6</td>\n      <td>2.55</td>\n      <td>17850.0</td>\n    </tr>\n    <tr>\n      <th>United Kingdom</th>\n      <td>536365</td>\n      <td>71053</td>\n      <td>WHITE METAL LANTERN</td>\n      <td>6</td>\n      <td>3.39</td>\n      <td>17850.0</td>\n    </tr>\n    <tr>\n      <th>United Kingdom</th>\n      <td>536365</td>\n      <td>84406B</td>\n      <td>CREAM CUPID HEARTS COAT HANGER</td>\n      <td>8</td>\n      <td>2.75</td>\n      <td>17850.0</td>\n    </tr>\n    <tr>\n      <th>United Kingdom</th>\n      <td>536365</td>\n      <td>84029G</td>\n      <td>KNITTED UNION FLAG HOT WATER BOTTLE</td>\n      <td>6</td>\n      <td>3.39</td>\n      <td>17850.0</td>\n    </tr>\n    <tr>\n      <th>United Kingdom</th>\n      <td>536365</td>\n      <td>84029E</td>\n      <td>RED WOOLLY HOTTIE WHITE HEART.</td>\n      <td>6</td>\n      <td>3.39</td>\n      <td>17850.0</td>\n    </tr>\n    <tr>\n      <th>...</th>\n      <th>...</th>\n      <td>...</td>\n      <td>...</td>\n      <td>...</td>\n      <td>...</td>\n      <td>...</td>\n      <td>...</td>\n    </tr>\n    <tr>\n      <th rowspan=\"5\" valign=\"top\">12/9/2011 12:50</th>\n      <th>France</th>\n      <td>581587</td>\n      <td>22613</td>\n      <td>PACK OF 20 SPACEBOY NAPKINS</td>\n      <td>12</td>\n      <td>0.85</td>\n      <td>12680.0</td>\n    </tr>\n    <tr>\n      <th>France</th>\n      <td>581587</td>\n      <td>22899</td>\n      <td>CHILDREN'S APRON DOLLY GIRL</td>\n      <td>6</td>\n      <td>2.10</td>\n      <td>12680.0</td>\n    </tr>\n    <tr>\n      <th>France</th>\n      <td>581587</td>\n      <td>23254</td>\n      <td>CHILDRENS CUTLERY DOLLY GIRL</td>\n      <td>4</td>\n      <td>4.15</td>\n      <td>12680.0</td>\n    </tr>\n    <tr>\n      <th>France</th>\n      <td>581587</td>\n      <td>23255</td>\n      <td>CHILDRENS CUTLERY CIRCUS PARADE</td>\n      <td>4</td>\n      <td>4.15</td>\n      <td>12680.0</td>\n    </tr>\n    <tr>\n      <th>France</th>\n      <td>581587</td>\n      <td>22138</td>\n      <td>BAKING SET 9 PIECE RETROSPOT</td>\n      <td>3</td>\n      <td>4.95</td>\n      <td>12680.0</td>\n    </tr>\n  </tbody>\n</table>\n<p>541909 rows × 6 columns</p>\n</div>"
     },
     "execution_count": 4,
     "metadata": {},
     "output_type": "execute_result"
    }
   ]
  },
  {
   "cell_type": "code",
   "metadata": {
    "id": "GuduCmChdhPi",
    "ExecuteTime": {
     "end_time": "2024-01-10T10:21:21.955264Z",
     "start_time": "2024-01-10T10:21:21.895995Z"
    }
   },
   "source": [
    "# Perform swaplevel again:\n",
    "sales_df = sales_df.swaplevel()\n",
    "sales_df\n"
   ],
   "execution_count": 5,
   "outputs": [
    {
     "data": {
      "text/plain": "                               InvoiceNo StockCode  \\\nCountry        InvoiceDate                           \nUnited Kingdom 12/1/2010 8:26     536365    85123A   \n               12/1/2010 8:26     536365     71053   \n               12/1/2010 8:26     536365    84406B   \n               12/1/2010 8:26     536365    84029G   \n               12/1/2010 8:26     536365    84029E   \n...                                  ...       ...   \nFrance         12/9/2011 12:50    581587     22613   \n               12/9/2011 12:50    581587     22899   \n               12/9/2011 12:50    581587     23254   \n               12/9/2011 12:50    581587     23255   \n               12/9/2011 12:50    581587     22138   \n\n                                                        Description  Quantity  \\\nCountry        InvoiceDate                                                      \nUnited Kingdom 12/1/2010 8:26    WHITE HANGING HEART T-LIGHT HOLDER         6   \n               12/1/2010 8:26                   WHITE METAL LANTERN         6   \n               12/1/2010 8:26        CREAM CUPID HEARTS COAT HANGER         8   \n               12/1/2010 8:26   KNITTED UNION FLAG HOT WATER BOTTLE         6   \n               12/1/2010 8:26        RED WOOLLY HOTTIE WHITE HEART.         6   \n...                                                             ...       ...   \nFrance         12/9/2011 12:50          PACK OF 20 SPACEBOY NAPKINS        12   \n               12/9/2011 12:50         CHILDREN'S APRON DOLLY GIRL          6   \n               12/9/2011 12:50        CHILDRENS CUTLERY DOLLY GIRL          4   \n               12/9/2011 12:50      CHILDRENS CUTLERY CIRCUS PARADE         4   \n               12/9/2011 12:50        BAKING SET 9 PIECE RETROSPOT          3   \n\n                                UnitPrice  CustomerID  \nCountry        InvoiceDate                             \nUnited Kingdom 12/1/2010 8:26        2.55     17850.0  \n               12/1/2010 8:26        3.39     17850.0  \n               12/1/2010 8:26        2.75     17850.0  \n               12/1/2010 8:26        3.39     17850.0  \n               12/1/2010 8:26        3.39     17850.0  \n...                                   ...         ...  \nFrance         12/9/2011 12:50       0.85     12680.0  \n               12/9/2011 12:50       2.10     12680.0  \n               12/9/2011 12:50       4.15     12680.0  \n               12/9/2011 12:50       4.15     12680.0  \n               12/9/2011 12:50       4.95     12680.0  \n\n[541909 rows x 6 columns]",
      "text/html": "<div>\n<style scoped>\n    .dataframe tbody tr th:only-of-type {\n        vertical-align: middle;\n    }\n\n    .dataframe tbody tr th {\n        vertical-align: top;\n    }\n\n    .dataframe thead th {\n        text-align: right;\n    }\n</style>\n<table border=\"1\" class=\"dataframe\">\n  <thead>\n    <tr style=\"text-align: right;\">\n      <th></th>\n      <th></th>\n      <th>InvoiceNo</th>\n      <th>StockCode</th>\n      <th>Description</th>\n      <th>Quantity</th>\n      <th>UnitPrice</th>\n      <th>CustomerID</th>\n    </tr>\n    <tr>\n      <th>Country</th>\n      <th>InvoiceDate</th>\n      <th></th>\n      <th></th>\n      <th></th>\n      <th></th>\n      <th></th>\n      <th></th>\n    </tr>\n  </thead>\n  <tbody>\n    <tr>\n      <th rowspan=\"5\" valign=\"top\">United Kingdom</th>\n      <th>12/1/2010 8:26</th>\n      <td>536365</td>\n      <td>85123A</td>\n      <td>WHITE HANGING HEART T-LIGHT HOLDER</td>\n      <td>6</td>\n      <td>2.55</td>\n      <td>17850.0</td>\n    </tr>\n    <tr>\n      <th>12/1/2010 8:26</th>\n      <td>536365</td>\n      <td>71053</td>\n      <td>WHITE METAL LANTERN</td>\n      <td>6</td>\n      <td>3.39</td>\n      <td>17850.0</td>\n    </tr>\n    <tr>\n      <th>12/1/2010 8:26</th>\n      <td>536365</td>\n      <td>84406B</td>\n      <td>CREAM CUPID HEARTS COAT HANGER</td>\n      <td>8</td>\n      <td>2.75</td>\n      <td>17850.0</td>\n    </tr>\n    <tr>\n      <th>12/1/2010 8:26</th>\n      <td>536365</td>\n      <td>84029G</td>\n      <td>KNITTED UNION FLAG HOT WATER BOTTLE</td>\n      <td>6</td>\n      <td>3.39</td>\n      <td>17850.0</td>\n    </tr>\n    <tr>\n      <th>12/1/2010 8:26</th>\n      <td>536365</td>\n      <td>84029E</td>\n      <td>RED WOOLLY HOTTIE WHITE HEART.</td>\n      <td>6</td>\n      <td>3.39</td>\n      <td>17850.0</td>\n    </tr>\n    <tr>\n      <th>...</th>\n      <th>...</th>\n      <td>...</td>\n      <td>...</td>\n      <td>...</td>\n      <td>...</td>\n      <td>...</td>\n      <td>...</td>\n    </tr>\n    <tr>\n      <th rowspan=\"5\" valign=\"top\">France</th>\n      <th>12/9/2011 12:50</th>\n      <td>581587</td>\n      <td>22613</td>\n      <td>PACK OF 20 SPACEBOY NAPKINS</td>\n      <td>12</td>\n      <td>0.85</td>\n      <td>12680.0</td>\n    </tr>\n    <tr>\n      <th>12/9/2011 12:50</th>\n      <td>581587</td>\n      <td>22899</td>\n      <td>CHILDREN'S APRON DOLLY GIRL</td>\n      <td>6</td>\n      <td>2.10</td>\n      <td>12680.0</td>\n    </tr>\n    <tr>\n      <th>12/9/2011 12:50</th>\n      <td>581587</td>\n      <td>23254</td>\n      <td>CHILDRENS CUTLERY DOLLY GIRL</td>\n      <td>4</td>\n      <td>4.15</td>\n      <td>12680.0</td>\n    </tr>\n    <tr>\n      <th>12/9/2011 12:50</th>\n      <td>581587</td>\n      <td>23255</td>\n      <td>CHILDRENS CUTLERY CIRCUS PARADE</td>\n      <td>4</td>\n      <td>4.15</td>\n      <td>12680.0</td>\n    </tr>\n    <tr>\n      <th>12/9/2011 12:50</th>\n      <td>581587</td>\n      <td>22138</td>\n      <td>BAKING SET 9 PIECE RETROSPOT</td>\n      <td>3</td>\n      <td>4.95</td>\n      <td>12680.0</td>\n    </tr>\n  </tbody>\n</table>\n<p>541909 rows × 6 columns</p>\n</div>"
     },
     "execution_count": 5,
     "metadata": {},
     "output_type": "execute_result"
    }
   ]
  },
  {
   "cell_type": "code",
   "metadata": {
    "id": "3T1BADdV0L_c"
   },
   "source": [
    "# Please note that there is no point of adding [False, False] or [True, True]\n"
   ],
   "execution_count": null,
   "outputs": []
  },
  {
   "cell_type": "code",
   "metadata": {
    "id": "K7npiYCt0MC4"
   },
   "source": [],
   "execution_count": null,
   "outputs": []
  },
  {
   "cell_type": "code",
   "metadata": {
    "id": "A3l6wRId0MLN"
   },
   "source": [
    "# only sort by that given level and ignore the others\n"
   ],
   "execution_count": null,
   "outputs": []
  },
  {
   "cell_type": "code",
   "metadata": {
    "id": "kwzW1ONg1mbE"
   },
   "source": [],
   "execution_count": null,
   "outputs": []
  },
  {
   "cell_type": "code",
   "metadata": {
    "id": "Tq4n7jTje9MQ"
   },
   "source": [],
   "execution_count": null,
   "outputs": []
  },
  {
   "cell_type": "markdown",
   "metadata": {
    "id": "kHRHQLLne907"
   },
   "source": [
    "**MINI CHALLENGE #5:**\n",
    "- **Calculate the average unit price for transactions occured in \"United Kingdom\" at \"12/1/2010 8:26\"**"
   ]
  },
  {
   "cell_type": "code",
   "metadata": {
    "id": "jDBN00YtfVsc"
   },
   "source": [],
   "execution_count": null,
   "outputs": []
  },
  {
   "cell_type": "markdown",
   "metadata": {
    "id": "Xq3Dbr58Mb3h"
   },
   "source": [
    "# MINI CHALLENGE SOLUTIONS"
   ]
  },
  {
   "cell_type": "markdown",
   "metadata": {
    "id": "_dIF3jt6MSyz"
   },
   "source": [
    "**MINI CHALLENGE #1 SOLUTION:**\n",
    "- **How many unique countries are present in the dataset? List all countries**"
   ]
  },
  {
   "cell_type": "code",
   "metadata": {
    "id": "CxYxMaTgMEW2"
   },
   "source": [
    "sales_df['Country'].unique()"
   ],
   "execution_count": null,
   "outputs": []
  },
  {
   "cell_type": "code",
   "metadata": {
    "id": "Cj3Zofi_luXO"
   },
   "source": [
    "# Obtain the number of unique values in each column\n",
    "sales_df.nunique()"
   ],
   "execution_count": null,
   "outputs": []
  },
  {
   "cell_type": "code",
   "metadata": {
    "id": "OpbPi_JqSBBl"
   },
   "source": [],
   "execution_count": null,
   "outputs": []
  },
  {
   "cell_type": "markdown",
   "metadata": {
    "id": "apyBbBUVR8dK"
   },
   "source": [
    "**MINI CHALLENGE #2 SOLUTION:**\n",
    "- **What is the average, maximum and minimum prices on 2010-12-01 08:34:00**"
   ]
  },
  {
   "cell_type": "code",
   "metadata": {
    "id": "fjYs-pP4Rqqd"
   },
   "source": [
    "# Min = 0.72 and Max = 1.85\n",
    "sales_df.groupby('InvoiceDate')['UnitPrice'].min()"
   ],
   "execution_count": null,
   "outputs": []
  },
  {
   "cell_type": "code",
   "metadata": {
    "id": "KXdALgis2t8E"
   },
   "source": [
    "sales_df.groupby('InvoiceDate')['UnitPrice'].max()"
   ],
   "execution_count": null,
   "outputs": []
  },
  {
   "cell_type": "code",
   "metadata": {
    "id": "0Tm5hCMxXfDp"
   },
   "source": [],
   "execution_count": null,
   "outputs": []
  },
  {
   "cell_type": "markdown",
   "metadata": {
    "id": "SWyjNrIEXZxk"
   },
   "source": [
    "**MINI CHALLENGE #3 SOLUTION:**\n",
    "- **Sort the DataFrame in a descending order (countries and dates)**"
   ]
  },
  {
   "cell_type": "code",
   "metadata": {
    "id": "vd0IobslVzMz"
   },
   "source": [
    "# Please note that there is no point of adding [False, False] or [True, True]\n",
    "sales_df.sort_index(ascending = False, inplace = True)\n",
    "sales_df"
   ],
   "execution_count": null,
   "outputs": []
  },
  {
   "cell_type": "markdown",
   "metadata": {
    "id": "of5NvqfqaiXW"
   },
   "source": [
    "**MINI CHALLENGE #4 SOLUTION:**\n",
    "- **Use InvoiceDate and Country in order as the multi-index**\n",
    "- **Change the name of both indexes to \"Date\" and \"location\"**"
   ]
  },
  {
   "cell_type": "code",
   "metadata": {
    "id": "0Gf6f1e6YnQj"
   },
   "source": [
    "sales_df = pd.read_csv('ecommerce_sales.csv', encoding = 'unicode_escape')\n",
    "sales_df.set_index(keys = [\"InvoiceDate\", \"Country\"], inplace = True)\n",
    "sales_df"
   ],
   "execution_count": null,
   "outputs": []
  },
  {
   "cell_type": "code",
   "metadata": {
    "id": "0OWcoXGi2EC3"
   },
   "source": [
    "# You can change the names of the DataFrame by invoking the set_names method\n",
    "sales_df.index.set_names(names = ['Date', 'Location'], inplace = True)\n",
    "sales_df"
   ],
   "execution_count": null,
   "outputs": []
  },
  {
   "cell_type": "markdown",
   "metadata": {
    "id": "uXFvqt9PfPup"
   },
   "source": [
    "**MINI CHALLENGE #5 SOLUTION:**\n",
    "- **Calculate the average unit price for transactions occured in \"United Kingdom\" at \"12/1/2010 8:26\"**"
   ]
  },
  {
   "cell_type": "code",
   "metadata": {
    "id": "Mn8Tz0rz1me-"
   },
   "source": [
    "# Let's import the dataset again using Pandas\n",
    "sales_df = pd.read_csv('ecommerce_sales.csv', encoding = 'unicode_escape')\n",
    "sales_df.set_index(keys = [\"Country\", \"InvoiceDate\"], inplace = True)\n",
    "\n",
    "\n",
    "print(sales_df.loc[(\"United Kingdom\", \"12/1/2010 8:26\"), \"UnitPrice\"])\n",
    "\n",
    "# feed index as a tuple (important to avoid confusion)\n",
    "# first argument references rows and the second argument references a column\n",
    "sales_df.loc[(\"United Kingdom\", \"12/1/2010 8:26\"), \"UnitPrice\"].mean()\n"
   ],
   "execution_count": null,
   "outputs": []
  }
 ]
}
