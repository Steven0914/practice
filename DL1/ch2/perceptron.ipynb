{
 "cells": [
  {
   "cell_type": "code",
   "execution_count": 11,
   "outputs": [
    {
     "data": {
      "text/plain": "1"
     },
     "execution_count": 11,
     "metadata": {},
     "output_type": "execute_result"
    }
   ],
   "source": [
    "# 간단한 퍼셉트론 구현\n",
    "\n",
    "def AND(x1, x2):\n",
    "    w1, w2, theta = 0.5, 0.5, 0.7\n",
    "    tmp = x1 * w1 + x2 * w2\n",
    "    if tmp <= theta:\n",
    "        return 0\n",
    "    elif tmp > theta:\n",
    "        return 1\n",
    "\n",
    "\n",
    "AND(0, 0)\n",
    "AND(0, 1)\n",
    "AND(1, 0)\n",
    "AND(1, 1)"
   ],
   "metadata": {
    "collapsed": false,
    "ExecuteTime": {
     "end_time": "2023-12-28T11:38:13.389341Z",
     "start_time": "2023-12-28T11:38:13.381071Z"
    }
   },
   "id": "aa12e2c4bd73b4a1"
  },
  {
   "cell_type": "code",
   "execution_count": 12,
   "outputs": [
    {
     "name": "stdout",
     "output_type": "stream",
     "text": [
      "[-0.  -0.5]\n",
      "-0.5\n",
      "0.19999999999999996\n"
     ]
    }
   ],
   "source": [
    "# 가중치와 편향 도입\n",
    "import numpy as np\n",
    "\n",
    "x = np.array([0, 1])  # 입력\n",
    "w = np.array([-0.5, -0.5])  #가중치\n",
    "b = 0.7  # 편향    \n",
    "\n",
    "print(w * x)\n",
    "\n",
    "print(np.sum(w * x))\n",
    "print(np.sum(w * x) + b)"
   ],
   "metadata": {
    "collapsed": false,
    "ExecuteTime": {
     "end_time": "2023-12-28T11:38:13.829340Z",
     "start_time": "2023-12-28T11:38:13.825956Z"
    }
   },
   "id": "fb2e505d9b9fa6ca"
  },
  {
   "cell_type": "code",
   "execution_count": 1,
   "outputs": [
    {
     "ename": "NameError",
     "evalue": "name 'np' is not defined",
     "output_type": "error",
     "traceback": [
      "\u001B[0;31m---------------------------------------------------------------------------\u001B[0m",
      "\u001B[0;31mNameError\u001B[0m                                 Traceback (most recent call last)",
      "Cell \u001B[0;32mIn[1], line 25\u001B[0m\n\u001B[1;32m     22\u001B[0m     \u001B[38;5;28;01melse\u001B[39;00m:\n\u001B[1;32m     23\u001B[0m         \u001B[38;5;28;01mreturn\u001B[39;00m \u001B[38;5;241m0\u001B[39m\n\u001B[0;32m---> 25\u001B[0m NAND(\u001B[38;5;241m1\u001B[39m,\u001B[38;5;241m1\u001B[39m)\n\u001B[1;32m     26\u001B[0m NAND(\u001B[38;5;241m0\u001B[39m,\u001B[38;5;241m0\u001B[39m)\n\u001B[1;32m     27\u001B[0m OR(\u001B[38;5;241m1\u001B[39m,\u001B[38;5;241m0\u001B[39m)\n",
      "Cell \u001B[0;32mIn[1], line 5\u001B[0m, in \u001B[0;36mNAND\u001B[0;34m(x1, x2)\u001B[0m\n\u001B[1;32m      4\u001B[0m \u001B[38;5;28;01mdef\u001B[39;00m \u001B[38;5;21mNAND\u001B[39m(x1, x2):\n\u001B[0;32m----> 5\u001B[0m     x \u001B[38;5;241m=\u001B[39m np\u001B[38;5;241m.\u001B[39marray([x1, x2])  \u001B[38;5;66;03m# 입력\u001B[39;00m\n\u001B[1;32m      6\u001B[0m     w \u001B[38;5;241m=\u001B[39m np\u001B[38;5;241m.\u001B[39marray([\u001B[38;5;241m-\u001B[39m\u001B[38;5;241m0.5\u001B[39m, \u001B[38;5;241m-\u001B[39m\u001B[38;5;241m0.5\u001B[39m])  \u001B[38;5;66;03m#가중치\u001B[39;00m\n\u001B[1;32m      7\u001B[0m     b \u001B[38;5;241m=\u001B[39m \u001B[38;5;241m0.7\u001B[39m  \u001B[38;5;66;03m# 편향    \u001B[39;00m\n",
      "\u001B[0;31mNameError\u001B[0m: name 'np' is not defined"
     ]
    }
   ],
   "source": [
    "# NAND 게이트 구현\n",
    "\n",
    "\n",
    "def NAND(x1, x2):\n",
    "    x = np.array([x1, x2])  # 입력\n",
    "    w = np.array([-0.5, -0.5])  #가중치\n",
    "    b = 0.7  # 편향    \n",
    "    temp = np.sum(x * w) + b\n",
    "    if temp > 0:\n",
    "        return 1\n",
    "    else:\n",
    "        return 0\n",
    "        \n",
    "\n",
    "def OR(x1, x2):\n",
    "    x = np.array([x1, x2])  # 입력\n",
    "    w = np.array([0.5, 0.5])  #가중치\n",
    "    b = 0.2  # 편향    \n",
    "    temp = np.sum(x * w) + b\n",
    "    if temp > 0:\n",
    "        return 1\n",
    "    else:\n",
    "        return 0\n",
    "        \n",
    "NAND(1,1)\n",
    "NAND(0,0)\n",
    "OR(1,0)\n",
    "OR(0,0)"
   ],
   "metadata": {
    "collapsed": false,
    "ExecuteTime": {
     "end_time": "2024-01-04T12:54:50.426036Z",
     "start_time": "2024-01-04T12:54:50.140031Z"
    }
   },
   "id": "b603f3e87d89f16d"
  },
  {
   "cell_type": "markdown",
   "source": [
    "# 퍼셉트론 한계\n",
    "XOR를 표현 못함"
   ],
   "metadata": {
    "collapsed": false
   },
   "id": "d09705aca3ad450b"
  },
  {
   "cell_type": "code",
   "execution_count": 14,
   "outputs": [
    {
     "name": "stdout",
     "output_type": "stream",
     "text": [
      "1\n",
      "0\n"
     ]
    }
   ],
   "source": [
    "# 다중 퍼셉트론\n",
    "# XOR 구현\n",
    "\n",
    "def XOR(x1,x2):\n",
    "    s1 = NAND(x1,x2)\n",
    "    s2 = OR(x1,x2)\n",
    "    y = AND(s1,s2)\n",
    "    print(y)\n",
    "    \n",
    "XOR(0,1)\n",
    "XOR(1,1)"
   ],
   "metadata": {
    "collapsed": false,
    "ExecuteTime": {
     "end_time": "2023-12-28T11:38:15.696915Z",
     "start_time": "2023-12-28T11:38:15.693083Z"
    }
   },
   "id": "86b80d9cbf1f8b8b"
  },
  {
   "cell_type": "code",
   "execution_count": null,
   "outputs": [],
   "source": [],
   "metadata": {
    "collapsed": false
   },
   "id": "70e828b8075c6a3d"
  }
 ],
 "metadata": {
  "kernelspec": {
   "display_name": "Python 3",
   "language": "python",
   "name": "python3"
  },
  "language_info": {
   "codemirror_mode": {
    "name": "ipython",
    "version": 2
   },
   "file_extension": ".py",
   "mimetype": "text/x-python",
   "name": "python",
   "nbconvert_exporter": "python",
   "pygments_lexer": "ipython2",
   "version": "2.7.6"
  }
 },
 "nbformat": 4,
 "nbformat_minor": 5
}
