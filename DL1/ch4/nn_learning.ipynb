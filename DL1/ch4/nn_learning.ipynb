{
 "cells": [
  {
   "cell_type": "markdown",
   "source": [
    "# 신경망 학습"
   ],
   "metadata": {
    "collapsed": false
   },
   "id": "f034765c114a9437"
  },
  {
   "cell_type": "code",
   "execution_count": 4,
   "outputs": [
    {
     "name": "stdout",
     "output_type": "stream",
     "text": [
      "0.09750000000000003\n",
      "0.5975\n"
     ]
    }
   ],
   "source": [
    "# 손실함수1 - SSE 평균 제곱 오차\n",
    "\n",
    "import numpy as np\n",
    "\n",
    "t = np.array([0, 0, 1, 0, 0, 0, 0, 0, 0, 0])\n",
    "\n",
    "\n",
    "def sum_squared_error(y, t):\n",
    "    return 0.5 * np.sum(np.square(y - t))\n",
    "\n",
    "\n",
    "# 정답일때\n",
    "y = np.array([0.1, 0.05, 0.6, 0.0, 0.05, 0.1, 0.0, 0.1, 0.0, 0.0])\n",
    "print(sum_squared_error(np.array(y), np.array(t)))\n",
    "\n",
    "# 오답일때\n",
    "y = np.array([0.1, 0.05, 0.1, 0.0, 0.05, 0.1, 0.0, 0.6, 0.0, 0.0])\n",
    "print(sum_squared_error(np.array(y), np.array(t)))"
   ],
   "metadata": {
    "collapsed": false,
    "ExecuteTime": {
     "end_time": "2023-12-30T08:44:41.891296Z",
     "start_time": "2023-12-30T08:44:41.884722Z"
    }
   },
   "id": "a7e169e14a3be890"
  },
  {
   "cell_type": "code",
   "execution_count": 5,
   "outputs": [
    {
     "name": "stdout",
     "output_type": "stream",
     "text": [
      "0.510825457099338\n",
      "2.302584092994546\n"
     ]
    }
   ],
   "source": [
    "# 손실함수 2 Cross entropy error\n",
    "\n",
    "def cross_entropy_error(y, t):\n",
    "    delta = 1e-7\n",
    "    return -np.sum(t * np.log(y + delta))\n",
    "\n",
    "\n",
    "# 정답일때\n",
    "y = np.array([0.1, 0.05, 0.6, 0.0, 0.05, 0.1, 0.0, 0.1, 0.0, 0.0])\n",
    "print(cross_entropy_error(y, t))\n",
    "\n",
    "# 오답일때\n",
    "y = np.array([0.1, 0.05, 0.1, 0.0, 0.05, 0.1, 0.0, 0.6, 0.0, 0.0])\n",
    "print(cross_entropy_error(y, t))"
   ],
   "metadata": {
    "collapsed": false,
    "ExecuteTime": {
     "end_time": "2023-12-30T08:52:41.937723Z",
     "start_time": "2023-12-30T08:52:41.933543Z"
    }
   },
   "id": "18d2f39ab877892a"
  },
  {
   "cell_type": "code",
   "execution_count": 11,
   "outputs": [
    {
     "name": "stdout",
     "output_type": "stream",
     "text": [
      "(60000, 784)\n",
      "(60000, 10)\n",
      "[ 3907 30356 42139 10781 36363  7023 22761 42347 16207 15755]\n"
     ]
    }
   ],
   "source": [
    "# 미니 배치학습\n",
    "import os, sys\n",
    "\n",
    "sys.path.append(os.pardir)\n",
    "from dataset.mnist import load_mnist\n",
    "\n",
    "(x_train, t_train), (x_test, t_test) = \\\n",
    "    load_mnist(normalize=True, one_hot_label=True)\n",
    "\n",
    "# 데이터 확인\n",
    "print(x_train.shape)  # 사진 데이터\n",
    "print(t_train.shape)  # 정답 레이블\n",
    "\n",
    "# 무작위 10개의 데이터 꺼내기\n",
    "train_size = x_train.shape[0]\n",
    "batch_size = 10\n",
    "batch_mask = np.random.choice(train_size, batch_size)\n",
    "print(batch_mask)\n",
    "\n",
    "x_batch = x_train[batch_mask]\n",
    "t_batch = t_train[batch_mask]"
   ],
   "metadata": {
    "collapsed": false,
    "ExecuteTime": {
     "end_time": "2023-12-30T09:27:48.388055Z",
     "start_time": "2023-12-30T09:27:48.263080Z"
    }
   },
   "id": "bec700713a445cb0"
  },
  {
   "cell_type": "code",
   "execution_count": null,
   "outputs": [],
   "source": [
    "# 배치용 cross entropy error 구현\n",
    "def cross_entropy_loss(y, t):\n",
    "    if y.ndim == 1:\n",
    "        t = t.reshape(1, t.size)\n",
    "        y = y.reshape(1, y.size)\n",
    "\n",
    "    batch_size = y.shape[0]\n",
    "    return -np.sum(np.log(y[np.arange(batch_size), t] + 1e-7)) / batch_size\n",
    "    \n",
    "    \n",
    "        "
   ],
   "metadata": {
    "collapsed": false
   },
   "id": "2e2aa4fde8e6aa74"
  }
 ],
 "metadata": {
  "kernelspec": {
   "display_name": "Python 3",
   "language": "python",
   "name": "python3"
  },
  "language_info": {
   "codemirror_mode": {
    "name": "ipython",
    "version": 2
   },
   "file_extension": ".py",
   "mimetype": "text/x-python",
   "name": "python",
   "nbconvert_exporter": "python",
   "pygments_lexer": "ipython2",
   "version": "2.7.6"
  }
 },
 "nbformat": 4,
 "nbformat_minor": 5
}
