{
 "cells": [
  {
   "cell_type": "code",
   "execution_count": 74,
   "id": "initial_id",
   "metadata": {
    "collapsed": true,
    "ExecuteTime": {
     "end_time": "2024-01-17T13:39:31.962859Z",
     "start_time": "2024-01-17T13:39:31.944887Z"
    }
   },
   "outputs": [],
   "source": [
    "import pandas as pd\n",
    "from selenium import webdriver\n",
    "from selenium.webdriver.common.by import By\n",
    "import os"
   ]
  },
  {
   "cell_type": "code",
   "outputs": [],
   "source": [
    "browser = webdriver.Chrome()\n",
    "url = 'https://finance.naver.com/sise/sise_market_sum.naver?&page='\n",
    "\n",
    "# 브라우저 최대화\n",
    "# browser.maximize_window()\n",
    "\n",
    "# 사이트 이동\n",
    "browser.get(url)"
   ],
   "metadata": {
    "collapsed": false,
    "ExecuteTime": {
     "end_time": "2024-01-17T13:39:34.014785Z",
     "start_time": "2024-01-17T13:39:31.965632Z"
    }
   },
   "id": "7a51be3d7bfd23ce",
   "execution_count": 75
  },
  {
   "cell_type": "code",
   "outputs": [],
   "source": [
    "# 조회 항목 초기화\n",
    "checkboxes = browser.find_elements(By.NAME,'fieldIds')\n",
    "for checkbox in checkboxes:\n",
    "    if checkbox.is_selected(): # 선택이 되었다면\n",
    "        checkbox.click()\n",
    "        \n",
    "# 3. 조회 항목 설정 (원하는 항목)\n",
    "items_to_select = ['영업이익','자산총계','매출액']\n",
    "# 실제로 체크할 항목을 보면 영업이익(억)과 같이 적혀있지만 (억)은 별도로 적혀 있음 \n",
    "# html 구성상을 보고 판단해야함 .\n",
    "\n",
    "# checkbox\n",
    "for checkbox in checkboxes:\n",
    "    parent = checkbox.find_element(By.XPATH,'..') # 부모 엘리먼트 td를 찾게 됨\n",
    "    label = parent.find_element(By.TAG_NAME,'label') # td 엘리먼트 안에 label 엘리먼트를 찾음\n",
    "    # print(label.text) # 이름확인하기 위해 하는것\n",
    "    if label.text in items_to_select: # 선택항목과 일치한다면\n",
    "        checkbox.click() # 항목 체크 \n",
    "    "
   ],
   "metadata": {
    "collapsed": false,
    "ExecuteTime": {
     "end_time": "2024-01-17T13:39:35.022327Z",
     "start_time": "2024-01-17T13:39:34.015812Z"
    }
   },
   "id": "d70a8ce7efa75640",
   "execution_count": 76
  },
  {
   "cell_type": "code",
   "outputs": [],
   "source": [
    "# 적용하기 버튼 클릭\n",
    "# 방법 1 xpath 로 구하기\n",
    "# # 네이버 메인화면 -> 개발자 도구 -> 누를 버튼을 개발자도구 태그 찾는걸로 누르고\n",
    "# # href 있는 태그를 우클릭해서 xpath 복사하기를 한다.\n",
    "# btn_apply = browser.find_element(By.XPATH,'//*[@id=\"contentarea_left\"]/div[2]/form/div/div/div/a[1]')\n",
    "# btn_apply.click()\n",
    "\n",
    "# 방법 2 href로 찾기\n",
    "# <a href=\"javascript:fieldSubmit()\"> 와 같이 자바스크립트로 명시되어 있으므로\n",
    "# 시작에 // => 전체 html 문서에서 찾겠다\n",
    "\n",
    "btn_apply = browser.find_element(By.XPATH,'//a[@href=\"javascript:fieldSubmit()\"]')\n",
    "btn_apply.click()"
   ],
   "metadata": {
    "collapsed": false,
    "ExecuteTime": {
     "end_time": "2024-01-17T13:39:35.520015Z",
     "start_time": "2024-01-17T13:39:35.023234Z"
    }
   },
   "id": "651b9a13979c0931",
   "execution_count": 77
  },
  {
   "cell_type": "code",
   "outputs": [],
   "source": [
    "# 데이터 추출\n",
    "# 판다스의 read_html 을 이용해 편하게 가져오기\n",
    "df = pd.read_html(browser.page_source)\n"
   ],
   "metadata": {
    "collapsed": false,
    "ExecuteTime": {
     "end_time": "2024-01-17T13:39:35.561328Z",
     "start_time": "2024-01-17T13:39:35.525331Z"
    }
   },
   "id": "621d494f4b1280bd",
   "execution_count": 78
  },
  {
   "cell_type": "code",
   "outputs": [
    {
     "data": {
      "text/plain": "3"
     },
     "execution_count": 79,
     "metadata": {},
     "output_type": "execute_result"
    }
   ],
   "source": [
    "len(df) # df가 몇개의 테이블을 가져오나 확인"
   ],
   "metadata": {
    "collapsed": false,
    "ExecuteTime": {
     "end_time": "2024-01-17T13:39:35.564841Z",
     "start_time": "2024-01-17T13:39:35.561287Z"
    }
   },
   "id": "e568c541e56fd3dc",
   "execution_count": 79
  },
  {
   "cell_type": "code",
   "outputs": [
    {
     "data": {
      "text/plain": "     0      1          2        3          4       5\n0  거래량   매수호가   거래대금(백만)  시가총액(억)    영업이익(억)  PER(배)\n1   시가   매도호가      전일거래량  자산총계(억)    영업이익증가율  ROE(%)\n2   고가  매수총잔량      외국인비율  부채총계(억)   당기순이익(억)  ROA(%)\n3   저가  매도총잔량  상장주식수(천주)   매출액(억)   주당순이익(원)  PBR(배)\n4  NaN    NaN        NaN   매출액증가율  보통주배당금(원)  유보율(%)",
      "text/html": "<div>\n<style scoped>\n    .dataframe tbody tr th:only-of-type {\n        vertical-align: middle;\n    }\n\n    .dataframe tbody tr th {\n        vertical-align: top;\n    }\n\n    .dataframe thead th {\n        text-align: right;\n    }\n</style>\n<table border=\"1\" class=\"dataframe\">\n  <thead>\n    <tr style=\"text-align: right;\">\n      <th></th>\n      <th>0</th>\n      <th>1</th>\n      <th>2</th>\n      <th>3</th>\n      <th>4</th>\n      <th>5</th>\n    </tr>\n  </thead>\n  <tbody>\n    <tr>\n      <th>0</th>\n      <td>거래량</td>\n      <td>매수호가</td>\n      <td>거래대금(백만)</td>\n      <td>시가총액(억)</td>\n      <td>영업이익(억)</td>\n      <td>PER(배)</td>\n    </tr>\n    <tr>\n      <th>1</th>\n      <td>시가</td>\n      <td>매도호가</td>\n      <td>전일거래량</td>\n      <td>자산총계(억)</td>\n      <td>영업이익증가율</td>\n      <td>ROE(%)</td>\n    </tr>\n    <tr>\n      <th>2</th>\n      <td>고가</td>\n      <td>매수총잔량</td>\n      <td>외국인비율</td>\n      <td>부채총계(억)</td>\n      <td>당기순이익(억)</td>\n      <td>ROA(%)</td>\n    </tr>\n    <tr>\n      <th>3</th>\n      <td>저가</td>\n      <td>매도총잔량</td>\n      <td>상장주식수(천주)</td>\n      <td>매출액(억)</td>\n      <td>주당순이익(원)</td>\n      <td>PBR(배)</td>\n    </tr>\n    <tr>\n      <th>4</th>\n      <td>NaN</td>\n      <td>NaN</td>\n      <td>NaN</td>\n      <td>매출액증가율</td>\n      <td>보통주배당금(원)</td>\n      <td>유보율(%)</td>\n    </tr>\n  </tbody>\n</table>\n</div>"
     },
     "execution_count": 80,
     "metadata": {},
     "output_type": "execute_result"
    }
   ],
   "source": [
    "df[0] # 확인해보면, 옵션 선택하는 부분임 => 이부분은 우리가 원하는 부분이 아님"
   ],
   "metadata": {
    "collapsed": false,
    "ExecuteTime": {
     "end_time": "2024-01-17T13:39:35.571971Z",
     "start_time": "2024-01-17T13:39:35.568117Z"
    }
   },
   "id": "7a18119dc097abcd",
   "execution_count": 80
  },
  {
   "cell_type": "code",
   "outputs": [
    {
     "data": {
      "text/plain": "       N                  종목명       현재가      전일비     등락률     액면가        매출액  \\\n0    NaN                  NaN       NaN      NaN     NaN     NaN        NaN   \n1    1.0                 삼성전자   71000.0   1600.0  -2.20%   100.0  3022314.0   \n2    2.0               SK하이닉스  131000.0   1100.0  -0.83%  5000.0   446216.0   \n3    3.0             LG에너지솔루션  390000.0  10500.0  -2.62%   500.0   255986.0   \n4    4.0             삼성바이오로직스  756000.0  10000.0  -1.31%  2500.0    30013.0   \n..   ...                  ...       ...      ...     ...     ...        ...   \n76  49.0  TIGER CD금리투자KIS(합성)   53670.0      5.0  +0.01%     0.0        NaN   \n77  50.0               아모레퍼시픽  121300.0   1500.0  -1.22%   500.0    41349.0   \n78   NaN                  NaN       NaN      NaN     NaN     NaN        NaN   \n79   NaN                  NaN       NaN      NaN     NaN     NaN        NaN   \n80   NaN                  NaN       NaN      NaN     NaN     NaN        NaN   \n\n         자산총계      영업이익  토론실  Unnamed: 10  Unnamed: 11  Unnamed: 12  \n0         NaN       NaN  NaN          NaN          NaN          NaN  \n1   4484245.0  433766.0  NaN          NaN          NaN          NaN  \n2   1038715.0   68094.0  NaN          NaN          NaN          NaN  \n3    382994.0   12137.0  NaN          NaN          NaN          NaN  \n4    165821.0    9836.0  NaN          NaN          NaN          NaN  \n..        ...       ...  ...          ...          ...          ...  \n76        NaN       NaN  NaN          NaN          NaN          NaN  \n77    58018.0    2142.0  NaN          NaN          NaN          NaN  \n78        NaN       NaN  NaN          NaN          NaN          NaN  \n79        NaN       NaN  NaN          NaN          NaN          NaN  \n80        NaN       NaN  NaN          NaN          NaN          NaN  \n\n[81 rows x 13 columns]",
      "text/html": "<div>\n<style scoped>\n    .dataframe tbody tr th:only-of-type {\n        vertical-align: middle;\n    }\n\n    .dataframe tbody tr th {\n        vertical-align: top;\n    }\n\n    .dataframe thead th {\n        text-align: right;\n    }\n</style>\n<table border=\"1\" class=\"dataframe\">\n  <thead>\n    <tr style=\"text-align: right;\">\n      <th></th>\n      <th>N</th>\n      <th>종목명</th>\n      <th>현재가</th>\n      <th>전일비</th>\n      <th>등락률</th>\n      <th>액면가</th>\n      <th>매출액</th>\n      <th>자산총계</th>\n      <th>영업이익</th>\n      <th>토론실</th>\n      <th>Unnamed: 10</th>\n      <th>Unnamed: 11</th>\n      <th>Unnamed: 12</th>\n    </tr>\n  </thead>\n  <tbody>\n    <tr>\n      <th>0</th>\n      <td>NaN</td>\n      <td>NaN</td>\n      <td>NaN</td>\n      <td>NaN</td>\n      <td>NaN</td>\n      <td>NaN</td>\n      <td>NaN</td>\n      <td>NaN</td>\n      <td>NaN</td>\n      <td>NaN</td>\n      <td>NaN</td>\n      <td>NaN</td>\n      <td>NaN</td>\n    </tr>\n    <tr>\n      <th>1</th>\n      <td>1.0</td>\n      <td>삼성전자</td>\n      <td>71000.0</td>\n      <td>1600.0</td>\n      <td>-2.20%</td>\n      <td>100.0</td>\n      <td>3022314.0</td>\n      <td>4484245.0</td>\n      <td>433766.0</td>\n      <td>NaN</td>\n      <td>NaN</td>\n      <td>NaN</td>\n      <td>NaN</td>\n    </tr>\n    <tr>\n      <th>2</th>\n      <td>2.0</td>\n      <td>SK하이닉스</td>\n      <td>131000.0</td>\n      <td>1100.0</td>\n      <td>-0.83%</td>\n      <td>5000.0</td>\n      <td>446216.0</td>\n      <td>1038715.0</td>\n      <td>68094.0</td>\n      <td>NaN</td>\n      <td>NaN</td>\n      <td>NaN</td>\n      <td>NaN</td>\n    </tr>\n    <tr>\n      <th>3</th>\n      <td>3.0</td>\n      <td>LG에너지솔루션</td>\n      <td>390000.0</td>\n      <td>10500.0</td>\n      <td>-2.62%</td>\n      <td>500.0</td>\n      <td>255986.0</td>\n      <td>382994.0</td>\n      <td>12137.0</td>\n      <td>NaN</td>\n      <td>NaN</td>\n      <td>NaN</td>\n      <td>NaN</td>\n    </tr>\n    <tr>\n      <th>4</th>\n      <td>4.0</td>\n      <td>삼성바이오로직스</td>\n      <td>756000.0</td>\n      <td>10000.0</td>\n      <td>-1.31%</td>\n      <td>2500.0</td>\n      <td>30013.0</td>\n      <td>165821.0</td>\n      <td>9836.0</td>\n      <td>NaN</td>\n      <td>NaN</td>\n      <td>NaN</td>\n      <td>NaN</td>\n    </tr>\n    <tr>\n      <th>...</th>\n      <td>...</td>\n      <td>...</td>\n      <td>...</td>\n      <td>...</td>\n      <td>...</td>\n      <td>...</td>\n      <td>...</td>\n      <td>...</td>\n      <td>...</td>\n      <td>...</td>\n      <td>...</td>\n      <td>...</td>\n      <td>...</td>\n    </tr>\n    <tr>\n      <th>76</th>\n      <td>49.0</td>\n      <td>TIGER CD금리투자KIS(합성)</td>\n      <td>53670.0</td>\n      <td>5.0</td>\n      <td>+0.01%</td>\n      <td>0.0</td>\n      <td>NaN</td>\n      <td>NaN</td>\n      <td>NaN</td>\n      <td>NaN</td>\n      <td>NaN</td>\n      <td>NaN</td>\n      <td>NaN</td>\n    </tr>\n    <tr>\n      <th>77</th>\n      <td>50.0</td>\n      <td>아모레퍼시픽</td>\n      <td>121300.0</td>\n      <td>1500.0</td>\n      <td>-1.22%</td>\n      <td>500.0</td>\n      <td>41349.0</td>\n      <td>58018.0</td>\n      <td>2142.0</td>\n      <td>NaN</td>\n      <td>NaN</td>\n      <td>NaN</td>\n      <td>NaN</td>\n    </tr>\n    <tr>\n      <th>78</th>\n      <td>NaN</td>\n      <td>NaN</td>\n      <td>NaN</td>\n      <td>NaN</td>\n      <td>NaN</td>\n      <td>NaN</td>\n      <td>NaN</td>\n      <td>NaN</td>\n      <td>NaN</td>\n      <td>NaN</td>\n      <td>NaN</td>\n      <td>NaN</td>\n      <td>NaN</td>\n    </tr>\n    <tr>\n      <th>79</th>\n      <td>NaN</td>\n      <td>NaN</td>\n      <td>NaN</td>\n      <td>NaN</td>\n      <td>NaN</td>\n      <td>NaN</td>\n      <td>NaN</td>\n      <td>NaN</td>\n      <td>NaN</td>\n      <td>NaN</td>\n      <td>NaN</td>\n      <td>NaN</td>\n      <td>NaN</td>\n    </tr>\n    <tr>\n      <th>80</th>\n      <td>NaN</td>\n      <td>NaN</td>\n      <td>NaN</td>\n      <td>NaN</td>\n      <td>NaN</td>\n      <td>NaN</td>\n      <td>NaN</td>\n      <td>NaN</td>\n      <td>NaN</td>\n      <td>NaN</td>\n      <td>NaN</td>\n      <td>NaN</td>\n      <td>NaN</td>\n    </tr>\n  </tbody>\n</table>\n<p>81 rows × 13 columns</p>\n</div>"
     },
     "execution_count": 81,
     "metadata": {},
     "output_type": "execute_result"
    }
   ],
   "source": [
    "df[1] # 우리가 원하는 정보임"
   ],
   "metadata": {
    "collapsed": false,
    "ExecuteTime": {
     "end_time": "2024-01-17T13:39:35.581349Z",
     "start_time": "2024-01-17T13:39:35.578094Z"
    }
   },
   "id": "fcc63ea2f5e141d0",
   "execution_count": 81
  },
  {
   "cell_type": "code",
   "outputs": [
    {
     "data": {
      "text/plain": "       N                  종목명       현재가      전일비     등락률     액면가        매출액  \\\n0    NaN                  NaN       NaN      NaN     NaN     NaN        NaN   \n1    1.0                 삼성전자   71000.0   1600.0  -2.20%   100.0  3022314.0   \n2    2.0               SK하이닉스  131000.0   1100.0  -0.83%  5000.0   446216.0   \n3    3.0             LG에너지솔루션  390000.0  10500.0  -2.62%   500.0   255986.0   \n4    4.0             삼성바이오로직스  756000.0  10000.0  -1.31%  2500.0    30013.0   \n..   ...                  ...       ...      ...     ...     ...        ...   \n76  49.0  TIGER CD금리투자KIS(합성)   53670.0      5.0  +0.01%     0.0        NaN   \n77  50.0               아모레퍼시픽  121300.0   1500.0  -1.22%   500.0    41349.0   \n78   NaN                  NaN       NaN      NaN     NaN     NaN        NaN   \n79   NaN                  NaN       NaN      NaN     NaN     NaN        NaN   \n80   NaN                  NaN       NaN      NaN     NaN     NaN        NaN   \n\n         자산총계      영업이익  토론실  Unnamed: 10  Unnamed: 11  Unnamed: 12  \n0         NaN       NaN  NaN          NaN          NaN          NaN  \n1   4484245.0  433766.0  NaN          NaN          NaN          NaN  \n2   1038715.0   68094.0  NaN          NaN          NaN          NaN  \n3    382994.0   12137.0  NaN          NaN          NaN          NaN  \n4    165821.0    9836.0  NaN          NaN          NaN          NaN  \n..        ...       ...  ...          ...          ...          ...  \n76        NaN       NaN  NaN          NaN          NaN          NaN  \n77    58018.0    2142.0  NaN          NaN          NaN          NaN  \n78        NaN       NaN  NaN          NaN          NaN          NaN  \n79        NaN       NaN  NaN          NaN          NaN          NaN  \n80        NaN       NaN  NaN          NaN          NaN          NaN  \n\n[81 rows x 13 columns]",
      "text/html": "<div>\n<style scoped>\n    .dataframe tbody tr th:only-of-type {\n        vertical-align: middle;\n    }\n\n    .dataframe tbody tr th {\n        vertical-align: top;\n    }\n\n    .dataframe thead th {\n        text-align: right;\n    }\n</style>\n<table border=\"1\" class=\"dataframe\">\n  <thead>\n    <tr style=\"text-align: right;\">\n      <th></th>\n      <th>N</th>\n      <th>종목명</th>\n      <th>현재가</th>\n      <th>전일비</th>\n      <th>등락률</th>\n      <th>액면가</th>\n      <th>매출액</th>\n      <th>자산총계</th>\n      <th>영업이익</th>\n      <th>토론실</th>\n      <th>Unnamed: 10</th>\n      <th>Unnamed: 11</th>\n      <th>Unnamed: 12</th>\n    </tr>\n  </thead>\n  <tbody>\n    <tr>\n      <th>0</th>\n      <td>NaN</td>\n      <td>NaN</td>\n      <td>NaN</td>\n      <td>NaN</td>\n      <td>NaN</td>\n      <td>NaN</td>\n      <td>NaN</td>\n      <td>NaN</td>\n      <td>NaN</td>\n      <td>NaN</td>\n      <td>NaN</td>\n      <td>NaN</td>\n      <td>NaN</td>\n    </tr>\n    <tr>\n      <th>1</th>\n      <td>1.0</td>\n      <td>삼성전자</td>\n      <td>71000.0</td>\n      <td>1600.0</td>\n      <td>-2.20%</td>\n      <td>100.0</td>\n      <td>3022314.0</td>\n      <td>4484245.0</td>\n      <td>433766.0</td>\n      <td>NaN</td>\n      <td>NaN</td>\n      <td>NaN</td>\n      <td>NaN</td>\n    </tr>\n    <tr>\n      <th>2</th>\n      <td>2.0</td>\n      <td>SK하이닉스</td>\n      <td>131000.0</td>\n      <td>1100.0</td>\n      <td>-0.83%</td>\n      <td>5000.0</td>\n      <td>446216.0</td>\n      <td>1038715.0</td>\n      <td>68094.0</td>\n      <td>NaN</td>\n      <td>NaN</td>\n      <td>NaN</td>\n      <td>NaN</td>\n    </tr>\n    <tr>\n      <th>3</th>\n      <td>3.0</td>\n      <td>LG에너지솔루션</td>\n      <td>390000.0</td>\n      <td>10500.0</td>\n      <td>-2.62%</td>\n      <td>500.0</td>\n      <td>255986.0</td>\n      <td>382994.0</td>\n      <td>12137.0</td>\n      <td>NaN</td>\n      <td>NaN</td>\n      <td>NaN</td>\n      <td>NaN</td>\n    </tr>\n    <tr>\n      <th>4</th>\n      <td>4.0</td>\n      <td>삼성바이오로직스</td>\n      <td>756000.0</td>\n      <td>10000.0</td>\n      <td>-1.31%</td>\n      <td>2500.0</td>\n      <td>30013.0</td>\n      <td>165821.0</td>\n      <td>9836.0</td>\n      <td>NaN</td>\n      <td>NaN</td>\n      <td>NaN</td>\n      <td>NaN</td>\n    </tr>\n    <tr>\n      <th>...</th>\n      <td>...</td>\n      <td>...</td>\n      <td>...</td>\n      <td>...</td>\n      <td>...</td>\n      <td>...</td>\n      <td>...</td>\n      <td>...</td>\n      <td>...</td>\n      <td>...</td>\n      <td>...</td>\n      <td>...</td>\n      <td>...</td>\n    </tr>\n    <tr>\n      <th>76</th>\n      <td>49.0</td>\n      <td>TIGER CD금리투자KIS(합성)</td>\n      <td>53670.0</td>\n      <td>5.0</td>\n      <td>+0.01%</td>\n      <td>0.0</td>\n      <td>NaN</td>\n      <td>NaN</td>\n      <td>NaN</td>\n      <td>NaN</td>\n      <td>NaN</td>\n      <td>NaN</td>\n      <td>NaN</td>\n    </tr>\n    <tr>\n      <th>77</th>\n      <td>50.0</td>\n      <td>아모레퍼시픽</td>\n      <td>121300.0</td>\n      <td>1500.0</td>\n      <td>-1.22%</td>\n      <td>500.0</td>\n      <td>41349.0</td>\n      <td>58018.0</td>\n      <td>2142.0</td>\n      <td>NaN</td>\n      <td>NaN</td>\n      <td>NaN</td>\n      <td>NaN</td>\n    </tr>\n    <tr>\n      <th>78</th>\n      <td>NaN</td>\n      <td>NaN</td>\n      <td>NaN</td>\n      <td>NaN</td>\n      <td>NaN</td>\n      <td>NaN</td>\n      <td>NaN</td>\n      <td>NaN</td>\n      <td>NaN</td>\n      <td>NaN</td>\n      <td>NaN</td>\n      <td>NaN</td>\n      <td>NaN</td>\n    </tr>\n    <tr>\n      <th>79</th>\n      <td>NaN</td>\n      <td>NaN</td>\n      <td>NaN</td>\n      <td>NaN</td>\n      <td>NaN</td>\n      <td>NaN</td>\n      <td>NaN</td>\n      <td>NaN</td>\n      <td>NaN</td>\n      <td>NaN</td>\n      <td>NaN</td>\n      <td>NaN</td>\n      <td>NaN</td>\n    </tr>\n    <tr>\n      <th>80</th>\n      <td>NaN</td>\n      <td>NaN</td>\n      <td>NaN</td>\n      <td>NaN</td>\n      <td>NaN</td>\n      <td>NaN</td>\n      <td>NaN</td>\n      <td>NaN</td>\n      <td>NaN</td>\n      <td>NaN</td>\n      <td>NaN</td>\n      <td>NaN</td>\n      <td>NaN</td>\n    </tr>\n  </tbody>\n</table>\n<p>81 rows × 13 columns</p>\n</div>"
     },
     "execution_count": 82,
     "metadata": {},
     "output_type": "execute_result"
    }
   ],
   "source": [
    "df = pd.read_html(browser.page_source)[1] # 필요한 데이터만 가져옴\n",
    "df"
   ],
   "metadata": {
    "collapsed": false,
    "ExecuteTime": {
     "end_time": "2024-01-17T13:39:35.667663Z",
     "start_time": "2024-01-17T13:39:35.581382Z"
    }
   },
   "id": "1c56ca64794cc2ea",
   "execution_count": 82
  },
  {
   "cell_type": "code",
   "outputs": [
    {
     "data": {
      "text/plain": "       N       종목명       현재가      전일비     등락률     액면가        매출액       자산총계  \\\n0    NaN       NaN       NaN      NaN     NaN     NaN        NaN        NaN   \n1    1.0      삼성전자   71000.0   1600.0  -2.20%   100.0  3022314.0  4484245.0   \n2    2.0    SK하이닉스  131000.0   1100.0  -0.83%  5000.0   446216.0  1038715.0   \n3    3.0  LG에너지솔루션  390000.0  10500.0  -2.62%   500.0   255986.0   382994.0   \n4    4.0  삼성바이오로직스  756000.0  10000.0  -1.31%  2500.0    30013.0   165821.0   \n5    5.0     삼성전자우   58300.0    800.0  -1.35%   100.0        NaN        NaN   \n6    NaN       NaN       NaN      NaN     NaN     NaN        NaN        NaN   \n7    NaN       NaN       NaN      NaN     NaN     NaN        NaN        NaN   \n8    NaN       NaN       NaN      NaN     NaN     NaN        NaN        NaN   \n9    6.0      셀트리온  178000.0   9500.0  -5.07%  1000.0    22840.0    58917.0   \n10   7.0       현대차  181800.0   4400.0  -2.36%  5000.0  1425275.0  2557425.0   \n11   8.0     NAVER  219000.0  11000.0  -4.78%   100.0    82201.0   338990.0   \n12   9.0  POSCO홀딩스  419000.0  18500.0  -4.23%  5000.0   847502.0   984068.0   \n13  10.0        기아   87900.0   1900.0  -2.12%  5000.0   865590.0   737110.0   \n14   NaN       NaN       NaN      NaN     NaN     NaN        NaN        NaN   \n15   NaN       NaN       NaN      NaN     NaN     NaN        NaN        NaN   \n16   NaN       NaN       NaN      NaN     NaN     NaN        NaN        NaN   \n17  11.0      LG화학  408500.0  23500.0  -5.44%  5000.0   518649.0   679738.0   \n18  12.0     삼성SDI  379000.0  16000.0  -4.05%  5000.0   201241.0   302575.0   \n19  13.0       카카오   57500.0   2100.0  -3.52%   100.0    71068.0   229635.0   \n\n        영업이익  토론실  Unnamed: 10  Unnamed: 11  Unnamed: 12  \n0        NaN  NaN          NaN          NaN          NaN  \n1   433766.0  NaN          NaN          NaN          NaN  \n2    68094.0  NaN          NaN          NaN          NaN  \n3    12137.0  NaN          NaN          NaN          NaN  \n4     9836.0  NaN          NaN          NaN          NaN  \n5        NaN  NaN          NaN          NaN          NaN  \n6        NaN  NaN          NaN          NaN          NaN  \n7        NaN  NaN          NaN          NaN          NaN  \n8        NaN  NaN          NaN          NaN          NaN  \n9     6472.0  NaN          NaN          NaN          NaN  \n10   98198.0  NaN          NaN          NaN          NaN  \n11   13047.0  NaN          NaN          NaN          NaN  \n12   48501.0  NaN          NaN          NaN          NaN  \n13   72331.0  NaN          NaN          NaN          NaN  \n14       NaN  NaN          NaN          NaN          NaN  \n15       NaN  NaN          NaN          NaN          NaN  \n16       NaN  NaN          NaN          NaN          NaN  \n17   29957.0  NaN          NaN          NaN          NaN  \n18   18080.0  NaN          NaN          NaN          NaN  \n19    5803.0  NaN          NaN          NaN          NaN  ",
      "text/html": "<div>\n<style scoped>\n    .dataframe tbody tr th:only-of-type {\n        vertical-align: middle;\n    }\n\n    .dataframe tbody tr th {\n        vertical-align: top;\n    }\n\n    .dataframe thead th {\n        text-align: right;\n    }\n</style>\n<table border=\"1\" class=\"dataframe\">\n  <thead>\n    <tr style=\"text-align: right;\">\n      <th></th>\n      <th>N</th>\n      <th>종목명</th>\n      <th>현재가</th>\n      <th>전일비</th>\n      <th>등락률</th>\n      <th>액면가</th>\n      <th>매출액</th>\n      <th>자산총계</th>\n      <th>영업이익</th>\n      <th>토론실</th>\n      <th>Unnamed: 10</th>\n      <th>Unnamed: 11</th>\n      <th>Unnamed: 12</th>\n    </tr>\n  </thead>\n  <tbody>\n    <tr>\n      <th>0</th>\n      <td>NaN</td>\n      <td>NaN</td>\n      <td>NaN</td>\n      <td>NaN</td>\n      <td>NaN</td>\n      <td>NaN</td>\n      <td>NaN</td>\n      <td>NaN</td>\n      <td>NaN</td>\n      <td>NaN</td>\n      <td>NaN</td>\n      <td>NaN</td>\n      <td>NaN</td>\n    </tr>\n    <tr>\n      <th>1</th>\n      <td>1.0</td>\n      <td>삼성전자</td>\n      <td>71000.0</td>\n      <td>1600.0</td>\n      <td>-2.20%</td>\n      <td>100.0</td>\n      <td>3022314.0</td>\n      <td>4484245.0</td>\n      <td>433766.0</td>\n      <td>NaN</td>\n      <td>NaN</td>\n      <td>NaN</td>\n      <td>NaN</td>\n    </tr>\n    <tr>\n      <th>2</th>\n      <td>2.0</td>\n      <td>SK하이닉스</td>\n      <td>131000.0</td>\n      <td>1100.0</td>\n      <td>-0.83%</td>\n      <td>5000.0</td>\n      <td>446216.0</td>\n      <td>1038715.0</td>\n      <td>68094.0</td>\n      <td>NaN</td>\n      <td>NaN</td>\n      <td>NaN</td>\n      <td>NaN</td>\n    </tr>\n    <tr>\n      <th>3</th>\n      <td>3.0</td>\n      <td>LG에너지솔루션</td>\n      <td>390000.0</td>\n      <td>10500.0</td>\n      <td>-2.62%</td>\n      <td>500.0</td>\n      <td>255986.0</td>\n      <td>382994.0</td>\n      <td>12137.0</td>\n      <td>NaN</td>\n      <td>NaN</td>\n      <td>NaN</td>\n      <td>NaN</td>\n    </tr>\n    <tr>\n      <th>4</th>\n      <td>4.0</td>\n      <td>삼성바이오로직스</td>\n      <td>756000.0</td>\n      <td>10000.0</td>\n      <td>-1.31%</td>\n      <td>2500.0</td>\n      <td>30013.0</td>\n      <td>165821.0</td>\n      <td>9836.0</td>\n      <td>NaN</td>\n      <td>NaN</td>\n      <td>NaN</td>\n      <td>NaN</td>\n    </tr>\n    <tr>\n      <th>5</th>\n      <td>5.0</td>\n      <td>삼성전자우</td>\n      <td>58300.0</td>\n      <td>800.0</td>\n      <td>-1.35%</td>\n      <td>100.0</td>\n      <td>NaN</td>\n      <td>NaN</td>\n      <td>NaN</td>\n      <td>NaN</td>\n      <td>NaN</td>\n      <td>NaN</td>\n      <td>NaN</td>\n    </tr>\n    <tr>\n      <th>6</th>\n      <td>NaN</td>\n      <td>NaN</td>\n      <td>NaN</td>\n      <td>NaN</td>\n      <td>NaN</td>\n      <td>NaN</td>\n      <td>NaN</td>\n      <td>NaN</td>\n      <td>NaN</td>\n      <td>NaN</td>\n      <td>NaN</td>\n      <td>NaN</td>\n      <td>NaN</td>\n    </tr>\n    <tr>\n      <th>7</th>\n      <td>NaN</td>\n      <td>NaN</td>\n      <td>NaN</td>\n      <td>NaN</td>\n      <td>NaN</td>\n      <td>NaN</td>\n      <td>NaN</td>\n      <td>NaN</td>\n      <td>NaN</td>\n      <td>NaN</td>\n      <td>NaN</td>\n      <td>NaN</td>\n      <td>NaN</td>\n    </tr>\n    <tr>\n      <th>8</th>\n      <td>NaN</td>\n      <td>NaN</td>\n      <td>NaN</td>\n      <td>NaN</td>\n      <td>NaN</td>\n      <td>NaN</td>\n      <td>NaN</td>\n      <td>NaN</td>\n      <td>NaN</td>\n      <td>NaN</td>\n      <td>NaN</td>\n      <td>NaN</td>\n      <td>NaN</td>\n    </tr>\n    <tr>\n      <th>9</th>\n      <td>6.0</td>\n      <td>셀트리온</td>\n      <td>178000.0</td>\n      <td>9500.0</td>\n      <td>-5.07%</td>\n      <td>1000.0</td>\n      <td>22840.0</td>\n      <td>58917.0</td>\n      <td>6472.0</td>\n      <td>NaN</td>\n      <td>NaN</td>\n      <td>NaN</td>\n      <td>NaN</td>\n    </tr>\n    <tr>\n      <th>10</th>\n      <td>7.0</td>\n      <td>현대차</td>\n      <td>181800.0</td>\n      <td>4400.0</td>\n      <td>-2.36%</td>\n      <td>5000.0</td>\n      <td>1425275.0</td>\n      <td>2557425.0</td>\n      <td>98198.0</td>\n      <td>NaN</td>\n      <td>NaN</td>\n      <td>NaN</td>\n      <td>NaN</td>\n    </tr>\n    <tr>\n      <th>11</th>\n      <td>8.0</td>\n      <td>NAVER</td>\n      <td>219000.0</td>\n      <td>11000.0</td>\n      <td>-4.78%</td>\n      <td>100.0</td>\n      <td>82201.0</td>\n      <td>338990.0</td>\n      <td>13047.0</td>\n      <td>NaN</td>\n      <td>NaN</td>\n      <td>NaN</td>\n      <td>NaN</td>\n    </tr>\n    <tr>\n      <th>12</th>\n      <td>9.0</td>\n      <td>POSCO홀딩스</td>\n      <td>419000.0</td>\n      <td>18500.0</td>\n      <td>-4.23%</td>\n      <td>5000.0</td>\n      <td>847502.0</td>\n      <td>984068.0</td>\n      <td>48501.0</td>\n      <td>NaN</td>\n      <td>NaN</td>\n      <td>NaN</td>\n      <td>NaN</td>\n    </tr>\n    <tr>\n      <th>13</th>\n      <td>10.0</td>\n      <td>기아</td>\n      <td>87900.0</td>\n      <td>1900.0</td>\n      <td>-2.12%</td>\n      <td>5000.0</td>\n      <td>865590.0</td>\n      <td>737110.0</td>\n      <td>72331.0</td>\n      <td>NaN</td>\n      <td>NaN</td>\n      <td>NaN</td>\n      <td>NaN</td>\n    </tr>\n    <tr>\n      <th>14</th>\n      <td>NaN</td>\n      <td>NaN</td>\n      <td>NaN</td>\n      <td>NaN</td>\n      <td>NaN</td>\n      <td>NaN</td>\n      <td>NaN</td>\n      <td>NaN</td>\n      <td>NaN</td>\n      <td>NaN</td>\n      <td>NaN</td>\n      <td>NaN</td>\n      <td>NaN</td>\n    </tr>\n    <tr>\n      <th>15</th>\n      <td>NaN</td>\n      <td>NaN</td>\n      <td>NaN</td>\n      <td>NaN</td>\n      <td>NaN</td>\n      <td>NaN</td>\n      <td>NaN</td>\n      <td>NaN</td>\n      <td>NaN</td>\n      <td>NaN</td>\n      <td>NaN</td>\n      <td>NaN</td>\n      <td>NaN</td>\n    </tr>\n    <tr>\n      <th>16</th>\n      <td>NaN</td>\n      <td>NaN</td>\n      <td>NaN</td>\n      <td>NaN</td>\n      <td>NaN</td>\n      <td>NaN</td>\n      <td>NaN</td>\n      <td>NaN</td>\n      <td>NaN</td>\n      <td>NaN</td>\n      <td>NaN</td>\n      <td>NaN</td>\n      <td>NaN</td>\n    </tr>\n    <tr>\n      <th>17</th>\n      <td>11.0</td>\n      <td>LG화학</td>\n      <td>408500.0</td>\n      <td>23500.0</td>\n      <td>-5.44%</td>\n      <td>5000.0</td>\n      <td>518649.0</td>\n      <td>679738.0</td>\n      <td>29957.0</td>\n      <td>NaN</td>\n      <td>NaN</td>\n      <td>NaN</td>\n      <td>NaN</td>\n    </tr>\n    <tr>\n      <th>18</th>\n      <td>12.0</td>\n      <td>삼성SDI</td>\n      <td>379000.0</td>\n      <td>16000.0</td>\n      <td>-4.05%</td>\n      <td>5000.0</td>\n      <td>201241.0</td>\n      <td>302575.0</td>\n      <td>18080.0</td>\n      <td>NaN</td>\n      <td>NaN</td>\n      <td>NaN</td>\n      <td>NaN</td>\n    </tr>\n    <tr>\n      <th>19</th>\n      <td>13.0</td>\n      <td>카카오</td>\n      <td>57500.0</td>\n      <td>2100.0</td>\n      <td>-3.52%</td>\n      <td>100.0</td>\n      <td>71068.0</td>\n      <td>229635.0</td>\n      <td>5803.0</td>\n      <td>NaN</td>\n      <td>NaN</td>\n      <td>NaN</td>\n      <td>NaN</td>\n    </tr>\n  </tbody>\n</table>\n</div>"
     },
     "execution_count": 83,
     "metadata": {},
     "output_type": "execute_result"
    }
   ],
   "source": [
    "df.head(20) \n",
    "# 데이터를 확인해보면 처음에 nan 있고 중간중간에 nan이 3줄씩 있음\n",
    "# 데이터를 정제해줘야함"
   ],
   "metadata": {
    "collapsed": false,
    "ExecuteTime": {
     "end_time": "2024-01-17T13:39:35.668419Z",
     "start_time": "2024-01-17T13:39:35.629126Z"
    }
   },
   "id": "fb36c0db44a99bc2",
   "execution_count": 83
  },
  {
   "cell_type": "code",
   "outputs": [],
   "source": [
    "df.dropna(axis=0,how='all',inplace=True)\n",
    "# 행기준으로 삭제, \n",
    "# how = 'all' => 모든 행이 NaN이면 삭제, any면 하나라도 NaN이면 삭제"
   ],
   "metadata": {
    "collapsed": false,
    "ExecuteTime": {
     "end_time": "2024-01-17T13:39:35.674670Z",
     "start_time": "2024-01-17T13:39:35.643697Z"
    }
   },
   "id": "5a7ad0b21ca0c01e",
   "execution_count": 84
  },
  {
   "cell_type": "markdown",
   "source": [],
   "metadata": {
    "collapsed": false
   },
   "id": "d9cc48bb02c5493e"
  },
  {
   "cell_type": "code",
   "outputs": [
    {
     "data": {
      "text/plain": "       N                  종목명       현재가      전일비     등락률     액면가        매출액  \\\n1    1.0                 삼성전자   71000.0   1600.0  -2.20%   100.0  3022314.0   \n2    2.0               SK하이닉스  131000.0   1100.0  -0.83%  5000.0   446216.0   \n3    3.0             LG에너지솔루션  390000.0  10500.0  -2.62%   500.0   255986.0   \n4    4.0             삼성바이오로직스  756000.0  10000.0  -1.31%  2500.0    30013.0   \n5    5.0                삼성전자우   58300.0    800.0  -1.35%   100.0        NaN   \n9    6.0                 셀트리온  178000.0   9500.0  -5.07%  1000.0    22840.0   \n10   7.0                  현대차  181800.0   4400.0  -2.36%  5000.0  1425275.0   \n11   8.0                NAVER  219000.0  11000.0  -4.78%   100.0    82201.0   \n12   9.0             POSCO홀딩스  419000.0  18500.0  -4.23%  5000.0   847502.0   \n13  10.0                   기아   87900.0   1900.0  -2.12%  5000.0   865590.0   \n17  11.0                 LG화학  408500.0  23500.0  -5.44%  5000.0   518649.0   \n18  12.0                삼성SDI  379000.0  16000.0  -4.05%  5000.0   201241.0   \n19  13.0                  카카오   57500.0   2100.0  -3.52%   100.0    71068.0   \n20  14.0               포스코퓨처엠  288500.0  15000.0  -4.94%   500.0    33019.0   \n21  15.0                 삼성물산  117000.0   2300.0  -1.93%   100.0   431617.0   \n25  16.0                 KB금융   49800.0   1300.0  -2.54%  5000.0   888959.0   \n26  17.0                현대모비스  205500.0   7500.0  -3.52%  5000.0   519063.0   \n27  18.0                 신한지주   36550.0    300.0  -0.81%  5000.0   354133.0   \n28  19.0               에코프로머티  226500.0   3000.0  +1.34%   500.0     6652.0   \n29  20.0                 LG전자   91300.0   3300.0  -3.49%  5000.0   834673.0   \n33  21.0                  HMM   20300.0    400.0  -1.93%  5000.0   185828.0   \n34  22.0                카카오뱅크   29000.0   1450.0  -4.76%  5000.0    16058.0   \n35  23.0              삼성에스디에스  165100.0   2600.0  -1.55%   500.0   172347.0   \n36  24.0                 삼성생명   61100.0   1300.0  -2.08%   500.0   403310.0   \n37  25.0                 한국전력   18980.0    260.0  -1.35%  5000.0   712579.0   \n41  26.0               하나금융지주   41300.0    250.0  -0.60%  5000.0   708438.0   \n42  27.0              메리츠금융지주   59000.0   2100.0  -3.44%   500.0   703656.0   \n43  28.0              SK이노베이션  117900.0   4500.0  -3.68%  5000.0   780569.0   \n44  29.0                 삼성화재  243500.0   6500.0  -2.60%   500.0   257844.0   \n45  30.0                   LG   72200.0   3000.0  -3.99%  5000.0    71860.0   \n49  31.0                 KT&G   84500.0   1100.0  -1.29%  5000.0    58514.0   \n50  32.0                   SK  153000.0   5200.0  -3.29%   200.0  1345516.0   \n51  33.0                SK텔레콤   49400.0    300.0  +0.61%   100.0   173050.0   \n52  34.0                 삼성전기  138600.0   7900.0  -5.39%  5000.0    94246.0   \n53  35.0              HD현대중공업  113900.0   5000.0  -4.21%  5000.0    90455.0   \n57  36.0                 고려아연  451500.0  12500.0  -2.69%  5000.0   112194.0   \n58  37.0               우리금융지주   12450.0     80.0  -0.64%  5000.0   423727.0   \n59  38.0              두산에너빌리티   14570.0    660.0  -4.33%  5000.0   154211.0   \n60  39.0                  하이브  223500.0   5000.0  -2.19%   500.0    17762.0   \n61  40.0                 기업은행   11580.0     10.0  +0.09%  5000.0   275361.0   \n65  41.0                 크래프톤  186000.0   9000.0  -4.62%   100.0    18540.0   \n66  42.0                포스코DX   58800.0    400.0  -0.68%   500.0    11527.0   \n67  43.0             포스코인터내셔널   50500.0   1100.0  -2.13%  5000.0   379896.0   \n68  44.0                   KT   33300.0    150.0  +0.45%  5000.0   256500.0   \n69  45.0                 대한항공   22100.0    550.0  -2.43%  5000.0   140961.0   \n73  46.0             HD한국조선해양  104400.0   4900.0  -4.48%  5000.0   173020.0   \n74  47.0                카카오페이   55000.0   1900.0  -3.34%   500.0     5217.0   \n75  48.0                S-Oil   64700.0    900.0  -1.37%  2500.0   424460.0   \n76  49.0  TIGER CD금리투자KIS(합성)   53670.0      5.0  +0.01%     0.0        NaN   \n77  50.0               아모레퍼시픽  121300.0   1500.0  -1.22%   500.0    41349.0   \n\n         자산총계      영업이익  토론실  Unnamed: 10  Unnamed: 11  Unnamed: 12  \n1   4484245.0  433766.0  NaN          NaN          NaN          NaN  \n2   1038715.0   68094.0  NaN          NaN          NaN          NaN  \n3    382994.0   12137.0  NaN          NaN          NaN          NaN  \n4    165821.0    9836.0  NaN          NaN          NaN          NaN  \n5         NaN       NaN  NaN          NaN          NaN          NaN  \n9     58917.0    6472.0  NaN          NaN          NaN          NaN  \n10  2557425.0   98198.0  NaN          NaN          NaN          NaN  \n11   338990.0   13047.0  NaN          NaN          NaN          NaN  \n12   984068.0   48501.0  NaN          NaN          NaN          NaN  \n13   737110.0   72331.0  NaN          NaN          NaN          NaN  \n17   679738.0   29957.0  NaN          NaN          NaN          NaN  \n18   302575.0   18080.0  NaN          NaN          NaN          NaN  \n19   229635.0    5803.0  NaN          NaN          NaN          NaN  \n20    46375.0    1659.0  NaN          NaN          NaN          NaN  \n21   589815.0   25285.0  NaN          NaN          NaN          NaN  \n25  7011708.0   56389.0  NaN          NaN          NaN          NaN  \n26   554067.0   20265.0  NaN          NaN          NaN          NaN  \n27  6758843.0   58881.0  NaN          NaN          NaN          NaN  \n28     6349.0     390.0  NaN          NaN          NaN          NaN  \n29   551561.0   35510.0  NaN          NaN          NaN          NaN  \n33   259735.0   99516.0  NaN          NaN          NaN          NaN  \n34   395161.0    3532.0  NaN          NaN          NaN          NaN  \n35   119524.0    9161.0  NaN          NaN          NaN          NaN  \n36  3161659.0   13866.0  NaN          NaN          NaN          NaN  \n37  2348050.0 -326552.0  NaN          NaN          NaN          NaN  \n41  5688732.0   46903.0  NaN          NaN          NaN          NaN  \n42   927572.0   22009.0  NaN          NaN          NaN          NaN  \n43   672189.0   39173.0  NaN          NaN          NaN          NaN  \n44   882243.0   16061.0  NaN          NaN          NaN          NaN  \n45   296337.0   19414.0  NaN          NaN          NaN          NaN  \n49   123017.0   12676.0  NaN          NaN          NaN          NaN  \n50  1945059.0   80047.0  NaN          NaN          NaN          NaN  \n51   313083.0   16121.0  NaN          NaN          NaN          NaN  \n52   109972.0   11828.0  NaN          NaN          NaN          NaN  \n53   162894.0   -2892.0  NaN          NaN          NaN          NaN  \n57   120979.0    9192.0  NaN          NaN          NaN          NaN  \n58  4804744.0   44305.0  NaN          NaN          NaN          NaN  \n59   230498.0   11061.0  NaN          NaN          NaN          NaN  \n60    48704.0    2369.0  NaN          NaN          NaN          NaN  \n61  4319797.0   37748.0  NaN          NaN          NaN          NaN  \n65    60303.0    7516.0  NaN          NaN          NaN          NaN  \n66     8516.0     647.0  NaN          NaN          NaN          NaN  \n67   125163.0    9025.0  NaN          NaN          NaN          NaN  \n68   409807.0   16901.0  NaN          NaN          NaN          NaN  \n69   289977.0   28306.0  NaN          NaN          NaN          NaN  \n73   298835.0   -3556.0  NaN          NaN          NaN          NaN  \n74    33315.0    -455.0  NaN          NaN          NaN          NaN  \n75   196131.0   34052.0  NaN          NaN          NaN          NaN  \n76        NaN       NaN  NaN          NaN          NaN          NaN  \n77    58018.0    2142.0  NaN          NaN          NaN          NaN  ",
      "text/html": "<div>\n<style scoped>\n    .dataframe tbody tr th:only-of-type {\n        vertical-align: middle;\n    }\n\n    .dataframe tbody tr th {\n        vertical-align: top;\n    }\n\n    .dataframe thead th {\n        text-align: right;\n    }\n</style>\n<table border=\"1\" class=\"dataframe\">\n  <thead>\n    <tr style=\"text-align: right;\">\n      <th></th>\n      <th>N</th>\n      <th>종목명</th>\n      <th>현재가</th>\n      <th>전일비</th>\n      <th>등락률</th>\n      <th>액면가</th>\n      <th>매출액</th>\n      <th>자산총계</th>\n      <th>영업이익</th>\n      <th>토론실</th>\n      <th>Unnamed: 10</th>\n      <th>Unnamed: 11</th>\n      <th>Unnamed: 12</th>\n    </tr>\n  </thead>\n  <tbody>\n    <tr>\n      <th>1</th>\n      <td>1.0</td>\n      <td>삼성전자</td>\n      <td>71000.0</td>\n      <td>1600.0</td>\n      <td>-2.20%</td>\n      <td>100.0</td>\n      <td>3022314.0</td>\n      <td>4484245.0</td>\n      <td>433766.0</td>\n      <td>NaN</td>\n      <td>NaN</td>\n      <td>NaN</td>\n      <td>NaN</td>\n    </tr>\n    <tr>\n      <th>2</th>\n      <td>2.0</td>\n      <td>SK하이닉스</td>\n      <td>131000.0</td>\n      <td>1100.0</td>\n      <td>-0.83%</td>\n      <td>5000.0</td>\n      <td>446216.0</td>\n      <td>1038715.0</td>\n      <td>68094.0</td>\n      <td>NaN</td>\n      <td>NaN</td>\n      <td>NaN</td>\n      <td>NaN</td>\n    </tr>\n    <tr>\n      <th>3</th>\n      <td>3.0</td>\n      <td>LG에너지솔루션</td>\n      <td>390000.0</td>\n      <td>10500.0</td>\n      <td>-2.62%</td>\n      <td>500.0</td>\n      <td>255986.0</td>\n      <td>382994.0</td>\n      <td>12137.0</td>\n      <td>NaN</td>\n      <td>NaN</td>\n      <td>NaN</td>\n      <td>NaN</td>\n    </tr>\n    <tr>\n      <th>4</th>\n      <td>4.0</td>\n      <td>삼성바이오로직스</td>\n      <td>756000.0</td>\n      <td>10000.0</td>\n      <td>-1.31%</td>\n      <td>2500.0</td>\n      <td>30013.0</td>\n      <td>165821.0</td>\n      <td>9836.0</td>\n      <td>NaN</td>\n      <td>NaN</td>\n      <td>NaN</td>\n      <td>NaN</td>\n    </tr>\n    <tr>\n      <th>5</th>\n      <td>5.0</td>\n      <td>삼성전자우</td>\n      <td>58300.0</td>\n      <td>800.0</td>\n      <td>-1.35%</td>\n      <td>100.0</td>\n      <td>NaN</td>\n      <td>NaN</td>\n      <td>NaN</td>\n      <td>NaN</td>\n      <td>NaN</td>\n      <td>NaN</td>\n      <td>NaN</td>\n    </tr>\n    <tr>\n      <th>9</th>\n      <td>6.0</td>\n      <td>셀트리온</td>\n      <td>178000.0</td>\n      <td>9500.0</td>\n      <td>-5.07%</td>\n      <td>1000.0</td>\n      <td>22840.0</td>\n      <td>58917.0</td>\n      <td>6472.0</td>\n      <td>NaN</td>\n      <td>NaN</td>\n      <td>NaN</td>\n      <td>NaN</td>\n    </tr>\n    <tr>\n      <th>10</th>\n      <td>7.0</td>\n      <td>현대차</td>\n      <td>181800.0</td>\n      <td>4400.0</td>\n      <td>-2.36%</td>\n      <td>5000.0</td>\n      <td>1425275.0</td>\n      <td>2557425.0</td>\n      <td>98198.0</td>\n      <td>NaN</td>\n      <td>NaN</td>\n      <td>NaN</td>\n      <td>NaN</td>\n    </tr>\n    <tr>\n      <th>11</th>\n      <td>8.0</td>\n      <td>NAVER</td>\n      <td>219000.0</td>\n      <td>11000.0</td>\n      <td>-4.78%</td>\n      <td>100.0</td>\n      <td>82201.0</td>\n      <td>338990.0</td>\n      <td>13047.0</td>\n      <td>NaN</td>\n      <td>NaN</td>\n      <td>NaN</td>\n      <td>NaN</td>\n    </tr>\n    <tr>\n      <th>12</th>\n      <td>9.0</td>\n      <td>POSCO홀딩스</td>\n      <td>419000.0</td>\n      <td>18500.0</td>\n      <td>-4.23%</td>\n      <td>5000.0</td>\n      <td>847502.0</td>\n      <td>984068.0</td>\n      <td>48501.0</td>\n      <td>NaN</td>\n      <td>NaN</td>\n      <td>NaN</td>\n      <td>NaN</td>\n    </tr>\n    <tr>\n      <th>13</th>\n      <td>10.0</td>\n      <td>기아</td>\n      <td>87900.0</td>\n      <td>1900.0</td>\n      <td>-2.12%</td>\n      <td>5000.0</td>\n      <td>865590.0</td>\n      <td>737110.0</td>\n      <td>72331.0</td>\n      <td>NaN</td>\n      <td>NaN</td>\n      <td>NaN</td>\n      <td>NaN</td>\n    </tr>\n    <tr>\n      <th>17</th>\n      <td>11.0</td>\n      <td>LG화학</td>\n      <td>408500.0</td>\n      <td>23500.0</td>\n      <td>-5.44%</td>\n      <td>5000.0</td>\n      <td>518649.0</td>\n      <td>679738.0</td>\n      <td>29957.0</td>\n      <td>NaN</td>\n      <td>NaN</td>\n      <td>NaN</td>\n      <td>NaN</td>\n    </tr>\n    <tr>\n      <th>18</th>\n      <td>12.0</td>\n      <td>삼성SDI</td>\n      <td>379000.0</td>\n      <td>16000.0</td>\n      <td>-4.05%</td>\n      <td>5000.0</td>\n      <td>201241.0</td>\n      <td>302575.0</td>\n      <td>18080.0</td>\n      <td>NaN</td>\n      <td>NaN</td>\n      <td>NaN</td>\n      <td>NaN</td>\n    </tr>\n    <tr>\n      <th>19</th>\n      <td>13.0</td>\n      <td>카카오</td>\n      <td>57500.0</td>\n      <td>2100.0</td>\n      <td>-3.52%</td>\n      <td>100.0</td>\n      <td>71068.0</td>\n      <td>229635.0</td>\n      <td>5803.0</td>\n      <td>NaN</td>\n      <td>NaN</td>\n      <td>NaN</td>\n      <td>NaN</td>\n    </tr>\n    <tr>\n      <th>20</th>\n      <td>14.0</td>\n      <td>포스코퓨처엠</td>\n      <td>288500.0</td>\n      <td>15000.0</td>\n      <td>-4.94%</td>\n      <td>500.0</td>\n      <td>33019.0</td>\n      <td>46375.0</td>\n      <td>1659.0</td>\n      <td>NaN</td>\n      <td>NaN</td>\n      <td>NaN</td>\n      <td>NaN</td>\n    </tr>\n    <tr>\n      <th>21</th>\n      <td>15.0</td>\n      <td>삼성물산</td>\n      <td>117000.0</td>\n      <td>2300.0</td>\n      <td>-1.93%</td>\n      <td>100.0</td>\n      <td>431617.0</td>\n      <td>589815.0</td>\n      <td>25285.0</td>\n      <td>NaN</td>\n      <td>NaN</td>\n      <td>NaN</td>\n      <td>NaN</td>\n    </tr>\n    <tr>\n      <th>25</th>\n      <td>16.0</td>\n      <td>KB금융</td>\n      <td>49800.0</td>\n      <td>1300.0</td>\n      <td>-2.54%</td>\n      <td>5000.0</td>\n      <td>888959.0</td>\n      <td>7011708.0</td>\n      <td>56389.0</td>\n      <td>NaN</td>\n      <td>NaN</td>\n      <td>NaN</td>\n      <td>NaN</td>\n    </tr>\n    <tr>\n      <th>26</th>\n      <td>17.0</td>\n      <td>현대모비스</td>\n      <td>205500.0</td>\n      <td>7500.0</td>\n      <td>-3.52%</td>\n      <td>5000.0</td>\n      <td>519063.0</td>\n      <td>554067.0</td>\n      <td>20265.0</td>\n      <td>NaN</td>\n      <td>NaN</td>\n      <td>NaN</td>\n      <td>NaN</td>\n    </tr>\n    <tr>\n      <th>27</th>\n      <td>18.0</td>\n      <td>신한지주</td>\n      <td>36550.0</td>\n      <td>300.0</td>\n      <td>-0.81%</td>\n      <td>5000.0</td>\n      <td>354133.0</td>\n      <td>6758843.0</td>\n      <td>58881.0</td>\n      <td>NaN</td>\n      <td>NaN</td>\n      <td>NaN</td>\n      <td>NaN</td>\n    </tr>\n    <tr>\n      <th>28</th>\n      <td>19.0</td>\n      <td>에코프로머티</td>\n      <td>226500.0</td>\n      <td>3000.0</td>\n      <td>+1.34%</td>\n      <td>500.0</td>\n      <td>6652.0</td>\n      <td>6349.0</td>\n      <td>390.0</td>\n      <td>NaN</td>\n      <td>NaN</td>\n      <td>NaN</td>\n      <td>NaN</td>\n    </tr>\n    <tr>\n      <th>29</th>\n      <td>20.0</td>\n      <td>LG전자</td>\n      <td>91300.0</td>\n      <td>3300.0</td>\n      <td>-3.49%</td>\n      <td>5000.0</td>\n      <td>834673.0</td>\n      <td>551561.0</td>\n      <td>35510.0</td>\n      <td>NaN</td>\n      <td>NaN</td>\n      <td>NaN</td>\n      <td>NaN</td>\n    </tr>\n    <tr>\n      <th>33</th>\n      <td>21.0</td>\n      <td>HMM</td>\n      <td>20300.0</td>\n      <td>400.0</td>\n      <td>-1.93%</td>\n      <td>5000.0</td>\n      <td>185828.0</td>\n      <td>259735.0</td>\n      <td>99516.0</td>\n      <td>NaN</td>\n      <td>NaN</td>\n      <td>NaN</td>\n      <td>NaN</td>\n    </tr>\n    <tr>\n      <th>34</th>\n      <td>22.0</td>\n      <td>카카오뱅크</td>\n      <td>29000.0</td>\n      <td>1450.0</td>\n      <td>-4.76%</td>\n      <td>5000.0</td>\n      <td>16058.0</td>\n      <td>395161.0</td>\n      <td>3532.0</td>\n      <td>NaN</td>\n      <td>NaN</td>\n      <td>NaN</td>\n      <td>NaN</td>\n    </tr>\n    <tr>\n      <th>35</th>\n      <td>23.0</td>\n      <td>삼성에스디에스</td>\n      <td>165100.0</td>\n      <td>2600.0</td>\n      <td>-1.55%</td>\n      <td>500.0</td>\n      <td>172347.0</td>\n      <td>119524.0</td>\n      <td>9161.0</td>\n      <td>NaN</td>\n      <td>NaN</td>\n      <td>NaN</td>\n      <td>NaN</td>\n    </tr>\n    <tr>\n      <th>36</th>\n      <td>24.0</td>\n      <td>삼성생명</td>\n      <td>61100.0</td>\n      <td>1300.0</td>\n      <td>-2.08%</td>\n      <td>500.0</td>\n      <td>403310.0</td>\n      <td>3161659.0</td>\n      <td>13866.0</td>\n      <td>NaN</td>\n      <td>NaN</td>\n      <td>NaN</td>\n      <td>NaN</td>\n    </tr>\n    <tr>\n      <th>37</th>\n      <td>25.0</td>\n      <td>한국전력</td>\n      <td>18980.0</td>\n      <td>260.0</td>\n      <td>-1.35%</td>\n      <td>5000.0</td>\n      <td>712579.0</td>\n      <td>2348050.0</td>\n      <td>-326552.0</td>\n      <td>NaN</td>\n      <td>NaN</td>\n      <td>NaN</td>\n      <td>NaN</td>\n    </tr>\n    <tr>\n      <th>41</th>\n      <td>26.0</td>\n      <td>하나금융지주</td>\n      <td>41300.0</td>\n      <td>250.0</td>\n      <td>-0.60%</td>\n      <td>5000.0</td>\n      <td>708438.0</td>\n      <td>5688732.0</td>\n      <td>46903.0</td>\n      <td>NaN</td>\n      <td>NaN</td>\n      <td>NaN</td>\n      <td>NaN</td>\n    </tr>\n    <tr>\n      <th>42</th>\n      <td>27.0</td>\n      <td>메리츠금융지주</td>\n      <td>59000.0</td>\n      <td>2100.0</td>\n      <td>-3.44%</td>\n      <td>500.0</td>\n      <td>703656.0</td>\n      <td>927572.0</td>\n      <td>22009.0</td>\n      <td>NaN</td>\n      <td>NaN</td>\n      <td>NaN</td>\n      <td>NaN</td>\n    </tr>\n    <tr>\n      <th>43</th>\n      <td>28.0</td>\n      <td>SK이노베이션</td>\n      <td>117900.0</td>\n      <td>4500.0</td>\n      <td>-3.68%</td>\n      <td>5000.0</td>\n      <td>780569.0</td>\n      <td>672189.0</td>\n      <td>39173.0</td>\n      <td>NaN</td>\n      <td>NaN</td>\n      <td>NaN</td>\n      <td>NaN</td>\n    </tr>\n    <tr>\n      <th>44</th>\n      <td>29.0</td>\n      <td>삼성화재</td>\n      <td>243500.0</td>\n      <td>6500.0</td>\n      <td>-2.60%</td>\n      <td>500.0</td>\n      <td>257844.0</td>\n      <td>882243.0</td>\n      <td>16061.0</td>\n      <td>NaN</td>\n      <td>NaN</td>\n      <td>NaN</td>\n      <td>NaN</td>\n    </tr>\n    <tr>\n      <th>45</th>\n      <td>30.0</td>\n      <td>LG</td>\n      <td>72200.0</td>\n      <td>3000.0</td>\n      <td>-3.99%</td>\n      <td>5000.0</td>\n      <td>71860.0</td>\n      <td>296337.0</td>\n      <td>19414.0</td>\n      <td>NaN</td>\n      <td>NaN</td>\n      <td>NaN</td>\n      <td>NaN</td>\n    </tr>\n    <tr>\n      <th>49</th>\n      <td>31.0</td>\n      <td>KT&amp;G</td>\n      <td>84500.0</td>\n      <td>1100.0</td>\n      <td>-1.29%</td>\n      <td>5000.0</td>\n      <td>58514.0</td>\n      <td>123017.0</td>\n      <td>12676.0</td>\n      <td>NaN</td>\n      <td>NaN</td>\n      <td>NaN</td>\n      <td>NaN</td>\n    </tr>\n    <tr>\n      <th>50</th>\n      <td>32.0</td>\n      <td>SK</td>\n      <td>153000.0</td>\n      <td>5200.0</td>\n      <td>-3.29%</td>\n      <td>200.0</td>\n      <td>1345516.0</td>\n      <td>1945059.0</td>\n      <td>80047.0</td>\n      <td>NaN</td>\n      <td>NaN</td>\n      <td>NaN</td>\n      <td>NaN</td>\n    </tr>\n    <tr>\n      <th>51</th>\n      <td>33.0</td>\n      <td>SK텔레콤</td>\n      <td>49400.0</td>\n      <td>300.0</td>\n      <td>+0.61%</td>\n      <td>100.0</td>\n      <td>173050.0</td>\n      <td>313083.0</td>\n      <td>16121.0</td>\n      <td>NaN</td>\n      <td>NaN</td>\n      <td>NaN</td>\n      <td>NaN</td>\n    </tr>\n    <tr>\n      <th>52</th>\n      <td>34.0</td>\n      <td>삼성전기</td>\n      <td>138600.0</td>\n      <td>7900.0</td>\n      <td>-5.39%</td>\n      <td>5000.0</td>\n      <td>94246.0</td>\n      <td>109972.0</td>\n      <td>11828.0</td>\n      <td>NaN</td>\n      <td>NaN</td>\n      <td>NaN</td>\n      <td>NaN</td>\n    </tr>\n    <tr>\n      <th>53</th>\n      <td>35.0</td>\n      <td>HD현대중공업</td>\n      <td>113900.0</td>\n      <td>5000.0</td>\n      <td>-4.21%</td>\n      <td>5000.0</td>\n      <td>90455.0</td>\n      <td>162894.0</td>\n      <td>-2892.0</td>\n      <td>NaN</td>\n      <td>NaN</td>\n      <td>NaN</td>\n      <td>NaN</td>\n    </tr>\n    <tr>\n      <th>57</th>\n      <td>36.0</td>\n      <td>고려아연</td>\n      <td>451500.0</td>\n      <td>12500.0</td>\n      <td>-2.69%</td>\n      <td>5000.0</td>\n      <td>112194.0</td>\n      <td>120979.0</td>\n      <td>9192.0</td>\n      <td>NaN</td>\n      <td>NaN</td>\n      <td>NaN</td>\n      <td>NaN</td>\n    </tr>\n    <tr>\n      <th>58</th>\n      <td>37.0</td>\n      <td>우리금융지주</td>\n      <td>12450.0</td>\n      <td>80.0</td>\n      <td>-0.64%</td>\n      <td>5000.0</td>\n      <td>423727.0</td>\n      <td>4804744.0</td>\n      <td>44305.0</td>\n      <td>NaN</td>\n      <td>NaN</td>\n      <td>NaN</td>\n      <td>NaN</td>\n    </tr>\n    <tr>\n      <th>59</th>\n      <td>38.0</td>\n      <td>두산에너빌리티</td>\n      <td>14570.0</td>\n      <td>660.0</td>\n      <td>-4.33%</td>\n      <td>5000.0</td>\n      <td>154211.0</td>\n      <td>230498.0</td>\n      <td>11061.0</td>\n      <td>NaN</td>\n      <td>NaN</td>\n      <td>NaN</td>\n      <td>NaN</td>\n    </tr>\n    <tr>\n      <th>60</th>\n      <td>39.0</td>\n      <td>하이브</td>\n      <td>223500.0</td>\n      <td>5000.0</td>\n      <td>-2.19%</td>\n      <td>500.0</td>\n      <td>17762.0</td>\n      <td>48704.0</td>\n      <td>2369.0</td>\n      <td>NaN</td>\n      <td>NaN</td>\n      <td>NaN</td>\n      <td>NaN</td>\n    </tr>\n    <tr>\n      <th>61</th>\n      <td>40.0</td>\n      <td>기업은행</td>\n      <td>11580.0</td>\n      <td>10.0</td>\n      <td>+0.09%</td>\n      <td>5000.0</td>\n      <td>275361.0</td>\n      <td>4319797.0</td>\n      <td>37748.0</td>\n      <td>NaN</td>\n      <td>NaN</td>\n      <td>NaN</td>\n      <td>NaN</td>\n    </tr>\n    <tr>\n      <th>65</th>\n      <td>41.0</td>\n      <td>크래프톤</td>\n      <td>186000.0</td>\n      <td>9000.0</td>\n      <td>-4.62%</td>\n      <td>100.0</td>\n      <td>18540.0</td>\n      <td>60303.0</td>\n      <td>7516.0</td>\n      <td>NaN</td>\n      <td>NaN</td>\n      <td>NaN</td>\n      <td>NaN</td>\n    </tr>\n    <tr>\n      <th>66</th>\n      <td>42.0</td>\n      <td>포스코DX</td>\n      <td>58800.0</td>\n      <td>400.0</td>\n      <td>-0.68%</td>\n      <td>500.0</td>\n      <td>11527.0</td>\n      <td>8516.0</td>\n      <td>647.0</td>\n      <td>NaN</td>\n      <td>NaN</td>\n      <td>NaN</td>\n      <td>NaN</td>\n    </tr>\n    <tr>\n      <th>67</th>\n      <td>43.0</td>\n      <td>포스코인터내셔널</td>\n      <td>50500.0</td>\n      <td>1100.0</td>\n      <td>-2.13%</td>\n      <td>5000.0</td>\n      <td>379896.0</td>\n      <td>125163.0</td>\n      <td>9025.0</td>\n      <td>NaN</td>\n      <td>NaN</td>\n      <td>NaN</td>\n      <td>NaN</td>\n    </tr>\n    <tr>\n      <th>68</th>\n      <td>44.0</td>\n      <td>KT</td>\n      <td>33300.0</td>\n      <td>150.0</td>\n      <td>+0.45%</td>\n      <td>5000.0</td>\n      <td>256500.0</td>\n      <td>409807.0</td>\n      <td>16901.0</td>\n      <td>NaN</td>\n      <td>NaN</td>\n      <td>NaN</td>\n      <td>NaN</td>\n    </tr>\n    <tr>\n      <th>69</th>\n      <td>45.0</td>\n      <td>대한항공</td>\n      <td>22100.0</td>\n      <td>550.0</td>\n      <td>-2.43%</td>\n      <td>5000.0</td>\n      <td>140961.0</td>\n      <td>289977.0</td>\n      <td>28306.0</td>\n      <td>NaN</td>\n      <td>NaN</td>\n      <td>NaN</td>\n      <td>NaN</td>\n    </tr>\n    <tr>\n      <th>73</th>\n      <td>46.0</td>\n      <td>HD한국조선해양</td>\n      <td>104400.0</td>\n      <td>4900.0</td>\n      <td>-4.48%</td>\n      <td>5000.0</td>\n      <td>173020.0</td>\n      <td>298835.0</td>\n      <td>-3556.0</td>\n      <td>NaN</td>\n      <td>NaN</td>\n      <td>NaN</td>\n      <td>NaN</td>\n    </tr>\n    <tr>\n      <th>74</th>\n      <td>47.0</td>\n      <td>카카오페이</td>\n      <td>55000.0</td>\n      <td>1900.0</td>\n      <td>-3.34%</td>\n      <td>500.0</td>\n      <td>5217.0</td>\n      <td>33315.0</td>\n      <td>-455.0</td>\n      <td>NaN</td>\n      <td>NaN</td>\n      <td>NaN</td>\n      <td>NaN</td>\n    </tr>\n    <tr>\n      <th>75</th>\n      <td>48.0</td>\n      <td>S-Oil</td>\n      <td>64700.0</td>\n      <td>900.0</td>\n      <td>-1.37%</td>\n      <td>2500.0</td>\n      <td>424460.0</td>\n      <td>196131.0</td>\n      <td>34052.0</td>\n      <td>NaN</td>\n      <td>NaN</td>\n      <td>NaN</td>\n      <td>NaN</td>\n    </tr>\n    <tr>\n      <th>76</th>\n      <td>49.0</td>\n      <td>TIGER CD금리투자KIS(합성)</td>\n      <td>53670.0</td>\n      <td>5.0</td>\n      <td>+0.01%</td>\n      <td>0.0</td>\n      <td>NaN</td>\n      <td>NaN</td>\n      <td>NaN</td>\n      <td>NaN</td>\n      <td>NaN</td>\n      <td>NaN</td>\n      <td>NaN</td>\n    </tr>\n    <tr>\n      <th>77</th>\n      <td>50.0</td>\n      <td>아모레퍼시픽</td>\n      <td>121300.0</td>\n      <td>1500.0</td>\n      <td>-1.22%</td>\n      <td>500.0</td>\n      <td>41349.0</td>\n      <td>58018.0</td>\n      <td>2142.0</td>\n      <td>NaN</td>\n      <td>NaN</td>\n      <td>NaN</td>\n      <td>NaN</td>\n    </tr>\n  </tbody>\n</table>\n</div>"
     },
     "execution_count": 85,
     "metadata": {},
     "output_type": "execute_result"
    }
   ],
   "source": [
    "df \n",
    "# 최대 6개까지 데이터를 갖고 있다고 생각했는데 3개만 골라서 3개는 빈 테이블이 있음\n",
    "# 이건 네이버 개발자가 이렇게 코드를 짜놔서 그럼. 그리고 토론실도 그냥 이동하는거라 비어있음\n",
    "# 따라서 이것도 데이터 정제를 해줘야함"
   ],
   "metadata": {
    "collapsed": false,
    "ExecuteTime": {
     "end_time": "2024-01-17T13:39:35.704085Z",
     "start_time": "2024-01-17T13:39:35.645423Z"
    }
   },
   "id": "37d89334c02685d0",
   "execution_count": 85
  },
  {
   "cell_type": "code",
   "outputs": [
    {
     "data": {
      "text/plain": "       N                  종목명       현재가      전일비     등락률     액면가        매출액  \\\n1    1.0                 삼성전자   71000.0   1600.0  -2.20%   100.0  3022314.0   \n2    2.0               SK하이닉스  131000.0   1100.0  -0.83%  5000.0   446216.0   \n3    3.0             LG에너지솔루션  390000.0  10500.0  -2.62%   500.0   255986.0   \n4    4.0             삼성바이오로직스  756000.0  10000.0  -1.31%  2500.0    30013.0   \n5    5.0                삼성전자우   58300.0    800.0  -1.35%   100.0        NaN   \n9    6.0                 셀트리온  178000.0   9500.0  -5.07%  1000.0    22840.0   \n10   7.0                  현대차  181800.0   4400.0  -2.36%  5000.0  1425275.0   \n11   8.0                NAVER  219000.0  11000.0  -4.78%   100.0    82201.0   \n12   9.0             POSCO홀딩스  419000.0  18500.0  -4.23%  5000.0   847502.0   \n13  10.0                   기아   87900.0   1900.0  -2.12%  5000.0   865590.0   \n17  11.0                 LG화학  408500.0  23500.0  -5.44%  5000.0   518649.0   \n18  12.0                삼성SDI  379000.0  16000.0  -4.05%  5000.0   201241.0   \n19  13.0                  카카오   57500.0   2100.0  -3.52%   100.0    71068.0   \n20  14.0               포스코퓨처엠  288500.0  15000.0  -4.94%   500.0    33019.0   \n21  15.0                 삼성물산  117000.0   2300.0  -1.93%   100.0   431617.0   \n25  16.0                 KB금융   49800.0   1300.0  -2.54%  5000.0   888959.0   \n26  17.0                현대모비스  205500.0   7500.0  -3.52%  5000.0   519063.0   \n27  18.0                 신한지주   36550.0    300.0  -0.81%  5000.0   354133.0   \n28  19.0               에코프로머티  226500.0   3000.0  +1.34%   500.0     6652.0   \n29  20.0                 LG전자   91300.0   3300.0  -3.49%  5000.0   834673.0   \n33  21.0                  HMM   20300.0    400.0  -1.93%  5000.0   185828.0   \n34  22.0                카카오뱅크   29000.0   1450.0  -4.76%  5000.0    16058.0   \n35  23.0              삼성에스디에스  165100.0   2600.0  -1.55%   500.0   172347.0   \n36  24.0                 삼성생명   61100.0   1300.0  -2.08%   500.0   403310.0   \n37  25.0                 한국전력   18980.0    260.0  -1.35%  5000.0   712579.0   \n41  26.0               하나금융지주   41300.0    250.0  -0.60%  5000.0   708438.0   \n42  27.0              메리츠금융지주   59000.0   2100.0  -3.44%   500.0   703656.0   \n43  28.0              SK이노베이션  117900.0   4500.0  -3.68%  5000.0   780569.0   \n44  29.0                 삼성화재  243500.0   6500.0  -2.60%   500.0   257844.0   \n45  30.0                   LG   72200.0   3000.0  -3.99%  5000.0    71860.0   \n49  31.0                 KT&G   84500.0   1100.0  -1.29%  5000.0    58514.0   \n50  32.0                   SK  153000.0   5200.0  -3.29%   200.0  1345516.0   \n51  33.0                SK텔레콤   49400.0    300.0  +0.61%   100.0   173050.0   \n52  34.0                 삼성전기  138600.0   7900.0  -5.39%  5000.0    94246.0   \n53  35.0              HD현대중공업  113900.0   5000.0  -4.21%  5000.0    90455.0   \n57  36.0                 고려아연  451500.0  12500.0  -2.69%  5000.0   112194.0   \n58  37.0               우리금융지주   12450.0     80.0  -0.64%  5000.0   423727.0   \n59  38.0              두산에너빌리티   14570.0    660.0  -4.33%  5000.0   154211.0   \n60  39.0                  하이브  223500.0   5000.0  -2.19%   500.0    17762.0   \n61  40.0                 기업은행   11580.0     10.0  +0.09%  5000.0   275361.0   \n65  41.0                 크래프톤  186000.0   9000.0  -4.62%   100.0    18540.0   \n66  42.0                포스코DX   58800.0    400.0  -0.68%   500.0    11527.0   \n67  43.0             포스코인터내셔널   50500.0   1100.0  -2.13%  5000.0   379896.0   \n68  44.0                   KT   33300.0    150.0  +0.45%  5000.0   256500.0   \n69  45.0                 대한항공   22100.0    550.0  -2.43%  5000.0   140961.0   \n73  46.0             HD한국조선해양  104400.0   4900.0  -4.48%  5000.0   173020.0   \n74  47.0                카카오페이   55000.0   1900.0  -3.34%   500.0     5217.0   \n75  48.0                S-Oil   64700.0    900.0  -1.37%  2500.0   424460.0   \n76  49.0  TIGER CD금리투자KIS(합성)   53670.0      5.0  +0.01%     0.0        NaN   \n77  50.0               아모레퍼시픽  121300.0   1500.0  -1.22%   500.0    41349.0   \n\n         자산총계      영업이익  \n1   4484245.0  433766.0  \n2   1038715.0   68094.0  \n3    382994.0   12137.0  \n4    165821.0    9836.0  \n5         NaN       NaN  \n9     58917.0    6472.0  \n10  2557425.0   98198.0  \n11   338990.0   13047.0  \n12   984068.0   48501.0  \n13   737110.0   72331.0  \n17   679738.0   29957.0  \n18   302575.0   18080.0  \n19   229635.0    5803.0  \n20    46375.0    1659.0  \n21   589815.0   25285.0  \n25  7011708.0   56389.0  \n26   554067.0   20265.0  \n27  6758843.0   58881.0  \n28     6349.0     390.0  \n29   551561.0   35510.0  \n33   259735.0   99516.0  \n34   395161.0    3532.0  \n35   119524.0    9161.0  \n36  3161659.0   13866.0  \n37  2348050.0 -326552.0  \n41  5688732.0   46903.0  \n42   927572.0   22009.0  \n43   672189.0   39173.0  \n44   882243.0   16061.0  \n45   296337.0   19414.0  \n49   123017.0   12676.0  \n50  1945059.0   80047.0  \n51   313083.0   16121.0  \n52   109972.0   11828.0  \n53   162894.0   -2892.0  \n57   120979.0    9192.0  \n58  4804744.0   44305.0  \n59   230498.0   11061.0  \n60    48704.0    2369.0  \n61  4319797.0   37748.0  \n65    60303.0    7516.0  \n66     8516.0     647.0  \n67   125163.0    9025.0  \n68   409807.0   16901.0  \n69   289977.0   28306.0  \n73   298835.0   -3556.0  \n74    33315.0    -455.0  \n75   196131.0   34052.0  \n76        NaN       NaN  \n77    58018.0    2142.0  ",
      "text/html": "<div>\n<style scoped>\n    .dataframe tbody tr th:only-of-type {\n        vertical-align: middle;\n    }\n\n    .dataframe tbody tr th {\n        vertical-align: top;\n    }\n\n    .dataframe thead th {\n        text-align: right;\n    }\n</style>\n<table border=\"1\" class=\"dataframe\">\n  <thead>\n    <tr style=\"text-align: right;\">\n      <th></th>\n      <th>N</th>\n      <th>종목명</th>\n      <th>현재가</th>\n      <th>전일비</th>\n      <th>등락률</th>\n      <th>액면가</th>\n      <th>매출액</th>\n      <th>자산총계</th>\n      <th>영업이익</th>\n    </tr>\n  </thead>\n  <tbody>\n    <tr>\n      <th>1</th>\n      <td>1.0</td>\n      <td>삼성전자</td>\n      <td>71000.0</td>\n      <td>1600.0</td>\n      <td>-2.20%</td>\n      <td>100.0</td>\n      <td>3022314.0</td>\n      <td>4484245.0</td>\n      <td>433766.0</td>\n    </tr>\n    <tr>\n      <th>2</th>\n      <td>2.0</td>\n      <td>SK하이닉스</td>\n      <td>131000.0</td>\n      <td>1100.0</td>\n      <td>-0.83%</td>\n      <td>5000.0</td>\n      <td>446216.0</td>\n      <td>1038715.0</td>\n      <td>68094.0</td>\n    </tr>\n    <tr>\n      <th>3</th>\n      <td>3.0</td>\n      <td>LG에너지솔루션</td>\n      <td>390000.0</td>\n      <td>10500.0</td>\n      <td>-2.62%</td>\n      <td>500.0</td>\n      <td>255986.0</td>\n      <td>382994.0</td>\n      <td>12137.0</td>\n    </tr>\n    <tr>\n      <th>4</th>\n      <td>4.0</td>\n      <td>삼성바이오로직스</td>\n      <td>756000.0</td>\n      <td>10000.0</td>\n      <td>-1.31%</td>\n      <td>2500.0</td>\n      <td>30013.0</td>\n      <td>165821.0</td>\n      <td>9836.0</td>\n    </tr>\n    <tr>\n      <th>5</th>\n      <td>5.0</td>\n      <td>삼성전자우</td>\n      <td>58300.0</td>\n      <td>800.0</td>\n      <td>-1.35%</td>\n      <td>100.0</td>\n      <td>NaN</td>\n      <td>NaN</td>\n      <td>NaN</td>\n    </tr>\n    <tr>\n      <th>9</th>\n      <td>6.0</td>\n      <td>셀트리온</td>\n      <td>178000.0</td>\n      <td>9500.0</td>\n      <td>-5.07%</td>\n      <td>1000.0</td>\n      <td>22840.0</td>\n      <td>58917.0</td>\n      <td>6472.0</td>\n    </tr>\n    <tr>\n      <th>10</th>\n      <td>7.0</td>\n      <td>현대차</td>\n      <td>181800.0</td>\n      <td>4400.0</td>\n      <td>-2.36%</td>\n      <td>5000.0</td>\n      <td>1425275.0</td>\n      <td>2557425.0</td>\n      <td>98198.0</td>\n    </tr>\n    <tr>\n      <th>11</th>\n      <td>8.0</td>\n      <td>NAVER</td>\n      <td>219000.0</td>\n      <td>11000.0</td>\n      <td>-4.78%</td>\n      <td>100.0</td>\n      <td>82201.0</td>\n      <td>338990.0</td>\n      <td>13047.0</td>\n    </tr>\n    <tr>\n      <th>12</th>\n      <td>9.0</td>\n      <td>POSCO홀딩스</td>\n      <td>419000.0</td>\n      <td>18500.0</td>\n      <td>-4.23%</td>\n      <td>5000.0</td>\n      <td>847502.0</td>\n      <td>984068.0</td>\n      <td>48501.0</td>\n    </tr>\n    <tr>\n      <th>13</th>\n      <td>10.0</td>\n      <td>기아</td>\n      <td>87900.0</td>\n      <td>1900.0</td>\n      <td>-2.12%</td>\n      <td>5000.0</td>\n      <td>865590.0</td>\n      <td>737110.0</td>\n      <td>72331.0</td>\n    </tr>\n    <tr>\n      <th>17</th>\n      <td>11.0</td>\n      <td>LG화학</td>\n      <td>408500.0</td>\n      <td>23500.0</td>\n      <td>-5.44%</td>\n      <td>5000.0</td>\n      <td>518649.0</td>\n      <td>679738.0</td>\n      <td>29957.0</td>\n    </tr>\n    <tr>\n      <th>18</th>\n      <td>12.0</td>\n      <td>삼성SDI</td>\n      <td>379000.0</td>\n      <td>16000.0</td>\n      <td>-4.05%</td>\n      <td>5000.0</td>\n      <td>201241.0</td>\n      <td>302575.0</td>\n      <td>18080.0</td>\n    </tr>\n    <tr>\n      <th>19</th>\n      <td>13.0</td>\n      <td>카카오</td>\n      <td>57500.0</td>\n      <td>2100.0</td>\n      <td>-3.52%</td>\n      <td>100.0</td>\n      <td>71068.0</td>\n      <td>229635.0</td>\n      <td>5803.0</td>\n    </tr>\n    <tr>\n      <th>20</th>\n      <td>14.0</td>\n      <td>포스코퓨처엠</td>\n      <td>288500.0</td>\n      <td>15000.0</td>\n      <td>-4.94%</td>\n      <td>500.0</td>\n      <td>33019.0</td>\n      <td>46375.0</td>\n      <td>1659.0</td>\n    </tr>\n    <tr>\n      <th>21</th>\n      <td>15.0</td>\n      <td>삼성물산</td>\n      <td>117000.0</td>\n      <td>2300.0</td>\n      <td>-1.93%</td>\n      <td>100.0</td>\n      <td>431617.0</td>\n      <td>589815.0</td>\n      <td>25285.0</td>\n    </tr>\n    <tr>\n      <th>25</th>\n      <td>16.0</td>\n      <td>KB금융</td>\n      <td>49800.0</td>\n      <td>1300.0</td>\n      <td>-2.54%</td>\n      <td>5000.0</td>\n      <td>888959.0</td>\n      <td>7011708.0</td>\n      <td>56389.0</td>\n    </tr>\n    <tr>\n      <th>26</th>\n      <td>17.0</td>\n      <td>현대모비스</td>\n      <td>205500.0</td>\n      <td>7500.0</td>\n      <td>-3.52%</td>\n      <td>5000.0</td>\n      <td>519063.0</td>\n      <td>554067.0</td>\n      <td>20265.0</td>\n    </tr>\n    <tr>\n      <th>27</th>\n      <td>18.0</td>\n      <td>신한지주</td>\n      <td>36550.0</td>\n      <td>300.0</td>\n      <td>-0.81%</td>\n      <td>5000.0</td>\n      <td>354133.0</td>\n      <td>6758843.0</td>\n      <td>58881.0</td>\n    </tr>\n    <tr>\n      <th>28</th>\n      <td>19.0</td>\n      <td>에코프로머티</td>\n      <td>226500.0</td>\n      <td>3000.0</td>\n      <td>+1.34%</td>\n      <td>500.0</td>\n      <td>6652.0</td>\n      <td>6349.0</td>\n      <td>390.0</td>\n    </tr>\n    <tr>\n      <th>29</th>\n      <td>20.0</td>\n      <td>LG전자</td>\n      <td>91300.0</td>\n      <td>3300.0</td>\n      <td>-3.49%</td>\n      <td>5000.0</td>\n      <td>834673.0</td>\n      <td>551561.0</td>\n      <td>35510.0</td>\n    </tr>\n    <tr>\n      <th>33</th>\n      <td>21.0</td>\n      <td>HMM</td>\n      <td>20300.0</td>\n      <td>400.0</td>\n      <td>-1.93%</td>\n      <td>5000.0</td>\n      <td>185828.0</td>\n      <td>259735.0</td>\n      <td>99516.0</td>\n    </tr>\n    <tr>\n      <th>34</th>\n      <td>22.0</td>\n      <td>카카오뱅크</td>\n      <td>29000.0</td>\n      <td>1450.0</td>\n      <td>-4.76%</td>\n      <td>5000.0</td>\n      <td>16058.0</td>\n      <td>395161.0</td>\n      <td>3532.0</td>\n    </tr>\n    <tr>\n      <th>35</th>\n      <td>23.0</td>\n      <td>삼성에스디에스</td>\n      <td>165100.0</td>\n      <td>2600.0</td>\n      <td>-1.55%</td>\n      <td>500.0</td>\n      <td>172347.0</td>\n      <td>119524.0</td>\n      <td>9161.0</td>\n    </tr>\n    <tr>\n      <th>36</th>\n      <td>24.0</td>\n      <td>삼성생명</td>\n      <td>61100.0</td>\n      <td>1300.0</td>\n      <td>-2.08%</td>\n      <td>500.0</td>\n      <td>403310.0</td>\n      <td>3161659.0</td>\n      <td>13866.0</td>\n    </tr>\n    <tr>\n      <th>37</th>\n      <td>25.0</td>\n      <td>한국전력</td>\n      <td>18980.0</td>\n      <td>260.0</td>\n      <td>-1.35%</td>\n      <td>5000.0</td>\n      <td>712579.0</td>\n      <td>2348050.0</td>\n      <td>-326552.0</td>\n    </tr>\n    <tr>\n      <th>41</th>\n      <td>26.0</td>\n      <td>하나금융지주</td>\n      <td>41300.0</td>\n      <td>250.0</td>\n      <td>-0.60%</td>\n      <td>5000.0</td>\n      <td>708438.0</td>\n      <td>5688732.0</td>\n      <td>46903.0</td>\n    </tr>\n    <tr>\n      <th>42</th>\n      <td>27.0</td>\n      <td>메리츠금융지주</td>\n      <td>59000.0</td>\n      <td>2100.0</td>\n      <td>-3.44%</td>\n      <td>500.0</td>\n      <td>703656.0</td>\n      <td>927572.0</td>\n      <td>22009.0</td>\n    </tr>\n    <tr>\n      <th>43</th>\n      <td>28.0</td>\n      <td>SK이노베이션</td>\n      <td>117900.0</td>\n      <td>4500.0</td>\n      <td>-3.68%</td>\n      <td>5000.0</td>\n      <td>780569.0</td>\n      <td>672189.0</td>\n      <td>39173.0</td>\n    </tr>\n    <tr>\n      <th>44</th>\n      <td>29.0</td>\n      <td>삼성화재</td>\n      <td>243500.0</td>\n      <td>6500.0</td>\n      <td>-2.60%</td>\n      <td>500.0</td>\n      <td>257844.0</td>\n      <td>882243.0</td>\n      <td>16061.0</td>\n    </tr>\n    <tr>\n      <th>45</th>\n      <td>30.0</td>\n      <td>LG</td>\n      <td>72200.0</td>\n      <td>3000.0</td>\n      <td>-3.99%</td>\n      <td>5000.0</td>\n      <td>71860.0</td>\n      <td>296337.0</td>\n      <td>19414.0</td>\n    </tr>\n    <tr>\n      <th>49</th>\n      <td>31.0</td>\n      <td>KT&amp;G</td>\n      <td>84500.0</td>\n      <td>1100.0</td>\n      <td>-1.29%</td>\n      <td>5000.0</td>\n      <td>58514.0</td>\n      <td>123017.0</td>\n      <td>12676.0</td>\n    </tr>\n    <tr>\n      <th>50</th>\n      <td>32.0</td>\n      <td>SK</td>\n      <td>153000.0</td>\n      <td>5200.0</td>\n      <td>-3.29%</td>\n      <td>200.0</td>\n      <td>1345516.0</td>\n      <td>1945059.0</td>\n      <td>80047.0</td>\n    </tr>\n    <tr>\n      <th>51</th>\n      <td>33.0</td>\n      <td>SK텔레콤</td>\n      <td>49400.0</td>\n      <td>300.0</td>\n      <td>+0.61%</td>\n      <td>100.0</td>\n      <td>173050.0</td>\n      <td>313083.0</td>\n      <td>16121.0</td>\n    </tr>\n    <tr>\n      <th>52</th>\n      <td>34.0</td>\n      <td>삼성전기</td>\n      <td>138600.0</td>\n      <td>7900.0</td>\n      <td>-5.39%</td>\n      <td>5000.0</td>\n      <td>94246.0</td>\n      <td>109972.0</td>\n      <td>11828.0</td>\n    </tr>\n    <tr>\n      <th>53</th>\n      <td>35.0</td>\n      <td>HD현대중공업</td>\n      <td>113900.0</td>\n      <td>5000.0</td>\n      <td>-4.21%</td>\n      <td>5000.0</td>\n      <td>90455.0</td>\n      <td>162894.0</td>\n      <td>-2892.0</td>\n    </tr>\n    <tr>\n      <th>57</th>\n      <td>36.0</td>\n      <td>고려아연</td>\n      <td>451500.0</td>\n      <td>12500.0</td>\n      <td>-2.69%</td>\n      <td>5000.0</td>\n      <td>112194.0</td>\n      <td>120979.0</td>\n      <td>9192.0</td>\n    </tr>\n    <tr>\n      <th>58</th>\n      <td>37.0</td>\n      <td>우리금융지주</td>\n      <td>12450.0</td>\n      <td>80.0</td>\n      <td>-0.64%</td>\n      <td>5000.0</td>\n      <td>423727.0</td>\n      <td>4804744.0</td>\n      <td>44305.0</td>\n    </tr>\n    <tr>\n      <th>59</th>\n      <td>38.0</td>\n      <td>두산에너빌리티</td>\n      <td>14570.0</td>\n      <td>660.0</td>\n      <td>-4.33%</td>\n      <td>5000.0</td>\n      <td>154211.0</td>\n      <td>230498.0</td>\n      <td>11061.0</td>\n    </tr>\n    <tr>\n      <th>60</th>\n      <td>39.0</td>\n      <td>하이브</td>\n      <td>223500.0</td>\n      <td>5000.0</td>\n      <td>-2.19%</td>\n      <td>500.0</td>\n      <td>17762.0</td>\n      <td>48704.0</td>\n      <td>2369.0</td>\n    </tr>\n    <tr>\n      <th>61</th>\n      <td>40.0</td>\n      <td>기업은행</td>\n      <td>11580.0</td>\n      <td>10.0</td>\n      <td>+0.09%</td>\n      <td>5000.0</td>\n      <td>275361.0</td>\n      <td>4319797.0</td>\n      <td>37748.0</td>\n    </tr>\n    <tr>\n      <th>65</th>\n      <td>41.0</td>\n      <td>크래프톤</td>\n      <td>186000.0</td>\n      <td>9000.0</td>\n      <td>-4.62%</td>\n      <td>100.0</td>\n      <td>18540.0</td>\n      <td>60303.0</td>\n      <td>7516.0</td>\n    </tr>\n    <tr>\n      <th>66</th>\n      <td>42.0</td>\n      <td>포스코DX</td>\n      <td>58800.0</td>\n      <td>400.0</td>\n      <td>-0.68%</td>\n      <td>500.0</td>\n      <td>11527.0</td>\n      <td>8516.0</td>\n      <td>647.0</td>\n    </tr>\n    <tr>\n      <th>67</th>\n      <td>43.0</td>\n      <td>포스코인터내셔널</td>\n      <td>50500.0</td>\n      <td>1100.0</td>\n      <td>-2.13%</td>\n      <td>5000.0</td>\n      <td>379896.0</td>\n      <td>125163.0</td>\n      <td>9025.0</td>\n    </tr>\n    <tr>\n      <th>68</th>\n      <td>44.0</td>\n      <td>KT</td>\n      <td>33300.0</td>\n      <td>150.0</td>\n      <td>+0.45%</td>\n      <td>5000.0</td>\n      <td>256500.0</td>\n      <td>409807.0</td>\n      <td>16901.0</td>\n    </tr>\n    <tr>\n      <th>69</th>\n      <td>45.0</td>\n      <td>대한항공</td>\n      <td>22100.0</td>\n      <td>550.0</td>\n      <td>-2.43%</td>\n      <td>5000.0</td>\n      <td>140961.0</td>\n      <td>289977.0</td>\n      <td>28306.0</td>\n    </tr>\n    <tr>\n      <th>73</th>\n      <td>46.0</td>\n      <td>HD한국조선해양</td>\n      <td>104400.0</td>\n      <td>4900.0</td>\n      <td>-4.48%</td>\n      <td>5000.0</td>\n      <td>173020.0</td>\n      <td>298835.0</td>\n      <td>-3556.0</td>\n    </tr>\n    <tr>\n      <th>74</th>\n      <td>47.0</td>\n      <td>카카오페이</td>\n      <td>55000.0</td>\n      <td>1900.0</td>\n      <td>-3.34%</td>\n      <td>500.0</td>\n      <td>5217.0</td>\n      <td>33315.0</td>\n      <td>-455.0</td>\n    </tr>\n    <tr>\n      <th>75</th>\n      <td>48.0</td>\n      <td>S-Oil</td>\n      <td>64700.0</td>\n      <td>900.0</td>\n      <td>-1.37%</td>\n      <td>2500.0</td>\n      <td>424460.0</td>\n      <td>196131.0</td>\n      <td>34052.0</td>\n    </tr>\n    <tr>\n      <th>76</th>\n      <td>49.0</td>\n      <td>TIGER CD금리투자KIS(합성)</td>\n      <td>53670.0</td>\n      <td>5.0</td>\n      <td>+0.01%</td>\n      <td>0.0</td>\n      <td>NaN</td>\n      <td>NaN</td>\n      <td>NaN</td>\n    </tr>\n    <tr>\n      <th>77</th>\n      <td>50.0</td>\n      <td>아모레퍼시픽</td>\n      <td>121300.0</td>\n      <td>1500.0</td>\n      <td>-1.22%</td>\n      <td>500.0</td>\n      <td>41349.0</td>\n      <td>58018.0</td>\n      <td>2142.0</td>\n    </tr>\n  </tbody>\n</table>\n</div>"
     },
     "execution_count": 86,
     "metadata": {},
     "output_type": "execute_result"
    }
   ],
   "source": [
    "df.dropna(axis=1,how='all',inplace=True)\n",
    "df"
   ],
   "metadata": {
    "collapsed": false,
    "ExecuteTime": {
     "end_time": "2024-01-17T13:39:35.707037Z",
     "start_time": "2024-01-17T13:39:35.675122Z"
    }
   },
   "id": "d1d938a5cc9fa7ba",
   "execution_count": 86
  },
  {
   "cell_type": "code",
   "outputs": [],
   "source": [
    "# 데이터를 처음에 받아올때는 위에 종목명 현재가 같은 헤더 부분을 가져오고\n",
    "# 2페이지부터는 헤더를 제외하고 가져오면 됨\n",
    "\n",
    "# 파일 저장\n",
    "# f_name = 'sise.csv'\n",
    "# if os.path.exists(f_name): #파일이 있다면? 헤더 제외\n",
    "#     df.to_csv(f_name,encoding='utf-8-sig',index=False,mode='a',header=False)\n",
    "#     # mode = 'a' => append 뒤에 추가해라라는 의미\n",
    "# else : # 파일이 없다면\n",
    "#     df.to_csv(f_name,encoding='utf-8-sig',index=False)\n",
    "#     # 아무것도 안적어주면 쓰기모드에 헤더를 넣어줌\n",
    "# print(f'{idx} 페이지 완료')\n",
    "\n"
   ],
   "metadata": {
    "collapsed": false,
    "ExecuteTime": {
     "end_time": "2024-01-17T13:39:35.719991Z",
     "start_time": "2024-01-17T13:39:35.678310Z"
    }
   },
   "id": "211c9d129eb13484",
   "execution_count": 87
  },
  {
   "cell_type": "code",
   "outputs": [
    {
     "name": "stdout",
     "output_type": "stream",
     "text": [
      "1 페이지 완료\n"
     ]
    }
   ],
   "source": [
    "# 실제로 반복을 돌 부분\n",
    "f_name = 'sise.csv'\n",
    "\n",
    "for idx in range(1,40):\n",
    "    # 사전 작업 : 페이지 이동\n",
    "    browser.get(url + str(idx))\n",
    "    \n",
    "    df = pd.read_html(browser.page_source)[1]\n",
    "    df.dropna(axis=0,how='all',inplace=True)\n",
    "    df.dropna(axis=1,how='all',inplace=True)\n",
    "    \n",
    "     # 만약 df가 비어있으면 반복문 탈출\n",
    "    if len(df) == 0:\n",
    "        break\n",
    "    \n",
    "    \n",
    "    \n",
    "    # 파일 저장\n",
    "    if os.path.exists(f_name): #파일이 있다면? 헤더 제외\n",
    "        df.to_csv(f_name,encoding='utf-8-sig',index=False,mode='a',header=False)\n",
    "        # mode = 'a' => append 뒤에 추가해라라는 의미\n",
    "    else : # 파일이 없다면\n",
    "        df.to_csv(f_name,encoding='utf-8-sig',index=False)\n",
    "        #아무것도 안적어주면 쓰기모드에 헤더를 넣어줌  \n",
    "        print(f'{idx} 페이지 완료')\n",
    "\n",
    "browser.close()"
   ],
   "metadata": {
    "collapsed": false,
    "ExecuteTime": {
     "end_time": "2024-01-17T13:39:50.793460Z",
     "start_time": "2024-01-17T13:39:35.682174Z"
    }
   },
   "id": "393f8633203f6e1a",
   "execution_count": 88
  }
 ],
 "metadata": {
  "kernelspec": {
   "display_name": "Python 3",
   "language": "python",
   "name": "python3"
  },
  "language_info": {
   "codemirror_mode": {
    "name": "ipython",
    "version": 2
   },
   "file_extension": ".py",
   "mimetype": "text/x-python",
   "name": "python",
   "nbconvert_exporter": "python",
   "pygments_lexer": "ipython2",
   "version": "2.7.6"
  }
 },
 "nbformat": 4,
 "nbformat_minor": 5
}
